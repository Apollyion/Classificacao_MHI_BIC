{
 "cells": [
  {
   "cell_type": "code",
   "execution_count": 2,
   "metadata": {
    "collapsed": true,
    "ExecuteTime": {
     "end_time": "2023-06-30T23:53:46.399265700Z",
     "start_time": "2023-06-30T23:53:46.381263800Z"
    }
   },
   "outputs": [],
   "source": [
    "#importar as bibliotecas necessarias para gerar os graficos\n",
    "import pandas as pd\n",
    "import matplotlib.pyplot as plt\n",
    "import seaborn as sns\n",
    "import numpy as np\n"
   ]
  },
  {
   "cell_type": "code",
   "execution_count": 10,
   "outputs": [
    {
     "data": {
      "text/plain": "<Figure size 432x288 with 1 Axes>",
      "image/png": "[encoded data removed]"
     },
     "metadata": {
      "needs_background": "light"
     },
     "output_type": "display_data"
    },
    {
     "data": {
      "text/plain": "    Modelo  Acurácia\n0       RF  0.680000\n1      SVM  0.725714\n2      MLP  0.714286\n3  XGBoost  0.742857",
      "text/html": "<div>\n<style scoped>\n    .dataframe tbody tr th:only-of-type {\n        vertical-align: middle;\n    }\n\n    .dataframe tbody tr th {\n        vertical-align: top;\n    }\n\n    .dataframe thead th {\n        text-align: right;\n    }\n</style>\n<table border=\"1\" class=\"dataframe\">\n  <thead>\n    <tr style=\"text-align: right;\">\n      <th></th>\n      <th>Modelo</th>\n      <th>Acurácia</th>\n    </tr>\n  </thead>\n  <tbody>\n    <tr>\n      <th>0</th>\n      <td>RF</td>\n      <td>0.680000</td>\n    </tr>\n    <tr>\n      <th>1</th>\n      <td>SVM</td>\n      <td>0.725714</td>\n    </tr>\n    <tr>\n      <th>2</th>\n      <td>MLP</td>\n      <td>0.714286</td>\n    </tr>\n    <tr>\n      <th>3</th>\n      <td>XGBoost</td>\n      <td>0.742857</td>\n    </tr>\n  </tbody>\n</table>\n</div>"
     },
     "execution_count": 10,
     "metadata": {},
     "output_type": "execute_result"
    }
   ],
   "source": [
    "# importar o arquivo csv em um dataframe e gerar um grafico de barras com sns onde cada barra representa um modelo que segue a ordem: RF, SVM, MLP, XGBoost\n",
    "\n",
    "df_resultado = pd.read_csv('data6_table_XGBoost.csv')\n",
    "#Adiciona uma coluna com o nome do modelo\n",
    "df_resultado['Modelo'] = ['RF', 'SVM', 'MLP', 'XGBoost']\n",
    "sns.barplot(x='Modelo', y='Acurácia', data=df_resultado)\n",
    "plt.show(\"Desempenho dos modelos\")\n",
    "%matplotlib inline\n",
    "\n",
    "# Imprime o dataframe invertendo a primeira e a ultima coluna\n",
    "df_resultado.iloc[:, ::-1]\n"
   ],
   "metadata": {
    "collapsed": false,
    "ExecuteTime": {
     "end_time": "2023-06-30T23:58:50.059432Z",
     "start_time": "2023-06-30T23:58:49.449200800Z"
    }
   }
  },
  {
   "cell_type": "code",
   "execution_count": 25,
   "outputs": [
    {
     "data": {
      "text/plain": "<Figure size 720x576 with 1 Axes>",
      "image/png": "[encoded data removed]"
     },
     "metadata": {},
     "output_type": "display_data"
    },
    {
     "name": "stdout",
     "output_type": "stream",
     "text": [
      "Tabela de Melhores Desempenhos:\n",
      "       Desempenho\n",
      "Data1    0.702949\n",
      "Data2    0.801668\n",
      "Data3    0.793635\n",
      "Data4    0.698404\n",
      "Data5    0.772959\n"
     ]
    }
   ],
   "source": [
    "# Gerar um grafico de barras com sns onde cada barra representa o desemepnho de uma base após a seleção de atributos, Data1, Data2, Data3, Data4, Data5.\n",
    "\n",
    "# Importar os varios arquivos csv em dataframes pegando a terceira coluna e gerando um dataframe com os resultados de cada base\n",
    "import pandas as pd\n",
    "import seaborn as sns\n",
    "import matplotlib.pyplot as plt\n",
    "\n",
    "def gerar_grafico_desempenho(dataframes, tipo_selecao):\n",
    "    # Criar um dicionário para armazenar os melhores desempenhos de cada base\n",
    "    melhores_desempenhos = {}\n",
    "\n",
    "    # Calcular o maior desempenho presente na coluna 3 de cada dataframe\n",
    "    for i, df in enumerate(dataframes):\n",
    "        melhores_desempenhos[f'Data{i+1}'] = df.iloc[:, 2].max()\n",
    "\n",
    "    # Criar um dataframe com os melhores desempenhos\n",
    "    df_melhores_desempenhos = pd.DataFrame.from_dict(melhores_desempenhos, orient='index', columns=['Desempenho'])\n",
    "\n",
    "    # Configurar o estilo do gráfico\n",
    "    sns.set(style=\"whitegrid\")\n",
    "\n",
    "    # Gerar o gráfico de barras\n",
    "    plt.figure(figsize=(10, 8))  # Definir tamanho da figura\n",
    "    sns.barplot(data=df_melhores_desempenhos, x=df_melhores_desempenhos.index, y='Desempenho')  # Gerar o gráfico de barras\n",
    "    plt.xlabel('Bases')  # Definir o rótulo do eixo x\n",
    "    plt.ylabel('Desempenho')  # Definir o rótulo do eixo y\n",
    "    plt.title('Desempenho após a seleção de atributos')  # Definir o título do gráfico\n",
    "\n",
    "    # Adicionar o tipo de seleção de atributos acima do gráfico\n",
    "    plt.text(0.5, 1.1, f'Tipo de seleção: {tipo_selecao}', ha='center', va='center', transform=plt.gca().transAxes)\n",
    "\n",
    "    plt.show()  # Mostrar o gráfico\n",
    "\n",
    "    # Imprimir a tabela com os melhores desempenhos\n",
    "    print(\"Tabela de Melhores Desempenhos:\")\n",
    "    print(df_melhores_desempenhos)\n",
    "\n",
    "\n",
    "# Exemplo de uso da função\n",
    "data1 = pd.read_csv('results/SBFS_data1.csv')\n",
    "data2 = pd.read_csv('results/SBFS_data2.csv')\n",
    "data3 = pd.read_csv('results/SBFS_data3.csv')\n",
    "data4 = pd.read_csv('results/SBFS_data5.csv')\n",
    "data5 = pd.read_csv('results/SBFS_data6.csv')\n",
    "\n",
    "dataframes = [data1, data2, data3, data4, data5]\n",
    "\n",
    "tipo_selecao = \"SBFS\"  # Definir o tipo de seleção de atributos\n",
    "\n",
    "gerar_grafico_desempenho(dataframes, tipo_selecao)\n"
   ],
   "metadata": {
    "collapsed": false,
    "ExecuteTime": {
     "end_time": "2023-07-01T14:59:15.834346500Z",
     "start_time": "2023-07-01T14:59:14.847182700Z"
    }
   }
  },
  {
   "cell_type": "code",
   "execution_count": null,
   "outputs": [],
   "source": [],
   "metadata": {
    "collapsed": false
   }
  }
 ],
 "metadata": {
  "kernelspec": {
   "display_name": "Python 3",
   "language": "python",
   "name": "python3"
  },
  "language_info": {
   "codemirror_mode": {
    "name": "ipython",
    "version": 2
   },
   "file_extension": ".py",
   "mimetype": "text/x-python",
   "name": "python",
   "nbconvert_exporter": "python",
   "pygments_lexer": "ipython2",
   "version": "2.7.6"
  }
 },
 "nbformat": 4,
 "nbformat_minor": 0
}
