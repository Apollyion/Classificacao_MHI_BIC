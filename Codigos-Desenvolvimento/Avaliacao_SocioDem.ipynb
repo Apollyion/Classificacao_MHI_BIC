{
 "cells": [
  {
   "cell_type": "markdown",
   "metadata": {},
   "source": [
    "# Classificação dos niveis de MHI usando dados sociodemograficos;\n",
    "- Neste projeto será utilizado a base de dados da dissertação \"QUALIDADE DE VIDA E SAÚDE MENTAL DE ESTUDANTES UNIVERSITÁRIOS\" de autoria de LYCÉLIA DA SILVA OLIVEIRA, para usar dados sociodemograficos e de qualidade de vida para classificar os niveis de saude mental dos estudantes universitarios da UVA."
   ]
  },
  {
   "cell_type": "markdown",
   "source": [
    "## 1 - Importando Dados e Bibliotecas"
   ],
   "metadata": {
    "collapsed": false
   }
  },
  {
   "cell_type": "code",
   "execution_count": 1,
   "outputs": [],
   "source": [
    "# Importando bibliotecas\n",
    "import pandas as pd\n",
    "import numpy as np\n",
    "import matplotlib.pyplot as plt\n",
    "import seaborn as sns\n",
    "from sklearn.metrics import classification_report\n",
    "\n",
    "#Importando modelos de machine learning\n",
    "from sklearn.model_selection import train_test_split\n",
    "from sklearn.ensemble import RandomForestClassifier\n",
    "from sklearn.svm import SVC\n",
    "from sklearn.neural_network import MLPClassifier\n",
    "from xgboost import XGBClassifier"
   ],
   "metadata": {
    "collapsed": false,
    "ExecuteTime": {
     "end_time": "2023-06-30T23:02:02.658763500Z",
     "start_time": "2023-06-30T23:02:01.656081200Z"
    }
   }
  },
  {
   "cell_type": "code",
   "execution_count": 2,
   "outputs": [
    {
     "ename": "FileNotFoundError",
     "evalue": "[Errno 2] No such file or directory: 'dataframe_socioeconomico_Niveis.csv'",
     "output_type": "error",
     "traceback": [
      "\u001B[1;31m---------------------------------------------------------------------------\u001B[0m",
      "\u001B[1;31mFileNotFoundError\u001B[0m                         Traceback (most recent call last)",
      "Cell \u001B[1;32mIn[2], line 2\u001B[0m\n\u001B[0;32m      1\u001B[0m \u001B[38;5;66;03m# Importando base de dados que contem o header\u001B[39;00m\n\u001B[1;32m----> 2\u001B[0m base \u001B[38;5;241m=\u001B[39m pd\u001B[38;5;241m.\u001B[39mread_csv(\u001B[38;5;124m'\u001B[39m\u001B[38;5;124mdataframe_socioeconomico_Niveis.csv\u001B[39m\u001B[38;5;124m'\u001B[39m)\n\u001B[0;32m      4\u001B[0m \u001B[38;5;66;03m# Dividindo entre X e y, pelo tamanho da base\u001B[39;00m\n\u001B[0;32m      5\u001B[0m X \u001B[38;5;241m=\u001B[39m base\u001B[38;5;241m.\u001B[39mdrop(\u001B[38;5;124m'\u001B[39m\u001B[38;5;124mNivel_MHI\u001B[39m\u001B[38;5;124m'\u001B[39m, axis\u001B[38;5;241m=\u001B[39m\u001B[38;5;241m1\u001B[39m)\n",
      "File \u001B[1;32m~\\anaconda3\\envs\\BIC\\Lib\\site-packages\\pandas\\util\\_decorators.py:211\u001B[0m, in \u001B[0;36mdeprecate_kwarg.<locals>._deprecate_kwarg.<locals>.wrapper\u001B[1;34m(*args, **kwargs)\u001B[0m\n\u001B[0;32m    209\u001B[0m     \u001B[38;5;28;01melse\u001B[39;00m:\n\u001B[0;32m    210\u001B[0m         kwargs[new_arg_name] \u001B[38;5;241m=\u001B[39m new_arg_value\n\u001B[1;32m--> 211\u001B[0m \u001B[38;5;28;01mreturn\u001B[39;00m func(\u001B[38;5;241m*\u001B[39margs, \u001B[38;5;241m*\u001B[39m\u001B[38;5;241m*\u001B[39mkwargs)\n",
      "File \u001B[1;32m~\\anaconda3\\envs\\BIC\\Lib\\site-packages\\pandas\\util\\_decorators.py:331\u001B[0m, in \u001B[0;36mdeprecate_nonkeyword_arguments.<locals>.decorate.<locals>.wrapper\u001B[1;34m(*args, **kwargs)\u001B[0m\n\u001B[0;32m    325\u001B[0m \u001B[38;5;28;01mif\u001B[39;00m \u001B[38;5;28mlen\u001B[39m(args) \u001B[38;5;241m>\u001B[39m num_allow_args:\n\u001B[0;32m    326\u001B[0m     warnings\u001B[38;5;241m.\u001B[39mwarn(\n\u001B[0;32m    327\u001B[0m         msg\u001B[38;5;241m.\u001B[39mformat(arguments\u001B[38;5;241m=\u001B[39m_format_argument_list(allow_args)),\n\u001B[0;32m    328\u001B[0m         \u001B[38;5;167;01mFutureWarning\u001B[39;00m,\n\u001B[0;32m    329\u001B[0m         stacklevel\u001B[38;5;241m=\u001B[39mfind_stack_level(),\n\u001B[0;32m    330\u001B[0m     )\n\u001B[1;32m--> 331\u001B[0m \u001B[38;5;28;01mreturn\u001B[39;00m func(\u001B[38;5;241m*\u001B[39margs, \u001B[38;5;241m*\u001B[39m\u001B[38;5;241m*\u001B[39mkwargs)\n",
      "File \u001B[1;32m~\\anaconda3\\envs\\BIC\\Lib\\site-packages\\pandas\\io\\parsers\\readers.py:950\u001B[0m, in \u001B[0;36mread_csv\u001B[1;34m(filepath_or_buffer, sep, delimiter, header, names, index_col, usecols, squeeze, prefix, mangle_dupe_cols, dtype, engine, converters, true_values, false_values, skipinitialspace, skiprows, skipfooter, nrows, na_values, keep_default_na, na_filter, verbose, skip_blank_lines, parse_dates, infer_datetime_format, keep_date_col, date_parser, dayfirst, cache_dates, iterator, chunksize, compression, thousands, decimal, lineterminator, quotechar, quoting, doublequote, escapechar, comment, encoding, encoding_errors, dialect, error_bad_lines, warn_bad_lines, on_bad_lines, delim_whitespace, low_memory, memory_map, float_precision, storage_options)\u001B[0m\n\u001B[0;32m    935\u001B[0m kwds_defaults \u001B[38;5;241m=\u001B[39m _refine_defaults_read(\n\u001B[0;32m    936\u001B[0m     dialect,\n\u001B[0;32m    937\u001B[0m     delimiter,\n\u001B[1;32m   (...)\u001B[0m\n\u001B[0;32m    946\u001B[0m     defaults\u001B[38;5;241m=\u001B[39m{\u001B[38;5;124m\"\u001B[39m\u001B[38;5;124mdelimiter\u001B[39m\u001B[38;5;124m\"\u001B[39m: \u001B[38;5;124m\"\u001B[39m\u001B[38;5;124m,\u001B[39m\u001B[38;5;124m\"\u001B[39m},\n\u001B[0;32m    947\u001B[0m )\n\u001B[0;32m    948\u001B[0m kwds\u001B[38;5;241m.\u001B[39mupdate(kwds_defaults)\n\u001B[1;32m--> 950\u001B[0m \u001B[38;5;28;01mreturn\u001B[39;00m _read(filepath_or_buffer, kwds)\n",
      "File \u001B[1;32m~\\anaconda3\\envs\\BIC\\Lib\\site-packages\\pandas\\io\\parsers\\readers.py:605\u001B[0m, in \u001B[0;36m_read\u001B[1;34m(filepath_or_buffer, kwds)\u001B[0m\n\u001B[0;32m    602\u001B[0m _validate_names(kwds\u001B[38;5;241m.\u001B[39mget(\u001B[38;5;124m\"\u001B[39m\u001B[38;5;124mnames\u001B[39m\u001B[38;5;124m\"\u001B[39m, \u001B[38;5;28;01mNone\u001B[39;00m))\n\u001B[0;32m    604\u001B[0m \u001B[38;5;66;03m# Create the parser.\u001B[39;00m\n\u001B[1;32m--> 605\u001B[0m parser \u001B[38;5;241m=\u001B[39m TextFileReader(filepath_or_buffer, \u001B[38;5;241m*\u001B[39m\u001B[38;5;241m*\u001B[39mkwds)\n\u001B[0;32m    607\u001B[0m \u001B[38;5;28;01mif\u001B[39;00m chunksize \u001B[38;5;129;01mor\u001B[39;00m iterator:\n\u001B[0;32m    608\u001B[0m     \u001B[38;5;28;01mreturn\u001B[39;00m parser\n",
      "File \u001B[1;32m~\\anaconda3\\envs\\BIC\\Lib\\site-packages\\pandas\\io\\parsers\\readers.py:1442\u001B[0m, in \u001B[0;36mTextFileReader.__init__\u001B[1;34m(self, f, engine, **kwds)\u001B[0m\n\u001B[0;32m   1439\u001B[0m     \u001B[38;5;28mself\u001B[39m\u001B[38;5;241m.\u001B[39moptions[\u001B[38;5;124m\"\u001B[39m\u001B[38;5;124mhas_index_names\u001B[39m\u001B[38;5;124m\"\u001B[39m] \u001B[38;5;241m=\u001B[39m kwds[\u001B[38;5;124m\"\u001B[39m\u001B[38;5;124mhas_index_names\u001B[39m\u001B[38;5;124m\"\u001B[39m]\n\u001B[0;32m   1441\u001B[0m \u001B[38;5;28mself\u001B[39m\u001B[38;5;241m.\u001B[39mhandles: IOHandles \u001B[38;5;241m|\u001B[39m \u001B[38;5;28;01mNone\u001B[39;00m \u001B[38;5;241m=\u001B[39m \u001B[38;5;28;01mNone\u001B[39;00m\n\u001B[1;32m-> 1442\u001B[0m \u001B[38;5;28mself\u001B[39m\u001B[38;5;241m.\u001B[39m_engine \u001B[38;5;241m=\u001B[39m \u001B[38;5;28mself\u001B[39m\u001B[38;5;241m.\u001B[39m_make_engine(f, \u001B[38;5;28mself\u001B[39m\u001B[38;5;241m.\u001B[39mengine)\n",
      "File \u001B[1;32m~\\anaconda3\\envs\\BIC\\Lib\\site-packages\\pandas\\io\\parsers\\readers.py:1735\u001B[0m, in \u001B[0;36mTextFileReader._make_engine\u001B[1;34m(self, f, engine)\u001B[0m\n\u001B[0;32m   1733\u001B[0m     \u001B[38;5;28;01mif\u001B[39;00m \u001B[38;5;124m\"\u001B[39m\u001B[38;5;124mb\u001B[39m\u001B[38;5;124m\"\u001B[39m \u001B[38;5;129;01mnot\u001B[39;00m \u001B[38;5;129;01min\u001B[39;00m mode:\n\u001B[0;32m   1734\u001B[0m         mode \u001B[38;5;241m+\u001B[39m\u001B[38;5;241m=\u001B[39m \u001B[38;5;124m\"\u001B[39m\u001B[38;5;124mb\u001B[39m\u001B[38;5;124m\"\u001B[39m\n\u001B[1;32m-> 1735\u001B[0m \u001B[38;5;28mself\u001B[39m\u001B[38;5;241m.\u001B[39mhandles \u001B[38;5;241m=\u001B[39m get_handle(\n\u001B[0;32m   1736\u001B[0m     f,\n\u001B[0;32m   1737\u001B[0m     mode,\n\u001B[0;32m   1738\u001B[0m     encoding\u001B[38;5;241m=\u001B[39m\u001B[38;5;28mself\u001B[39m\u001B[38;5;241m.\u001B[39moptions\u001B[38;5;241m.\u001B[39mget(\u001B[38;5;124m\"\u001B[39m\u001B[38;5;124mencoding\u001B[39m\u001B[38;5;124m\"\u001B[39m, \u001B[38;5;28;01mNone\u001B[39;00m),\n\u001B[0;32m   1739\u001B[0m     compression\u001B[38;5;241m=\u001B[39m\u001B[38;5;28mself\u001B[39m\u001B[38;5;241m.\u001B[39moptions\u001B[38;5;241m.\u001B[39mget(\u001B[38;5;124m\"\u001B[39m\u001B[38;5;124mcompression\u001B[39m\u001B[38;5;124m\"\u001B[39m, \u001B[38;5;28;01mNone\u001B[39;00m),\n\u001B[0;32m   1740\u001B[0m     memory_map\u001B[38;5;241m=\u001B[39m\u001B[38;5;28mself\u001B[39m\u001B[38;5;241m.\u001B[39moptions\u001B[38;5;241m.\u001B[39mget(\u001B[38;5;124m\"\u001B[39m\u001B[38;5;124mmemory_map\u001B[39m\u001B[38;5;124m\"\u001B[39m, \u001B[38;5;28;01mFalse\u001B[39;00m),\n\u001B[0;32m   1741\u001B[0m     is_text\u001B[38;5;241m=\u001B[39mis_text,\n\u001B[0;32m   1742\u001B[0m     errors\u001B[38;5;241m=\u001B[39m\u001B[38;5;28mself\u001B[39m\u001B[38;5;241m.\u001B[39moptions\u001B[38;5;241m.\u001B[39mget(\u001B[38;5;124m\"\u001B[39m\u001B[38;5;124mencoding_errors\u001B[39m\u001B[38;5;124m\"\u001B[39m, \u001B[38;5;124m\"\u001B[39m\u001B[38;5;124mstrict\u001B[39m\u001B[38;5;124m\"\u001B[39m),\n\u001B[0;32m   1743\u001B[0m     storage_options\u001B[38;5;241m=\u001B[39m\u001B[38;5;28mself\u001B[39m\u001B[38;5;241m.\u001B[39moptions\u001B[38;5;241m.\u001B[39mget(\u001B[38;5;124m\"\u001B[39m\u001B[38;5;124mstorage_options\u001B[39m\u001B[38;5;124m\"\u001B[39m, \u001B[38;5;28;01mNone\u001B[39;00m),\n\u001B[0;32m   1744\u001B[0m )\n\u001B[0;32m   1745\u001B[0m \u001B[38;5;28;01massert\u001B[39;00m \u001B[38;5;28mself\u001B[39m\u001B[38;5;241m.\u001B[39mhandles \u001B[38;5;129;01mis\u001B[39;00m \u001B[38;5;129;01mnot\u001B[39;00m \u001B[38;5;28;01mNone\u001B[39;00m\n\u001B[0;32m   1746\u001B[0m f \u001B[38;5;241m=\u001B[39m \u001B[38;5;28mself\u001B[39m\u001B[38;5;241m.\u001B[39mhandles\u001B[38;5;241m.\u001B[39mhandle\n",
      "File \u001B[1;32m~\\anaconda3\\envs\\BIC\\Lib\\site-packages\\pandas\\io\\common.py:856\u001B[0m, in \u001B[0;36mget_handle\u001B[1;34m(path_or_buf, mode, encoding, compression, memory_map, is_text, errors, storage_options)\u001B[0m\n\u001B[0;32m    851\u001B[0m \u001B[38;5;28;01melif\u001B[39;00m \u001B[38;5;28misinstance\u001B[39m(handle, \u001B[38;5;28mstr\u001B[39m):\n\u001B[0;32m    852\u001B[0m     \u001B[38;5;66;03m# Check whether the filename is to be opened in binary mode.\u001B[39;00m\n\u001B[0;32m    853\u001B[0m     \u001B[38;5;66;03m# Binary mode does not support 'encoding' and 'newline'.\u001B[39;00m\n\u001B[0;32m    854\u001B[0m     \u001B[38;5;28;01mif\u001B[39;00m ioargs\u001B[38;5;241m.\u001B[39mencoding \u001B[38;5;129;01mand\u001B[39;00m \u001B[38;5;124m\"\u001B[39m\u001B[38;5;124mb\u001B[39m\u001B[38;5;124m\"\u001B[39m \u001B[38;5;129;01mnot\u001B[39;00m \u001B[38;5;129;01min\u001B[39;00m ioargs\u001B[38;5;241m.\u001B[39mmode:\n\u001B[0;32m    855\u001B[0m         \u001B[38;5;66;03m# Encoding\u001B[39;00m\n\u001B[1;32m--> 856\u001B[0m         handle \u001B[38;5;241m=\u001B[39m \u001B[38;5;28mopen\u001B[39m(\n\u001B[0;32m    857\u001B[0m             handle,\n\u001B[0;32m    858\u001B[0m             ioargs\u001B[38;5;241m.\u001B[39mmode,\n\u001B[0;32m    859\u001B[0m             encoding\u001B[38;5;241m=\u001B[39mioargs\u001B[38;5;241m.\u001B[39mencoding,\n\u001B[0;32m    860\u001B[0m             errors\u001B[38;5;241m=\u001B[39merrors,\n\u001B[0;32m    861\u001B[0m             newline\u001B[38;5;241m=\u001B[39m\u001B[38;5;124m\"\u001B[39m\u001B[38;5;124m\"\u001B[39m,\n\u001B[0;32m    862\u001B[0m         )\n\u001B[0;32m    863\u001B[0m     \u001B[38;5;28;01melse\u001B[39;00m:\n\u001B[0;32m    864\u001B[0m         \u001B[38;5;66;03m# Binary mode\u001B[39;00m\n\u001B[0;32m    865\u001B[0m         handle \u001B[38;5;241m=\u001B[39m \u001B[38;5;28mopen\u001B[39m(handle, ioargs\u001B[38;5;241m.\u001B[39mmode)\n",
      "\u001B[1;31mFileNotFoundError\u001B[0m: [Errno 2] No such file or directory: 'dataframe_socioeconomico_Niveis.csv'"
     ]
    }
   ],
   "source": [
    "# Importando base de dados que contem o header\n",
    "base = pd.read_csv('dataframe_socioeconomico_Niveis.csv')\n",
    "\n",
    "# Dividindo entre X e y, pelo tamanho da base\n",
    "X = base.drop('Nivel_MHI', axis=1)\n",
    "y = base['Nivel_MHI']\n",
    "\n",
    "print(X.head())\n",
    "\n",
    "from sklearn.preprocessing import LabelEncoder\n",
    "le = LabelEncoder()\n",
    "y = le.fit_transform(y)"
   ],
   "metadata": {
    "collapsed": false,
    "ExecuteTime": {
     "end_time": "2023-06-30T23:02:06.325853900Z",
     "start_time": "2023-06-30T23:02:02.669765500Z"
    }
   }
  },
  {
   "cell_type": "code",
   "execution_count": null,
   "outputs": [],
   "source": [
    "# Dividindo a base entre treinamento e teste\n",
    "X_train, X_test, y_train, y_test = train_test_split(X, y, test_size=0.3)\n"
   ],
   "metadata": {
    "collapsed": false
   }
  },
  {
   "cell_type": "markdown",
   "source": [
    "## 2 - Classificação com Modelos Baseline;\n",
    "Inicialmente será testado alguns modelos baseline para verificar qual apresenta o melhor resultado, sem aplicar nenhum tipo de tratamento nos dados. Usei como baseline os seguintes modelos:\n",
    "- (1) DummyClassifier\n",
    "- (2) SVM\n",
    "- (3) Random Forest\n",
    "- (4) MLP\n",
    "- (5) XGBoost"
   ],
   "metadata": {
    "collapsed": false
   }
  },
  {
   "cell_type": "markdown",
   "metadata": {},
   "source": [
    "### 2.1 - Importando as bibliotecas necessárias;"
   ]
  },
  {
   "cell_type": "code",
   "execution_count": null,
   "metadata": {},
   "outputs": [],
   "source": [
    "# Importando as bibliotecas necessárias\n",
    "from sklearn.model_selection import train_test_split\n",
    "from sklearn.metrics import classification_report\n",
    "#from sklearn.metrics import confusion_matrix\n",
    "from sklearn.metrics import accuracy_score\n",
    "\n",
    "# Importando os modelos de classificação\n",
    "from sklearn.svm import SVC\n",
    "from sklearn.ensemble import RandomForestClassifier\n",
    "from sklearn.neural_network import MLPClassifier\n",
    "from xgboost import XGBClassifier\n",
    "from sklearn.dummy import DummyClassifier\n",
    "from sklearn.neighbors import KNeighborsClassifier\n",
    "from sklearn.model_selection import KFold"
   ]
  },
  {
   "cell_type": "markdown",
   "source": [
    "### 2.2 - Separando os dados de treino e teste;\n",
    "Agora será separado os dados de treino e teste, utilizado um k-fold de 10, ou seja, 10% dos dados serão utilizados para teste e 90% para treino. O random_state será fixado em 42 para que os resultados sejam reproduziveis.\n",
    "\n",
    "Ainda será aplicado o LabelEncoder na variavel objetivo, pois os modelos não aceitam variaveis categóricas."
   ],
   "metadata": {
    "collapsed": false
   }
  },
  {
   "cell_type": "code",
   "execution_count": null,
   "outputs": [],
   "source": [
    "# Dividindo a base entre treinamento e teste\n",
    "X_train, X_test, y_train, y_test = train_test_split(X, y, test_size=0.3)\n"
   ],
   "metadata": {
    "collapsed": false
   }
  },
  {
   "cell_type": "markdown",
   "source": [
    "### 2.3 - Criando uma função para avaliar os modelos;"
   ],
   "metadata": {
    "collapsed": false
   }
  },
  {
   "cell_type": "code",
   "execution_count": null,
   "outputs": [],
   "source": [
    "# Criando uma função para avaliar os modelos\n",
    "def avalia_modelo_cv(model, X_input, y_input, n, resultados_individuais=False):\n",
    "    kf = KFold(n_splits=n)\n",
    "    reports = []\n",
    "    y_true = []\n",
    "    y_pred_list = []\n",
    "    X_array = X_input.values\n",
    "    accuracy_list = []\n",
    "    model_name = type(model).__name__\n",
    "    for fold_idx, (train_index, test_index) in enumerate(kf.split(X_input)):\n",
    "        X_input, X_test = X_array[train_index], X_array[test_index]\n",
    "        y_train, y_test = y_input[train_index], y_input[test_index]\n",
    "        model.fit(X_input, y_train)\n",
    "        y_pred = model.predict(X_test)\n",
    "        y_true.extend(y_test)\n",
    "        y_pred_list.append(y_pred)\n",
    "        report = classification_report(y_test, y_pred, zero_division=0)\n",
    "        reports.append(report)\n",
    "        accuracy_list.append(accuracy_score(y_test, y_pred))\n",
    "        if resultados_individuais:\n",
    "            print(f\"Classification Report for fold {fold_idx + 1}:\\n{report}\\n\")\n",
    "    y_pred_total = np.concatenate(y_pred_list)\n",
    "    print(\"-\" * 45)\n",
    "    print(\"model_name: \", model_name)\n",
    "    print(\"Average Classification Report:\")\n",
    "    avg_report = classification_report(y_true, y_pred_total, zero_division=0)\n",
    "    print(avg_report)\n",
    "    #Retorna a acuracia media\n",
    "    return accuracy_score(y_true, y_pred_total)\n",
    "\n"
   ],
   "metadata": {
    "collapsed": false
   }
  },
  {
   "cell_type": "code",
   "execution_count": null,
   "outputs": [],
   "source": [
    "# Função que chama os 4 modelos e retorna o resultado de cada um usando a função avalia_modelo_cv e imprime o resultado de cada um.\n",
    "\n",
    "def avalia_dif_modelos_cv(X_train, y_test, cv):\n",
    "    # Criando os modelos\n",
    "    dummy_av = DummyClassifier(strategy='most_frequent')\n",
    "    rf_av = RandomForestClassifier(n_jobs=-1)\n",
    "    svm_av = SVC(kernel='rbf', gamma='auto', decision_function_shape='ovo')\n",
    "    mlp_av = MLPClassifier(hidden_layer_sizes=(100, 100), max_iter=1000)\n",
    "    xgb_av = XGBClassifier(n_jobs=-1)\n",
    "\n",
    "    # Aplicando a função de avaliação\n",
    "    dummy_fun_av = avalia_modelo_cv(dummy_av, X_train, y_test, cv)\n",
    "    rf_fun_av = avalia_modelo_cv(rf_av, X_train, y_test, cv)\n",
    "    svm_fun_av = avalia_modelo_cv(svm_av, X_train, y_test, cv)\n",
    "    mlp_fun_av = avalia_modelo_cv(mlp_av, X_train, y_test, cv)\n",
    "    xgb_fun_av = avalia_modelo_cv(xgb_av, X_train, y_test, cv)\n",
    "\n",
    "    # Criando o dataframe com os resultados\n",
    "    df_resultado = pd.DataFrame({'Modelo': ['Dummy', 'RF', 'SVM', 'MLP', 'XGB'],\n",
    "                                 'Acurácia': [dummy_fun_av, rf_fun_av, svm_fun_av, mlp_fun_av, xgb_fun_av]})\n",
    "\n",
    "    # Plotando o gráfico de barras\n",
    "    sns.barplot(x='Modelo', y='Acurácia', data=df_resultado)\n",
    "    plt.show(\"Desempenho dos modelos\")\n",
    "    %matplotlib inline\n",
    "\n",
    "    return df_resultado"
   ],
   "metadata": {
    "collapsed": false
   }
  },
  {
   "cell_type": "markdown",
   "source": [
    "### 2.4 - Aplicando os modelos baseline;"
   ],
   "metadata": {
    "collapsed": false
   }
  },
  {
   "cell_type": "code",
   "execution_count": null,
   "outputs": [],
   "source": [
    "# Aplicando os modelos baseline\n",
    "avalia_dif_modelos_cv(X_train, y_train, 5)"
   ],
   "metadata": {
    "collapsed": false
   }
  },
  {
   "cell_type": "markdown",
   "metadata": {},
   "source": [
    "## 3 - Treinamento dos modelos com os dados balanceados;\n",
    "Agora vamos treinar os modelos com os dados balanceados e verificar se o desempenho melhora."
   ]
  },
  {
   "cell_type": "markdown",
   "metadata": {},
   "source": [
    "### 3.0 - Importando as bibliotecas e definindo as funções;"
   ]
  },
  {
   "cell_type": "code",
   "execution_count": 30,
   "metadata": {
    "ExecuteTime": {
     "end_time": "2023-06-01T13:38:59.384490400Z",
     "start_time": "2023-06-01T13:38:59.380152400Z"
    }
   },
   "outputs": [],
   "source": [
    "# Importando as bibliotecas\n",
    "import seaborn as sns\n",
    "import matplotlib.pyplot as plt\n",
    "\n",
    "# Bibliotecas para undersampling\n",
    "from imblearn.under_sampling import RandomUnderSampler\n",
    "from imblearn.under_sampling import NearMiss\n",
    "from imblearn.under_sampling import ClusterCentroids"
   ]
  },
  {
   "cell_type": "code",
   "execution_count": 31,
   "metadata": {
    "ExecuteTime": {
     "end_time": "2023-06-01T13:38:59.429500200Z",
     "start_time": "2023-06-01T13:38:59.391997700Z"
    }
   },
   "outputs": [],
   "source": [
    "# Função que chama os 4 modelos e retorna o resultado de cada um usando a função avalia_modelo_cv e imprime o resultado de cada um.\n",
    "\n",
    "def avalia_dif_modelos_cv(X_train, y_test, cv):\n",
    "    # Criando os modelos\n",
    "    dummy_av = DummyClassifier(strategy='uniform')\n",
    "    rf_av = RandomForestClassifier(n_jobs=-1)\n",
    "    svm_av = SVC(kernel='rbf', gamma='auto', decision_function_shape='ovo')\n",
    "    mlp_av = MLPClassifier(hidden_layer_sizes=(100, 100), max_iter=1000)\n",
    "    xgb_av = XGBClassifier(n_jobs=-1)\n",
    "\n",
    "    # Aplicando a função de avaliação\n",
    "    dummy_fun_av = avalia_modelo_cv(dummy_av, X_train, y_test, cv)\n",
    "    rf_fun_av = avalia_modelo_cv(rf_av, X_train, y_test, cv)\n",
    "    svm_fun_av = avalia_modelo_cv(svm_av, X_train, y_test, cv)\n",
    "    mlp_fun_av = avalia_modelo_cv(mlp_av, X_train, y_test, cv)\n",
    "    xgb_fun_av = avalia_modelo_cv(xgb_av, X_train, y_test, cv)\n",
    "\n",
    "    # Criando o dataframe com os resultados\n",
    "    df_resultado = pd.DataFrame({'Modelo': ['Dummy', 'RF', 'SVM', 'MLP', 'XGB'],\n",
    "                                 'Acurácia': [dummy_fun_av, rf_fun_av, svm_fun_av, mlp_fun_av, xgb_fun_av]})\n",
    "\n",
    "    # Plotando o gráfico de barras\n",
    "    sns.barplot(x='Modelo', y='Acurácia', data=df_resultado)\n",
    "    plt.show(\"Desempenho dos modelos\")\n",
    "    %matplotlib inline\n",
    "\n",
    "    return df_resultado"
   ]
  },
  {
   "cell_type": "code",
   "execution_count": 32,
   "outputs": [],
   "source": [
    "# Dividindo os dados de treino e teste\n",
    "X_train_re, X_test_re, y_train_re, y_test_re = train_test_split(X, y, test_size=0.3, random_state=42, shuffle=True)"
   ],
   "metadata": {
    "collapsed": false,
    "ExecuteTime": {
     "end_time": "2023-06-01T13:38:59.430500Z",
     "start_time": "2023-06-01T13:38:59.401919Z"
    }
   }
  },
  {
   "cell_type": "markdown",
   "metadata": {},
   "source": [
    "### 3.1 - Visualizando o balanceamento dos dados;"
   ]
  },
  {
   "cell_type": "code",
   "execution_count": 33,
   "metadata": {
    "ExecuteTime": {
     "end_time": "2023-06-01T13:38:59.635157500Z",
     "start_time": "2023-06-01T13:38:59.412986100Z"
    }
   },
   "outputs": [
    {
     "data": {
      "text/plain": "<Figure size 432x288 with 1 Axes>",
      "image/png": "[encoded data removed]"
     },
     "metadata": {
      "needs_background": "light"
     },
     "output_type": "display_data"
    },
    {
     "data": {
      "text/plain": "       Total  Porcentagem\nMedio    574        65.83\nBaixo    149        17.09\nAlto     149        17.09",
      "text/html": "<div>\n<style scoped>\n    .dataframe tbody tr th:only-of-type {\n        vertical-align: middle;\n    }\n\n    .dataframe tbody tr th {\n        vertical-align: top;\n    }\n\n    .dataframe thead th {\n        text-align: right;\n    }\n</style>\n<table border=\"1\" class=\"dataframe\">\n  <thead>\n    <tr style=\"text-align: right;\">\n      <th></th>\n      <th>Total</th>\n      <th>Porcentagem</th>\n    </tr>\n  </thead>\n  <tbody>\n    <tr>\n      <th>Medio</th>\n      <td>574</td>\n      <td>65.83</td>\n    </tr>\n    <tr>\n      <th>Baixo</th>\n      <td>149</td>\n      <td>17.09</td>\n    </tr>\n    <tr>\n      <th>Alto</th>\n      <td>149</td>\n      <td>17.09</td>\n    </tr>\n  </tbody>\n</table>\n</div>"
     },
     "execution_count": 33,
     "metadata": {},
     "output_type": "execute_result"
    }
   ],
   "source": [
    "# Plotando o gráfico de barras para verificar o balanceamento dos dados\n",
    "sns.countplot(x='Nivel_MHI', data=base)\n",
    "plt.show(\"Balanceamento dos dados\")\n",
    "%matplotlib inline\n",
    "\n",
    "# Calcular a porcentagem de cada classe e imprimir como uma tabela\n",
    "total = base['Nivel_MHI'].value_counts()\n",
    "percent = round(base['Nivel_MHI'].value_counts() / len(base) * 100, 2)\n",
    "pd.concat([total, percent], axis=1, keys=['Total', 'Porcentagem'])"
   ]
  },
  {
   "cell_type": "markdown",
   "metadata": {},
   "source": [
    "### 3.2 - Undersampling;\n",
    "Neste caso, vamos aproveitar o tamanho da base de dados que temos e vamos reduzir a quantidade de dados da classe majoritária para o mesmo tamanho da classe minoritária.\n",
    "Tecnicas de undersampling:\n",
    "- (1) - RandomUnderSampling\n",
    "- (2) - NearMiss\n",
    "- (3) - ????\n"
   ]
  },
  {
   "cell_type": "markdown",
   "metadata": {},
   "source": [
    "#### (1) - RandomUnderSampling;"
   ]
  },
  {
   "cell_type": "code",
   "execution_count": 34,
   "metadata": {
    "ExecuteTime": {
     "end_time": "2023-06-01T13:39:18.513002600Z",
     "start_time": "2023-06-01T13:38:59.635157500Z"
    }
   },
   "outputs": [
    {
     "name": "stdout",
     "output_type": "stream",
     "text": [
      "---------------------------------------------\n",
      "model_name:  DummyClassifier\n",
      "Average Classification Report:\n",
      "              precision    recall  f1-score   support\n",
      "\n",
      "           0       0.30      0.36      0.33        98\n",
      "           1       0.32      0.30      0.31        98\n",
      "           2       0.25      0.22      0.24        98\n",
      "\n",
      "    accuracy                           0.29       294\n",
      "   macro avg       0.29      0.29      0.29       294\n",
      "weighted avg       0.29      0.29      0.29       294\n",
      "\n",
      "---------------------------------------------\n",
      "model_name:  RandomForestClassifier\n",
      "Average Classification Report:\n",
      "              precision    recall  f1-score   support\n",
      "\n",
      "           0       0.69      0.69      0.69        98\n",
      "           1       0.53      0.51      0.52        98\n",
      "           2       0.46      0.47      0.46        98\n",
      "\n",
      "    accuracy                           0.56       294\n",
      "   macro avg       0.56      0.56      0.56       294\n",
      "weighted avg       0.56      0.56      0.56       294\n",
      "\n",
      "---------------------------------------------\n",
      "model_name:  SVC\n",
      "Average Classification Report:\n",
      "              precision    recall  f1-score   support\n",
      "\n",
      "           0       0.44      0.43      0.43        98\n",
      "           1       0.31      0.28      0.29        98\n",
      "           2       0.18      0.20      0.19        98\n",
      "\n",
      "    accuracy                           0.30       294\n",
      "   macro avg       0.31      0.30      0.31       294\n",
      "weighted avg       0.31      0.30      0.31       294\n",
      "\n",
      "---------------------------------------------\n",
      "model_name:  MLPClassifier\n",
      "Average Classification Report:\n",
      "              precision    recall  f1-score   support\n",
      "\n",
      "           0       0.66      0.72      0.69        98\n",
      "           1       0.66      0.58      0.62        98\n",
      "           2       0.47      0.48      0.47        98\n",
      "\n",
      "    accuracy                           0.60       294\n",
      "   macro avg       0.60      0.60      0.59       294\n",
      "weighted avg       0.60      0.60      0.59       294\n",
      "\n",
      "---------------------------------------------\n",
      "model_name:  XGBClassifier\n",
      "Average Classification Report:\n",
      "              precision    recall  f1-score   support\n",
      "\n",
      "           0       0.63      0.69      0.66        98\n",
      "           1       0.62      0.51      0.56        98\n",
      "           2       0.46      0.49      0.47        98\n",
      "\n",
      "    accuracy                           0.56       294\n",
      "   macro avg       0.57      0.56      0.56       294\n",
      "weighted avg       0.57      0.56      0.56       294\n",
      "\n"
     ]
    },
    {
     "data": {
      "text/plain": "<Figure size 432x288 with 1 Axes>",
      "image/png": "[encoded data removed]"
     },
     "metadata": {
      "needs_background": "light"
     },
     "output_type": "display_data"
    },
    {
     "data": {
      "text/plain": "  Modelo  Acurácia\n0  Dummy  0.292517\n1     RF  0.557823\n2    SVM  0.302721\n3    MLP  0.595238\n4    XGB  0.564626",
      "text/html": "<div>\n<style scoped>\n    .dataframe tbody tr th:only-of-type {\n        vertical-align: middle;\n    }\n\n    .dataframe tbody tr th {\n        vertical-align: top;\n    }\n\n    .dataframe thead th {\n        text-align: right;\n    }\n</style>\n<table border=\"1\" class=\"dataframe\">\n  <thead>\n    <tr style=\"text-align: right;\">\n      <th></th>\n      <th>Modelo</th>\n      <th>Acurácia</th>\n    </tr>\n  </thead>\n  <tbody>\n    <tr>\n      <th>0</th>\n      <td>Dummy</td>\n      <td>0.292517</td>\n    </tr>\n    <tr>\n      <th>1</th>\n      <td>RF</td>\n      <td>0.557823</td>\n    </tr>\n    <tr>\n      <th>2</th>\n      <td>SVM</td>\n      <td>0.302721</td>\n    </tr>\n    <tr>\n      <th>3</th>\n      <td>MLP</td>\n      <td>0.595238</td>\n    </tr>\n    <tr>\n      <th>4</th>\n      <td>XGB</td>\n      <td>0.564626</td>\n    </tr>\n  </tbody>\n</table>\n</div>"
     },
     "execution_count": 34,
     "metadata": {},
     "output_type": "execute_result"
    }
   ],
   "source": [
    "# Criando o objeto para aplicar o RandomUnderSampling\n",
    "rus = RandomUnderSampler(random_state=42, replacement=True, sampling_strategy='auto')\n",
    "\n",
    "# Aplicando o RandomUnderSampling\n",
    "X_rus, y_rus = rus.fit_resample(X_train_re, y_train_re)\n",
    "\n",
    "# Plotando o gráfico de barras para verificar o balanceamento dos dados\n",
    "#sns.countplot(x=y_rus, data=df_socioeconomico)\n",
    "\n",
    "# Aplicando a função de avaliação cruzada com os dados balanceados\n",
    "avalia_dif_modelos_cv(X_rus, y_rus, 10)"
   ]
  },
  {
   "cell_type": "code",
   "execution_count": 46,
   "outputs": [
    {
     "ename": "AttributeError",
     "evalue": "'numpy.ndarray' object has no attribute 'value_counts'",
     "output_type": "error",
     "traceback": [
      "\u001B[1;31m---------------------------------------------------------------------------\u001B[0m",
      "\u001B[1;31mAttributeError\u001B[0m                            Traceback (most recent call last)",
      "Cell \u001B[1;32mIn[46], line 2\u001B[0m\n\u001B[0;32m      1\u001B[0m \u001B[38;5;66;03m# MOstrando o balanceamento dos dados antes e depois do balanceamento\u001B[39;00m\n\u001B[1;32m----> 2\u001B[0m \u001B[38;5;28mprint\u001B[39m(\u001B[38;5;124m'\u001B[39m\u001B[38;5;124mBalanceamento dos dados antes do balanceamento: \u001B[39m\u001B[38;5;130;01m\\n\u001B[39;00m\u001B[38;5;124m'\u001B[39m, y_train_re\u001B[38;5;241m.\u001B[39mvalue_counts())\n\u001B[0;32m      3\u001B[0m \u001B[38;5;28mprint\u001B[39m(\u001B[38;5;124m'\u001B[39m\u001B[38;5;124mBalanceamento dos dados depois do balanceamento: \u001B[39m\u001B[38;5;130;01m\\n\u001B[39;00m\u001B[38;5;124m'\u001B[39m, y_rus\u001B[38;5;241m.\u001B[39mvalue_counts())\n",
      "\u001B[1;31mAttributeError\u001B[0m: 'numpy.ndarray' object has no attribute 'value_counts'"
     ]
    }
   ],
   "source": [
    "# MOstrando o balanceamento dos dados antes e depois do balanceamento sem usar value counts\n"
   ],
   "metadata": {
    "collapsed": false,
    "ExecuteTime": {
     "end_time": "2023-06-01T13:51:37.170675300Z",
     "start_time": "2023-06-01T13:51:37.145400700Z"
    }
   }
  },
  {
   "cell_type": "markdown",
   "metadata": {},
   "source": [
    "#### (2) - NearMiss;"
   ]
  },
  {
   "cell_type": "code",
   "execution_count": 35,
   "metadata": {
    "ExecuteTime": {
     "end_time": "2023-06-01T13:39:39.408381400Z",
     "start_time": "2023-06-01T13:39:18.514008900Z"
    }
   },
   "outputs": [
    {
     "name": "stdout",
     "output_type": "stream",
     "text": [
      "---------------------------------------------\n",
      "model_name:  DummyClassifier\n",
      "Average Classification Report:\n",
      "              precision    recall  f1-score   support\n",
      "\n",
      "           0       0.36      0.41      0.38        98\n",
      "           1       0.36      0.37      0.37        98\n",
      "           2       0.28      0.23      0.25        98\n",
      "\n",
      "    accuracy                           0.34       294\n",
      "   macro avg       0.33      0.34      0.33       294\n",
      "weighted avg       0.33      0.34      0.33       294\n",
      "\n",
      "---------------------------------------------\n",
      "model_name:  RandomForestClassifier\n",
      "Average Classification Report:\n",
      "              precision    recall  f1-score   support\n",
      "\n",
      "           0       0.36      0.28      0.31        98\n",
      "           1       0.40      0.38      0.39        98\n",
      "           2       0.43      0.55      0.48        98\n",
      "\n",
      "    accuracy                           0.40       294\n",
      "   macro avg       0.40      0.40      0.39       294\n",
      "weighted avg       0.40      0.40      0.39       294\n",
      "\n",
      "---------------------------------------------\n",
      "model_name:  SVC\n",
      "Average Classification Report:\n",
      "              precision    recall  f1-score   support\n",
      "\n",
      "           0       0.35      0.23      0.28        98\n",
      "           1       0.31      0.29      0.30        98\n",
      "           2       0.51      0.72      0.60        98\n",
      "\n",
      "    accuracy                           0.41       294\n",
      "   macro avg       0.39      0.41      0.39       294\n",
      "weighted avg       0.39      0.41      0.39       294\n",
      "\n",
      "---------------------------------------------\n",
      "model_name:  MLPClassifier\n",
      "Average Classification Report:\n",
      "              precision    recall  f1-score   support\n",
      "\n",
      "           0       0.44      0.45      0.45        98\n",
      "           1       0.47      0.44      0.45        98\n",
      "           2       0.40      0.42      0.41        98\n",
      "\n",
      "    accuracy                           0.44       294\n",
      "   macro avg       0.44      0.44      0.44       294\n",
      "weighted avg       0.44      0.44      0.44       294\n",
      "\n",
      "---------------------------------------------\n",
      "model_name:  XGBClassifier\n",
      "Average Classification Report:\n",
      "              precision    recall  f1-score   support\n",
      "\n",
      "           0       0.50      0.46      0.48        98\n",
      "           1       0.45      0.48      0.47        98\n",
      "           2       0.44      0.45      0.44        98\n",
      "\n",
      "    accuracy                           0.46       294\n",
      "   macro avg       0.46      0.46      0.46       294\n",
      "weighted avg       0.46      0.46      0.46       294\n",
      "\n"
     ]
    },
    {
     "data": {
      "text/plain": "<Figure size 432x288 with 1 Axes>",
      "image/png": "[encoded data removed]"
     },
     "metadata": {
      "needs_background": "light"
     },
     "output_type": "display_data"
    },
    {
     "data": {
      "text/plain": "  Modelo  Acurácia\n0  Dummy  0.336735\n1     RF  0.401361\n2    SVM  0.414966\n3    MLP  0.435374\n4    XGB  0.462585",
      "text/html": "<div>\n<style scoped>\n    .dataframe tbody tr th:only-of-type {\n        vertical-align: middle;\n    }\n\n    .dataframe tbody tr th {\n        vertical-align: top;\n    }\n\n    .dataframe thead th {\n        text-align: right;\n    }\n</style>\n<table border=\"1\" class=\"dataframe\">\n  <thead>\n    <tr style=\"text-align: right;\">\n      <th></th>\n      <th>Modelo</th>\n      <th>Acurácia</th>\n    </tr>\n  </thead>\n  <tbody>\n    <tr>\n      <th>0</th>\n      <td>Dummy</td>\n      <td>0.336735</td>\n    </tr>\n    <tr>\n      <th>1</th>\n      <td>RF</td>\n      <td>0.401361</td>\n    </tr>\n    <tr>\n      <th>2</th>\n      <td>SVM</td>\n      <td>0.414966</td>\n    </tr>\n    <tr>\n      <th>3</th>\n      <td>MLP</td>\n      <td>0.435374</td>\n    </tr>\n    <tr>\n      <th>4</th>\n      <td>XGB</td>\n      <td>0.462585</td>\n    </tr>\n  </tbody>\n</table>\n</div>"
     },
     "execution_count": 35,
     "metadata": {},
     "output_type": "execute_result"
    }
   ],
   "source": [
    "# Criando o objeto para aplicar o NearMiss\n",
    "nm = NearMiss(version=1)\n",
    "\n",
    "# Aplicando o NearMiss\n",
    "X_nm, y_nm = nm.fit_resample(X_train_re, y_train_re)\n",
    "\n",
    "# Plotando o gráfico de barras para verificar o balanceamento dos dados\n",
    "#sns.countplot(x=y_nm, data=df_socioeconomico)\n",
    "\n",
    "# Aplicando a função de avaliação cruzada com os dados balanceados\n",
    "avalia_dif_modelos_cv(X_nm, y_nm, 10)"
   ]
  },
  {
   "cell_type": "markdown",
   "metadata": {},
   "source": [
    "### 3.3 - Oversampling;\n",
    "Neste caso, vamos aproveitar o tamanho da base de dados que temos e vamos aumentar a quantidade de dados da classe minoritária para o mesmo tamanho da classe majoritária.\n",
    "Tecnicas de oversampling:\n",
    "- (1) - Random Over Sampling\n",
    "- (2) - SMOTE-NC\n",
    "- (3) - ROSE\n",
    "- (4) - ADASYN"
   ]
  },
  {
   "cell_type": "code",
   "execution_count": 36,
   "metadata": {
    "ExecuteTime": {
     "end_time": "2023-06-01T13:39:39.408381400Z",
     "start_time": "2023-06-01T13:39:39.392000800Z"
    }
   },
   "outputs": [],
   "source": [
    "# Criando uma função que verifica quais colunas de um dataframe são categoricas e salva os indices em uma lista. Ela faz isso verificando se a coluna conte apenas 1 ou 0.\n",
    "def verifica_categoricas(df):\n",
    "    # Criando uma lista vazia para salvar os indices das colunas categóricas\n",
    "    categorical_features = []\n",
    "\n",
    "    # Loop para verificar as colunas\n",
    "    for col in df.columns:\n",
    "        # Verificando se a coluna conte apenas 1 ou 0, ou True ou False\n",
    "        if df[col].isin([0, 1]).all() or df[col].isin([True, False]).all():\n",
    "            # Salvando o indice da coluna na lista\n",
    "            categorical_features.append(df.columns.get_loc(col))\n",
    "\n",
    "    # Retornando a lista com os indices das colunas categóricas\n",
    "    return categorical_features"
   ]
  },
  {
   "cell_type": "markdown",
   "metadata": {},
   "source": [
    "#### (1) - SMOTE-NC"
   ]
  },
  {
   "cell_type": "code",
   "execution_count": 37,
   "metadata": {
    "ExecuteTime": {
     "end_time": "2023-06-01T13:40:29.960713300Z",
     "start_time": "2023-06-01T13:39:39.398869900Z"
    }
   },
   "outputs": [
    {
     "name": "stdout",
     "output_type": "stream",
     "text": [
      "---------------------------------------------\n",
      "model_name:  DummyClassifier\n",
      "Average Classification Report:\n",
      "              precision    recall  f1-score   support\n",
      "\n",
      "           0       0.34      0.35      0.34       411\n",
      "           1       0.34      0.33      0.33       411\n",
      "           2       0.33      0.34      0.34       411\n",
      "\n",
      "    accuracy                           0.34      1233\n",
      "   macro avg       0.34      0.34      0.34      1233\n",
      "weighted avg       0.34      0.34      0.34      1233\n",
      "\n",
      "---------------------------------------------\n",
      "model_name:  RandomForestClassifier\n",
      "Average Classification Report:\n",
      "              precision    recall  f1-score   support\n",
      "\n",
      "           0       0.89      0.86      0.88       411\n",
      "           1       0.87      0.85      0.86       411\n",
      "           2       0.74      0.78      0.76       411\n",
      "\n",
      "    accuracy                           0.83      1233\n",
      "   macro avg       0.83      0.83      0.83      1233\n",
      "weighted avg       0.83      0.83      0.83      1233\n",
      "\n",
      "---------------------------------------------\n",
      "model_name:  SVC\n",
      "Average Classification Report:\n",
      "              precision    recall  f1-score   support\n",
      "\n",
      "           0       0.80      0.84      0.82       411\n",
      "           1       0.79      0.83      0.81       411\n",
      "           2       0.69      0.63      0.66       411\n",
      "\n",
      "    accuracy                           0.76      1233\n",
      "   macro avg       0.76      0.76      0.76      1233\n",
      "weighted avg       0.76      0.76      0.76      1233\n",
      "\n",
      "---------------------------------------------\n",
      "model_name:  MLPClassifier\n",
      "Average Classification Report:\n",
      "              precision    recall  f1-score   support\n",
      "\n",
      "           0       0.82      0.84      0.83       411\n",
      "           1       0.83      0.86      0.84       411\n",
      "           2       0.73      0.68      0.71       411\n",
      "\n",
      "    accuracy                           0.79      1233\n",
      "   macro avg       0.79      0.79      0.79      1233\n",
      "weighted avg       0.79      0.79      0.79      1233\n",
      "\n",
      "---------------------------------------------\n",
      "model_name:  XGBClassifier\n",
      "Average Classification Report:\n",
      "              precision    recall  f1-score   support\n",
      "\n",
      "           0       0.87      0.83      0.85       411\n",
      "           1       0.87      0.85      0.86       411\n",
      "           2       0.72      0.77      0.74       411\n",
      "\n",
      "    accuracy                           0.81      1233\n",
      "   macro avg       0.82      0.81      0.82      1233\n",
      "weighted avg       0.82      0.81      0.82      1233\n",
      "\n"
     ]
    },
    {
     "data": {
      "text/plain": "<Figure size 432x288 with 1 Axes>",
      "image/png": "[encoded data removed]"
     },
     "metadata": {
      "needs_background": "light"
     },
     "output_type": "display_data"
    },
    {
     "data": {
      "text/plain": "  Modelo  Acurácia\n0  Dummy  0.336577\n1     RF  0.831306\n2    SVM  0.763990\n3    MLP  0.794809\n4    XGB  0.814274",
      "text/html": "<div>\n<style scoped>\n    .dataframe tbody tr th:only-of-type {\n        vertical-align: middle;\n    }\n\n    .dataframe tbody tr th {\n        vertical-align: top;\n    }\n\n    .dataframe thead th {\n        text-align: right;\n    }\n</style>\n<table border=\"1\" class=\"dataframe\">\n  <thead>\n    <tr style=\"text-align: right;\">\n      <th></th>\n      <th>Modelo</th>\n      <th>Acurácia</th>\n    </tr>\n  </thead>\n  <tbody>\n    <tr>\n      <th>0</th>\n      <td>Dummy</td>\n      <td>0.336577</td>\n    </tr>\n    <tr>\n      <th>1</th>\n      <td>RF</td>\n      <td>0.831306</td>\n    </tr>\n    <tr>\n      <th>2</th>\n      <td>SVM</td>\n      <td>0.763990</td>\n    </tr>\n    <tr>\n      <th>3</th>\n      <td>MLP</td>\n      <td>0.794809</td>\n    </tr>\n    <tr>\n      <th>4</th>\n      <td>XGB</td>\n      <td>0.814274</td>\n    </tr>\n  </tbody>\n</table>\n</div>"
     },
     "execution_count": 37,
     "metadata": {},
     "output_type": "execute_result"
    }
   ],
   "source": [
    "# Importando o SMOTE-NC (Synthetic Minority Oversampling Technique for Nominal and Continuous)\n",
    "from imblearn.over_sampling import SMOTENC\n",
    "\n",
    "# Definindo as colunas categóricas, chamando a função criada anteriormente\n",
    "c_features = verifica_categoricas(X)\n",
    "\n",
    "# Criando o modelo SMOTE\n",
    "smote = SMOTENC(c_features, random_state=42)\n",
    "\n",
    "# Aplicando o SMOTE nos dados de treino\n",
    "X_train_smote, y_train_smote = smote.fit_resample(X_train_re, y_train_re)\n",
    "\n",
    "avalia_dif_modelos_cv(X_train_smote, y_train_smote, 10)"
   ]
  },
  {
   "cell_type": "markdown",
   "metadata": {},
   "source": [
    "#### (2) - ROSE\n",
    "Nesse caso vamos usar 'ROSE', mas é importante ressaltar que teremos dados categoricos e numericos, então vamos usar o rose para dados mistos."
   ]
  },
  {
   "cell_type": "code",
   "execution_count": 39,
   "metadata": {
    "ExecuteTime": {
     "end_time": "2023-06-01T13:43:03.614075Z",
     "start_time": "2023-06-01T13:42:27.562643900Z"
    }
   },
   "outputs": [
    {
     "name": "stdout",
     "output_type": "stream",
     "text": [
      "---------------------------------------------\n",
      "model_name:  DummyClassifier\n",
      "Average Classification Report:\n",
      "              precision    recall  f1-score   support\n",
      "\n",
      "           0       0.32      0.35      0.33       411\n",
      "           1       0.31      0.28      0.29       411\n",
      "           2       0.37      0.36      0.37       411\n",
      "\n",
      "    accuracy                           0.33      1233\n",
      "   macro avg       0.33      0.33      0.33      1233\n",
      "weighted avg       0.33      0.33      0.33      1233\n",
      "\n",
      "---------------------------------------------\n",
      "model_name:  RandomForestClassifier\n",
      "Average Classification Report:\n",
      "              precision    recall  f1-score   support\n",
      "\n",
      "           0       0.95      0.99      0.97       411\n",
      "           1       0.93      1.00      0.96       411\n",
      "           2       0.98      0.86      0.92       411\n",
      "\n",
      "    accuracy                           0.95      1233\n",
      "   macro avg       0.95      0.95      0.95      1233\n",
      "weighted avg       0.95      0.95      0.95      1233\n",
      "\n",
      "---------------------------------------------\n",
      "model_name:  SVC\n",
      "Average Classification Report:\n",
      "              precision    recall  f1-score   support\n",
      "\n",
      "           0       0.68      0.78      0.72       411\n",
      "           1       0.73      0.77      0.75       411\n",
      "           2       0.56      0.45      0.50       411\n",
      "\n",
      "    accuracy                           0.67      1233\n",
      "   macro avg       0.66      0.67      0.66      1233\n",
      "weighted avg       0.66      0.67      0.66      1233\n",
      "\n",
      "---------------------------------------------\n",
      "model_name:  MLPClassifier\n",
      "Average Classification Report:\n",
      "              precision    recall  f1-score   support\n",
      "\n",
      "           0       0.85      0.99      0.92       411\n",
      "           1       0.86      1.00      0.92       411\n",
      "           2       0.98      0.67      0.79       411\n",
      "\n",
      "    accuracy                           0.88      1233\n",
      "   macro avg       0.90      0.88      0.88      1233\n",
      "weighted avg       0.90      0.88      0.88      1233\n",
      "\n",
      "---------------------------------------------\n",
      "model_name:  XGBClassifier\n",
      "Average Classification Report:\n",
      "              precision    recall  f1-score   support\n",
      "\n",
      "           0       0.88      0.99      0.93       411\n",
      "           1       0.89      1.00      0.94       411\n",
      "           2       0.98      0.74      0.84       411\n",
      "\n",
      "    accuracy                           0.91      1233\n",
      "   macro avg       0.92      0.91      0.90      1233\n",
      "weighted avg       0.92      0.91      0.90      1233\n",
      "\n"
     ]
    },
    {
     "data": {
      "text/plain": "<Figure size 432x288 with 1 Axes>",
      "image/png": "[encoded data removed]"
     },
     "metadata": {
      "needs_background": "light"
     },
     "output_type": "display_data"
    },
    {
     "data": {
      "text/plain": "  Modelo  Acurácia\n0  Dummy  0.331711\n1     RF  0.949716\n2    SVM  0.665045\n3    MLP  0.884023\n4    XGB  0.907543",
      "text/html": "<div>\n<style scoped>\n    .dataframe tbody tr th:only-of-type {\n        vertical-align: middle;\n    }\n\n    .dataframe tbody tr th {\n        vertical-align: top;\n    }\n\n    .dataframe thead th {\n        text-align: right;\n    }\n</style>\n<table border=\"1\" class=\"dataframe\">\n  <thead>\n    <tr style=\"text-align: right;\">\n      <th></th>\n      <th>Modelo</th>\n      <th>Acurácia</th>\n    </tr>\n  </thead>\n  <tbody>\n    <tr>\n      <th>0</th>\n      <td>Dummy</td>\n      <td>0.331711</td>\n    </tr>\n    <tr>\n      <th>1</th>\n      <td>RF</td>\n      <td>0.949716</td>\n    </tr>\n    <tr>\n      <th>2</th>\n      <td>SVM</td>\n      <td>0.665045</td>\n    </tr>\n    <tr>\n      <th>3</th>\n      <td>MLP</td>\n      <td>0.884023</td>\n    </tr>\n    <tr>\n      <th>4</th>\n      <td>XGB</td>\n      <td>0.907543</td>\n    </tr>\n  </tbody>\n</table>\n</div>"
     },
     "execution_count": 39,
     "metadata": {},
     "output_type": "execute_result"
    }
   ],
   "source": [
    "# Importando o ROSE para dados mistos\n",
    "from imblearn.over_sampling import RandomOverSampler\n",
    "# Criando o modelo ROSE\n",
    "rose = RandomOverSampler(random_state=43)\n",
    "\n",
    "# Aplicando o ROSE nos dados de treino\n",
    "X_train_rose, y_train_rose = rose.fit_resample(X_train_re, y_train_re)\n",
    "\n",
    "# Aplicando a função de avaliação cruzada com os dados balanceados\n",
    "avalia_dif_modelos_cv(X_train_rose, y_train_rose, 10)\n"
   ]
  },
  {
   "cell_type": "code",
   "execution_count": 44,
   "outputs": [
    {
     "name": "stdout",
     "output_type": "stream",
     "text": [
      "              precision    recall  f1-score   support\n",
      "\n",
      "           0       0.24      0.15      0.18        48\n",
      "           1       0.37      0.20      0.26        51\n",
      "           2       0.62      0.79      0.69       163\n",
      "\n",
      "    accuracy                           0.55       262\n",
      "   macro avg       0.41      0.38      0.38       262\n",
      "weighted avg       0.50      0.55      0.51       262\n",
      "\n"
     ]
    }
   ],
   "source": [],
   "metadata": {
    "collapsed": false,
    "ExecuteTime": {
     "end_time": "2023-06-01T13:46:04.875509500Z",
     "start_time": "2023-06-01T13:46:04.455481200Z"
    }
   }
  },
  {
   "cell_type": "markdown",
   "metadata": {},
   "source": [
    "## Aplicando Tecnicas de Tuning (Feature Selection e Hyperparameter Tuning);\n"
   ]
  },
  {
   "cell_type": "code",
   "execution_count": null,
   "outputs": [],
   "source": [
    "# TODO: Aplicar SFFS na base RandonOverSampling com o RF\n",
    "# TODO: Aplicar SBFS na base RandonOverSampling com o RF\n",
    "# TODO: Selecionar melhor e aplicar GridSearchCV e RandomizedSearchCV"
   ],
   "metadata": {
    "collapsed": false
   }
  },
  {
   "cell_type": "code",
   "execution_count": 74,
   "outputs": [
    {
     "data": {
      "text/plain": "SequentialFeatureSelector(estimator=MLPClassifier(), floating=True,\n                          k_features=(1, 54), n_jobs=-1, scoring='accuracy')",
      "text/html": "<style>#sk-container-id-5 {color: black;background-color: white;}#sk-container-id-5 pre{padding: 0;}#sk-container-id-5 div.sk-toggleable {background-color: white;}#sk-container-id-5 label.sk-toggleable__label {cursor: pointer;display: block;width: 100%;margin-bottom: 0;padding: 0.3em;box-sizing: border-box;text-align: center;}#sk-container-id-5 label.sk-toggleable__label-arrow:before {content: \"▸\";float: left;margin-right: 0.25em;color: #696969;}#sk-container-id-5 label.sk-toggleable__label-arrow:hover:before {color: black;}#sk-container-id-5 div.sk-estimator:hover label.sk-toggleable__label-arrow:before {color: black;}#sk-container-id-5 div.sk-toggleable__content {max-height: 0;max-width: 0;overflow: hidden;text-align: left;background-color: #f0f8ff;}#sk-container-id-5 div.sk-toggleable__content pre {margin: 0.2em;color: black;border-radius: 0.25em;background-color: #f0f8ff;}#sk-container-id-5 input.sk-toggleable__control:checked~div.sk-toggleable__content {max-height: 200px;max-width: 100%;overflow: auto;}#sk-container-id-5 input.sk-toggleable__control:checked~label.sk-toggleable__label-arrow:before {content: \"▾\";}#sk-container-id-5 div.sk-estimator input.sk-toggleable__control:checked~label.sk-toggleable__label {background-color: #d4ebff;}#sk-container-id-5 div.sk-label input.sk-toggleable__control:checked~label.sk-toggleable__label {background-color: #d4ebff;}#sk-container-id-5 input.sk-hidden--visually {border: 0;clip: rect(1px 1px 1px 1px);clip: rect(1px, 1px, 1px, 1px);height: 1px;margin: -1px;overflow: hidden;padding: 0;position: absolute;width: 1px;}#sk-container-id-5 div.sk-estimator {font-family: monospace;background-color: #f0f8ff;border: 1px dotted black;border-radius: 0.25em;box-sizing: border-box;margin-bottom: 0.5em;}#sk-container-id-5 div.sk-estimator:hover {background-color: #d4ebff;}#sk-container-id-5 div.sk-parallel-item::after {content: \"\";width: 100%;border-bottom: 1px solid gray;flex-grow: 1;}#sk-container-id-5 div.sk-label:hover label.sk-toggleable__label {background-color: #d4ebff;}#sk-container-id-5 div.sk-serial::before {content: \"\";position: absolute;border-left: 1px solid gray;box-sizing: border-box;top: 0;bottom: 0;left: 50%;z-index: 0;}#sk-container-id-5 div.sk-serial {display: flex;flex-direction: column;align-items: center;background-color: white;padding-right: 0.2em;padding-left: 0.2em;position: relative;}#sk-container-id-5 div.sk-item {position: relative;z-index: 1;}#sk-container-id-5 div.sk-parallel {display: flex;align-items: stretch;justify-content: center;background-color: white;position: relative;}#sk-container-id-5 div.sk-item::before, #sk-container-id-5 div.sk-parallel-item::before {content: \"\";position: absolute;border-left: 1px solid gray;box-sizing: border-box;top: 0;bottom: 0;left: 50%;z-index: -1;}#sk-container-id-5 div.sk-parallel-item {display: flex;flex-direction: column;z-index: 1;position: relative;background-color: white;}#sk-container-id-5 div.sk-parallel-item:first-child::after {align-self: flex-end;width: 50%;}#sk-container-id-5 div.sk-parallel-item:last-child::after {align-self: flex-start;width: 50%;}#sk-container-id-5 div.sk-parallel-item:only-child::after {width: 0;}#sk-container-id-5 div.sk-dashed-wrapped {border: 1px dashed gray;margin: 0 0.4em 0.5em 0.4em;box-sizing: border-box;padding-bottom: 0.4em;background-color: white;}#sk-container-id-5 div.sk-label label {font-family: monospace;font-weight: bold;display: inline-block;line-height: 1.2em;}#sk-container-id-5 div.sk-label-container {text-align: center;}#sk-container-id-5 div.sk-container {/* jupyter's `normalize.less` sets `[hidden] { display: none; }` but bootstrap.min.css set `[hidden] { display: none !important; }` so we also need the `!important` here to be able to override the default hidden behavior on the sphinx rendered scikit-learn.org. See: https://github.com/scikit-learn/scikit-learn/issues/21755 */display: inline-block !important;position: relative;}#sk-container-id-5 div.sk-text-repr-fallback {display: none;}</style><div id=\"sk-container-id-5\" class=\"sk-top-container\"><div class=\"sk-text-repr-fallback\"><pre>SequentialFeatureSelector(estimator=MLPClassifier(), floating=True,\n                          k_features=(1, 54), n_jobs=-1, scoring=&#x27;accuracy&#x27;)</pre><b>In a Jupyter environment, please rerun this cell to show the HTML representation or trust the notebook. <br />On GitHub, the HTML representation is unable to render, please try loading this page with nbviewer.org.</b></div><div class=\"sk-container\" hidden><div class=\"sk-item sk-dashed-wrapped\"><div class=\"sk-label-container\"><div class=\"sk-label sk-toggleable\"><input class=\"sk-toggleable__control sk-hidden--visually\" id=\"sk-estimator-id-13\" type=\"checkbox\" ><label for=\"sk-estimator-id-13\" class=\"sk-toggleable__label sk-toggleable__label-arrow\">SequentialFeatureSelector</label><div class=\"sk-toggleable__content\"><pre>SequentialFeatureSelector(estimator=MLPClassifier(), floating=True,\n                          k_features=(1, 54), n_jobs=-1, scoring=&#x27;accuracy&#x27;)</pre></div></div></div><div class=\"sk-parallel\"><div class=\"sk-parallel-item\"><div class=\"sk-item\"><div class=\"sk-label-container\"><div class=\"sk-label sk-toggleable\"><input class=\"sk-toggleable__control sk-hidden--visually\" id=\"sk-estimator-id-14\" type=\"checkbox\" ><label for=\"sk-estimator-id-14\" class=\"sk-toggleable__label sk-toggleable__label-arrow\">estimator: MLPClassifier</label><div class=\"sk-toggleable__content\"><pre>MLPClassifier()</pre></div></div></div><div class=\"sk-serial\"><div class=\"sk-item\"><div class=\"sk-estimator sk-toggleable\"><input class=\"sk-toggleable__control sk-hidden--visually\" id=\"sk-estimator-id-15\" type=\"checkbox\" ><label for=\"sk-estimator-id-15\" class=\"sk-toggleable__label sk-toggleable__label-arrow\">MLPClassifier</label><div class=\"sk-toggleable__content\"><pre>MLPClassifier()</pre></div></div></div></div></div></div></div></div></div></div>"
     },
     "execution_count": 74,
     "metadata": {},
     "output_type": "execute_result"
    }
   ],
   "source": [
    "# # Importando as bibliotecas necessárias\n",
    "from mlxtend.feature_selection import SequentialFeatureSelector as SFS\n",
    "\n",
    "# Criando o modelo de classificação MLP\n",
    "mlp_SFFS = MLPClassifier()\n",
    "# Criando o objeto SFS\n",
    "sffs = SFS(mlp_SFFS, k_features=\"best\", forward=True, floating=True, scoring='accuracy', cv=5, n_jobs=-1)\n",
    "# Aplicanod SFFS\n",
    "sffs.fit(X_rus, y_rus)"
   ],
   "metadata": {
    "collapsed": false,
    "ExecuteTime": {
     "end_time": "2023-05-29T18:33:07.003178700Z",
     "start_time": "2023-05-29T17:22:43.534845500Z"
    }
   }
  },
  {
   "cell_type": "code",
   "execution_count": 75,
   "outputs": [
    {
     "name": "stderr",
     "output_type": "stream",
     "text": [
      "C:\\Users\\lucas\\anaconda3\\envs\\BIC\\Lib\\site-packages\\sklearn\\neural_network\\_multilayer_perceptron.py:686: ConvergenceWarning: Stochastic Optimizer: Maximum iterations (200) reached and the optimization hasn't converged yet.\n",
      "  warnings.warn(\n",
      "C:\\Users\\lucas\\anaconda3\\envs\\BIC\\Lib\\site-packages\\sklearn\\neural_network\\_multilayer_perceptron.py:686: ConvergenceWarning: Stochastic Optimizer: Maximum iterations (200) reached and the optimization hasn't converged yet.\n",
      "  warnings.warn(\n",
      "C:\\Users\\lucas\\anaconda3\\envs\\BIC\\Lib\\site-packages\\sklearn\\neural_network\\_multilayer_perceptron.py:686: ConvergenceWarning: Stochastic Optimizer: Maximum iterations (200) reached and the optimization hasn't converged yet.\n",
      "  warnings.warn(\n",
      "C:\\Users\\lucas\\anaconda3\\envs\\BIC\\Lib\\site-packages\\sklearn\\neural_network\\_multilayer_perceptron.py:686: ConvergenceWarning: Stochastic Optimizer: Maximum iterations (200) reached and the optimization hasn't converged yet.\n",
      "  warnings.warn(\n",
      "C:\\Users\\lucas\\anaconda3\\envs\\BIC\\Lib\\site-packages\\sklearn\\neural_network\\_multilayer_perceptron.py:686: ConvergenceWarning: Stochastic Optimizer: Maximum iterations (200) reached and the optimization hasn't converged yet.\n",
      "  warnings.warn(\n"
     ]
    },
    {
     "data": {
      "text/plain": "SequentialFeatureSelector(estimator=MLPClassifier(), floating=True,\n                          forward=False, k_features=(1, 54), n_jobs=-1,\n                          scoring='accuracy')",
      "text/html": "<style>#sk-container-id-6 {color: black;background-color: white;}#sk-container-id-6 pre{padding: 0;}#sk-container-id-6 div.sk-toggleable {background-color: white;}#sk-container-id-6 label.sk-toggleable__label {cursor: pointer;display: block;width: 100%;margin-bottom: 0;padding: 0.3em;box-sizing: border-box;text-align: center;}#sk-container-id-6 label.sk-toggleable__label-arrow:before {content: \"▸\";float: left;margin-right: 0.25em;color: #696969;}#sk-container-id-6 label.sk-toggleable__label-arrow:hover:before {color: black;}#sk-container-id-6 div.sk-estimator:hover label.sk-toggleable__label-arrow:before {color: black;}#sk-container-id-6 div.sk-toggleable__content {max-height: 0;max-width: 0;overflow: hidden;text-align: left;background-color: #f0f8ff;}#sk-container-id-6 div.sk-toggleable__content pre {margin: 0.2em;color: black;border-radius: 0.25em;background-color: #f0f8ff;}#sk-container-id-6 input.sk-toggleable__control:checked~div.sk-toggleable__content {max-height: 200px;max-width: 100%;overflow: auto;}#sk-container-id-6 input.sk-toggleable__control:checked~label.sk-toggleable__label-arrow:before {content: \"▾\";}#sk-container-id-6 div.sk-estimator input.sk-toggleable__control:checked~label.sk-toggleable__label {background-color: #d4ebff;}#sk-container-id-6 div.sk-label input.sk-toggleable__control:checked~label.sk-toggleable__label {background-color: #d4ebff;}#sk-container-id-6 input.sk-hidden--visually {border: 0;clip: rect(1px 1px 1px 1px);clip: rect(1px, 1px, 1px, 1px);height: 1px;margin: -1px;overflow: hidden;padding: 0;position: absolute;width: 1px;}#sk-container-id-6 div.sk-estimator {font-family: monospace;background-color: #f0f8ff;border: 1px dotted black;border-radius: 0.25em;box-sizing: border-box;margin-bottom: 0.5em;}#sk-container-id-6 div.sk-estimator:hover {background-color: #d4ebff;}#sk-container-id-6 div.sk-parallel-item::after {content: \"\";width: 100%;border-bottom: 1px solid gray;flex-grow: 1;}#sk-container-id-6 div.sk-label:hover label.sk-toggleable__label {background-color: #d4ebff;}#sk-container-id-6 div.sk-serial::before {content: \"\";position: absolute;border-left: 1px solid gray;box-sizing: border-box;top: 0;bottom: 0;left: 50%;z-index: 0;}#sk-container-id-6 div.sk-serial {display: flex;flex-direction: column;align-items: center;background-color: white;padding-right: 0.2em;padding-left: 0.2em;position: relative;}#sk-container-id-6 div.sk-item {position: relative;z-index: 1;}#sk-container-id-6 div.sk-parallel {display: flex;align-items: stretch;justify-content: center;background-color: white;position: relative;}#sk-container-id-6 div.sk-item::before, #sk-container-id-6 div.sk-parallel-item::before {content: \"\";position: absolute;border-left: 1px solid gray;box-sizing: border-box;top: 0;bottom: 0;left: 50%;z-index: -1;}#sk-container-id-6 div.sk-parallel-item {display: flex;flex-direction: column;z-index: 1;position: relative;background-color: white;}#sk-container-id-6 div.sk-parallel-item:first-child::after {align-self: flex-end;width: 50%;}#sk-container-id-6 div.sk-parallel-item:last-child::after {align-self: flex-start;width: 50%;}#sk-container-id-6 div.sk-parallel-item:only-child::after {width: 0;}#sk-container-id-6 div.sk-dashed-wrapped {border: 1px dashed gray;margin: 0 0.4em 0.5em 0.4em;box-sizing: border-box;padding-bottom: 0.4em;background-color: white;}#sk-container-id-6 div.sk-label label {font-family: monospace;font-weight: bold;display: inline-block;line-height: 1.2em;}#sk-container-id-6 div.sk-label-container {text-align: center;}#sk-container-id-6 div.sk-container {/* jupyter's `normalize.less` sets `[hidden] { display: none; }` but bootstrap.min.css set `[hidden] { display: none !important; }` so we also need the `!important` here to be able to override the default hidden behavior on the sphinx rendered scikit-learn.org. See: https://github.com/scikit-learn/scikit-learn/issues/21755 */display: inline-block !important;position: relative;}#sk-container-id-6 div.sk-text-repr-fallback {display: none;}</style><div id=\"sk-container-id-6\" class=\"sk-top-container\"><div class=\"sk-text-repr-fallback\"><pre>SequentialFeatureSelector(estimator=MLPClassifier(), floating=True,\n                          forward=False, k_features=(1, 54), n_jobs=-1,\n                          scoring=&#x27;accuracy&#x27;)</pre><b>In a Jupyter environment, please rerun this cell to show the HTML representation or trust the notebook. <br />On GitHub, the HTML representation is unable to render, please try loading this page with nbviewer.org.</b></div><div class=\"sk-container\" hidden><div class=\"sk-item sk-dashed-wrapped\"><div class=\"sk-label-container\"><div class=\"sk-label sk-toggleable\"><input class=\"sk-toggleable__control sk-hidden--visually\" id=\"sk-estimator-id-16\" type=\"checkbox\" ><label for=\"sk-estimator-id-16\" class=\"sk-toggleable__label sk-toggleable__label-arrow\">SequentialFeatureSelector</label><div class=\"sk-toggleable__content\"><pre>SequentialFeatureSelector(estimator=MLPClassifier(), floating=True,\n                          forward=False, k_features=(1, 54), n_jobs=-1,\n                          scoring=&#x27;accuracy&#x27;)</pre></div></div></div><div class=\"sk-parallel\"><div class=\"sk-parallel-item\"><div class=\"sk-item\"><div class=\"sk-label-container\"><div class=\"sk-label sk-toggleable\"><input class=\"sk-toggleable__control sk-hidden--visually\" id=\"sk-estimator-id-17\" type=\"checkbox\" ><label for=\"sk-estimator-id-17\" class=\"sk-toggleable__label sk-toggleable__label-arrow\">estimator: MLPClassifier</label><div class=\"sk-toggleable__content\"><pre>MLPClassifier()</pre></div></div></div><div class=\"sk-serial\"><div class=\"sk-item\"><div class=\"sk-estimator sk-toggleable\"><input class=\"sk-toggleable__control sk-hidden--visually\" id=\"sk-estimator-id-18\" type=\"checkbox\" ><label for=\"sk-estimator-id-18\" class=\"sk-toggleable__label sk-toggleable__label-arrow\">MLPClassifier</label><div class=\"sk-toggleable__content\"><pre>MLPClassifier()</pre></div></div></div></div></div></div></div></div></div></div>"
     },
     "execution_count": 75,
     "metadata": {},
     "output_type": "execute_result"
    }
   ],
   "source": [
    "# Criando o modelo de classificação para o SBFS\n",
    "mlp_SBFS = MLPClassifier()\n",
    "# Criando o objeto SBFS\n",
    "sbfs = SFS(mlp_SBFS, k_features=\"best\", forward=False, floating=True, scoring='accuracy', cv=5, n_jobs=-1)\n",
    "# Aplicanod SBFS\n",
    "sbfs.fit(X_rus, y_rus)"
   ],
   "metadata": {
    "collapsed": false,
    "ExecuteTime": {
     "end_time": "2023-05-29T19:24:46.317795900Z",
     "start_time": "2023-05-29T18:33:07.003178700Z"
    }
   }
  },
  {
   "cell_type": "code",
   "execution_count": 47,
   "outputs": [
    {
     "ename": "NameError",
     "evalue": "name 'sffs' is not defined",
     "output_type": "error",
     "traceback": [
      "\u001B[1;31m---------------------------------------------------------------------------\u001B[0m",
      "\u001B[1;31mNameError\u001B[0m                                 Traceback (most recent call last)",
      "Cell \u001B[1;32mIn[47], line 5\u001B[0m\n\u001B[0;32m      1\u001B[0m \u001B[38;5;66;03m# Plotando o gráfico com os resultados do SFFS vs SBFS para verificar qual deles é melhor considerando que sffs.get_metrics_dict() retorna um dicionário com as métricas de cada iteração no formato numpy.float() e nao tem um atribulo plot()\u001B[39;00m\n\u001B[0;32m      2\u001B[0m \u001B[38;5;66;03m# Marcar o melhor ponto de cada um no gráfico\u001B[39;00m\n\u001B[0;32m      4\u001B[0m fig, ax \u001B[38;5;241m=\u001B[39m plt\u001B[38;5;241m.\u001B[39msubplots(\u001B[38;5;241m1\u001B[39m, \u001B[38;5;241m2\u001B[39m, figsize\u001B[38;5;241m=\u001B[39m(\u001B[38;5;241m15\u001B[39m, \u001B[38;5;241m5\u001B[39m))\n\u001B[1;32m----> 5\u001B[0m pd\u001B[38;5;241m.\u001B[39mDataFrame\u001B[38;5;241m.\u001B[39mfrom_dict(sffs\u001B[38;5;241m.\u001B[39mget_metric_dict())\u001B[38;5;241m.\u001B[39mT[[\u001B[38;5;124m'\u001B[39m\u001B[38;5;124mavg_score\u001B[39m\u001B[38;5;124m'\u001B[39m]]\u001B[38;5;241m.\u001B[39mplot(ax\u001B[38;5;241m=\u001B[39max[\u001B[38;5;241m0\u001B[39m], kind\u001B[38;5;241m=\u001B[39m\u001B[38;5;124m'\u001B[39m\u001B[38;5;124mline\u001B[39m\u001B[38;5;124m'\u001B[39m)\n\u001B[0;32m      6\u001B[0m pd\u001B[38;5;241m.\u001B[39mDataFrame\u001B[38;5;241m.\u001B[39mfrom_dict(sbfs\u001B[38;5;241m.\u001B[39mget_metric_dict())\u001B[38;5;241m.\u001B[39mT[[\u001B[38;5;124m'\u001B[39m\u001B[38;5;124mavg_score\u001B[39m\u001B[38;5;124m'\u001B[39m]]\u001B[38;5;241m.\u001B[39mplot(ax\u001B[38;5;241m=\u001B[39max[\u001B[38;5;241m1\u001B[39m], kind\u001B[38;5;241m=\u001B[39m\u001B[38;5;124m'\u001B[39m\u001B[38;5;124mline\u001B[39m\u001B[38;5;124m'\u001B[39m)\n\u001B[0;32m      7\u001B[0m ax[\u001B[38;5;241m0\u001B[39m]\u001B[38;5;241m.\u001B[39mset_title(\u001B[38;5;124m'\u001B[39m\u001B[38;5;124mSFFS\u001B[39m\u001B[38;5;124m'\u001B[39m)\n",
      "\u001B[1;31mNameError\u001B[0m: name 'sffs' is not defined"
     ]
    },
    {
     "data": {
      "text/plain": "<Figure size 1080x360 with 2 Axes>",
      "image/png": "[encoded data removed]"
     },
     "metadata": {
      "needs_background": "light"
     },
     "output_type": "display_data"
    }
   ],
   "source": [
    "# Plotando o gráfico com os resultados do SFFS vs SBFS para verificar qual deles é melhor considerando que sffs.get_metrics_dict() retorna um dicionário com as métricas de cada iteração no formato numpy.float() e nao tem um atribulo plot()\n",
    "# Marcar o melhor ponto de cada um no gráfico\n",
    "\n",
    "fig, ax = plt.subplots(1, 2, figsize=(15, 5))\n",
    "pd.DataFrame.from_dict(sffs.get_metric_dict()).T[['avg_score']].plot(ax=ax[0], kind='line')\n",
    "pd.DataFrame.from_dict(sbfs.get_metric_dict()).T[['avg_score']].plot(ax=ax[1], kind='line')\n",
    "ax[0].set_title('SFFS')\n",
    "ax[1].set_title('SBFS')\n",
    "# Legenda eixo x\n",
    "ax[0].set_xlabel('Num de Atributos')\n",
    "ax[1].set_xlabel('Num de Atributos')\n",
    "# Legenda eixo y\n",
    "ax[0].set_ylabel('Acurácia')\n",
    "ax[1].set_ylabel('Acurácia')\n",
    "\n",
    "plt.show()"
   ],
   "metadata": {
    "collapsed": false,
    "ExecuteTime": {
     "end_time": "2023-06-01T13:59:26.348717700Z",
     "start_time": "2023-06-01T13:59:25.350684400Z"
    }
   }
  },
  {
   "cell_type": "code",
   "execution_count": 77,
   "outputs": [
    {
     "data": {
      "text/plain": "   avg_score\n33  0.703916\n31  0.703916\n32   0.70076\n29  0.700643\n27  0.693863\n39  0.690532\n28  0.690473\n34  0.690415\n35  0.687259\n30  0.687084",
      "text/html": "<div>\n<style scoped>\n    .dataframe tbody tr th:only-of-type {\n        vertical-align: middle;\n    }\n\n    .dataframe tbody tr th {\n        vertical-align: top;\n    }\n\n    .dataframe thead th {\n        text-align: right;\n    }\n</style>\n<table border=\"1\" class=\"dataframe\">\n  <thead>\n    <tr style=\"text-align: right;\">\n      <th></th>\n      <th>avg_score</th>\n    </tr>\n  </thead>\n  <tbody>\n    <tr>\n      <th>33</th>\n      <td>0.703916</td>\n    </tr>\n    <tr>\n      <th>31</th>\n      <td>0.703916</td>\n    </tr>\n    <tr>\n      <th>32</th>\n      <td>0.70076</td>\n    </tr>\n    <tr>\n      <th>29</th>\n      <td>0.700643</td>\n    </tr>\n    <tr>\n      <th>27</th>\n      <td>0.693863</td>\n    </tr>\n    <tr>\n      <th>39</th>\n      <td>0.690532</td>\n    </tr>\n    <tr>\n      <th>28</th>\n      <td>0.690473</td>\n    </tr>\n    <tr>\n      <th>34</th>\n      <td>0.690415</td>\n    </tr>\n    <tr>\n      <th>35</th>\n      <td>0.687259</td>\n    </tr>\n    <tr>\n      <th>30</th>\n      <td>0.687084</td>\n    </tr>\n  </tbody>\n</table>\n</div>"
     },
     "execution_count": 77,
     "metadata": {},
     "output_type": "execute_result"
    }
   ],
   "source": [
    "# Imprimindo o melhor score de cada um como um df mostrando apenas os 10 melhores, colunas \"Number of Features\" e \"avg_score\"\n",
    "pd.DataFrame.from_dict(sffs.get_metric_dict()).T[['avg_score']].sort_values(by='avg_score', ascending=False).head(10)"
   ],
   "metadata": {
    "collapsed": false,
    "ExecuteTime": {
     "end_time": "2023-05-29T19:24:49.187000300Z",
     "start_time": "2023-05-29T19:24:49.124068200Z"
    }
   }
  },
  {
   "cell_type": "code",
   "execution_count": 78,
   "outputs": [
    {
     "data": {
      "text/plain": "   avg_score\n19  0.714202\n18  0.714202\n15  0.714144\n17  0.714144\n16  0.714085\n20  0.707306\n23  0.704091\n14  0.703974\n26  0.700701\n24  0.700643",
      "text/html": "<div>\n<style scoped>\n    .dataframe tbody tr th:only-of-type {\n        vertical-align: middle;\n    }\n\n    .dataframe tbody tr th {\n        vertical-align: top;\n    }\n\n    .dataframe thead th {\n        text-align: right;\n    }\n</style>\n<table border=\"1\" class=\"dataframe\">\n  <thead>\n    <tr style=\"text-align: right;\">\n      <th></th>\n      <th>avg_score</th>\n    </tr>\n  </thead>\n  <tbody>\n    <tr>\n      <th>19</th>\n      <td>0.714202</td>\n    </tr>\n    <tr>\n      <th>18</th>\n      <td>0.714202</td>\n    </tr>\n    <tr>\n      <th>15</th>\n      <td>0.714144</td>\n    </tr>\n    <tr>\n      <th>17</th>\n      <td>0.714144</td>\n    </tr>\n    <tr>\n      <th>16</th>\n      <td>0.714085</td>\n    </tr>\n    <tr>\n      <th>20</th>\n      <td>0.707306</td>\n    </tr>\n    <tr>\n      <th>23</th>\n      <td>0.704091</td>\n    </tr>\n    <tr>\n      <th>14</th>\n      <td>0.703974</td>\n    </tr>\n    <tr>\n      <th>26</th>\n      <td>0.700701</td>\n    </tr>\n    <tr>\n      <th>24</th>\n      <td>0.700643</td>\n    </tr>\n  </tbody>\n</table>\n</div>"
     },
     "execution_count": 78,
     "metadata": {},
     "output_type": "execute_result"
    }
   ],
   "source": [
    "# Imprimindo o melhor score de cada um como um df mostrando apenas os 10 melhores\n",
    "pd.DataFrame.from_dict(sbfs.get_metric_dict()).T[['avg_score']].sort_values(by='avg_score', ascending=False).head(10)\n"
   ],
   "metadata": {
    "collapsed": false,
    "ExecuteTime": {
     "end_time": "2023-05-29T19:24:49.214852100Z",
     "start_time": "2023-05-29T19:24:49.171369800Z"
    }
   }
  },
  {
   "cell_type": "code",
   "execution_count": 79,
   "outputs": [
    {
     "name": "stdout",
     "output_type": "stream",
     "text": [
      "SFFS:  Index(['B', 'F', 'N', 'O', 'AD', 'AE', 'AO', 'AT', 'AU', 'AV', 'AW', 'AX',\n",
      "       'AY', 'AZ', 'BD', 'BP', 'D_2.0', 'D_3.0', 'D_5.0', 'E_1.0', 'E_4.0',\n",
      "       'I_1.0', 'I_3.0', 'I_4.0', 'J_1.0', 'J_4.0', 'AA_3.0', 'AA_4.0',\n",
      "       'AB_0.0', 'AB_1.0', 'AB_2.0'],\n",
      "      dtype='object')\n",
      "SBFS:  Index(['B', 'F', 'N', 'O', 'AE', 'AT', 'AU', 'AV', 'AY', 'AZ', 'BD', 'BO',\n",
      "       'BP', 'D_2.0', 'D_5.0', 'E_1.0', 'I_2.0', 'I_3.0', 'J_5.0'],\n",
      "      dtype='object')\n"
     ]
    }
   ],
   "source": [
    "# Imprimindo as features selecionadas por cada um de acordo com o nome original das colunas\n",
    "print('SFFS: ', X_rus.columns[list(sffs.k_feature_idx_)])\n",
    "print('SBFS: ', X_rus.columns[list(sbfs.k_feature_idx_)])\n"
   ],
   "metadata": {
    "collapsed": false,
    "ExecuteTime": {
     "end_time": "2023-05-29T19:24:49.218862400Z",
     "start_time": "2023-05-29T19:24:49.202754600Z"
    }
   }
  },
  {
   "cell_type": "markdown",
   "source": [
    "### GridSearch para encontrar os melhores parametros para cada modelo;"
   ],
   "metadata": {
    "collapsed": false
   }
  },
  {
   "cell_type": "code",
   "execution_count": 57,
   "outputs": [
    {
     "name": "stdout",
     "output_type": "stream",
     "text": [
      "Melhores parametros:  {'activation': 'relu', 'alpha': 0.001, 'batch_size': 32, 'beta_1': 0.9, 'beta_2': 0.9, 'hidden_layer_sizes': (100,), 'learning_rate': 'adaptive', 'max_iter': 200, 'solver': 'adam'}\n",
      "Melhor score:  0.7209234365867914\n"
     ]
    },
    {
     "name": "stderr",
     "output_type": "stream",
     "text": [
      "C:\\Users\\lucas\\anaconda3\\envs\\BIC\\Lib\\site-packages\\sklearn\\neural_network\\_multilayer_perceptron.py:686: ConvergenceWarning: Stochastic Optimizer: Maximum iterations (200) reached and the optimization hasn't converged yet.\n",
      "  warnings.warn(\n"
     ]
    },
    {
     "name": "stdout",
     "output_type": "stream",
     "text": [
      "Melhores parametros:  {'activation': 'relu', 'alpha': 0.01, 'batch_size': 32, 'beta_1': 0.9, 'beta_2': 0.9, 'hidden_layer_sizes': (50,), 'learning_rate': 'constant', 'max_iter': 500, 'solver': 'adam'}\n",
      "Melhor score:  0.72104032729398\n"
     ]
    },
    {
     "name": "stderr",
     "output_type": "stream",
     "text": [
      "C:\\Users\\lucas\\anaconda3\\envs\\BIC\\Lib\\site-packages\\sklearn\\neural_network\\_multilayer_perceptron.py:686: ConvergenceWarning: Stochastic Optimizer: Maximum iterations (500) reached and the optimization hasn't converged yet.\n",
      "  warnings.warn(\n"
     ]
    }
   ],
   "source": [
    "#SFFS:  Index(['B', 'F', 'N', 'O', 'AD', 'AE', 'AO', 'AT', 'AU', 'AV', 'AW', 'AX',\n",
    "#              'AY', 'AZ', 'BD', 'BP', 'D_2.0', 'D_3.0', 'D_5.0', 'E_1.0', 'E_4.0',\n",
    "#              'I_1.0', 'I_3.0', 'I_4.0', 'J_1.0', 'J_4.0', 'AA_3.0', 'AA_4.0',\n",
    "#              'AB_0.0', 'AB_1.0', 'AB_2.0'],\n",
    "#             dtype='object')\n",
    "#SBFS:  Index(['B', 'F', 'N', 'O', 'AE', 'AT', 'AU', 'AV', 'AY', 'AZ', 'BD', 'BO',\n",
    "#              'BP', 'D_2.0', 'D_5.0', 'E_1.0', 'I_2.0', 'I_3.0', 'J_5.0'],\n",
    "#             dtype='object')\n",
    "\n",
    "\n",
    "\n",
    "# Importando o GridSearch\n",
    "from sklearn.model_selection import GridSearchCV\n",
    "sbfs_sel = ['B', 'F', 'N', 'O', 'AE', 'AT', 'AU', 'AV', 'AY', 'AZ', 'BD', 'BO',\n",
    "              'BP', 'D_2.0', 'D_5.0', 'E_1.0', 'I_2.0', 'I_3.0', 'J_5.0']\n",
    "# Pegando as colunas selecionadas pelo SBFS\n",
    "X_train_sbfs = X_rus.loc[:,sbfs_sel]\n",
    "# Definindo os parametros para o GridSearch do MLP\n",
    "param_mlp = {\n",
    "    'hidden_layer_sizes': [(50,), (100,), (50, 50), (100, 100)],\n",
    "    'activation': ['relu', 'tanh'],\n",
    "    'solver': ['sgd', 'adam'],\n",
    "    'alpha': [0.001, 0.01],\n",
    "    'learning_rate': ['constant', 'adaptive'],\n",
    "    'max_iter': [200, 500, 1000],\n",
    "    'batch_size': [16, 32, 64],\n",
    "    'beta_1': [0.9, 0.95, 0.99],\n",
    "    'beta_2': [0.9, 0.95, 0.99],\n",
    "}\n",
    "# Criando o modelo de classificação\n",
    "mlp_gs = MLPClassifier()\n",
    "# Criando o objeto GridSearch\n",
    "gs = GridSearchCV(mlp_gs, param_mlp, scoring='accuracy', cv=5, n_jobs=-1)\n",
    "# Aplicando o GridSearch\n",
    "gs.fit(X_train_sbfs, y_rus)\n",
    "# Imprimindo os melhores parametros\n",
    "print('Melhores parametros: ', gs.best_params_)\n",
    "# Imprimindo o melhor score\n",
    "print('Melhor score: ', gs.best_score_)\n"
   ],
   "metadata": {
    "collapsed": false,
    "ExecuteTime": {
     "end_time": "2023-06-01T20:28:52.016231100Z",
     "start_time": "2023-06-01T17:46:44.112871700Z"
    }
   }
  },
  {
   "cell_type": "code",
   "execution_count": 64,
   "outputs": [
    {
     "data": {
      "text/plain": "   Fold     Score\n0     1  0.593220\n1     2  0.762712\n2     3  0.728814\n3     4  0.644068\n4     5  0.672414",
      "text/html": "<div>\n<style scoped>\n    .dataframe tbody tr th:only-of-type {\n        vertical-align: middle;\n    }\n\n    .dataframe tbody tr th {\n        vertical-align: top;\n    }\n\n    .dataframe thead th {\n        text-align: right;\n    }\n</style>\n<table border=\"1\" class=\"dataframe\">\n  <thead>\n    <tr style=\"text-align: right;\">\n      <th></th>\n      <th>Fold</th>\n      <th>Score</th>\n    </tr>\n  </thead>\n  <tbody>\n    <tr>\n      <th>0</th>\n      <td>1</td>\n      <td>0.593220</td>\n    </tr>\n    <tr>\n      <th>1</th>\n      <td>2</td>\n      <td>0.762712</td>\n    </tr>\n    <tr>\n      <th>2</th>\n      <td>3</td>\n      <td>0.728814</td>\n    </tr>\n    <tr>\n      <th>3</th>\n      <td>4</td>\n      <td>0.644068</td>\n    </tr>\n    <tr>\n      <th>4</th>\n      <td>5</td>\n      <td>0.672414</td>\n    </tr>\n  </tbody>\n</table>\n</div>"
     },
     "execution_count": 64,
     "metadata": {},
     "output_type": "execute_result"
    }
   ],
   "source": [
    "#Melhores parametros:  {'activation': 'relu', 'alpha': 0.01, 'batch_size': 32, 'beta_1': 0.9, 'beta_2': 0.9, 'hidden_layer_sizes': (50,), 'learning_rate': 'constant', 'max_iter': 500, 'solver': 'adam'}\n",
    "#Melhor score:  0.72104032729398\n",
    "\n",
    "\n",
    "best_of_mlp = {'activation': 'relu', 'alpha': 0.01, 'batch_size': 32, 'beta_1': 0.9, 'beta_2': 0.9, 'hidden_layer_sizes': (50,), 'learning_rate': 'constant', 'max_iter': 1000, 'solver': 'adam'}\n",
    "\n",
    "from sklearn.model_selection import cross_val_score\n",
    "# Pegando as colunas selecionadas pelo SBFS e a base balanceada, e utilizanod os dados de teste para testar o modelo com um cross validation de 10 folds\n",
    "X_train_sbfs = X_rus.loc[:,sbfs_sel]\n",
    "# Definindo modelo MLP com os parametros encontrados pelo GridSearch\n",
    "mlp_best = MLPClassifier(**best_of_mlp)\n",
    "# Aplicando o cross validation\n",
    "scores = cross_val_score(mlp_best, X_train_sbfs, y_rus, cv=5, scoring='accuracy')\n",
    "# Imprimindo resutlados do cross validation em uma tabela do pandas para melhor visualização, mostrando o indice do fold e somente no final a media e o desvio padrão\n",
    "pd.DataFrame({'Fold': range(1, len(scores) + 1), 'Score': scores})\n",
    "\n",
    "\n"
   ],
   "metadata": {
    "collapsed": false,
    "ExecuteTime": {
     "end_time": "2023-06-01T21:15:28.112806800Z",
     "start_time": "2023-06-01T21:15:15.414135300Z"
    }
   }
  },
  {
   "cell_type": "code",
   "execution_count": 65,
   "outputs": [
    {
     "name": "stdout",
     "output_type": "stream",
     "text": [
      "Score medio:  0.6802454704850964\n",
      "Desvio padrao:  0.06017158490563132\n"
     ]
    }
   ],
   "source": [
    "# Imprimindo o score medio e o desvio padrao\n",
    "print('Score medio: ', scores.mean())\n",
    "print('Desvio padrao: ', scores.std())"
   ],
   "metadata": {
    "collapsed": false,
    "ExecuteTime": {
     "end_time": "2023-06-01T21:15:33.282482800Z",
     "start_time": "2023-06-01T21:15:33.258349200Z"
    }
   }
  },
  {
   "cell_type": "code",
   "execution_count": null,
   "outputs": [],
   "source": [
    "# Criando Grafico comparando os resultados do Modelo Sem Tuning e com Tuning\n",
    "\n",
    "# Pegando os melhores parametros\n",
    "mlp_best = gs.best_estimator_\n",
    "# Testando o modelo com os melhores parametros encontrados do gridsearch\n",
    "X_test_sbfs = X_test_re.iloc[:,list(sffs.k_feature_idx_)]\n",
    "\n",
    "mlp_best.fit(X_train_sbfs, y_rus)\n",
    "mlp_best.predict(X_test_sbfs)\n",
    "gs_acu = accuracy_score(y_test_re, mlp_best.predict(X_test_sbfs))\n",
    "print('Acurácia do modelo com tuning: ', gs_acu)\n",
    "\n",
    "# Testando modelo sem tuning\n",
    "mlp = MLPClassifier()\n",
    "mlp.fit(X_train_sbfs, y_rus)\n",
    "mlp.predict(X_test_sbfs)\n",
    "rf_noTunning = accuracy_score(y_test_re, mlp.predict(X_test_sbfs))\n",
    "print('Acurácia do modelo sem tuning: ', rf_noTunning)\n",
    "# Grafico comparando os resultados\n",
    "fig, ax = plt.subplots(1, 2, figsize=(15, 5))\n",
    "# Plotando de barra gs_acu vs rf_noTunning\n",
    "ax[0].bar(['gs_acu', 'rf_noTunning'], [gs_acu, rf_noTunning])\n",
    "ax[0].set_title('Comparação entre o modelo com e sem tuning')\n",
    "# Plotando de linha gs_acu vs rf_noTunning\n",
    "ax[1].plot(['gs_acu', 'rf_noTunning'], [gs_acu, rf_noTunning])\n",
    "ax[1].set_title('Comparação entre o modelo com e sem tuning')\n",
    "plt.show()"
   ],
   "metadata": {
    "collapsed": false
   }
  },
  {
   "cell_type": "markdown",
   "source": [
    "#### Aplicando GridSearch no Random Forest;"
   ],
   "metadata": {
    "collapsed": false
   }
  },
  {
   "cell_type": "code",
   "execution_count": null,
   "outputs": [],
   "source": [
    "# # Definindo Modelo\n",
    "# rf_gs = RandomForestClassifier(random_state=42)\n",
    "#\n",
    "# # Definindo os parametros\n",
    "# parametros_rf = {'n_estimators': [100, 200, 300, 400, 500],\n",
    "#                  'criterion': ['gini', 'entropy'],\n",
    "#                  'max_depth': [None, 5, 10, 15, 20],\n",
    "#                  'min_samples_split': [2, 5, 10],\n",
    "#                  'min_samples_leaf': [1, 2, 4],\n",
    "#                  'max_features': ['auto', 'sqrt', 'log2']}\n",
    "# # Aplicando o GridSearch\n",
    "# rf_gs = grid_search(rf_gs, parametros_rf, X_train_smote, y_train_smote, X_test, y_test)"
   ],
   "metadata": {
    "collapsed": false
   }
  },
  {
   "cell_type": "markdown",
   "source": [
    "### TPOT para encontrar o melhor modelo para o problema;"
   ],
   "metadata": {
    "collapsed": false
   }
  },
  {
   "cell_type": "code",
   "execution_count": null,
   "outputs": [],
   "source": [
    "# # Importando o TPOT\n",
    "# from tpot import TPOTClassifier\n",
    "#\n",
    "# # Criando o modelo TPOT limitando o tempo de execução em 25 minutos e modelos simples\n",
    "# tpot = TPOTClassifier(verbosity=2, n_jobs=-1, max_time_mins=10)\n",
    "#\n",
    "# # Treinando o modelo\n",
    "# tpot.fit(X_train_smote, y_train_smote)\n",
    "#\n",
    "# # Imprimindo os 3 melhores modelos\n",
    "# tpot.fitted_pipeline_\n",
    "#\n",
    "# # Pegando o melhor modelo\n",
    "# tpot.fitted_pipeline_.steps[-1][1]\n",
    "#\n",
    "# # Fazendo as previsões\n",
    "# y_pred_tpot = tpot.predict(X_test)"
   ],
   "metadata": {
    "collapsed": false
   }
  },
  {
   "cell_type": "code",
   "execution_count": null,
   "outputs": [],
   "source": [
    "# # Fazendo as previsões\n",
    "# y_pred_tpot = tpot.predict(X_test)\n",
    "#\n",
    "# # Avaliando o modelo\n",
    "# print(classification_report(y_test, y_pred_tpot))\n",
    "# print(confusion_matrix(y_test, y_pred_tpot))\n"
   ],
   "metadata": {
    "collapsed": false
   }
  }
 ],
 "metadata": {
  "kernelspec": {
   "display_name": "Python 3 (ipykernel)",
   "language": "python",
   "name": "python3"
  },
  "language_info": {
   "codemirror_mode": {
    "name": "ipython",
    "version": 3
   },
   "file_extension": ".py",
   "mimetype": "text/x-python",
   "name": "python",
   "nbconvert_exporter": "python",
   "pygments_lexer": "ipython3",
   "version": "3.11.3"
  }
 },
 "nbformat": 4,
 "nbformat_minor": 1
}
