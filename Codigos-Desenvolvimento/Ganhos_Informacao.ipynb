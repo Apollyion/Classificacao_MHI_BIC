{
 "cells": [
  {
   "cell_type": "code",
   "execution_count": 22,
   "outputs": [],
   "source": [
    "#from sklearn.preprocessing import LabelEncoder\n",
    "import pandas as pd\n",
    "from imblearn.under_sampling import RandomUnderSampler\n",
    "from sklearn.preprocessing import LabelEncoder\n",
    "\n",
    "# Sem WHOQOL:\n",
    "base1 = pd.read_csv('Datasets/dataframe_socioeconomico_Niveis.csv')\n",
    "data1 = base1.drop('Nivel_MHI', axis=1)\n",
    "target1 = base1['Nivel_MHI']\n",
    "le = LabelEncoder()\n",
    "target1 = le.fit_transform(target1)\n",
    "\n",
    "# Realizar Random Under-Sampling\n",
    "sampler = RandomUnderSampler()\n",
    "data1_re, target1_re = sampler.fit_resample(data1, target1)\n",
    "\n",
    "\n",
    "# com todas as respostas do WHOQOL\n",
    "base2 = pd.read_csv('Datasets/df_social_whoqol_tratado_1.csv')\n",
    "data2 = base2.drop('Nivel_MHI', axis=1)\n",
    "target2 = base2['Nivel_MHI']\n",
    "target2 = le.fit_transform(target2)\n",
    "sampler = RandomUnderSampler()\n",
    "data2_re, target2_re = sampler.fit_resample(data2, target2)\n",
    "\n",
    "\n",
    "# só com o indice dos dominiosdo WHOQOL, concatenar base1 com final da base2\n",
    "data3 = pd.concat([data1, base2.loc[:,['CR','CS','CT','CU']]], axis=1)\n",
    "target3 = base2['Nivel_MHI']\n",
    "target3 = le.fit_transform(target3)\n",
    "sampler = RandomUnderSampler()\n",
    "data3_re, target3_re = sampler.fit_resample(data3, target3)\n",
    "\n",
    "\n",
    "# Só com a qualidade de vida do WHOQOL\n",
    "data4 = pd.concat([data1, base2['BR']], axis=1)\n",
    "target4 = base2['Nivel_MHI']\n",
    "target4 = le.fit_transform(target4)\n",
    "sampler = RandomUnderSampler()\n",
    "data4_re, target4_re = sampler.fit_resample(data4, target4)\n",
    "\n",
    "# Qualidade de Vida Geral ( Media das duas primeiras questões do WHOQOL)\n",
    "# Pegar a média das duas primeiras colunas da base2, pelo indice\n",
    "data5 = pd.concat([data1, base2.loc[:,['BR','BS']].mean(axis=1)], axis=1)\n",
    "target5 = base2['Nivel_MHI']\n",
    "target5 = le.fit_transform(target5)\n",
    "sampler = RandomUnderSampler()\n",
    "data5.columns = data5.columns.astype(str)\n",
    "data5_re, target5_re = sampler.fit_resample(data5, target5)\n",
    "\n",
    "# Media de todos os dominios do WHOQOL\n",
    "data6 = pd.concat([data1, base2.loc[:,['CR','CS','CT','CU']].mean(axis=1)], axis=1)\n",
    "target6 = base2['Nivel_MHI']\n",
    "target6 = le.fit_transform(target6)\n",
    "sampler = RandomUnderSampler()\n",
    "data6.columns = data6.columns.astype(str)\n",
    "data6_re, target6_re = sampler.fit_resample(data6, target6)"
   ],
   "metadata": {
    "collapsed": false,
    "ExecuteTime": {
     "end_time": "2023-11-17T00:53:34.994895479Z",
     "start_time": "2023-11-17T00:53:34.876468477Z"
    }
   },
   "id": "dfa2ecb745010c87"
  },
  {
   "cell_type": "code",
   "execution_count": 23,
   "outputs": [
    {
     "data": {
      "text/plain": "     Atributo  Ganho de Informação\n54  Nivel_MHI             1.268220\n26         BP             0.055492\n1           C             0.039201\n23         AZ             0.036363\n7           O             0.022827\n13         AO             0.021020\n5           M             0.020295\n14         AP             0.017528\n44      J_5.0             0.016862\n19         AV             0.015995\n25         BO             0.015834\n8           U             0.014742\n24         BD             0.014318\n3           H             0.012816\n4           L             0.012538\n16         AS             0.011770\n40      J_1.0             0.011435\n12         AN             0.009764\n33      E_2.0             0.008947\n0           B             0.008395\n32      E_1.0             0.006683\n15         AR             0.006624\n21         AX             0.005518\n45     AA_1.0             0.004869\n39      I_4.0             0.003939\n6           N             0.003749\n20         AW             0.003630\n42      J_3.0             0.003394\n17         AT             0.002942\n22         AY             0.002646\n36      I_1.0             0.002385\n46     AA_2.0             0.002348\n53     AB_4.0             0.002176\n28      D_2.0             0.001969\n30      D_4.0             0.001913\n31      D_5.0             0.001672\n47     AA_3.0             0.001518\n41      J_2.0             0.001228\n10         AD             0.001130\n38      I_3.0             0.000884\n37      I_2.0             0.000782\n52     AB_3.0             0.000730\n35      E_4.0             0.000692\n49     AB_0.0             0.000692\n50     AB_1.0             0.000669\n11         AE             0.000548\n48     AA_4.0             0.000483\n43      J_4.0             0.000413\n27      D_1.0             0.000358\n9          AC             0.000276\n2           F             0.000224\n51     AB_2.0             0.000197\n18         AU             0.000149\n34      E_3.0             0.000102\n29      D_3.0             0.000066",
      "text/html": "<div>\n<style scoped>\n    .dataframe tbody tr th:only-of-type {\n        vertical-align: middle;\n    }\n\n    .dataframe tbody tr th {\n        vertical-align: top;\n    }\n\n    .dataframe thead th {\n        text-align: right;\n    }\n</style>\n<table border=\"1\" class=\"dataframe\">\n  <thead>\n    <tr style=\"text-align: right;\">\n      <th></th>\n      <th>Atributo</th>\n      <th>Ganho de Informação</th>\n    </tr>\n  </thead>\n  <tbody>\n    <tr>\n      <th>54</th>\n      <td>Nivel_MHI</td>\n      <td>1.268220</td>\n    </tr>\n    <tr>\n      <th>26</th>\n      <td>BP</td>\n      <td>0.055492</td>\n    </tr>\n    <tr>\n      <th>1</th>\n      <td>C</td>\n      <td>0.039201</td>\n    </tr>\n    <tr>\n      <th>23</th>\n      <td>AZ</td>\n      <td>0.036363</td>\n    </tr>\n    <tr>\n      <th>7</th>\n      <td>O</td>\n      <td>0.022827</td>\n    </tr>\n    <tr>\n      <th>13</th>\n      <td>AO</td>\n      <td>0.021020</td>\n    </tr>\n    <tr>\n      <th>5</th>\n      <td>M</td>\n      <td>0.020295</td>\n    </tr>\n    <tr>\n      <th>14</th>\n      <td>AP</td>\n      <td>0.017528</td>\n    </tr>\n    <tr>\n      <th>44</th>\n      <td>J_5.0</td>\n      <td>0.016862</td>\n    </tr>\n    <tr>\n      <th>19</th>\n      <td>AV</td>\n      <td>0.015995</td>\n    </tr>\n    <tr>\n      <th>25</th>\n      <td>BO</td>\n      <td>0.015834</td>\n    </tr>\n    <tr>\n      <th>8</th>\n      <td>U</td>\n      <td>0.014742</td>\n    </tr>\n    <tr>\n      <th>24</th>\n      <td>BD</td>\n      <td>0.014318</td>\n    </tr>\n    <tr>\n      <th>3</th>\n      <td>H</td>\n      <td>0.012816</td>\n    </tr>\n    <tr>\n      <th>4</th>\n      <td>L</td>\n      <td>0.012538</td>\n    </tr>\n    <tr>\n      <th>16</th>\n      <td>AS</td>\n      <td>0.011770</td>\n    </tr>\n    <tr>\n      <th>40</th>\n      <td>J_1.0</td>\n      <td>0.011435</td>\n    </tr>\n    <tr>\n      <th>12</th>\n      <td>AN</td>\n      <td>0.009764</td>\n    </tr>\n    <tr>\n      <th>33</th>\n      <td>E_2.0</td>\n      <td>0.008947</td>\n    </tr>\n    <tr>\n      <th>0</th>\n      <td>B</td>\n      <td>0.008395</td>\n    </tr>\n    <tr>\n      <th>32</th>\n      <td>E_1.0</td>\n      <td>0.006683</td>\n    </tr>\n    <tr>\n      <th>15</th>\n      <td>AR</td>\n      <td>0.006624</td>\n    </tr>\n    <tr>\n      <th>21</th>\n      <td>AX</td>\n      <td>0.005518</td>\n    </tr>\n    <tr>\n      <th>45</th>\n      <td>AA_1.0</td>\n      <td>0.004869</td>\n    </tr>\n    <tr>\n      <th>39</th>\n      <td>I_4.0</td>\n      <td>0.003939</td>\n    </tr>\n    <tr>\n      <th>6</th>\n      <td>N</td>\n      <td>0.003749</td>\n    </tr>\n    <tr>\n      <th>20</th>\n      <td>AW</td>\n      <td>0.003630</td>\n    </tr>\n    <tr>\n      <th>42</th>\n      <td>J_3.0</td>\n      <td>0.003394</td>\n    </tr>\n    <tr>\n      <th>17</th>\n      <td>AT</td>\n      <td>0.002942</td>\n    </tr>\n    <tr>\n      <th>22</th>\n      <td>AY</td>\n      <td>0.002646</td>\n    </tr>\n    <tr>\n      <th>36</th>\n      <td>I_1.0</td>\n      <td>0.002385</td>\n    </tr>\n    <tr>\n      <th>46</th>\n      <td>AA_2.0</td>\n      <td>0.002348</td>\n    </tr>\n    <tr>\n      <th>53</th>\n      <td>AB_4.0</td>\n      <td>0.002176</td>\n    </tr>\n    <tr>\n      <th>28</th>\n      <td>D_2.0</td>\n      <td>0.001969</td>\n    </tr>\n    <tr>\n      <th>30</th>\n      <td>D_4.0</td>\n      <td>0.001913</td>\n    </tr>\n    <tr>\n      <th>31</th>\n      <td>D_5.0</td>\n      <td>0.001672</td>\n    </tr>\n    <tr>\n      <th>47</th>\n      <td>AA_3.0</td>\n      <td>0.001518</td>\n    </tr>\n    <tr>\n      <th>41</th>\n      <td>J_2.0</td>\n      <td>0.001228</td>\n    </tr>\n    <tr>\n      <th>10</th>\n      <td>AD</td>\n      <td>0.001130</td>\n    </tr>\n    <tr>\n      <th>38</th>\n      <td>I_3.0</td>\n      <td>0.000884</td>\n    </tr>\n    <tr>\n      <th>37</th>\n      <td>I_2.0</td>\n      <td>0.000782</td>\n    </tr>\n    <tr>\n      <th>52</th>\n      <td>AB_3.0</td>\n      <td>0.000730</td>\n    </tr>\n    <tr>\n      <th>35</th>\n      <td>E_4.0</td>\n      <td>0.000692</td>\n    </tr>\n    <tr>\n      <th>49</th>\n      <td>AB_0.0</td>\n      <td>0.000692</td>\n    </tr>\n    <tr>\n      <th>50</th>\n      <td>AB_1.0</td>\n      <td>0.000669</td>\n    </tr>\n    <tr>\n      <th>11</th>\n      <td>AE</td>\n      <td>0.000548</td>\n    </tr>\n    <tr>\n      <th>48</th>\n      <td>AA_4.0</td>\n      <td>0.000483</td>\n    </tr>\n    <tr>\n      <th>43</th>\n      <td>J_4.0</td>\n      <td>0.000413</td>\n    </tr>\n    <tr>\n      <th>27</th>\n      <td>D_1.0</td>\n      <td>0.000358</td>\n    </tr>\n    <tr>\n      <th>9</th>\n      <td>AC</td>\n      <td>0.000276</td>\n    </tr>\n    <tr>\n      <th>2</th>\n      <td>F</td>\n      <td>0.000224</td>\n    </tr>\n    <tr>\n      <th>51</th>\n      <td>AB_2.0</td>\n      <td>0.000197</td>\n    </tr>\n    <tr>\n      <th>18</th>\n      <td>AU</td>\n      <td>0.000149</td>\n    </tr>\n    <tr>\n      <th>34</th>\n      <td>E_3.0</td>\n      <td>0.000102</td>\n    </tr>\n    <tr>\n      <th>29</th>\n      <td>D_3.0</td>\n      <td>0.000066</td>\n    </tr>\n  </tbody>\n</table>\n</div>"
     },
     "execution_count": 23,
     "metadata": {},
     "output_type": "execute_result"
    }
   ],
   "source": [
    "import pandas as pd\n",
    "import numpy as np\n",
    "import math\n",
    "from sklearn.preprocessing import LabelEncoder\n",
    "from tabulate import tabulate \n",
    "\n",
    "# Função para calcular a entropia de um conjunto de dados\n",
    "def entropy(data):\n",
    "    class_labels, counts = np.unique(data, return_counts=True)\n",
    "    total_instances = len(data)\n",
    "    probabilities = counts / total_instances\n",
    "    entropy_val = -np.sum(probabilities * np.log2(probabilities))\n",
    "\n",
    "    return entropy_val\n",
    "\n",
    "# Função para calcular o ganho de informação de um atributo\n",
    "def information_gain(data, attribute, target):\n",
    "    attribute_values = data[attribute].unique()\n",
    "    total_instances = len(data)\n",
    "    info_gain = entropy(data[target])\n",
    "\n",
    "    for value in attribute_values:\n",
    "        subset = data[data[attribute] == value]\n",
    "        prob = len(subset) / total_instances\n",
    "        info_gain -= prob * entropy(subset[target])\n",
    "    return info_gain\n",
    "\n",
    "# Função para calcular os ganhos de informação de todos os atributos em relação ao atributo alvo\n",
    "def calculate_information_gains(data, target):\n",
    "    all_attributes = data.columns\n",
    "    gains = {attribute: information_gain(data, attribute, target) for attribute in all_attributes}\n",
    "    result_df = pd.DataFrame(gains.items(), columns=['Atributo', 'Ganho de Informação'])\n",
    "    result_df = result_df.sort_values(by='Ganho de Informação', ascending=False)\n",
    "    return result_df\n",
    "\n",
    "# Ler o dataframe e pré-processar o atributo alvo\n",
    "base1 = pd.read_csv('Datasets/dataframe_socioeconomico_Niveis.csv')\n",
    "data1 = base1.drop('Nivel_MHI', axis=1)\n",
    "target1 = base1['Nivel_MHI']\n",
    "le = LabelEncoder()\n",
    "target1 = le.fit_transform(target1)\n",
    "\n",
    "# Converter o atributo alvo de volta para rótulos de classes\n",
    "target_labels = le.inverse_transform(target1)\n",
    "data1['Nivel_MHI'] = target_labels\n",
    "\n",
    "# Calcular os ganhos de informação\n",
    "#esult_df = calculate_information_gains(data1, 'Nivel_MHI')\n",
    "result_df = calculate_information_gains(data1, 'Nivel_MHI')\n",
    "result_df"
   ],
   "metadata": {
    "collapsed": false,
    "ExecuteTime": {
     "end_time": "2023-11-17T00:53:35.092979075Z",
     "start_time": "2023-11-17T00:53:34.950473207Z"
    }
   },
   "id": "5cbe824a86714643"
  },
  {
   "cell_type": "code",
   "execution_count": 24,
   "outputs": [
    {
     "name": "stdout",
     "output_type": "stream",
     "text": [
      "   Atributo  Ganho de Informação  Ganho de Informação Normalizado\n",
      "26       BP             0.055492                         1.000000\n",
      "1         C             0.039201                         0.706079\n",
      "23       AZ             0.036363                         0.654880\n",
      "7         O             0.022827                         0.410669\n",
      "13       AO             0.021020                         0.378063\n",
      "5         M             0.020295                         0.364981\n",
      "14       AP             0.017528                         0.315055\n",
      "44    J_5.0             0.016862                         0.303043\n",
      "19       AV             0.015995                         0.287401\n",
      "25       BO             0.015834                         0.284501\n",
      "8         U             0.014742                         0.264791\n",
      "24       BD             0.014318                         0.257149\n",
      "3         H             0.012816                         0.230046\n",
      "4         L             0.012538                         0.225031\n",
      "16       AS             0.011770                         0.211170\n",
      "40    J_1.0             0.011435                         0.205121\n",
      "12       AN             0.009764                         0.174983\n",
      "33    E_2.0             0.008947                         0.160231\n",
      "0         B             0.008395                         0.150270\n",
      "32    E_1.0             0.006683                         0.119382\n",
      "15       AR             0.006624                         0.118317\n",
      "21       AX             0.005518                         0.098369\n",
      "45   AA_1.0             0.004869                         0.086666\n",
      "39    I_4.0             0.003939                         0.069883\n",
      "6         N             0.003749                         0.066449\n",
      "20       AW             0.003630                         0.064305\n",
      "42    J_3.0             0.003394                         0.060051\n",
      "17       AT             0.002942                         0.051901\n",
      "22       AY             0.002646                         0.046557\n",
      "36    I_1.0             0.002385                         0.041838\n",
      "46   AA_2.0             0.002348                         0.041184\n",
      "53   AB_4.0             0.002176                         0.038076\n",
      "28    D_2.0             0.001969                         0.034338\n",
      "30    D_4.0             0.001913                         0.033332\n",
      "31    D_5.0             0.001672                         0.028978\n",
      "47   AA_3.0             0.001518                         0.026195\n",
      "41    J_2.0             0.001228                         0.020966\n",
      "10       AD             0.001130                         0.019206\n",
      "38    I_3.0             0.000884                         0.014755\n",
      "37    I_2.0             0.000782                         0.012916\n",
      "52   AB_3.0             0.000730                         0.011979\n",
      "35    E_4.0             0.000692                         0.011305\n",
      "49   AB_0.0             0.000692                         0.011305\n",
      "50   AB_1.0             0.000669                         0.010890\n",
      "11       AE             0.000548                         0.008708\n",
      "48   AA_4.0             0.000483                         0.007520\n",
      "43    J_4.0             0.000413                         0.006269\n",
      "27    D_1.0             0.000358                         0.005264\n",
      "9        AC             0.000276                         0.003795\n",
      "2         F             0.000224                         0.002851\n",
      "51   AB_2.0             0.000197                         0.002370\n",
      "18       AU             0.000149                         0.001498\n",
      "34    E_3.0             0.000102                         0.000658\n",
      "29    D_3.0             0.000066                         0.000000\n"
     ]
    }
   ],
   "source": [
    "import pandas as pd\n",
    "import numpy as np\n",
    "import math\n",
    "import time\n",
    "from sklearn.preprocessing import LabelEncoder, MinMaxScaler\n",
    "\n",
    "# Função para calcular a entropia de um conjunto de dados\n",
    "def entropy(data):\n",
    "    class_labels, counts = np.unique(data, return_counts=True)\n",
    "    total_instances = len(data)\n",
    "    probabilities = counts / total_instances\n",
    "    entropy_val = -np.sum(probabilities * np.log2(probabilities))\n",
    "\n",
    "    return entropy_val\n",
    "\n",
    "# Função para calcular o ganho de informação de um atributo\n",
    "def information_gain(data, attribute, target):\n",
    "    attribute_values = data[attribute].unique()\n",
    "    total_instances = len(data)\n",
    "    info_gain = entropy(data[target])\n",
    "\n",
    "    for value in attribute_values:\n",
    "        subset = data[data[attribute] == value]\n",
    "        prob = len(subset) / total_instances\n",
    "        info_gain -= prob * entropy(subset[target])\n",
    "\n",
    "    return info_gain\n",
    "\n",
    "# Função para calcular os ganhos de informação de todos os atributos em relação ao atributo alvo\n",
    "def calculate_information_gains(data, target):\n",
    "    all_attributes = data.columns.drop(target)\n",
    "    gains = {attribute: information_gain(data, attribute, target) for attribute in all_attributes}\n",
    "    result_df = pd.DataFrame(gains.items(), columns=['Atributo', 'Ganho de Informação'])\n",
    "    result_df = result_df.sort_values(by='Ganho de Informação', ascending=False)\n",
    "    return result_df\n",
    "\n",
    "# Função para normalizar os valores dos ganhos de informação\n",
    "def normalize_gains(result_df):\n",
    "    scaler = MinMaxScaler()\n",
    "    result_df['Ganho de Informação Normalizado'] = scaler.fit_transform(result_df[['Ganho de Informação']])\n",
    "    return result_df\n",
    "\n",
    "# Ler o dataframe e pré-processar o atributo alvo\n",
    "base1 = pd.read_csv('Datasets/dataframe_socioeconomico_Niveis.csv')\n",
    "data1 = base1.drop('Nivel_MHI', axis=1)\n",
    "target1 = base1['Nivel_MHI']\n",
    "le = LabelEncoder()\n",
    "target1 = le.fit_transform(target1)\n",
    "\n",
    "# Converter o atributo alvo de volta para rótulos de classes\n",
    "target_labels = le.inverse_transform(target1)\n",
    "data1['Nivel_MHI'] = target_labels\n",
    "\n",
    "\n",
    "# Calcular os ganhos de informação\n",
    "result_df = calculate_information_gains(data1, 'Nivel_MHI')\n",
    "\n",
    "# Normalizar os ganhos de informação\n",
    "result_df = normalize_gains(result_df)\n",
    "\n",
    "# Imprimir o resultado\n",
    "print(result_df)"
   ],
   "metadata": {
    "collapsed": false,
    "ExecuteTime": {
     "end_time": "2023-11-17T00:53:35.248163958Z",
     "start_time": "2023-11-17T00:53:35.099947870Z"
    }
   },
   "id": "5157c67e5407b6d5"
  },
  {
   "cell_type": "code",
   "execution_count": 27,
   "outputs": [],
   "source": [
    "import pandas as pd\n",
    "import numpy as np\n",
    "import math\n",
    "import time\n",
    "from sklearn.preprocessing import LabelEncoder, MinMaxScaler\n",
    "\n",
    "# Função para calcular a entropia de um conjunto de dados\n",
    "def entropy(data):\n",
    "    class_labels, counts = np.unique(data, return_counts=True)\n",
    "    total_instances = len(data)\n",
    "    probabilities = counts / total_instances\n",
    "    entropy_val = -np.sum(probabilities * np.log2(probabilities))\n",
    "\n",
    "    return entropy_val\n",
    "\n",
    "# Função para calcular o ganho de informação de um atributo\n",
    "def information_gain(data, attribute, target):\n",
    "    attribute_values = data[attribute].unique()\n",
    "    total_instances = len(data)\n",
    "    info_gain = entropy(data[target])\n",
    "\n",
    "    for value in attribute_values:\n",
    "        subset = data[data[attribute] == value]\n",
    "        prob = len(subset) / total_instances\n",
    "        info_gain -= prob * entropy(subset[target])\n",
    "\n",
    "    return info_gain\n",
    "\n",
    "# Função para calcular os ganhos de informação de todos os atributos em relação ao atributo alvo\n",
    "def calculate_information_gains(data, target):\n",
    "    all_attributes = data.columns.drop(target)\n",
    "    gains = {attribute: information_gain(data, attribute, target) for attribute in all_attributes}\n",
    "    result_df = pd.DataFrame(gains.items(), columns=['Atributo', 'Ganho de Informação'])\n",
    "    result_df = result_df.sort_values(by='Ganho de Informação', ascending=False)\n",
    "    return result_df\n",
    "\n",
    "# Função para normalizar os valores dos ganhos de informação\n",
    "def normalize_gains(result_df):\n",
    "    scaler = MinMaxScaler()\n",
    "    result_df['Ganho de Informação Normalizado'] = scaler.fit_transform(result_df[['Ganho de Informação']])\n",
    "    return result_df\n",
    "\n",
    "# Função para ler o arquivo \"titulos_das_colunas.txt\" e criar um dicionário com o mapeamento dos índices para os nomes das colunas\n",
    "def read_column_titles(file_path):\n",
    "    column_titles = {}\n",
    "    questionarios = {}\n",
    "    with open(file_path, 'r', encoding='ISO-8859-1') as file:\n",
    "        lines = file.readlines()\n",
    "        i = 0\n",
    "        while i < len(lines):\n",
    "            if lines[i].startswith(\"Título da Coluna:\"):\n",
    "                column_title = lines[i].split(\":\")[1].strip()\n",
    "                coordinate = lines[i+1].split(\":\")[1].strip()\n",
    "                questionario = lines[i+2].split(\":\")[1].strip()\n",
    "                column_titles[coordinate] = column_title\n",
    "                questionarios[coordinate] = questionario\n",
    "                \n",
    "                i += 2\n",
    "            else:\n",
    "                i += 1\n",
    "    return column_titles, questionarios\n",
    "\n",
    "# Ler o arquivo \"titulos_das_colunas.txt\" e criar o dicionário de mapeamento dos índices para os nomes das colunas\n",
    "column_titles,questionarios = read_column_titles('titulos_das_colunas.txt')\n",
    "\n",
    "# com todas as respostas do WHOQOL\n",
    "base2 = pd.read_csv('Datasets/df_social_whoqol_tratado_1.csv')\n",
    "data2 = base2.drop('Nivel_MHI', axis=1)\n",
    "target2 = base2['Nivel_MHI']\n",
    "target2 = le.fit_transform(target2)\n",
    "\n",
    "# Converter o atributo alvo de volta para rótulos de classes\n",
    "target_labels = le.inverse_transform(target2)\n",
    "data2['Nivel_MHI'] = target_labels"
   ],
   "metadata": {
    "collapsed": false,
    "ExecuteTime": {
     "end_time": "2023-11-17T00:54:36.371678872Z",
     "start_time": "2023-11-17T00:54:36.323676122Z"
    }
   },
   "id": "280bf4660c399d60"
  },
  {
   "cell_type": "code",
   "execution_count": 28,
   "outputs": [
    {
     "data": {
      "text/plain": "   Atributo  Ganho de Informação  Ganho de Informação Normalizado\n26       BP             0.055492                         1.000000\n1         C             0.039201                         0.706079\n23       AZ             0.036363                         0.654880\n7         O             0.022827                         0.410669\n13       AO             0.021020                         0.378063\n5         M             0.020295                         0.364981\n14       AP             0.017528                         0.315055\n44    J_5.0             0.016862                         0.303043\n19       AV             0.015995                         0.287401\n25       BO             0.015834                         0.284501\n8         U             0.014742                         0.264791\n24       BD             0.014318                         0.257149\n3         H             0.012816                         0.230046\n4         L             0.012538                         0.225031\n16       AS             0.011770                         0.211170\n40    J_1.0             0.011435                         0.205121\n12       AN             0.009764                         0.174983\n33    E_2.0             0.008947                         0.160231\n0         B             0.008395                         0.150270\n32    E_1.0             0.006683                         0.119382\n15       AR             0.006624                         0.118317\n21       AX             0.005518                         0.098369\n45   AA_1.0             0.004869                         0.086666\n39    I_4.0             0.003939                         0.069883\n6         N             0.003749                         0.066449\n20       AW             0.003630                         0.064305\n42    J_3.0             0.003394                         0.060051\n17       AT             0.002942                         0.051901\n22       AY             0.002646                         0.046557\n36    I_1.0             0.002385                         0.041838\n46   AA_2.0             0.002348                         0.041184\n53   AB_4.0             0.002176                         0.038076\n28    D_2.0             0.001969                         0.034338\n30    D_4.0             0.001913                         0.033332\n31    D_5.0             0.001672                         0.028978\n47   AA_3.0             0.001518                         0.026195\n41    J_2.0             0.001228                         0.020966\n10       AD             0.001130                         0.019206\n38    I_3.0             0.000884                         0.014755\n37    I_2.0             0.000782                         0.012916\n52   AB_3.0             0.000730                         0.011979\n35    E_4.0             0.000692                         0.011305\n49   AB_0.0             0.000692                         0.011305\n50   AB_1.0             0.000669                         0.010890\n11       AE             0.000548                         0.008708\n48   AA_4.0             0.000483                         0.007520\n43    J_4.0             0.000413                         0.006269\n27    D_1.0             0.000358                         0.005264\n9        AC             0.000276                         0.003795\n2         F             0.000224                         0.002851\n51   AB_2.0             0.000197                         0.002370\n18       AU             0.000149                         0.001498\n34    E_3.0             0.000102                         0.000658\n29    D_3.0             0.000066                         0.000000",
      "text/html": "<div>\n<style scoped>\n    .dataframe tbody tr th:only-of-type {\n        vertical-align: middle;\n    }\n\n    .dataframe tbody tr th {\n        vertical-align: top;\n    }\n\n    .dataframe thead th {\n        text-align: right;\n    }\n</style>\n<table border=\"1\" class=\"dataframe\">\n  <thead>\n    <tr style=\"text-align: right;\">\n      <th></th>\n      <th>Atributo</th>\n      <th>Ganho de Informação</th>\n      <th>Ganho de Informação Normalizado</th>\n    </tr>\n  </thead>\n  <tbody>\n    <tr>\n      <th>26</th>\n      <td>BP</td>\n      <td>0.055492</td>\n      <td>1.000000</td>\n    </tr>\n    <tr>\n      <th>1</th>\n      <td>C</td>\n      <td>0.039201</td>\n      <td>0.706079</td>\n    </tr>\n    <tr>\n      <th>23</th>\n      <td>AZ</td>\n      <td>0.036363</td>\n      <td>0.654880</td>\n    </tr>\n    <tr>\n      <th>7</th>\n      <td>O</td>\n      <td>0.022827</td>\n      <td>0.410669</td>\n    </tr>\n    <tr>\n      <th>13</th>\n      <td>AO</td>\n      <td>0.021020</td>\n      <td>0.378063</td>\n    </tr>\n    <tr>\n      <th>5</th>\n      <td>M</td>\n      <td>0.020295</td>\n      <td>0.364981</td>\n    </tr>\n    <tr>\n      <th>14</th>\n      <td>AP</td>\n      <td>0.017528</td>\n      <td>0.315055</td>\n    </tr>\n    <tr>\n      <th>44</th>\n      <td>J_5.0</td>\n      <td>0.016862</td>\n      <td>0.303043</td>\n    </tr>\n    <tr>\n      <th>19</th>\n      <td>AV</td>\n      <td>0.015995</td>\n      <td>0.287401</td>\n    </tr>\n    <tr>\n      <th>25</th>\n      <td>BO</td>\n      <td>0.015834</td>\n      <td>0.284501</td>\n    </tr>\n    <tr>\n      <th>8</th>\n      <td>U</td>\n      <td>0.014742</td>\n      <td>0.264791</td>\n    </tr>\n    <tr>\n      <th>24</th>\n      <td>BD</td>\n      <td>0.014318</td>\n      <td>0.257149</td>\n    </tr>\n    <tr>\n      <th>3</th>\n      <td>H</td>\n      <td>0.012816</td>\n      <td>0.230046</td>\n    </tr>\n    <tr>\n      <th>4</th>\n      <td>L</td>\n      <td>0.012538</td>\n      <td>0.225031</td>\n    </tr>\n    <tr>\n      <th>16</th>\n      <td>AS</td>\n      <td>0.011770</td>\n      <td>0.211170</td>\n    </tr>\n    <tr>\n      <th>40</th>\n      <td>J_1.0</td>\n      <td>0.011435</td>\n      <td>0.205121</td>\n    </tr>\n    <tr>\n      <th>12</th>\n      <td>AN</td>\n      <td>0.009764</td>\n      <td>0.174983</td>\n    </tr>\n    <tr>\n      <th>33</th>\n      <td>E_2.0</td>\n      <td>0.008947</td>\n      <td>0.160231</td>\n    </tr>\n    <tr>\n      <th>0</th>\n      <td>B</td>\n      <td>0.008395</td>\n      <td>0.150270</td>\n    </tr>\n    <tr>\n      <th>32</th>\n      <td>E_1.0</td>\n      <td>0.006683</td>\n      <td>0.119382</td>\n    </tr>\n    <tr>\n      <th>15</th>\n      <td>AR</td>\n      <td>0.006624</td>\n      <td>0.118317</td>\n    </tr>\n    <tr>\n      <th>21</th>\n      <td>AX</td>\n      <td>0.005518</td>\n      <td>0.098369</td>\n    </tr>\n    <tr>\n      <th>45</th>\n      <td>AA_1.0</td>\n      <td>0.004869</td>\n      <td>0.086666</td>\n    </tr>\n    <tr>\n      <th>39</th>\n      <td>I_4.0</td>\n      <td>0.003939</td>\n      <td>0.069883</td>\n    </tr>\n    <tr>\n      <th>6</th>\n      <td>N</td>\n      <td>0.003749</td>\n      <td>0.066449</td>\n    </tr>\n    <tr>\n      <th>20</th>\n      <td>AW</td>\n      <td>0.003630</td>\n      <td>0.064305</td>\n    </tr>\n    <tr>\n      <th>42</th>\n      <td>J_3.0</td>\n      <td>0.003394</td>\n      <td>0.060051</td>\n    </tr>\n    <tr>\n      <th>17</th>\n      <td>AT</td>\n      <td>0.002942</td>\n      <td>0.051901</td>\n    </tr>\n    <tr>\n      <th>22</th>\n      <td>AY</td>\n      <td>0.002646</td>\n      <td>0.046557</td>\n    </tr>\n    <tr>\n      <th>36</th>\n      <td>I_1.0</td>\n      <td>0.002385</td>\n      <td>0.041838</td>\n    </tr>\n    <tr>\n      <th>46</th>\n      <td>AA_2.0</td>\n      <td>0.002348</td>\n      <td>0.041184</td>\n    </tr>\n    <tr>\n      <th>53</th>\n      <td>AB_4.0</td>\n      <td>0.002176</td>\n      <td>0.038076</td>\n    </tr>\n    <tr>\n      <th>28</th>\n      <td>D_2.0</td>\n      <td>0.001969</td>\n      <td>0.034338</td>\n    </tr>\n    <tr>\n      <th>30</th>\n      <td>D_4.0</td>\n      <td>0.001913</td>\n      <td>0.033332</td>\n    </tr>\n    <tr>\n      <th>31</th>\n      <td>D_5.0</td>\n      <td>0.001672</td>\n      <td>0.028978</td>\n    </tr>\n    <tr>\n      <th>47</th>\n      <td>AA_3.0</td>\n      <td>0.001518</td>\n      <td>0.026195</td>\n    </tr>\n    <tr>\n      <th>41</th>\n      <td>J_2.0</td>\n      <td>0.001228</td>\n      <td>0.020966</td>\n    </tr>\n    <tr>\n      <th>10</th>\n      <td>AD</td>\n      <td>0.001130</td>\n      <td>0.019206</td>\n    </tr>\n    <tr>\n      <th>38</th>\n      <td>I_3.0</td>\n      <td>0.000884</td>\n      <td>0.014755</td>\n    </tr>\n    <tr>\n      <th>37</th>\n      <td>I_2.0</td>\n      <td>0.000782</td>\n      <td>0.012916</td>\n    </tr>\n    <tr>\n      <th>52</th>\n      <td>AB_3.0</td>\n      <td>0.000730</td>\n      <td>0.011979</td>\n    </tr>\n    <tr>\n      <th>35</th>\n      <td>E_4.0</td>\n      <td>0.000692</td>\n      <td>0.011305</td>\n    </tr>\n    <tr>\n      <th>49</th>\n      <td>AB_0.0</td>\n      <td>0.000692</td>\n      <td>0.011305</td>\n    </tr>\n    <tr>\n      <th>50</th>\n      <td>AB_1.0</td>\n      <td>0.000669</td>\n      <td>0.010890</td>\n    </tr>\n    <tr>\n      <th>11</th>\n      <td>AE</td>\n      <td>0.000548</td>\n      <td>0.008708</td>\n    </tr>\n    <tr>\n      <th>48</th>\n      <td>AA_4.0</td>\n      <td>0.000483</td>\n      <td>0.007520</td>\n    </tr>\n    <tr>\n      <th>43</th>\n      <td>J_4.0</td>\n      <td>0.000413</td>\n      <td>0.006269</td>\n    </tr>\n    <tr>\n      <th>27</th>\n      <td>D_1.0</td>\n      <td>0.000358</td>\n      <td>0.005264</td>\n    </tr>\n    <tr>\n      <th>9</th>\n      <td>AC</td>\n      <td>0.000276</td>\n      <td>0.003795</td>\n    </tr>\n    <tr>\n      <th>2</th>\n      <td>F</td>\n      <td>0.000224</td>\n      <td>0.002851</td>\n    </tr>\n    <tr>\n      <th>51</th>\n      <td>AB_2.0</td>\n      <td>0.000197</td>\n      <td>0.002370</td>\n    </tr>\n    <tr>\n      <th>18</th>\n      <td>AU</td>\n      <td>0.000149</td>\n      <td>0.001498</td>\n    </tr>\n    <tr>\n      <th>34</th>\n      <td>E_3.0</td>\n      <td>0.000102</td>\n      <td>0.000658</td>\n    </tr>\n    <tr>\n      <th>29</th>\n      <td>D_3.0</td>\n      <td>0.000066</td>\n      <td>0.000000</td>\n    </tr>\n  </tbody>\n</table>\n</div>"
     },
     "execution_count": 28,
     "metadata": {},
     "output_type": "execute_result"
    }
   ],
   "source": [
    "result_df"
   ],
   "metadata": {
    "collapsed": false,
    "ExecuteTime": {
     "end_time": "2023-11-17T00:54:36.998346730Z",
     "start_time": "2023-11-17T00:54:36.976880197Z"
    }
   },
   "id": "df87f14af9477a86"
  },
  {
   "cell_type": "code",
   "execution_count": 29,
   "outputs": [
    {
     "data": {
      "text/plain": "                                             Atributo  Ganho de Informação  \\\n81                             DOMINIO 2(PSICOLOGICO)             0.496086   \n80                                  DOMINIO 1(FISICO)             0.338931   \n79  Com que frequência você tem sentimentos negati...             0.317214   \n72        Quão satisfeito(a) você está consigo mesmo?             0.309827   \n61   Quão seguro(a) você se sente em sua vida diária?             0.267769   \n..                                                ...                  ...   \n2                             Local de origem(Sobral)             0.000224   \n51  Transporte para à Universidade(Transporte cole...             0.000197   \n18         Atividade de Lazer(Assitir filmes/ séries)             0.000149   \n34                      Situação Civil(União estável)             0.000102   \n29                                       Raça(Branca)             0.000066   \n\n   Coordenadas Questionario  \n81          CS           CS  \n80          CR           CR  \n79          CQ           CQ  \n72          CJ           CJ  \n61          BY           BY  \n..         ...          ...  \n2            F            F  \n51      AB_2.0       AB_2.0  \n18          AU           AU  \n34       E_3.0        E_3.0  \n29       D_3.0        D_3.0  \n\n[84 rows x 4 columns]",
      "text/html": "<div>\n<style scoped>\n    .dataframe tbody tr th:only-of-type {\n        vertical-align: middle;\n    }\n\n    .dataframe tbody tr th {\n        vertical-align: top;\n    }\n\n    .dataframe thead th {\n        text-align: right;\n    }\n</style>\n<table border=\"1\" class=\"dataframe\">\n  <thead>\n    <tr style=\"text-align: right;\">\n      <th></th>\n      <th>Atributo</th>\n      <th>Ganho de Informação</th>\n      <th>Coordenadas</th>\n      <th>Questionario</th>\n    </tr>\n  </thead>\n  <tbody>\n    <tr>\n      <th>81</th>\n      <td>DOMINIO 2(PSICOLOGICO)</td>\n      <td>0.496086</td>\n      <td>CS</td>\n      <td>CS</td>\n    </tr>\n    <tr>\n      <th>80</th>\n      <td>DOMINIO 1(FISICO)</td>\n      <td>0.338931</td>\n      <td>CR</td>\n      <td>CR</td>\n    </tr>\n    <tr>\n      <th>79</th>\n      <td>Com que frequência você tem sentimentos negati...</td>\n      <td>0.317214</td>\n      <td>CQ</td>\n      <td>CQ</td>\n    </tr>\n    <tr>\n      <th>72</th>\n      <td>Quão satisfeito(a) você está consigo mesmo?</td>\n      <td>0.309827</td>\n      <td>CJ</td>\n      <td>CJ</td>\n    </tr>\n    <tr>\n      <th>61</th>\n      <td>Quão seguro(a) você se sente em sua vida diária?</td>\n      <td>0.267769</td>\n      <td>BY</td>\n      <td>BY</td>\n    </tr>\n    <tr>\n      <th>...</th>\n      <td>...</td>\n      <td>...</td>\n      <td>...</td>\n      <td>...</td>\n    </tr>\n    <tr>\n      <th>2</th>\n      <td>Local de origem(Sobral)</td>\n      <td>0.000224</td>\n      <td>F</td>\n      <td>F</td>\n    </tr>\n    <tr>\n      <th>51</th>\n      <td>Transporte para à Universidade(Transporte cole...</td>\n      <td>0.000197</td>\n      <td>AB_2.0</td>\n      <td>AB_2.0</td>\n    </tr>\n    <tr>\n      <th>18</th>\n      <td>Atividade de Lazer(Assitir filmes/ séries)</td>\n      <td>0.000149</td>\n      <td>AU</td>\n      <td>AU</td>\n    </tr>\n    <tr>\n      <th>34</th>\n      <td>Situação Civil(União estável)</td>\n      <td>0.000102</td>\n      <td>E_3.0</td>\n      <td>E_3.0</td>\n    </tr>\n    <tr>\n      <th>29</th>\n      <td>Raça(Branca)</td>\n      <td>0.000066</td>\n      <td>D_3.0</td>\n      <td>D_3.0</td>\n    </tr>\n  </tbody>\n</table>\n<p>84 rows × 4 columns</p>\n</div>"
     },
     "execution_count": 29,
     "metadata": {},
     "output_type": "execute_result"
    }
   ],
   "source": [
    "# Calcular os ganhos de informação\n",
    "result_df = calculate_information_gains(data2, 'Nivel_MHI')\n",
    "\n",
    "#Copiando Coordenadas\n",
    "result_df['Coordenadas'] = result_df['Atributo']\n",
    "\n",
    "# Copiar \"Atributo\" para poder mapear para questões\n",
    "result_df['Questionario'] = result_df['Coordenadas']\n",
    "\n",
    "# Traduzir os índices para os nomes originais das colunas\n",
    "result_df['Atributo'] = result_df['Atributo'].map(column_titles)\n",
    "result_df"
   ],
   "metadata": {
    "collapsed": false,
    "ExecuteTime": {
     "end_time": "2023-11-17T00:54:41.166067994Z",
     "start_time": "2023-11-17T00:54:40.891666344Z"
    }
   },
   "id": "2235b1490538e71f"
  },
  {
   "cell_type": "code",
   "execution_count": 30,
   "outputs": [
    {
     "data": {
      "text/plain": "                                             Atributo  Ganho de Informação  \\\n81                             DOMINIO 2(PSICOLOGICO)             0.496086   \n80                                  DOMINIO 1(FISICO)             0.338931   \n79  Com que frequência você tem sentimentos negati...             0.317214   \n72        Quão satisfeito(a) você está consigo mesmo?             0.309827   \n61   Quão seguro(a) você se sente em sua vida diária?             0.267769   \n..                                                ...                  ...   \n2                             Local de origem(Sobral)             0.000224   \n51  Transporte para à Universidade(Transporte cole...             0.000197   \n18         Atividade de Lazer(Assitir filmes/ séries)             0.000149   \n34                      Situação Civil(União estável)             0.000102   \n29                                       Raça(Branca)             0.000066   \n\n   Coordenadas      Questionario  \n81          CS            WHOQOL  \n80          CR            WHOQOL  \n79          CQ            WHOQOL  \n72          CJ            WHOQOL  \n61          BY            WHOQOL  \n..         ...               ...  \n2            F  Sociodemografico  \n51      AB_2.0  Sociodemografico  \n18          AU  Sociodemografico  \n34       E_3.0  Sociodemografico  \n29       D_3.0  Sociodemografico  \n\n[84 rows x 4 columns]",
      "text/html": "<div>\n<style scoped>\n    .dataframe tbody tr th:only-of-type {\n        vertical-align: middle;\n    }\n\n    .dataframe tbody tr th {\n        vertical-align: top;\n    }\n\n    .dataframe thead th {\n        text-align: right;\n    }\n</style>\n<table border=\"1\" class=\"dataframe\">\n  <thead>\n    <tr style=\"text-align: right;\">\n      <th></th>\n      <th>Atributo</th>\n      <th>Ganho de Informação</th>\n      <th>Coordenadas</th>\n      <th>Questionario</th>\n    </tr>\n  </thead>\n  <tbody>\n    <tr>\n      <th>81</th>\n      <td>DOMINIO 2(PSICOLOGICO)</td>\n      <td>0.496086</td>\n      <td>CS</td>\n      <td>WHOQOL</td>\n    </tr>\n    <tr>\n      <th>80</th>\n      <td>DOMINIO 1(FISICO)</td>\n      <td>0.338931</td>\n      <td>CR</td>\n      <td>WHOQOL</td>\n    </tr>\n    <tr>\n      <th>79</th>\n      <td>Com que frequência você tem sentimentos negati...</td>\n      <td>0.317214</td>\n      <td>CQ</td>\n      <td>WHOQOL</td>\n    </tr>\n    <tr>\n      <th>72</th>\n      <td>Quão satisfeito(a) você está consigo mesmo?</td>\n      <td>0.309827</td>\n      <td>CJ</td>\n      <td>WHOQOL</td>\n    </tr>\n    <tr>\n      <th>61</th>\n      <td>Quão seguro(a) você se sente em sua vida diária?</td>\n      <td>0.267769</td>\n      <td>BY</td>\n      <td>WHOQOL</td>\n    </tr>\n    <tr>\n      <th>...</th>\n      <td>...</td>\n      <td>...</td>\n      <td>...</td>\n      <td>...</td>\n    </tr>\n    <tr>\n      <th>2</th>\n      <td>Local de origem(Sobral)</td>\n      <td>0.000224</td>\n      <td>F</td>\n      <td>Sociodemografico</td>\n    </tr>\n    <tr>\n      <th>51</th>\n      <td>Transporte para à Universidade(Transporte cole...</td>\n      <td>0.000197</td>\n      <td>AB_2.0</td>\n      <td>Sociodemografico</td>\n    </tr>\n    <tr>\n      <th>18</th>\n      <td>Atividade de Lazer(Assitir filmes/ séries)</td>\n      <td>0.000149</td>\n      <td>AU</td>\n      <td>Sociodemografico</td>\n    </tr>\n    <tr>\n      <th>34</th>\n      <td>Situação Civil(União estável)</td>\n      <td>0.000102</td>\n      <td>E_3.0</td>\n      <td>Sociodemografico</td>\n    </tr>\n    <tr>\n      <th>29</th>\n      <td>Raça(Branca)</td>\n      <td>0.000066</td>\n      <td>D_3.0</td>\n      <td>Sociodemografico</td>\n    </tr>\n  </tbody>\n</table>\n<p>84 rows × 4 columns</p>\n</div>"
     },
     "execution_count": 30,
     "metadata": {},
     "output_type": "execute_result"
    }
   ],
   "source": [
    "# Traduzir os índices para os nomes originais das colunas\n",
    "result_df['Questionario'] = result_df['Questionario'].map(questionarios)\n",
    "result_df"
   ],
   "metadata": {
    "collapsed": false,
    "ExecuteTime": {
     "end_time": "2023-11-17T00:54:45.186150972Z",
     "start_time": "2023-11-17T00:54:45.149925004Z"
    }
   },
   "id": "61aeecc007430dc2"
  },
  {
   "cell_type": "code",
   "execution_count": 34,
   "outputs": [],
   "source": [
    "# Calcular ganho de informação da tabela e a soma dos ganhos de informação.\n",
    "result_df['Ganho de Informação'] = result_df['Ganho de Informação'].astype(float)\n",
    "result_df['Ganho de Informação Normalizado'] = result_df['Ganho de Informação Normalizado'].astype(float)\n",
    "result_df['Ganho de Informação'] = result_df['Ganho de Informação'].astype(float)\n",
    "result_df['Ganho de Informação Normalizado'] = result_df['Ganho de Informação Normalizado'].astype(float)\n",
    "result_df['Ganho de Informação'] = result_df['Ganho de Informação'].astype(float)\n"
   ],
   "metadata": {
    "collapsed": false,
    "ExecuteTime": {
     "end_time": "2023-11-17T00:55:49.580873425Z",
     "start_time": "2023-11-17T00:55:49.574686836Z"
    }
   },
   "id": "fe0223fedcc2ce4b"
  },
  {
   "cell_type": "markdown",
   "source": [],
   "metadata": {
    "collapsed": false
   },
   "id": "a4b913bce8399ccc"
  },
  {
   "cell_type": "code",
   "execution_count": 35,
   "outputs": [
    {
     "data": {
      "text/plain": "                                             Atributo  Ganho de Informação  \\\n81                             DOMINIO 2(PSICOLOGICO)             0.496086   \n80                                  DOMINIO 1(FISICO)             0.338931   \n79  Com que frequência você tem sentimentos negati...             0.317214   \n72        Quão satisfeito(a) você está consigo mesmo?             0.309827   \n61   Quão seguro(a) você se sente em sua vida diária?             0.267769   \n..                                                ...                  ...   \n2                             Local de origem(Sobral)             0.000224   \n51  Transporte para à Universidade(Transporte cole...             0.000197   \n18         Atividade de Lazer(Assitir filmes/ séries)             0.000149   \n34                      Situação Civil(União estável)             0.000102   \n29                                       Raça(Branca)             0.000066   \n\n   Coordenadas      Questionario  Ganho de Informação Normalizado  \n81          CS            WHOQOL                         1.000000  \n80          CR            WHOQOL                         0.683168  \n79          CQ            WHOQOL                         0.639386  \n72          CJ            WHOQOL                         0.624493  \n61          BY            WHOQOL                         0.539702  \n..         ...               ...                              ...  \n2            F  Sociodemografico                         0.000319  \n51      AB_2.0  Sociodemografico                         0.000265  \n18          AU  Sociodemografico                         0.000167  \n34       E_3.0  Sociodemografico                         0.000074  \n29       D_3.0  Sociodemografico                         0.000000  \n\n[84 rows x 5 columns]",
      "text/html": "<div>\n<style scoped>\n    .dataframe tbody tr th:only-of-type {\n        vertical-align: middle;\n    }\n\n    .dataframe tbody tr th {\n        vertical-align: top;\n    }\n\n    .dataframe thead th {\n        text-align: right;\n    }\n</style>\n<table border=\"1\" class=\"dataframe\">\n  <thead>\n    <tr style=\"text-align: right;\">\n      <th></th>\n      <th>Atributo</th>\n      <th>Ganho de Informação</th>\n      <th>Coordenadas</th>\n      <th>Questionario</th>\n      <th>Ganho de Informação Normalizado</th>\n    </tr>\n  </thead>\n  <tbody>\n    <tr>\n      <th>81</th>\n      <td>DOMINIO 2(PSICOLOGICO)</td>\n      <td>0.496086</td>\n      <td>CS</td>\n      <td>WHOQOL</td>\n      <td>1.000000</td>\n    </tr>\n    <tr>\n      <th>80</th>\n      <td>DOMINIO 1(FISICO)</td>\n      <td>0.338931</td>\n      <td>CR</td>\n      <td>WHOQOL</td>\n      <td>0.683168</td>\n    </tr>\n    <tr>\n      <th>79</th>\n      <td>Com que frequência você tem sentimentos negati...</td>\n      <td>0.317214</td>\n      <td>CQ</td>\n      <td>WHOQOL</td>\n      <td>0.639386</td>\n    </tr>\n    <tr>\n      <th>72</th>\n      <td>Quão satisfeito(a) você está consigo mesmo?</td>\n      <td>0.309827</td>\n      <td>CJ</td>\n      <td>WHOQOL</td>\n      <td>0.624493</td>\n    </tr>\n    <tr>\n      <th>61</th>\n      <td>Quão seguro(a) você se sente em sua vida diária?</td>\n      <td>0.267769</td>\n      <td>BY</td>\n      <td>WHOQOL</td>\n      <td>0.539702</td>\n    </tr>\n    <tr>\n      <th>...</th>\n      <td>...</td>\n      <td>...</td>\n      <td>...</td>\n      <td>...</td>\n      <td>...</td>\n    </tr>\n    <tr>\n      <th>2</th>\n      <td>Local de origem(Sobral)</td>\n      <td>0.000224</td>\n      <td>F</td>\n      <td>Sociodemografico</td>\n      <td>0.000319</td>\n    </tr>\n    <tr>\n      <th>51</th>\n      <td>Transporte para à Universidade(Transporte cole...</td>\n      <td>0.000197</td>\n      <td>AB_2.0</td>\n      <td>Sociodemografico</td>\n      <td>0.000265</td>\n    </tr>\n    <tr>\n      <th>18</th>\n      <td>Atividade de Lazer(Assitir filmes/ séries)</td>\n      <td>0.000149</td>\n      <td>AU</td>\n      <td>Sociodemografico</td>\n      <td>0.000167</td>\n    </tr>\n    <tr>\n      <th>34</th>\n      <td>Situação Civil(União estável)</td>\n      <td>0.000102</td>\n      <td>E_3.0</td>\n      <td>Sociodemografico</td>\n      <td>0.000074</td>\n    </tr>\n    <tr>\n      <th>29</th>\n      <td>Raça(Branca)</td>\n      <td>0.000066</td>\n      <td>D_3.0</td>\n      <td>Sociodemografico</td>\n      <td>0.000000</td>\n    </tr>\n  </tbody>\n</table>\n<p>84 rows × 5 columns</p>\n</div>"
     },
     "execution_count": 35,
     "metadata": {},
     "output_type": "execute_result"
    }
   ],
   "source": [
    "result_df"
   ],
   "metadata": {
    "collapsed": false,
    "ExecuteTime": {
     "end_time": "2023-11-17T00:55:55.264990386Z",
     "start_time": "2023-11-17T00:55:55.220024939Z"
    }
   },
   "id": "628d86dfb0eab179"
  }
 ],
 "metadata": {
  "kernelspec": {
   "display_name": "Python 3",
   "language": "python",
   "name": "python3"
  },
  "language_info": {
   "codemirror_mode": {
    "name": "ipython",
    "version": 2
   },
   "file_extension": ".py",
   "mimetype": "text/x-python",
   "name": "python",
   "nbconvert_exporter": "python",
   "pygments_lexer": "ipython2",
   "version": "2.7.6"
  }
 },
 "nbformat": 4,
 "nbformat_minor": 5
}
