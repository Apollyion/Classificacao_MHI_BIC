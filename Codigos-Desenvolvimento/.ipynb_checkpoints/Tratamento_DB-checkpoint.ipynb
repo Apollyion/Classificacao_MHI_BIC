{
 "cells": [
  {
   "cell_type": "markdown",
   "source": [
    "## 1 - Preparação dos Dados;"
   ],
   "metadata": {
    "collapsed": false
   }
  },
  {
   "cell_type": "markdown",
   "source": [
    "### 1.1 - Importando as bibliotecas necessárias;"
   ],
   "metadata": {
    "collapsed": false
   }
  },
  {
   "cell_type": "code",
   "execution_count": 7,
   "outputs": [],
   "source": [
    "#Importando as bibliotecas necessárias para analisar os dados\n",
    "import pandas as pd\n",
    "import numpy as np\n",
    "#import matplotlib.pyplot as plt\n",
    "#import string\n",
    "import openpyxl.utils.cell as cell\n",
    "\n"
   ],
   "metadata": {
    "collapsed": false,
    "ExecuteTime": {
     "end_time": "2023-12-17T17:00:55.375657800Z",
     "start_time": "2023-12-17T17:00:55.223248200Z"
    }
   }
  },
  {
   "cell_type": "code",
   "execution_count": 8,
   "outputs": [
    {
     "data": {
      "text/plain": "                                 Atributo  \\\n0                                    Sexo   \n1        Local de Origem (Mora em Sobral)   \n2                                    Raça   \n3                          Situação Civil   \n4                              Reside com   \n5                     Qual a sua religião   \n6             Reprovou Alguma Disciplina?   \n7          Considera o Curso Estressante?   \n8                Recebe Bolsa ou Auxílio?   \n9         Qual atividade de lazer pratica   \n10       Faz uso contínuo de medicamento?   \n11  Fez uso de uma substância Psicoativa?   \n12        Frequência do uso da substância   \n13              Quantidade de Sono Diária   \n\n                                               Opções  \n0                                 Masculino, Feminino  \n1                  Mora em Sobral, Não mora em Sobral  \n2                                     Preto, Não sabe  \n3                              Solteiro, Não solteiro  \n4                       Sozinho, República Estudantil  \n5                                 Outras/Sem religião  \n6                                            Sim, Não  \n7                                            Sim, Não  \n8                                            Sim, Não  \n9   Ouvir Música, Assistir Filme/Série, Passear/Vi...  \n10                                           Sim, Não  \n11                                           Sim, Não  \n12  Diariamente, Semanalmente, Mensalmente, Raramente  \n13  Menos de 4 horas, Entre 4 e 6 horas, Entre 6 e...  ",
      "text/html": "<div>\n<style scoped>\n    .dataframe tbody tr th:only-of-type {\n        vertical-align: middle;\n    }\n\n    .dataframe tbody tr th {\n        vertical-align: top;\n    }\n\n    .dataframe thead th {\n        text-align: right;\n    }\n</style>\n<table border=\"1\" class=\"dataframe\">\n  <thead>\n    <tr style=\"text-align: right;\">\n      <th></th>\n      <th>Atributo</th>\n      <th>Opções</th>\n    </tr>\n  </thead>\n  <tbody>\n    <tr>\n      <th>0</th>\n      <td>Sexo</td>\n      <td>Masculino, Feminino</td>\n    </tr>\n    <tr>\n      <th>1</th>\n      <td>Local de Origem (Mora em Sobral)</td>\n      <td>Mora em Sobral, Não mora em Sobral</td>\n    </tr>\n    <tr>\n      <th>2</th>\n      <td>Raça</td>\n      <td>Preto, Não sabe</td>\n    </tr>\n    <tr>\n      <th>3</th>\n      <td>Situação Civil</td>\n      <td>Solteiro, Não solteiro</td>\n    </tr>\n    <tr>\n      <th>4</th>\n      <td>Reside com</td>\n      <td>Sozinho, República Estudantil</td>\n    </tr>\n    <tr>\n      <th>5</th>\n      <td>Qual a sua religião</td>\n      <td>Outras/Sem religião</td>\n    </tr>\n    <tr>\n      <th>6</th>\n      <td>Reprovou Alguma Disciplina?</td>\n      <td>Sim, Não</td>\n    </tr>\n    <tr>\n      <th>7</th>\n      <td>Considera o Curso Estressante?</td>\n      <td>Sim, Não</td>\n    </tr>\n    <tr>\n      <th>8</th>\n      <td>Recebe Bolsa ou Auxílio?</td>\n      <td>Sim, Não</td>\n    </tr>\n    <tr>\n      <th>9</th>\n      <td>Qual atividade de lazer pratica</td>\n      <td>Ouvir Música, Assistir Filme/Série, Passear/Vi...</td>\n    </tr>\n    <tr>\n      <th>10</th>\n      <td>Faz uso contínuo de medicamento?</td>\n      <td>Sim, Não</td>\n    </tr>\n    <tr>\n      <th>11</th>\n      <td>Fez uso de uma substância Psicoativa?</td>\n      <td>Sim, Não</td>\n    </tr>\n    <tr>\n      <th>12</th>\n      <td>Frequência do uso da substância</td>\n      <td>Diariamente, Semanalmente, Mensalmente, Raramente</td>\n    </tr>\n    <tr>\n      <th>13</th>\n      <td>Quantidade de Sono Diária</td>\n      <td>Menos de 4 horas, Entre 4 e 6 horas, Entre 6 e...</td>\n    </tr>\n  </tbody>\n</table>\n</div>"
     },
     "execution_count": 8,
     "metadata": {},
     "output_type": "execute_result"
    }
   ],
   "source": [
    "import pandas as pd\n",
    "\n",
    "data = {\n",
    "    'Atributo': ['Sexo', 'Local de Origem (Mora em Sobral)', 'Raça', 'Situação Civil',\n",
    "                 'Reside com', 'Qual a sua religião', 'Reprovou Alguma Disciplina?',\n",
    "                 'Considera o Curso Estressante?', 'Recebe Bolsa ou Auxílio?',\n",
    "                 'Qual atividade de lazer pratica', 'Faz uso contínuo de medicamento?',\n",
    "                 'Fez uso de uma substância Psicoativa?', 'Frequência do uso da substância',\n",
    "                 'Quantidade de Sono Diária'],\n",
    "    'Opções': ['Masculino, Feminino', 'Mora em Sobral, Não mora em Sobral',\n",
    "               'Preto, Não sabe', 'Solteiro, Não solteiro',\n",
    "               'Sozinho, República Estudantil', 'Outras/Sem religião',\n",
    "               'Sim, Não', 'Sim, Não', 'Sim, Não',\n",
    "               'Ouvir Música, Assistir Filme/Série, Passear/Viajar, Outras',\n",
    "               'Sim, Não', 'Sim, Não',\n",
    "               'Diariamente, Semanalmente, Mensalmente, Raramente',\n",
    "               'Menos de 4 horas, Entre 4 e 6 horas, Entre 6 e 8 horas, Mais de 8 horas']\n",
    "}\n",
    "\n",
    "df = pd.DataFrame(data)\n",
    "df"
   ],
   "metadata": {
    "collapsed": false,
    "ExecuteTime": {
     "end_time": "2023-12-17T17:00:56.766829700Z",
     "start_time": "2023-12-17T17:00:56.760124800Z"
    }
   }
  },
  {
   "cell_type": "markdown",
   "source": [
    "### 1.2 - Importando os dados e manipulando-os;"
   ],
   "metadata": {
    "collapsed": false
   }
  },
  {
   "cell_type": "code",
   "execution_count": 9,
   "outputs": [],
   "source": [
    "#Importando os dados\n",
    "data_frame = pd.read_excel('BANCO DE DADOS - INVERTIDO - 24 de Agosto 2019.xlsx')\n",
    "\n",
    "\n",
    "#Renoemando as colunas para seguir o padrão do Excel\n",
    "def number_to_excel_column(num):\n",
    "    \"\"\"\n",
    "    Converte um número de coluna numa ‘string’ com a representação alfabética.\n",
    "    Exemplo: 1 => 'A', 2 => 'B', ..., 26 => 'Z', 27 => 'AA', 28 => 'AB', ...\n",
    "    \"\"\"\n",
    "    return cell.get_column_letter(num)\n",
    "\n",
    "# Gera uma lista com os nomes das colunas no estilo do Excel\n",
    "col_names = [number_to_excel_column(num) for num in range(1, len(data_frame.columns)+1)]\n",
    "\n",
    "# Cria um dicionário com os nomes atuais e os novos nomes das colunas\n",
    "new_col_names = {old_name: new_name for old_name, new_name in zip(data_frame.columns, col_names)}\n",
    "\n",
    "# Renomeia as colunas\n",
    "data_frame = data_frame.rename(columns=new_col_names)\n",
    "\n",
    "data_frame_r = data_frame.replace('', np.nan)\n"
   ],
   "metadata": {
    "collapsed": false,
    "ExecuteTime": {
     "end_time": "2023-12-17T17:01:04.597186800Z",
     "start_time": "2023-12-17T17:01:03.576236100Z"
    }
   }
  },
  {
   "cell_type": "code",
   "execution_count": 10,
   "outputs": [],
   "source": [
    "#Selecionando a parte de dados sociodemograficos;\n",
    "df_socioeconomico = data_frame_r.loc[:, 'B':'BP']\n",
    "\n",
    "# Parte do dataframe que contem o questionário WHOQOL\n",
    "df_whoqol = data_frame_r.loc[:, 'BR':'CU']\n",
    "\n",
    "# Parte do dataframe que contem o questionário de MHI\n",
    "df_mhi = data_frame_r.loc[:, 'CW':'EH']\n"
   ],
   "metadata": {
    "collapsed": false,
    "ExecuteTime": {
     "end_time": "2023-12-17T17:01:05.572154700Z",
     "start_time": "2023-12-17T17:01:05.567597500Z"
    }
   }
  },
  {
   "cell_type": "code",
   "execution_count": 11,
   "outputs": [
    {
     "name": "stdout",
     "output_type": "stream",
     "text": [
      "     B     C    D    E     F     G    H    I    J    K  ...   BG   BH   BI  \\\n",
      "0  1.0  25.0  1.0  1.0   1.0   1.0  0.0  1.0  1.0  1.0  ...  0.0  0.0  0.0   \n",
      "1  1.0  19.0  1.0  1.0   1.0  83.0  1.0  1.0  1.0  1.0  ...  0.0  0.0  0.0   \n",
      "2  1.0  28.0  5.0  1.0  23.0  23.0  1.0  1.0  1.0  1.0  ...  0.0  0.0  0.0   \n",
      "3  1.0  22.0  1.0  1.0  37.0   1.0  2.0  1.0  1.0  1.0  ...  0.0  0.0  0.0   \n",
      "4  1.0  21.0  1.0  1.0   6.0   1.0  2.0  3.0  5.0  1.0  ...  0.0  0.0  0.0   \n",
      "\n",
      "    BJ   BK   BL   BM   BN   BO   BP  \n",
      "0  0.0  0.0  0.0  0.0  0.0  0.0  8.0  \n",
      "1  0.0  0.0  0.0  0.0  0.0  0.0  7.0  \n",
      "2  0.0  0.0  0.0  0.0  0.0  0.0  7.0  \n",
      "3  0.0  0.0  0.0  0.0  0.0  0.0  6.0  \n",
      "4  0.0  0.0  0.0  0.0  0.0  1.0  7.0  \n",
      "\n",
      "[5 rows x 67 columns]\n",
      "    CW   CX   CY   CZ   DA   DB   DC   DD   DE   DF  ...   DY   DZ   EA   EB  \\\n",
      "0  4.0  4.0  4.0  6.0  4.0  4.0  4.0  5.0  5.0  3.0  ...  5.0  4.0  4.0  4.0   \n",
      "1  5.0  5.0  4.0  4.0  4.0  4.0  2.0  3.0  1.0  4.0  ...  2.0  2.0  4.0  5.0   \n",
      "2  3.0  4.0  1.0  3.0  3.0  2.0  3.0  1.0  2.0  3.0  ...  2.0  2.0  3.0  3.0   \n",
      "3  1.0  1.0  1.0  1.0  1.0  1.0  1.0  1.0  1.0  3.0  ...  1.0  2.0  2.0  3.0   \n",
      "4  3.0  4.0  3.0  3.0  2.0  3.0  3.0  3.0  1.0  4.0  ...  3.0  2.0  3.0  3.0   \n",
      "\n",
      "    EC   ED   EE   EF   EG   EH  \n",
      "0  2.0  4.0  4.0  4.0  5.0  6.0  \n",
      "1  4.0  4.0  5.0  5.0  1.0  2.0  \n",
      "2  1.0  2.0  2.0  4.0  3.0  3.0  \n",
      "3  1.0  1.0  5.0  1.0  1.0  1.0  \n",
      "4  2.0  2.0  2.0  3.0  2.0  2.0  \n",
      "\n",
      "[5 rows x 38 columns]\n"
     ]
    }
   ],
   "source": [
    "print(df_socioeconomico.head())\n",
    "print(df_mhi.head())"
   ],
   "metadata": {
    "collapsed": false,
    "ExecuteTime": {
     "end_time": "2023-12-17T17:01:07.695126200Z",
     "start_time": "2023-12-17T17:01:07.689613800Z"
    }
   }
  },
  {
   "cell_type": "markdown",
   "source": [
    "### 1.3 - Calculando os niveis de saude mental do MHI;\n",
    "Para calcular o resultado é a soma de cada um dos ‘items’ do questionario MHI.\n",
    "Os niveis de saude mental são definidos da seguinte forma:\n",
    "- Nivel baixo: (Media - 1*Desvio Padrão)\n",
    "- Nivel medio: (Media)\n",
    "- Nivel alto: (Media + 1*Desvio Padrão)"
   ],
   "metadata": {
    "collapsed": false
   }
  },
  {
   "cell_type": "code",
   "execution_count": 0,
   "outputs": [],
   "source": [
    "#Calculando os niveis de saude mental do MHI\n",
    "df_mhi['MHI_Score'] = df_mhi.sum(axis=1)\n",
    "\n",
    "#Calculando a média e o desvio padrão\n",
    "media = df_mhi['MHI_Score'].mean()\n",
    "desvio_padrao = df_mhi['MHI_Score'].std()\n",
    "\n",
    "#Calculando os niveis de saude mental\n",
    "df_mhi['Nivel_MHI'] = df_mhi['MHI_Score'].apply(lambda x: 'Baixo' if x < (media - desvio_padrao) else ('Medio' if x < media + desvio_padrao else 'Alto'))"
   ],
   "metadata": {
    "collapsed": false
   }
  },
  {
   "cell_type": "code",
   "execution_count": 13,
   "outputs": [
    {
     "data": {
      "text/plain": "Nivel_MHI\nMedio    580\nBaixo    153\nAlto     149\nName: count, dtype: int64"
     },
     "execution_count": 13,
     "metadata": {},
     "output_type": "execute_result"
    }
   ],
   "source": [
    "\n",
    "df_mhi['Nivel_MHI'].value_counts()\n"
   ],
   "metadata": {
    "collapsed": false,
    "ExecuteTime": {
     "end_time": "2023-12-17T17:01:58.677250200Z",
     "start_time": "2023-12-17T17:01:58.668041400Z"
    }
   }
  },
  {
   "cell_type": "markdown",
   "source": [
    "### 1.4 - Aplicando as modificações na base de dados;"
   ],
   "metadata": {
    "collapsed": false
   }
  },
  {
   "cell_type": "code",
   "execution_count": 6,
   "outputs": [],
   "source": [
    "# Definindo as colunas que serão removidas:\n",
    "rem_col_names = [ # Nome\n",
    "                 'G', # Local de nascimento [Temporariamente] <-\n",
    "                 'K', # Curso de graduação [Temporariamente] <-\n",
    "                 'P', # Indique os princiapis fatores de estresse\n",
    "                 'Q', 'R', 'S','T', # Fatores de estresse\n",
    "                 'V', # Qual o motivo do afastamento\n",
    "                 'W', 'X','Y','Z', # Motivos do afastamento\n",
    "                 'AF', # Caso receba auxilio...\n",
    "                 'AG', 'AH', 'AI', 'AJ', 'AK', 'AL', 'AM', # Auxilio\n",
    "                 'AQ', # Quais atividades de lazer\n",
    "                 'BA', # Faz uso continuo de algum medicamento\n",
    "                 'BB', 'BC', # Medicamentos\n",
    "                 'BE',# Qual substancia psicoativa\n",
    "                 'BF', 'BG', 'BH', 'BI', 'BJ', 'BK', 'BL', 'BM', 'BN' # Substancias psicoativas\n",
    "                 ]\n",
    "\n",
    "\n",
    "# Removendo as colunas\n",
    "df_socioeconomico = df_socioeconomico.drop(columns=rem_col_names, axis=1)"
   ],
   "metadata": {
    "collapsed": false,
    "ExecuteTime": {
     "end_time": "2023-05-18T14:46:12.542192800Z",
     "start_time": "2023-05-18T14:46:12.536334600Z"
    }
   }
  },
  {
   "cell_type": "code",
   "execution_count": 7,
   "outputs": [],
   "source": [
    "# Modificando os dados das colunas:\n",
    "\n",
    "# Coluna 'B' - Sexo; Está no formato 1 e 2, queremos binarizar, ou seja, 0 e 1.\n",
    "df_socioeconomico['B'] = df_socioeconomico['B'].apply(lambda x: 0 if x == 2 else x) # 0 - Masculino | 1 - Feminino\n",
    "\n",
    "# Coluna 'D'- Raça; Vária de 1 a 5 e será aplicado one-hot-encoding, ou seja, será criada uma coluna para cada valor.\n",
    "oh_raca = pd.get_dummies(df_socioeconomico['D'], prefix='D')\n",
    "df_socioeconomico = df_socioeconomico.drop('D', axis=1)\n",
    "df_socioeconomico = df_socioeconomico.join(oh_raca)\n",
    "\n",
    "# Coluna 'E' - Situacao Civil; Aplicando one-hot-encoding\n",
    "oh_situacao_civil = pd.get_dummies(df_socioeconomico['E'], prefix='E')\n",
    "df_socioeconomico = df_socioeconomico.drop('E', axis=1)\n",
    "df_socioeconomico = df_socioeconomico.join(oh_situacao_civil)\n",
    "\n",
    "# Coluna 'F' - Local de Origem; Se o local for diferente de '1' (Sobral) será substituido por '0' (Outro)\n",
    "df_socioeconomico['F'] = df_socioeconomico['F'].apply(lambda x: 0 if x != 1 else x)\n",
    "\n",
    "# Coluna 'I' - Com quem reside; Aplicando one-hot-encoding\n",
    "oh_reside = pd.get_dummies(df_socioeconomico['I'], prefix='I')\n",
    "df_socioeconomico = df_socioeconomico.drop('I', axis=1)\n",
    "df_socioeconomico = df_socioeconomico.join(oh_reside)\n",
    "\n",
    "# Coluna 'J' - Religiao; Aplicando one-hot-encoding\n",
    "oh_religiao = pd.get_dummies(df_socioeconomico['J'], prefix='J')\n",
    "df_socioeconomico = df_socioeconomico.drop('J', axis=1)\n",
    "df_socioeconomico = df_socioeconomico.join(oh_religiao)\n",
    "\n",
    "# Coluna 'AA' - Turno de estudo; Aplicando one-hot-encoding\n",
    "oh_turno = pd.get_dummies(df_socioeconomico['AA'], prefix='AA')\n",
    "df_socioeconomico = df_socioeconomico.drop('AA', axis=1)\n",
    "df_socioeconomico = df_socioeconomico.join(oh_turno)\n",
    "\n",
    "# Coluna 'AB' - Transporte; Aplicando one-hot-encoding\n",
    "oh_transporte = pd.get_dummies(df_socioeconomico['AB'], prefix='AB')\n",
    "df_socioeconomico = df_socioeconomico.drop('AB', axis=1)\n",
    "df_socioeconomico = df_socioeconomico.join(oh_transporte)\n"
   ],
   "metadata": {
    "collapsed": false,
    "ExecuteTime": {
     "end_time": "2023-05-18T14:46:12.611904200Z",
     "start_time": "2023-05-18T14:46:12.554195500Z"
    }
   }
  },
  {
   "cell_type": "code",
   "execution_count": 8,
   "outputs": [],
   "source": [
    "# Normalizando as colunas do WHOQOL-BREF\n"
   ],
   "metadata": {
    "collapsed": false,
    "ExecuteTime": {
     "end_time": "2023-05-18T14:46:12.617905100Z",
     "start_time": "2023-05-18T14:46:12.608896Z"
    }
   }
  },
  {
   "cell_type": "markdown",
   "source": [
    "### 1.5 - Adiconando as colunas do WHOQOL-BREF;"
   ],
   "metadata": {
    "collapsed": false
   }
  },
  {
   "cell_type": "code",
   "execution_count": 9,
   "outputs": [],
   "source": [
    "# Adiconando as colunas do WHOQOL-BREF\n",
    "df_final = df_socioeconomico.join(df_whoqol)\n",
    "\n",
    "# Adicionando a coluna de objetivo (niveis de saude mental do MHI)\n",
    "df_final = df_final.join(df_mhi['Nivel_MHI'])\n",
    "\n",
    "# Removendo as linhas que contem valores nulos\n",
    "df_final = df_final.dropna()\n"
   ],
   "metadata": {
    "collapsed": false,
    "ExecuteTime": {
     "end_time": "2023-05-18T14:46:12.691232200Z",
     "start_time": "2023-05-18T14:46:12.616901500Z"
    }
   }
  },
  {
   "cell_type": "markdown",
   "source": [
    "### 1.X - Adiconando os valores numericos do MHI a um outro dataframe;"
   ],
   "metadata": {
    "collapsed": false
   }
  },
  {
   "cell_type": "code",
   "execution_count": 14,
   "outputs": [
    {
     "ename": "TypeError",
     "evalue": "'numpy.float64' object is not iterable",
     "output_type": "error",
     "traceback": [
      "\u001B[1;31m---------------------------------------------------------------------------\u001B[0m",
      "\u001B[1;31mTypeError\u001B[0m                                 Traceback (most recent call last)",
      "Cell \u001B[1;32mIn[14], line 1\u001B[0m\n\u001B[1;32m----> 1\u001B[0m df_reg_final \u001B[38;5;241m=\u001B[39m df_final\u001B[38;5;241m.\u001B[39mjoin(media)\n\u001B[0;32m      3\u001B[0m \u001B[38;5;66;03m#Salvando como csv\u001B[39;00m\n\u001B[0;32m      4\u001B[0m df_reg_final\u001B[38;5;241m.\u001B[39mto_csv(\u001B[38;5;124m'\u001B[39m\u001B[38;5;124mdf_soc_whoqol_reg.csv\u001B[39m\u001B[38;5;124m'\u001B[39m, index\u001B[38;5;241m=\u001B[39m\u001B[38;5;28;01mFalse\u001B[39;00m)\n",
      "File \u001B[1;32m~\\anaconda3\\envs\\BIC\\Lib\\site-packages\\pandas\\core\\frame.py:9979\u001B[0m, in \u001B[0;36mDataFrame.join\u001B[1;34m(self, other, on, how, lsuffix, rsuffix, sort, validate)\u001B[0m\n\u001B[0;32m   9816\u001B[0m \u001B[38;5;28;01mdef\u001B[39;00m \u001B[38;5;21mjoin\u001B[39m(\n\u001B[0;32m   9817\u001B[0m     \u001B[38;5;28mself\u001B[39m,\n\u001B[0;32m   9818\u001B[0m     other: DataFrame \u001B[38;5;241m|\u001B[39m Series \u001B[38;5;241m|\u001B[39m \u001B[38;5;28mlist\u001B[39m[DataFrame \u001B[38;5;241m|\u001B[39m Series],\n\u001B[1;32m   (...)\u001B[0m\n\u001B[0;32m   9824\u001B[0m     validate: \u001B[38;5;28mstr\u001B[39m \u001B[38;5;241m|\u001B[39m \u001B[38;5;28;01mNone\u001B[39;00m \u001B[38;5;241m=\u001B[39m \u001B[38;5;28;01mNone\u001B[39;00m,\n\u001B[0;32m   9825\u001B[0m ) \u001B[38;5;241m-\u001B[39m\u001B[38;5;241m>\u001B[39m DataFrame:\n\u001B[0;32m   9826\u001B[0m     \u001B[38;5;124;03m\"\"\"\u001B[39;00m\n\u001B[0;32m   9827\u001B[0m \u001B[38;5;124;03m    Join columns of another DataFrame.\u001B[39;00m\n\u001B[0;32m   9828\u001B[0m \n\u001B[1;32m   (...)\u001B[0m\n\u001B[0;32m   9977\u001B[0m \u001B[38;5;124;03m    5  K1  A5   B1\u001B[39;00m\n\u001B[0;32m   9978\u001B[0m \u001B[38;5;124;03m    \"\"\"\u001B[39;00m\n\u001B[1;32m-> 9979\u001B[0m     \u001B[38;5;28;01mreturn\u001B[39;00m \u001B[38;5;28mself\u001B[39m\u001B[38;5;241m.\u001B[39m_join_compat(\n\u001B[0;32m   9980\u001B[0m         other,\n\u001B[0;32m   9981\u001B[0m         on\u001B[38;5;241m=\u001B[39mon,\n\u001B[0;32m   9982\u001B[0m         how\u001B[38;5;241m=\u001B[39mhow,\n\u001B[0;32m   9983\u001B[0m         lsuffix\u001B[38;5;241m=\u001B[39mlsuffix,\n\u001B[0;32m   9984\u001B[0m         rsuffix\u001B[38;5;241m=\u001B[39mrsuffix,\n\u001B[0;32m   9985\u001B[0m         sort\u001B[38;5;241m=\u001B[39msort,\n\u001B[0;32m   9986\u001B[0m         validate\u001B[38;5;241m=\u001B[39mvalidate,\n\u001B[0;32m   9987\u001B[0m     )\n",
      "File \u001B[1;32m~\\anaconda3\\envs\\BIC\\Lib\\site-packages\\pandas\\core\\frame.py:10044\u001B[0m, in \u001B[0;36mDataFrame._join_compat\u001B[1;34m(self, other, on, how, lsuffix, rsuffix, sort, validate)\u001B[0m\n\u001B[0;32m  10036\u001B[0m     \u001B[38;5;28;01mraise\u001B[39;00m \u001B[38;5;167;01mValueError\u001B[39;00m(\n\u001B[0;32m  10037\u001B[0m         \u001B[38;5;124m\"\u001B[39m\u001B[38;5;124mSuffixes not supported when joining multiple DataFrames\u001B[39m\u001B[38;5;124m\"\u001B[39m\n\u001B[0;32m  10038\u001B[0m     )\n\u001B[0;32m  10040\u001B[0m \u001B[38;5;66;03m# Mypy thinks the RHS is a\u001B[39;00m\n\u001B[0;32m  10041\u001B[0m \u001B[38;5;66;03m# \"Union[DataFrame, Series, Iterable[Union[DataFrame, Series]]]\" whereas\u001B[39;00m\n\u001B[0;32m  10042\u001B[0m \u001B[38;5;66;03m# the LHS is an \"Iterable[DataFrame]\", but in reality both types are\u001B[39;00m\n\u001B[0;32m  10043\u001B[0m \u001B[38;5;66;03m# \"Iterable[Union[DataFrame, Series]]\" due to the if statements\u001B[39;00m\n\u001B[1;32m> 10044\u001B[0m frames \u001B[38;5;241m=\u001B[39m [cast(\u001B[38;5;124m\"\u001B[39m\u001B[38;5;124mDataFrame | Series\u001B[39m\u001B[38;5;124m\"\u001B[39m, \u001B[38;5;28mself\u001B[39m)] \u001B[38;5;241m+\u001B[39m \u001B[38;5;28mlist\u001B[39m(other)\n\u001B[0;32m  10046\u001B[0m can_concat \u001B[38;5;241m=\u001B[39m \u001B[38;5;28mall\u001B[39m(df\u001B[38;5;241m.\u001B[39mindex\u001B[38;5;241m.\u001B[39mis_unique \u001B[38;5;28;01mfor\u001B[39;00m df \u001B[38;5;129;01min\u001B[39;00m frames)\n\u001B[0;32m  10048\u001B[0m \u001B[38;5;66;03m# join indexes only using concat\u001B[39;00m\n",
      "\u001B[1;31mTypeError\u001B[0m: 'numpy.float64' object is not iterable"
     ]
    }
   ],
   "source": [
    "df_reg_final = df_final.join(df_mhi['MHI_Score'])\n",
    "\n",
    "#Salvando como csv\n",
    "df_reg_final.to_csv('df_soc_whoqol_reg.csv', index=False)"
   ],
   "metadata": {
    "collapsed": false,
    "ExecuteTime": {
     "end_time": "2023-05-18T16:22:00.872716300Z",
     "start_time": "2023-05-18T16:21:56.437954300Z"
    }
   }
  },
  {
   "cell_type": "markdown",
   "source": [
    "### 1.5 - Salvando o dataframe num arquivo csv;"
   ],
   "metadata": {
    "collapsed": false
   }
  },
  {
   "cell_type": "code",
   "execution_count": 11,
   "outputs": [],
   "source": [
    "# Salvando o dataframe num arquivo csv\n",
    "#df_final.to_csv('df_social_whoqol_tratado_1.csv', index=False)"
   ],
   "metadata": {
    "collapsed": false,
    "ExecuteTime": {
     "end_time": "2023-05-18T14:46:12.804404800Z",
     "start_time": "2023-05-18T14:46:12.801404200Z"
    }
   }
  },
  {
   "cell_type": "code",
   "execution_count": null,
   "outputs": [],
   "source": [],
   "metadata": {
    "collapsed": false
   }
  },
  {
   "cell_type": "markdown",
   "source": [
    "## 2 - Análise Exploratória dos Dados;"
   ],
   "metadata": {
    "collapsed": false
   }
  },
  {
   "cell_type": "code",
   "execution_count": 2,
   "outputs": [],
   "source": [
    "#Importando as bibliotecas necessárias para analisar os dados\n",
    "import pandas as pd\n",
    "import numpy as np\n",
    "import matplotlib.pyplot as plt\n",
    "import seaborn as sns\n",
    "import string\n"
   ],
   "metadata": {
    "collapsed": false,
    "ExecuteTime": {
     "end_time": "2023-12-17T16:59:01.736248300Z",
     "start_time": "2023-12-17T16:59:01.729565600Z"
    }
   }
  },
  {
   "cell_type": "code",
   "execution_count": 4,
   "outputs": [],
   "source": [
    "# Importando o csv\n",
    "df = pd.read_csv('Datasets/dataframe_socioeconomico_Niveis.csv')\n"
   ],
   "metadata": {
    "collapsed": false,
    "ExecuteTime": {
     "end_time": "2023-12-17T16:59:34.213343500Z",
     "start_time": "2023-12-17T16:59:34.205912Z"
    }
   }
  },
  {
   "cell_type": "code",
   "execution_count": 6,
   "outputs": [
    {
     "data": {
      "text/plain": "<Figure size 640x480 with 1 Axes>",
      "image/png": "[encoded data removed]"
     },
     "metadata": {},
     "output_type": "display_data"
    },
    {
     "data": {
      "text/plain": "Nivel_MHI\nMedio    574\nBaixo    149\nAlto     149\nName: count, dtype: int64"
     },
     "execution_count": 6,
     "metadata": {},
     "output_type": "execute_result"
    }
   ],
   "source": [
    "# Plotar grafico para a distribuição dos niveis de saude mental\n",
    "sns.countplot(x='Nivel_MHI', data=df)\n",
    "plt.show()\n",
    "\n",
    "df['Nivel_MHI'].value_counts()"
   ],
   "metadata": {
    "collapsed": false,
    "ExecuteTime": {
     "end_time": "2023-12-17T16:59:55.971662900Z",
     "start_time": "2023-12-17T16:59:55.877052100Z"
    }
   }
  },
  {
   "cell_type": "code",
   "execution_count": null,
   "outputs": [],
   "source": [],
   "metadata": {
    "collapsed": false
   }
  }
 ],
 "metadata": {
  "kernelspec": {
   "display_name": "Python 3",
   "language": "python",
   "name": "python3"
  },
  "language_info": {
   "codemirror_mode": {
    "name": "ipython",
    "version": 2
   },
   "file_extension": ".py",
   "mimetype": "text/x-python",
   "name": "python",
   "nbconvert_exporter": "python",
   "pygments_lexer": "ipython2",
   "version": "2.7.6"
  }
 },
 "nbformat": 4,
 "nbformat_minor": 0
}
