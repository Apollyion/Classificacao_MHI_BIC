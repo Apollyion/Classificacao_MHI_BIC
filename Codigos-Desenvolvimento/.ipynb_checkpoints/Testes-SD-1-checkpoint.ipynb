{
 "cells": [
  {
   "cell_type": "markdown",
   "metadata": {},
   "source": [
    "# Classificação dos niveis de MHI;\n",
    "- Neste projeto será utilizado a base de dados da dissertação \"QUALIDADE DE VIDA E SAÚDE MENTAL DE ESTUDANTES UNIVERSITÁRIOS\" de autoria de LYCÉLIA DA SILVA OLIVEIRA, com o objetivo de usar dados sociodemograficos e de qualidade de vida para classificar os niveis de saude mental dos estudantes universitarios da UVA."
   ]
  },
  {
   "cell_type": "markdown",
   "metadata": {},
   "source": [
    "## 1 - Preparação dos Dados;"
   ]
  },
  {
   "cell_type": "markdown",
   "metadata": {},
   "source": [
    "### 1.1 - Importando as bibliotecas necessárias;"
   ]
  },
  {
   "cell_type": "code",
   "execution_count": 2,
   "metadata": {
    "ExecuteTime": {
     "end_time": "2023-05-06T19:40:13.546796Z",
     "start_time": "2023-05-06T19:40:13.135082Z"
    }
   },
   "outputs": [],
   "source": [
    "#Importando as bibliotecas necessárias para analisar os dados\n",
    "import pandas as pd\n",
    "import numpy as np\n",
    "#import matplotlib.pyplot as plt\n",
    "#import string\n",
    "import openpyxl.utils.cell as cell\n"
   ]
  },
  {
   "cell_type": "markdown",
   "metadata": {},
   "source": [
    "### 1.2 - Importando os dados e manipulando-os;"
   ]
  },
  {
   "cell_type": "code",
   "execution_count": 3,
   "metadata": {
    "ExecuteTime": {
     "end_time": "2023-05-06T19:40:15.582865Z",
     "start_time": "2023-05-06T19:40:13.872731Z"
    }
   },
   "outputs": [],
   "source": [
    "#Importando os dados\n",
    "data_frame = pd.read_excel('BANCO DE DADOS - INVERTIDO - 24 de Agosto 2019.xlsx')\n",
    "\n",
    "\n",
    "#Renoemando as colunas para seguir o padrão do excel\n",
    "def number_to_excel_column(num):\n",
    "    \"\"\"\n",
    "    Converte um número de coluna em uma string com a representação alfabética.\n",
    "    Exemplo: 1 => 'A', 2 => 'B', ..., 26 => 'Z', 27 => 'AA', 28 => 'AB', ...\n",
    "    \"\"\"\n",
    "    return cell.get_column_letter(num)\n",
    "\n",
    "# Gera uma lista com os nomes das colunas no estilo do Excel\n",
    "col_names = [number_to_excel_column(num) for num in range(1, len(data_frame.columns)+1)]\n",
    "\n",
    "# Cria um dicionário com os nomes atuais e os novos nomes das colunas\n",
    "new_col_names = {old_name: new_name for old_name, new_name in zip(data_frame.columns, col_names)}\n",
    "\n",
    "# Renomeia as colunas\n",
    "data_frame = data_frame.rename(columns=new_col_names)\n",
    "\n",
    "data_frame_r = data_frame.replace('', np.nan)\n"
   ]
  },
  {
   "cell_type": "code",
   "execution_count": 4,
   "metadata": {
    "ExecuteTime": {
     "end_time": "2023-05-06T19:40:15.582865Z",
     "start_time": "2023-05-06T19:40:15.556024Z"
    }
   },
   "outputs": [],
   "source": [
    "#Selecionando a parte de dados sociodemograficos;\n",
    "df_socioeconomico = data_frame_r.loc[:, 'B':'BP']\n",
    "\n",
    "# Parte do dataframe que contem o questionário WHOQOL\n",
    "df_whoqol = data_frame_r.loc[:, 'BR':'CU']\n",
    "\n",
    "# Parte do dataframe que contem o questionário de MHI\n",
    "df_mhi = data_frame_r.loc[:, 'CW':'EH']\n"
   ]
  },
  {
   "cell_type": "code",
   "execution_count": 6,
   "metadata": {
    "ExecuteTime": {
     "end_time": "2023-05-06T19:40:15.607633Z",
     "start_time": "2023-05-06T19:40:15.567226Z"
    }
   },
   "outputs": [
    {
     "name": "stdout",
     "output_type": "stream",
     "text": [
      "     B     C    D    E     F     G    H    I    J    K  ...   BG   BH   BI   \n",
      "0  1.0  25.0  1.0  1.0   1.0   1.0  0.0  1.0  1.0  1.0  ...  0.0  0.0  0.0  \\\n",
      "1  1.0  19.0  1.0  1.0   1.0  83.0  1.0  1.0  1.0  1.0  ...  0.0  0.0  0.0   \n",
      "2  1.0  28.0  5.0  1.0  23.0  23.0  1.0  1.0  1.0  1.0  ...  0.0  0.0  0.0   \n",
      "3  1.0  22.0  1.0  1.0  37.0   1.0  2.0  1.0  1.0  1.0  ...  0.0  0.0  0.0   \n",
      "4  1.0  21.0  1.0  1.0   6.0   1.0  2.0  3.0  5.0  1.0  ...  0.0  0.0  0.0   \n",
      "\n",
      "    BJ   BK   BL   BM   BN   BO   BP  \n",
      "0  0.0  0.0  0.0  0.0  0.0  0.0  8.0  \n",
      "1  0.0  0.0  0.0  0.0  0.0  0.0  7.0  \n",
      "2  0.0  0.0  0.0  0.0  0.0  0.0  7.0  \n",
      "3  0.0  0.0  0.0  0.0  0.0  0.0  6.0  \n",
      "4  0.0  0.0  0.0  0.0  0.0  1.0  7.0  \n",
      "\n",
      "[5 rows x 67 columns]\n",
      "    CW   CX   CY   CZ   DA   DB   DC   DD   DE   DF  ...   DY   DZ   EA   EB   \n",
      "0  4.0  4.0  4.0  6.0  4.0  4.0  4.0  5.0  5.0  3.0  ...  5.0  4.0  4.0  4.0  \\\n",
      "1  5.0  5.0  4.0  4.0  4.0  4.0  2.0  3.0  1.0  4.0  ...  2.0  2.0  4.0  5.0   \n",
      "2  3.0  4.0  1.0  3.0  3.0  2.0  3.0  1.0  2.0  3.0  ...  2.0  2.0  3.0  3.0   \n",
      "3  1.0  1.0  1.0  1.0  1.0  1.0  1.0  1.0  1.0  3.0  ...  1.0  2.0  2.0  3.0   \n",
      "4  3.0  4.0  3.0  3.0  2.0  3.0  3.0  3.0  1.0  4.0  ...  3.0  2.0  3.0  3.0   \n",
      "\n",
      "    EC   ED   EE   EF   EG   EH  \n",
      "0  2.0  4.0  4.0  4.0  5.0  6.0  \n",
      "1  4.0  4.0  5.0  5.0  1.0  2.0  \n",
      "2  1.0  2.0  2.0  4.0  3.0  3.0  \n",
      "3  1.0  1.0  5.0  1.0  1.0  1.0  \n",
      "4  2.0  2.0  2.0  3.0  2.0  2.0  \n",
      "\n",
      "[5 rows x 38 columns]\n"
     ]
    }
   ],
   "source": [
    "print(df_socioeconomico.head())\n",
    "print(df_mhi.head())"
   ]
  },
  {
   "cell_type": "markdown",
   "metadata": {},
   "source": [
    "### 1.3 - Calculando os niveis de saude mental do MHI;\n",
    "Para calcular o \"score\" é a soma de cada um dos items do questionario MHI.\n",
    "Os niveis de saude mental são definidos da seguinte forma:\n",
    "- Nivel baixo: (Media - 1*Desvio Padrão)\n",
    "- Nivel medio: (Media)\n",
    "- Nivel alto: (Media + 1*Desvio Padrão)"
   ]
  },
  {
   "cell_type": "code",
   "execution_count": 7,
   "metadata": {
    "ExecuteTime": {
     "end_time": "2023-05-06T19:40:15.654546Z",
     "start_time": "2023-05-06T19:40:15.594589Z"
    }
   },
   "outputs": [],
   "source": [
    "#Calculando os niveis de saude mental do MHI\n",
    "df_mhi['MHI_Score'] = df_mhi.sum(axis=1)\n",
    "\n",
    "#Calculando a média e o desvio padrão\n",
    "media = df_mhi['MHI_Score'].mean()\n",
    "desvio_padrao = df_mhi['MHI_Score'].std()\n",
    "\n",
    "#Calculando os niveis de saude mental\n",
    "df_mhi['Nivel_MHI'] = df_mhi['MHI_Score'].apply(lambda x: 'Baixo' if x < (media - desvio_padrao) else ('Medio' if x < media + desvio_padrao else 'Alto'))\n"
   ]
  },
  {
   "cell_type": "markdown",
   "metadata": {},
   "source": [
    "### 1.4 - Aplicando as modificações na base de dados;"
   ]
  },
  {
   "cell_type": "code",
   "execution_count": 8,
   "metadata": {
    "ExecuteTime": {
     "end_time": "2023-05-06T19:40:15.852158Z",
     "start_time": "2023-05-06T19:40:15.843424Z"
    }
   },
   "outputs": [],
   "source": [
    "# Definindo as colunas que serão removidas:\n",
    "rem_col_names = [ # Nome\n",
    "                 'G', # Local de nascimento [Temporariamente] <-\n",
    "                 'K', # Curso de graduação [Temporariamente] <-\n",
    "                 'P', # Indique os princiapis fatores de estresse\n",
    "                 'Q', 'R', 'S','T', # Fatores de estresse\n",
    "                 'V', # Qual o motivo do afastamento\n",
    "                 'W', 'X','Y','Z', # Motivos do afastamento\n",
    "                 'AF', # Caso receba auxilio...\n",
    "                 'AG', 'AH', 'AI', 'AJ', 'AK', 'AL', 'AM', # Auxilio\n",
    "                 'AQ', # Quais atividades de lazer\n",
    "                 'BA', # Faz uso continuo de algum medicamento\n",
    "                 'BB', 'BC', # Medicamentos\n",
    "                 'BE',# Qual substancia psicoativa\n",
    "                 'BF', 'BG', 'BH', 'BI', 'BJ', 'BK', 'BL', 'BM', 'BN' # Substancias psicoativas\n",
    "                 ]\n",
    "\n",
    "\n",
    "# Removendo as colunas\n",
    "df_socioeconomico = df_socioeconomico.drop(columns=rem_col_names, axis=1)"
   ]
  },
  {
   "cell_type": "code",
   "execution_count": 9,
   "metadata": {
    "ExecuteTime": {
     "end_time": "2023-05-06T19:40:16.188767Z",
     "start_time": "2023-05-06T19:40:16.154404Z"
    }
   },
   "outputs": [],
   "source": [
    "# Modificando os dados das colunas:\n",
    "\n",
    "# Coluna 'B' - Sexo; Está no formato 1 e 2, queremos binarizar, ou seja, 0 e 1.\n",
    "df_socioeconomico['B'] = df_socioeconomico['B'].apply(lambda x: 0 if x == 2 else x) # 0 - Masculino | 1 - Feminino\n",
    "\n",
    "# Coluna 'D' - Raça; Varia de 1 à 5 e será aplicado one-hot-encoding, ou seja, será criada uma coluna para cada valor.\n",
    "oh_raca = pd.get_dummies(df_socioeconomico['D'], prefix='D')\n",
    "df_socioeconomico = df_socioeconomico.drop('D', axis=1)\n",
    "df_socioeconomico = df_socioeconomico.join(oh_raca)\n",
    "\n",
    "# Coluna 'E' - Situacao Civil; Aplicando one-hot-encoding\n",
    "oh_situacao_civil = pd.get_dummies(df_socioeconomico['E'], prefix='E')\n",
    "df_socioeconomico = df_socioeconomico.drop('E', axis=1)\n",
    "df_socioeconomico = df_socioeconomico.join(oh_situacao_civil)\n",
    "\n",
    "# Coluna 'F' - Local de Origem; Se o local for diferente de '1' (Sobral) será substituido por '0' (Outro)\n",
    "df_socioeconomico['F'] = df_socioeconomico['F'].apply(lambda x: 0 if x != 1 else x)\n",
    "\n",
    "# Coluna 'I' - Com quem reside; Aplicando one-hot-encoding\n",
    "oh_reside = pd.get_dummies(df_socioeconomico['I'], prefix='I')\n",
    "df_socioeconomico = df_socioeconomico.drop('I', axis=1)\n",
    "df_socioeconomico = df_socioeconomico.join(oh_reside)\n",
    "\n",
    "# Coluna 'J' - Religiao; Aplicando one-hot-encoding\n",
    "oh_religiao = pd.get_dummies(df_socioeconomico['J'], prefix='J')\n",
    "df_socioeconomico = df_socioeconomico.drop('J', axis=1)\n",
    "df_socioeconomico = df_socioeconomico.join(oh_religiao)\n",
    "\n",
    "# Coluna 'AA' - Turno de estudo; Aplicando one-hot-encoding\n",
    "oh_turno = pd.get_dummies(df_socioeconomico['AA'], prefix='AA')\n",
    "df_socioeconomico = df_socioeconomico.drop('AA', axis=1)\n",
    "df_socioeconomico = df_socioeconomico.join(oh_turno)\n",
    "\n",
    "# Coluna 'AB' - Transporte; Aplicando one-hot-encoding\n",
    "oh_transporte = pd.get_dummies(df_socioeconomico['AB'], prefix='AB')\n",
    "df_socioeconomico = df_socioeconomico.drop('AB', axis=1)\n",
    "df_socioeconomico = df_socioeconomico.join(oh_transporte)\n"
   ]
  },
  {
   "cell_type": "code",
   "execution_count": 10,
   "metadata": {
    "ExecuteTime": {
     "end_time": "2023-05-06T19:40:16.467982Z",
     "start_time": "2023-05-06T19:40:16.455546Z"
    }
   },
   "outputs": [],
   "source": [
    "# Unindo o dataframe socioeconomico com a coluna de niveis de saude mental do MHI\n",
    "df_socioeconomico = df_socioeconomico.join(df_mhi['Nivel_MHI'])\n",
    "\n",
    "# Removendo as linhas que contem valores nulos\n",
    "df_socioeconomico = df_socioeconomico.dropna()\n"
   ]
  },
  {
   "cell_type": "markdown",
   "metadata": {},
   "source": [
    "### 1.5 - Salvando o dataframe em um arquivo csv;"
   ]
  },
  {
   "cell_type": "code",
   "execution_count": 11,
   "metadata": {
    "ExecuteTime": {
     "end_time": "2023-05-06T19:40:17.106948Z",
     "start_time": "2023-05-06T19:40:17.061536Z"
    }
   },
   "outputs": [],
   "source": [
    "# Salvando o dataframe em um arquivo csv\n",
    "df_socioeconomico.to_csv('dataframe_socioeconomico_Niveis.csv', index=False)"
   ]
  },
  {
   "cell_type": "markdown",
   "metadata": {},
   "source": [
    "## 2 - Classificação com Modelos Baseline  ;\n",
    "Inicialmente será testado alguns modelos baseline para verificar qual apresenta o melhor resultado, sem aplicar nenhum tipo de tratamento nos dados. Usei como baseline os seguintes modelos:\n",
    "- (1) DummyClassifier\n",
    "- (2) SVM\n",
    "- (3) Random Forest\n",
    "- (4) MLP\n",
    "- (5) XGBoost\n",
    "- (6) KNN"
   ]
  },
  {
   "cell_type": "markdown",
   "metadata": {},
   "source": [
    "### 2.1 - Importando as bibliotecas necessárias;"
   ]
  },
  {
   "cell_type": "code",
   "execution_count": 12,
   "metadata": {
    "ExecuteTime": {
     "end_time": "2023-05-06T19:40:18.018253Z",
     "start_time": "2023-05-06T19:40:17.940857Z"
    }
   },
   "outputs": [],
   "source": [
    "# Importando as bibliotecas necessárias\n",
    "from sklearn.model_selection import train_test_split\n",
    "from sklearn.metrics import classification_report\n",
    "from sklearn.metrics import confusion_matrix\n",
    "from sklearn.metrics import accuracy_score\n",
    "\n",
    "# Importando os modelos de classificação\n",
    "from sklearn.svm import SVC\n",
    "from sklearn.ensemble import RandomForestClassifier\n",
    "from sklearn.neural_network import MLPClassifier\n",
    "from xgboost import XGBClassifier\n",
    "from sklearn.dummy import DummyClassifier\n",
    "from sklearn.neighbors import KNeighborsClassifier\n",
    "from sklearn.model_selection import KFold"
   ]
  },
  {
   "cell_type": "markdown",
   "metadata": {},
   "source": [
    "### 2.2 - Separando os dados de treino e teste;\n",
    "Neste momento será separado os dados de treino e teste, sendo utilizado um k-fold de 10, ou seja, 10% dos dados serão utilizados para teste e 90% para treino. O random_state será fixado em 42 para que os resultados sejam reproduziveis.\n",
    "\n",
    "Ainda será aplicado o LabelEncoder na variavel target, pois os modelos não aceitam variaveis categóricas."
   ]
  },
  {
   "cell_type": "code",
   "execution_count": 13,
   "metadata": {
    "ExecuteTime": {
     "end_time": "2023-05-06T19:40:18.734842Z",
     "start_time": "2023-05-06T19:40:18.732380Z"
    }
   },
   "outputs": [],
   "source": [
    "# Separando os dados de treino e teste\n",
    "X = df_socioeconomico.drop('Nivel_MHI', axis=1)\n",
    "y = df_socioeconomico['Nivel_MHI']\n",
    "\n",
    "#Aplicando label encoder na variavel target\n",
    "from sklearn.preprocessing import LabelEncoder\n",
    "le = LabelEncoder()\n",
    "y = le.fit_transform(y)\n"
   ]
  },
  {
   "cell_type": "code",
   "execution_count": 14,
   "metadata": {
    "ExecuteTime": {
     "end_time": "2023-05-06T19:40:19.163521Z",
     "start_time": "2023-05-06T19:40:19.147358Z"
    }
   },
   "outputs": [],
   "source": [
    "# Criando uma função para avaliar os modelos\n",
    "def avalia_modelo_cv(model, X, y, n, resultados_individuais=False):\n",
    "    kf = KFold(n_splits=n)\n",
    "    reports = []\n",
    "    y_true = []\n",
    "    y_pred_list = []\n",
    "    X_array = X.values\n",
    "    accuracy_list = []\n",
    "    model_name = type(model).__name__\n",
    "    for fold_idx, (train_index, test_index) in enumerate(kf.split(X)):\n",
    "        X_train, X_test = X_array[train_index], X_array[test_index]\n",
    "        y_train, y_test = y[train_index], y[test_index]\n",
    "        model.fit(X_train, y_train)\n",
    "        y_pred = model.predict(X_test)\n",
    "        y_true.extend(y_test)\n",
    "        y_pred_list.append(y_pred)\n",
    "        report = classification_report(y_test, y_pred, zero_division=0)\n",
    "        reports.append(report)\n",
    "        accuracy_list.append(accuracy_score(y_test, y_pred))\n",
    "        if resultados_individuais:\n",
    "            print(f\"Classification Report for fold {fold_idx + 1}:\\n{report}\\n\")\n",
    "    y_pred_total = np.concatenate(y_pred_list)\n",
    "    print(\"-\" * 15)\n",
    "    print(\"model_name: \", model_name)\n",
    "    print(\"Average Classification Report:\")\n",
    "    avg_report = classification_report(y_true, y_pred_total, zero_division=0)\n",
    "    print(avg_report)\n",
    "    #Retorna a acuracia media\n",
    "    return accuracy_score(y_true, y_pred_total)\n",
    "\n"
   ]
  },
  {
   "cell_type": "markdown",
   "metadata": {},
   "source": [
    "### 2.3 - Aplicando os modelos baseline;"
   ]
  },
  {
   "cell_type": "markdown",
   "metadata": {},
   "source": [
    "#### (1) DummyClassifier;"
   ]
  },
  {
   "cell_type": "code",
   "execution_count": 15,
   "metadata": {
    "ExecuteTime": {
     "end_time": "2023-05-06T19:40:20.337797Z",
     "start_time": "2023-05-06T19:40:20.264229Z"
    }
   },
   "outputs": [
    {
     "name": "stdout",
     "output_type": "stream",
     "text": [
      "---------------\n",
      "model_name:  DummyClassifier\n",
      "Average Classification Report:\n",
      "              precision    recall  f1-score   support\n",
      "\n",
      "           0       0.00      0.00      0.00       149\n",
      "           1       0.00      0.00      0.00       149\n",
      "           2       0.66      1.00      0.79       574\n",
      "\n",
      "    accuracy                           0.66       872\n",
      "   macro avg       0.22      0.33      0.26       872\n",
      "weighted avg       0.43      0.66      0.52       872\n",
      "\n"
     ]
    }
   ],
   "source": [
    "# Criando o modelo dummy\n",
    "dummy = DummyClassifier(strategy='most_frequent', random_state=42)\n",
    "\n",
    "# Aplicando a função de avaliação\n",
    "dummy_u = avalia_modelo_cv(dummy, X, y, 10)"
   ]
  },
  {
   "cell_type": "markdown",
   "metadata": {},
   "source": [
    "#### (2) SVM - Support Vector Machine;"
   ]
  },
  {
   "cell_type": "code",
   "execution_count": 16,
   "metadata": {
    "ExecuteTime": {
     "end_time": "2023-05-06T19:40:21.663587Z",
     "start_time": "2023-05-06T19:40:21.036409Z"
    }
   },
   "outputs": [
    {
     "name": "stdout",
     "output_type": "stream",
     "text": [
      "---------------\n",
      "model_name:  SVC\n",
      "Average Classification Report:\n",
      "              precision    recall  f1-score   support\n",
      "\n",
      "           0       0.00      0.00      0.00       149\n",
      "           1       0.00      0.00      0.00       149\n",
      "           2       0.66      1.00      0.79       574\n",
      "\n",
      "    accuracy                           0.66       872\n",
      "   macro avg       0.22      0.33      0.26       872\n",
      "weighted avg       0.43      0.66      0.52       872\n",
      "\n"
     ]
    }
   ],
   "source": [
    "# Criando o modelo SVM\n",
    "svm = SVC(kernel='rbf', gamma='auto', decision_function_shape='ovo', random_state=42)\n",
    "\n",
    "# Aplicando a função de avaliação\n",
    "svm_u = avalia_modelo_cv(svm, X,y,10)"
   ]
  },
  {
   "cell_type": "markdown",
   "metadata": {},
   "source": [
    "#### (3) Random Forest;"
   ]
  },
  {
   "cell_type": "code",
   "execution_count": 17,
   "metadata": {
    "ExecuteTime": {
     "end_time": "2023-05-06T19:40:24.245307Z",
     "start_time": "2023-05-06T19:40:21.794901Z"
    }
   },
   "outputs": [
    {
     "name": "stdout",
     "output_type": "stream",
     "text": [
      "Classification Report for fold 1:\n",
      "              precision    recall  f1-score   support\n",
      "\n",
      "           0       0.00      0.00      0.00        12\n",
      "           1       0.50      0.06      0.10        18\n",
      "           2       0.67      1.00      0.81        58\n",
      "\n",
      "    accuracy                           0.67        88\n",
      "   macro avg       0.39      0.35      0.30        88\n",
      "weighted avg       0.55      0.67      0.55        88\n",
      "\n",
      "\n",
      "Classification Report for fold 2:\n",
      "              precision    recall  f1-score   support\n",
      "\n",
      "           0       0.50      0.10      0.17        10\n",
      "           1       0.00      0.00      0.00        18\n",
      "           2       0.68      0.97      0.80        60\n",
      "\n",
      "    accuracy                           0.67        88\n",
      "   macro avg       0.39      0.36      0.32        88\n",
      "weighted avg       0.52      0.67      0.56        88\n",
      "\n",
      "\n",
      "Classification Report for fold 3:\n",
      "              precision    recall  f1-score   support\n",
      "\n",
      "           0       0.00      0.00      0.00        20\n",
      "           1       0.00      0.00      0.00         9\n",
      "           2       0.67      0.97      0.79        58\n",
      "\n",
      "    accuracy                           0.64        87\n",
      "   macro avg       0.22      0.32      0.26        87\n",
      "weighted avg       0.44      0.64      0.53        87\n",
      "\n",
      "\n",
      "Classification Report for fold 4:\n",
      "              precision    recall  f1-score   support\n",
      "\n",
      "           0       0.00      0.00      0.00        11\n",
      "           1       1.00      0.25      0.40        12\n",
      "           2       0.76      0.97      0.85        64\n",
      "\n",
      "    accuracy                           0.75        87\n",
      "   macro avg       0.59      0.41      0.42        87\n",
      "weighted avg       0.69      0.75      0.68        87\n",
      "\n",
      "\n",
      "Classification Report for fold 5:\n",
      "              precision    recall  f1-score   support\n",
      "\n",
      "           0       0.00      0.00      0.00        16\n",
      "           1       0.00      0.00      0.00        13\n",
      "           2       0.67      1.00      0.80        58\n",
      "\n",
      "    accuracy                           0.67        87\n",
      "   macro avg       0.22      0.33      0.27        87\n",
      "weighted avg       0.44      0.67      0.53        87\n",
      "\n",
      "\n",
      "Classification Report for fold 6:\n",
      "              precision    recall  f1-score   support\n",
      "\n",
      "           0       0.00      0.00      0.00        16\n",
      "           1       1.00      0.05      0.09        21\n",
      "           2       0.59      1.00      0.74        50\n",
      "\n",
      "    accuracy                           0.59        87\n",
      "   macro avg       0.53      0.35      0.28        87\n",
      "weighted avg       0.58      0.59      0.45        87\n",
      "\n",
      "\n",
      "Classification Report for fold 7:\n",
      "              precision    recall  f1-score   support\n",
      "\n",
      "           0       0.00      0.00      0.00        13\n",
      "           1       0.00      0.00      0.00         9\n",
      "           2       0.74      0.98      0.85        65\n",
      "\n",
      "    accuracy                           0.74        87\n",
      "   macro avg       0.25      0.33      0.28        87\n",
      "weighted avg       0.56      0.74      0.63        87\n",
      "\n",
      "\n",
      "Classification Report for fold 8:\n",
      "              precision    recall  f1-score   support\n",
      "\n",
      "           0       1.00      0.06      0.11        17\n",
      "           1       0.50      0.08      0.13        13\n",
      "           2       0.67      0.98      0.79        57\n",
      "\n",
      "    accuracy                           0.67        87\n",
      "   macro avg       0.72      0.37      0.35        87\n",
      "weighted avg       0.71      0.67      0.56        87\n",
      "\n",
      "\n",
      "Classification Report for fold 9:\n",
      "              precision    recall  f1-score   support\n",
      "\n",
      "           0       0.00      0.00      0.00        18\n",
      "           1       0.50      0.04      0.08        23\n",
      "           2       0.53      0.98      0.69        46\n",
      "\n",
      "    accuracy                           0.53        87\n",
      "   macro avg       0.34      0.34      0.26        87\n",
      "weighted avg       0.41      0.53      0.38        87\n",
      "\n",
      "\n",
      "Classification Report for fold 10:\n",
      "              precision    recall  f1-score   support\n",
      "\n",
      "           0       0.00      0.00      0.00        16\n",
      "           1       0.50      0.08      0.13        13\n",
      "           2       0.67      0.98      0.80        58\n",
      "\n",
      "    accuracy                           0.67        87\n",
      "   macro avg       0.39      0.35      0.31        87\n",
      "weighted avg       0.52      0.67      0.55        87\n",
      "\n",
      "\n",
      "---------------\n",
      "model_name:  RandomForestClassifier\n",
      "Average Classification Report:\n",
      "              precision    recall  f1-score   support\n",
      "\n",
      "           0       0.33      0.01      0.03       149\n",
      "           1       0.47      0.05      0.10       149\n",
      "           2       0.66      0.98      0.79       574\n",
      "\n",
      "    accuracy                           0.66       872\n",
      "   macro avg       0.49      0.35      0.30       872\n",
      "weighted avg       0.57      0.66      0.54       872\n",
      "\n"
     ]
    }
   ],
   "source": [
    "# Criando o modelo Random Forest\n",
    "rf = RandomForestClassifier(n_jobs=-1, random_state=42)\n",
    "\n",
    "# Aplicando a função de avaliação\n",
    "rf_u = avalia_modelo_cv(rf, X,y, 10, resultados_individuais=True)"
   ]
  },
  {
   "cell_type": "markdown",
   "metadata": {},
   "source": [
    "#### (4) MLP - Multi Layer Perceptron;"
   ]
  },
  {
   "cell_type": "code",
   "execution_count": 18,
   "metadata": {
    "ExecuteTime": {
     "end_time": "2023-05-06T19:41:08.828651Z",
     "start_time": "2023-05-06T19:40:24.253557Z"
    }
   },
   "outputs": [
    {
     "name": "stdout",
     "output_type": "stream",
     "text": [
      "---------------\n",
      "model_name:  MLPClassifier\n",
      "Average Classification Report:\n",
      "              precision    recall  f1-score   support\n",
      "\n",
      "           0       0.19      0.17      0.18       149\n",
      "           1       0.28      0.24      0.26       149\n",
      "           2       0.65      0.69      0.67       574\n",
      "\n",
      "    accuracy                           0.53       872\n",
      "   macro avg       0.37      0.37      0.37       872\n",
      "weighted avg       0.51      0.53      0.51       872\n",
      "\n"
     ]
    }
   ],
   "source": [
    "# Criando o modelo MLP\n",
    "mlp = MLPClassifier(hidden_layer_sizes=(100, 100), max_iter=1000, random_state=42)\n",
    "\n",
    "# Aplicando a função de avaliação\n",
    "mlp_u = avalia_modelo_cv(mlp, X, y, 10)"
   ]
  },
  {
   "cell_type": "markdown",
   "metadata": {},
   "source": [
    "#### (5) XGBoost;"
   ]
  },
  {
   "cell_type": "code",
   "execution_count": 19,
   "metadata": {
    "ExecuteTime": {
     "end_time": "2023-05-06T19:41:12.863387Z",
     "start_time": "2023-05-06T19:41:08.839487Z"
    }
   },
   "outputs": [
    {
     "name": "stdout",
     "output_type": "stream",
     "text": [
      "---------------\n",
      "model_name:  XGBClassifier\n",
      "Average Classification Report:\n",
      "              precision    recall  f1-score   support\n",
      "\n",
      "           0       0.17      0.07      0.10       149\n",
      "           1       0.42      0.21      0.28       149\n",
      "           2       0.66      0.85      0.75       574\n",
      "\n",
      "    accuracy                           0.61       872\n",
      "   macro avg       0.42      0.38      0.38       872\n",
      "weighted avg       0.54      0.61      0.56       872\n",
      "\n"
     ]
    }
   ],
   "source": [
    "# Criando o modelo XGBoost\n",
    "xgb = XGBClassifier(n_jobs=-1, random_state=42)\n",
    "\n",
    "# Aplicando a função de avaliação\n",
    "xgb_u = avalia_modelo_cv(xgb, X, y, 10)\n"
   ]
  },
  {
   "cell_type": "markdown",
   "metadata": {},
   "source": [
    "#### (6) EXTRA - KNN;"
   ]
  },
  {
   "cell_type": "code",
   "execution_count": 20,
   "metadata": {
    "ExecuteTime": {
     "end_time": "2023-05-06T19:41:13.250344Z",
     "start_time": "2023-05-06T19:41:12.863387Z"
    }
   },
   "outputs": [
    {
     "name": "stdout",
     "output_type": "stream",
     "text": [
      "---------------\n",
      "model_name:  KNeighborsClassifier\n",
      "Average Classification Report:\n",
      "              precision    recall  f1-score   support\n",
      "\n",
      "           0       0.10      0.07      0.08       149\n",
      "           1       0.25      0.09      0.13       149\n",
      "           2       0.64      0.80      0.71       574\n",
      "\n",
      "    accuracy                           0.55       872\n",
      "   macro avg       0.33      0.32      0.31       872\n",
      "weighted avg       0.48      0.55      0.50       872\n",
      "\n"
     ]
    }
   ],
   "source": [
    "# Criando o modelo KNN\n",
    "knn = KNeighborsClassifier(n_neighbors=5)\n",
    "\n",
    "# Aplicando a função de avaliação\n",
    "knn_u = avalia_modelo_cv(knn, X, y, 10)\n"
   ]
  },
  {
   "cell_type": "markdown",
   "metadata": {},
   "source": [
    "### 2.4 - Aplicando feature selection sem balancear os dados;\n",
    "Vou utilizar o modelo com melhor desempenho para aplicar o feature selection mesmo sem balancear os dados e verificar como o modelo se comporta;\n",
    "\n",
    "O modelo escolhido foi o RF, pois apresentou o melhor resultado dentre os modelos baseline.\n",
    "\n",
    "<b> Deve-se criar um novo modelo para evitar leakage, pois o modelo já foi treinado com todos os dados e se for aplicado o feature selection no modelo já treinado, o resultado será enviesado. </b>"
   ]
  },
  {
   "cell_type": "code",
   "execution_count": 21,
   "metadata": {
    "ExecuteTime": {
     "end_time": "2023-05-06T19:41:13.337890Z",
     "start_time": "2023-05-06T19:41:13.250344Z"
    }
   },
   "outputs": [],
   "source": [
    "# Importando o SFFS (Sequential Floating Forward Selection) e SBFS (Sequential Backward Floating Selection)\n",
    "from mlxtend.feature_selection import SequentialFeatureSelector as SFS"
   ]
  },
  {
   "cell_type": "markdown",
   "metadata": {},
   "source": [
    "#### 2.4.1 - Divisao Treino/Teste e Def. da função de avaliação;\n",
    "A função tem como objetivo apenas facilitar o processo de teste dos modelos, pois ela já faz o fit do modelo, predição e retorna o classification report e a matriz de confusão."
   ]
  },
  {
   "cell_type": "code",
   "execution_count": 22,
   "metadata": {
    "ExecuteTime": {
     "end_time": "2023-05-06T19:41:13.353518Z",
     "start_time": "2023-05-06T19:41:13.282824Z"
    }
   },
   "outputs": [],
   "source": [
    "# Dividindo os dados de treino e teste\n",
    "X_train, X_test, y_train, y_test = train_test_split(X, y, test_size=0.3, random_state=42, shuffle=True)\n",
    "\n",
    "# Definindo modelo RF\n",
    "rf_featSelect_Ub = RandomForestClassifier(n_jobs=-1, random_state=42)"
   ]
  },
  {
   "cell_type": "code",
   "execution_count": 23,
   "metadata": {
    "ExecuteTime": {
     "end_time": "2023-05-06T19:41:13.353518Z",
     "start_time": "2023-05-06T19:41:13.297410Z"
    }
   },
   "outputs": [],
   "source": [
    "# Função para avaliar o comportamento do modelo com o feature selection\n",
    "def avalia_modelo(model, X_train, y_train, X_test, y_test):\n",
    "    model.fit(X_train, y_train)\n",
    "    y_pred = model.predict(X_test)\n",
    "    print(classification_report(y_test, y_pred, zero_division=0))\n",
    "    print(confusion_matrix(y_test, y_pred))\n",
    "    return y_pred"
   ]
  },
  {
   "cell_type": "markdown",
   "metadata": {},
   "source": [
    "#### (1) SFS - Sequential Forward Selection;"
   ]
  },
  {
   "cell_type": "code",
   "execution_count": null,
   "metadata": {},
   "outputs": [],
   "source": [
    "# Criando o modelo SFS\n",
    "sfs = SFS(rf_featSelect_Ub, k_features='best', forward=True, floating=False, scoring='accuracy', cv=5, n_jobs=-1)\n",
    "\n",
    "# Aplicando o modelo SFFS\n",
    "sfs.fit(X_train, y_train)\n",
    "\n",
    "# Selecionando as colunas do dataframe de treino\n",
    "X_train_sfs = X_train.iloc[:, list(sfs.k_feature_idx_)]\n",
    "X_test_sfs = X_test.iloc[:, list(sfs.k_feature_idx_)]\n",
    "\n",
    "# Aplicando a função de avaliação\n",
    "rf_sfs_UB = avalia_modelo(rf_featSelect_Ub, X_train_sfs, y_train, X_test_sfs, y_test)"
   ]
  },
  {
   "cell_type": "markdown",
   "metadata": {},
   "source": [
    "#### (2) SFFS - Sequential Floating Forward Selection;"
   ]
  },
  {
   "cell_type": "code",
   "execution_count": null,
   "metadata": {},
   "outputs": [],
   "source": [
    "# Criando o modelo SFFS\n",
    "sffs = SFS(rf_featSelect_Ub, k_features='best', forward=True, floating=True, scoring='accuracy', cv=5, n_jobs=-1)\n",
    "\n",
    "# Aplicando o modelo SFFS\n",
    "sffs.fit(X_train, y_train)\n",
    "\n",
    "# Selecionando as colunas do dataframe de treino\n",
    "X_train_sffs = X_train.iloc[:, list(sffs.k_feature_idx_)]\n",
    "X_test_sffs = X_test.iloc[:, list(sffs.k_feature_idx_)]\n",
    "\n",
    "# Aplicando a função de avaliação\n",
    "rf_sffs_UB = avalia_modelo(rf_featSelect_Ub, X_train_sffs, y_train, X_test_sffs, y_test)"
   ]
  },
  {
   "cell_type": "markdown",
   "metadata": {},
   "source": [
    "## 3 - Treinamento dos modelos com os dados balanceados;\n",
    "Agora vamos treinar os modelos com os dados balanceados e verificar se o desempenho melhora."
   ]
  },
  {
   "cell_type": "markdown",
   "metadata": {},
   "source": [
    "### 3.0 - Importando as bibliotecas e definindo as funções;"
   ]
  },
  {
   "cell_type": "code",
   "execution_count": 21,
   "metadata": {
    "ExecuteTime": {
     "end_time": "2023-05-06T14:27:53.358535Z",
     "start_time": "2023-05-06T14:27:53.258077Z"
    },
    "pycharm": {
     "is_executing": true
    }
   },
   "outputs": [],
   "source": [
    "# Importando as bibliotecas\n",
    "import seaborn as sns\n",
    "import matplotlib.pyplot as plt\n",
    "\n",
    "# Bibliotecas para undersampling\n",
    "from imblearn.under_sampling import RandomUnderSampler\n",
    "from imblearn.under_sampling import NearMiss\n",
    "from imblearn.under_sampling import ClusterCentroids"
   ]
  },
  {
   "cell_type": "code",
   "execution_count": 23,
   "metadata": {
    "ExecuteTime": {
     "end_time": "2023-05-06T14:41:01.624680Z",
     "start_time": "2023-05-06T14:41:01.561940Z"
    },
    "pycharm": {
     "is_executing": true
    }
   },
   "outputs": [],
   "source": [
    "# Função que chama os 4 modelos e retorna o resultado de cada um usando a função avalia_modelo_cv e imprime o resultado de cada um.\n",
    "\n",
    "def avalia_dif_modelos(X, y, cv):\n",
    "    # Criando os modelos\n",
    "    dummy = DummyClassifier(strategy='uniform', random_state=42)\n",
    "    rf = RandomForestClassifier(n_jobs=-1, random_state=42)\n",
    "    svm = SVC(kernel='rbf', gamma='auto', decision_function_shape='ovo', random_state=42)\n",
    "    mlp = MLPClassifier(hidden_layer_sizes=(100, 100), max_iter=1000, random_state=42)\n",
    "    xgb = XGBClassifier(n_jobs=-1, random_state=42)\n",
    "\n",
    "    # Aplicando a função de avaliação\n",
    "    dummy_u = avalia_modelo_cv(dummy, X, y, cv)\n",
    "    rf_u = avalia_modelo_cv(rf, X, y, cv)\n",
    "    svm_u = avalia_modelo_cv(svm, X, y, cv)\n",
    "    mlp_u = avalia_modelo_cv(mlp, X, y, cv)\n",
    "    xgb_u = avalia_modelo_cv(xgb, X, y, cv)\n",
    "\n",
    "    # Criando o dataframe com os resultados\n",
    "    df_resultado = pd.DataFrame({'Modelo': ['Dummy', 'RF', 'SVM', 'MLP', 'XGB'],\n",
    "                                 'Acurácia': [dummy_u, rf_u, svm_u, mlp_u, xgb_u]})\n",
    "\n",
    "    # Plotando o gráfico de barras\n",
    "    sns.barplot(x='Modelo', y='Acurácia', data=df_resultado)\n",
    "    plt.show(\"Desempenho dos modelos\")\n",
    "    %matplotlib inline\n",
    "\n",
    "    return df_resultado"
   ]
  },
  {
   "cell_type": "markdown",
   "metadata": {},
   "source": [
    "### 3.1 - Visualizando o balanceamento dos dados;"
   ]
  },
  {
   "cell_type": "code",
   "execution_count": 24,
   "metadata": {
    "ExecuteTime": {
     "end_time": "2023-05-06T14:18:03.957374Z",
     "start_time": "2023-05-06T14:18:03.840213Z"
    },
    "pycharm": {
     "is_executing": true
    }
   },
   "outputs": [
    {
     "data": {
      "image/png": "[encoded data removed]",
      "text/plain": [
       "<Figure size 640x480 with 1 Axes>"
      ]
     },
     "metadata": {},
     "output_type": "display_data"
    }
   ],
   "source": [
    "# Plotando o gráfico de barras para verificar o balanceamento dos dados\n",
    "sns.countplot(x='Nivel_MHI', data=df_socioeconomico)\n",
    "plt.show(\"Balanceamento dos dados\")\n",
    "%matplotlib inline"
   ]
  },
  {
   "cell_type": "markdown",
   "metadata": {},
   "source": [
    "### 3.2 - Undersampling;\n",
    "Neste caso, vamos aproveitar o tamanho da base de dados que temos e vamos reduzir a quantidade de dados da classe majoritária para o mesmo tamanho da classe minoritária.\n",
    "Tecnicas de undersampling:\n",
    "- (1) - RandomUnderSampling\n",
    "- (2) - NearMiss\n",
    "- (3) - ????\n"
   ]
  },
  {
   "cell_type": "markdown",
   "metadata": {},
   "source": [
    "#### (1) - RandomUnderSampling;"
   ]
  },
  {
   "cell_type": "code",
   "execution_count": 25,
   "metadata": {
    "ExecuteTime": {
     "end_time": "2023-05-06T14:55:02.813628Z",
     "start_time": "2023-05-06T14:54:51.195966Z"
    },
    "pycharm": {
     "is_executing": true
    }
   },
   "outputs": [
    {
     "name": "stdout",
     "output_type": "stream",
     "text": [
      "---------------\n",
      "model_name:  DummyClassifier\n",
      "Average Classification Report:\n",
      "              precision    recall  f1-score   support\n",
      "\n",
      "           0       0.34      0.31      0.32       149\n",
      "           1       0.36      0.29      0.32       149\n",
      "           2       0.35      0.44      0.39       149\n",
      "\n",
      "    accuracy                           0.35       447\n",
      "   macro avg       0.35      0.35      0.34       447\n",
      "weighted avg       0.35      0.35      0.34       447\n",
      "\n",
      "---------------\n",
      "model_name:  RandomForestClassifier\n",
      "Average Classification Report:\n",
      "              precision    recall  f1-score   support\n",
      "\n",
      "           0       0.29      0.26      0.27       149\n",
      "           1       0.72      0.75      0.73       149\n",
      "           2       0.35      0.38      0.36       149\n",
      "\n",
      "    accuracy                           0.46       447\n",
      "   macro avg       0.45      0.46      0.46       447\n",
      "weighted avg       0.45      0.46      0.46       447\n",
      "\n",
      "---------------\n",
      "model_name:  SVC\n",
      "Average Classification Report:\n",
      "              precision    recall  f1-score   support\n",
      "\n",
      "           0       0.23      0.23      0.23       149\n",
      "           1       0.60      0.60      0.60       149\n",
      "           2       0.21      0.21      0.21       149\n",
      "\n",
      "    accuracy                           0.35       447\n",
      "   macro avg       0.35      0.35      0.35       447\n",
      "weighted avg       0.35      0.35      0.35       447\n",
      "\n",
      "---------------\n",
      "model_name:  MLPClassifier\n",
      "Average Classification Report:\n",
      "              precision    recall  f1-score   support\n",
      "\n",
      "           0       0.19      0.22      0.20       149\n",
      "           1       0.72      0.62      0.66       149\n",
      "           2       0.18      0.17      0.17       149\n",
      "\n",
      "    accuracy                           0.34       447\n",
      "   macro avg       0.36      0.34      0.35       447\n",
      "weighted avg       0.36      0.34      0.35       447\n",
      "\n",
      "---------------\n",
      "model_name:  XGBClassifier\n",
      "Average Classification Report:\n",
      "              precision    recall  f1-score   support\n",
      "\n",
      "           0       0.36      0.33      0.34       149\n",
      "           1       0.76      0.74      0.75       149\n",
      "           2       0.39      0.44      0.41       149\n",
      "\n",
      "    accuracy                           0.50       447\n",
      "   macro avg       0.50      0.50      0.50       447\n",
      "weighted avg       0.50      0.50      0.50       447\n",
      "\n"
     ]
    },
    {
     "data": {
      "image/png": "[encoded data removed]",
      "text/plain": [
       "<Figure size 640x480 with 1 Axes>"
      ]
     },
     "metadata": {},
     "output_type": "display_data"
    },
    {
     "data": {
      "text/html": [
       "<div>\n",
       "<style scoped>\n",
       "    .dataframe tbody tr th:only-of-type {\n",
       "        vertical-align: middle;\n",
       "    }\n",
       "\n",
       "    .dataframe tbody tr th {\n",
       "        vertical-align: top;\n",
       "    }\n",
       "\n",
       "    .dataframe thead th {\n",
       "        text-align: right;\n",
       "    }\n",
       "</style>\n",
       "<table border=\"1\" class=\"dataframe\">\n",
       "  <thead>\n",
       "    <tr style=\"text-align: right;\">\n",
       "      <th></th>\n",
       "      <th>Modelo</th>\n",
       "      <th>Acurácia</th>\n",
       "    </tr>\n",
       "  </thead>\n",
       "  <tbody>\n",
       "    <tr>\n",
       "      <th>0</th>\n",
       "      <td>Dummy</td>\n",
       "      <td>0.346756</td>\n",
       "    </tr>\n",
       "    <tr>\n",
       "      <th>1</th>\n",
       "      <td>RF</td>\n",
       "      <td>0.460850</td>\n",
       "    </tr>\n",
       "    <tr>\n",
       "      <th>2</th>\n",
       "      <td>SVM</td>\n",
       "      <td>0.346756</td>\n",
       "    </tr>\n",
       "    <tr>\n",
       "      <th>3</th>\n",
       "      <td>MLP</td>\n",
       "      <td>0.335570</td>\n",
       "    </tr>\n",
       "    <tr>\n",
       "      <th>4</th>\n",
       "      <td>XGB</td>\n",
       "      <td>0.503356</td>\n",
       "    </tr>\n",
       "  </tbody>\n",
       "</table>\n",
       "</div>"
      ],
      "text/plain": [
       "  Modelo  Acurácia\n",
       "0  Dummy  0.346756\n",
       "1     RF  0.460850\n",
       "2    SVM  0.346756\n",
       "3    MLP  0.335570\n",
       "4    XGB  0.503356"
      ]
     },
     "execution_count": 25,
     "metadata": {},
     "output_type": "execute_result"
    }
   ],
   "source": [
    "# Criando o objeto para aplicar o RandomUnderSampling\n",
    "rus = RandomUnderSampler(random_state=42, replacement=True, sampling_strategy='auto')\n",
    "\n",
    "# Aplicando o RandomUnderSampling\n",
    "X_rus, y_rus = rus.fit_resample(X, y)\n",
    "\n",
    "# Plotando o gráfico de barras para verificar o balanceamento dos dados\n",
    "#sns.countplot(x=y_rus, data=df_socioeconomico)\n",
    "\n",
    "# Aplicando a função de avaliação cruzada com os dados balanceados\n",
    "avalia_dif_modelos(X_rus, y_rus, 10)"
   ]
  },
  {
   "cell_type": "markdown",
   "metadata": {},
   "source": [
    "#### (2) - NearMiss;"
   ]
  },
  {
   "cell_type": "code",
   "execution_count": 26,
   "metadata": {
    "ExecuteTime": {
     "end_time": "2023-05-06T14:53:58.489423Z",
     "start_time": "2023-05-06T14:53:47.667292Z"
    },
    "pycharm": {
     "is_executing": true
    }
   },
   "outputs": [
    {
     "name": "stdout",
     "output_type": "stream",
     "text": [
      "---------------\n",
      "model_name:  DummyClassifier\n",
      "Average Classification Report:\n",
      "              precision    recall  f1-score   support\n",
      "\n",
      "           0       0.34      0.31      0.32       149\n",
      "           1       0.36      0.29      0.32       149\n",
      "           2       0.35      0.44      0.39       149\n",
      "\n",
      "    accuracy                           0.35       447\n",
      "   macro avg       0.35      0.35      0.34       447\n",
      "weighted avg       0.35      0.35      0.34       447\n",
      "\n",
      "---------------\n",
      "model_name:  RandomForestClassifier\n",
      "Average Classification Report:\n",
      "              precision    recall  f1-score   support\n",
      "\n",
      "           0       0.38      0.34      0.36       149\n",
      "           1       0.36      0.32      0.34       149\n",
      "           2       0.44      0.54      0.48       149\n",
      "\n",
      "    accuracy                           0.40       447\n",
      "   macro avg       0.39      0.40      0.39       447\n",
      "weighted avg       0.39      0.40      0.39       447\n",
      "\n",
      "---------------\n",
      "model_name:  SVC\n",
      "Average Classification Report:\n",
      "              precision    recall  f1-score   support\n",
      "\n",
      "           0       0.42      0.37      0.39       149\n",
      "           1       0.27      0.18      0.22       149\n",
      "           2       0.50      0.72      0.59       149\n",
      "\n",
      "    accuracy                           0.43       447\n",
      "   macro avg       0.40      0.43      0.40       447\n",
      "weighted avg       0.40      0.43      0.40       447\n",
      "\n",
      "---------------\n",
      "model_name:  MLPClassifier\n",
      "Average Classification Report:\n",
      "              precision    recall  f1-score   support\n",
      "\n",
      "           0       0.35      0.30      0.32       149\n",
      "           1       0.54      0.48      0.51       149\n",
      "           2       0.46      0.58      0.51       149\n",
      "\n",
      "    accuracy                           0.45       447\n",
      "   macro avg       0.45      0.45      0.45       447\n",
      "weighted avg       0.45      0.45      0.45       447\n",
      "\n",
      "---------------\n",
      "model_name:  XGBClassifier\n",
      "Average Classification Report:\n",
      "              precision    recall  f1-score   support\n",
      "\n",
      "           0       0.41      0.40      0.40       149\n",
      "           1       0.40      0.36      0.38       149\n",
      "           2       0.42      0.47      0.44       149\n",
      "\n",
      "    accuracy                           0.41       447\n",
      "   macro avg       0.41      0.41      0.41       447\n",
      "weighted avg       0.41      0.41      0.41       447\n",
      "\n"
     ]
    },
    {
     "data": {
      "image/png": "[encoded data removed]",
      "text/plain": [
       "<Figure size 640x480 with 1 Axes>"
      ]
     },
     "metadata": {},
     "output_type": "display_data"
    },
    {
     "data": {
      "text/html": [
       "<div>\n",
       "<style scoped>\n",
       "    .dataframe tbody tr th:only-of-type {\n",
       "        vertical-align: middle;\n",
       "    }\n",
       "\n",
       "    .dataframe tbody tr th {\n",
       "        vertical-align: top;\n",
       "    }\n",
       "\n",
       "    .dataframe thead th {\n",
       "        text-align: right;\n",
       "    }\n",
       "</style>\n",
       "<table border=\"1\" class=\"dataframe\">\n",
       "  <thead>\n",
       "    <tr style=\"text-align: right;\">\n",
       "      <th></th>\n",
       "      <th>Modelo</th>\n",
       "      <th>Acurácia</th>\n",
       "    </tr>\n",
       "  </thead>\n",
       "  <tbody>\n",
       "    <tr>\n",
       "      <th>0</th>\n",
       "      <td>Dummy</td>\n",
       "      <td>0.346756</td>\n",
       "    </tr>\n",
       "    <tr>\n",
       "      <th>1</th>\n",
       "      <td>RF</td>\n",
       "      <td>0.398210</td>\n",
       "    </tr>\n",
       "    <tr>\n",
       "      <th>2</th>\n",
       "      <td>SVM</td>\n",
       "      <td>0.425056</td>\n",
       "    </tr>\n",
       "    <tr>\n",
       "      <th>3</th>\n",
       "      <td>MLP</td>\n",
       "      <td>0.454139</td>\n",
       "    </tr>\n",
       "    <tr>\n",
       "      <th>4</th>\n",
       "      <td>XGB</td>\n",
       "      <td>0.409396</td>\n",
       "    </tr>\n",
       "  </tbody>\n",
       "</table>\n",
       "</div>"
      ],
      "text/plain": [
       "  Modelo  Acurácia\n",
       "0  Dummy  0.346756\n",
       "1     RF  0.398210\n",
       "2    SVM  0.425056\n",
       "3    MLP  0.454139\n",
       "4    XGB  0.409396"
      ]
     },
     "execution_count": 26,
     "metadata": {},
     "output_type": "execute_result"
    }
   ],
   "source": [
    "# Criando o objeto para aplicar o NearMiss\n",
    "nm = NearMiss(version=1)\n",
    "\n",
    "# Aplicando o NearMiss\n",
    "X_nm, y_nm = nm.fit_resample(X, y)\n",
    "\n",
    "# Plotando o gráfico de barras para verificar o balanceamento dos dados\n",
    "#sns.countplot(x=y_nm, data=df_socioeconomico)\n",
    "\n",
    "# Aplicando a função de avaliação cruzada com os dados balanceados\n",
    "avalia_dif_modelos(X_nm, y_nm, 10)"
   ]
  },
  {
   "cell_type": "markdown",
   "metadata": {},
   "source": [
    "#### (3) - ClusterCentroids;"
   ]
  },
  {
   "cell_type": "code",
   "execution_count": 33,
   "metadata": {
    "ExecuteTime": {
     "end_time": "2023-05-06T14:52:29.793557Z",
     "start_time": "2023-05-06T14:52:18.863914Z"
    },
    "pycharm": {
     "is_executing": true
    }
   },
   "outputs": [
    {
     "name": "stderr",
     "output_type": "stream",
     "text": [
      "C:\\Users\\Lucas José\\OneDrive - Universidade Federal do Ceará\\Faculdade\\Bolsa IC - Algebra Tensorial\\Pesquisa\\Desenvlvimento\\venv\\Lib\\site-packages\\sklearn\\cluster\\_kmeans.py:870: FutureWarning: The default value of `n_init` will change from 10 to 'auto' in 1.4. Set the value of `n_init` explicitly to suppress the warning\n",
      "  warnings.warn(\n",
      "C:\\Users\\Lucas José\\OneDrive - Universidade Federal do Ceará\\Faculdade\\Bolsa IC - Algebra Tensorial\\Pesquisa\\Desenvlvimento\\venv\\Lib\\site-packages\\sklearn\\cluster\\_kmeans.py:870: FutureWarning: The default value of `n_init` will change from 10 to 'auto' in 1.4. Set the value of `n_init` explicitly to suppress the warning\n",
      "  warnings.warn(\n"
     ]
    },
    {
     "name": "stdout",
     "output_type": "stream",
     "text": [
      "---------------\n",
      "model_name:  DummyClassifier\n",
      "Average Classification Report:\n",
      "              precision    recall  f1-score   support\n",
      "\n",
      "           0       0.34      0.31      0.32       149\n",
      "           1       0.36      0.29      0.32       149\n",
      "           2       0.35      0.44      0.39       149\n",
      "\n",
      "    accuracy                           0.35       447\n",
      "   macro avg       0.35      0.35      0.34       447\n",
      "weighted avg       0.35      0.35      0.34       447\n",
      "\n",
      "---------------\n",
      "model_name:  RandomForestClassifier\n",
      "Average Classification Report:\n",
      "              precision    recall  f1-score   support\n",
      "\n",
      "           0       0.42      0.49      0.45       149\n",
      "           1       0.49      0.54      0.51       149\n",
      "           2       0.84      0.64      0.73       149\n",
      "\n",
      "    accuracy                           0.55       447\n",
      "   macro avg       0.59      0.55      0.56       447\n",
      "weighted avg       0.59      0.55      0.56       447\n",
      "\n",
      "---------------\n",
      "model_name:  SVC\n",
      "Average Classification Report:\n",
      "              precision    recall  f1-score   support\n",
      "\n",
      "           0       0.34      0.34      0.34       149\n",
      "           1       0.39      0.41      0.40       149\n",
      "           2       0.73      0.68      0.70       149\n",
      "\n",
      "    accuracy                           0.48       447\n",
      "   macro avg       0.49      0.48      0.48       447\n",
      "weighted avg       0.49      0.48      0.48       447\n",
      "\n",
      "---------------\n",
      "model_name:  MLPClassifier\n",
      "Average Classification Report:\n",
      "              precision    recall  f1-score   support\n",
      "\n",
      "           0       0.39      0.37      0.38       149\n",
      "           1       0.50      0.46      0.48       149\n",
      "           2       0.65      0.74      0.69       149\n",
      "\n",
      "    accuracy                           0.52       447\n",
      "   macro avg       0.51      0.52      0.52       447\n",
      "weighted avg       0.51      0.52      0.52       447\n",
      "\n",
      "---------------\n",
      "model_name:  XGBClassifier\n",
      "Average Classification Report:\n",
      "              precision    recall  f1-score   support\n",
      "\n",
      "           0       0.51      0.48      0.49       149\n",
      "           1       0.53      0.62      0.58       149\n",
      "           2       0.82      0.72      0.76       149\n",
      "\n",
      "    accuracy                           0.61       447\n",
      "   macro avg       0.62      0.61      0.61       447\n",
      "weighted avg       0.62      0.61      0.61       447\n",
      "\n"
     ]
    },
    {
     "data": {
      "image/png": "[encoded data removed]",
      "text/plain": [
       "<Figure size 640x480 with 1 Axes>"
      ]
     },
     "metadata": {},
     "output_type": "display_data"
    },
    {
     "data": {
      "text/html": [
       "<div>\n",
       "<style scoped>\n",
       "    .dataframe tbody tr th:only-of-type {\n",
       "        vertical-align: middle;\n",
       "    }\n",
       "\n",
       "    .dataframe tbody tr th {\n",
       "        vertical-align: top;\n",
       "    }\n",
       "\n",
       "    .dataframe thead th {\n",
       "        text-align: right;\n",
       "    }\n",
       "</style>\n",
       "<table border=\"1\" class=\"dataframe\">\n",
       "  <thead>\n",
       "    <tr style=\"text-align: right;\">\n",
       "      <th></th>\n",
       "      <th>Modelo</th>\n",
       "      <th>Acurácia</th>\n",
       "    </tr>\n",
       "  </thead>\n",
       "  <tbody>\n",
       "    <tr>\n",
       "      <th>0</th>\n",
       "      <td>Dummy</td>\n",
       "      <td>0.346756</td>\n",
       "    </tr>\n",
       "    <tr>\n",
       "      <th>1</th>\n",
       "      <td>RF</td>\n",
       "      <td>0.554810</td>\n",
       "    </tr>\n",
       "    <tr>\n",
       "      <th>2</th>\n",
       "      <td>SVM</td>\n",
       "      <td>0.476510</td>\n",
       "    </tr>\n",
       "    <tr>\n",
       "      <th>3</th>\n",
       "      <td>MLP</td>\n",
       "      <td>0.521253</td>\n",
       "    </tr>\n",
       "    <tr>\n",
       "      <th>4</th>\n",
       "      <td>XGB</td>\n",
       "      <td>0.608501</td>\n",
       "    </tr>\n",
       "  </tbody>\n",
       "</table>\n",
       "</div>"
      ],
      "text/plain": [
       "  Modelo  Acurácia\n",
       "0  Dummy  0.346756\n",
       "1     RF  0.554810\n",
       "2    SVM  0.476510\n",
       "3    MLP  0.521253\n",
       "4    XGB  0.608501"
      ]
     },
     "execution_count": 33,
     "metadata": {},
     "output_type": "execute_result"
    }
   ],
   "source": [
    "# Criando o objeto para aplicar o ClusterCentroids\n",
    "cc = ClusterCentroids(random_state=42, voting='auto')\n",
    "\n",
    "# Aplicando o ClusterCentroids\n",
    "X_cc, y_cc = cc.fit_resample(X, y)\n",
    "\n",
    "# Plotando o gráfico de barras para verificar o balanceamento dos dados\n",
    "#sns.countplot(x=y_cc, data=df_socioeconomico)\n",
    "\n",
    "# Aplicando a função de avaliação cruzada com os dados balanceados\n",
    "avalia_dif_modelos(X_cc, y_cc, 10)"
   ]
  },
  {
   "cell_type": "markdown",
   "metadata": {},
   "source": [
    "### 3.3 - Oversampling;\n",
    "Neste caso, vamos aproveitar o tamanho da base de dados que temos e vamos aumentar a quantidade de dados da classe minoritária para o mesmo tamanho da classe majoritária.\n",
    "Tecnicas de oversampling:\n",
    "- (1) - Random Over Sampling\n",
    "- (2) - SMOTE-NC\n",
    "- (3) - ROSE\n",
    "- (4) - ADASYN"
   ]
  },
  {
   "cell_type": "code",
   "execution_count": 34,
   "metadata": {
    "ExecuteTime": {
     "end_time": "2023-05-06T19:39:53.080954Z",
     "start_time": "2023-05-06T19:39:53.058348Z"
    }
   },
   "outputs": [],
   "source": [
    "# Criando uma função que verifica quais colunas de um dataframe são categoricas e salva os indices em uma lista. Ela faz isso verificando se a coluna contem apenas 1 ou 0.\n",
    "def verifica_categoricas(df):\n",
    "    # Criando uma lista vazia para salvar os indices das colunas categóricas\n",
    "    categorical_features = []\n",
    "\n",
    "    # Loop para verificar as colunas\n",
    "    for col in df.columns:\n",
    "        # Verificando se a coluna contem apenas 1 ou 0\n",
    "        if df[col].unique().tolist() == [1, 0]:\n",
    "            # Se sim, salva o indice da coluna na lista\n",
    "            categorical_features.append(df.columns.get_loc(col))\n",
    "\n",
    "    # Retornando a lista com os indices das colunas categóricas\n",
    "    return categorical_features\n",
    "\n",
    "X_train_ov,x_test_ov,  y_train_ov, y_test_ov = train_test_split(X,y, test_size=0.3, shuffle=True)\n"
   ]
  },
  {
   "cell_type": "markdown",
   "metadata": {},
   "source": [
    "#### (1) - SMOTE-NC"
   ]
  },
  {
   "cell_type": "code",
   "execution_count": 36,
   "metadata": {
    "pycharm": {
     "is_executing": true
    }
   },
   "outputs": [
    {
     "name": "stdout",
     "output_type": "stream",
     "text": [
      "---------------\n",
      "model_name:  DummyClassifier\n",
      "Average Classification Report:\n",
      "              precision    recall  f1-score   support\n",
      "\n",
      "           0       0.32      0.31      0.32       574\n",
      "           1       0.31      0.29      0.30       574\n",
      "           2       0.33      0.37      0.35       574\n",
      "\n",
      "    accuracy                           0.32      1722\n",
      "   macro avg       0.32      0.32      0.32      1722\n",
      "weighted avg       0.32      0.32      0.32      1722\n",
      "\n",
      "---------------\n",
      "model_name:  RandomForestClassifier\n",
      "Average Classification Report:\n",
      "              precision    recall  f1-score   support\n",
      "\n",
      "           0       0.88      0.79      0.84       574\n",
      "           1       0.88      0.83      0.85       574\n",
      "           2       0.73      0.85      0.78       574\n",
      "\n",
      "    accuracy                           0.82      1722\n",
      "   macro avg       0.83      0.82      0.82      1722\n",
      "weighted avg       0.83      0.82      0.82      1722\n",
      "\n",
      "---------------\n",
      "model_name:  SVC\n",
      "Average Classification Report:\n",
      "              precision    recall  f1-score   support\n",
      "\n",
      "           0       0.73      0.74      0.73       574\n",
      "           1       0.80      0.80      0.80       574\n",
      "           2       0.61      0.60      0.61       574\n",
      "\n",
      "    accuracy                           0.71      1722\n",
      "   macro avg       0.71      0.71      0.71      1722\n",
      "weighted avg       0.71      0.71      0.71      1722\n",
      "\n",
      "---------------\n",
      "model_name:  MLPClassifier\n",
      "Average Classification Report:\n",
      "              precision    recall  f1-score   support\n",
      "\n",
      "           0       0.77      0.80      0.79       574\n",
      "           1       0.81      0.84      0.82       574\n",
      "           2       0.67      0.62      0.65       574\n",
      "\n",
      "    accuracy                           0.75      1722\n",
      "   macro avg       0.75      0.75      0.75      1722\n",
      "weighted avg       0.75      0.75      0.75      1722\n",
      "\n",
      "---------------\n",
      "model_name:  XGBClassifier\n",
      "Average Classification Report:\n",
      "              precision    recall  f1-score   support\n",
      "\n",
      "           0       0.85      0.78      0.81       574\n",
      "           1       0.87      0.80      0.84       574\n",
      "           2       0.69      0.80      0.74       574\n",
      "\n",
      "    accuracy                           0.79      1722\n",
      "   macro avg       0.80      0.79      0.80      1722\n",
      "weighted avg       0.80      0.79      0.80      1722\n",
      "\n"
     ]
    },
    {
     "data": {
      "image/png": "[encoded data removed]",
      "text/plain": [
       "<Figure size 640x480 with 1 Axes>"
      ]
     },
     "metadata": {},
     "output_type": "display_data"
    },
    {
     "data": {
      "text/html": [
       "<div>\n",
       "<style scoped>\n",
       "    .dataframe tbody tr th:only-of-type {\n",
       "        vertical-align: middle;\n",
       "    }\n",
       "\n",
       "    .dataframe tbody tr th {\n",
       "        vertical-align: top;\n",
       "    }\n",
       "\n",
       "    .dataframe thead th {\n",
       "        text-align: right;\n",
       "    }\n",
       "</style>\n",
       "<table border=\"1\" class=\"dataframe\">\n",
       "  <thead>\n",
       "    <tr style=\"text-align: right;\">\n",
       "      <th></th>\n",
       "      <th>Modelo</th>\n",
       "      <th>Acurácia</th>\n",
       "    </tr>\n",
       "  </thead>\n",
       "  <tbody>\n",
       "    <tr>\n",
       "      <th>0</th>\n",
       "      <td>Dummy</td>\n",
       "      <td>0.322880</td>\n",
       "    </tr>\n",
       "    <tr>\n",
       "      <th>1</th>\n",
       "      <td>RF</td>\n",
       "      <td>0.822300</td>\n",
       "    </tr>\n",
       "    <tr>\n",
       "      <th>2</th>\n",
       "      <td>SVM</td>\n",
       "      <td>0.714286</td>\n",
       "    </tr>\n",
       "    <tr>\n",
       "      <th>3</th>\n",
       "      <td>MLP</td>\n",
       "      <td>0.754355</td>\n",
       "    </tr>\n",
       "    <tr>\n",
       "      <th>4</th>\n",
       "      <td>XGB</td>\n",
       "      <td>0.792683</td>\n",
       "    </tr>\n",
       "  </tbody>\n",
       "</table>\n",
       "</div>"
      ],
      "text/plain": [
       "  Modelo  Acurácia\n",
       "0  Dummy  0.322880\n",
       "1     RF  0.822300\n",
       "2    SVM  0.714286\n",
       "3    MLP  0.754355\n",
       "4    XGB  0.792683"
      ]
     },
     "execution_count": 36,
     "metadata": {},
     "output_type": "execute_result"
    }
   ],
   "source": [
    "# Importando o SMOTE-NC (Synthetic Minority Oversampling Technique for Nominal and Continuous)\n",
    "from imblearn.over_sampling import SMOTENC\n",
    "\n",
    "# Definindo as colunas categóricas, chamando a função criada anteriormente\n",
    "c_features = verifica_categoricas(X)\n",
    "\n",
    "# Criando o modelo SMOTE\n",
    "smote = SMOTENC(c_features, random_state=42)\n",
    "\n",
    "# Aplicando o SMOTE nos dados de treino\n",
    "X_train_smote, y_train_smote = smote.fit_resample(X_train_ov, x_test_ov)\n",
    "\n",
    "# Plotando o gráfico de barras para verificar o balanceamento dos dados\n",
    "#sns.countplot(x=y_train_smote, data=df_socioeconomico)\n",
    "#plt.show(\"Balanceamento dos dados\")\n",
    "\n",
    "# Aplicando a função de avaliação cruzada com os dados balanceados\n",
    "avalia_dif_modelos(X_train_smote, y_train_smote, 10)"
   ]
  },
  {
   "cell_type": "code",
   "execution_count": null,
   "metadata": {},
   "outputs": [],
   "source": []
  },
  {
   "cell_type": "markdown",
   "metadata": {},
   "source": [
    "#### (2) - ROSE\n",
    "Nesse caso vamos usar rose mas é importante ressaltar que teremos dados categoricos e numericos, então vamos usar o rose para dados mistos."
   ]
  },
  {
   "cell_type": "code",
   "execution_count": 45,
   "metadata": {
    "pycharm": {
     "is_executing": true
    }
   },
   "outputs": [
    {
     "name": "stdout",
     "output_type": "stream",
     "text": [
      "---------------\n",
      "model_name:  DummyClassifier\n",
      "Average Classification Report:\n",
      "              precision    recall  f1-score   support\n",
      "\n",
      "           0       0.31      0.30      0.31       404\n",
      "           1       0.33      0.32      0.33       404\n",
      "           2       0.32      0.33      0.33       404\n",
      "\n",
      "    accuracy                           0.32      1212\n",
      "   macro avg       0.32      0.32      0.32      1212\n",
      "weighted avg       0.32      0.32      0.32      1212\n",
      "\n",
      "---------------\n",
      "model_name:  RandomForestClassifier\n",
      "Average Classification Report:\n",
      "              precision    recall  f1-score   support\n",
      "\n",
      "           0       0.94      0.98      0.96       404\n",
      "           1       0.95      1.00      0.97       404\n",
      "           2       0.98      0.88      0.92       404\n",
      "\n",
      "    accuracy                           0.95      1212\n",
      "   macro avg       0.95      0.95      0.95      1212\n",
      "weighted avg       0.95      0.95      0.95      1212\n",
      "\n",
      "---------------\n",
      "model_name:  SVC\n",
      "Average Classification Report:\n",
      "              precision    recall  f1-score   support\n",
      "\n",
      "           0       0.63      0.68      0.66       404\n",
      "           1       0.73      0.78      0.75       404\n",
      "           2       0.52      0.45      0.48       404\n",
      "\n",
      "    accuracy                           0.64      1212\n",
      "   macro avg       0.63      0.64      0.63      1212\n",
      "weighted avg       0.63      0.64      0.63      1212\n",
      "\n",
      "---------------\n",
      "model_name:  MLPClassifier\n",
      "Average Classification Report:\n",
      "              precision    recall  f1-score   support\n",
      "\n",
      "           0       0.81      0.99      0.89       404\n",
      "           1       0.88      1.00      0.93       404\n",
      "           2       0.97      0.63      0.77       404\n",
      "\n",
      "    accuracy                           0.87      1212\n",
      "   macro avg       0.89      0.87      0.86      1212\n",
      "weighted avg       0.89      0.87      0.86      1212\n",
      "\n",
      "---------------\n",
      "model_name:  XGBClassifier\n",
      "Average Classification Report:\n",
      "              precision    recall  f1-score   support\n",
      "\n",
      "           0       0.87      0.99      0.92       404\n",
      "           1       0.89      1.00      0.94       404\n",
      "           2       0.97      0.73      0.83       404\n",
      "\n",
      "    accuracy                           0.90      1212\n",
      "   macro avg       0.91      0.90      0.90      1212\n",
      "weighted avg       0.91      0.90      0.90      1212\n",
      "\n"
     ]
    },
    {
     "data": {
      "image/png": "[encoded data removed]",
      "text/plain": [
       "<Figure size 640x480 with 1 Axes>"
      ]
     },
     "metadata": {},
     "output_type": "display_data"
    },
    {
     "data": {
      "text/html": [
       "<div>\n",
       "<style scoped>\n",
       "    .dataframe tbody tr th:only-of-type {\n",
       "        vertical-align: middle;\n",
       "    }\n",
       "\n",
       "    .dataframe tbody tr th {\n",
       "        vertical-align: top;\n",
       "    }\n",
       "\n",
       "    .dataframe thead th {\n",
       "        text-align: right;\n",
       "    }\n",
       "</style>\n",
       "<table border=\"1\" class=\"dataframe\">\n",
       "  <thead>\n",
       "    <tr style=\"text-align: right;\">\n",
       "      <th></th>\n",
       "      <th>Modelo</th>\n",
       "      <th>Acurácia</th>\n",
       "    </tr>\n",
       "  </thead>\n",
       "  <tbody>\n",
       "    <tr>\n",
       "      <th>0</th>\n",
       "      <td>Dummy</td>\n",
       "      <td>0.319307</td>\n",
       "    </tr>\n",
       "    <tr>\n",
       "      <th>1</th>\n",
       "      <td>RF</td>\n",
       "      <td>0.952145</td>\n",
       "    </tr>\n",
       "    <tr>\n",
       "      <th>2</th>\n",
       "      <td>SVM</td>\n",
       "      <td>0.636139</td>\n",
       "    </tr>\n",
       "    <tr>\n",
       "      <th>3</th>\n",
       "      <td>MLP</td>\n",
       "      <td>0.871287</td>\n",
       "    </tr>\n",
       "    <tr>\n",
       "      <th>4</th>\n",
       "      <td>XGB</td>\n",
       "      <td>0.903465</td>\n",
       "    </tr>\n",
       "  </tbody>\n",
       "</table>\n",
       "</div>"
      ],
      "text/plain": [
       "  Modelo  Acurácia\n",
       "0  Dummy  0.319307\n",
       "1     RF  0.952145\n",
       "2    SVM  0.636139\n",
       "3    MLP  0.871287\n",
       "4    XGB  0.903465"
      ]
     },
     "execution_count": 45,
     "metadata": {},
     "output_type": "execute_result"
    }
   ],
   "source": [
    "# Importando o ROSE para dados mistos\n",
    "from imblearn.over_sampling import RandomOverSampler\n",
    "# Criando o modelo ROSE\n",
    "rose = RandomOverSampler(random_state=43)\n",
    "\n",
    "# Aplicando o ROSE nos dados de treino\n",
    "X_train_rose, y_train_rose = rose.fit_resample(X_train_ov, y_train_ov)\n",
    "\n",
    "# Plotando o gráfico de barras para verificar o balanceamento dos dados\n",
    "#sns.countplot(x=y_train_rose, data=df_socioeconomico)\n",
    "#plt.show(\"Balanceamento dos dados\")\n",
    "\n",
    "# Aplicando a função de avaliação cruzada com os dados balanceados\n",
    "avalia_dif_modelos(X_train_rose, y_train_rose, 10)\n"
   ]
  },
  {
   "cell_type": "code",
   "execution_count": 48,
   "metadata": {},
   "outputs": [
    {
     "name": "stdout",
     "output_type": "stream",
     "text": [
      "              precision    recall  f1-score   support\n",
      "\n",
      "           0       0.83      0.98      0.90        45\n",
      "           1       0.85      0.98      0.91        47\n",
      "           2       0.99      0.90      0.94       170\n",
      "\n",
      "    accuracy                           0.93       262\n",
      "   macro avg       0.89      0.95      0.92       262\n",
      "weighted avg       0.94      0.93      0.93       262\n",
      "\n"
     ]
    }
   ],
   "source": [
    "rf_teste_balanceado = RandomForestClassifier(n_jobs=-1, random_state=34)\n",
    "\n",
    "rf_teste_balanceado.fit(X_train_rf_b, y_train_rf_b)\n",
    "\n",
    "y_pred_test = rf_teste_balanceado.predict(x_test_ov)\n",
    "\n",
    "print(classification_report(y_test_ov, y_pred_test))"
   ]
  },
  {
   "cell_type": "markdown",
   "metadata": {},
   "source": [
    "### GridSearch para encontrar os melhores parametros para cada modelo;"
   ]
  },
  {
   "cell_type": "code",
   "execution_count": null,
   "metadata": {},
   "outputs": [],
   "source": [
    "# Importando o GridSearch\n",
    "from sklearn.model_selection import GridSearchCV\n",
    "\n",
    "# Criando uma função para aplicar o GridSearch\n",
    "def grid_search(modelo, parametros, X_train, y_train, X_test, y_test):\n",
    "    # Criando o modelo\n",
    "    modelo_gs = GridSearchCV(modelo, parametros, cv=5, scoring='accuracy', n_jobs=-1)\n",
    "\n",
    "    # Treinando o modelo\n",
    "    modelo_gs.fit(X_train, y_train)\n",
    "\n",
    "    # Fazendo as previsões\n",
    "    y_pred = modelo_gs.predict(X_test)\n",
    "\n",
    "    # Avaliando o modelo\n",
    "    print(classification_report(y_test, y_pred))\n",
    "    print(confusion_matrix(y_test, y_pred))\n",
    "\n",
    "    # Retornando a acurácia do modelo\n",
    "    return modelo_gs.score(X_test, y_test)"
   ]
  },
  {
   "cell_type": "markdown",
   "metadata": {},
   "source": [
    "#### Aplicando GridSearch no SVM;"
   ]
  },
  {
   "cell_type": "code",
   "execution_count": null,
   "metadata": {},
   "outputs": [],
   "source": [
    "# Definindo Modelo\n",
    "svm_gs = SVC(random_state=42)\n",
    "\n",
    "# Definindo os parametros\n",
    "parametros_svm = {'C': [0.1, 1, 10, 100, 1000],\n",
    "                  'gamma': ['scale', 'auto'],\n",
    "                  'kernel': ['rbf', 'linear'],\n",
    "                  'decision_function_shape': ['ovo', 'ovr']}\n",
    "\n",
    "# Aplicando o GridSearch\n",
    "svm_gs = grid_search(svm_gs, parametros_svm, X_train_smote, y_train_smote, X_test, y_test)\n"
   ]
  },
  {
   "cell_type": "markdown",
   "metadata": {},
   "source": [
    "#### Aplicando GridSearch no Random Forest;"
   ]
  },
  {
   "cell_type": "code",
   "execution_count": null,
   "metadata": {},
   "outputs": [],
   "source": [
    "# Definindo Modelo\n",
    "rf_gs = RandomForestClassifier(random_state=42)\n",
    "\n",
    "# Definindo os parametros\n",
    "parametros_rf = {'n_estimators': [100, 200, 300, 400, 500],\n",
    "                 'criterion': ['gini', 'entropy'],\n",
    "                 'max_depth': [None, 5, 10, 15, 20],\n",
    "                 'min_samples_split': [2, 5, 10],\n",
    "                 'min_samples_leaf': [1, 2, 4],\n",
    "                 'max_features': ['auto', 'sqrt', 'log2']}\n",
    "# Aplicando o GridSearch\n",
    "rf_gs = grid_search(rf_gs, parametros_rf, X_train_smote, y_train_smote, X_test, y_test)"
   ]
  },
  {
   "cell_type": "markdown",
   "metadata": {},
   "source": [
    "#### Aplicando GridSearch no MLP;"
   ]
  },
  {
   "cell_type": "code",
   "execution_count": null,
   "metadata": {},
   "outputs": [],
   "source": [
    "# Definindo Modelo\n",
    "mlp_gs = MLPClassifier(random_state=42)\n",
    "\n",
    "# Definindo os parametros\n",
    "parameters_mlp = {'hidden_layer_sizes': [(10,), (50,), (100,), (10,10), (50,50), (100,100)],\n",
    "              'activation': ['identity', 'logistic', 'tanh', 'relu'],\n",
    "              'solver': ['lbfgs', 'sgd', 'adam'],\n",
    "              'alpha': [0.0001, 0.001, 0.01, 0.1, 1],\n",
    "              'learning_rate': ['constant', 'invscaling', 'adaptive'],\n",
    "              'learning_rate_init': [0.001, 0.01, 0.1],\n",
    "              'max_iter': [100, 200, 500],\n",
    "              'tol': [1e-3, 1e-4, 1e-5],\n",
    "              'momentum': [0.5, 0.9],\n",
    "              'early_stopping': [True, False],\n",
    "              'validation_fraction': [0.1, 0.2],\n",
    "              'beta_1': [0.9, 0.95, 0.99],\n",
    "              'beta_2': [0.999, 0.995, 0.9]}\n",
    "\n",
    "# Aplicando o GridSearch\n",
    "mlp_gs = grid_search(mlp_gs, parameters_mlp, X_train_smote, y_train_smote, X_test, y_test)\n"
   ]
  },
  {
   "cell_type": "markdown",
   "metadata": {},
   "source": [
    "#### Aplicando GridSearch no XGBoost;"
   ]
  },
  {
   "cell_type": "code",
   "execution_count": null,
   "metadata": {},
   "outputs": [],
   "source": [
    "# Definindo Modelo\n",
    "xgb_gs = XGBClassifier(random_state=42)\n",
    "\n",
    "# Definindo os parametros\n",
    "parameters_xgb = {'learning_rate': [0.01, 0.1, 0.3],\n",
    "              'max_depth': [3, 5, 7],\n",
    "              'n_estimators': [50, 100, 200],\n",
    "              'subsample': [0.5, 0.7, 0.9],\n",
    "              'colsample_bytree': [0.5, 0.7, 0.9],\n",
    "              'gamma': [0, 0.1, 0.5, 1],\n",
    "              'reg_alpha': [0, 0.1, 1],\n",
    "              'reg_lambda': [0, 0.1, 1],\n",
    "              'min_child_weight': [1, 3, 5]}\n",
    "\n",
    "# Aplicando o GridSearch\n",
    "xgb_gs = grid_search(xgb_gs, parameters_xgb, X_train_smote, y_train_smote, X_test, y_test)"
   ]
  },
  {
   "cell_type": "markdown",
   "metadata": {},
   "source": [
    "### TPOT para encontrar o melhor modelo para o problema;"
   ]
  },
  {
   "cell_type": "code",
   "execution_count": null,
   "metadata": {},
   "outputs": [],
   "source": [
    "# Importando o TPOT\n",
    "from tpot import TPOTClassifier\n",
    "\n",
    "# Criando o modelo TPOT limitando o tempo de execução em 25 minutos e modelos simples\n",
    "tpot = TPOTClassifier(verbosity=2, n_jobs=-1, max_time_mins=10)\n",
    "\n",
    "# Treinando o modelo\n",
    "tpot.fit(X_train_smote, y_train_smote)\n",
    "\n",
    "# Imprimindo os 3 melhores modelos\n",
    "tpot.fitted_pipeline_\n",
    "\n",
    "# Pegando o melhor modelo\n",
    "tpot.fitted_pipeline_.steps[-1][1]\n",
    "\n",
    "# Fazendo as previsões\n",
    "y_pred_tpot = tpot.predict(X_test)"
   ]
  },
  {
   "cell_type": "code",
   "execution_count": null,
   "metadata": {},
   "outputs": [],
   "source": [
    "# Fazendo as previsões\n",
    "y_pred_tpot = tpot.predict(X_test)\n",
    "\n",
    "# Avaliando o modelo\n",
    "print(classification_report(y_test, y_pred_tpot))\n",
    "print(confusion_matrix(y_test, y_pred_tpot))\n"
   ]
  },
  {
   "cell_type": "markdown",
   "metadata": {},
   "source": [
    "## Aplicando Tecnicas de Seleção de Features para melhorar o desempenho dos modelos;\n",
    "(1) - SFS\n",
    "(2) - SFFS\n",
    "(3) - SFBS\n",
    "(4) - SBS"
   ]
  },
  {
   "cell_type": "code",
   "execution_count": null,
   "metadata": {},
   "outputs": [],
   "source": [
    "# Importando as bibliotecas necessárias\n",
    "from mlxtend.feature_selection import SequentialFeatureSelector as SFS"
   ]
  },
  {
   "cell_type": "code",
   "execution_count": null,
   "metadata": {},
   "outputs": [],
   "source": [
    "# Criando o modelo SFS com o SVM e N features ( 0 < n < shape(X_train_smote) )\n",
    "maxSize = np.shape(X_train_smote)[1]\n",
    "\n",
    "sfs = SFS(svm, k_features='best', forward=True, floating=False, verbose=2, scoring='accuracy', cv=4, n_jobs=-1)\n",
    "\n",
    "# Treinando o modelo\n",
    "sfs.fit(X_train_smote, y_train_smote)"
   ]
  },
  {
   "cell_type": "code",
   "execution_count": null,
   "metadata": {},
   "outputs": [],
   "source": [
    "# Pegando as features selecionadas e testando o modelo\n",
    "X_train_sfs = sfs.transform(X_train_smote)\n",
    "X_test_sfs = sfs.transform(X_test)\n",
    "\n",
    "# Aplicando a função de avaliação\n",
    "svm_sfs = avalia_modelo(svm, X_train_sfs, y_train_smote, X_test_sfs, y_test)"
   ]
  },
  {
   "cell_type": "code",
   "execution_count": null,
   "metadata": {},
   "outputs": [],
   "source": [
    "# Criando o modelo SFFS com o SVM e N features ( 0 < n < shape(X_train_smote) )\n",
    "\n",
    "sffs = SFS(svm, k_features='best', forward=True, floating=True, verbose=2, scoring='accuracy', cv=4, n_jobs=-1)\n",
    "\n",
    "# Treinando o modelo\n",
    "sffs.fit(X_train_smote, y_train_smote)\n"
   ]
  },
  {
   "cell_type": "code",
   "execution_count": null,
   "metadata": {},
   "outputs": [],
   "source": [
    "# Pegando as features selecionadas e testando o modelo\n",
    "X_train_sffs = sffs.transform(X_train_smote)\n",
    "X_test_sffs = sffs.transform(X_test)\n",
    "\n",
    "# Aplicando a função de avaliação\n",
    "svm_sffs = avalia_modelo(svm, X_train_sffs, y_train_smote, X_test_sffs, y_test)"
   ]
  },
  {
   "cell_type": "code",
   "execution_count": null,
   "metadata": {},
   "outputs": [],
   "source": [
    "# Criando o modelo SBS com o SVM\n",
    "sbs = SFS(svm,k_features=3,forward=False,floating=False,scoring='accuracy',cv=4,n_jobs=-1)\n",
    "\n",
    "# Treinando o modelo\n",
    "sbs.fit(X_train_smote, y_train_smote)"
   ]
  },
  {
   "cell_type": "code",
   "execution_count": null,
   "metadata": {},
   "outputs": [],
   "source": [
    "# Pegando as features selecionadas e testando o modelo\n",
    "X_train_sbs = sbs.transform(X_train_smote)\n",
    "X_test_sbs = sbs.transform(X_test)\n",
    "\n",
    "# Aplicando a função de avaliação\n",
    "svm_sbs = avalia_modelo(svm, X_train_sbs, y_train_smote, X_test_sbs, y_test)\n"
   ]
  },
  {
   "cell_type": "code",
   "execution_count": null,
   "metadata": {},
   "outputs": [],
   "source": [
    "# Criando o modelo SFBS com o SVM\n",
    "sfbs = SFS(svm,k_features='best',forward=False,floating=True,scoring='accuracy',cv=4,n_jobs=-1)\n",
    "\n",
    "# Treinando o modelo\n",
    "sfbs.fit(X_train_smote, y_train_smote)"
   ]
  },
  {
   "cell_type": "code",
   "execution_count": null,
   "metadata": {},
   "outputs": [],
   "source": [
    "# Pegando as features selecionadas e testando o modelo\n",
    "X_train_sfbs = sfbs.transform(X_train_smote)\n",
    "X_test_sfbs = sfbs.transform(X_test)\n",
    "\n",
    "# Aplicando a função de avaliação\n",
    "svm_sfbs = avalia_modelo(svm, X_train_sfbs, y_train_smote, X_test_sfbs, y_test)"
   ]
  }
 ],
 "metadata": {
  "kernelspec": {
   "display_name": "Python 3 (ipykernel)",
   "language": "python",
   "name": "python3"
  },
  "language_info": {
   "codemirror_mode": {
    "name": "ipython",
    "version": 3
   },
   "file_extension": ".py",
   "mimetype": "text/x-python",
   "name": "python",
   "nbconvert_exporter": "python",
   "pygments_lexer": "ipython3",
   "version": "3.11.3"
  }
 },
 "nbformat": 4,
 "nbformat_minor": 1
}
