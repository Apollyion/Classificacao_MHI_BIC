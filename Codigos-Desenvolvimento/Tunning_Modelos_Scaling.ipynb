{
 "cells": [
  {
   "cell_type": "markdown",
   "metadata": {},
   "source": [
    "**Tunning dos hiperparâmetros**\n",
    "- Será realizado o tunning para os seguintes casos:\n",
    "    1) sem informações do WHOQOL na base\n",
    "    2) com todas as respostas do WHOQOL\n",
    "    3) só com o índice final do WHOQOL\n",
    "    4) só com os índices dos domínios do WHOQOL\n",
    "\n",
    "- Para os seguintes modelos:\n",
    "    1) Random Forest\n",
    "    2) SVM\n",
    "    3) MLP\n",
    "    4) XGBoost"
   ]
  },
  {
   "cell_type": "markdown",
   "metadata": {},
   "source": [
    "**Workflow:**\n",
    "Para cada caso:\n",
    "1. Importar dados\n",
    "2. Separar em treino, teste e validação.\n",
    "3. Definir os parâmetros a serem testados\n",
    "4. Realizar o tunning\n",
    "5. Salvar os resultados graficamente\n",
    "6. Salvar o melhor modelo\n",
    "7. Aplicar o Random Under-Sampling no treino (Voltar para o passo 3).\n"
   ]
  },
  {
   "cell_type": "markdown",
   "metadata": {
    "collapsed": false
   },
   "source": [
    "## SETUP\n",
    "(Executar apenas uma vez)"
   ]
  },
  {
   "cell_type": "code",
   "execution_count": 1,
   "metadata": {
    "collapsed": false,
    "ExecuteTime": {
     "end_time": "2023-12-23T18:36:32.345314Z",
     "start_time": "2023-12-23T18:36:11.174129200Z"
    }
   },
   "outputs": [
    {
     "name": "stdout",
     "output_type": "stream",
     "text": [
      "Requirement already satisfied: pandas in c:\\programs\\envs\\bic\\lib\\site-packages (2.1.4)\n",
      "Requirement already satisfied: numpy<2,>=1.23.2 in c:\\programs\\envs\\bic\\lib\\site-packages (from pandas) (1.26.2)\n",
      "Requirement already satisfied: python-dateutil>=2.8.2 in c:\\programs\\envs\\bic\\lib\\site-packages (from pandas) (2.8.2)\n",
      "Requirement already satisfied: pytz>=2020.1 in c:\\programs\\envs\\bic\\lib\\site-packages (from pandas) (2023.3.post1)\n",
      "Requirement already satisfied: tzdata>=2022.1 in c:\\programs\\envs\\bic\\lib\\site-packages (from pandas) (2023.3)\n",
      "Requirement already satisfied: six>=1.5 in c:\\programs\\envs\\bic\\lib\\site-packages (from python-dateutil>=2.8.2->pandas) (1.16.0)\n",
      "Requirement already satisfied: numpy in c:\\programs\\envs\\bic\\lib\\site-packages (1.26.2)\n",
      "Requirement already satisfied: scipy in c:\\programs\\envs\\bic\\lib\\site-packages (1.11.4)\n",
      "Requirement already satisfied: numpy<1.28.0,>=1.21.6 in c:\\programs\\envs\\bic\\lib\\site-packages (from scipy) (1.26.2)\n",
      "Requirement already satisfied: scikit-learn in c:\\programs\\envs\\bic\\lib\\site-packages (1.3.2)\n",
      "Requirement already satisfied: numpy<2.0,>=1.17.3 in c:\\programs\\envs\\bic\\lib\\site-packages (from scikit-learn) (1.26.2)\n",
      "Requirement already satisfied: scipy>=1.5.0 in c:\\programs\\envs\\bic\\lib\\site-packages (from scikit-learn) (1.11.4)\n",
      "Requirement already satisfied: joblib>=1.1.1 in c:\\programs\\envs\\bic\\lib\\site-packages (from scikit-learn) (1.3.2)\n",
      "Requirement already satisfied: threadpoolctl>=2.0.0 in c:\\programs\\envs\\bic\\lib\\site-packages (from scikit-learn) (3.2.0)\n",
      "Requirement already satisfied: imbalanced-learn in c:\\programs\\envs\\bic\\lib\\site-packages (0.11.0)\n",
      "Requirement already satisfied: numpy>=1.17.3 in c:\\programs\\envs\\bic\\lib\\site-packages (from imbalanced-learn) (1.26.2)\n",
      "Requirement already satisfied: scipy>=1.5.0 in c:\\programs\\envs\\bic\\lib\\site-packages (from imbalanced-learn) (1.11.4)\n",
      "Requirement already satisfied: scikit-learn>=1.0.2 in c:\\programs\\envs\\bic\\lib\\site-packages (from imbalanced-learn) (1.3.2)\n",
      "Requirement already satisfied: joblib>=1.1.1 in c:\\programs\\envs\\bic\\lib\\site-packages (from imbalanced-learn) (1.3.2)\n",
      "Requirement already satisfied: threadpoolctl>=2.0.0 in c:\\programs\\envs\\bic\\lib\\site-packages (from imbalanced-learn) (3.2.0)\n",
      "Requirement already satisfied: xgboost in c:\\programs\\envs\\bic\\lib\\site-packages (2.0.3)\n",
      "Requirement already satisfied: numpy in c:\\programs\\envs\\bic\\lib\\site-packages (from xgboost) (1.26.2)\n",
      "Requirement already satisfied: scipy in c:\\programs\\envs\\bic\\lib\\site-packages (from xgboost) (1.11.4)\n",
      "Requirement already satisfied: mlxtend in c:\\programs\\envs\\bic\\lib\\site-packages (0.23.0)\n",
      "Requirement already satisfied: scipy>=1.2.1 in c:\\programs\\envs\\bic\\lib\\site-packages (from mlxtend) (1.11.4)\n",
      "Requirement already satisfied: numpy>=1.16.2 in c:\\programs\\envs\\bic\\lib\\site-packages (from mlxtend) (1.26.2)\n",
      "Requirement already satisfied: pandas>=0.24.2 in c:\\programs\\envs\\bic\\lib\\site-packages (from mlxtend) (2.1.4)\n",
      "Requirement already satisfied: scikit-learn>=1.0.2 in c:\\programs\\envs\\bic\\lib\\site-packages (from mlxtend) (1.3.2)\n",
      "Requirement already satisfied: matplotlib>=3.0.0 in c:\\programs\\envs\\bic\\lib\\site-packages (from mlxtend) (3.8.2)\n",
      "Requirement already satisfied: joblib>=0.13.2 in c:\\programs\\envs\\bic\\lib\\site-packages (from mlxtend) (1.3.2)\n",
      "Requirement already satisfied: contourpy>=1.0.1 in c:\\programs\\envs\\bic\\lib\\site-packages (from matplotlib>=3.0.0->mlxtend) (1.2.0)\n",
      "Requirement already satisfied: cycler>=0.10 in c:\\programs\\envs\\bic\\lib\\site-packages (from matplotlib>=3.0.0->mlxtend) (0.12.1)\n",
      "Requirement already satisfied: fonttools>=4.22.0 in c:\\programs\\envs\\bic\\lib\\site-packages (from matplotlib>=3.0.0->mlxtend) (4.46.0)\n",
      "Requirement already satisfied: kiwisolver>=1.3.1 in c:\\programs\\envs\\bic\\lib\\site-packages (from matplotlib>=3.0.0->mlxtend) (1.4.5)\n",
      "Requirement already satisfied: packaging>=20.0 in c:\\programs\\envs\\bic\\lib\\site-packages (from matplotlib>=3.0.0->mlxtend) (23.2)\n",
      "Requirement already satisfied: pillow>=8 in c:\\programs\\envs\\bic\\lib\\site-packages (from matplotlib>=3.0.0->mlxtend) (10.1.0)\n",
      "Requirement already satisfied: pyparsing>=2.3.1 in c:\\programs\\envs\\bic\\lib\\site-packages (from matplotlib>=3.0.0->mlxtend) (3.1.1)\n",
      "Requirement already satisfied: python-dateutil>=2.7 in c:\\programs\\envs\\bic\\lib\\site-packages (from matplotlib>=3.0.0->mlxtend) (2.8.2)\n",
      "Requirement already satisfied: pytz>=2020.1 in c:\\programs\\envs\\bic\\lib\\site-packages (from pandas>=0.24.2->mlxtend) (2023.3.post1)\n",
      "Requirement already satisfied: tzdata>=2022.1 in c:\\programs\\envs\\bic\\lib\\site-packages (from pandas>=0.24.2->mlxtend) (2023.3)\n",
      "Requirement already satisfied: threadpoolctl>=2.0.0 in c:\\programs\\envs\\bic\\lib\\site-packages (from scikit-learn>=1.0.2->mlxtend) (3.2.0)\n",
      "Requirement already satisfied: six>=1.5 in c:\\programs\\envs\\bic\\lib\\site-packages (from python-dateutil>=2.7->matplotlib>=3.0.0->mlxtend) (1.16.0)\n",
      "Requirement already satisfied: joblib in c:\\programs\\envs\\bic\\lib\\site-packages (1.3.2)\n",
      "Requirement already satisfied: seaborn in c:\\programs\\envs\\bic\\lib\\site-packages (0.13.0)\n",
      "Requirement already satisfied: numpy!=1.24.0,>=1.20 in c:\\programs\\envs\\bic\\lib\\site-packages (from seaborn) (1.26.2)\n",
      "Requirement already satisfied: pandas>=1.2 in c:\\programs\\envs\\bic\\lib\\site-packages (from seaborn) (2.1.4)\n",
      "Requirement already satisfied: matplotlib!=3.6.1,>=3.3 in c:\\programs\\envs\\bic\\lib\\site-packages (from seaborn) (3.8.2)\n",
      "Requirement already satisfied: contourpy>=1.0.1 in c:\\programs\\envs\\bic\\lib\\site-packages (from matplotlib!=3.6.1,>=3.3->seaborn) (1.2.0)\n",
      "Requirement already satisfied: cycler>=0.10 in c:\\programs\\envs\\bic\\lib\\site-packages (from matplotlib!=3.6.1,>=3.3->seaborn) (0.12.1)\n",
      "Requirement already satisfied: fonttools>=4.22.0 in c:\\programs\\envs\\bic\\lib\\site-packages (from matplotlib!=3.6.1,>=3.3->seaborn) (4.46.0)\n",
      "Requirement already satisfied: kiwisolver>=1.3.1 in c:\\programs\\envs\\bic\\lib\\site-packages (from matplotlib!=3.6.1,>=3.3->seaborn) (1.4.5)\n",
      "Requirement already satisfied: packaging>=20.0 in c:\\programs\\envs\\bic\\lib\\site-packages (from matplotlib!=3.6.1,>=3.3->seaborn) (23.2)\n",
      "Requirement already satisfied: pillow>=8 in c:\\programs\\envs\\bic\\lib\\site-packages (from matplotlib!=3.6.1,>=3.3->seaborn) (10.1.0)\n",
      "Requirement already satisfied: pyparsing>=2.3.1 in c:\\programs\\envs\\bic\\lib\\site-packages (from matplotlib!=3.6.1,>=3.3->seaborn) (3.1.1)\n",
      "Requirement already satisfied: python-dateutil>=2.7 in c:\\programs\\envs\\bic\\lib\\site-packages (from matplotlib!=3.6.1,>=3.3->seaborn) (2.8.2)\n",
      "Requirement already satisfied: pytz>=2020.1 in c:\\programs\\envs\\bic\\lib\\site-packages (from pandas>=1.2->seaborn) (2023.3.post1)\n",
      "Requirement already satisfied: tzdata>=2022.1 in c:\\programs\\envs\\bic\\lib\\site-packages (from pandas>=1.2->seaborn) (2023.3)\n",
      "Requirement already satisfied: six>=1.5 in c:\\programs\\envs\\bic\\lib\\site-packages (from python-dateutil>=2.7->matplotlib!=3.6.1,>=3.3->seaborn) (1.16.0)\n",
      "Requirement already satisfied: matplotlib in c:\\programs\\envs\\bic\\lib\\site-packages (3.8.2)\n",
      "Requirement already satisfied: contourpy>=1.0.1 in c:\\programs\\envs\\bic\\lib\\site-packages (from matplotlib) (1.2.0)\n",
      "Requirement already satisfied: cycler>=0.10 in c:\\programs\\envs\\bic\\lib\\site-packages (from matplotlib) (0.12.1)\n",
      "Requirement already satisfied: fonttools>=4.22.0 in c:\\programs\\envs\\bic\\lib\\site-packages (from matplotlib) (4.46.0)\n",
      "Requirement already satisfied: kiwisolver>=1.3.1 in c:\\programs\\envs\\bic\\lib\\site-packages (from matplotlib) (1.4.5)\n",
      "Requirement already satisfied: numpy<2,>=1.21 in c:\\programs\\envs\\bic\\lib\\site-packages (from matplotlib) (1.26.2)\n",
      "Requirement already satisfied: packaging>=20.0 in c:\\programs\\envs\\bic\\lib\\site-packages (from matplotlib) (23.2)\n",
      "Requirement already satisfied: pillow>=8 in c:\\programs\\envs\\bic\\lib\\site-packages (from matplotlib) (10.1.0)\n",
      "Requirement already satisfied: pyparsing>=2.3.1 in c:\\programs\\envs\\bic\\lib\\site-packages (from matplotlib) (3.1.1)\n",
      "Requirement already satisfied: python-dateutil>=2.7 in c:\\programs\\envs\\bic\\lib\\site-packages (from matplotlib) (2.8.2)\n",
      "Requirement already satisfied: six>=1.5 in c:\\programs\\envs\\bic\\lib\\site-packages (from python-dateutil>=2.7->matplotlib) (1.16.0)\n"
     ]
    }
   ],
   "source": [
    "# Instalando bibliotecas\n",
    "!pip install -U pandas\n",
    "!pip install -U numpy\n",
    "!pip install -U scipy\n",
    "!pip install -U scikit-learn\n",
    "!pip install -U imbalanced-learn\n",
    "!pip install -U xgboost\n",
    "!pip install -U mlxtend\n",
    "!pip install -U joblib\n",
    "!pip install -U seaborn\n",
    "!pip install -U matplotlib\n"
   ]
  },
  {
   "cell_type": "markdown",
   "metadata": {
    "collapsed": false
   },
   "source": [
    "## Inicialização\n",
    "(Executar sempre que reiniciar o kernel)"
   ]
  },
  {
   "cell_type": "markdown",
   "metadata": {},
   "source": [
    "### Importando as bibliotecas"
   ]
  },
  {
   "cell_type": "code",
   "execution_count": 23,
   "metadata": {
    "ExecuteTime": {
     "end_time": "2023-12-23T22:41:39.746409800Z",
     "start_time": "2023-12-23T22:41:39.713018100Z"
    }
   },
   "outputs": [],
   "source": [
    "from sklearn.ensemble import RandomForestClassifier\n",
    "from sklearn.svm import SVC\n",
    "from sklearn.neural_network import MLPClassifier\n",
    "from xgboost import XGBClassifier\n",
    "from sklearn.neighbors import KNeighborsClassifier\n",
    "from sklearn.ensemble import AdaBoostClassifier\n",
    "from sklearn.naive_bayes import GaussianNB\n",
    "from sklearn.linear_model import LogisticRegression\n",
    "from sklearn.tree import DecisionTreeClassifier\n",
    "from sklearn.model_selection import train_test_split, GridSearchCV\n",
    "from imblearn.under_sampling import RandomUnderSampler\n",
    "from sklearn.preprocessing import MaxAbsScaler, StandardScaler, LabelEncoder, MinMaxScaler\n",
    "import os\n",
    "from sklearn.model_selection import KFold\n",
    "from mlxtend.feature_selection import SequentialFeatureSelector as SFS\n",
    "from sklearn.metrics import accuracy_score\n",
    "from sklearn.model_selection import cross_val_predict\n",
    "from sklearn.metrics import classification_report\n",
    "from sklearn.model_selection import cross_val_score\n",
    "import numpy as np\n",
    "import pandas as pd\n",
    "import matplotlib.pyplot as plt\n",
    "import seaborn as sns\n",
    "#Importando modelo Dummy:\n",
    "from sklearn.dummy import DummyClassifier\n",
    "import pickle\n",
    "import time\n",
    "import multiprocessing\n",
    "n_cpus = multiprocessing.cpu_count()\n",
    "\n",
    "import warnings\n",
    "warnings.filterwarnings('ignore')\n",
    "\n",
    "np.random.seed(13) # Para reproduzir os resultados"
   ]
  },
  {
   "cell_type": "markdown",
   "metadata": {},
   "source": [
    "### Definindo a função"
   ]
  },
  {
   "cell_type": "code",
   "execution_count": 24,
   "metadata": {
    "ExecuteTime": {
     "end_time": "2023-12-23T22:41:40.009854300Z",
     "start_time": "2023-12-23T22:41:40.004849300Z"
    }
   },
   "outputs": [],
   "source": [
    "def perform_model_tuning(models, param_grids, base_name, data=None, target=None, x_train = None, y_train=None, x_test=None,  y_test=None):\n",
    "    \n",
    "    if data is not None and target is not None:\n",
    "        # Dividir os dados em treinamento e teste\n",
    "        X_train, X_test, y_train, y_test = train_test_split(data, target, test_size=0.2, random_state=42)\n",
    "    elif x_train is not None and x_test is not None and y_train is not None and y_test is not None:\n",
    "        X_train = x_train\n",
    "        X_test = x_test\n",
    "        y_train = y_train\n",
    "        y_test = y_test\n",
    "    else:\n",
    "        raise ValueError(\"Parâmetros inválidos. É necessário passar os dados e os rótulos ou os conjuntos de treino e teste.\")\n",
    "\n",
    "    start_tunning = time.time()\n",
    "    \n",
    "    best_models = {}  # Dicionário para armazenar o melhor modelo de cada tipo\n",
    "    model_accuracies = {}  # Dicionário para armazenar as acurácias de cada modelo\n",
    "    current_dir = os.getcwd()\n",
    "    for model_name, model, param_grid_entry in zip(models.keys(), models.values(), param_grids):\n",
    "        print(f\"Tuning do modelo {model_name} iniciado...\")\n",
    "\n",
    "        # Acessar o dicionário de parâmetros correspondente ao modelo atual\n",
    "        param_grid = param_grid_entry['params']\n",
    "\n",
    "        # Realizar a busca em grid para encontrar os melhores parâmetros\n",
    "        grid_search = GridSearchCV(model, param_grid, cv=3, scoring='accuracy')\n",
    "        \n",
    "        # Iniciar a contagem do tempo\n",
    "        start = time.time()\n",
    "        \n",
    "        grid_search.fit(X_train, y_train)\n",
    "        \n",
    "        # Finalizar a contagem do tempo\n",
    "        end = time.time()\n",
    "        print(f\"Tempo de execução: {end - start:.2f}s | Modelo: {model_name}\")\n",
    "        # Melhor modelo encontrado\n",
    "        best_model = grid_search.best_estimator_\n",
    "\n",
    "        # Fazer previsões no conjunto de teste\n",
    "        y_pred = best_model.predict(X_test)\n",
    "\n",
    "        # Calcular a acurácia do modelo\n",
    "        accuracy = accuracy_score(y_test, y_pred)\n",
    "        model_accuracies[model_name] = accuracy\n",
    "\n",
    "        print(f\"Acurácia do modelo {model_name}: {accuracy:.4f}\")\n",
    "\n",
    "        # Salvar o melhor modelo\n",
    "        best_models[model_name] = best_model\n",
    "\n",
    "    # Plotar gráfico de desempenho comparativo\n",
    "    plt.figure(figsize=(10, 6))\n",
    "    plt.bar(model_accuracies.keys(), model_accuracies.values())\n",
    "    plt.xlabel('Modelos')\n",
    "    plt.ylabel('Acurácia')\n",
    "    plt.title('Comparação de desempenho dos modelos')\n",
    "    plt.xticks(rotation=45)\n",
    "    plt.tight_layout()\n",
    "    graph_filename = f\"{base_name}_graph.png\"\n",
    "    graph_path = os.path.join(current_dir, graph_filename)\n",
    "    plt.savefig(graph_path)\n",
    "    plt.close()\n",
    "\n",
    "    end_tunning = time.time()\n",
    "\n",
    "    #Pickle the single best model, verifying the best and saving from best_models dict, se tiver mais algo salvo com o mesmo nome, adiciona mais um.\n",
    "    best_model = max(model_accuracies, key=model_accuracies.get)\n",
    "    print(f\"\\n\\nMelhor modelo: {best_model} | Acurácia: {model_accuracies[best_model]}\")\n",
    "    print(f\"\\nTempo de execução total :{end - start:.2f}s\")\n",
    "    best_model = best_models[best_model]\n",
    "    if os.path.exists(f\"{base_name}_{best_model}_best_model.pkl\"):\n",
    "        i = 1\n",
    "        while os.path.exists(f\"{base_name}_{best_model}_best_model_{i}.pkl\"):\n",
    "            i += 1\n",
    "        pickle.dump(best_model, open(f\"{base_name}_{best_model}_best_model_{i}.pkl\", \"wb\"))\n",
    "    else:\n",
    "        pickle.dump(best_model, open(f\"{base_name}_{best_model}_best_model.pkl\", \"wb\"))\n",
    "    # Salvar tabela com os valores de acurácia\n",
    "    table_filename = f\"{base_name}_acuracy.csv\"\n",
    "    accuracies_df = pd.DataFrame.from_dict(model_accuracies, orient='index', columns=['Acurácia'])\n",
    "    table_path = os.path.join(current_dir, table_filename)\n",
    "    accuracies_df.to_csv(table_path, index=False)\n",
    "\n",
    "    return best_models"
   ]
  },
  {
   "cell_type": "code",
   "execution_count": 25,
   "metadata": {
    "collapsed": false,
    "ExecuteTime": {
     "end_time": "2023-12-23T22:41:40.226984100Z",
     "start_time": "2023-12-23T22:41:40.203205Z"
    }
   },
   "outputs": [],
   "source": [
    "def avalia_modelo_cv(model, X_input, y_input, n, resultados_individuais=False):\n",
    "    kf = KFold(n_splits=n)\n",
    "    reports = []\n",
    "    y_true = []\n",
    "    y_pred_list = []\n",
    "    X_array = X_input.values\n",
    "    accuracy_list = []\n",
    "    model_name = type(model).__name__\n",
    "    for fold_idx, (train_index, test_index) in enumerate(kf.split(X_input)):\n",
    "        X_input, X_test = X_array[train_index], X_array[test_index]\n",
    "        y_train, y_test = y_input[train_index], y_input[test_index]\n",
    "        model.fit(X_input, y_train)\n",
    "        y_pred = model.predict(X_test)\n",
    "        y_true.extend(y_test)\n",
    "        y_pred_list.append(y_pred)\n",
    "        report = classification_report(y_test, y_pred, zero_division=0)\n",
    "        reports.append(report)\n",
    "        accuracy_list.append(accuracy_score(y_test, y_pred))\n",
    "        if resultados_individuais:\n",
    "            print(f\"Classification Report for fold {fold_idx + 1}:\\n{report}\\n\")\n",
    "    y_pred_total = np.concatenate(y_pred_list)\n",
    "    print(\"-\" * 45)\n",
    "    print(\"model_name: \", model_name)\n",
    "    print(\"Average Classification Report:\")\n",
    "    avg_report = classification_report(y_true, y_pred_total, zero_division=0)\n",
    "    print(avg_report)\n",
    "    #Retorna a acuracia media\n",
    "    return accuracy_score(y_true, y_pred_total)\n",
    "\n",
    "\n",
    "# Função que chama os 4 modelos e retorna o resultado de cada um usando a função avalia_modelo_cv e imprime o resultado de cada um.\n",
    "\n",
    "def avalia_dif_modelos_cv(X_train, y_test, cv):\n",
    "    # Criando os modelos\n",
    "    dummy_av = DummyClassifier(strategy='most_frequent', random_state=13)\n",
    "    rf_av = RandomForestClassifier(n_jobs=n_cpus, random_state=13)\n",
    "    svm_av = SVC(kernel='rbf', gamma='auto', decision_function_shape='ovo', random_state=13)\n",
    "    mlp_av = MLPClassifier(hidden_layer_sizes=(100, 100), max_iter=1000, random_state=13)\n",
    "    xgb_av = XGBClassifier(n_jobs=n_cpus, random_state=13)\n",
    "    knn_av = KNeighborsClassifier(n_jobs=n_cpus)\n",
    "    ada_av = AdaBoostClassifier(random_state=13)\n",
    "    nvb_av = GaussianNB()\n",
    "    lr_av = LogisticRegression(random_state=13)\n",
    "    dt_av = DecisionTreeClassifier(random_state=13)\n",
    "    \n",
    "\n",
    "    # Aplicando a função de avaliação\n",
    "    dummy_fun_av = avalia_modelo_cv(dummy_av, X_train, y_test, cv)\n",
    "    rf_fun_av = avalia_modelo_cv(rf_av, X_train, y_test, cv)\n",
    "    svm_fun_av = avalia_modelo_cv(svm_av, X_train, y_test, cv)\n",
    "    mlp_fun_av = avalia_modelo_cv(mlp_av, X_train, y_test, cv)\n",
    "    xgb_fun_av = avalia_modelo_cv(xgb_av, X_train, y_test, cv)\n",
    "    knn_fun_av = avalia_modelo_cv(knn_av, X_train, y_test, cv)\n",
    "    ada_fun_av = avalia_modelo_cv(ada_av, X_train, y_test, cv)\n",
    "    nvb_fun_av = avalia_modelo_cv(nvb_av, X_train, y_test, cv)\n",
    "    lr_fun_av = avalia_modelo_cv(lr_av, X_train, y_test, cv)\n",
    "    dt_fun_av = avalia_modelo_cv(dt_av, X_train, y_test, cv)\n",
    "    \n",
    "\n",
    "    # Criando o dataframe com os resultados\n",
    "    df_resultado = pd.DataFrame({'Modelo': ['Dummy', 'RF', 'SVM', 'MLP', 'XGB', 'KNN', 'ADA', 'NVB', 'LR', 'DT'],\n",
    "                                 'Acurácia': [dummy_fun_av, rf_fun_av, svm_fun_av, mlp_fun_av, xgb_fun_av, knn_fun_av, ada_fun_av, nvb_fun_av, lr_fun_av, dt_fun_av]})\n",
    "\n",
    "\n",
    "    # Ordenando o dataframe pela acurácia\n",
    "    df_resultado = df_resultado.sort_values(by='Acurácia', ascending=False)\n",
    "\n",
    "    # Define a color dictionary for each model\n",
    "    model_colors = {\n",
    "        'Dummy': 'gray',\n",
    "        'RF': 'blue',\n",
    "        'SVM': 'green',\n",
    "        'MLP': 'orange',\n",
    "        'XGB': 'purple',\n",
    "        'KNN': 'brown',\n",
    "        'ADA': 'pink',\n",
    "        'NVB': 'red',\n",
    "        'LR': 'cyan',\n",
    "        'DT': 'olive'\n",
    "    }\n",
    "\n",
    "    # Plotando o gráfico de barras, que vai de 0 a 1\n",
    "    ax = sns.barplot(y='Modelo', x='Acurácia', data=df_resultado, palette=[model_colors[model] for model in df_resultado['Modelo']])\n",
    "    plt.xlim(0, 1)\n",
    "\n",
    "    # Adicionando os valores nas barras\n",
    "    for index, value in enumerate(df_resultado['Acurácia']):\n",
    "        ax.text(value + 0.01, index, f'{value:.4f}', va='center', fontsize=8, color='black')\n",
    "\n",
    "    plt.show(\"Desempenho dos modelos\")\n",
    "    #%matplotlib inline\n",
    "\n",
    "    return df_resultado"
   ]
  },
  {
   "cell_type": "code",
   "execution_count": 26,
   "metadata": {
    "collapsed": false,
    "ExecuteTime": {
     "end_time": "2023-12-23T22:41:40.616075100Z",
     "start_time": "2023-12-23T22:41:40.595862900Z"
    }
   },
   "outputs": [],
   "source": [
    "def perform_cross_validation(model, X, y, cv, verbose=True):\n",
    "    reports = []\n",
    "    predictions = cross_val_predict(model, X, y, cv=cv)\n",
    "\n",
    "    for fold in range(cv):\n",
    "        start = fold * len(X) // cv\n",
    "        end = (fold + 1) * len(X) // cv\n",
    "        report = classification_report(y[start:end], predictions[start:end], output_dict=True)\n",
    "        reports.append(report)\n",
    "\n",
    "        if verbose:\n",
    "            print(f\"Fold {fold + 1} Classification Report:\")\n",
    "            print(classification_report(y[start:end], predictions[start:end]))\n",
    "            print(\"-\" * 50)\n",
    "\n",
    "    avg_report = {\n",
    "        'precision': np.mean([report['weighted avg']['precision'] for report in reports]),\n",
    "        'recall': np.mean([report['weighted avg']['recall'] for report in reports]),\n",
    "        'f1-score': np.mean([report['weighted avg']['f1-score'] for report in reports]),\n",
    "        'support': np.mean([report['weighted avg']['support'] for report in reports])\n",
    "    }\n",
    "\n",
    "    accuracy = accuracy_score(y, predictions)\n",
    "\n",
    "    if verbose or not verbose:\n",
    "        print(\"Average Classification Report:\")\n",
    "        print(classification_report(y, predictions))\n",
    "        print(\"-\" * 50)\n",
    "        print(f\"Accuracy: {accuracy:.2f}\")\n",
    "\n",
    "    return None\n"
   ]
  },
  {
   "cell_type": "code",
   "execution_count": 27,
   "metadata": {
    "collapsed": false,
    "ExecuteTime": {
     "end_time": "2023-12-23T22:41:40.983221200Z",
     "start_time": "2023-12-23T22:41:40.949330900Z"
    }
   },
   "outputs": [],
   "source": [
    "# Função para aplicar SBFS e SFFS com cross validation e salvar tabela com resultado.\n",
    "def perform_feature_selection(data, target, model, best_model, method, cv):\n",
    "    # Criando o objeto de seleção de features\n",
    "    if method == 'SBFS':\n",
    "        sfs = SFS(model,\n",
    "                  k_features=\"best\",\n",
    "                  forward=False,\n",
    "                  floating=True,\n",
    "                  verbose=2,\n",
    "                  scoring='accuracy',\n",
    "                  cv=cv,\n",
    "                  n_jobs=n_cpus)\n",
    "    elif method == 'SFFS':\n",
    "        sfs = SFS(model,\n",
    "                  k_features=\"best\",\n",
    "                  forward=True,\n",
    "                  floating=True,\n",
    "                  verbose=2,\n",
    "                  scoring='accuracy',\n",
    "                  cv=cv,\n",
    "                  n_jobs=n_cpus)\n",
    "    # Aplicando o método de seleção de features\n",
    "    sfs = sfs.fit(data, target)\n",
    "    # Salvando o resultado em um dataframe\n",
    "    df = pd.DataFrame.from_dict(sfs.get_metric_dict()).T\n",
    "\n",
    "    # Definindo nome do arquivo para salvar as features selecionadas em formato CSV\n",
    "    if os.path.exists(f\"results/{method}_{best_model}.csv\"):\n",
    "        i = 1\n",
    "        while os.path.exists(f\"results/{method}_{best_model}_{i}.csv\"):\n",
    "            i += 1\n",
    "        file_name_csv = f\"results/{method}_{best_model}_{i}.csv\"\n",
    "    else:\n",
    "        file_name_csv = f\"results/{method}_{best_model}.csv\"\n",
    "\n",
    "    # Salvando o dataframe em um arquivo CSV\n",
    "    df.to_csv(file_name_csv, index=False)\n",
    "\n",
    "    # Definindo nome do arquivo para salvar as features selecionadas em formato TXT\n",
    "    if os.path.exists(f\"results/{method}_{best_model}.txt\"):\n",
    "        i = 1\n",
    "        while os.path.exists(f\"results/{method}_{best_model}_{i}.txt\"):\n",
    "            i += 1\n",
    "        file_name_txt = f\"results/{method}_{best_model}_{i}.txt\"\n",
    "    else:\n",
    "        file_name_txt = f\"results/{method}_{best_model}.txt\"\n",
    "\n",
    "    # Salvando as features selecionadas e o score em um arquivo TXT\n",
    "    with open(file_name_txt, 'w') as file:\n",
    "        file.write(f\"Selected Features: {', '.join(sfs.k_feature_names_)}\\n\")\n",
    "        file.write(f\"Score: {sfs.k_score_}\")\n",
    "\n",
    "    # Plotando o desempenho do modelo para cada combinação de atributos\n",
    "    fig, ax = plt.subplots()\n",
    "    ax.plot(range(1, len(df) + 1), df['avg_score'], marker='o')\n",
    "    ax.set_xlabel('Number of Features')\n",
    "    ax.set_ylabel('Average Score')\n",
    "    ax.set_title('Performance of Model with Feature Selection')\n",
    "    plt.xticks(range(1, len(df) + 1))\n",
    "    plt.grid(True)\n",
    "\n",
    "    # Definindo nome do arquivo para salvar o gráfico\n",
    "    if os.path.exists(f\"results/{method}_{best_model}.png\"):\n",
    "        i = 1\n",
    "        while os.path.exists(f\"results/{method}_{best_model}_{i}.png\"):\n",
    "            i += 1\n",
    "        file_name_plot = f\"results/{method}_{best_model}_{i}.png\"\n",
    "    else:\n",
    "        file_name_plot = f\"results/{method}_{best_model}.png\"\n",
    "\n",
    "    # Salvando o gráfico em um arquivo PNG\n",
    "    plt.savefig(file_name_plot)\n",
    "\n",
    "    # Retornando as features selecionadas e o score\n",
    "    return sfs.k_feature_names_, sfs.k_score_"
   ]
  },
  {
   "cell_type": "code",
   "execution_count": 28,
   "metadata": {
    "collapsed": false,
    "ExecuteTime": {
     "end_time": "2023-12-23T22:41:41.190950800Z",
     "start_time": "2023-12-23T22:41:41.170072800Z"
    }
   },
   "outputs": [],
   "source": [
    "def updt_maxfeature(modelo):\n",
    "    try:\n",
    "        if modelo.get_params()['max_features'] == 'auto':\n",
    "            modelo.max_features = 'sqrt'\n",
    "            print(modelo)\n",
    "    except:\n",
    "        pass\n"
   ]
  },
  {
   "cell_type": "markdown",
   "metadata": {},
   "source": [
    "### Importando os dados"
   ]
  },
  {
   "cell_type": "code",
   "execution_count": 30,
   "metadata": {
    "collapsed": false,
    "ExecuteTime": {
     "end_time": "2023-12-23T22:42:24.619544600Z",
     "start_time": "2023-12-23T22:42:24.574916100Z"
    }
   },
   "outputs": [],
   "source": [
    "# Sem WHOQOL:\n",
    "base1 = pd.read_csv('Datasets/dataframe_socioeconomico_Niveis.csv')\n",
    "data1 = base1.drop('Nivel_MHI', axis=1)\n",
    "target1 = base1['Nivel_MHI']\n",
    "le = LabelEncoder()\n",
    "target1 = le.fit_transform(target1)\n",
    "\n",
    "# Dividir os dados em treino e teste\n",
    "X_train1, X_test1, y_train1, y_test1 = train_test_split(data1, target1, test_size=0.2, random_state=13)\n",
    "\n",
    "# Aplicando non_linear scaler e converter para dataframe\n",
    "scaler_data1 = MinMaxScaler()\n",
    "X_train1 = scaler_data1.fit_transform(X_train1)\n",
    "X_test1 = scaler_data1.transform(X_test1)\n",
    "X_train1 = pd.DataFrame(X_train1, columns=data1.columns)\n",
    "X_test1 = pd.DataFrame(X_test1, columns=data1.columns)\n",
    "\n",
    "# Realizar Random Under-Sampling no treino\n",
    "sampler = RandomUnderSampler(random_state=13)\n",
    "X_train1_re, y_train1_re = sampler.fit_resample(X_train1, y_train1)\n",
    "\n",
    "# Divide em train_re e val_re\n",
    "X_train1_re, X_val1_re, y_train1_re, y_val1_re = train_test_split(X_train1_re, y_train1_re, test_size=0.2, random_state=13)\n"
   ]
  },
  {
   "cell_type": "code",
   "execution_count": 31,
   "metadata": {
    "collapsed": false,
    "ExecuteTime": {
     "end_time": "2023-12-23T22:42:24.815355Z",
     "start_time": "2023-12-23T22:42:24.794737700Z"
    }
   },
   "outputs": [],
   "source": [
    "# Com todas as respostas do WHOQOL\n",
    "base2 = pd.read_csv('Datasets/df_social_whoqol_tratado_1.csv')\n",
    "data2 = base2.drop('Nivel_MHI', axis=1)\n",
    "target2 = base2['Nivel_MHI']\n",
    "target2 = le.fit_transform(target2)\n",
    "\n",
    "# Dividir os dados em treino e teste\n",
    "X_train2, X_test2, y_train2, y_test2 = train_test_split(data2, target2, test_size=0.2, random_state=13)\n",
    "\n",
    "# Aplicando MaxAbsScaler\n",
    "scaler_data2 = StandardScaler()\n",
    "X_train2 = scaler_data2.fit_transform(X_train2)\n",
    "X_test2 = scaler_data2.transform(X_test2)\n",
    "X_train2 = pd.DataFrame(X_train2, columns=data2.columns)\n",
    "X_test2 = pd.DataFrame(X_test2, columns=data2.columns)\n",
    "\n",
    "# Realizar Random Under-Sampling no treino\n",
    "sampler = RandomUnderSampler(random_state=13)\n",
    "X_train2_re, y_train2_re = sampler.fit_resample(X_train2, y_train2)\n",
    "\n",
    "# Divide em train_re e val_re\n",
    "X_train2_re, X_val2_re, y_train2_re, y_val2_re = train_test_split(X_train2_re, y_train2_re, test_size=0.2, random_state=13)\n"
   ]
  },
  {
   "cell_type": "code",
   "execution_count": 32,
   "metadata": {
    "collapsed": false,
    "ExecuteTime": {
     "end_time": "2023-12-23T22:42:25.001476100Z",
     "start_time": "2023-12-23T22:42:24.988083Z"
    }
   },
   "outputs": [],
   "source": [
    "# Só com o indice dos dominiosdo WHOQOL, concatenar base1 com final da base2\n",
    "data3 = pd.concat([data1, base2.loc[:,['CR','CS','CT','CU']]], axis=1)\n",
    "target3 = base2['Nivel_MHI']\n",
    "target3 = le.fit_transform(target3)\n",
    "\n",
    "# Dividir os dados em treino e teste\n",
    "X_train3, X_test3, y_train3, y_test3 = train_test_split(data3, target3, test_size=0.2, random_state=13)\n",
    "\n",
    "# Aplicando MaxAbsScaler\n",
    "scaler_data3 = StandardScaler()\n",
    "X_train3 = scaler_data3.fit_transform(X_train3)\n",
    "X_test3 = scaler_data3.transform(X_test3)\n",
    "X_train3 = pd.DataFrame(X_train3, columns=data3.columns)\n",
    "X_test3 = pd.DataFrame(X_test3, columns=data3.columns)\n",
    "\n",
    "# Realizar Random Under-Sampling no treino\n",
    "sampler = RandomUnderSampler(random_state=13)\n",
    "X_train3_re, y_train3_re = sampler.fit_resample(X_train3, y_train3)\n",
    "\n",
    "# Divide em train_re e val_re\n",
    "X_train3_re, X_val3_re, y_train3_re, y_val3_re = train_test_split(X_train3_re, y_train3_re, test_size=0.2, random_state=13)"
   ]
  },
  {
   "cell_type": "code",
   "execution_count": 47,
   "metadata": {
    "collapsed": false,
    "ExecuteTime": {
     "end_time": "2023-12-23T22:52:00.644071200Z",
     "start_time": "2023-12-23T22:52:00.629336Z"
    }
   },
   "outputs": [],
   "source": [
    "# Só com a qualidade de vida do WHOQOL\n",
    "data4 = pd.concat([data1, base2['BR']], axis=1)\n",
    "target4 = base2['Nivel_MHI']\n",
    "target4 = le.fit_transform(target4)\n",
    "\n",
    "# Dividir os dados em treino e teste\n",
    "X_train4, X_test4, y_train4, y_test4 = train_test_split(data4, target4, test_size=0.2, random_state=13)\n",
    "\n",
    "# Aplicando MaxAbsScaler\n",
    "scaler_data4 = StandardScaler()\n",
    "X_train4 = scaler_data4.fit_transform(X_train4)\n",
    "X_test4 = scaler_data4.transform(X_test4)\n",
    "X_train4 = pd.DataFrame(X_train4, columns=data4.columns)\n",
    "X_test4 = pd.DataFrame(X_test4, columns=data4.columns)\n",
    "\n",
    "sampler = RandomUnderSampler(random_state=13)\n",
    "X_train4_re, y_train4_re = sampler.fit_resample(X_train4, y_train4)\n",
    "\n",
    "# Divide em train_re e val_re\n",
    "X_train4_re, X_val4_re, y_train4_re, y_val4_re = train_test_split(X_train4_re, y_train4_re, test_size=0.2, random_state=13)"
   ]
  },
  {
   "cell_type": "code",
   "outputs": [],
   "source": [
    "# Qualidade de Vida Geral ( Media das duas primeiras questões do WHOQOL)\n",
    "# Pegar a média das duas primeiras colunas da base2, pelo indice\n",
    "data5 = pd.concat([data1, base2.loc[:,['BR','BS']].mean(axis=1)], axis=1)\n",
    "target5 = base2['Nivel_MHI']\n",
    "target5 = le.fit_transform(target5)\n",
    "\n",
    "#Remover strings das colunas\n",
    "data5.columns = data5.columns.astype(str)\n",
    "\n",
    "# Dividir os dados em treino e teste\n",
    "X_train5, X_test5, y_train5, y_test5 = train_test_split(data5, target5, test_size=0.2, random_state=13)\n",
    "\n",
    "# Aplicando MaxAbsScaler\n",
    "scaler_data5 = StandardScaler()\n",
    "X_train5 = scaler_data5.fit_transform(X_train5)\n",
    "X_test5 = scaler_data5.transform(X_test5)\n",
    "\n",
    "X_train5 = pd.DataFrame(X_train5, columns=data5.columns)\n",
    "X_test5 = pd.DataFrame(X_test5, columns=data5.columns)\n",
    "\n",
    "# Realizar Random Under-Sampling no treino\n",
    "sampler = RandomUnderSampler(random_state=13)\n",
    "\n",
    "X_train5_re, y_train5_re = sampler.fit_resample(X_train5, y_train5)\n",
    "\n",
    "# Divide em train_re e val_re\n",
    "X_train5_re, X_val5_re, y_train5_re, y_val5_re = train_test_split(X_train5_re, y_train5_re, test_size=0.2, random_state=13)"
   ],
   "metadata": {
    "collapsed": false,
    "ExecuteTime": {
     "end_time": "2023-12-23T23:02:00.132249700Z",
     "start_time": "2023-12-23T23:02:00.088962Z"
    }
   },
   "execution_count": 67
  },
  {
   "cell_type": "code",
   "execution_count": 68,
   "metadata": {
    "collapsed": false,
    "ExecuteTime": {
     "end_time": "2023-12-23T23:02:16.089335800Z",
     "start_time": "2023-12-23T23:02:16.021151500Z"
    }
   },
   "outputs": [],
   "source": [
    "# Media de todos os dominios do WHOQOL\n",
    "data6 = pd.concat([data1, base2.loc[:,['CR','CS','CT','CU']].mean(axis=1)], axis=1)\n",
    "target6 = base2['Nivel_MHI']\n",
    "target6 = le.fit_transform(target6)\n",
    "\n",
    "data6.columns = data6.columns.astype(str)\n",
    "\n",
    "# Dividir os dados em treino e teste\n",
    "X_train6, X_test6, y_train6, y_test6 = train_test_split(data6, target6, test_size=0.2, random_state=13)\n",
    "\n",
    "# Aplicando MaxAbsScaler\n",
    "scaler_data6 = StandardScaler()\n",
    "X_train6 = scaler_data6.fit_transform(X_train6)\n",
    "X_test6 = scaler_data6.transform(X_test6)\n",
    "X_train6 = pd.DataFrame(X_train6, columns=data6.columns)\n",
    "X_test6 = pd.DataFrame(X_test6, columns=data6.columns)\n",
    "\n",
    "# Realizar Random Under-Sampling no treino\n",
    "sampler = RandomUnderSampler(random_state=13)\n",
    "\n",
    "# Como string\n",
    "X_train6.columns = X_train6.columns.astype(str)\n",
    "\n",
    "X_train6_re, y_train6_re = sampler.fit_resample(X_train6, y_train6)\n",
    "\n",
    "# Divide em train_re e val_re\n",
    "X_train6_re, X_val6_re, y_train6_re, y_val6_re = train_test_split(X_train6_re, y_train6_re, test_size=0.2, random_state=13)"
   ]
  },
  {
   "cell_type": "markdown",
   "metadata": {
    "collapsed": false
   },
   "source": [
    "## Analise exploratória dos dados\n",
    "- Ver numero de linhas e colunas de cada base, com e sem Random Under-Sampling. \n",
    "- Ver como ficou divisão de treino e teste.\n",
    "- Ver como ficou a divisão de treino e validação.\n",
    "- Ver como ficou a divisão de treino e teste com o Random Under-Sampling."
   ]
  },
  {
   "cell_type": "markdown",
   "metadata": {
    "collapsed": false
   },
   "source": [
    "### Verificando o tamanho das bases"
   ]
  },
  {
   "cell_type": "code",
   "execution_count": 69,
   "metadata": {
    "collapsed": false,
    "ExecuteTime": {
     "end_time": "2023-12-23T23:02:20.098829800Z",
     "start_time": "2023-12-23T23:02:20.089317Z"
    }
   },
   "outputs": [
    {
     "name": "stdout",
     "output_type": "stream",
     "text": [
      "Tamanho das bases:\n",
      "Base 1: (872, 54)\n",
      "Base 2: (872, 84)\n",
      "Base 3: (872, 58)\n",
      "Base 4: (872, 55)\n",
      "Base 5: (872, 55)\n",
      "Base 6: (872, 55)\n"
     ]
    }
   ],
   "source": [
    "# Verificando o tamanho das bases \n",
    "print(\"Tamanho das bases:\")\n",
    "print(f\"Base 1: {data1.shape}\")\n",
    "print(f\"Base 2: {data2.shape}\")\n",
    "print(f\"Base 3: {data3.shape}\")\n",
    "print(f\"Base 4: {data4.shape}\")\n",
    "print(f\"Base 5: {data5.shape}\")\n",
    "print(f\"Base 6: {data6.shape}\")\n"
   ]
  },
  {
   "cell_type": "code",
   "execution_count": 70,
   "metadata": {
    "collapsed": false,
    "ExecuteTime": {
     "end_time": "2023-12-23T23:02:20.566190700Z",
     "start_time": "2023-12-23T23:02:20.554676Z"
    }
   },
   "outputs": [
    {
     "name": "stdout",
     "output_type": "stream",
     "text": [
      "Tamanho das bases de treino e teste:\n",
      "Base 1: (697, 54), (175, 54)\n",
      "Base 2: (697, 84), (175, 84)\n",
      "Base 3: (697, 58), (175, 58)\n",
      "Base 4: (697, 55), (175, 55)\n",
      "Base 5: (697, 55), (175, 55)\n",
      "Base 6: (697, 55), (175, 55)\n"
     ]
    }
   ],
   "source": [
    "# Verificando o tamanho das bases de treino e teste\n",
    "print(\"Tamanho das bases de treino e teste:\")\n",
    "print(f\"Base 1: {X_train1.shape}, {X_test1.shape}\")\n",
    "print(f\"Base 2: {X_train2.shape}, {X_test2.shape}\")\n",
    "print(f\"Base 3: {X_train3.shape}, {X_test3.shape}\")\n",
    "print(f\"Base 4: {X_train4.shape}, {X_test4.shape}\")\n",
    "print(f\"Base 5: {X_train5.shape}, {X_test5.shape}\")\n",
    "print(f\"Base 6: {X_train6.shape}, {X_test6.shape}\")"
   ]
  },
  {
   "cell_type": "code",
   "execution_count": 71,
   "metadata": {
    "collapsed": false,
    "ExecuteTime": {
     "end_time": "2023-12-23T23:02:20.754520500Z",
     "start_time": "2023-12-23T23:02:20.749986700Z"
    }
   },
   "outputs": [
    {
     "name": "stdout",
     "output_type": "stream",
     "text": [
      "Tamanho das bases com Random Under-Sampling:\n",
      "Base 1: Treino (285, 54) (285,) | Teste: (175, 54) (175,)\n",
      "Base 2: Treino (285, 84) (285,) | Teste: (175, 84) (175,)\n",
      "Base 3: Treino (285, 58) (285,) | Teste: (175, 58) (175,)\n",
      "Base 4: Treino (285, 55) (285,) | Teste: (175, 55) (175,)\n",
      "Base 5: Treino (285, 55) (285,) | Teste: (175, 55) (175,)\n",
      "Base 6: Treino (285, 55) (285,) | Teste: (175, 55) (175,)\n"
     ]
    }
   ],
   "source": [
    "# Verificando o tamanho das bases com Random Under-Sampling\n",
    "print(\"Tamanho das bases com Random Under-Sampling:\")\n",
    "print(f\"Base 1: Treino {X_train1_re.shape} {y_train1_re.shape} | Teste: {X_test1.shape} {y_test1.shape}\")\n",
    "print(f\"Base 2: Treino {X_train2_re.shape} {y_train2_re.shape} | Teste: {X_test2.shape} {y_test2.shape}\")\n",
    "print(f\"Base 3: Treino {X_train3_re.shape} {y_train3_re.shape} | Teste: {X_test3.shape} {y_test3.shape}\")\n",
    "print(f\"Base 4: Treino {X_train4_re.shape} {y_train4_re.shape} | Teste: {X_test4.shape} {y_test4.shape}\")\n",
    "print(f\"Base 5: Treino {X_train5_re.shape} {y_train5_re.shape} | Teste: {X_test5.shape} {y_test5.shape}\")\n",
    "print(f\"Base 6: Treino {X_train6_re.shape} {y_train6_re.shape} | Teste: {X_test6.shape} {y_test6.shape}\")"
   ]
  },
  {
   "cell_type": "markdown",
   "metadata": {
    "collapsed": false
   },
   "source": [
    "### Verificando a distribuição das classes"
   ]
  },
  {
   "cell_type": "code",
   "execution_count": 72,
   "metadata": {
    "collapsed": false,
    "ExecuteTime": {
     "end_time": "2023-12-23T23:02:20.993939400Z",
     "start_time": "2023-12-23T23:02:20.981764Z"
    }
   },
   "outputs": [
    {
     "name": "stdout",
     "output_type": "stream",
     "text": [
      "Distribuição das classes:\n",
      "Base 1: (array([0, 1, 2]), array([149, 149, 574], dtype=int64))\n",
      "Base 2: (array([0, 1, 2]), array([149, 149, 574], dtype=int64))\n",
      "Base 3: (array([0, 1, 2]), array([149, 149, 574], dtype=int64))\n",
      "Base 4: (array([0, 1, 2]), array([149, 149, 574], dtype=int64))\n",
      "Base 5: (array([0, 1, 2]), array([149, 149, 574], dtype=int64))\n",
      "Base 6: (array([0, 1, 2]), array([149, 149, 574], dtype=int64))\n"
     ]
    }
   ],
   "source": [
    "# Verificando a distribuição das classes\n",
    "print(\"Distribuição das classes:\")\n",
    "print(f\"Base 1: {np.unique(target1, return_counts=True)}\")\n",
    "print(f\"Base 2: {np.unique(target2, return_counts=True)}\")\n",
    "print(f\"Base 3: {np.unique(target3, return_counts=True)}\")\n",
    "print(f\"Base 4: {np.unique(target4, return_counts=True)}\")\n",
    "print(f\"Base 5: {np.unique(target5, return_counts=True)}\")\n",
    "print(f\"Base 6: {np.unique(target6, return_counts=True)}\")"
   ]
  },
  {
   "cell_type": "code",
   "execution_count": 73,
   "metadata": {
    "collapsed": false,
    "ExecuteTime": {
     "end_time": "2023-12-23T23:02:21.188558100Z",
     "start_time": "2023-12-23T23:02:21.181306700Z"
    }
   },
   "outputs": [
    {
     "name": "stdout",
     "output_type": "stream",
     "text": [
      "Distribuição das classes com Random Under-Sampling:\n",
      "Base 1: (array([0, 1, 2]), array([92, 96, 97], dtype=int64))\n",
      "Base 2: (array([0, 1, 2]), array([92, 96, 97], dtype=int64))\n",
      "Base 3: (array([0, 1, 2]), array([92, 96, 97], dtype=int64))\n",
      "Base 4: (array([0, 1, 2]), array([92, 96, 97], dtype=int64))\n",
      "Base 5: (array([0, 1, 2]), array([92, 96, 97], dtype=int64))\n",
      "Base 6: (array([0, 1, 2]), array([92, 96, 97], dtype=int64))\n"
     ]
    }
   ],
   "source": [
    "# Verificando a distribuição das classes com Random Under-Sampling\n",
    "print(\"Distribuição das classes com Random Under-Sampling:\")\n",
    "print(f\"Base 1: {np.unique(y_train1_re, return_counts=True)}\")\n",
    "print(f\"Base 2: {np.unique(y_train2_re, return_counts=True)}\")\n",
    "print(f\"Base 3: {np.unique(y_train3_re, return_counts=True)}\")\n",
    "print(f\"Base 4: {np.unique(y_train4_re, return_counts=True)}\")\n",
    "print(f\"Base 5: {np.unique(y_train5_re, return_counts=True)}\")\n",
    "print(f\"Base 6: {np.unique(y_train6_re, return_counts=True)}\")"
   ]
  },
  {
   "cell_type": "markdown",
   "metadata": {
    "collapsed": false
   },
   "source": [
    "## Avaliando modelos sem Under-Sampling"
   ]
  },
  {
   "cell_type": "code",
   "execution_count": 74,
   "metadata": {
    "collapsed": false,
    "ExecuteTime": {
     "end_time": "2023-12-23T23:02:26.892619200Z",
     "start_time": "2023-12-23T23:02:21.391909500Z"
    }
   },
   "outputs": [
    {
     "name": "stdout",
     "output_type": "stream",
     "text": [
      "---------------------------------------------\n",
      "model_name:  DummyClassifier\n",
      "Average Classification Report:\n",
      "              precision    recall  f1-score   support\n",
      "\n",
      "           0       0.00      0.00      0.00       119\n",
      "           1       0.00      0.00      0.00       119\n",
      "           2       0.66      1.00      0.79       459\n",
      "\n",
      "    accuracy                           0.66       697\n",
      "   macro avg       0.22      0.33      0.26       697\n",
      "weighted avg       0.43      0.66      0.52       697\n",
      "---------------------------------------------\n",
      "model_name:  RandomForestClassifier\n",
      "Average Classification Report:\n",
      "              precision    recall  f1-score   support\n",
      "\n",
      "           0       0.50      0.05      0.09       119\n",
      "           1       0.44      0.06      0.10       119\n",
      "           2       0.67      0.97      0.79       459\n",
      "\n",
      "    accuracy                           0.66       697\n",
      "   macro avg       0.53      0.36      0.33       697\n",
      "weighted avg       0.60      0.66      0.55       697\n",
      "\n",
      "---------------------------------------------\n",
      "model_name:  SVC\n",
      "Average Classification Report:\n",
      "              precision    recall  f1-score   support\n",
      "\n",
      "           0       0.33      0.01      0.02       119\n",
      "           1       0.00      0.00      0.00       119\n",
      "           2       0.66      0.99      0.79       459\n",
      "\n",
      "    accuracy                           0.66       697\n",
      "   macro avg       0.33      0.33      0.27       697\n",
      "weighted avg       0.49      0.66      0.52       697\n",
      "---------------------------------------------\n",
      "model_name:  MLPClassifier\n",
      "Average Classification Report:\n",
      "              precision    recall  f1-score   support\n",
      "\n",
      "           0       0.27      0.18      0.21       119\n",
      "           1       0.30      0.24      0.27       119\n",
      "           2       0.66      0.75      0.70       459\n",
      "\n",
      "    accuracy                           0.57       697\n",
      "   macro avg       0.41      0.39      0.39       697\n",
      "weighted avg       0.53      0.57      0.54       697\n",
      "---------------------------------------------\n",
      "model_name:  XGBClassifier\n",
      "Average Classification Report:\n",
      "              precision    recall  f1-score   support\n",
      "\n",
      "           0       0.30      0.13      0.18       119\n",
      "           1       0.38      0.22      0.28       119\n",
      "           2       0.66      0.84      0.74       459\n",
      "\n",
      "    accuracy                           0.61       697\n",
      "   macro avg       0.45      0.39      0.40       697\n",
      "weighted avg       0.55      0.61      0.57       697\n",
      "\n",
      "---------------------------------------------\n",
      "model_name:  KNeighborsClassifier\n",
      "Average Classification Report:\n",
      "              precision    recall  f1-score   support\n",
      "\n",
      "           0       0.33      0.18      0.23       119\n",
      "           1       0.15      0.06      0.08       119\n",
      "           2       0.66      0.84      0.74       459\n",
      "\n",
      "    accuracy                           0.59       697\n",
      "   macro avg       0.38      0.36      0.35       697\n",
      "weighted avg       0.52      0.59      0.54       697\n",
      "---------------------------------------------\n",
      "model_name:  AdaBoostClassifier\n",
      "Average Classification Report:\n",
      "              precision    recall  f1-score   support\n",
      "\n",
      "           0       0.26      0.18      0.21       119\n",
      "           1       0.41      0.29      0.34       119\n",
      "           2       0.67      0.76      0.71       459\n",
      "\n",
      "    accuracy                           0.58       697\n",
      "   macro avg       0.44      0.41      0.42       697\n",
      "weighted avg       0.55      0.58      0.56       697\n",
      "\n",
      "---------------------------------------------\n",
      "model_name:  GaussianNB\n",
      "Average Classification Report:\n",
      "              precision    recall  f1-score   support\n",
      "\n",
      "           0       0.17      0.71      0.28       119\n",
      "           1       0.16      0.26      0.20       119\n",
      "           2       0.40      0.01      0.03       459\n",
      "\n",
      "    accuracy                           0.17       697\n",
      "   macro avg       0.24      0.33      0.17       697\n",
      "weighted avg       0.32      0.17      0.10       697\n",
      "\n",
      "---------------------------------------------\n",
      "model_name:  LogisticRegression\n",
      "Average Classification Report:\n",
      "              precision    recall  f1-score   support\n",
      "\n",
      "           0       0.32      0.11      0.16       119\n",
      "           1       0.38      0.23      0.28       119\n",
      "           2       0.66      0.85      0.75       459\n",
      "\n",
      "    accuracy                           0.62       697\n",
      "   macro avg       0.45      0.39      0.40       697\n",
      "weighted avg       0.56      0.62      0.57       697\n",
      "\n",
      "---------------------------------------------\n",
      "model_name:  DecisionTreeClassifier\n",
      "Average Classification Report:\n",
      "              precision    recall  f1-score   support\n",
      "\n",
      "           0       0.24      0.27      0.25       119\n",
      "           1       0.25      0.24      0.25       119\n",
      "           2       0.66      0.64      0.65       459\n",
      "\n",
      "    accuracy                           0.51       697\n",
      "   macro avg       0.38      0.38      0.38       697\n",
      "weighted avg       0.52      0.51      0.51       697\n"
     ]
    },
    {
     "data": {
      "text/plain": "<Figure size 640x480 with 1 Axes>",
      "image/png": "[encoded data removed]"
     },
     "metadata": {},
     "output_type": "display_data"
    },
    {
     "data": {
      "text/plain": "  Modelo  Acurácia\n0  Dummy  0.658537\n1     RF  0.657102\n2    SVM  0.655667\n8     LR  0.615495\n4    XGB  0.609756\n5    KNN  0.593974\n6    ADA  0.583931\n3    MLP  0.565280\n9     DT  0.509326\n7    NVB  0.173601",
      "text/html": "<div>\n<style scoped>\n    .dataframe tbody tr th:only-of-type {\n        vertical-align: middle;\n    }\n\n    .dataframe tbody tr th {\n        vertical-align: top;\n    }\n\n    .dataframe thead th {\n        text-align: right;\n    }\n</style>\n<table border=\"1\" class=\"dataframe\">\n  <thead>\n    <tr style=\"text-align: right;\">\n      <th></th>\n      <th>Modelo</th>\n      <th>Acurácia</th>\n    </tr>\n  </thead>\n  <tbody>\n    <tr>\n      <th>0</th>\n      <td>Dummy</td>\n      <td>0.658537</td>\n    </tr>\n    <tr>\n      <th>1</th>\n      <td>RF</td>\n      <td>0.657102</td>\n    </tr>\n    <tr>\n      <th>2</th>\n      <td>SVM</td>\n      <td>0.655667</td>\n    </tr>\n    <tr>\n      <th>8</th>\n      <td>LR</td>\n      <td>0.615495</td>\n    </tr>\n    <tr>\n      <th>4</th>\n      <td>XGB</td>\n      <td>0.609756</td>\n    </tr>\n    <tr>\n      <th>5</th>\n      <td>KNN</td>\n      <td>0.593974</td>\n    </tr>\n    <tr>\n      <th>6</th>\n      <td>ADA</td>\n      <td>0.583931</td>\n    </tr>\n    <tr>\n      <th>3</th>\n      <td>MLP</td>\n      <td>0.565280</td>\n    </tr>\n    <tr>\n      <th>9</th>\n      <td>DT</td>\n      <td>0.509326</td>\n    </tr>\n    <tr>\n      <th>7</th>\n      <td>NVB</td>\n      <td>0.173601</td>\n    </tr>\n  </tbody>\n</table>\n</div>"
     },
     "execution_count": 74,
     "metadata": {},
     "output_type": "execute_result"
    }
   ],
   "source": [
    "avalia_dif_modelos_cv(X_train1, y_train1, 5)"
   ]
  },
  {
   "cell_type": "code",
   "execution_count": 75,
   "metadata": {
    "collapsed": false,
    "ExecuteTime": {
     "end_time": "2023-12-23T23:02:31.895345700Z",
     "start_time": "2023-12-23T23:02:26.889616300Z"
    }
   },
   "outputs": [
    {
     "name": "stdout",
     "output_type": "stream",
     "text": [
      "---------------------------------------------\n",
      "model_name:  DummyClassifier\n",
      "Average Classification Report:\n",
      "              precision    recall  f1-score   support\n",
      "\n",
      "           0       0.00      0.00      0.00       119\n",
      "           1       0.00      0.00      0.00       119\n",
      "           2       0.66      1.00      0.79       459\n",
      "\n",
      "    accuracy                           0.66       697\n",
      "   macro avg       0.22      0.33      0.26       697\n",
      "weighted avg       0.43      0.66      0.52       697\n",
      "---------------------------------------------\n",
      "model_name:  RandomForestClassifier\n",
      "Average Classification Report:\n",
      "              precision    recall  f1-score   support\n",
      "\n",
      "           0       0.70      0.39      0.51       119\n",
      "           1       0.79      0.58      0.67       119\n",
      "           2       0.78      0.92      0.84       459\n",
      "\n",
      "    accuracy                           0.77       697\n",
      "   macro avg       0.76      0.63      0.67       697\n",
      "weighted avg       0.77      0.77      0.75       697\n",
      "\n",
      "---------------------------------------------\n",
      "model_name:  SVC\n",
      "Average Classification Report:\n",
      "              precision    recall  f1-score   support\n",
      "\n",
      "           0       0.73      0.30      0.43       119\n",
      "           1       0.75      0.55      0.63       119\n",
      "           2       0.76      0.92      0.83       459\n",
      "\n",
      "    accuracy                           0.75       697\n",
      "   macro avg       0.75      0.59      0.63       697\n",
      "weighted avg       0.75      0.75      0.73       697\n",
      "---------------------------------------------\n",
      "model_name:  MLPClassifier\n",
      "Average Classification Report:\n",
      "              precision    recall  f1-score   support\n",
      "\n",
      "           0       0.56      0.43      0.49       119\n",
      "           1       0.66      0.59      0.62       119\n",
      "           2       0.77      0.83      0.80       459\n",
      "\n",
      "    accuracy                           0.72       697\n",
      "   macro avg       0.66      0.62      0.64       697\n",
      "weighted avg       0.71      0.72      0.72       697\n",
      "---------------------------------------------\n",
      "model_name:  XGBClassifier\n",
      "Average Classification Report:\n",
      "              precision    recall  f1-score   support\n",
      "\n",
      "           0       0.65      0.48      0.55       119\n",
      "           1       0.75      0.66      0.71       119\n",
      "           2       0.80      0.88      0.83       459\n",
      "\n",
      "    accuracy                           0.77       697\n",
      "   macro avg       0.73      0.67      0.70       697\n",
      "weighted avg       0.76      0.77      0.76       697\n",
      "\n",
      "---------------------------------------------\n",
      "model_name:  KNeighborsClassifier\n",
      "Average Classification Report:\n",
      "              precision    recall  f1-score   support\n",
      "\n",
      "           0       0.55      0.34      0.42       119\n",
      "           1       0.66      0.34      0.44       119\n",
      "           2       0.72      0.88      0.79       459\n",
      "\n",
      "    accuracy                           0.70       697\n",
      "   macro avg       0.64      0.52      0.55       697\n",
      "weighted avg       0.68      0.70      0.67       697\n",
      "---------------------------------------------\n",
      "model_name:  AdaBoostClassifier\n",
      "Average Classification Report:\n",
      "              precision    recall  f1-score   support\n",
      "\n",
      "           0       0.40      0.66      0.50       119\n",
      "           1       0.63      0.68      0.65       119\n",
      "           2       0.79      0.63      0.70       459\n",
      "\n",
      "    accuracy                           0.65       697\n",
      "   macro avg       0.60      0.66      0.62       697\n",
      "weighted avg       0.69      0.65      0.66       697\n",
      "\n",
      "---------------------------------------------\n",
      "model_name:  GaussianNB\n",
      "Average Classification Report:\n",
      "              precision    recall  f1-score   support\n",
      "\n",
      "           0       0.29      0.87      0.43       119\n",
      "           1       0.40      0.82      0.54       119\n",
      "           2       0.77      0.15      0.25       459\n",
      "\n",
      "    accuracy                           0.39       697\n",
      "   macro avg       0.48      0.61      0.41       697\n",
      "weighted avg       0.62      0.39      0.33       697\n",
      "\n",
      "---------------------------------------------\n",
      "model_name:  LogisticRegression\n",
      "Average Classification Report:\n",
      "              precision    recall  f1-score   support\n",
      "\n",
      "           0       0.56      0.50      0.53       119\n",
      "           1       0.64      0.62      0.63       119\n",
      "           2       0.78      0.80      0.79       459\n",
      "\n",
      "    accuracy                           0.72       697\n",
      "   macro avg       0.66      0.64      0.65       697\n",
      "weighted avg       0.72      0.72      0.72       697\n",
      "\n",
      "---------------------------------------------\n",
      "model_name:  DecisionTreeClassifier\n",
      "Average Classification Report:\n",
      "              precision    recall  f1-score   support\n",
      "\n",
      "           0       0.45      0.45      0.45       119\n",
      "           1       0.58      0.61      0.60       119\n",
      "           2       0.76      0.75      0.76       459\n",
      "\n",
      "    accuracy                           0.68       697\n",
      "   macro avg       0.60      0.60      0.60       697\n",
      "weighted avg       0.68      0.68      0.68       697\n"
     ]
    },
    {
     "data": {
      "text/plain": "<Figure size 640x480 with 1 Axes>",
      "image/png": "[encoded data removed]"
     },
     "metadata": {},
     "output_type": "display_data"
    },
    {
     "data": {
      "text/plain": "  Modelo  Acurácia\n4    XGB  0.771879\n1     RF  0.770445\n2    SVM  0.753228\n3    MLP  0.723099\n8     LR  0.721664\n5    KNN  0.695839\n9     DT  0.677188\n0  Dummy  0.658537\n6    ADA  0.647059\n7    NVB  0.387374",
      "text/html": "<div>\n<style scoped>\n    .dataframe tbody tr th:only-of-type {\n        vertical-align: middle;\n    }\n\n    .dataframe tbody tr th {\n        vertical-align: top;\n    }\n\n    .dataframe thead th {\n        text-align: right;\n    }\n</style>\n<table border=\"1\" class=\"dataframe\">\n  <thead>\n    <tr style=\"text-align: right;\">\n      <th></th>\n      <th>Modelo</th>\n      <th>Acurácia</th>\n    </tr>\n  </thead>\n  <tbody>\n    <tr>\n      <th>4</th>\n      <td>XGB</td>\n      <td>0.771879</td>\n    </tr>\n    <tr>\n      <th>1</th>\n      <td>RF</td>\n      <td>0.770445</td>\n    </tr>\n    <tr>\n      <th>2</th>\n      <td>SVM</td>\n      <td>0.753228</td>\n    </tr>\n    <tr>\n      <th>3</th>\n      <td>MLP</td>\n      <td>0.723099</td>\n    </tr>\n    <tr>\n      <th>8</th>\n      <td>LR</td>\n      <td>0.721664</td>\n    </tr>\n    <tr>\n      <th>5</th>\n      <td>KNN</td>\n      <td>0.695839</td>\n    </tr>\n    <tr>\n      <th>9</th>\n      <td>DT</td>\n      <td>0.677188</td>\n    </tr>\n    <tr>\n      <th>0</th>\n      <td>Dummy</td>\n      <td>0.658537</td>\n    </tr>\n    <tr>\n      <th>6</th>\n      <td>ADA</td>\n      <td>0.647059</td>\n    </tr>\n    <tr>\n      <th>7</th>\n      <td>NVB</td>\n      <td>0.387374</td>\n    </tr>\n  </tbody>\n</table>\n</div>"
     },
     "execution_count": 75,
     "metadata": {},
     "output_type": "execute_result"
    }
   ],
   "source": [
    "avalia_dif_modelos_cv(X_train2, y_train2, 5)"
   ]
  },
  {
   "cell_type": "code",
   "execution_count": 76,
   "metadata": {
    "collapsed": false,
    "ExecuteTime": {
     "end_time": "2023-12-23T23:02:37.331080Z",
     "start_time": "2023-12-23T23:02:31.895345700Z"
    }
   },
   "outputs": [
    {
     "name": "stdout",
     "output_type": "stream",
     "text": [
      "---------------------------------------------\n",
      "model_name:  DummyClassifier\n",
      "Average Classification Report:\n",
      "              precision    recall  f1-score   support\n",
      "\n",
      "           0       0.00      0.00      0.00       119\n",
      "           1       0.00      0.00      0.00       119\n",
      "           2       0.66      1.00      0.79       459\n",
      "\n",
      "    accuracy                           0.66       697\n",
      "   macro avg       0.22      0.33      0.26       697\n",
      "weighted avg       0.43      0.66      0.52       697\n",
      "---------------------------------------------\n",
      "model_name:  RandomForestClassifier\n",
      "Average Classification Report:\n",
      "              precision    recall  f1-score   support\n",
      "\n",
      "           0       0.70      0.38      0.49       119\n",
      "           1       0.84      0.50      0.62       119\n",
      "           2       0.76      0.93      0.84       459\n",
      "\n",
      "    accuracy                           0.76       697\n",
      "   macro avg       0.77      0.60      0.65       697\n",
      "weighted avg       0.77      0.76      0.74       697\n",
      "\n",
      "---------------------------------------------\n",
      "model_name:  SVC\n",
      "Average Classification Report:\n",
      "              precision    recall  f1-score   support\n",
      "\n",
      "           0       0.67      0.15      0.25       119\n",
      "           1       0.67      0.25      0.37       119\n",
      "           2       0.70      0.95      0.80       459\n",
      "\n",
      "    accuracy                           0.69       697\n",
      "   macro avg       0.68      0.45      0.47       697\n",
      "weighted avg       0.69      0.69      0.63       697\n",
      "---------------------------------------------\n",
      "model_name:  MLPClassifier\n",
      "Average Classification Report:\n",
      "              precision    recall  f1-score   support\n",
      "\n",
      "           0       0.59      0.43      0.50       119\n",
      "           1       0.58      0.50      0.54       119\n",
      "           2       0.75      0.83      0.79       459\n",
      "\n",
      "    accuracy                           0.70       697\n",
      "   macro avg       0.64      0.58      0.61       697\n",
      "weighted avg       0.69      0.70      0.69       697\n",
      "---------------------------------------------\n",
      "model_name:  XGBClassifier\n",
      "Average Classification Report:\n",
      "              precision    recall  f1-score   support\n",
      "\n",
      "           0       0.53      0.41      0.46       119\n",
      "           1       0.72      0.63      0.67       119\n",
      "           2       0.77      0.84      0.81       459\n",
      "\n",
      "    accuracy                           0.73       697\n",
      "   macro avg       0.68      0.63      0.65       697\n",
      "weighted avg       0.72      0.73      0.73       697\n",
      "\n",
      "---------------------------------------------\n",
      "model_name:  KNeighborsClassifier\n",
      "Average Classification Report:\n",
      "              precision    recall  f1-score   support\n",
      "\n",
      "           0       0.42      0.19      0.26       119\n",
      "           1       0.44      0.18      0.25       119\n",
      "           2       0.68      0.88      0.77       459\n",
      "\n",
      "    accuracy                           0.64       697\n",
      "   macro avg       0.51      0.42      0.43       697\n",
      "weighted avg       0.59      0.64      0.59       697\n",
      "---------------------------------------------\n",
      "model_name:  AdaBoostClassifier\n",
      "Average Classification Report:\n",
      "              precision    recall  f1-score   support\n",
      "\n",
      "           0       0.38      0.57      0.46       119\n",
      "           1       0.59      0.58      0.59       119\n",
      "           2       0.76      0.67      0.71       459\n",
      "\n",
      "    accuracy                           0.64       697\n",
      "   macro avg       0.58      0.61      0.59       697\n",
      "weighted avg       0.67      0.64      0.65       697\n",
      "\n",
      "---------------------------------------------\n",
      "model_name:  GaussianNB\n",
      "Average Classification Report:\n",
      "              precision    recall  f1-score   support\n",
      "\n",
      "           0       0.23      0.86      0.37       119\n",
      "           1       0.29      0.55      0.38       119\n",
      "           2       0.38      0.02      0.05       459\n",
      "\n",
      "    accuracy                           0.26       697\n",
      "   macro avg       0.30      0.48      0.26       697\n",
      "weighted avg       0.34      0.26      0.16       697\n",
      "---------------------------------------------\n",
      "model_name:  LogisticRegression\n",
      "Average Classification Report:\n",
      "              precision    recall  f1-score   support\n",
      "\n",
      "           0       0.60      0.44      0.50       119\n",
      "           1       0.66      0.55      0.60       119\n",
      "           2       0.77      0.85      0.81       459\n",
      "\n",
      "    accuracy                           0.73       697\n",
      "   macro avg       0.67      0.61      0.64       697\n",
      "weighted avg       0.72      0.73      0.72       697\n",
      "\n",
      "---------------------------------------------\n",
      "model_name:  DecisionTreeClassifier\n",
      "Average Classification Report:\n",
      "              precision    recall  f1-score   support\n",
      "\n",
      "           0       0.45      0.50      0.48       119\n",
      "           1       0.55      0.58      0.56       119\n",
      "           2       0.76      0.72      0.74       459\n",
      "\n",
      "    accuracy                           0.66       697\n",
      "   macro avg       0.59      0.60      0.59       697\n",
      "weighted avg       0.67      0.66      0.66       697\n"
     ]
    },
    {
     "data": {
      "text/plain": "<Figure size 640x480 with 1 Axes>",
      "image/png": "[encoded data removed]"
     },
     "metadata": {},
     "output_type": "display_data"
    },
    {
     "data": {
      "text/plain": "  Modelo  Acurácia\n1     RF  0.764706\n4    XGB  0.733142\n8     LR  0.730273\n3    MLP  0.704448\n2    SVM  0.692970\n9     DT  0.661406\n0  Dummy  0.658537\n5    KNN  0.642755\n6    ADA  0.635581\n7    NVB  0.256815",
      "text/html": "<div>\n<style scoped>\n    .dataframe tbody tr th:only-of-type {\n        vertical-align: middle;\n    }\n\n    .dataframe tbody tr th {\n        vertical-align: top;\n    }\n\n    .dataframe thead th {\n        text-align: right;\n    }\n</style>\n<table border=\"1\" class=\"dataframe\">\n  <thead>\n    <tr style=\"text-align: right;\">\n      <th></th>\n      <th>Modelo</th>\n      <th>Acurácia</th>\n    </tr>\n  </thead>\n  <tbody>\n    <tr>\n      <th>1</th>\n      <td>RF</td>\n      <td>0.764706</td>\n    </tr>\n    <tr>\n      <th>4</th>\n      <td>XGB</td>\n      <td>0.733142</td>\n    </tr>\n    <tr>\n      <th>8</th>\n      <td>LR</td>\n      <td>0.730273</td>\n    </tr>\n    <tr>\n      <th>3</th>\n      <td>MLP</td>\n      <td>0.704448</td>\n    </tr>\n    <tr>\n      <th>2</th>\n      <td>SVM</td>\n      <td>0.692970</td>\n    </tr>\n    <tr>\n      <th>9</th>\n      <td>DT</td>\n      <td>0.661406</td>\n    </tr>\n    <tr>\n      <th>0</th>\n      <td>Dummy</td>\n      <td>0.658537</td>\n    </tr>\n    <tr>\n      <th>5</th>\n      <td>KNN</td>\n      <td>0.642755</td>\n    </tr>\n    <tr>\n      <th>6</th>\n      <td>ADA</td>\n      <td>0.635581</td>\n    </tr>\n    <tr>\n      <th>7</th>\n      <td>NVB</td>\n      <td>0.256815</td>\n    </tr>\n  </tbody>\n</table>\n</div>"
     },
     "execution_count": 76,
     "metadata": {},
     "output_type": "execute_result"
    }
   ],
   "source": [
    "avalia_dif_modelos_cv(X_train3, y_train3, 5)"
   ]
  },
  {
   "cell_type": "code",
   "execution_count": 77,
   "metadata": {
    "collapsed": false,
    "ExecuteTime": {
     "end_time": "2023-12-23T23:02:43.061237100Z",
     "start_time": "2023-12-23T23:02:37.325074300Z"
    }
   },
   "outputs": [
    {
     "name": "stdout",
     "output_type": "stream",
     "text": [
      "---------------------------------------------\n",
      "model_name:  DummyClassifier\n",
      "Average Classification Report:\n",
      "              precision    recall  f1-score   support\n",
      "\n",
      "           0       0.00      0.00      0.00       119\n",
      "           1       0.00      0.00      0.00       119\n",
      "           2       0.66      1.00      0.79       459\n",
      "\n",
      "    accuracy                           0.66       697\n",
      "   macro avg       0.22      0.33      0.26       697\n",
      "weighted avg       0.43      0.66      0.52       697\n",
      "---------------------------------------------\n",
      "model_name:  RandomForestClassifier\n",
      "Average Classification Report:\n",
      "              precision    recall  f1-score   support\n",
      "\n",
      "           0       0.64      0.08      0.14       119\n",
      "           1       0.56      0.15      0.24       119\n",
      "           2       0.68      0.96      0.79       459\n",
      "\n",
      "    accuracy                           0.67       697\n",
      "   macro avg       0.63      0.40      0.39       697\n",
      "weighted avg       0.65      0.67      0.59       697\n",
      "\n",
      "---------------------------------------------\n",
      "model_name:  SVC\n",
      "Average Classification Report:\n",
      "              precision    recall  f1-score   support\n",
      "\n",
      "           0       0.40      0.02      0.03       119\n",
      "           1       0.50      0.02      0.03       119\n",
      "           2       0.66      0.99      0.79       459\n",
      "\n",
      "    accuracy                           0.66       697\n",
      "   macro avg       0.52      0.34      0.29       697\n",
      "weighted avg       0.59      0.66      0.53       697\n",
      "---------------------------------------------\n",
      "model_name:  MLPClassifier\n",
      "Average Classification Report:\n",
      "              precision    recall  f1-score   support\n",
      "\n",
      "           0       0.35      0.24      0.29       119\n",
      "           1       0.41      0.34      0.38       119\n",
      "           2       0.68      0.77      0.72       459\n",
      "\n",
      "    accuracy                           0.61       697\n",
      "   macro avg       0.48      0.45      0.46       697\n",
      "weighted avg       0.58      0.61      0.59       697\n",
      "---------------------------------------------\n",
      "model_name:  XGBClassifier\n",
      "Average Classification Report:\n",
      "              precision    recall  f1-score   support\n",
      "\n",
      "           0       0.35      0.22      0.27       119\n",
      "           1       0.45      0.29      0.35       119\n",
      "           2       0.68      0.82      0.74       459\n",
      "\n",
      "    accuracy                           0.62       697\n",
      "   macro avg       0.50      0.44      0.45       697\n",
      "weighted avg       0.59      0.62      0.60       697\n",
      "\n",
      "---------------------------------------------\n",
      "model_name:  KNeighborsClassifier\n",
      "Average Classification Report:\n",
      "              precision    recall  f1-score   support\n",
      "\n",
      "           0       0.41      0.20      0.27       119\n",
      "           1       0.24      0.10      0.14       119\n",
      "           2       0.67      0.86      0.75       459\n",
      "\n",
      "    accuracy                           0.62       697\n",
      "   macro avg       0.44      0.39      0.39       697\n",
      "weighted avg       0.55      0.62      0.56       697\n",
      "---------------------------------------------\n",
      "model_name:  AdaBoostClassifier\n",
      "Average Classification Report:\n",
      "              precision    recall  f1-score   support\n",
      "\n",
      "           0       0.41      0.34      0.37       119\n",
      "           1       0.50      0.45      0.47       119\n",
      "           2       0.71      0.76      0.74       459\n",
      "\n",
      "    accuracy                           0.64       697\n",
      "   macro avg       0.54      0.52      0.53       697\n",
      "weighted avg       0.62      0.64      0.63       697\n",
      "\n",
      "---------------------------------------------\n",
      "model_name:  GaussianNB\n",
      "Average Classification Report:\n",
      "              precision    recall  f1-score   support\n",
      "\n",
      "           0       0.17      0.71      0.28       119\n",
      "           1       0.16      0.27      0.20       119\n",
      "           2       0.38      0.01      0.03       459\n",
      "\n",
      "    accuracy                           0.18       697\n",
      "   macro avg       0.24      0.33      0.17       697\n",
      "weighted avg       0.30      0.18      0.10       697\n",
      "\n",
      "---------------------------------------------\n",
      "model_name:  LogisticRegression\n",
      "Average Classification Report:\n",
      "              precision    recall  f1-score   support\n",
      "\n",
      "           0       0.41      0.20      0.27       119\n",
      "           1       0.46      0.30      0.36       119\n",
      "           2       0.69      0.84      0.75       459\n",
      "\n",
      "    accuracy                           0.64       697\n",
      "   macro avg       0.52      0.45      0.46       697\n",
      "weighted avg       0.60      0.64      0.60       697\n",
      "\n",
      "---------------------------------------------\n",
      "model_name:  DecisionTreeClassifier\n",
      "Average Classification Report:\n",
      "              precision    recall  f1-score   support\n",
      "\n",
      "           0       0.27      0.28      0.27       119\n",
      "           1       0.36      0.39      0.37       119\n",
      "           2       0.69      0.67      0.68       459\n",
      "\n",
      "    accuracy                           0.55       697\n",
      "   macro avg       0.44      0.44      0.44       697\n",
      "weighted avg       0.56      0.55      0.56       697\n"
     ]
    },
    {
     "data": {
      "text/plain": "<Figure size 640x480 with 1 Axes>",
      "image/png": "[encoded data removed]"
     },
     "metadata": {},
     "output_type": "display_data"
    },
    {
     "data": {
      "text/plain": "  Modelo  Acurácia\n1     RF  0.670014\n0  Dummy  0.658537\n2    SVM  0.657102\n8     LR  0.637016\n6    ADA  0.635581\n4    XGB  0.624103\n5    KNN  0.615495\n3    MLP  0.605452\n9     DT  0.552367\n7    NVB  0.175036",
      "text/html": "<div>\n<style scoped>\n    .dataframe tbody tr th:only-of-type {\n        vertical-align: middle;\n    }\n\n    .dataframe tbody tr th {\n        vertical-align: top;\n    }\n\n    .dataframe thead th {\n        text-align: right;\n    }\n</style>\n<table border=\"1\" class=\"dataframe\">\n  <thead>\n    <tr style=\"text-align: right;\">\n      <th></th>\n      <th>Modelo</th>\n      <th>Acurácia</th>\n    </tr>\n  </thead>\n  <tbody>\n    <tr>\n      <th>1</th>\n      <td>RF</td>\n      <td>0.670014</td>\n    </tr>\n    <tr>\n      <th>0</th>\n      <td>Dummy</td>\n      <td>0.658537</td>\n    </tr>\n    <tr>\n      <th>2</th>\n      <td>SVM</td>\n      <td>0.657102</td>\n    </tr>\n    <tr>\n      <th>8</th>\n      <td>LR</td>\n      <td>0.637016</td>\n    </tr>\n    <tr>\n      <th>6</th>\n      <td>ADA</td>\n      <td>0.635581</td>\n    </tr>\n    <tr>\n      <th>4</th>\n      <td>XGB</td>\n      <td>0.624103</td>\n    </tr>\n    <tr>\n      <th>5</th>\n      <td>KNN</td>\n      <td>0.615495</td>\n    </tr>\n    <tr>\n      <th>3</th>\n      <td>MLP</td>\n      <td>0.605452</td>\n    </tr>\n    <tr>\n      <th>9</th>\n      <td>DT</td>\n      <td>0.552367</td>\n    </tr>\n    <tr>\n      <th>7</th>\n      <td>NVB</td>\n      <td>0.175036</td>\n    </tr>\n  </tbody>\n</table>\n</div>"
     },
     "execution_count": 77,
     "metadata": {},
     "output_type": "execute_result"
    }
   ],
   "source": [
    "avalia_dif_modelos_cv(X_train4, y_train4, 5)"
   ]
  },
  {
   "cell_type": "code",
   "execution_count": 78,
   "metadata": {
    "collapsed": false,
    "ExecuteTime": {
     "end_time": "2023-12-23T23:02:48.179086100Z",
     "start_time": "2023-12-23T23:02:43.057114500Z"
    }
   },
   "outputs": [
    {
     "name": "stdout",
     "output_type": "stream",
     "text": [
      "---------------------------------------------\n",
      "model_name:  DummyClassifier\n",
      "Average Classification Report:\n",
      "              precision    recall  f1-score   support\n",
      "\n",
      "           0       0.00      0.00      0.00       119\n",
      "           1       0.00      0.00      0.00       119\n",
      "           2       0.66      1.00      0.79       459\n",
      "\n",
      "    accuracy                           0.66       697\n",
      "   macro avg       0.22      0.33      0.26       697\n",
      "weighted avg       0.43      0.66      0.52       697\n",
      "---------------------------------------------\n",
      "model_name:  RandomForestClassifier\n",
      "Average Classification Report:\n",
      "              precision    recall  f1-score   support\n",
      "\n",
      "           0       0.55      0.09      0.16       119\n",
      "           1       0.53      0.14      0.23       119\n",
      "           2       0.67      0.95      0.79       459\n",
      "\n",
      "    accuracy                           0.66       697\n",
      "   macro avg       0.59      0.39      0.39       697\n",
      "weighted avg       0.63      0.66      0.58       697\n",
      "\n",
      "---------------------------------------------\n",
      "model_name:  SVC\n",
      "Average Classification Report:\n",
      "              precision    recall  f1-score   support\n",
      "\n",
      "           0       0.40      0.02      0.03       119\n",
      "           1       0.44      0.03      0.06       119\n",
      "           2       0.66      0.98      0.79       459\n",
      "\n",
      "    accuracy                           0.66       697\n",
      "   macro avg       0.50      0.34      0.29       697\n",
      "weighted avg       0.58      0.66      0.54       697\n",
      "---------------------------------------------\n",
      "model_name:  MLPClassifier\n",
      "Average Classification Report:\n",
      "              precision    recall  f1-score   support\n",
      "\n",
      "           0       0.38      0.26      0.31       119\n",
      "           1       0.42      0.34      0.37       119\n",
      "           2       0.68      0.78      0.73       459\n",
      "\n",
      "    accuracy                           0.61       697\n",
      "   macro avg       0.49      0.46      0.47       697\n",
      "weighted avg       0.59      0.61      0.60       697\n",
      "---------------------------------------------\n",
      "model_name:  XGBClassifier\n",
      "Average Classification Report:\n",
      "              precision    recall  f1-score   support\n",
      "\n",
      "           0       0.36      0.24      0.29       119\n",
      "           1       0.46      0.30      0.37       119\n",
      "           2       0.68      0.80      0.74       459\n",
      "\n",
      "    accuracy                           0.62       697\n",
      "   macro avg       0.50      0.45      0.47       697\n",
      "weighted avg       0.59      0.62      0.60       697\n",
      "\n",
      "---------------------------------------------\n",
      "model_name:  KNeighborsClassifier\n",
      "Average Classification Report:\n",
      "              precision    recall  f1-score   support\n",
      "\n",
      "           0       0.34      0.16      0.22       119\n",
      "           1       0.24      0.10      0.14       119\n",
      "           2       0.66      0.85      0.75       459\n",
      "\n",
      "    accuracy                           0.61       697\n",
      "   macro avg       0.42      0.37      0.37       697\n",
      "weighted avg       0.54      0.61      0.55       697\n",
      "---------------------------------------------\n",
      "model_name:  AdaBoostClassifier\n",
      "Average Classification Report:\n",
      "              precision    recall  f1-score   support\n",
      "\n",
      "           0       0.37      0.40      0.38       119\n",
      "           1       0.52      0.50      0.51       119\n",
      "           2       0.72      0.71      0.71       459\n",
      "\n",
      "    accuracy                           0.62       697\n",
      "   macro avg       0.54      0.54      0.54       697\n",
      "weighted avg       0.62      0.62      0.62       697\n",
      "\n",
      "---------------------------------------------\n",
      "model_name:  GaussianNB\n",
      "Average Classification Report:\n",
      "              precision    recall  f1-score   support\n",
      "\n",
      "           0       0.18      0.71      0.28       119\n",
      "           1       0.17      0.29      0.22       119\n",
      "           2       0.38      0.01      0.03       459\n",
      "\n",
      "    accuracy                           0.18       697\n",
      "   macro avg       0.24      0.34      0.18       697\n",
      "weighted avg       0.31      0.18      0.10       697\n",
      "\n",
      "---------------------------------------------\n",
      "model_name:  LogisticRegression\n",
      "Average Classification Report:\n",
      "              precision    recall  f1-score   support\n",
      "\n",
      "           0       0.47      0.27      0.34       119\n",
      "           1       0.52      0.37      0.43       119\n",
      "           2       0.70      0.83      0.76       459\n",
      "\n",
      "    accuracy                           0.66       697\n",
      "   macro avg       0.56      0.49      0.51       697\n",
      "weighted avg       0.63      0.66      0.64       697\n",
      "\n",
      "---------------------------------------------\n",
      "model_name:  DecisionTreeClassifier\n",
      "Average Classification Report:\n",
      "              precision    recall  f1-score   support\n",
      "\n",
      "           0       0.31      0.34      0.32       119\n",
      "           1       0.33      0.34      0.34       119\n",
      "           2       0.70      0.67      0.68       459\n",
      "\n",
      "    accuracy                           0.56       697\n",
      "   macro avg       0.44      0.45      0.45       697\n",
      "weighted avg       0.57      0.56      0.56       697\n"
     ]
    },
    {
     "data": {
      "text/plain": "<Figure size 640x480 with 1 Axes>",
      "image/png": "[encoded data removed]"
     },
     "metadata": {},
     "output_type": "display_data"
    },
    {
     "data": {
      "text/plain": "  Modelo  Acurácia\n1     RF  0.664275\n0  Dummy  0.658537\n8     LR  0.658537\n2    SVM  0.655667\n4    XGB  0.622669\n6    ADA  0.619799\n3    MLP  0.612626\n5    KNN  0.606887\n9     DT  0.558106\n7    NVB  0.180775",
      "text/html": "<div>\n<style scoped>\n    .dataframe tbody tr th:only-of-type {\n        vertical-align: middle;\n    }\n\n    .dataframe tbody tr th {\n        vertical-align: top;\n    }\n\n    .dataframe thead th {\n        text-align: right;\n    }\n</style>\n<table border=\"1\" class=\"dataframe\">\n  <thead>\n    <tr style=\"text-align: right;\">\n      <th></th>\n      <th>Modelo</th>\n      <th>Acurácia</th>\n    </tr>\n  </thead>\n  <tbody>\n    <tr>\n      <th>1</th>\n      <td>RF</td>\n      <td>0.664275</td>\n    </tr>\n    <tr>\n      <th>0</th>\n      <td>Dummy</td>\n      <td>0.658537</td>\n    </tr>\n    <tr>\n      <th>8</th>\n      <td>LR</td>\n      <td>0.658537</td>\n    </tr>\n    <tr>\n      <th>2</th>\n      <td>SVM</td>\n      <td>0.655667</td>\n    </tr>\n    <tr>\n      <th>4</th>\n      <td>XGB</td>\n      <td>0.622669</td>\n    </tr>\n    <tr>\n      <th>6</th>\n      <td>ADA</td>\n      <td>0.619799</td>\n    </tr>\n    <tr>\n      <th>3</th>\n      <td>MLP</td>\n      <td>0.612626</td>\n    </tr>\n    <tr>\n      <th>5</th>\n      <td>KNN</td>\n      <td>0.606887</td>\n    </tr>\n    <tr>\n      <th>9</th>\n      <td>DT</td>\n      <td>0.558106</td>\n    </tr>\n    <tr>\n      <th>7</th>\n      <td>NVB</td>\n      <td>0.180775</td>\n    </tr>\n  </tbody>\n</table>\n</div>"
     },
     "execution_count": 78,
     "metadata": {},
     "output_type": "execute_result"
    }
   ],
   "source": [
    "avalia_dif_modelos_cv(X_train5, y_train5, 5)"
   ]
  },
  {
   "cell_type": "code",
   "execution_count": 79,
   "metadata": {
    "collapsed": false,
    "ExecuteTime": {
     "end_time": "2023-12-23T23:02:53.341439900Z",
     "start_time": "2023-12-23T23:02:48.155501800Z"
    }
   },
   "outputs": [
    {
     "name": "stdout",
     "output_type": "stream",
     "text": [
      "---------------------------------------------\n",
      "model_name:  DummyClassifier\n",
      "Average Classification Report:\n",
      "              precision    recall  f1-score   support\n",
      "\n",
      "           0       0.00      0.00      0.00       119\n",
      "           1       0.00      0.00      0.00       119\n",
      "           2       0.66      1.00      0.79       459\n",
      "\n",
      "    accuracy                           0.66       697\n",
      "   macro avg       0.22      0.33      0.26       697\n",
      "weighted avg       0.43      0.66      0.52       697\n",
      "---------------------------------------------\n",
      "model_name:  RandomForestClassifier\n",
      "Average Classification Report:\n",
      "              precision    recall  f1-score   support\n",
      "\n",
      "           0       0.74      0.24      0.37       119\n",
      "           1       0.72      0.26      0.38       119\n",
      "           2       0.71      0.95      0.81       459\n",
      "\n",
      "    accuracy                           0.71       697\n",
      "   macro avg       0.73      0.49      0.52       697\n",
      "weighted avg       0.72      0.71      0.66       697\n",
      "\n",
      "---------------------------------------------\n",
      "model_name:  SVC\n",
      "Average Classification Report:\n",
      "              precision    recall  f1-score   support\n",
      "\n",
      "           0       0.60      0.05      0.09       119\n",
      "           1       0.78      0.15      0.25       119\n",
      "           2       0.68      0.98      0.80       459\n",
      "\n",
      "    accuracy                           0.68       697\n",
      "   macro avg       0.69      0.39      0.38       697\n",
      "weighted avg       0.68      0.68      0.59       697\n",
      "---------------------------------------------\n",
      "model_name:  MLPClassifier\n",
      "Average Classification Report:\n",
      "              precision    recall  f1-score   support\n",
      "\n",
      "           0       0.50      0.38      0.43       119\n",
      "           1       0.55      0.45      0.49       119\n",
      "           2       0.73      0.81      0.76       459\n",
      "\n",
      "    accuracy                           0.67       697\n",
      "   macro avg       0.59      0.54      0.56       697\n",
      "weighted avg       0.66      0.67      0.66       697\n",
      "---------------------------------------------\n",
      "model_name:  XGBClassifier\n",
      "Average Classification Report:\n",
      "              precision    recall  f1-score   support\n",
      "\n",
      "           0       0.60      0.47      0.53       119\n",
      "           1       0.63      0.51      0.56       119\n",
      "           2       0.76      0.84      0.80       459\n",
      "\n",
      "    accuracy                           0.72       697\n",
      "   macro avg       0.66      0.61      0.63       697\n",
      "weighted avg       0.71      0.72      0.71       697\n",
      "\n",
      "---------------------------------------------\n",
      "model_name:  KNeighborsClassifier\n",
      "Average Classification Report:\n",
      "              precision    recall  f1-score   support\n",
      "\n",
      "           0       0.42      0.17      0.24       119\n",
      "           1       0.32      0.11      0.16       119\n",
      "           2       0.67      0.88      0.76       459\n",
      "\n",
      "    accuracy                           0.63       697\n",
      "   macro avg       0.47      0.39      0.39       697\n",
      "weighted avg       0.57      0.63      0.57       697\n",
      "---------------------------------------------\n",
      "model_name:  AdaBoostClassifier\n",
      "Average Classification Report:\n",
      "              precision    recall  f1-score   support\n",
      "\n",
      "           0       0.38      0.45      0.41       119\n",
      "           1       0.48      0.50      0.49       119\n",
      "           2       0.72      0.67      0.69       459\n",
      "\n",
      "    accuracy                           0.60       697\n",
      "   macro avg       0.52      0.54      0.53       697\n",
      "weighted avg       0.62      0.60      0.61       697\n",
      "\n",
      "---------------------------------------------\n",
      "model_name:  GaussianNB\n",
      "Average Classification Report:\n",
      "              precision    recall  f1-score   support\n",
      "\n",
      "           0       0.20      0.76      0.31       119\n",
      "           1       0.24      0.43      0.31       119\n",
      "           2       0.33      0.01      0.03       459\n",
      "\n",
      "    accuracy                           0.21       697\n",
      "   macro avg       0.26      0.40      0.21       697\n",
      "weighted avg       0.29      0.21      0.12       697\n",
      "---------------------------------------------\n",
      "model_name:  LogisticRegression\n",
      "Average Classification Report:\n",
      "              precision    recall  f1-score   support\n",
      "\n",
      "           0       0.58      0.44      0.50       119\n",
      "           1       0.59      0.45      0.51       119\n",
      "           2       0.75      0.84      0.79       459\n",
      "\n",
      "    accuracy                           0.70       697\n",
      "   macro avg       0.64      0.58      0.60       697\n",
      "weighted avg       0.69      0.70      0.69       697\n",
      "\n",
      "---------------------------------------------\n",
      "model_name:  DecisionTreeClassifier\n",
      "Average Classification Report:\n",
      "              precision    recall  f1-score   support\n",
      "\n",
      "           0       0.41      0.42      0.41       119\n",
      "           1       0.45      0.51      0.48       119\n",
      "           2       0.72      0.69      0.71       459\n",
      "\n",
      "    accuracy                           0.61       697\n",
      "   macro avg       0.53      0.54      0.53       697\n",
      "weighted avg       0.62      0.61      0.62       697\n"
     ]
    },
    {
     "data": {
      "text/plain": "<Figure size 640x480 with 1 Axes>",
      "image/png": "[encoded data removed]"
     },
     "metadata": {},
     "output_type": "display_data"
    },
    {
     "data": {
      "text/plain": "  Modelo  Acurácia\n4    XGB  0.720230\n1     RF  0.713056\n8     LR  0.704448\n2    SVM  0.680057\n3    MLP  0.671449\n0  Dummy  0.658537\n5    KNN  0.629842\n9     DT  0.614060\n6    ADA  0.604017\n7    NVB  0.212339",
      "text/html": "<div>\n<style scoped>\n    .dataframe tbody tr th:only-of-type {\n        vertical-align: middle;\n    }\n\n    .dataframe tbody tr th {\n        vertical-align: top;\n    }\n\n    .dataframe thead th {\n        text-align: right;\n    }\n</style>\n<table border=\"1\" class=\"dataframe\">\n  <thead>\n    <tr style=\"text-align: right;\">\n      <th></th>\n      <th>Modelo</th>\n      <th>Acurácia</th>\n    </tr>\n  </thead>\n  <tbody>\n    <tr>\n      <th>4</th>\n      <td>XGB</td>\n      <td>0.720230</td>\n    </tr>\n    <tr>\n      <th>1</th>\n      <td>RF</td>\n      <td>0.713056</td>\n    </tr>\n    <tr>\n      <th>8</th>\n      <td>LR</td>\n      <td>0.704448</td>\n    </tr>\n    <tr>\n      <th>2</th>\n      <td>SVM</td>\n      <td>0.680057</td>\n    </tr>\n    <tr>\n      <th>3</th>\n      <td>MLP</td>\n      <td>0.671449</td>\n    </tr>\n    <tr>\n      <th>0</th>\n      <td>Dummy</td>\n      <td>0.658537</td>\n    </tr>\n    <tr>\n      <th>5</th>\n      <td>KNN</td>\n      <td>0.629842</td>\n    </tr>\n    <tr>\n      <th>9</th>\n      <td>DT</td>\n      <td>0.614060</td>\n    </tr>\n    <tr>\n      <th>6</th>\n      <td>ADA</td>\n      <td>0.604017</td>\n    </tr>\n    <tr>\n      <th>7</th>\n      <td>NVB</td>\n      <td>0.212339</td>\n    </tr>\n  </tbody>\n</table>\n</div>"
     },
     "execution_count": 79,
     "metadata": {},
     "output_type": "execute_result"
    }
   ],
   "source": [
    "avalia_dif_modelos_cv(X_train6, y_train6, 5)"
   ]
  },
  {
   "cell_type": "markdown",
   "metadata": {
    "collapsed": false
   },
   "source": [
    "## Avaliando modelos com Under-Sampling"
   ]
  },
  {
   "cell_type": "code",
   "execution_count": 80,
   "metadata": {
    "collapsed": false,
    "ExecuteTime": {
     "end_time": "2023-12-23T23:02:57.850662700Z",
     "start_time": "2023-12-23T23:02:53.341439900Z"
    }
   },
   "outputs": [
    {
     "name": "stdout",
     "output_type": "stream",
     "text": [
      "---------------------------------------------\n",
      "model_name:  DummyClassifier\n",
      "Average Classification Report:\n",
      "              precision    recall  f1-score   support\n",
      "\n",
      "           0       0.22      0.27      0.24        92\n",
      "           1       0.25      0.15      0.18        96\n",
      "           2       0.29      0.34      0.31        97\n",
      "\n",
      "    accuracy                           0.25       285\n",
      "   macro avg       0.25      0.25      0.25       285\n",
      "weighted avg       0.25      0.25      0.25       285\n",
      "---------------------------------------------\n",
      "model_name:  RandomForestClassifier\n",
      "Average Classification Report:\n",
      "              precision    recall  f1-score   support\n",
      "\n",
      "           0       0.49      0.50      0.50        92\n",
      "           1       0.55      0.58      0.57        96\n",
      "           2       0.39      0.36      0.37        97\n",
      "\n",
      "    accuracy                           0.48       285\n",
      "   macro avg       0.48      0.48      0.48       285\n",
      "weighted avg       0.48      0.48      0.48       285\n",
      "\n",
      "---------------------------------------------\n",
      "model_name:  SVC\n",
      "Average Classification Report:\n",
      "              precision    recall  f1-score   support\n",
      "\n",
      "           0       0.46      0.43      0.45        92\n",
      "           1       0.56      0.56      0.56        96\n",
      "           2       0.32      0.34      0.33        97\n",
      "\n",
      "    accuracy                           0.45       285\n",
      "   macro avg       0.45      0.45      0.45       285\n",
      "weighted avg       0.45      0.45      0.45       285\n",
      "---------------------------------------------\n",
      "model_name:  MLPClassifier\n",
      "Average Classification Report:\n",
      "              precision    recall  f1-score   support\n",
      "\n",
      "           0       0.47      0.48      0.48        92\n",
      "           1       0.56      0.55      0.55        96\n",
      "           2       0.30      0.30      0.30        97\n",
      "\n",
      "    accuracy                           0.44       285\n",
      "   macro avg       0.44      0.44      0.44       285\n",
      "weighted avg       0.44      0.44      0.44       285\n",
      "---------------------------------------------\n",
      "model_name:  XGBClassifier\n",
      "Average Classification Report:\n",
      "              precision    recall  f1-score   support\n",
      "\n",
      "           0       0.48      0.51      0.49        92\n",
      "           1       0.56      0.57      0.56        96\n",
      "           2       0.43      0.39      0.41        97\n",
      "\n",
      "    accuracy                           0.49       285\n",
      "   macro avg       0.49      0.49      0.49       285\n",
      "weighted avg       0.49      0.49      0.49       285\n",
      "\n",
      "---------------------------------------------\n",
      "model_name:  KNeighborsClassifier\n",
      "Average Classification Report:\n",
      "              precision    recall  f1-score   support\n",
      "\n",
      "           0       0.42      0.57      0.48        92\n",
      "           1       0.53      0.48      0.51        96\n",
      "           2       0.28      0.22      0.25        97\n",
      "\n",
      "    accuracy                           0.42       285\n",
      "   macro avg       0.41      0.42      0.41       285\n",
      "weighted avg       0.41      0.42      0.41       285\n",
      "---------------------------------------------\n",
      "model_name:  AdaBoostClassifier\n",
      "Average Classification Report:\n",
      "              precision    recall  f1-score   support\n",
      "\n",
      "           0       0.55      0.50      0.53        92\n",
      "           1       0.58      0.54      0.56        96\n",
      "           2       0.36      0.42      0.39        97\n",
      "\n",
      "    accuracy                           0.49       285\n",
      "   macro avg       0.50      0.49      0.49       285\n",
      "weighted avg       0.50      0.49      0.49       285\n",
      "\n",
      "---------------------------------------------\n",
      "model_name:  GaussianNB\n",
      "Average Classification Report:\n",
      "              precision    recall  f1-score   support\n",
      "\n",
      "           0       0.34      0.82      0.48        92\n",
      "           1       0.70      0.07      0.13        96\n",
      "           2       0.30      0.16      0.21        97\n",
      "\n",
      "    accuracy                           0.34       285\n",
      "   macro avg       0.45      0.35      0.27       285\n",
      "weighted avg       0.45      0.34      0.27       285\n",
      "\n",
      "---------------------------------------------\n",
      "model_name:  LogisticRegression\n",
      "Average Classification Report:\n",
      "              precision    recall  f1-score   support\n",
      "\n",
      "           0       0.49      0.47      0.48        92\n",
      "           1       0.55      0.58      0.57        96\n",
      "           2       0.37      0.37      0.37        97\n",
      "\n",
      "    accuracy                           0.47       285\n",
      "   macro avg       0.47      0.47      0.47       285\n",
      "weighted avg       0.47      0.47      0.47       285\n",
      "\n",
      "---------------------------------------------\n",
      "model_name:  DecisionTreeClassifier\n",
      "Average Classification Report:\n",
      "              precision    recall  f1-score   support\n",
      "\n",
      "           0       0.45      0.50      0.47        92\n",
      "           1       0.49      0.46      0.47        96\n",
      "           2       0.41      0.39      0.40        97\n",
      "\n",
      "    accuracy                           0.45       285\n",
      "   macro avg       0.45      0.45      0.45       285\n",
      "weighted avg       0.45      0.45      0.45       285\n"
     ]
    },
    {
     "data": {
      "text/plain": "<Figure size 640x480 with 1 Axes>",
      "image/png": "[encoded data removed]"
     },
     "metadata": {},
     "output_type": "display_data"
    },
    {
     "data": {
      "text/plain": "  Modelo  Acurácia\n4    XGB  0.491228\n6    ADA  0.487719\n1     RF  0.480702\n8     LR  0.473684\n9     DT  0.449123\n2    SVM  0.445614\n3    MLP  0.442105\n5    KNN  0.417544\n7    NVB  0.343860\n0  Dummy  0.252632",
      "text/html": "<div>\n<style scoped>\n    .dataframe tbody tr th:only-of-type {\n        vertical-align: middle;\n    }\n\n    .dataframe tbody tr th {\n        vertical-align: top;\n    }\n\n    .dataframe thead th {\n        text-align: right;\n    }\n</style>\n<table border=\"1\" class=\"dataframe\">\n  <thead>\n    <tr style=\"text-align: right;\">\n      <th></th>\n      <th>Modelo</th>\n      <th>Acurácia</th>\n    </tr>\n  </thead>\n  <tbody>\n    <tr>\n      <th>4</th>\n      <td>XGB</td>\n      <td>0.491228</td>\n    </tr>\n    <tr>\n      <th>6</th>\n      <td>ADA</td>\n      <td>0.487719</td>\n    </tr>\n    <tr>\n      <th>1</th>\n      <td>RF</td>\n      <td>0.480702</td>\n    </tr>\n    <tr>\n      <th>8</th>\n      <td>LR</td>\n      <td>0.473684</td>\n    </tr>\n    <tr>\n      <th>9</th>\n      <td>DT</td>\n      <td>0.449123</td>\n    </tr>\n    <tr>\n      <th>2</th>\n      <td>SVM</td>\n      <td>0.445614</td>\n    </tr>\n    <tr>\n      <th>3</th>\n      <td>MLP</td>\n      <td>0.442105</td>\n    </tr>\n    <tr>\n      <th>5</th>\n      <td>KNN</td>\n      <td>0.417544</td>\n    </tr>\n    <tr>\n      <th>7</th>\n      <td>NVB</td>\n      <td>0.343860</td>\n    </tr>\n    <tr>\n      <th>0</th>\n      <td>Dummy</td>\n      <td>0.252632</td>\n    </tr>\n  </tbody>\n</table>\n</div>"
     },
     "execution_count": 80,
     "metadata": {},
     "output_type": "execute_result"
    }
   ],
   "source": [
    "# Avaliando os modelos para cada dado com o treino\n",
    "avalia_dif_modelos_cv(X_train1_re, y_train1_re, 5)"
   ]
  },
  {
   "cell_type": "code",
   "execution_count": 81,
   "metadata": {
    "collapsed": false,
    "ExecuteTime": {
     "end_time": "2023-12-23T23:03:01.772540200Z",
     "start_time": "2023-12-23T23:02:57.851663Z"
    }
   },
   "outputs": [
    {
     "name": "stdout",
     "output_type": "stream",
     "text": [
      "---------------------------------------------\n",
      "model_name:  DummyClassifier\n",
      "Average Classification Report:\n",
      "              precision    recall  f1-score   support\n",
      "\n",
      "           0       0.22      0.27      0.24        92\n",
      "           1       0.25      0.15      0.18        96\n",
      "           2       0.29      0.34      0.31        97\n",
      "\n",
      "    accuracy                           0.25       285\n",
      "   macro avg       0.25      0.25      0.25       285\n",
      "weighted avg       0.25      0.25      0.25       285\n",
      "---------------------------------------------\n",
      "model_name:  RandomForestClassifier\n",
      "Average Classification Report:\n",
      "              precision    recall  f1-score   support\n",
      "\n",
      "           0       0.73      0.73      0.73        92\n",
      "           1       0.82      0.86      0.84        96\n",
      "           2       0.59      0.56      0.57        97\n",
      "\n",
      "    accuracy                           0.72       285\n",
      "   macro avg       0.71      0.72      0.71       285\n",
      "weighted avg       0.71      0.72      0.71       285\n",
      "\n",
      "---------------------------------------------\n",
      "model_name:  SVC\n",
      "Average Classification Report:\n",
      "              precision    recall  f1-score   support\n",
      "\n",
      "           0       0.71      0.78      0.74        92\n",
      "           1       0.79      0.89      0.84        96\n",
      "           2       0.61      0.47      0.53        97\n",
      "\n",
      "    accuracy                           0.71       285\n",
      "   macro avg       0.70      0.71      0.70       285\n",
      "weighted avg       0.70      0.71      0.70       285\n",
      "---------------------------------------------\n",
      "model_name:  MLPClassifier\n",
      "Average Classification Report:\n",
      "              precision    recall  f1-score   support\n",
      "\n",
      "           0       0.68      0.74      0.71        92\n",
      "           1       0.81      0.85      0.83        96\n",
      "           2       0.56      0.48      0.52        97\n",
      "\n",
      "    accuracy                           0.69       285\n",
      "   macro avg       0.68      0.69      0.69       285\n",
      "weighted avg       0.68      0.69      0.69       285\n",
      "---------------------------------------------\n",
      "model_name:  XGBClassifier\n",
      "Average Classification Report:\n",
      "              precision    recall  f1-score   support\n",
      "\n",
      "           0       0.69      0.72      0.70        92\n",
      "           1       0.81      0.85      0.83        96\n",
      "           2       0.56      0.51      0.53        97\n",
      "\n",
      "    accuracy                           0.69       285\n",
      "   macro avg       0.69      0.69      0.69       285\n",
      "weighted avg       0.68      0.69      0.69       285\n",
      "\n",
      "---------------------------------------------\n",
      "model_name:  KNeighborsClassifier\n",
      "Average Classification Report:\n",
      "              precision    recall  f1-score   support\n",
      "\n",
      "           0       0.62      0.77      0.69        92\n",
      "           1       0.72      0.79      0.75        96\n",
      "           2       0.43      0.29      0.35        97\n",
      "\n",
      "    accuracy                           0.61       285\n",
      "   macro avg       0.59      0.62      0.60       285\n",
      "weighted avg       0.59      0.61      0.59       285\n",
      "---------------------------------------------\n",
      "model_name:  AdaBoostClassifier\n",
      "Average Classification Report:\n",
      "              precision    recall  f1-score   support\n",
      "\n",
      "           0       0.66      0.66      0.66        92\n",
      "           1       0.82      0.65      0.72        96\n",
      "           2       0.44      0.54      0.49        97\n",
      "\n",
      "    accuracy                           0.61       285\n",
      "   macro avg       0.64      0.61      0.62       285\n",
      "weighted avg       0.64      0.61      0.62       285\n",
      "\n",
      "---------------------------------------------\n",
      "model_name:  GaussianNB\n",
      "Average Classification Report:\n",
      "              precision    recall  f1-score   support\n",
      "\n",
      "           0       0.63      0.86      0.72        92\n",
      "           1       0.79      0.60      0.69        96\n",
      "           2       0.48      0.42      0.45        97\n",
      "\n",
      "    accuracy                           0.62       285\n",
      "   macro avg       0.63      0.63      0.62       285\n",
      "weighted avg       0.63      0.62      0.62       285\n",
      "\n",
      "---------------------------------------------\n",
      "model_name:  LogisticRegression\n",
      "Average Classification Report:\n",
      "              precision    recall  f1-score   support\n",
      "\n",
      "           0       0.66      0.66      0.66        92\n",
      "           1       0.80      0.73      0.76        96\n",
      "           2       0.49      0.53      0.50        97\n",
      "\n",
      "    accuracy                           0.64       285\n",
      "   macro avg       0.65      0.64      0.64       285\n",
      "weighted avg       0.65      0.64      0.64       285\n",
      "\n",
      "---------------------------------------------\n",
      "model_name:  DecisionTreeClassifier\n",
      "Average Classification Report:\n",
      "              precision    recall  f1-score   support\n",
      "\n",
      "           0       0.66      0.64      0.65        92\n",
      "           1       0.76      0.71      0.74        96\n",
      "           2       0.47      0.52      0.49        97\n",
      "\n",
      "    accuracy                           0.62       285\n",
      "   macro avg       0.63      0.62      0.63       285\n",
      "weighted avg       0.63      0.62      0.62       285\n"
     ]
    },
    {
     "data": {
      "text/plain": "<Figure size 640x480 with 1 Axes>",
      "image/png": "[encoded data removed]"
     },
     "metadata": {},
     "output_type": "display_data"
    },
    {
     "data": {
      "text/plain": "  Modelo  Acurácia\n1     RF  0.715789\n2    SVM  0.712281\n3    MLP  0.691228\n4    XGB  0.691228\n8     LR  0.638596\n7    NVB  0.624561\n9     DT  0.621053\n5    KNN  0.614035\n6    ADA  0.614035\n0  Dummy  0.252632",
      "text/html": "<div>\n<style scoped>\n    .dataframe tbody tr th:only-of-type {\n        vertical-align: middle;\n    }\n\n    .dataframe tbody tr th {\n        vertical-align: top;\n    }\n\n    .dataframe thead th {\n        text-align: right;\n    }\n</style>\n<table border=\"1\" class=\"dataframe\">\n  <thead>\n    <tr style=\"text-align: right;\">\n      <th></th>\n      <th>Modelo</th>\n      <th>Acurácia</th>\n    </tr>\n  </thead>\n  <tbody>\n    <tr>\n      <th>1</th>\n      <td>RF</td>\n      <td>0.715789</td>\n    </tr>\n    <tr>\n      <th>2</th>\n      <td>SVM</td>\n      <td>0.712281</td>\n    </tr>\n    <tr>\n      <th>3</th>\n      <td>MLP</td>\n      <td>0.691228</td>\n    </tr>\n    <tr>\n      <th>4</th>\n      <td>XGB</td>\n      <td>0.691228</td>\n    </tr>\n    <tr>\n      <th>8</th>\n      <td>LR</td>\n      <td>0.638596</td>\n    </tr>\n    <tr>\n      <th>7</th>\n      <td>NVB</td>\n      <td>0.624561</td>\n    </tr>\n    <tr>\n      <th>9</th>\n      <td>DT</td>\n      <td>0.621053</td>\n    </tr>\n    <tr>\n      <th>5</th>\n      <td>KNN</td>\n      <td>0.614035</td>\n    </tr>\n    <tr>\n      <th>6</th>\n      <td>ADA</td>\n      <td>0.614035</td>\n    </tr>\n    <tr>\n      <th>0</th>\n      <td>Dummy</td>\n      <td>0.252632</td>\n    </tr>\n  </tbody>\n</table>\n</div>"
     },
     "execution_count": 81,
     "metadata": {},
     "output_type": "execute_result"
    }
   ],
   "source": [
    "avalia_dif_modelos_cv(X_train2_re, y_train2_re, 5)"
   ]
  },
  {
   "cell_type": "code",
   "execution_count": 82,
   "metadata": {
    "collapsed": false,
    "ExecuteTime": {
     "end_time": "2023-12-23T23:03:05.785594100Z",
     "start_time": "2023-12-23T23:03:01.774541900Z"
    }
   },
   "outputs": [
    {
     "name": "stdout",
     "output_type": "stream",
     "text": [
      "---------------------------------------------\n",
      "model_name:  DummyClassifier\n",
      "Average Classification Report:\n",
      "              precision    recall  f1-score   support\n",
      "\n",
      "           0       0.22      0.27      0.24        92\n",
      "           1       0.25      0.15      0.18        96\n",
      "           2       0.29      0.34      0.31        97\n",
      "\n",
      "    accuracy                           0.25       285\n",
      "   macro avg       0.25      0.25      0.25       285\n",
      "weighted avg       0.25      0.25      0.25       285\n",
      "---------------------------------------------\n",
      "model_name:  RandomForestClassifier\n",
      "Average Classification Report:\n",
      "              precision    recall  f1-score   support\n",
      "\n",
      "           0       0.68      0.74      0.71        92\n",
      "           1       0.79      0.88      0.83        96\n",
      "           2       0.55      0.44      0.49        97\n",
      "\n",
      "    accuracy                           0.68       285\n",
      "   macro avg       0.67      0.69      0.68       285\n",
      "weighted avg       0.67      0.68      0.67       285\n",
      "\n",
      "---------------------------------------------\n",
      "model_name:  SVC\n",
      "Average Classification Report:\n",
      "              precision    recall  f1-score   support\n",
      "\n",
      "           0       0.66      0.71      0.68        92\n",
      "           1       0.74      0.82      0.78        96\n",
      "           2       0.47      0.38      0.42        97\n",
      "\n",
      "    accuracy                           0.64       285\n",
      "   macro avg       0.62      0.64      0.63       285\n",
      "weighted avg       0.62      0.64      0.62       285\n",
      "---------------------------------------------\n",
      "model_name:  MLPClassifier\n",
      "Average Classification Report:\n",
      "              precision    recall  f1-score   support\n",
      "\n",
      "           0       0.61      0.64      0.63        92\n",
      "           1       0.78      0.76      0.77        96\n",
      "           2       0.45      0.44      0.45        97\n",
      "\n",
      "    accuracy                           0.61       285\n",
      "   macro avg       0.61      0.62      0.61       285\n",
      "weighted avg       0.61      0.61      0.61       285\n",
      "---------------------------------------------\n",
      "model_name:  XGBClassifier\n",
      "Average Classification Report:\n",
      "              precision    recall  f1-score   support\n",
      "\n",
      "           0       0.71      0.71      0.71        92\n",
      "           1       0.81      0.80      0.81        96\n",
      "           2       0.54      0.55      0.54        97\n",
      "\n",
      "    accuracy                           0.68       285\n",
      "   macro avg       0.69      0.68      0.69       285\n",
      "weighted avg       0.69      0.68      0.68       285\n",
      "\n",
      "---------------------------------------------\n",
      "model_name:  KNeighborsClassifier\n",
      "Average Classification Report:\n",
      "              precision    recall  f1-score   support\n",
      "\n",
      "           0       0.54      0.66      0.60        92\n",
      "           1       0.66      0.70      0.68        96\n",
      "           2       0.31      0.23      0.26        97\n",
      "\n",
      "    accuracy                           0.53       285\n",
      "   macro avg       0.50      0.53      0.51       285\n",
      "weighted avg       0.50      0.53      0.51       285\n",
      "---------------------------------------------\n",
      "model_name:  AdaBoostClassifier\n",
      "Average Classification Report:\n",
      "              precision    recall  f1-score   support\n",
      "\n",
      "           0       0.65      0.58      0.61        92\n",
      "           1       0.82      0.70      0.75        96\n",
      "           2       0.45      0.57      0.50        97\n",
      "\n",
      "    accuracy                           0.61       285\n",
      "   macro avg       0.64      0.61      0.62       285\n",
      "weighted avg       0.64      0.61      0.62       285\n",
      "\n",
      "---------------------------------------------\n",
      "model_name:  GaussianNB\n",
      "Average Classification Report:\n",
      "              precision    recall  f1-score   support\n",
      "\n",
      "           0       0.44      0.83      0.58        92\n",
      "           1       0.69      0.26      0.38        96\n",
      "           2       0.35      0.28      0.31        97\n",
      "\n",
      "    accuracy                           0.45       285\n",
      "   macro avg       0.50      0.45      0.42       285\n",
      "weighted avg       0.50      0.45      0.42       285\n",
      "\n",
      "---------------------------------------------\n",
      "model_name:  LogisticRegression\n",
      "Average Classification Report:\n",
      "              precision    recall  f1-score   support\n",
      "\n",
      "           0       0.69      0.64      0.66        92\n",
      "           1       0.76      0.73      0.74        96\n",
      "           2       0.49      0.54      0.51        97\n",
      "\n",
      "    accuracy                           0.64       285\n",
      "   macro avg       0.64      0.64      0.64       285\n",
      "weighted avg       0.64      0.64      0.64       285\n",
      "\n",
      "---------------------------------------------\n",
      "model_name:  DecisionTreeClassifier\n",
      "Average Classification Report:\n",
      "              precision    recall  f1-score   support\n",
      "\n",
      "           0       0.70      0.62      0.66        92\n",
      "           1       0.72      0.69      0.70        96\n",
      "           2       0.46      0.53      0.49        97\n",
      "\n",
      "    accuracy                           0.61       285\n",
      "   macro avg       0.63      0.61      0.62       285\n",
      "weighted avg       0.62      0.61      0.62       285\n"
     ]
    },
    {
     "data": {
      "text/plain": "<Figure size 640x480 with 1 Axes>",
      "image/png": "[encoded data removed]"
     },
     "metadata": {},
     "output_type": "display_data"
    },
    {
     "data": {
      "text/plain": "  Modelo  Acurácia\n1     RF  0.684211\n4    XGB  0.684211\n2    SVM  0.635088\n8     LR  0.635088\n3    MLP  0.614035\n6    ADA  0.614035\n9     DT  0.610526\n5    KNN  0.526316\n7    NVB  0.449123\n0  Dummy  0.252632",
      "text/html": "<div>\n<style scoped>\n    .dataframe tbody tr th:only-of-type {\n        vertical-align: middle;\n    }\n\n    .dataframe tbody tr th {\n        vertical-align: top;\n    }\n\n    .dataframe thead th {\n        text-align: right;\n    }\n</style>\n<table border=\"1\" class=\"dataframe\">\n  <thead>\n    <tr style=\"text-align: right;\">\n      <th></th>\n      <th>Modelo</th>\n      <th>Acurácia</th>\n    </tr>\n  </thead>\n  <tbody>\n    <tr>\n      <th>1</th>\n      <td>RF</td>\n      <td>0.684211</td>\n    </tr>\n    <tr>\n      <th>4</th>\n      <td>XGB</td>\n      <td>0.684211</td>\n    </tr>\n    <tr>\n      <th>2</th>\n      <td>SVM</td>\n      <td>0.635088</td>\n    </tr>\n    <tr>\n      <th>8</th>\n      <td>LR</td>\n      <td>0.635088</td>\n    </tr>\n    <tr>\n      <th>3</th>\n      <td>MLP</td>\n      <td>0.614035</td>\n    </tr>\n    <tr>\n      <th>6</th>\n      <td>ADA</td>\n      <td>0.614035</td>\n    </tr>\n    <tr>\n      <th>9</th>\n      <td>DT</td>\n      <td>0.610526</td>\n    </tr>\n    <tr>\n      <th>5</th>\n      <td>KNN</td>\n      <td>0.526316</td>\n    </tr>\n    <tr>\n      <th>7</th>\n      <td>NVB</td>\n      <td>0.449123</td>\n    </tr>\n    <tr>\n      <th>0</th>\n      <td>Dummy</td>\n      <td>0.252632</td>\n    </tr>\n  </tbody>\n</table>\n</div>"
     },
     "execution_count": 82,
     "metadata": {},
     "output_type": "execute_result"
    }
   ],
   "source": [
    "avalia_dif_modelos_cv(X_train3_re, y_train3_re, 5)"
   ]
  },
  {
   "cell_type": "code",
   "execution_count": 83,
   "metadata": {
    "collapsed": false,
    "ExecuteTime": {
     "end_time": "2023-12-23T23:03:10.283304100Z",
     "start_time": "2023-12-23T23:03:05.782592800Z"
    }
   },
   "outputs": [
    {
     "name": "stdout",
     "output_type": "stream",
     "text": [
      "---------------------------------------------\n",
      "model_name:  DummyClassifier\n",
      "Average Classification Report:\n",
      "              precision    recall  f1-score   support\n",
      "\n",
      "           0       0.22      0.27      0.24        92\n",
      "           1       0.25      0.15      0.18        96\n",
      "           2       0.29      0.34      0.31        97\n",
      "\n",
      "    accuracy                           0.25       285\n",
      "   macro avg       0.25      0.25      0.25       285\n",
      "weighted avg       0.25      0.25      0.25       285\n",
      "---------------------------------------------\n",
      "model_name:  RandomForestClassifier\n",
      "Average Classification Report:\n",
      "              precision    recall  f1-score   support\n",
      "\n",
      "           0       0.61      0.67      0.64        92\n",
      "           1       0.64      0.70      0.67        96\n",
      "           2       0.41      0.33      0.37        97\n",
      "\n",
      "    accuracy                           0.56       285\n",
      "   macro avg       0.55      0.57      0.56       285\n",
      "weighted avg       0.55      0.56      0.56       285\n",
      "\n",
      "---------------------------------------------\n",
      "model_name:  SVC\n",
      "Average Classification Report:\n",
      "              precision    recall  f1-score   support\n",
      "\n",
      "           0       0.53      0.50      0.51        92\n",
      "           1       0.63      0.65      0.64        96\n",
      "           2       0.33      0.34      0.34        97\n",
      "\n",
      "    accuracy                           0.49       285\n",
      "   macro avg       0.50      0.50      0.50       285\n",
      "weighted avg       0.50      0.49      0.49       285\n",
      "---------------------------------------------\n",
      "model_name:  MLPClassifier\n",
      "Average Classification Report:\n",
      "              precision    recall  f1-score   support\n",
      "\n",
      "           0       0.58      0.53      0.55        92\n",
      "           1       0.63      0.64      0.63        96\n",
      "           2       0.38      0.40      0.39        97\n",
      "\n",
      "    accuracy                           0.52       285\n",
      "   macro avg       0.53      0.52      0.53       285\n",
      "weighted avg       0.53      0.52      0.52       285\n",
      "---------------------------------------------\n",
      "model_name:  XGBClassifier\n",
      "Average Classification Report:\n",
      "              precision    recall  f1-score   support\n",
      "\n",
      "           0       0.58      0.61      0.59        92\n",
      "           1       0.67      0.64      0.65        96\n",
      "           2       0.40      0.40      0.40        97\n",
      "\n",
      "    accuracy                           0.55       285\n",
      "   macro avg       0.55      0.55      0.55       285\n",
      "weighted avg       0.55      0.55      0.55       285\n",
      "\n",
      "---------------------------------------------\n",
      "model_name:  KNeighborsClassifier\n",
      "Average Classification Report:\n",
      "              precision    recall  f1-score   support\n",
      "\n",
      "           0       0.45      0.60      0.52        92\n",
      "           1       0.57      0.53      0.55        96\n",
      "           2       0.31      0.24      0.27        97\n",
      "\n",
      "    accuracy                           0.45       285\n",
      "   macro avg       0.44      0.46      0.45       285\n",
      "weighted avg       0.44      0.45      0.44       285\n",
      "---------------------------------------------\n",
      "model_name:  AdaBoostClassifier\n",
      "Average Classification Report:\n",
      "              precision    recall  f1-score   support\n",
      "\n",
      "           0       0.60      0.58      0.59        92\n",
      "           1       0.64      0.57      0.60        96\n",
      "           2       0.39      0.44      0.41        97\n",
      "\n",
      "    accuracy                           0.53       285\n",
      "   macro avg       0.54      0.53      0.54       285\n",
      "weighted avg       0.54      0.53      0.53       285\n",
      "\n",
      "---------------------------------------------\n",
      "model_name:  GaussianNB\n",
      "Average Classification Report:\n",
      "              precision    recall  f1-score   support\n",
      "\n",
      "           0       0.35      0.82      0.49        92\n",
      "           1       0.75      0.09      0.17        96\n",
      "           2       0.32      0.20      0.24        97\n",
      "\n",
      "    accuracy                           0.36       285\n",
      "   macro avg       0.47      0.37      0.30       285\n",
      "weighted avg       0.47      0.36      0.30       285\n",
      "\n",
      "---------------------------------------------\n",
      "model_name:  LogisticRegression\n",
      "Average Classification Report:\n",
      "              precision    recall  f1-score   support\n",
      "\n",
      "           0       0.57      0.58      0.57        92\n",
      "           1       0.64      0.64      0.64        96\n",
      "           2       0.37      0.37      0.37        97\n",
      "\n",
      "    accuracy                           0.53       285\n",
      "   macro avg       0.53      0.53      0.53       285\n",
      "weighted avg       0.53      0.53      0.53       285\n",
      "\n",
      "---------------------------------------------\n",
      "model_name:  DecisionTreeClassifier\n",
      "Average Classification Report:\n",
      "              precision    recall  f1-score   support\n",
      "\n",
      "           0       0.50      0.54      0.52        92\n",
      "           1       0.60      0.55      0.58        96\n",
      "           2       0.36      0.36      0.36        97\n",
      "\n",
      "    accuracy                           0.48       285\n",
      "   macro avg       0.49      0.49      0.49       285\n",
      "weighted avg       0.49      0.48      0.48       285\n"
     ]
    },
    {
     "data": {
      "text/plain": "<Figure size 640x480 with 1 Axes>",
      "image/png": "[encoded data removed]"
     },
     "metadata": {},
     "output_type": "display_data"
    },
    {
     "data": {
      "text/plain": "  Modelo  Acurácia\n1     RF  0.564912\n4    XGB  0.547368\n6    ADA  0.529825\n8     LR  0.526316\n3    MLP  0.522807\n2    SVM  0.494737\n9     DT  0.484211\n5    KNN  0.452632\n7    NVB  0.361404\n0  Dummy  0.252632",
      "text/html": "<div>\n<style scoped>\n    .dataframe tbody tr th:only-of-type {\n        vertical-align: middle;\n    }\n\n    .dataframe tbody tr th {\n        vertical-align: top;\n    }\n\n    .dataframe thead th {\n        text-align: right;\n    }\n</style>\n<table border=\"1\" class=\"dataframe\">\n  <thead>\n    <tr style=\"text-align: right;\">\n      <th></th>\n      <th>Modelo</th>\n      <th>Acurácia</th>\n    </tr>\n  </thead>\n  <tbody>\n    <tr>\n      <th>1</th>\n      <td>RF</td>\n      <td>0.564912</td>\n    </tr>\n    <tr>\n      <th>4</th>\n      <td>XGB</td>\n      <td>0.547368</td>\n    </tr>\n    <tr>\n      <th>6</th>\n      <td>ADA</td>\n      <td>0.529825</td>\n    </tr>\n    <tr>\n      <th>8</th>\n      <td>LR</td>\n      <td>0.526316</td>\n    </tr>\n    <tr>\n      <th>3</th>\n      <td>MLP</td>\n      <td>0.522807</td>\n    </tr>\n    <tr>\n      <th>2</th>\n      <td>SVM</td>\n      <td>0.494737</td>\n    </tr>\n    <tr>\n      <th>9</th>\n      <td>DT</td>\n      <td>0.484211</td>\n    </tr>\n    <tr>\n      <th>5</th>\n      <td>KNN</td>\n      <td>0.452632</td>\n    </tr>\n    <tr>\n      <th>7</th>\n      <td>NVB</td>\n      <td>0.361404</td>\n    </tr>\n    <tr>\n      <th>0</th>\n      <td>Dummy</td>\n      <td>0.252632</td>\n    </tr>\n  </tbody>\n</table>\n</div>"
     },
     "execution_count": 83,
     "metadata": {},
     "output_type": "execute_result"
    }
   ],
   "source": [
    "avalia_dif_modelos_cv(X_train4_re, y_train4_re, 5)"
   ]
  },
  {
   "cell_type": "code",
   "execution_count": 84,
   "metadata": {
    "collapsed": false,
    "ExecuteTime": {
     "end_time": "2023-12-23T23:03:14.752520800Z",
     "start_time": "2023-12-23T23:03:10.285306900Z"
    }
   },
   "outputs": [
    {
     "name": "stdout",
     "output_type": "stream",
     "text": [
      "---------------------------------------------\n",
      "model_name:  DummyClassifier\n",
      "Average Classification Report:\n",
      "              precision    recall  f1-score   support\n",
      "\n",
      "           0       0.22      0.27      0.24        92\n",
      "           1       0.25      0.15      0.18        96\n",
      "           2       0.29      0.34      0.31        97\n",
      "\n",
      "    accuracy                           0.25       285\n",
      "   macro avg       0.25      0.25      0.25       285\n",
      "weighted avg       0.25      0.25      0.25       285\n",
      "---------------------------------------------\n",
      "model_name:  RandomForestClassifier\n",
      "Average Classification Report:\n",
      "              precision    recall  f1-score   support\n",
      "\n",
      "           0       0.60      0.62      0.61        92\n",
      "           1       0.62      0.72      0.67        96\n",
      "           2       0.41      0.33      0.36        97\n",
      "\n",
      "    accuracy                           0.55       285\n",
      "   macro avg       0.54      0.56      0.55       285\n",
      "weighted avg       0.54      0.55      0.55       285\n",
      "\n",
      "---------------------------------------------\n",
      "model_name:  SVC\n",
      "Average Classification Report:\n",
      "              precision    recall  f1-score   support\n",
      "\n",
      "           0       0.53      0.51      0.52        92\n",
      "           1       0.64      0.69      0.66        96\n",
      "           2       0.32      0.31      0.31        97\n",
      "\n",
      "    accuracy                           0.50       285\n",
      "   macro avg       0.50      0.50      0.50       285\n",
      "weighted avg       0.50      0.50      0.50       285\n",
      "---------------------------------------------\n",
      "model_name:  MLPClassifier\n",
      "Average Classification Report:\n",
      "              precision    recall  f1-score   support\n",
      "\n",
      "           0       0.57      0.55      0.56        92\n",
      "           1       0.67      0.61      0.64        96\n",
      "           2       0.37      0.41      0.39        97\n",
      "\n",
      "    accuracy                           0.53       285\n",
      "   macro avg       0.54      0.53      0.53       285\n",
      "weighted avg       0.54      0.53      0.53       285\n",
      "---------------------------------------------\n",
      "model_name:  XGBClassifier\n",
      "Average Classification Report:\n",
      "              precision    recall  f1-score   support\n",
      "\n",
      "           0       0.58      0.59      0.58        92\n",
      "           1       0.67      0.69      0.68        96\n",
      "           2       0.41      0.39      0.40        97\n",
      "\n",
      "    accuracy                           0.55       285\n",
      "   macro avg       0.55      0.56      0.55       285\n",
      "weighted avg       0.55      0.55      0.55       285\n",
      "\n",
      "---------------------------------------------\n",
      "model_name:  KNeighborsClassifier\n",
      "Average Classification Report:\n",
      "              precision    recall  f1-score   support\n",
      "\n",
      "           0       0.50      0.61      0.55        92\n",
      "           1       0.58      0.55      0.56        96\n",
      "           2       0.30      0.25      0.27        97\n",
      "\n",
      "    accuracy                           0.47       285\n",
      "   macro avg       0.46      0.47      0.46       285\n",
      "weighted avg       0.46      0.47      0.46       285\n",
      "---------------------------------------------\n",
      "model_name:  AdaBoostClassifier\n",
      "Average Classification Report:\n",
      "              precision    recall  f1-score   support\n",
      "\n",
      "           0       0.64      0.49      0.56        92\n",
      "           1       0.69      0.61      0.65        96\n",
      "           2       0.40      0.54      0.46        97\n",
      "\n",
      "    accuracy                           0.55       285\n",
      "   macro avg       0.58      0.55      0.56       285\n",
      "weighted avg       0.58      0.55      0.55       285\n",
      "\n",
      "---------------------------------------------\n",
      "model_name:  GaussianNB\n",
      "Average Classification Report:\n",
      "              precision    recall  f1-score   support\n",
      "\n",
      "           0       0.36      0.83      0.50        92\n",
      "           1       0.79      0.11      0.20        96\n",
      "           2       0.32      0.20      0.24        97\n",
      "\n",
      "    accuracy                           0.37       285\n",
      "   macro avg       0.49      0.38      0.31       285\n",
      "weighted avg       0.49      0.37      0.31       285\n",
      "\n",
      "---------------------------------------------\n",
      "model_name:  LogisticRegression\n",
      "Average Classification Report:\n",
      "              precision    recall  f1-score   support\n",
      "\n",
      "           0       0.59      0.57      0.58        92\n",
      "           1       0.68      0.68      0.68        96\n",
      "           2       0.43      0.45      0.44        97\n",
      "\n",
      "    accuracy                           0.56       285\n",
      "   macro avg       0.57      0.57      0.57       285\n",
      "weighted avg       0.57      0.56      0.57       285\n",
      "\n",
      "---------------------------------------------\n",
      "model_name:  DecisionTreeClassifier\n",
      "Average Classification Report:\n",
      "              precision    recall  f1-score   support\n",
      "\n",
      "           0       0.50      0.54      0.52        92\n",
      "           1       0.61      0.65      0.63        96\n",
      "           2       0.40      0.34      0.37        97\n",
      "\n",
      "    accuracy                           0.51       285\n",
      "   macro avg       0.50      0.51      0.50       285\n",
      "weighted avg       0.50      0.51      0.50       285\n"
     ]
    },
    {
     "data": {
      "text/plain": "<Figure size 640x480 with 1 Axes>",
      "image/png": "[encoded data removed]"
     },
     "metadata": {},
     "output_type": "display_data"
    },
    {
     "data": {
      "text/plain": "  Modelo  Acurácia\n8     LR  0.564912\n1     RF  0.554386\n4    XGB  0.554386\n6    ADA  0.547368\n3    MLP  0.526316\n9     DT  0.508772\n2    SVM  0.501754\n5    KNN  0.466667\n7    NVB  0.371930\n0  Dummy  0.252632",
      "text/html": "<div>\n<style scoped>\n    .dataframe tbody tr th:only-of-type {\n        vertical-align: middle;\n    }\n\n    .dataframe tbody tr th {\n        vertical-align: top;\n    }\n\n    .dataframe thead th {\n        text-align: right;\n    }\n</style>\n<table border=\"1\" class=\"dataframe\">\n  <thead>\n    <tr style=\"text-align: right;\">\n      <th></th>\n      <th>Modelo</th>\n      <th>Acurácia</th>\n    </tr>\n  </thead>\n  <tbody>\n    <tr>\n      <th>8</th>\n      <td>LR</td>\n      <td>0.564912</td>\n    </tr>\n    <tr>\n      <th>1</th>\n      <td>RF</td>\n      <td>0.554386</td>\n    </tr>\n    <tr>\n      <th>4</th>\n      <td>XGB</td>\n      <td>0.554386</td>\n    </tr>\n    <tr>\n      <th>6</th>\n      <td>ADA</td>\n      <td>0.547368</td>\n    </tr>\n    <tr>\n      <th>3</th>\n      <td>MLP</td>\n      <td>0.526316</td>\n    </tr>\n    <tr>\n      <th>9</th>\n      <td>DT</td>\n      <td>0.508772</td>\n    </tr>\n    <tr>\n      <th>2</th>\n      <td>SVM</td>\n      <td>0.501754</td>\n    </tr>\n    <tr>\n      <th>5</th>\n      <td>KNN</td>\n      <td>0.466667</td>\n    </tr>\n    <tr>\n      <th>7</th>\n      <td>NVB</td>\n      <td>0.371930</td>\n    </tr>\n    <tr>\n      <th>0</th>\n      <td>Dummy</td>\n      <td>0.252632</td>\n    </tr>\n  </tbody>\n</table>\n</div>"
     },
     "execution_count": 84,
     "metadata": {},
     "output_type": "execute_result"
    }
   ],
   "source": [
    "avalia_dif_modelos_cv(X_train5_re, y_train5_re, 5)"
   ]
  },
  {
   "cell_type": "code",
   "execution_count": 85,
   "metadata": {
    "collapsed": false,
    "ExecuteTime": {
     "end_time": "2023-12-23T23:03:19.180703100Z",
     "start_time": "2023-12-23T23:03:14.753521700Z"
    }
   },
   "outputs": [
    {
     "name": "stdout",
     "output_type": "stream",
     "text": [
      "---------------------------------------------\n",
      "model_name:  DummyClassifier\n",
      "Average Classification Report:\n",
      "              precision    recall  f1-score   support\n",
      "\n",
      "           0       0.22      0.27      0.24        92\n",
      "           1       0.25      0.15      0.18        96\n",
      "           2       0.29      0.34      0.31        97\n",
      "\n",
      "    accuracy                           0.25       285\n",
      "   macro avg       0.25      0.25      0.25       285\n",
      "weighted avg       0.25      0.25      0.25       285\n",
      "---------------------------------------------\n",
      "model_name:  RandomForestClassifier\n",
      "Average Classification Report:\n",
      "              precision    recall  f1-score   support\n",
      "\n",
      "           0       0.68      0.75      0.72        92\n",
      "           1       0.74      0.81      0.77        96\n",
      "           2       0.53      0.42      0.47        97\n",
      "\n",
      "    accuracy                           0.66       285\n",
      "   macro avg       0.65      0.66      0.65       285\n",
      "weighted avg       0.65      0.66      0.65       285\n",
      "\n",
      "---------------------------------------------\n",
      "model_name:  SVC\n",
      "Average Classification Report:\n",
      "              precision    recall  f1-score   support\n",
      "\n",
      "           0       0.62      0.62      0.62        92\n",
      "           1       0.70      0.65      0.67        96\n",
      "           2       0.38      0.41      0.40        97\n",
      "\n",
      "    accuracy                           0.56       285\n",
      "   macro avg       0.57      0.56      0.56       285\n",
      "weighted avg       0.57      0.56      0.56       285\n",
      "---------------------------------------------\n",
      "model_name:  MLPClassifier\n",
      "Average Classification Report:\n",
      "              precision    recall  f1-score   support\n",
      "\n",
      "           0       0.62      0.60      0.61        92\n",
      "           1       0.71      0.68      0.70        96\n",
      "           2       0.40      0.43      0.41        97\n",
      "\n",
      "    accuracy                           0.57       285\n",
      "   macro avg       0.58      0.57      0.57       285\n",
      "weighted avg       0.58      0.57      0.57       285\n",
      "---------------------------------------------\n",
      "model_name:  XGBClassifier\n",
      "Average Classification Report:\n",
      "              precision    recall  f1-score   support\n",
      "\n",
      "           0       0.72      0.68      0.70        92\n",
      "           1       0.73      0.77      0.75        96\n",
      "           2       0.51      0.51      0.51        97\n",
      "\n",
      "    accuracy                           0.65       285\n",
      "   macro avg       0.65      0.65      0.65       285\n",
      "weighted avg       0.65      0.65      0.65       285\n",
      "\n",
      "---------------------------------------------\n",
      "model_name:  KNeighborsClassifier\n",
      "Average Classification Report:\n",
      "              precision    recall  f1-score   support\n",
      "\n",
      "           0       0.50      0.60      0.55        92\n",
      "           1       0.62      0.67      0.64        96\n",
      "           2       0.26      0.20      0.22        97\n",
      "\n",
      "    accuracy                           0.48       285\n",
      "   macro avg       0.46      0.49      0.47       285\n",
      "weighted avg       0.46      0.48      0.47       285\n",
      "---------------------------------------------\n",
      "model_name:  AdaBoostClassifier\n",
      "Average Classification Report:\n",
      "              precision    recall  f1-score   support\n",
      "\n",
      "           0       0.64      0.45      0.53        92\n",
      "           1       0.67      0.56      0.61        96\n",
      "           2       0.39      0.57      0.46        97\n",
      "\n",
      "    accuracy                           0.53       285\n",
      "   macro avg       0.57      0.53      0.53       285\n",
      "weighted avg       0.57      0.53      0.53       285\n",
      "\n",
      "---------------------------------------------\n",
      "model_name:  GaussianNB\n",
      "Average Classification Report:\n",
      "              precision    recall  f1-score   support\n",
      "\n",
      "           0       0.37      0.80      0.50        92\n",
      "           1       0.58      0.11      0.19        96\n",
      "           2       0.30      0.20      0.24        97\n",
      "\n",
      "    accuracy                           0.36       285\n",
      "   macro avg       0.41      0.37      0.31       285\n",
      "weighted avg       0.41      0.36      0.31       285\n",
      "\n",
      "---------------------------------------------\n",
      "model_name:  LogisticRegression\n",
      "Average Classification Report:\n",
      "              precision    recall  f1-score   support\n",
      "\n",
      "           0       0.66      0.66      0.66        92\n",
      "           1       0.79      0.75      0.77        96\n",
      "           2       0.49      0.51      0.49        97\n",
      "\n",
      "    accuracy                           0.64       285\n",
      "   macro avg       0.64      0.64      0.64       285\n",
      "weighted avg       0.64      0.64      0.64       285\n",
      "\n",
      "---------------------------------------------\n",
      "model_name:  DecisionTreeClassifier\n",
      "Average Classification Report:\n",
      "              precision    recall  f1-score   support\n",
      "\n",
      "           0       0.69      0.66      0.68        92\n",
      "           1       0.71      0.70      0.70        96\n",
      "           2       0.45      0.47      0.46        97\n",
      "\n",
      "    accuracy                           0.61       285\n",
      "   macro avg       0.62      0.61      0.61       285\n",
      "weighted avg       0.61      0.61      0.61       285\n"
     ]
    },
    {
     "data": {
      "text/plain": "<Figure size 640x480 with 1 Axes>",
      "image/png": "[encoded data removed]"
     },
     "metadata": {},
     "output_type": "display_data"
    },
    {
     "data": {
      "text/plain": "  Modelo  Acurácia\n1     RF  0.659649\n4    XGB  0.652632\n8     LR  0.638596\n9     DT  0.610526\n3    MLP  0.568421\n2    SVM  0.557895\n6    ADA  0.526316\n5    KNN  0.484211\n7    NVB  0.364912\n0  Dummy  0.252632",
      "text/html": "<div>\n<style scoped>\n    .dataframe tbody tr th:only-of-type {\n        vertical-align: middle;\n    }\n\n    .dataframe tbody tr th {\n        vertical-align: top;\n    }\n\n    .dataframe thead th {\n        text-align: right;\n    }\n</style>\n<table border=\"1\" class=\"dataframe\">\n  <thead>\n    <tr style=\"text-align: right;\">\n      <th></th>\n      <th>Modelo</th>\n      <th>Acurácia</th>\n    </tr>\n  </thead>\n  <tbody>\n    <tr>\n      <th>1</th>\n      <td>RF</td>\n      <td>0.659649</td>\n    </tr>\n    <tr>\n      <th>4</th>\n      <td>XGB</td>\n      <td>0.652632</td>\n    </tr>\n    <tr>\n      <th>8</th>\n      <td>LR</td>\n      <td>0.638596</td>\n    </tr>\n    <tr>\n      <th>9</th>\n      <td>DT</td>\n      <td>0.610526</td>\n    </tr>\n    <tr>\n      <th>3</th>\n      <td>MLP</td>\n      <td>0.568421</td>\n    </tr>\n    <tr>\n      <th>2</th>\n      <td>SVM</td>\n      <td>0.557895</td>\n    </tr>\n    <tr>\n      <th>6</th>\n      <td>ADA</td>\n      <td>0.526316</td>\n    </tr>\n    <tr>\n      <th>5</th>\n      <td>KNN</td>\n      <td>0.484211</td>\n    </tr>\n    <tr>\n      <th>7</th>\n      <td>NVB</td>\n      <td>0.364912</td>\n    </tr>\n    <tr>\n      <th>0</th>\n      <td>Dummy</td>\n      <td>0.252632</td>\n    </tr>\n  </tbody>\n</table>\n</div>"
     },
     "execution_count": 85,
     "metadata": {},
     "output_type": "execute_result"
    }
   ],
   "source": [
    "avalia_dif_modelos_cv(X_train6_re, y_train6_re, 5)"
   ]
  },
  {
   "cell_type": "markdown",
   "metadata": {
    "collapsed": false
   },
   "source": [
    " ## Avaliando modelos com Under-Sampling e Cross Validation"
   ]
  },
  {
   "cell_type": "code",
   "execution_count": 86,
   "metadata": {
    "collapsed": false,
    "ExecuteTime": {
     "end_time": "2023-12-23T23:03:19.184970Z",
     "start_time": "2023-12-23T23:03:19.178130400Z"
    }
   },
   "outputs": [],
   "source": [
    "# Chamando função para cada uma das bases\n",
    "# Aplicando Random Forest no under-sampling com Cross Validation de 10 folds\n",
    "# # \n",
    "# # perform_cross_validation(model, data1_re, target1_re, 5, True)\n",
    "# # \n",
    "# # "
   ]
  },
  {
   "cell_type": "code",
   "execution_count": 87,
   "metadata": {
    "collapsed": false,
    "ExecuteTime": {
     "end_time": "2023-12-23T23:03:19.188013Z",
     "start_time": "2023-12-23T23:03:19.179702Z"
    }
   },
   "outputs": [],
   "source": [
    "# perform_cross_validation(model, data2_re, target2_re, 5, True)\n"
   ]
  },
  {
   "cell_type": "code",
   "execution_count": 88,
   "metadata": {
    "collapsed": false,
    "ExecuteTime": {
     "end_time": "2023-12-23T23:03:19.192141100Z",
     "start_time": "2023-12-23T23:03:19.183828600Z"
    }
   },
   "outputs": [],
   "source": [
    "# perform_cross_validation(model, data3_re, target3_re, 5, True)"
   ]
  },
  {
   "cell_type": "code",
   "execution_count": 89,
   "metadata": {
    "collapsed": false,
    "ExecuteTime": {
     "end_time": "2023-12-23T23:03:19.194112Z",
     "start_time": "2023-12-23T23:03:19.186978100Z"
    }
   },
   "outputs": [],
   "source": [
    "# perform_cross_validation(model, data4_re, target4_re, 5, True)"
   ]
  },
  {
   "cell_type": "code",
   "execution_count": 90,
   "metadata": {
    "collapsed": false,
    "ExecuteTime": {
     "end_time": "2023-12-23T23:03:19.195113900Z",
     "start_time": "2023-12-23T23:03:19.190635500Z"
    }
   },
   "outputs": [],
   "source": [
    "# modelMLP = MLPClassifier()\n",
    "# perform_cross_validation(modelMLP, data5_re, target5_re, 5, True)"
   ]
  },
  {
   "cell_type": "code",
   "execution_count": 91,
   "metadata": {
    "collapsed": false,
    "ExecuteTime": {
     "end_time": "2023-12-23T23:03:19.199118Z",
     "start_time": "2023-12-23T23:03:19.193608900Z"
    }
   },
   "outputs": [],
   "source": [
    "# perform_cross_validation(model, data6_re, target6_re, 5, True)"
   ]
  },
  {
   "cell_type": "markdown",
   "metadata": {
    "collapsed": false
   },
   "source": [
    "## Tunning dos hiperparâmetros"
   ]
  },
  {
   "cell_type": "markdown",
   "metadata": {
    "collapsed": false
   },
   "source": [
    "### Parametros para grid search"
   ]
  },
  {
   "cell_type": "code",
   "execution_count": 92,
   "metadata": {
    "ExecuteTime": {
     "end_time": "2023-12-23T23:03:19.210755500Z",
     "start_time": "2023-12-23T23:03:19.202121500Z"
    }
   },
   "outputs": [],
   "source": [
    "#Definindo parametros:\n",
    "#Definir os modelos e os grids de parâmetros\n",
    "models = {\n",
    "    'Random Forest': RandomForestClassifier(n_jobs=n_cpus, random_state=13),\n",
    "    'SVM': SVC(random_state=13),\n",
    "    'MLP': MLPClassifier(random_state=13),\n",
    "    'XGBoost': XGBClassifier(n_jobs=n_cpus, random_state=13),\n",
    "    'KNN': KNeighborsClassifier(n_jobs=n_cpus),\n",
    "    'ADA': AdaBoostClassifier(random_state=13),\n",
    "    'NVB': GaussianNB(),\n",
    "    'LR': LogisticRegression(random_state=13, n_jobs=n_cpus, max_iter=1000),\n",
    "    'DT': DecisionTreeClassifier(random_state=13)\n",
    "}\n",
    "\n",
    "param_grids = [\n",
    "    {\n",
    "        'model': 'Random Forest',\n",
    "        'params': {\n",
    "            'n_estimators': [50, 100, 200, 300, 400, 500],\n",
    "            'max_depth': [None, 5, 10, 15, 20, ],\n",
    "            'min_samples_split': [2, 5, 10],\n",
    "            'min_samples_leaf': [1, 2, 4],\n",
    "            'max_features': ['auto', 'sqrt', 'log2'],\n",
    "            'n_jobs': [n_cpus]\n",
    "        }\n",
    "    },\n",
    "    {\n",
    "        'model': 'SVM',\n",
    "        'params': {\n",
    "            'C': [0.001, 0.01, 0.1, 1, 10, 100, 1000],\n",
    "            'kernel': ['linear', 'rbf', 'poly', 'sigmoid'],\n",
    "            'gamma': [1, 0.1, 0.01, 0.001, 0.0001, 'scale', 'auto']\n",
    "        }\n",
    "    },\n",
    "    {\n",
    "        'model': 'MLP',\n",
    "        'params': {\n",
    "            'hidden_layer_sizes': [(10,), (50,), (100,), (150,), (200,)],\n",
    "            'activation': ['logistic', 'tanh', 'relu'],\n",
    "            'alpha': [0.0001, 0.001, 0.01, 0.1, 1],\n",
    "            'learning_rate': ['constant', 'invscaling', 'adaptive']\n",
    "        }\n",
    "    },\n",
    "    {\n",
    "        'model': 'XGBoost',\n",
    "        'params': {\n",
    "            'n_estimators': [50, 100, 200, 300, 400, 500],\n",
    "            'max_depth': [3, 5, 7, 9, 11, 13, 15, ],\n",
    "            'learning_rate': [0.01, 0.1, 0.2, 0.3],\n",
    "            'subsample': [0.6, 0.8, 1.0],\n",
    "            'colsample_bytree': [0.6, 0.8, 1.0],\n",
    "            'n_jobs': [n_cpus]\n",
    "        }\n",
    "    }\n",
    "    ,\n",
    "    {\n",
    "        'model': 'KNN',\n",
    "        'params': {\n",
    "            'n_neighbors': [3, 5, 7, 9, 11, 13, 15],\n",
    "            'weights': ['uniform', 'distance'],\n",
    "            'algorithm': ['auto', 'ball_tree', 'kd_tree', 'brute'],\n",
    "            'leaf_size': [5,10, 20, 30, 40, 50],\n",
    "            'p': [1, 2, 3, 4, 5, 6]\n",
    "        }\n",
    "    }\n",
    "    ,\n",
    "    {\n",
    "        'model': 'ADA',\n",
    "        'params': {\n",
    "            'n_estimators': [50, 100, 200, 300, 400, 500],\n",
    "            'learning_rate': [0.01, 0.1, 0.2, 0.3],\n",
    "            'algorithm': ['SAMME', 'SAMME.R']\n",
    "        }\n",
    "    }\n",
    "    ,\n",
    "    {\n",
    "        'model': 'NVB',\n",
    "        'params': {\n",
    "            'var_smoothing': [1e-09, 1e-08, 1e-07, 1e-06, 1e-05]\n",
    "        }\n",
    "    }\n",
    "    ,\n",
    "    {\n",
    "        'model': 'LR',\n",
    "        'params': {\n",
    "            'penalty': ['l1', 'l2', 'elasticnet', 'none'],\n",
    "            'C': [0.1, 1, 10, 100],\n",
    "            'solver': ['newton-cg', 'lbfgs', 'liblinear', 'sag', 'saga'],\n",
    "            'max_iter': [50, 100, 200, 300, 400, 500],\n",
    "            'n_jobs': [n_cpus]\n",
    "        }\n",
    "    }\n",
    "]"
   ]
  },
  {
   "cell_type": "markdown",
   "metadata": {
    "collapsed": false
   },
   "source": [
    "### Tunning dos modelos com Random Under-Sampling"
   ]
  },
  {
   "cell_type": "code",
   "execution_count": 93,
   "metadata": {
    "collapsed": false,
    "ExecuteTime": {
     "end_time": "2023-12-23T23:40:51.000857800Z",
     "start_time": "2023-12-23T23:03:19.207752400Z"
    }
   },
   "outputs": [
    {
     "name": "stdout",
     "output_type": "stream",
     "text": [
      "========================== Data 1  =================================\n",
      "Tuning do modelo Random Forest iniciado...\n",
      "Tempo de execução: 493.66s | Modelo: Random Forest\n",
      "Acurácia do modelo Random Forest: 0.4912\n",
      "Tuning do modelo SVM iniciado...\n",
      "Tempo de execução: 16.11s | Modelo: SVM\n",
      "Acurácia do modelo SVM: 0.5439\n",
      "Tuning do modelo MLP iniciado...\n",
      "Tempo de execução: 101.26s | Modelo: MLP\n",
      "Acurácia do modelo MLP: 0.5263\n",
      "Tuning do modelo XGBoost iniciado...\n",
      "Tempo de execução: 1429.98s | Modelo: XGBoost\n",
      "Acurácia do modelo XGBoost: 0.5614\n",
      "Tuning do modelo KNN iniciado...\n",
      "Tempo de execução: 128.10s | Modelo: KNN\n",
      "Acurácia do modelo KNN: 0.3684\n",
      "Tuning do modelo ADA iniciado...\n",
      "Tempo de execução: 43.02s | Modelo: ADA\n",
      "Acurácia do modelo ADA: 0.5789\n",
      "Tuning do modelo NVB iniciado...\n",
      "Tempo de execução: 0.15s | Modelo: NVB\n",
      "Acurácia do modelo NVB: 0.3333\n",
      "Tuning do modelo LR iniciado...\n",
      "Tempo de execução: 39.18s | Modelo: LR\n",
      "Acurácia do modelo LR: 0.5088\n",
      "\n",
      "\n",
      "Melhor modelo: ADA | Acurácia: 0.5789473684210527\n",
      "\n",
      "Tempo de execução total :39.18s\n"
     ]
    }
   ],
   "source": [
    "# Chamando função para cada uma das bases\n",
    "print(\"========================== Data 1  =================================\")\n",
    "best_models1 = perform_model_tuning(models, param_grids, \"data1\", X_train1_re, y_train1_re, X_val1_re, y_val1_re)"
   ]
  },
  {
   "cell_type": "code",
   "execution_count": null,
   "metadata": {
    "collapsed": false
   },
   "outputs": [],
   "source": [
    "print(\"========================== Data 2  =================================\")\n",
    "best_models2 = perform_model_tuning(models, param_grids, \"data2\", X_train2_re, y_train2_re, X_val2_re, y_val2_re)"
   ]
  },
  {
   "cell_type": "code",
   "execution_count": null,
   "metadata": {
    "collapsed": false
   },
   "outputs": [],
   "source": [
    "print(\"========================== Data 3  =================================\")\n",
    "best_models3 = perform_model_tuning(models, param_grids, \"data3\", X_train3_re, y_train3_re, X_val3_re, y_val3_re)"
   ]
  },
  {
   "cell_type": "code",
   "execution_count": null,
   "metadata": {
    "collapsed": false
   },
   "outputs": [],
   "source": [
    "print(\"========================== Data 4  =================================\")\n",
    "best_models4 = perform_model_tuning(models, param_grids, \"data4\", X_train4_re, y_train4_re, X_val4_re, y_val4_re)"
   ]
  },
  {
   "cell_type": "code",
   "execution_count": null,
   "metadata": {
    "collapsed": false
   },
   "outputs": [],
   "source": [
    "print(\"========================== Data 5  =================================\")\n",
    "best_models5 = perform_model_tuning(models, param_grids, \"data5\", X_train5_re, y_train5_re, X_val5_re, y_val5_re)"
   ]
  },
  {
   "cell_type": "code",
   "execution_count": null,
   "metadata": {
    "collapsed": false
   },
   "outputs": [],
   "source": [
    "print(\"========================== Data 6  =================================\")\n",
    "best_models6 = perform_model_tuning(models, param_grids, \"data6\", X_train6_re, y_train6_re, X_val6_re, y_val6_re)"
   ]
  },
  {
   "cell_type": "markdown",
   "metadata": {
    "collapsed": false
   },
   "source": [
    "### Avaliando os modelos com os melhores parâmetros"
   ]
  },
  {
   "cell_type": "code",
   "execution_count": null,
   "metadata": {
    "ExecuteTime": {
     "start_time": "2023-12-23T16:42:12.042873300Z"
    },
    "collapsed": false
   },
   "outputs": [],
   "source": [
    "# Pìcle best_models 1 à 6\n",
    "with open('best_models1.pkl', 'wb') as f:\n",
    "    pickle.dump(best_models1, f)\n",
    "with open('best_models2.pkl', 'wb') as f:\n",
    "    pickle.dump(best_models2, f)\n",
    "with open('best_models3.pkl', 'wb') as f:\n",
    "    pickle.dump(best_models3, f)\n",
    "with open('best_models4.pkl', 'wb') as f:\n",
    "    pickle.dump(best_models4, f)\n",
    "with open('best_models5.pkl', 'wb') as f:\n",
    "    pickle.dump(best_models5, f)\n",
    "with open('best_models6.pkl', 'wb') as f:\n",
    "    pickle.dump(best_models6, f)"
   ]
  },
  {
   "cell_type": "code",
   "execution_count": null,
   "metadata": {
    "ExecuteTime": {
     "start_time": "2023-12-23T16:42:12.043874600Z"
    },
    "collapsed": false
   },
   "outputs": [],
   "source": [
    "# importando best_models1 a 3\n",
    "print(\"========================== Data 1  =================================\")\n",
    "with open('best_models1.pkl', 'rb') as file:\n",
    "    best_models1 = pickle.load(file)\n",
    "    print(f'Best Models 1 = \\n{best_models1}')\n",
    "print(\"========================== Data 2  =================================\")\n",
    "with open('best_models2.pkl', 'rb') as file:\n",
    "    best_models2 = pickle.load(file)\n",
    "    print(f'Best Models 2 = \\n{best_models2}')\n",
    "print(\"========================== Data 3  =================================\")\n",
    "with open('best_models3.pkl', 'rb') as file:\n",
    "    best_models3 = pickle.load(file)\n",
    "    print(f'Best Models 3 = \\n{best_models3}')\n",
    "print(\"========================== Data 4  =================================\")\n",
    "with open('best_models4.pkl', 'rb') as file:\n",
    "    best_models4 = pickle.load(file)\n",
    "    print(f'Best Models 4 = \\n{best_models4}')\n",
    "print(\"========================== Data 5  =================================\")\n",
    "with open('best_models5.pkl', 'rb') as file:\n",
    "    best_models5 = pickle.load(file)\n",
    "    print(f'Best Models 5 = \\n{best_models5}')\n",
    "print(\"========================== Data 6  =================================\")\n",
    "with open('best_models6.pkl', 'rb') as file:\n",
    "    best_models6 = pickle.load(file)\n",
    "    print(f'Best Models 6 = \\n{best_models6}')"
   ]
  },
  {
   "cell_type": "markdown",
   "metadata": {
    "collapsed": false
   },
   "source": [
    "### Selecionando o melhor modelo de cada base"
   ]
  },
  {
   "cell_type": "code",
   "execution_count": null,
   "metadata": {
    "collapsed": false
   },
   "outputs": [],
   "source": [
    "# Pegar o melhor modelo de cada base, usando max, para em seguida aplicar SBFS e SFFS com cross validation\n",
    "#\n",
    "\n",
    "\n",
    "# para cada um dos modelos\n",
    "#best_model1 = max(best_models1, key=best_models1.get)\n",
    "#modelo1 = best_models1['Random Forest']"
   ]
  },
  {
   "cell_type": "code",
   "execution_count": 18,
   "metadata": {
    "ExecuteTime": {
     "end_time": "2023-12-17T22:22:46.478509600Z",
     "start_time": "2023-12-17T22:22:46.467038800Z"
    },
    "collapsed": false
   },
   "outputs": [
    {
     "name": "stdout",
     "output_type": "stream",
     "text": [
      "{'bootstrap': True, 'ccp_alpha': 0.0, 'class_weight': None, 'criterion': 'gini', 'max_depth': 15, 'max_features': 'log2', 'max_leaf_nodes': None, 'max_samples': None, 'min_impurity_decrease': 0.0, 'min_samples_leaf': 1, 'min_samples_split': 10, 'min_weight_fraction_leaf': 0.0, 'n_estimators': 100, 'n_jobs': 16, 'oob_score': False, 'random_state': None, 'verbose': 0, 'warm_start': False}\n"
     ]
    }
   ],
   "source": [
    "\n",
    "#best_model2 = max(best_models2, key=best_models2.get)\n",
    "modelo2 = best_models2['Random Forest']\n",
    "\n",
    "# Ver todos os parametros do modelo\n",
    "print(modelo2.get_params())"
   ]
  },
  {
   "cell_type": "code",
   "execution_count": 19,
   "metadata": {
    "ExecuteTime": {
     "end_time": "2023-12-17T22:28:57.398700Z",
     "start_time": "2023-12-17T22:28:57.380198Z"
    },
    "collapsed": false
   },
   "outputs": [
    {
     "name": "stdout",
     "output_type": "stream",
     "text": [
      "{'bootstrap': True, 'ccp_alpha': 0.0, 'class_weight': None, 'criterion': 'gini', 'max_depth': 20, 'max_features': 'sqrt', 'max_leaf_nodes': None, 'max_samples': None, 'min_impurity_decrease': 0.0, 'min_samples_leaf': 2, 'min_samples_split': 5, 'min_weight_fraction_leaf': 0.0, 'n_estimators': 200, 'n_jobs': 16, 'oob_score': False, 'random_state': None, 'verbose': 0, 'warm_start': False}\n"
     ]
    }
   ],
   "source": [
    "\n",
    "#best_model3 = max(best_models3, key=best_models3.get)\n",
    "modelo3 = best_models3['Random Forest']\n",
    "\n",
    "# Ver todos os parametros do modelo\n",
    "print(modelo3.get_params())"
   ]
  },
  {
   "cell_type": "code",
   "execution_count": 13,
   "metadata": {
    "ExecuteTime": {
     "end_time": "2023-12-17T22:07:14.251687600Z",
     "start_time": "2023-12-17T22:07:14.235547200Z"
    },
    "collapsed": false
   },
   "outputs": [
    {
     "name": "stdout",
     "output_type": "stream",
     "text": [
      "RandomForestClassifier(max_depth=15, max_features='log2', min_samples_split=10,\n",
      "                       n_jobs=16)\n",
      "RandomForestClassifier(max_depth=20, min_samples_leaf=2, min_samples_split=5,\n",
      "                       n_estimators=200, n_jobs=16)\n"
     ]
    }
   ],
   "source": [
    "\n",
    "#best_model4 = max(best_models4, key=best_models4.get)\n",
    "#modelo4 = best_models4['Random Forest']\n",
    "# \n",
    "# modelo5 = best_models5['MLP']\n",
    "# \n",
    "# modelo6 = best_models6['XGBoost']\n",
    "#print(modelo1)\n",
    "print(modelo2)\n",
    "print(modelo3)\n",
    "#print(modelo4)"
   ]
  },
  {
   "cell_type": "markdown",
   "metadata": {
    "collapsed": false
   },
   "source": [
    "### Salvando os modelos"
   ]
  },
  {
   "cell_type": "code",
   "execution_count": 75,
   "metadata": {
    "ExecuteTime": {
     "end_time": "2023-12-17T20:09:53.651105200Z",
     "start_time": "2023-12-17T20:09:53.603590Z"
    },
    "collapsed": false
   },
   "outputs": [],
   "source": [
    "# Salvando modelo1 à 4 em pickle\n",
    "#with open('modelo1.pkl', 'wb') as f:\n",
    "#    pickle.dump(modelo1, f)\n",
    "with open('modelo2.pkl', 'wb') as f:\n",
    "   pickle.dump(modelo2, f)\n",
    "with open('modelo3.pkl', 'wb') as f:\n",
    "   pickle.dump(modelo3, f)\n",
    "#with open('modelo4.pkl', 'wb') as f:\n",
    "#    pickle.dump(modelo4, f)\n",
    "# with open('modelo5.pkl', 'wb') as f:\n",
    "#     pickle.dump(modelo5, f)\n",
    "# with open('modelo6.pkl', 'wb') as f:\n",
    "#     pickle.dump(modelo6, f)"
   ]
  },
  {
   "cell_type": "markdown",
   "metadata": {
    "collapsed": false
   },
   "source": [
    "### [Abrir modelos pickle]"
   ]
  },
  {
   "cell_type": "code",
   "execution_count": 6,
   "metadata": {
    "ExecuteTime": {
     "end_time": "2023-12-17T22:05:10.887444900Z",
     "start_time": "2023-12-17T22:05:10.410839800Z"
    },
    "collapsed": false
   },
   "outputs": [
    {
     "ename": "NameError",
     "evalue": "name 'modelo2' is not defined",
     "output_type": "error",
     "traceback": [
      "\u001B[1;31m---------------------------------------------------------------------------\u001B[0m",
      "\u001B[1;31mNameError\u001B[0m                                 Traceback (most recent call last)",
      "Cell \u001B[1;32mIn[6], line 8\u001B[0m\n\u001B[0;32m      6\u001B[0m \u001B[38;5;28;01mwith\u001B[39;00m \u001B[38;5;28mopen\u001B[39m(\u001B[38;5;124m'\u001B[39m\u001B[38;5;124mmodelo2.pkl\u001B[39m\u001B[38;5;124m'\u001B[39m, \u001B[38;5;124m'\u001B[39m\u001B[38;5;124mrb\u001B[39m\u001B[38;5;124m'\u001B[39m) \u001B[38;5;28;01mas\u001B[39;00m file:\n\u001B[0;32m      7\u001B[0m     modelo2_ \u001B[38;5;241m=\u001B[39m pickle\u001B[38;5;241m.\u001B[39mload(file)\n\u001B[1;32m----> 8\u001B[0m     \u001B[38;5;28mprint\u001B[39m(\u001B[38;5;124mf\u001B[39m\u001B[38;5;124m'\u001B[39m\u001B[38;5;124mModelo2 = \u001B[39m\u001B[38;5;130;01m\\n\u001B[39;00m\u001B[38;5;132;01m{\u001B[39;00m\u001B[43mmodelo2\u001B[49m\u001B[38;5;132;01m}\u001B[39;00m\u001B[38;5;124m'\u001B[39m)\n\u001B[0;32m      9\u001B[0m \u001B[38;5;28;01mwith\u001B[39;00m \u001B[38;5;28mopen\u001B[39m(\u001B[38;5;124m'\u001B[39m\u001B[38;5;124mmodelo3.pkl\u001B[39m\u001B[38;5;124m'\u001B[39m, \u001B[38;5;124m'\u001B[39m\u001B[38;5;124mrb\u001B[39m\u001B[38;5;124m'\u001B[39m) \u001B[38;5;28;01mas\u001B[39;00m file:\n\u001B[0;32m     10\u001B[0m     modelo3_ \u001B[38;5;241m=\u001B[39m pickle\u001B[38;5;241m.\u001B[39mload(file)\n",
      "\u001B[1;31mNameError\u001B[0m: name 'modelo2' is not defined"
     ]
    }
   ],
   "source": [
    "# # Importando modelos pickl\n",
    "# \n",
    "# with open('modelo1.pkl', 'rb') as file:\n",
    "#     modelo1 = pickle.load(file)\n",
    "#     print(f'Modelo1 = \\n{modelo1}')\n",
    "with open('modelo2.pkl', 'rb') as file:\n",
    "    modelo2_ = pickle.load(file)\n",
    "    print(f'Modelo2 = \\n{modelo2}')\n",
    "with open('modelo3.pkl', 'rb') as file:\n",
    "    modelo3_ = pickle.load(file)\n",
    "    print(f'Modelo3 = \\n{modelo3}')\n",
    "# with open('modelo4.pkl', 'rb') as file:\n",
    "#     modelo4 = pickle.load(file)\n",
    "#     print(f'Modelo4 = \\n{modelo4}')\n",
    "# with open('modelo5.pkl', 'rb') as file:\n",
    "#     modelo5 = pickle.load(file)\n",
    "#     print(f'Modelo5 = \\n{modelo5}')\n",
    "# with open('modelo6.pkl', 'rb') as file:\n",
    "#     modelo6 = pickle.load(file)\n",
    "#     print(f'Modelo6 = \\n{modelo6}')\n"
   ]
  },
  {
   "cell_type": "markdown",
   "metadata": {
    "collapsed": false
   },
   "source": [
    "### Avaliando os modelos com cross validation"
   ]
  },
  {
   "cell_type": "code",
   "execution_count": null,
   "metadata": {
    "ExecuteTime": {
     "start_time": "2023-11-17T00:53:08.610295119Z"
    },
    "collapsed": false
   },
   "outputs": [],
   "source": [
    "# Analisar cross validation para cada um dos modelos\n",
    "#print(\"========================== Data 1  =================================\")\n",
    "#c1 = cross_val_score(modelo1, data1_re, target1_re , cv=5)\n",
    "#print(c1)\n",
    "#print(c1.mean())\n",
    "\n",
    "#perform_cross_validation(modelo1, data1_re, target1_re, 5, True)"
   ]
  },
  {
   "cell_type": "code",
   "execution_count": 15,
   "metadata": {
    "ExecuteTime": {
     "end_time": "2023-12-17T22:07:25.297292100Z",
     "start_time": "2023-12-17T22:07:23.864336900Z"
    },
    "collapsed": false
   },
   "outputs": [
    {
     "name": "stdout",
     "output_type": "stream",
     "text": [
      "========================== Data 2  =================================\n",
      "[0.68888889 0.71111111 0.79775281 0.6741573  0.76404494]\n",
      "0.727191011235955\n",
      "Fold 1 Classification Report:\n",
      "              precision    recall  f1-score   support\n",
      "\n",
      "           0       1.00      0.74      0.85        89\n",
      "           2       0.00      0.00      0.00         0\n",
      "\n",
      "    accuracy                           0.74        89\n",
      "   macro avg       0.50      0.37      0.43        89\n",
      "weighted avg       1.00      0.74      0.85        89\n",
      "\n",
      "--------------------------------------------------\n",
      "Fold 2 Classification Report:\n",
      "              precision    recall  f1-score   support\n",
      "\n",
      "           0       1.00      0.78      0.88        60\n",
      "           1       1.00      0.79      0.88        29\n",
      "           2       0.00      0.00      0.00         0\n",
      "\n",
      "    accuracy                           0.79        89\n",
      "   macro avg       0.67      0.53      0.59        89\n",
      "weighted avg       1.00      0.79      0.88        89\n",
      "\n",
      "--------------------------------------------------\n",
      "Fold 3 Classification Report:\n",
      "              precision    recall  f1-score   support\n",
      "\n",
      "           0       0.00      0.00      0.00         0\n",
      "           1       1.00      0.86      0.92        90\n",
      "           2       0.00      0.00      0.00         0\n",
      "\n",
      "    accuracy                           0.86        90\n",
      "   macro avg       0.33      0.29      0.31        90\n",
      "weighted avg       1.00      0.86      0.92        90\n",
      "\n",
      "--------------------------------------------------\n",
      "Fold 4 Classification Report:\n",
      "              precision    recall  f1-score   support\n",
      "\n",
      "           0       0.00      0.00      0.00         0\n",
      "           1       0.59      0.97      0.73        30\n",
      "           2       0.97      0.47      0.64        59\n",
      "\n",
      "    accuracy                           0.64        89\n",
      "   macro avg       0.52      0.48      0.46        89\n",
      "weighted avg       0.84      0.64      0.67        89\n",
      "\n",
      "--------------------------------------------------\n",
      "Fold 5 Classification Report:\n",
      "              precision    recall  f1-score   support\n",
      "\n",
      "           0       0.00      0.00      0.00         0\n",
      "           1       0.00      0.00      0.00         0\n",
      "           2       1.00      0.60      0.75        90\n",
      "\n",
      "    accuracy                           0.60        90\n",
      "   macro avg       0.33      0.20      0.25        90\n",
      "weighted avg       1.00      0.60      0.75        90\n",
      "\n",
      "--------------------------------------------------\n",
      "Average Classification Report:\n",
      "              precision    recall  f1-score   support\n",
      "\n",
      "           0       0.77      0.76      0.76       149\n",
      "           1       0.79      0.87      0.82       149\n",
      "           2       0.60      0.55      0.58       149\n",
      "\n",
      "    accuracy                           0.72       447\n",
      "   macro avg       0.72      0.72      0.72       447\n",
      "weighted avg       0.72      0.72      0.72       447\n",
      "\n",
      "--------------------------------------------------\n",
      "Accuracy: 0.72\n"
     ]
    }
   ],
   "source": [
    "print(\"========================== Data 2  =================================\")\n",
    "c2 = cross_val_score(modelo2, data2_re, target2_re, cv=5)\n",
    "print(c2)\n",
    "print(c2.mean())\n",
    "\n",
    "perform_cross_validation(modelo2, data2_re, target2_re, 5, True)"
   ]
  },
  {
   "cell_type": "code",
   "execution_count": null,
   "metadata": {
    "ExecuteTime": {
     "start_time": "2023-11-17T00:53:08.611649064Z"
    },
    "collapsed": false
   },
   "outputs": [],
   "source": [
    "#print(\"========================== Data 3  =================================\")\n",
    "#c3 = cross_val_score(modelo3, data3_re, target3_re, cv=5)\n",
    "#print(c3)\n",
    "#print(c3.mean())\n",
    "\n",
    "#perform_cross_validation(modelo3, data3_re, target3_re, 5, True)\n"
   ]
  },
  {
   "cell_type": "code",
   "execution_count": null,
   "metadata": {
    "ExecuteTime": {
     "start_time": "2023-11-17T00:53:08.612509749Z"
    },
    "collapsed": false
   },
   "outputs": [],
   "source": [
    "#print(\"========================== Data 4  =================================\")\n",
    "#c4 = cross_val_score(modelo4, data4_re, target4_re, cv=5)\n",
    "#print(c4)\n",
    "#print(c4.mean())\n",
    "\n",
    "#perform_cross_validation(modelo4, data4_re, target4_re, 5, True)"
   ]
  },
  {
   "cell_type": "code",
   "execution_count": null,
   "metadata": {
    "ExecuteTime": {
     "start_time": "2023-11-17T00:53:08.613263284Z"
    },
    "collapsed": false
   },
   "outputs": [],
   "source": [
    "print(\"========================== Data 5  =================================\")\n",
    "c5 = cross_val_score(modelo5, data5_re, target5_re, cv=5)\n",
    "print(c5)\n",
    "print(c5.mean())\n",
    "\n",
    "perform_cross_validation(modelo5, data5_re, target5_re, 5, True)"
   ]
  },
  {
   "cell_type": "code",
   "execution_count": null,
   "metadata": {
    "ExecuteTime": {
     "start_time": "2023-11-17T00:53:08.614062484Z"
    },
    "collapsed": false
   },
   "outputs": [],
   "source": [
    "print(\"========================== Data 6  =================================\")\n",
    "c6 = cross_val_score(modelo6, data6_re, target6_re, cv=5)\n",
    "print(c6)\n",
    "print(c6.mean())\n",
    "\n",
    "perform_cross_validation(modelo6, data6_re, target6_re, 5, True)"
   ]
  },
  {
   "cell_type": "markdown",
   "metadata": {
    "collapsed": false
   },
   "source": [
    "## Feature Selection"
   ]
  },
  {
   "cell_type": "code",
   "execution_count": null,
   "metadata": {
    "ExecuteTime": {
     "start_time": "2023-11-17T00:53:08.615494715Z"
    },
    "collapsed": false
   },
   "outputs": [],
   "source": [
    "updt_maxfeature(modelo1)\n",
    "updt_maxfeature(modelo2)\n",
    "updt_maxfeature(modelo3)\n",
    "updt_maxfeature(modelo4)\n",
    "updt_maxfeature(modelo5)\n",
    "updt_maxfeature(modelo6)"
   ]
  },
  {
   "cell_type": "markdown",
   "metadata": {
    "collapsed": false
   },
   "source": [
    "### Aplicando SBFS e SFFS"
   ]
  },
  {
   "cell_type": "markdown",
   "metadata": {
    "collapsed": false
   },
   "source": [
    "#### Feature Selection nas bases com Random Under-Sampling"
   ]
  },
  {
   "cell_type": "code",
   "execution_count": null,
   "metadata": {
    "collapsed": false
   },
   "outputs": [],
   "source": [
    "# Chamando a função de feature selection para cada um dos \"modelos*\"\n",
    "print(\"========================== Data 1  =================================\")\n",
    "slt_sbfs_features1, score1_sbfs = perform_feature_selection(data1, target1, modelo1, \"data1\", 'SBFS', 5)\n",
    "slt_sffs_features1, score1_sffs = perform_feature_selection(data1, target1, modelo1, \"data1\", 'SFFS', 5)"
   ]
  },
  {
   "cell_type": "code",
   "execution_count": 17,
   "metadata": {
    "ExecuteTime": {
     "end_time": "2023-12-17T22:22:26.093773100Z",
     "start_time": "2023-12-17T22:10:15.665174800Z"
    },
    "collapsed": false
   },
   "outputs": [
    {
     "name": "stdout",
     "output_type": "stream",
     "text": [
      "========================== Data 2  =================================\n"
     ]
    },
    {
     "name": "stderr",
     "output_type": "stream",
     "text": [
      "[Parallel(n_jobs=16)]: Using backend LokyBackend with 16 concurrent workers.\n",
      "[Parallel(n_jobs=16)]: Done   9 tasks      | elapsed:    3.4s\n",
      "[Parallel(n_jobs=16)]: Done  84 out of  84 | elapsed:   10.6s finished\n",
      "\n",
      "[2023-12-17 19:10:27] Features: 83/1 -- score: 0.784440065681445[Parallel(n_jobs=16)]: Using backend LokyBackend with 16 concurrent workers.\n",
      "[Parallel(n_jobs=16)]: Done   9 tasks      | elapsed:    1.7s\n",
      "[Parallel(n_jobs=16)]: Done  83 out of  83 | elapsed:   10.3s finished\n",
      "\n",
      "[2023-12-17 19:10:37] Features: 82/1 -- score: 0.7821346469622332[Parallel(n_jobs=16)]: Using backend LokyBackend with 16 concurrent workers.\n",
      "[Parallel(n_jobs=16)]: Done   9 tasks      | elapsed:    1.7s\n",
      "[Parallel(n_jobs=16)]: Done  82 out of  82 | elapsed:    9.2s finished\n",
      "[Parallel(n_jobs=2)]: Using backend LokyBackend with 2 concurrent workers.\n",
      "[Parallel(n_jobs=2)]: Done   2 out of   2 | elapsed:    3.4s finished\n",
      "\n",
      "[2023-12-17 19:10:50] Features: 81/1 -- score: 0.783297208538588[Parallel(n_jobs=16)]: Using backend LokyBackend with 16 concurrent workers.\n",
      "[Parallel(n_jobs=16)]: Done   9 tasks      | elapsed:    3.0s\n",
      "[Parallel(n_jobs=16)]: Done  81 out of  81 | elapsed:   10.2s finished\n",
      "[Parallel(n_jobs=3)]: Using backend LokyBackend with 3 concurrent workers.\n",
      "[Parallel(n_jobs=3)]: Done   3 out of   3 | elapsed:    1.7s finished\n",
      "\n",
      "[2023-12-17 19:11:02] Features: 80/1 -- score: 0.784440065681445[Parallel(n_jobs=16)]: Using backend LokyBackend with 16 concurrent workers.\n",
      "[Parallel(n_jobs=16)]: Done   9 tasks      | elapsed:    3.0s\n",
      "[Parallel(n_jobs=16)]: Done  80 out of  80 | elapsed:   10.8s finished\n",
      "[Parallel(n_jobs=4)]: Using backend LokyBackend with 4 concurrent workers.\n",
      "[Parallel(n_jobs=4)]: Done   4 out of   4 | elapsed:    1.8s finished\n",
      "\n",
      "[2023-12-17 19:11:15] Features: 79/1 -- score: 0.7856091954022988[Parallel(n_jobs=16)]: Using backend LokyBackend with 16 concurrent workers.\n",
      "[Parallel(n_jobs=16)]: Done   9 tasks      | elapsed:    3.1s\n",
      "[Parallel(n_jobs=16)]: Done  79 out of  79 | elapsed:   10.0s finished\n",
      "[Parallel(n_jobs=5)]: Using backend LokyBackend with 5 concurrent workers.\n",
      "[Parallel(n_jobs=5)]: Done   2 out of   5 | elapsed:    1.8s remaining:    2.8s\n",
      "[Parallel(n_jobs=5)]: Done   5 out of   5 | elapsed:    1.9s finished\n",
      "\n",
      "[2023-12-17 19:11:27] Features: 78/1 -- score: 0.784472906403941[Parallel(n_jobs=16)]: Using backend LokyBackend with 16 concurrent workers.\n",
      "[Parallel(n_jobs=16)]: Done   9 tasks      | elapsed:    3.3s\n",
      "[Parallel(n_jobs=16)]: Done  78 out of  78 | elapsed:   10.0s finished\n",
      "[Parallel(n_jobs=6)]: Using backend LokyBackend with 6 concurrent workers.\n",
      "[Parallel(n_jobs=6)]: Done   3 out of   6 | elapsed:    2.1s remaining:    2.1s\n",
      "[Parallel(n_jobs=6)]: Done   6 out of   6 | elapsed:    2.2s finished\n",
      "\n",
      "[2023-12-17 19:11:40] Features: 77/1 -- score: 0.7833103448275862[Parallel(n_jobs=16)]: Using backend LokyBackend with 16 concurrent workers.\n",
      "[Parallel(n_jobs=16)]: Done   9 tasks      | elapsed:    3.2s\n",
      "[Parallel(n_jobs=16)]: Done  77 out of  77 | elapsed:    9.9s finished\n",
      "[Parallel(n_jobs=7)]: Using backend LokyBackend with 7 concurrent workers.\n",
      "[Parallel(n_jobs=7)]: Done   2 out of   7 | elapsed:    2.0s remaining:    5.2s\n",
      "[Parallel(n_jobs=7)]: Done   7 out of   7 | elapsed:    2.1s finished\n",
      "\n",
      "[2023-12-17 19:11:52] Features: 76/1 -- score: 0.7867454844006568[Parallel(n_jobs=16)]: Using backend LokyBackend with 16 concurrent workers.\n",
      "[Parallel(n_jobs=16)]: Done   9 tasks      | elapsed:    3.0s\n",
      "[Parallel(n_jobs=16)]: Done  76 out of  76 | elapsed:    9.7s finished\n",
      "[Parallel(n_jobs=8)]: Using backend LokyBackend with 8 concurrent workers.\n",
      "[Parallel(n_jobs=8)]: Done   3 out of   8 | elapsed:    2.2s remaining:    3.7s\n",
      "[Parallel(n_jobs=8)]: Done   8 out of   8 | elapsed:    2.3s finished\n",
      "\n",
      "[2023-12-17 19:12:04] Features: 75/1 -- score: 0.7901740558292282[Parallel(n_jobs=16)]: Using backend LokyBackend with 16 concurrent workers.\n",
      "[Parallel(n_jobs=16)]: Done   9 tasks      | elapsed:    3.3s\n",
      "[Parallel(n_jobs=16)]: Done  75 out of  75 | elapsed:    9.6s finished\n",
      "[Parallel(n_jobs=9)]: Using backend LokyBackend with 9 concurrent workers.\n",
      "[Parallel(n_jobs=9)]: Done   2 out of   9 | elapsed:    1.4s remaining:    5.0s\n",
      "[Parallel(n_jobs=9)]: Done   7 out of   9 | elapsed:    1.5s remaining:    0.4s\n",
      "[Parallel(n_jobs=9)]: Done   9 out of   9 | elapsed:    1.6s finished\n",
      "\n",
      "[2023-12-17 19:12:15] Features: 74/1 -- score: 0.785615763546798[Parallel(n_jobs=16)]: Using backend LokyBackend with 16 concurrent workers.\n",
      "[Parallel(n_jobs=16)]: Done   9 tasks      | elapsed:    1.5s\n",
      "[Parallel(n_jobs=16)]: Done  74 out of  74 | elapsed:    8.6s finished\n",
      "[Parallel(n_jobs=10)]: Using backend LokyBackend with 10 concurrent workers.\n",
      "[Parallel(n_jobs=10)]: Done   3 out of  10 | elapsed:    1.5s remaining:    3.7s\n",
      "[Parallel(n_jobs=10)]: Done  10 out of  10 | elapsed:    1.6s finished\n",
      "\n",
      "[2023-12-17 19:12:26] Features: 73/1 -- score: 0.7879080459770116[Parallel(n_jobs=16)]: Using backend LokyBackend with 16 concurrent workers.\n",
      "[Parallel(n_jobs=16)]: Done   9 tasks      | elapsed:    1.6s\n",
      "[Parallel(n_jobs=16)]: Done  73 out of  73 | elapsed:    8.3s finished\n",
      "[Parallel(n_jobs=11)]: Using backend LokyBackend with 11 concurrent workers.\n",
      "[Parallel(n_jobs=11)]: Done   2 out of  11 | elapsed:    1.4s remaining:    6.5s\n",
      "[Parallel(n_jobs=11)]: Done   8 out of  11 | elapsed:    1.5s remaining:    0.5s\n",
      "[Parallel(n_jobs=11)]: Done  11 out of  11 | elapsed:    1.6s finished\n",
      "\n",
      "[2023-12-17 19:12:36] Features: 72/1 -- score: 0.7913234811165846[Parallel(n_jobs=16)]: Using backend LokyBackend with 16 concurrent workers.\n",
      "[Parallel(n_jobs=16)]: Done   9 tasks      | elapsed:    1.5s\n",
      "[Parallel(n_jobs=16)]: Done  72 out of  72 | elapsed:    9.0s finished\n",
      "[Parallel(n_jobs=12)]: Using backend LokyBackend with 12 concurrent workers.\n",
      "[Parallel(n_jobs=12)]: Done   3 out of  12 | elapsed:    1.4s remaining:    4.4s\n",
      "[Parallel(n_jobs=12)]: Done  10 out of  12 | elapsed:    1.5s remaining:    0.2s\n",
      "[Parallel(n_jobs=12)]: Done  12 out of  12 | elapsed:    1.6s finished\n",
      "\n",
      "[2023-12-17 19:12:47] Features: 71/1 -- score: 0.7924926108374384[Parallel(n_jobs=16)]: Using backend LokyBackend with 16 concurrent workers.\n",
      "[Parallel(n_jobs=16)]: Done   9 tasks      | elapsed:    1.5s\n",
      "[Parallel(n_jobs=16)]: Done  71 out of  71 | elapsed:    7.9s finished\n",
      "[Parallel(n_jobs=13)]: Using backend LokyBackend with 13 concurrent workers.\n",
      "[Parallel(n_jobs=13)]: Done   2 out of  13 | elapsed:    1.3s remaining:    7.5s\n",
      "[Parallel(n_jobs=13)]: Done   9 out of  13 | elapsed:    1.5s remaining:    0.6s\n",
      "[Parallel(n_jobs=13)]: Done  13 out of  13 | elapsed:    1.6s finished\n",
      "\n",
      "[2023-12-17 19:12:56] Features: 70/1 -- score: 0.7890180623973728[Parallel(n_jobs=16)]: Using backend LokyBackend with 16 concurrent workers.\n",
      "[Parallel(n_jobs=16)]: Done   9 tasks      | elapsed:    1.6s\n",
      "[Parallel(n_jobs=16)]: Done  70 out of  70 | elapsed:    7.8s finished\n",
      "[Parallel(n_jobs=14)]: Using backend LokyBackend with 14 concurrent workers.\n",
      "[Parallel(n_jobs=14)]: Done   3 out of  14 | elapsed:    1.3s remaining:    5.0s\n",
      "[Parallel(n_jobs=14)]: Done  11 out of  14 | elapsed:    1.6s remaining:    0.4s\n",
      "[Parallel(n_jobs=14)]: Done  14 out of  14 | elapsed:    1.7s finished\n",
      "\n",
      "[2023-12-17 19:13:06] Features: 69/1 -- score: 0.7890443349753695[Parallel(n_jobs=16)]: Using backend LokyBackend with 16 concurrent workers.\n",
      "[Parallel(n_jobs=16)]: Done   9 tasks      | elapsed:    1.6s\n",
      "[Parallel(n_jobs=16)]: Done  69 out of  69 | elapsed:    8.6s finished\n",
      "[Parallel(n_jobs=15)]: Using backend LokyBackend with 15 concurrent workers.\n",
      "[Parallel(n_jobs=15)]: Done   2 out of  15 | elapsed:    1.3s remaining:    9.3s\n",
      "[Parallel(n_jobs=15)]: Done  10 out of  15 | elapsed:    1.6s remaining:    0.7s\n",
      "[Parallel(n_jobs=15)]: Done  15 out of  15 | elapsed:    1.6s finished\n",
      "\n",
      "[2023-12-17 19:13:16] Features: 68/1 -- score: 0.786745484400657[Parallel(n_jobs=16)]: Using backend LokyBackend with 16 concurrent workers.\n",
      "[Parallel(n_jobs=16)]: Done   9 tasks      | elapsed:    1.6s\n",
      "[Parallel(n_jobs=16)]: Done  68 out of  68 | elapsed:    7.3s finished\n",
      "[Parallel(n_jobs=16)]: Using backend LokyBackend with 16 concurrent workers.\n",
      "[Parallel(n_jobs=16)]: Done   3 out of  16 | elapsed:    1.4s remaining:    6.3s\n",
      "[Parallel(n_jobs=16)]: Done  12 out of  16 | elapsed:    1.6s remaining:    0.5s\n",
      "[Parallel(n_jobs=16)]: Done  16 out of  16 | elapsed:    1.7s finished\n",
      "[Parallel(n_jobs=15)]: Using backend LokyBackend with 15 concurrent workers.\n",
      "[Parallel(n_jobs=15)]: Done   2 out of  15 | elapsed:    1.3s remaining:    9.1s\n",
      "[Parallel(n_jobs=15)]: Done  10 out of  15 | elapsed:    1.5s remaining:    0.7s\n",
      "[Parallel(n_jobs=15)]: Done  15 out of  15 | elapsed:    1.7s finished\n",
      "\n",
      "[2023-12-17 19:13:28] Features: 68/1 -- score: 0.7890509031198687[Parallel(n_jobs=16)]: Using backend LokyBackend with 16 concurrent workers.\n",
      "[Parallel(n_jobs=16)]: Done   9 tasks      | elapsed:    1.6s\n",
      "[Parallel(n_jobs=16)]: Done  68 out of  68 | elapsed:    7.4s finished\n",
      "[Parallel(n_jobs=16)]: Using backend LokyBackend with 16 concurrent workers.\n",
      "[Parallel(n_jobs=16)]: Done   3 out of  16 | elapsed:    1.3s remaining:    5.9s\n",
      "[Parallel(n_jobs=16)]: Done  12 out of  16 | elapsed:    1.7s remaining:    0.5s\n",
      "[Parallel(n_jobs=16)]: Done  16 out of  16 | elapsed:    1.8s finished\n",
      "\n",
      "[2023-12-17 19:13:37] Features: 67/1 -- score: 0.7890377668308701[Parallel(n_jobs=16)]: Using backend LokyBackend with 16 concurrent workers.\n",
      "[Parallel(n_jobs=16)]: Done   9 tasks      | elapsed:    1.7s\n",
      "[Parallel(n_jobs=16)]: Done  67 out of  67 | elapsed:    7.1s finished\n",
      "[Parallel(n_jobs=16)]: Using backend LokyBackend with 16 concurrent workers.\n",
      "[Parallel(n_jobs=16)]: Done   4 out of  17 | elapsed:    1.4s remaining:    4.8s\n",
      "[Parallel(n_jobs=16)]: Done  13 out of  17 | elapsed:    1.7s remaining:    0.5s\n",
      "[Parallel(n_jobs=16)]: Done  17 out of  17 | elapsed:    2.3s finished\n",
      "\n",
      "[2023-12-17 19:13:47] Features: 66/1 -- score: 0.7867520525451561[Parallel(n_jobs=16)]: Using backend LokyBackend with 16 concurrent workers.\n",
      "[Parallel(n_jobs=16)]: Done   9 tasks      | elapsed:    2.2s\n",
      "[Parallel(n_jobs=16)]: Done  66 out of  66 | elapsed:    8.1s finished\n",
      "[Parallel(n_jobs=16)]: Using backend LokyBackend with 16 concurrent workers.\n",
      "[Parallel(n_jobs=16)]: Done   7 out of  18 | elapsed:    1.6s remaining:    2.5s\n",
      "[Parallel(n_jobs=16)]: Done  18 out of  18 | elapsed:    2.3s finished\n",
      "\n",
      "[2023-12-17 19:13:57] Features: 65/1 -- score: 0.7890180623973727[Parallel(n_jobs=16)]: Using backend LokyBackend with 16 concurrent workers.\n",
      "[Parallel(n_jobs=16)]: Done   9 tasks      | elapsed:    1.6s\n",
      "[Parallel(n_jobs=16)]: Done  65 out of  65 | elapsed:    7.4s finished\n",
      "[Parallel(n_jobs=16)]: Using backend LokyBackend with 16 concurrent workers.\n",
      "[Parallel(n_jobs=16)]: Done   8 out of  19 | elapsed:    2.0s remaining:    2.8s\n",
      "[Parallel(n_jobs=16)]: Done  19 out of  19 | elapsed:    2.8s finished\n",
      "\n",
      "[2023-12-17 19:14:07] Features: 64/1 -- score: 0.7902068965517242[Parallel(n_jobs=16)]: Using backend LokyBackend with 16 concurrent workers.\n",
      "[Parallel(n_jobs=16)]: Done   9 tasks      | elapsed:    1.7s\n",
      "[Parallel(n_jobs=16)]: Done  64 out of  64 | elapsed:    6.7s finished\n",
      "[Parallel(n_jobs=16)]: Using backend LokyBackend with 16 concurrent workers.\n",
      "[Parallel(n_jobs=16)]: Done  11 out of  20 | elapsed:    1.6s remaining:    1.3s\n",
      "[Parallel(n_jobs=16)]: Done  20 out of  20 | elapsed:    2.4s finished\n",
      "[Parallel(n_jobs=16)]: Using backend LokyBackend with 16 concurrent workers.\n",
      "[Parallel(n_jobs=16)]: Done   8 out of  19 | elapsed:    1.6s remaining:    2.2s\n",
      "[Parallel(n_jobs=16)]: Done  19 out of  19 | elapsed:    2.3s finished\n",
      "[Parallel(n_jobs=16)]: Using backend LokyBackend with 16 concurrent workers.\n",
      "[Parallel(n_jobs=16)]: Done   7 out of  18 | elapsed:    1.9s remaining:    3.1s\n",
      "[Parallel(n_jobs=16)]: Done  18 out of  18 | elapsed:    3.0s finished\n",
      "\n",
      "[2023-12-17 19:14:22] Features: 65/1 -- score: 0.7913497536945813[Parallel(n_jobs=16)]: Using backend LokyBackend with 16 concurrent workers.\n",
      "[Parallel(n_jobs=16)]: Done   9 tasks      | elapsed:    1.7s\n",
      "[Parallel(n_jobs=16)]: Done  65 out of  65 | elapsed:    8.0s finished\n",
      "[Parallel(n_jobs=16)]: Using backend LokyBackend with 16 concurrent workers.\n",
      "[Parallel(n_jobs=16)]: Done   8 out of  19 | elapsed:    1.9s remaining:    2.7s\n",
      "[Parallel(n_jobs=16)]: Done  19 out of  19 | elapsed:    2.9s finished\n",
      "\n",
      "[2023-12-17 19:14:33] Features: 64/1 -- score: 0.7913497536945814[Parallel(n_jobs=16)]: Using backend LokyBackend with 16 concurrent workers.\n",
      "[Parallel(n_jobs=16)]: Done   9 tasks      | elapsed:    2.1s\n",
      "[Parallel(n_jobs=16)]: Done  64 out of  64 | elapsed:    7.3s finished\n",
      "[Parallel(n_jobs=16)]: Using backend LokyBackend with 16 concurrent workers.\n",
      "[Parallel(n_jobs=16)]: Done  11 out of  20 | elapsed:    1.7s remaining:    1.3s\n",
      "[Parallel(n_jobs=16)]: Done  20 out of  20 | elapsed:    2.4s finished\n",
      "\n",
      "[2023-12-17 19:14:43] Features: 63/1 -- score: 0.7878752052545155[Parallel(n_jobs=16)]: Using backend LokyBackend with 16 concurrent workers.\n",
      "[Parallel(n_jobs=16)]: Done   9 tasks      | elapsed:    1.6s\n",
      "[Parallel(n_jobs=16)]: Done  63 out of  63 | elapsed:    6.4s finished\n",
      "[Parallel(n_jobs=16)]: Using backend LokyBackend with 16 concurrent workers.\n",
      "[Parallel(n_jobs=16)]: Done  12 out of  21 | elapsed:    1.7s remaining:    1.3s\n",
      "[Parallel(n_jobs=16)]: Done  21 out of  21 | elapsed:    2.6s finished\n",
      "\n",
      "[2023-12-17 19:14:53] Features: 62/1 -- score: 0.7890049261083745[Parallel(n_jobs=16)]: Using backend LokyBackend with 16 concurrent workers.\n",
      "[Parallel(n_jobs=16)]: Done   9 tasks      | elapsed:    1.7s\n",
      "[Parallel(n_jobs=16)]: Done  62 out of  62 | elapsed:    6.5s finished\n",
      "[Parallel(n_jobs=16)]: Using backend LokyBackend with 16 concurrent workers.\n",
      "[Parallel(n_jobs=16)]: Done   3 out of  22 | elapsed:    1.4s remaining:    9.5s\n",
      "[Parallel(n_jobs=16)]: Done  15 out of  22 | elapsed:    1.8s remaining:    0.8s\n",
      "[Parallel(n_jobs=16)]: Done  22 out of  22 | elapsed:    2.6s finished\n",
      "[Parallel(n_jobs=16)]: Using backend LokyBackend with 16 concurrent workers.\n",
      "[Parallel(n_jobs=16)]: Done  12 out of  21 | elapsed:    1.5s remaining:    1.1s\n",
      "[Parallel(n_jobs=16)]: Done  21 out of  21 | elapsed:    2.4s finished\n",
      "\n",
      "[2023-12-17 19:15:05] Features: 62/1 -- score: 0.7924729064039409[Parallel(n_jobs=16)]: Using backend LokyBackend with 16 concurrent workers.\n",
      "[Parallel(n_jobs=16)]: Done   9 tasks      | elapsed:    1.6s\n",
      "[Parallel(n_jobs=16)]: Done  62 out of  62 | elapsed:    6.9s finished\n",
      "[Parallel(n_jobs=16)]: Using backend LokyBackend with 16 concurrent workers.\n",
      "[Parallel(n_jobs=16)]: Done   3 out of  22 | elapsed:    1.3s remaining:    9.0s\n",
      "[Parallel(n_jobs=16)]: Done  15 out of  22 | elapsed:    1.8s remaining:    0.8s\n",
      "[Parallel(n_jobs=16)]: Done  22 out of  22 | elapsed:    2.5s finished\n",
      "\n",
      "[2023-12-17 19:15:14] Features: 61/1 -- score: 0.7879014778325123[Parallel(n_jobs=16)]: Using backend LokyBackend with 16 concurrent workers.\n",
      "[Parallel(n_jobs=16)]: Done   9 tasks      | elapsed:    1.7s\n",
      "[Parallel(n_jobs=16)]: Done  61 out of  61 | elapsed:    6.2s finished\n",
      "[Parallel(n_jobs=16)]: Using backend LokyBackend with 16 concurrent workers.\n",
      "[Parallel(n_jobs=16)]: Done   4 out of  23 | elapsed:    1.3s remaining:    6.6s\n",
      "[Parallel(n_jobs=16)]: Done  16 out of  23 | elapsed:    1.8s remaining:    0.8s\n",
      "[Parallel(n_jobs=16)]: Done  23 out of  23 | elapsed:    2.5s finished\n",
      "\n",
      "[2023-12-17 19:15:23] Features: 60/1 -- score: 0.7902003284072251[Parallel(n_jobs=16)]: Using backend LokyBackend with 16 concurrent workers.\n",
      "[Parallel(n_jobs=16)]: Done   9 tasks      | elapsed:    1.6s\n",
      "[Parallel(n_jobs=16)]: Done  60 out of  60 | elapsed:    6.1s finished\n",
      "[Parallel(n_jobs=16)]: Using backend LokyBackend with 16 concurrent workers.\n",
      "[Parallel(n_jobs=16)]: Done   6 out of  24 | elapsed:    1.6s remaining:    5.1s\n",
      "[Parallel(n_jobs=16)]: Done  19 out of  24 | elapsed:    2.6s remaining:    0.6s\n",
      "[Parallel(n_jobs=16)]: Done  24 out of  24 | elapsed:    2.8s finished\n",
      "\n",
      "[2023-12-17 19:15:32] Features: 59/1 -- score: 0.7867586206896552[Parallel(n_jobs=16)]: Using backend LokyBackend with 16 concurrent workers.\n",
      "[Parallel(n_jobs=16)]: Done   9 tasks      | elapsed:    1.6s\n",
      "[Parallel(n_jobs=16)]: Done  59 out of  59 | elapsed:    6.0s finished\n",
      "[Parallel(n_jobs=16)]: Using backend LokyBackend with 16 concurrent workers.\n",
      "[Parallel(n_jobs=16)]: Done   7 out of  25 | elapsed:    1.5s remaining:    4.1s\n",
      "[Parallel(n_jobs=16)]: Done  20 out of  25 | elapsed:    2.6s remaining:    0.6s\n",
      "[Parallel(n_jobs=16)]: Done  25 out of  25 | elapsed:    2.7s finished\n",
      "[Parallel(n_jobs=16)]: Using backend LokyBackend with 16 concurrent workers.\n",
      "[Parallel(n_jobs=16)]: Done   6 out of  24 | elapsed:    1.5s remaining:    4.6s\n",
      "[Parallel(n_jobs=16)]: Done  19 out of  24 | elapsed:    2.6s remaining:    0.6s\n",
      "[Parallel(n_jobs=16)]: Done  24 out of  24 | elapsed:    2.6s finished\n",
      "[Parallel(n_jobs=16)]: Using backend LokyBackend with 16 concurrent workers.\n",
      "[Parallel(n_jobs=16)]: Done   4 out of  23 | elapsed:    1.4s remaining:    7.1s\n",
      "[Parallel(n_jobs=16)]: Done  16 out of  23 | elapsed:    1.7s remaining:    0.7s\n",
      "[Parallel(n_jobs=16)]: Done  23 out of  23 | elapsed:    2.6s finished\n",
      "\n",
      "[2023-12-17 19:15:47] Features: 60/1 -- score: 0.7913300492610837[Parallel(n_jobs=16)]: Using backend LokyBackend with 16 concurrent workers.\n",
      "[Parallel(n_jobs=16)]: Done   9 tasks      | elapsed:    1.7s\n",
      "[Parallel(n_jobs=16)]: Done  60 out of  60 | elapsed:    6.3s finished\n",
      "[Parallel(n_jobs=16)]: Using backend LokyBackend with 16 concurrent workers.\n",
      "[Parallel(n_jobs=16)]: Done   6 out of  24 | elapsed:    1.6s remaining:    4.9s\n",
      "[Parallel(n_jobs=16)]: Done  19 out of  24 | elapsed:    2.6s remaining:    0.6s\n",
      "[Parallel(n_jobs=16)]: Done  24 out of  24 | elapsed:    2.7s finished\n",
      "\n",
      "[2023-12-17 19:15:56] Features: 59/1 -- score: 0.7879014778325123[Parallel(n_jobs=16)]: Using backend LokyBackend with 16 concurrent workers.\n",
      "[Parallel(n_jobs=16)]: Done   9 tasks      | elapsed:    1.6s\n",
      "[Parallel(n_jobs=16)]: Done  59 out of  59 | elapsed:    6.3s finished\n",
      "[Parallel(n_jobs=16)]: Using backend LokyBackend with 16 concurrent workers.\n",
      "[Parallel(n_jobs=16)]: Done   7 out of  25 | elapsed:    1.7s remaining:    4.6s\n",
      "[Parallel(n_jobs=16)]: Done  20 out of  25 | elapsed:    2.8s remaining:    0.6s\n",
      "[Parallel(n_jobs=16)]: Done  25 out of  25 | elapsed:    2.9s finished\n",
      "\n",
      "[2023-12-17 19:16:05] Features: 58/1 -- score: 0.7890509031198688[Parallel(n_jobs=16)]: Using backend LokyBackend with 16 concurrent workers.\n",
      "[Parallel(n_jobs=16)]: Done   9 tasks      | elapsed:    1.6s\n",
      "[Parallel(n_jobs=16)]: Done  58 out of  58 | elapsed:    6.1s finished\n",
      "[Parallel(n_jobs=16)]: Using backend LokyBackend with 16 concurrent workers.\n",
      "[Parallel(n_jobs=16)]: Done   9 out of  26 | elapsed:    1.6s remaining:    3.1s\n",
      "[Parallel(n_jobs=16)]: Done  23 out of  26 | elapsed:    2.8s remaining:    0.3s\n",
      "[Parallel(n_jobs=16)]: Done  26 out of  26 | elapsed:    2.9s finished\n",
      "\n",
      "[2023-12-17 19:16:14] Features: 57/1 -- score: 0.7924926108374384[Parallel(n_jobs=16)]: Using backend LokyBackend with 16 concurrent workers.\n",
      "[Parallel(n_jobs=16)]: Done   9 tasks      | elapsed:    1.8s\n",
      "[Parallel(n_jobs=16)]: Done  55 out of  57 | elapsed:    6.6s remaining:    0.1s\n",
      "[Parallel(n_jobs=16)]: Done  57 out of  57 | elapsed:    6.7s finished\n",
      "[Parallel(n_jobs=16)]: Using backend LokyBackend with 16 concurrent workers.\n",
      "[Parallel(n_jobs=16)]: Done  10 out of  27 | elapsed:    1.7s remaining:    3.0s\n",
      "[Parallel(n_jobs=16)]: Done  24 out of  27 | elapsed:    3.0s remaining:    0.3s\n",
      "[Parallel(n_jobs=16)]: Done  27 out of  27 | elapsed:    3.1s finished\n",
      "\n",
      "[2023-12-17 19:16:24] Features: 56/1 -- score: 0.7879080459770115[Parallel(n_jobs=16)]: Using backend LokyBackend with 16 concurrent workers.\n",
      "[Parallel(n_jobs=16)]: Done   9 tasks      | elapsed:    1.7s\n",
      "[Parallel(n_jobs=16)]: Done  54 out of  56 | elapsed:    6.3s remaining:    0.1s\n",
      "[Parallel(n_jobs=16)]: Done  56 out of  56 | elapsed:    6.4s finished\n",
      "[Parallel(n_jobs=16)]: Using backend LokyBackend with 16 concurrent workers.\n",
      "[Parallel(n_jobs=16)]: Done  12 out of  28 | elapsed:    2.0s remaining:    2.7s\n",
      "[Parallel(n_jobs=16)]: Done  28 out of  28 | elapsed:    3.4s finished\n",
      "\n",
      "[2023-12-17 19:16:34] Features: 55/1 -- score: 0.790200328407225[Parallel(n_jobs=16)]: Using backend LokyBackend with 16 concurrent workers.\n",
      "[Parallel(n_jobs=16)]: Done   9 tasks      | elapsed:    1.9s\n",
      "[Parallel(n_jobs=16)]: Done  52 out of  55 | elapsed:    6.5s remaining:    0.3s\n",
      "[Parallel(n_jobs=16)]: Done  55 out of  55 | elapsed:    6.6s finished\n",
      "[Parallel(n_jobs=16)]: Using backend LokyBackend with 16 concurrent workers.\n",
      "[Parallel(n_jobs=16)]: Done  13 out of  29 | elapsed:    1.9s remaining:    2.3s\n",
      "[Parallel(n_jobs=16)]: Done  29 out of  29 | elapsed:    3.3s finished\n",
      "\n",
      "[2023-12-17 19:16:44] Features: 54/1 -- score: 0.7879014778325123[Parallel(n_jobs=16)]: Using backend LokyBackend with 16 concurrent workers.\n",
      "[Parallel(n_jobs=16)]: Done   9 tasks      | elapsed:    1.6s\n",
      "[Parallel(n_jobs=16)]: Done  51 out of  54 | elapsed:    5.8s remaining:    0.2s\n",
      "[Parallel(n_jobs=16)]: Done  54 out of  54 | elapsed:    5.9s finished\n",
      "[Parallel(n_jobs=16)]: Using backend LokyBackend with 16 concurrent workers.\n",
      "[Parallel(n_jobs=16)]: Done  15 out of  30 | elapsed:    1.9s remaining:    1.9s\n",
      "[Parallel(n_jobs=16)]: Done  30 out of  30 | elapsed:    3.1s finished\n",
      "\n",
      "[2023-12-17 19:16:54] Features: 53/1 -- score: 0.7867717569786534[Parallel(n_jobs=16)]: Using backend LokyBackend with 16 concurrent workers.\n",
      "[Parallel(n_jobs=16)]: Done   9 tasks      | elapsed:    1.7s\n",
      "[Parallel(n_jobs=16)]: Done  49 out of  53 | elapsed:    5.6s remaining:    0.4s\n",
      "[Parallel(n_jobs=16)]: Done  53 out of  53 | elapsed:    5.7s finished\n",
      "[Parallel(n_jobs=16)]: Using backend LokyBackend with 16 concurrent workers.\n",
      "[Parallel(n_jobs=16)]: Done  16 out of  31 | elapsed:    1.9s remaining:    1.8s\n",
      "[Parallel(n_jobs=16)]: Done  31 out of  31 | elapsed:    3.5s finished\n",
      "\n",
      "[2023-12-17 19:17:03] Features: 52/1 -- score: 0.790200328407225[Parallel(n_jobs=16)]: Using backend LokyBackend with 16 concurrent workers.\n",
      "[Parallel(n_jobs=16)]: Done   9 tasks      | elapsed:    2.4s\n",
      "[Parallel(n_jobs=16)]: Done  48 out of  52 | elapsed:    6.1s remaining:    0.4s\n",
      "[Parallel(n_jobs=16)]: Done  52 out of  52 | elapsed:    6.6s finished\n",
      "[Parallel(n_jobs=16)]: Using backend LokyBackend with 16 concurrent workers.\n",
      "[Parallel(n_jobs=16)]: Done  18 out of  32 | elapsed:    2.9s remaining:    2.2s\n",
      "[Parallel(n_jobs=16)]: Done  32 out of  32 | elapsed:    3.4s finished\n",
      "[Parallel(n_jobs=16)]: Using backend LokyBackend with 16 concurrent workers.\n",
      "[Parallel(n_jobs=16)]: Done  16 out of  31 | elapsed:    2.6s remaining:    2.4s\n",
      "[Parallel(n_jobs=16)]: Done  31 out of  31 | elapsed:    3.9s finished\n",
      "\n",
      "[2023-12-17 19:17:17] Features: 52/1 -- score: 0.7924663382594417[Parallel(n_jobs=16)]: Using backend LokyBackend with 16 concurrent workers.\n",
      "[Parallel(n_jobs=16)]: Done   9 tasks      | elapsed:    1.6s\n",
      "[Parallel(n_jobs=16)]: Done  48 out of  52 | elapsed:    5.1s remaining:    0.3s\n",
      "[Parallel(n_jobs=16)]: Done  52 out of  52 | elapsed:    5.5s finished\n",
      "[Parallel(n_jobs=16)]: Using backend LokyBackend with 16 concurrent workers.\n",
      "[Parallel(n_jobs=16)]: Done  18 out of  32 | elapsed:    2.9s remaining:    2.2s\n",
      "[Parallel(n_jobs=16)]: Done  32 out of  32 | elapsed:    3.2s finished\n",
      "\n",
      "[2023-12-17 19:17:26] Features: 51/1 -- score: 0.7970706075533662[Parallel(n_jobs=16)]: Using backend LokyBackend with 16 concurrent workers.\n",
      "[Parallel(n_jobs=16)]: Done   9 tasks      | elapsed:    1.6s\n",
      "[Parallel(n_jobs=16)]: Done  46 out of  51 | elapsed:    4.8s remaining:    0.4s\n",
      "[Parallel(n_jobs=16)]: Done  51 out of  51 | elapsed:    5.5s finished\n",
      "[Parallel(n_jobs=16)]: Using backend LokyBackend with 16 concurrent workers.\n",
      "[Parallel(n_jobs=16)]: Done  19 out of  33 | elapsed:    4.5s remaining:    3.3s\n",
      "[Parallel(n_jobs=16)]: Done  33 out of  33 | elapsed:    5.4s finished\n",
      "\n",
      "[2023-12-17 19:17:37] Features: 50/1 -- score: 0.78447947454844[Parallel(n_jobs=16)]: Using backend LokyBackend with 16 concurrent workers.\n",
      "[Parallel(n_jobs=16)]: Done   9 tasks      | elapsed:    1.6s\n",
      "[Parallel(n_jobs=16)]: Done  45 out of  50 | elapsed:    4.9s remaining:    0.5s\n",
      "[Parallel(n_jobs=16)]: Done  50 out of  50 | elapsed:    5.5s finished\n",
      "[Parallel(n_jobs=16)]: Using backend LokyBackend with 16 concurrent workers.\n",
      "[Parallel(n_jobs=16)]: Done  21 out of  34 | elapsed:    3.1s remaining:    1.9s\n",
      "[Parallel(n_jobs=16)]: Done  34 out of  34 | elapsed:    3.8s finished\n",
      "\n",
      "[2023-12-17 19:17:47] Features: 49/1 -- score: 0.7867454844006568[Parallel(n_jobs=16)]: Using backend LokyBackend with 16 concurrent workers.\n",
      "[Parallel(n_jobs=16)]: Done   9 tasks      | elapsed:    1.6s\n",
      "[Parallel(n_jobs=16)]: Done  43 out of  49 | elapsed:    5.6s remaining:    0.7s\n",
      "[Parallel(n_jobs=16)]: Done  49 out of  49 | elapsed:    6.1s finished\n",
      "[Parallel(n_jobs=16)]: Using backend LokyBackend with 16 concurrent workers.\n",
      "[Parallel(n_jobs=16)]: Done  22 out of  35 | elapsed:    3.6s remaining:    2.1s\n",
      "[Parallel(n_jobs=16)]: Done  35 out of  35 | elapsed:    4.4s finished\n",
      "\n",
      "[2023-12-17 19:17:58] Features: 48/1 -- score: 0.7879014778325124[Parallel(n_jobs=16)]: Using backend LokyBackend with 16 concurrent workers.\n",
      "[Parallel(n_jobs=16)]: Done   9 tasks      | elapsed:    1.8s\n",
      "[Parallel(n_jobs=16)]: Done  42 out of  48 | elapsed:    5.0s remaining:    0.6s\n",
      "[Parallel(n_jobs=16)]: Done  48 out of  48 | elapsed:    5.3s finished\n",
      "[Parallel(n_jobs=16)]: Using backend LokyBackend with 16 concurrent workers.\n",
      "[Parallel(n_jobs=16)]: Done  24 out of  36 | elapsed:    3.4s remaining:    1.6s\n",
      "[Parallel(n_jobs=16)]: Done  36 out of  36 | elapsed:    4.2s finished\n",
      "\n",
      "[2023-12-17 19:18:07] Features: 47/1 -- score: 0.7867389162561575[Parallel(n_jobs=16)]: Using backend LokyBackend with 16 concurrent workers.\n",
      "[Parallel(n_jobs=16)]: Done   9 tasks      | elapsed:    1.7s\n",
      "[Parallel(n_jobs=16)]: Done  40 out of  47 | elapsed:    4.7s remaining:    0.7s\n",
      "[Parallel(n_jobs=16)]: Done  47 out of  47 | elapsed:    4.9s finished\n",
      "[Parallel(n_jobs=16)]: Using backend LokyBackend with 16 concurrent workers.\n",
      "[Parallel(n_jobs=16)]: Done  25 out of  37 | elapsed:    3.2s remaining:    1.5s\n",
      "[Parallel(n_jobs=16)]: Done  37 out of  37 | elapsed:    4.1s finished\n",
      "[Parallel(n_jobs=16)]: Using backend LokyBackend with 16 concurrent workers.\n",
      "[Parallel(n_jobs=16)]: Done  24 out of  36 | elapsed:    3.3s remaining:    1.6s\n",
      "[Parallel(n_jobs=16)]: Done  36 out of  36 | elapsed:    4.1s finished\n",
      "\n",
      "[2023-12-17 19:18:21] Features: 47/1 -- score: 0.7890443349753695[Parallel(n_jobs=16)]: Using backend LokyBackend with 16 concurrent workers.\n",
      "[Parallel(n_jobs=16)]: Done   9 tasks      | elapsed:    1.7s\n",
      "[Parallel(n_jobs=16)]: Done  40 out of  47 | elapsed:    4.6s remaining:    0.7s\n",
      "[Parallel(n_jobs=16)]: Done  47 out of  47 | elapsed:    4.8s finished\n",
      "[Parallel(n_jobs=16)]: Using backend LokyBackend with 16 concurrent workers.\n",
      "[Parallel(n_jobs=16)]: Done  25 out of  37 | elapsed:    3.2s remaining:    1.5s\n",
      "[Parallel(n_jobs=16)]: Done  37 out of  37 | elapsed:    4.1s finished\n",
      "\n",
      "[2023-12-17 19:18:30] Features: 46/1 -- score: 0.7913366174055829[Parallel(n_jobs=16)]: Using backend LokyBackend with 16 concurrent workers.\n",
      "[Parallel(n_jobs=16)]: Done   9 tasks      | elapsed:    1.6s\n",
      "[Parallel(n_jobs=16)]: Done  39 out of  46 | elapsed:    4.6s remaining:    0.7s\n",
      "[Parallel(n_jobs=16)]: Done  46 out of  46 | elapsed:    4.8s finished\n",
      "[Parallel(n_jobs=16)]: Using backend LokyBackend with 16 concurrent workers.\n",
      "[Parallel(n_jobs=16)]: Done  27 out of  38 | elapsed:    3.4s remaining:    1.3s\n",
      "[Parallel(n_jobs=16)]: Done  38 out of  38 | elapsed:    4.3s finished\n",
      "\n",
      "[2023-12-17 19:18:39] Features: 45/1 -- score: 0.7878817733990148[Parallel(n_jobs=16)]: Using backend LokyBackend with 16 concurrent workers.\n",
      "[Parallel(n_jobs=16)]: Done   9 tasks      | elapsed:    1.6s\n",
      "[Parallel(n_jobs=16)]: Done  37 out of  45 | elapsed:    4.5s remaining:    0.9s\n",
      "[Parallel(n_jobs=16)]: Done  45 out of  45 | elapsed:    4.7s finished\n",
      "[Parallel(n_jobs=16)]: Using backend LokyBackend with 16 concurrent workers.\n",
      "[Parallel(n_jobs=16)]: Done  28 out of  39 | elapsed:    3.3s remaining:    1.2s\n",
      "[Parallel(n_jobs=16)]: Done  39 out of  39 | elapsed:    4.2s finished\n",
      "[Parallel(n_jobs=16)]: Using backend LokyBackend with 16 concurrent workers.\n",
      "[Parallel(n_jobs=16)]: Done  27 out of  38 | elapsed:    3.3s remaining:    1.3s\n",
      "[Parallel(n_jobs=16)]: Done  38 out of  38 | elapsed:    4.3s finished\n",
      "\n",
      "[2023-12-17 19:18:53] Features: 45/1 -- score: 0.7901871921182265[Parallel(n_jobs=16)]: Using backend LokyBackend with 16 concurrent workers.\n",
      "[Parallel(n_jobs=16)]: Done   9 tasks      | elapsed:    1.6s\n",
      "[Parallel(n_jobs=16)]: Done  37 out of  45 | elapsed:    4.4s remaining:    0.9s\n",
      "[Parallel(n_jobs=16)]: Done  45 out of  45 | elapsed:    4.6s finished\n",
      "[Parallel(n_jobs=16)]: Using backend LokyBackend with 16 concurrent workers.\n",
      "[Parallel(n_jobs=16)]: Done  28 out of  39 | elapsed:    3.2s remaining:    1.2s\n",
      "[Parallel(n_jobs=16)]: Done  39 out of  39 | elapsed:    4.2s finished\n",
      "[Parallel(n_jobs=16)]: Using backend LokyBackend with 16 concurrent workers.\n",
      "[Parallel(n_jobs=16)]: Done  27 out of  38 | elapsed:    4.0s remaining:    1.6s\n",
      "[Parallel(n_jobs=16)]: Done  38 out of  38 | elapsed:    5.0s finished\n",
      "\n",
      "[2023-12-17 19:19:07] Features: 45/1 -- score: 0.7936157635467981[Parallel(n_jobs=16)]: Using backend LokyBackend with 16 concurrent workers.\n",
      "[Parallel(n_jobs=16)]: Done   9 tasks      | elapsed:    1.7s\n",
      "[Parallel(n_jobs=16)]: Done  37 out of  45 | elapsed:    4.4s remaining:    0.9s\n",
      "[Parallel(n_jobs=16)]: Done  45 out of  45 | elapsed:    4.7s finished\n",
      "[Parallel(n_jobs=16)]: Using backend LokyBackend with 16 concurrent workers.\n",
      "[Parallel(n_jobs=16)]: Done  28 out of  39 | elapsed:    3.7s remaining:    1.4s\n",
      "[Parallel(n_jobs=16)]: Done  39 out of  39 | elapsed:    4.7s finished\n",
      "\n",
      "[2023-12-17 19:19:16] Features: 44/1 -- score: 0.7913366174055829[Parallel(n_jobs=16)]: Using backend LokyBackend with 16 concurrent workers.\n",
      "[Parallel(n_jobs=16)]: Done   9 tasks      | elapsed:    1.7s\n",
      "[Parallel(n_jobs=16)]: Done  36 out of  44 | elapsed:    5.0s remaining:    1.0s\n",
      "[Parallel(n_jobs=16)]: Done  44 out of  44 | elapsed:    5.2s finished\n",
      "[Parallel(n_jobs=16)]: Using backend LokyBackend with 16 concurrent workers.\n",
      "[Parallel(n_jobs=16)]: Done   9 tasks      | elapsed:    2.2s\n",
      "[Parallel(n_jobs=16)]: Done  30 out of  40 | elapsed:    4.2s remaining:    1.3s\n",
      "[Parallel(n_jobs=16)]: Done  40 out of  40 | elapsed:    5.2s finished\n",
      "\n",
      "[2023-12-17 19:19:27] Features: 43/1 -- score: 0.786784893267652[Parallel(n_jobs=16)]: Using backend LokyBackend with 16 concurrent workers.\n",
      "[Parallel(n_jobs=16)]: Done   9 tasks      | elapsed:    1.6s\n",
      "[Parallel(n_jobs=16)]: Done  34 out of  43 | elapsed:    4.2s remaining:    1.0s\n",
      "[Parallel(n_jobs=16)]: Done  43 out of  43 | elapsed:    4.4s finished\n",
      "[Parallel(n_jobs=16)]: Using backend LokyBackend with 16 concurrent workers.\n",
      "[Parallel(n_jobs=16)]: Done   9 tasks      | elapsed:    1.7s\n",
      "[Parallel(n_jobs=16)]: Done  31 out of  41 | elapsed:    3.4s remaining:    1.0s\n",
      "[Parallel(n_jobs=16)]: Done  41 out of  41 | elapsed:    4.4s finished\n",
      "[Parallel(n_jobs=16)]: Using backend LokyBackend with 16 concurrent workers.\n",
      "[Parallel(n_jobs=16)]: Done   9 tasks      | elapsed:    1.9s\n",
      "[Parallel(n_jobs=16)]: Done  30 out of  40 | elapsed:    4.1s remaining:    1.3s\n",
      "[Parallel(n_jobs=16)]: Done  40 out of  40 | elapsed:    5.1s finished\n",
      "\n",
      "[2023-12-17 19:19:41] Features: 43/1 -- score: 0.7924926108374384[Parallel(n_jobs=16)]: Using backend LokyBackend with 16 concurrent workers.\n",
      "[Parallel(n_jobs=16)]: Done   9 tasks      | elapsed:    1.6s\n",
      "[Parallel(n_jobs=16)]: Done  34 out of  43 | elapsed:    4.1s remaining:    1.0s\n",
      "[Parallel(n_jobs=16)]: Done  43 out of  43 | elapsed:    4.5s finished\n",
      "[Parallel(n_jobs=16)]: Using backend LokyBackend with 16 concurrent workers.\n",
      "[Parallel(n_jobs=16)]: Done   9 tasks      | elapsed:    1.6s\n",
      "[Parallel(n_jobs=16)]: Done  31 out of  41 | elapsed:    4.0s remaining:    1.2s\n",
      "[Parallel(n_jobs=16)]: Done  41 out of  41 | elapsed:    4.9s finished\n",
      "\n",
      "[2023-12-17 19:19:51] Features: 42/1 -- score: 0.7879080459770116[Parallel(n_jobs=16)]: Using backend LokyBackend with 16 concurrent workers.\n",
      "[Parallel(n_jobs=16)]: Done   9 tasks      | elapsed:    2.3s\n",
      "[Parallel(n_jobs=16)]: Done  33 out of  42 | elapsed:    6.0s remaining:    1.6s\n",
      "[Parallel(n_jobs=16)]: Done  42 out of  42 | elapsed:    6.4s finished\n",
      "[Parallel(n_jobs=16)]: Using backend LokyBackend with 16 concurrent workers.\n",
      "[Parallel(n_jobs=16)]: Done   9 tasks      | elapsed:    2.7s\n",
      "[Parallel(n_jobs=16)]: Done  33 out of  42 | elapsed:    5.6s remaining:    1.5s\n",
      "[Parallel(n_jobs=16)]: Done  42 out of  42 | elapsed:    5.9s finished\n",
      "\n",
      "[2023-12-17 19:20:03] Features: 41/1 -- score: 0.7936354679802956[Parallel(n_jobs=16)]: Using backend LokyBackend with 16 concurrent workers.\n",
      "[Parallel(n_jobs=16)]: Done   9 tasks      | elapsed:    1.7s\n",
      "[Parallel(n_jobs=16)]: Done  31 out of  41 | elapsed:    4.1s remaining:    1.2s\n",
      "[Parallel(n_jobs=16)]: Done  41 out of  41 | elapsed:    5.6s finished\n",
      "[Parallel(n_jobs=16)]: Using backend LokyBackend with 16 concurrent workers.\n",
      "[Parallel(n_jobs=16)]: Done   9 tasks      | elapsed:    2.5s\n",
      "[Parallel(n_jobs=16)]: Done  34 out of  43 | elapsed:    6.5s remaining:    1.7s\n",
      "[Parallel(n_jobs=16)]: Done  43 out of  43 | elapsed:    6.7s finished\n",
      "\n",
      "[2023-12-17 19:20:16] Features: 40/1 -- score: 0.7867717569786535[Parallel(n_jobs=16)]: Using backend LokyBackend with 16 concurrent workers.\n",
      "[Parallel(n_jobs=16)]: Done   9 tasks      | elapsed:    1.6s\n",
      "[Parallel(n_jobs=16)]: Done  30 out of  40 | elapsed:    3.3s remaining:    1.0s\n",
      "[Parallel(n_jobs=16)]: Done  40 out of  40 | elapsed:    4.2s finished\n",
      "[Parallel(n_jobs=16)]: Using backend LokyBackend with 16 concurrent workers.\n",
      "[Parallel(n_jobs=16)]: Done   9 tasks      | elapsed:    1.6s\n",
      "[Parallel(n_jobs=16)]: Done  36 out of  44 | elapsed:    4.4s remaining:    0.9s\n",
      "[Parallel(n_jobs=16)]: Done  44 out of  44 | elapsed:    4.5s finished\n",
      "[Parallel(n_jobs=16)]: Using backend LokyBackend with 16 concurrent workers.\n",
      "[Parallel(n_jobs=16)]: Done   9 tasks      | elapsed:    1.7s\n",
      "[Parallel(n_jobs=16)]: Done  34 out of  43 | elapsed:    4.1s remaining:    1.0s\n",
      "[Parallel(n_jobs=16)]: Done  43 out of  43 | elapsed:    4.5s finished\n",
      "\n",
      "[2023-12-17 19:20:29] Features: 40/1 -- score: 0.7947980295566504[Parallel(n_jobs=16)]: Using backend LokyBackend with 16 concurrent workers.\n",
      "[Parallel(n_jobs=16)]: Done   9 tasks      | elapsed:    1.5s\n",
      "[Parallel(n_jobs=16)]: Done  30 out of  40 | elapsed:    3.5s remaining:    1.1s\n",
      "[Parallel(n_jobs=16)]: Done  40 out of  40 | elapsed:    4.3s finished\n",
      "[Parallel(n_jobs=16)]: Using backend LokyBackend with 16 concurrent workers.\n",
      "[Parallel(n_jobs=16)]: Done   9 tasks      | elapsed:    1.6s\n",
      "[Parallel(n_jobs=16)]: Done  36 out of  44 | elapsed:    4.3s remaining:    0.9s\n",
      "[Parallel(n_jobs=16)]: Done  44 out of  44 | elapsed:    4.6s finished\n",
      "[Parallel(n_jobs=16)]: Using backend LokyBackend with 16 concurrent workers.\n",
      "[Parallel(n_jobs=16)]: Done   9 tasks      | elapsed:    1.5s\n",
      "[Parallel(n_jobs=16)]: Done  34 out of  43 | elapsed:    4.6s remaining:    1.1s\n",
      "[Parallel(n_jobs=16)]: Done  43 out of  43 | elapsed:    4.8s finished\n",
      "\n",
      "[2023-12-17 19:20:43] Features: 40/1 -- score: 0.7959277504105091[Parallel(n_jobs=16)]: Using backend LokyBackend with 16 concurrent workers.\n",
      "[Parallel(n_jobs=16)]: Done   9 tasks      | elapsed:    2.1s\n",
      "[Parallel(n_jobs=16)]: Done  30 out of  40 | elapsed:    4.2s remaining:    1.3s\n",
      "[Parallel(n_jobs=16)]: Done  40 out of  40 | elapsed:    5.3s finished\n",
      "[Parallel(n_jobs=16)]: Using backend LokyBackend with 16 concurrent workers.\n",
      "[Parallel(n_jobs=16)]: Done   9 tasks      | elapsed:    1.7s\n",
      "[Parallel(n_jobs=16)]: Done  36 out of  44 | elapsed:    4.6s remaining:    1.0s\n",
      "[Parallel(n_jobs=16)]: Done  44 out of  44 | elapsed:    4.9s finished\n",
      "\n",
      "[2023-12-17 19:20:54] Features: 39/1 -- score: 0.792512315270936[Parallel(n_jobs=16)]: Using backend LokyBackend with 16 concurrent workers.\n",
      "[Parallel(n_jobs=16)]: Done  28 out of  39 | elapsed:    3.6s remaining:    1.4s\n",
      "[Parallel(n_jobs=16)]: Done  39 out of  39 | elapsed:    4.7s finished\n",
      "[Parallel(n_jobs=16)]: Using backend LokyBackend with 16 concurrent workers.\n",
      "[Parallel(n_jobs=16)]: Done   9 tasks      | elapsed:    1.6s\n",
      "[Parallel(n_jobs=16)]: Done  37 out of  45 | elapsed:    4.3s remaining:    0.9s\n",
      "[Parallel(n_jobs=16)]: Done  45 out of  45 | elapsed:    4.6s finished\n",
      "[Parallel(n_jobs=16)]: Using backend LokyBackend with 16 concurrent workers.\n",
      "[Parallel(n_jobs=16)]: Done   9 tasks      | elapsed:    1.6s\n",
      "[Parallel(n_jobs=16)]: Done  36 out of  44 | elapsed:    4.3s remaining:    0.9s\n",
      "[Parallel(n_jobs=16)]: Done  44 out of  44 | elapsed:    4.4s finished\n",
      "\n",
      "[2023-12-17 19:21:08] Features: 39/1 -- score: 0.7947980295566504[Parallel(n_jobs=16)]: Using backend LokyBackend with 16 concurrent workers.\n",
      "[Parallel(n_jobs=16)]: Done  28 out of  39 | elapsed:    3.2s remaining:    1.2s\n",
      "[Parallel(n_jobs=16)]: Done  39 out of  39 | elapsed:    4.1s finished\n",
      "[Parallel(n_jobs=16)]: Using backend LokyBackend with 16 concurrent workers.\n",
      "[Parallel(n_jobs=16)]: Done   9 tasks      | elapsed:    1.6s\n",
      "[Parallel(n_jobs=16)]: Done  37 out of  45 | elapsed:    4.4s remaining:    0.9s\n",
      "[Parallel(n_jobs=16)]: Done  45 out of  45 | elapsed:    4.6s finished\n",
      "\n",
      "[2023-12-17 19:21:16] Features: 38/1 -- score: 0.7947848932676519[Parallel(n_jobs=16)]: Using backend LokyBackend with 16 concurrent workers.\n",
      "[Parallel(n_jobs=16)]: Done  27 out of  38 | elapsed:    3.2s remaining:    1.2s\n",
      "[Parallel(n_jobs=16)]: Done  38 out of  38 | elapsed:    4.1s finished\n",
      "[Parallel(n_jobs=16)]: Using backend LokyBackend with 16 concurrent workers.\n",
      "[Parallel(n_jobs=16)]: Done   9 tasks      | elapsed:    1.6s\n",
      "[Parallel(n_jobs=16)]: Done  39 out of  46 | elapsed:    4.4s remaining:    0.7s\n",
      "[Parallel(n_jobs=16)]: Done  46 out of  46 | elapsed:    4.5s finished\n",
      "\n",
      "[2023-12-17 19:21:25] Features: 37/1 -- score: 0.7970837438423646[Parallel(n_jobs=16)]: Using backend LokyBackend with 16 concurrent workers.\n",
      "[Parallel(n_jobs=16)]: Done  25 out of  37 | elapsed:    3.1s remaining:    1.5s\n",
      "[Parallel(n_jobs=16)]: Done  37 out of  37 | elapsed:    4.0s finished\n",
      "[Parallel(n_jobs=16)]: Using backend LokyBackend with 16 concurrent workers.\n",
      "[Parallel(n_jobs=16)]: Done   9 tasks      | elapsed:    1.6s\n",
      "[Parallel(n_jobs=16)]: Done  40 out of  47 | elapsed:    4.5s remaining:    0.7s\n",
      "[Parallel(n_jobs=16)]: Done  47 out of  47 | elapsed:    4.7s finished\n",
      "\n",
      "[2023-12-17 19:21:34] Features: 36/1 -- score: 0.7947980295566502[Parallel(n_jobs=16)]: Using backend LokyBackend with 16 concurrent workers.\n",
      "[Parallel(n_jobs=16)]: Done  24 out of  36 | elapsed:    3.1s remaining:    1.5s\n",
      "[Parallel(n_jobs=16)]: Done  36 out of  36 | elapsed:    3.9s finished\n",
      "[Parallel(n_jobs=16)]: Using backend LokyBackend with 16 concurrent workers.\n",
      "[Parallel(n_jobs=16)]: Done   9 tasks      | elapsed:    1.6s\n",
      "[Parallel(n_jobs=16)]: Done  42 out of  48 | elapsed:    4.8s remaining:    0.6s\n",
      "[Parallel(n_jobs=16)]: Done  48 out of  48 | elapsed:    5.0s finished\n",
      "\n",
      "[2023-12-17 19:21:43] Features: 35/1 -- score: 0.7970574712643678[Parallel(n_jobs=16)]: Using backend LokyBackend with 16 concurrent workers.\n",
      "[Parallel(n_jobs=16)]: Done  22 out of  35 | elapsed:    3.5s remaining:    2.0s\n",
      "[Parallel(n_jobs=16)]: Done  35 out of  35 | elapsed:    4.5s finished\n",
      "[Parallel(n_jobs=16)]: Using backend LokyBackend with 16 concurrent workers.\n",
      "[Parallel(n_jobs=16)]: Done   9 tasks      | elapsed:    1.7s\n",
      "[Parallel(n_jobs=16)]: Done  43 out of  49 | elapsed:    5.0s remaining:    0.6s\n",
      "[Parallel(n_jobs=16)]: Done  49 out of  49 | elapsed:    5.5s finished\n",
      "\n",
      "[2023-12-17 19:21:54] Features: 34/1 -- score: 0.795927750410509[Parallel(n_jobs=16)]: Using backend LokyBackend with 16 concurrent workers.\n",
      "[Parallel(n_jobs=16)]: Done  21 out of  34 | elapsed:    3.0s remaining:    1.8s\n",
      "[Parallel(n_jobs=16)]: Done  34 out of  34 | elapsed:    3.8s finished\n",
      "[Parallel(n_jobs=16)]: Using backend LokyBackend with 16 concurrent workers.\n",
      "[Parallel(n_jobs=16)]: Done   9 tasks      | elapsed:    1.5s\n",
      "[Parallel(n_jobs=16)]: Done  45 out of  50 | elapsed:    4.8s remaining:    0.4s\n",
      "[Parallel(n_jobs=16)]: Done  50 out of  50 | elapsed:    5.2s finished\n",
      "[Parallel(n_jobs=16)]: Using backend LokyBackend with 16 concurrent workers.\n",
      "[Parallel(n_jobs=16)]: Done   9 tasks      | elapsed:    1.6s\n",
      "[Parallel(n_jobs=16)]: Done  43 out of  49 | elapsed:    4.7s remaining:    0.6s\n",
      "[Parallel(n_jobs=16)]: Done  49 out of  49 | elapsed:    5.3s finished\n",
      "\n",
      "[2023-12-17 19:22:08] Features: 34/1 -- score: 0.7970640394088669[Parallel(n_jobs=16)]: Using backend LokyBackend with 16 concurrent workers.\n",
      "[Parallel(n_jobs=16)]: Done  21 out of  34 | elapsed:    3.1s remaining:    1.9s\n",
      "[Parallel(n_jobs=16)]: Done  34 out of  34 | elapsed:    3.8s finished\n",
      "[Parallel(n_jobs=16)]: Using backend LokyBackend with 16 concurrent workers.\n",
      "[Parallel(n_jobs=16)]: Done   9 tasks      | elapsed:    1.6s\n",
      "[Parallel(n_jobs=16)]: Done  45 out of  50 | elapsed:    4.9s remaining:    0.5s\n",
      "[Parallel(n_jobs=16)]: Done  50 out of  50 | elapsed:    5.3s finished\n",
      "\n",
      "[2023-12-17 19:22:18] Features: 33/1 -- score: 0.79247947454844[Parallel(n_jobs=16)]: Using backend LokyBackend with 16 concurrent workers.\n",
      "[Parallel(n_jobs=16)]: Done  19 out of  33 | elapsed:    2.9s remaining:    2.1s\n",
      "[Parallel(n_jobs=16)]: Done  33 out of  33 | elapsed:    3.6s finished\n",
      "[Parallel(n_jobs=16)]: Using backend LokyBackend with 16 concurrent workers.\n",
      "[Parallel(n_jobs=16)]: Done   9 tasks      | elapsed:    1.6s\n",
      "\n",
      "STOPPING EARLY DUE TO KEYBOARD INTERRUPT..."
     ]
    },
    {
     "ename": "AttributeError",
     "evalue": "SequentialFeatureSelector has not been fitted, yet.",
     "output_type": "error",
     "traceback": [
      "\u001B[1;31m---------------------------------------------------------------------------\u001B[0m",
      "\u001B[1;31mAttributeError\u001B[0m                            Traceback (most recent call last)",
      "Cell \u001B[1;32mIn[17], line 2\u001B[0m\n\u001B[0;32m      1\u001B[0m \u001B[38;5;28mprint\u001B[39m(\u001B[38;5;124m\"\u001B[39m\u001B[38;5;124m========================== Data 2  =================================\u001B[39m\u001B[38;5;124m\"\u001B[39m)\n\u001B[1;32m----> 2\u001B[0m slt_sbfs_features2, score2_sbfs \u001B[38;5;241m=\u001B[39m \u001B[43mperform_feature_selection\u001B[49m\u001B[43m(\u001B[49m\u001B[43mdata2\u001B[49m\u001B[43m,\u001B[49m\u001B[43m \u001B[49m\u001B[43mtarget2\u001B[49m\u001B[43m,\u001B[49m\u001B[43m \u001B[49m\u001B[43mmodelo2\u001B[49m\u001B[43m,\u001B[49m\u001B[43m \u001B[49m\u001B[38;5;124;43m\"\u001B[39;49m\u001B[38;5;124;43mdata2\u001B[39;49m\u001B[38;5;124;43m\"\u001B[39;49m\u001B[43m,\u001B[49m\u001B[43m \u001B[49m\u001B[38;5;124;43m'\u001B[39;49m\u001B[38;5;124;43mSBFS\u001B[39;49m\u001B[38;5;124;43m'\u001B[39;49m\u001B[43m,\u001B[49m\u001B[43m \u001B[49m\u001B[38;5;241;43m5\u001B[39;49m\u001B[43m)\u001B[49m\n\u001B[0;32m      3\u001B[0m slt_sffs_features2, score2_sffs \u001B[38;5;241m=\u001B[39m perform_feature_selection(data2, target2, modelo2,\u001B[38;5;124m\"\u001B[39m\u001B[38;5;124mdata2\u001B[39m\u001B[38;5;124m\"\u001B[39m, \u001B[38;5;124m'\u001B[39m\u001B[38;5;124mSFFS\u001B[39m\u001B[38;5;124m'\u001B[39m, \u001B[38;5;241m5\u001B[39m)\n",
      "Cell \u001B[1;32mIn[16], line 25\u001B[0m, in \u001B[0;36mperform_feature_selection\u001B[1;34m(data, target, model, best_model, method, cv)\u001B[0m\n\u001B[0;32m     23\u001B[0m sfs \u001B[38;5;241m=\u001B[39m sfs\u001B[38;5;241m.\u001B[39mfit(data, target)\n\u001B[0;32m     24\u001B[0m \u001B[38;5;66;03m# Salvando o resultado em um dataframe\u001B[39;00m\n\u001B[1;32m---> 25\u001B[0m df \u001B[38;5;241m=\u001B[39m pd\u001B[38;5;241m.\u001B[39mDataFrame\u001B[38;5;241m.\u001B[39mfrom_dict(\u001B[43msfs\u001B[49m\u001B[38;5;241;43m.\u001B[39;49m\u001B[43mget_metric_dict\u001B[49m\u001B[43m(\u001B[49m\u001B[43m)\u001B[49m)\u001B[38;5;241m.\u001B[39mT\n\u001B[0;32m     27\u001B[0m \u001B[38;5;66;03m# Definindo nome do arquivo para salvar as features selecionadas em formato CSV\u001B[39;00m\n\u001B[0;32m     28\u001B[0m \u001B[38;5;28;01mif\u001B[39;00m os\u001B[38;5;241m.\u001B[39mpath\u001B[38;5;241m.\u001B[39mexists(\u001B[38;5;124mf\u001B[39m\u001B[38;5;124m\"\u001B[39m\u001B[38;5;124mresults/\u001B[39m\u001B[38;5;132;01m{\u001B[39;00mmethod\u001B[38;5;132;01m}\u001B[39;00m\u001B[38;5;124m_\u001B[39m\u001B[38;5;132;01m{\u001B[39;00mbest_model\u001B[38;5;132;01m}\u001B[39;00m\u001B[38;5;124m.csv\u001B[39m\u001B[38;5;124m\"\u001B[39m):\n",
      "File \u001B[1;32mC:\\Programs\\envs\\bic\\Lib\\site-packages\\mlxtend\\feature_selection\\sequential_feature_selector.py:879\u001B[0m, in \u001B[0;36mSequentialFeatureSelector.get_metric_dict\u001B[1;34m(self, confidence_interval)\u001B[0m\n\u001B[0;32m    856\u001B[0m \u001B[38;5;28;01mdef\u001B[39;00m \u001B[38;5;21mget_metric_dict\u001B[39m(\u001B[38;5;28mself\u001B[39m, confidence_interval\u001B[38;5;241m=\u001B[39m\u001B[38;5;241m0.95\u001B[39m):\n\u001B[0;32m    857\u001B[0m \u001B[38;5;250m    \u001B[39m\u001B[38;5;124;03m\"\"\"Return metric dictionary\u001B[39;00m\n\u001B[0;32m    858\u001B[0m \n\u001B[0;32m    859\u001B[0m \u001B[38;5;124;03m    Parameters\u001B[39;00m\n\u001B[1;32m   (...)\u001B[0m\n\u001B[0;32m    877\u001B[0m \n\u001B[0;32m    878\u001B[0m \u001B[38;5;124;03m    \"\"\"\u001B[39;00m\n\u001B[1;32m--> 879\u001B[0m     \u001B[38;5;28;43mself\u001B[39;49m\u001B[38;5;241;43m.\u001B[39;49m\u001B[43m_check_fitted\u001B[49m\u001B[43m(\u001B[49m\u001B[43m)\u001B[49m\n\u001B[0;32m    880\u001B[0m     fdict \u001B[38;5;241m=\u001B[39m deepcopy(\u001B[38;5;28mself\u001B[39m\u001B[38;5;241m.\u001B[39msubsets_)\n\u001B[0;32m    881\u001B[0m     \u001B[38;5;28;01mfor\u001B[39;00m k \u001B[38;5;129;01min\u001B[39;00m fdict:\n",
      "File \u001B[1;32mC:\\Programs\\envs\\bic\\Lib\\site-packages\\mlxtend\\feature_selection\\sequential_feature_selector.py:898\u001B[0m, in \u001B[0;36mSequentialFeatureSelector._check_fitted\u001B[1;34m(self)\u001B[0m\n\u001B[0;32m    896\u001B[0m \u001B[38;5;28;01mdef\u001B[39;00m \u001B[38;5;21m_check_fitted\u001B[39m(\u001B[38;5;28mself\u001B[39m):\n\u001B[0;32m    897\u001B[0m     \u001B[38;5;28;01mif\u001B[39;00m \u001B[38;5;129;01mnot\u001B[39;00m \u001B[38;5;28mself\u001B[39m\u001B[38;5;241m.\u001B[39mfitted:\n\u001B[1;32m--> 898\u001B[0m         \u001B[38;5;28;01mraise\u001B[39;00m \u001B[38;5;167;01mAttributeError\u001B[39;00m(\n\u001B[0;32m    899\u001B[0m             \u001B[38;5;124m\"\u001B[39m\u001B[38;5;124mSequentialFeatureSelector has not been\u001B[39m\u001B[38;5;124m\"\u001B[39m \u001B[38;5;124m\"\u001B[39m\u001B[38;5;124m fitted, yet.\u001B[39m\u001B[38;5;124m\"\u001B[39m\n\u001B[0;32m    900\u001B[0m         )\n",
      "\u001B[1;31mAttributeError\u001B[0m: SequentialFeatureSelector has not been fitted, yet."
     ]
    }
   ],
   "source": [
    "print(\"========================== Data 2  =================================\")\n",
    "slt_sbfs_features2, score2_sbfs = perform_feature_selection(data2, target2, modelo2, \"data2\", 'SBFS', 5)\n",
    "slt_sffs_features2, score2_sffs = perform_feature_selection(data2, target2, modelo2,\"data2\", 'SFFS', 5)"
   ]
  },
  {
   "cell_type": "code",
   "execution_count": null,
   "metadata": {
    "collapsed": false
   },
   "outputs": [],
   "source": [
    "print(\"========================== Data 3  =================================\")\n",
    "slt_sbfs_features3, score3_sbfs = perform_feature_selection(data3, target3, modelo3, \"data3\", 'SBFS', 5)\n",
    "slt_sffs_features3, score3_sffs = perform_feature_selection(data3, target3, modelo3, \"data3\", 'SFFS', 5)"
   ]
  },
  {
   "cell_type": "code",
   "execution_count": null,
   "metadata": {
    "collapsed": false
   },
   "outputs": [],
   "source": [
    "print(\"========================== Data 4  =================================\")\n",
    "slt_sbfs_features4, score4_sbfs = perform_feature_selection(data4, target4, modelo4,\"data4\", 'SBFS', 5)\n",
    "slt_sffs_features4, score4_sffs = perform_feature_selection(data4, target4, modelo4, \"data4\", 'SFFS', 5)"
   ]
  },
  {
   "cell_type": "code",
   "execution_count": null,
   "metadata": {
    "collapsed": false
   },
   "outputs": [],
   "source": [
    "print(\"========================== Data 5  =================================\")\n",
    "slt_sbfs_features5, score5_sbfs = perform_feature_selection(data5, target5, modelo5, \"data5\", 'SBFS', 5)\n",
    "slt_sffs_features5, score5_sffs = perform_feature_selection(data5, target5, modelo5, \"data5\", 'SFFS', 5)"
   ]
  },
  {
   "cell_type": "code",
   "execution_count": null,
   "metadata": {
    "ExecuteTime": {
     "start_time": "2023-11-17T00:53:08.616362253Z"
    },
    "collapsed": false
   },
   "outputs": [],
   "source": [
    "print(\"========================== Data 6  =================================\")\n",
    "slt_sbfs_features6, score6_sbfs = perform_feature_selection(data6, target6, modelo6, \"data6\", 'SBFS', 5)\n",
    "slt_sffs_features6, score6_sffs = perform_feature_selection(data6, target6, modelo6, \"data6\", 'SFFS', 5)"
   ]
  },
  {
   "cell_type": "markdown",
   "metadata": {
    "collapsed": false
   },
   "source": [
    "### Salvando as features selecionadas"
   ]
  },
  {
   "cell_type": "code",
   "execution_count": null,
   "metadata": {
    "ExecuteTime": {
     "start_time": "2023-11-17T00:53:08.617176973Z"
    },
    "collapsed": false
   },
   "outputs": [],
   "source": [
    "# Criando um arquivo txt com a feature selecionadas\n",
    "with open(f\"results/SBFS_data1.txt\", \"w\") as f:\n",
    "    f.write(str(slt_sbfs_features1))\n",
    "with open(f\"results/SFFS_data1.txt\", \"w\") as f:\n",
    "    f.write(str(slt_sffs_features1))\n",
    "with open(f\"results/SBFS_data2.txt\", \"w\") as f:\n",
    "    f.write(str(slt_sbfs_features2))\n",
    "with open(f\"results/SFFS_data2.txt\", \"w\") as f:\n",
    "    f.write(str(slt_sffs_features2))\n",
    "with open(f\"results/SBFS_data3.txt\", \"w\") as f:\n",
    "    f.write(str(slt_sbfs_features3))\n",
    "with open(f\"results/SFFS_data3.txt\", \"w\") as f:\n",
    "    f.write(str(slt_sffs_features3))\n",
    "with open(f\"results/SBFS_data4.txt\", \"w\") as f:\n",
    "    f.write(str(slt_sbfs_features4))\n",
    "with open(f\"results/SFFS_data4.txt\", \"w\") as f:\n",
    "    f.write(str(slt_sffs_features4))\n",
    "with open(f\"results/SBFS_data5.txt\", \"w\") as f:\n",
    "    f.write(str(slt_sbfs_features5))\n",
    "with open(f\"results/SFFS_data5.txt\", \"w\") as f:\n",
    "    f.write(str(slt_sffs_features5))\n",
    "with open(f\"results/SBFS_data6.txt\", \"w\") as f:\n",
    "    f.write(str(slt_sbfs_features6))\n",
    "with open(f\"results/SFFS_data6.txt\", \"w\") as f:\n",
    "    f.write(str(slt_sffs_features6))"
   ]
  },
  {
   "cell_type": "markdown",
   "metadata": {
    "collapsed": false
   },
   "source": [
    "### [Abrir features selecionadas]"
   ]
  },
  {
   "cell_type": "code",
   "execution_count": null,
   "metadata": {
    "ExecuteTime": {
     "start_time": "2023-11-17T00:53:08.618105274Z"
    },
    "collapsed": false
   },
   "outputs": [],
   "source": [
    "def ler_arquivo_txt(nome_arquivo):\n",
    "    with open(nome_arquivo, 'r') as arquivo:\n",
    "        vetor_strings = []\n",
    "        for linha in arquivo:\n",
    "            valores = linha.strip().replace('(', '').replace(')', '').replace(\"'\", '').split(', ')\n",
    "            vetor_strings.append(valores)\n",
    "    return vetor_strings\n"
   ]
  },
  {
   "cell_type": "code",
   "execution_count": null,
   "metadata": {
    "ExecuteTime": {
     "start_time": "2023-11-17T00:53:08.618798637Z"
    },
    "collapsed": false
   },
   "outputs": [],
   "source": [
    "# Lendo os arquivos txt com as features selecionadas\n",
    "slt_sbfs_features1 = ler_arquivo_txt('results/SBFS_data1.txt')[0]\n",
    "slt_sffs_features1 = ler_arquivo_txt('results/SFFS_data1.txt')[0]\n",
    "slt_sbfs_features2 = ler_arquivo_txt('results/SBFS_data2.txt')[0]\n",
    "slt_sffs_features2 = ler_arquivo_txt('results/SFFS_data2.txt')[0]\n",
    "slt_sbfs_features3 = ler_arquivo_txt('results/SBFS_data3.txt')[0]\n",
    "slt_sffs_features3 = ler_arquivo_txt('results/SFFS_data3.txt')[0]\n",
    "slt_sbfs_features4 = ler_arquivo_txt('results/SBFS_data4.txt')[0]\n",
    "slt_sffs_features4 = ler_arquivo_txt('results/SFFS_data4.txt')[0]\n",
    "slt_sbfs_features5 = ler_arquivo_txt('results/SBFS_data5.txt')[0]\n",
    "slt_sffs_features5 = ler_arquivo_txt('results/SFFS_data5.txt')[0]\n",
    "slt_sbfs_features6 = ler_arquivo_txt('results/SBFS_data6.txt')[0]\n",
    "slt_sffs_features6 = ler_arquivo_txt('results/SFFS_data6.txt')[0]"
   ]
  },
  {
   "cell_type": "markdown",
   "metadata": {
    "collapsed": false
   },
   "source": [
    "### Avaliando os modelos com as features selecionadas"
   ]
  },
  {
   "cell_type": "code",
   "execution_count": null,
   "metadata": {
    "ExecuteTime": {
     "start_time": "2023-11-17T00:53:08.619556621Z"
    },
    "collapsed": false
   },
   "outputs": [],
   "source": [
    "# Testando os modelos com as features selecionadas\n",
    "print(\"========================== Data 1  - SBFS =================================\")\n",
    "perform_cross_validation(modelo1, data1_re.loc[:,slt_sbfs_features1], target1_re, 5, False)\n",
    "\n",
    "print(\"========================== Data 1  - SFFS =================================\")\n",
    "perform_cross_validation(modelo1, data1_re.loc[:,slt_sffs_features1], target1_re, 5, False)"
   ]
  },
  {
   "cell_type": "code",
   "execution_count": null,
   "metadata": {
    "ExecuteTime": {
     "start_time": "2023-11-17T00:53:08.620973263Z"
    },
    "collapsed": false
   },
   "outputs": [],
   "source": [
    "print(\"========================== Data 2  - SBFS =================================\")\n",
    "perform_cross_validation(modelo2, data2_re.loc[:,slt_sbfs_features2], target2_re, 5, False)\n",
    "\n",
    "print(\"========================== Data 2  - SFFS =================================\")\n",
    "perform_cross_validation(modelo2, data2_re.loc[:,slt_sffs_features2], target2_re, 5, False)"
   ]
  },
  {
   "cell_type": "code",
   "execution_count": null,
   "metadata": {
    "ExecuteTime": {
     "start_time": "2023-11-17T00:53:08.621570056Z"
    },
    "collapsed": false
   },
   "outputs": [],
   "source": [
    "print(\"========================== Data 3  - SBFS =================================\")\n",
    "perform_cross_validation(modelo3, data3_re.loc[:,slt_sbfs_features3], target3_re, 5, False)\n",
    "\n",
    "print(\"========================== Data 3  - SFFS =================================\")\n",
    "perform_cross_validation(modelo3, data3_re.loc[:,slt_sffs_features3], target3_re, 5, False)"
   ]
  },
  {
   "cell_type": "code",
   "execution_count": null,
   "metadata": {
    "ExecuteTime": {
     "start_time": "2023-11-17T00:53:08.622276072Z"
    },
    "collapsed": false
   },
   "outputs": [],
   "source": [
    "print(\"========================== Data 4  - SBFS =================================\")\n",
    "perform_cross_validation(modelo4, data4_re.loc[:,slt_sbfs_features4], target4_re, 5, False)\n",
    "\n",
    "print(\"========================== Data 4  - SFFS =================================\")\n",
    "perform_cross_validation(modelo4, data4_re.loc[:,slt_sffs_features4], target4_re, 5, False)"
   ]
  },
  {
   "cell_type": "code",
   "execution_count": null,
   "metadata": {
    "ExecuteTime": {
     "start_time": "2023-11-17T00:53:08.622904945Z"
    },
    "collapsed": false
   },
   "outputs": [],
   "source": [
    "print(\"========================== Data 5  - SBFS =================================\")\n",
    "perform_cross_validation(modelo5, data5_re.loc[:,slt_sbfs_features5], target5_re, 5, False)\n",
    "\n",
    "print(\"========================== Data 5  - SFFS =================================\")\n",
    "perform_cross_validation(modelo5, data5_re.loc[:,slt_sffs_features5], target5_re, 5, False)"
   ]
  },
  {
   "cell_type": "code",
   "execution_count": null,
   "metadata": {
    "ExecuteTime": {
     "start_time": "2023-11-17T00:53:08.623463907Z"
    },
    "collapsed": false
   },
   "outputs": [],
   "source": [
    "print(\"========================== Data 6  - SBFS =================================\")\n",
    "perform_cross_validation(modelo6, data6_re.loc[:,slt_sbfs_features6], target6_re, 5, False)\n",
    "\n",
    "print(\"========================== Data 6  - SFFS =================================\")\n",
    "perform_cross_validation(modelo6, data6_re.loc[:,slt_sffs_features6], target6_re, 5, False)"
   ]
  },
  {
   "cell_type": "markdown",
   "metadata": {
    "collapsed": false
   },
   "source": [
    "## Matriz de Confusão"
   ]
  },
  {
   "cell_type": "code",
   "execution_count": null,
   "metadata": {
    "ExecuteTime": {
     "start_time": "2023-11-17T00:53:08.624410843Z"
    },
    "collapsed": false
   },
   "outputs": [],
   "source": [
    "\n",
    "\n",
    "# Definindo as classes\n",
    "classes = [\"Baixo\", \"Médio\", \"Alto\"]\n",
    "\n",
    "# Sua matriz de confusão de três classes\n",
    "conf_matrix = np.array([[20, 0, 2],\n",
    "                        [0, 30, 1],\n",
    "                        [12, 3, 27]])\n",
    "\n",
    "# Calculando precisão, recall e f1 score para cada classe\n",
    "precision = []\n",
    "recall = []\n",
    "f1 = []\n",
    "\n",
    "for i in range(len(conf_matrix)):\n",
    "    TP = conf_matrix[i][i]\n",
    "    FP = sum(conf_matrix[r][i] for r in range(len(conf_matrix)) if r != i)\n",
    "    FN = sum(conf_matrix[i][c] for c in range(len(conf_matrix)) if c != i)\n",
    "\n",
    "    precision.append(TP / (TP + FP))\n",
    "    recall.append(TP / (TP + FN))\n",
    "    f1.append(2 * (precision[i] * recall[i]) / (precision[i] + recall[i]))\n",
    "\n",
    "# Criando um DataFrame com os resultados\n",
    "df = pd.DataFrame({'Classe': classes, 'Precisão': precision, 'Recall': recall, 'F1 Score': f1})\n",
    "\n",
    "# Plotando a matriz de confusão\n",
    "plt.figure(figsize=(8, 6), dpi=300)\n",
    "sns.heatmap(conf_matrix, annot=True, fmt=\"d\", xticklabels=classes, yticklabels=classes, annot_kws={\"size\": 14})\n",
    "plt.xlabel('Classe Prevista', size=12, fontweight='bold')\n",
    "plt.ylabel('Classe Real', size=12, fontweight='bold')\n",
    "plt.title('Matriz de Confusão - SBFS - DATA 2', size=14, fontweight='bold')\n",
    "plt.savefig('confusion_matrix_sbfs_data2.png', dpi=300, transparent=True)\n",
    "plt.show()\n",
    "\n",
    "# Exibindo a tabela com os resultados\n",
    "print(\"Tabela de Resultados:\")\n",
    "df\n",
    "\n",
    "\n"
   ]
  },
  {
   "cell_type": "markdown",
   "metadata": {
    "collapsed": false
   },
   "source": []
  }
 ],
 "metadata": {
  "kernelspec": {
   "display_name": "Python 3 (ipykernel)",
   "language": "python",
   "name": "python3"
  },
  "language_info": {
   "codemirror_mode": {
    "name": "ipython",
    "version": 3
   },
   "file_extension": ".py",
   "mimetype": "text/x-python",
   "name": "python",
   "nbconvert_exporter": "python",
   "pygments_lexer": "ipython3",
   "version": "3.11.5"
  }
 },
 "nbformat": 4,
 "nbformat_minor": 4
}
