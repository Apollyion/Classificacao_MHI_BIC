{
 "cells": [
  {
   "cell_type": "code",
   "execution_count": null,
   "metadata": {
    "collapsed": true
   },
   "outputs": [],
   "source": []
  },
  {
   "cell_type": "code",
   "execution_count": 3,
   "outputs": [
    {
     "name": "stdout",
     "output_type": "stream",
     "text": [
      "1 - Sexo\n"
     ]
    }
   ],
   "source": [
    "import openpyxl\n",
    "\n",
    "def get_title_from_column_coordinate(file_path, column_coordinate):\n",
    "    try:\n",
    "        # Carrega o arquivo XLSX\n",
    "        workbook = openpyxl.load_workbook(file_path)\n",
    "\n",
    "        # Seleciona a primeira planilha (você pode ajustar isso conforme a sua necessidade)\n",
    "        worksheet = workbook.worksheets[0]\n",
    "\n",
    "        # Obtém o título da coluna com base na coordenada fornecida (por exemplo, \"A\", \"B\", \"C\", ...)\n",
    "        column_title = worksheet[column_coordinate + '1'].value\n",
    "\n",
    "        return column_title\n",
    "    except Exception as e:\n",
    "        print(f\"Ocorreu um erro: {e}\")\n",
    "        return None\n",
    "\n",
    "# Exemplo de uso:\n",
    "file_path = 'BANCO DE DADOS - INVERTIDO - 24 de Agosto 2019.xlsx'\n",
    "column_coordinate = 'B'  # Insira a coordenada da coluna que você deseja obter o título (por exemplo, \"A\", \"B\", \"C\", ...)\n",
    "title = get_title_from_column_coordinate(file_path, column_coordinate)\n",
    "print(title)"
   ],
   "metadata": {
    "collapsed": false,
    "ExecuteTime": {
     "end_time": "2023-08-02T13:24:13.371877Z",
     "start_time": "2023-08-02T13:24:10.560555100Z"
    }
   }
  }
 ],
 "metadata": {
  "kernelspec": {
   "display_name": "Python 3",
   "language": "python",
   "name": "python3"
  },
  "language_info": {
   "codemirror_mode": {
    "name": "ipython",
    "version": 2
   },
   "file_extension": ".py",
   "mimetype": "text/x-python",
   "name": "python",
   "nbconvert_exporter": "python",
   "pygments_lexer": "ipython2",
   "version": "2.7.6"
  }
 },
 "nbformat": 4,
 "nbformat_minor": 0
}
