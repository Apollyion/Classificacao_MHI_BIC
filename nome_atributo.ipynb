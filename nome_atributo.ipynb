{
 "cells": [
  {
   "cell_type": "code",
   "execution_count": null,
   "metadata": {
    "collapsed": true
   },
   "outputs": [],
   "source": []
  },
  {
   "cell_type": "code",
   "execution_count": 3,
   "outputs": [
    {
     "name": "stdout",
     "output_type": "stream",
     "text": [
      "A coluna \"('AC', 'AS', 'AY', 'D_1.0', 'AB_1.0', 'AB_3.0', 'BR', 'BS', 'BX', 'CC', 'CJ', 'CQ', 'CR', 'CS')\" não foi encontrada.\n",
      "[]\n"
     ]
    }
   ],
   "source": [
    "import io\n",
    "import pandas as pd\n",
    "\n",
    "def read_txt_file(file_name):\n",
    "    with open(file_name, 'r') as f:\n",
    "        lines = f.readlines()\n",
    "    return lines\n",
    "\n",
    "def get_column_values(file_name, txt_file_contents):\n",
    "    df = pd.read_excel(file_name)\n",
    "    column_values = []\n",
    "    for column_name in txt_file_contents:\n",
    "        column_name = column_name.strip()\n",
    "        if column_name in df.columns:\n",
    "            column_values.append(df[column_name].iloc[0, 0])\n",
    "        else:\n",
    "            print(f'A coluna \"{column_name}\" não foi encontrada.')\n",
    "    return column_values\n",
    "\n",
    "if __name__ == '__main__':\n",
    "    txt_file_contents = read_txt_file(r'C:\\Users\\lucas\\Documents\\Github\\Classificacao_MHI_BIC\\Codigos-Desenvolvimento\\results\\SBFS_data2.txt')\n",
    "    column_values = get_column_values('BANCO DE DADOS - INVERTIDO - 24 de Agosto 2019.xlsx', txt_file_contents)\n",
    "    print(column_values)"
   ],
   "metadata": {
    "collapsed": false,
    "ExecuteTime": {
     "end_time": "2023-07-21T15:26:19.797801400Z",
     "start_time": "2023-07-21T15:26:17.263822Z"
    }
   }
  }
 ],
 "metadata": {
  "kernelspec": {
   "display_name": "Python 3",
   "language": "python",
   "name": "python3"
  },
  "language_info": {
   "codemirror_mode": {
    "name": "ipython",
    "version": 2
   },
   "file_extension": ".py",
   "mimetype": "text/x-python",
   "name": "python",
   "nbconvert_exporter": "python",
   "pygments_lexer": "ipython2",
   "version": "2.7.6"
  }
 },
 "nbformat": 4,
 "nbformat_minor": 0
}
