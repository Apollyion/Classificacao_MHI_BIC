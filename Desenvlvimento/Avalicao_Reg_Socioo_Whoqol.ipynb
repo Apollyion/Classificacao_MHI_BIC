{
 "cells": [
  {
   "cell_type": "code",
   "execution_count": 43,
   "outputs": [],
   "source": [
    "# Importando bibliotecas\n",
    "import pandas as pd\n",
    "import numpy as np\n",
    "import matplotlib.pyplot as plt\n",
    "import seaborn as sns\n",
    "from sklearn.metrics import classification_report\n",
    "from sklearn.metrics import mean_squared_error\n",
    "\n",
    "#Importando modelos de machine learning\n",
    "from sklearn.model_selection import train_test_split\n",
    "from sklearn.ensemble import RandomForestClassifier\n",
    "from sklearn.svm import SVC\n",
    "from sklearn.neural_network import MLPClassifier\n",
    "from xgboost import XGBClassifier"
   ],
   "metadata": {
    "collapsed": false,
    "ExecuteTime": {
     "end_time": "2023-05-18T16:40:12.116574400Z",
     "start_time": "2023-05-18T16:40:12.104796100Z"
    }
   }
  },
  {
   "cell_type": "code",
   "execution_count": 45,
   "outputs": [],
   "source": [
    "# Importando base de dados que contem o header\n",
    "base = pd.read_csv('df_soc_whoqol_reg.csv')\n",
    "# Dividindo entre X e y, pelo tamanho da base\n",
    "X = base.drop('Nivel_MHI', axis=1)\n",
    "X = X.drop('MHI_Score', axis=1)\n",
    "y = base['MHI_Score'].apply(lambda x: x/100)\n",
    "\n",
    "df_Niveis = base['Nivel_MHI']\n",
    "\n",
    "\n",
    "#from sklearn.preprocessing import LabelEncoder\n",
    "#le = LabelEncoder()\n",
    "#y = le.fit_transform(y)"
   ],
   "metadata": {
    "collapsed": false,
    "ExecuteTime": {
     "end_time": "2023-05-18T16:40:15.699035100Z",
     "start_time": "2023-05-18T16:40:15.671858200Z"
    }
   }
  },
  {
   "cell_type": "code",
   "execution_count": 46,
   "outputs": [
    {
     "name": "stdout",
     "output_type": "stream",
     "text": [
      "0      1.71\n",
      "1      1.37\n",
      "2      1.00\n",
      "3      0.54\n",
      "4      1.02\n",
      "       ... \n",
      "867    1.86\n",
      "868    1.41\n",
      "869    1.39\n",
      "870    1.14\n",
      "871    1.17\n",
      "Name: MHI_Score, Length: 872, dtype: float64\n"
     ]
    }
   ],
   "source": [
    "print(y)"
   ],
   "metadata": {
    "collapsed": false,
    "ExecuteTime": {
     "end_time": "2023-05-18T16:40:16.188359600Z",
     "start_time": "2023-05-18T16:40:16.169975200Z"
    }
   }
  },
  {
   "cell_type": "code",
   "execution_count": 47,
   "outputs": [],
   "source": [
    "# Dividindo a base entre treinamento e teste\n",
    "X_train, X_test, y_train, y_test = train_test_split(X, y, test_size=0.3)\n"
   ],
   "metadata": {
    "collapsed": false,
    "ExecuteTime": {
     "end_time": "2023-05-18T16:40:16.703286900Z",
     "start_time": "2023-05-18T16:40:16.674439300Z"
    }
   }
  },
  {
   "cell_type": "code",
   "execution_count": 48,
   "outputs": [],
   "source": [
    "# Aplicando TPOT Regressor\n",
    "from tpot import TPOTRegressor\n",
    "tpot = TPOTRegressor(population_size=50, verbosity=2, max_time_mins=120, early_stop=5,n_jobs =-1)\n",
    "#print(tpot.score(X_test, y_test))\n",
    "#tpot.export('tpot_mnist_pipeline.py')\n"
   ],
   "metadata": {
    "collapsed": false,
    "ExecuteTime": {
     "end_time": "2023-05-18T16:40:17.095441800Z",
     "start_time": "2023-05-18T16:40:17.082929100Z"
    }
   }
  },
  {
   "cell_type": "code",
   "execution_count": 49,
   "outputs": [
    {
     "ename": "AttributeError",
     "evalue": "'TPOTRegressor' object has no attribute 'fitted_pipeline_'",
     "output_type": "error",
     "traceback": [
      "\u001B[1;31m---------------------------------------------------------------------------\u001B[0m",
      "\u001B[1;31mAttributeError\u001B[0m                            Traceback (most recent call last)",
      "Cell \u001B[1;32mIn[49], line 1\u001B[0m\n\u001B[1;32m----> 1\u001B[0m y_pred \u001B[38;5;241m=\u001B[39m tpot\u001B[38;5;241m.\u001B[39mpredict(X_test)\n\u001B[0;32m      2\u001B[0m \u001B[38;5;28mprint\u001B[39m(mean_squared_error(y_test, y_pred))\n\u001B[0;32m      3\u001B[0m \u001B[38;5;28;01mfrom\u001B[39;00m \u001B[38;5;21;01msklearn\u001B[39;00m\u001B[38;5;21;01m.\u001B[39;00m\u001B[38;5;21;01mmetrics\u001B[39;00m \u001B[38;5;28;01mimport\u001B[39;00m median_absolute_error\n",
      "File \u001B[1;32m~\\anaconda3\\envs\\BIC\\Lib\\site-packages\\tpot\\base.py:1034\u001B[0m, in \u001B[0;36mTPOTBase.predict\u001B[1;34m(self, features)\u001B[0m\n\u001B[0;32m   1020\u001B[0m \u001B[38;5;28;01mdef\u001B[39;00m \u001B[38;5;21mpredict\u001B[39m(\u001B[38;5;28mself\u001B[39m, features):\n\u001B[0;32m   1021\u001B[0m     \u001B[38;5;124;03m\"\"\"Use the optimized pipeline to predict the target for a feature set.\u001B[39;00m\n\u001B[0;32m   1022\u001B[0m \n\u001B[0;32m   1023\u001B[0m \u001B[38;5;124;03m    Parameters\u001B[39;00m\n\u001B[1;32m   (...)\u001B[0m\n\u001B[0;32m   1032\u001B[0m \n\u001B[0;32m   1033\u001B[0m \u001B[38;5;124;03m    \"\"\"\u001B[39;00m\n\u001B[1;32m-> 1034\u001B[0m     \u001B[38;5;28;01mif\u001B[39;00m \u001B[38;5;129;01mnot\u001B[39;00m \u001B[38;5;28mself\u001B[39m\u001B[38;5;241m.\u001B[39mfitted_pipeline_:\n\u001B[0;32m   1035\u001B[0m         \u001B[38;5;28;01mraise\u001B[39;00m \u001B[38;5;167;01mRuntimeError\u001B[39;00m(\n\u001B[0;32m   1036\u001B[0m             \u001B[38;5;124m\"\u001B[39m\u001B[38;5;124mA pipeline has not yet been optimized. Please call fit() first.\u001B[39m\u001B[38;5;124m\"\u001B[39m\n\u001B[0;32m   1037\u001B[0m         )\n\u001B[0;32m   1039\u001B[0m     features \u001B[38;5;241m=\u001B[39m \u001B[38;5;28mself\u001B[39m\u001B[38;5;241m.\u001B[39m_check_dataset(features, target\u001B[38;5;241m=\u001B[39m\u001B[38;5;28;01mNone\u001B[39;00m, sample_weight\u001B[38;5;241m=\u001B[39m\u001B[38;5;28;01mNone\u001B[39;00m)\n",
      "\u001B[1;31mAttributeError\u001B[0m: 'TPOTRegressor' object has no attribute 'fitted_pipeline_'"
     ]
    }
   ],
   "source": [
    "y_pred = tpot.predict(X_test)\n",
    "print(mean_squared_error(y_test, y_pred))\n",
    "from sklearn.metrics import median_absolute_error\n",
    "median_absolute_error(y_test, y_pred)"
   ],
   "metadata": {
    "collapsed": false,
    "ExecuteTime": {
     "end_time": "2023-05-18T16:40:17.682829500Z",
     "start_time": "2023-05-18T16:40:17.659347Z"
    }
   }
  },
  {
   "cell_type": "code",
   "execution_count": null,
   "outputs": [],
   "source": [],
   "metadata": {
    "collapsed": false,
    "ExecuteTime": {
     "start_time": "2023-05-18T16:40:05.745970600Z"
    }
   }
  }
 ],
 "metadata": {
  "kernelspec": {
   "display_name": "Python 3",
   "language": "python",
   "name": "python3"
  },
  "language_info": {
   "codemirror_mode": {
    "name": "ipython",
    "version": 2
   },
   "file_extension": ".py",
   "mimetype": "text/x-python",
   "name": "python",
   "nbconvert_exporter": "python",
   "pygments_lexer": "ipython2",
   "version": "2.7.6"
  }
 },
 "nbformat": 4,
 "nbformat_minor": 0
}
