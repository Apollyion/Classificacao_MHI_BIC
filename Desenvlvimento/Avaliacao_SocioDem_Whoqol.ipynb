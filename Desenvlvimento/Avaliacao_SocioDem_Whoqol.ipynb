{
 "cells": [
  {
   "cell_type": "markdown",
   "metadata": {},
   "source": [
    "# Classificação dos niveis de MHI, usando dados sociodemograficos e do WHOQOL-BREF;\n",
    "- Neste projeto será utilizado a base de dados da dissertação \"QUALIDADE DE VIDA E SAÚDE MENTAL DE ESTUDANTES UNIVERSITÁRIOS\" de autoria de LYCÉLIA DA SILVA OLIVEIRA, para usar dados sociodemograficos e de qualidade de vida para classificar os niveis de saude mental dos estudantes universitarios da UVA."
   ]
  },
  {
   "cell_type": "markdown",
   "source": [
    "## 1 - Importando Dados e Bibliotecas"
   ],
   "metadata": {
    "collapsed": false
   }
  },
  {
   "cell_type": "code",
   "execution_count": 1,
   "outputs": [],
   "source": [
    "# Importando bibliotecas\n",
    "import pandas as pd\n",
    "import numpy as np\n",
    "import matplotlib.pyplot as plt\n",
    "import seaborn as sns\n",
    "from sklearn.metrics import classification_report\n",
    "\n",
    "#Importando modelos de machine learning\n",
    "from sklearn.model_selection import train_test_split\n",
    "from sklearn.ensemble import RandomForestClassifier\n",
    "from sklearn.svm import SVC\n",
    "from sklearn.neural_network import MLPClassifier\n",
    "from xgboost import XGBClassifier"
   ],
   "metadata": {
    "collapsed": false,
    "ExecuteTime": {
     "end_time": "2023-06-01T14:24:59.503193200Z",
     "start_time": "2023-06-01T14:24:55.878040400Z"
    }
   }
  },
  {
   "cell_type": "code",
   "execution_count": 2,
   "outputs": [],
   "source": [
    "# Importando base de dados que contem o header\n",
    "base = pd.read_csv('df_social_whoqol_tratado_1.csv')\n",
    "\n",
    "# Dividindo entre X e y, pelo tamanho da base\n",
    "X = base.drop('Nivel_MHI', axis=1)\n",
    "y = base['Nivel_MHI']\n",
    "\n",
    "\n",
    "from sklearn.preprocessing import LabelEncoder\n",
    "le = LabelEncoder()\n",
    "y = le.fit_transform(y)"
   ],
   "metadata": {
    "collapsed": false,
    "ExecuteTime": {
     "end_time": "2023-06-01T14:24:59.635401Z",
     "start_time": "2023-06-01T14:24:59.503193200Z"
    }
   }
  },
  {
   "cell_type": "markdown",
   "source": [
    "## 2 - Classificação com Modelos Baseline;\n",
    "Inicialmente será testado alguns modelos baseline para verificar qual apresenta o melhor resultado, sem aplicar nenhum tipo de tratamento nos dados. Usei como baseline os seguintes modelos:\n",
    "- (1) DummyClassifier\n",
    "- (2) SVM\n",
    "- (3) Random Forest\n",
    "- (4) MLP\n",
    "- (5) XGBoost\n",
    "- (6) KNN"
   ],
   "metadata": {
    "collapsed": false
   }
  },
  {
   "cell_type": "markdown",
   "metadata": {},
   "source": [
    "### 2.1 - Importando as bibliotecas necessárias;"
   ]
  },
  {
   "cell_type": "code",
   "execution_count": 3,
   "metadata": {
    "ExecuteTime": {
     "end_time": "2023-06-01T14:24:59.667952900Z",
     "start_time": "2023-06-01T14:24:59.597215700Z"
    }
   },
   "outputs": [],
   "source": [
    "# Importando as bibliotecas necessárias\n",
    "from sklearn.model_selection import train_test_split\n",
    "from sklearn.metrics import classification_report\n",
    "#from sklearn.metrics import confusion_matrix\n",
    "from sklearn.metrics import accuracy_score\n",
    "\n",
    "# Importando os modelos de classificação\n",
    "from sklearn.svm import SVC\n",
    "from sklearn.ensemble import RandomForestClassifier\n",
    "from sklearn.neural_network import MLPClassifier\n",
    "from xgboost import XGBClassifier\n",
    "from sklearn.dummy import DummyClassifier\n",
    "from sklearn.neighbors import KNeighborsClassifier\n",
    "from sklearn.model_selection import KFold"
   ]
  },
  {
   "cell_type": "markdown",
   "metadata": {},
   "source": [
    "### 2.2 - Separando os dados de treino e teste;\n",
    "Agora será separado os dados de treino e teste, utilizado um k-fold de 10, ou seja, 10% dos dados serão utilizados para teste e 90% para treino. O random_state será fixado em 42 para que os resultados sejam reproduziveis.\n",
    "\n",
    "Ainda será aplicado o LabelEncoder na variavel objetivo, pois os modelos não aceitam variaveis categóricas."
   ]
  },
  {
   "cell_type": "code",
   "execution_count": 4,
   "outputs": [],
   "source": [
    "# Dividindo a base entre treinamento e teste\n",
    "X_train, X_test, y_train, y_test = train_test_split(X, y, test_size=0.3)\n"
   ],
   "metadata": {
    "collapsed": false,
    "ExecuteTime": {
     "end_time": "2023-06-01T14:24:59.667952900Z",
     "start_time": "2023-06-01T14:24:59.635401Z"
    }
   }
  },
  {
   "cell_type": "markdown",
   "source": [
    "### 2.3 - Criando uma função para avaliar os modelos;"
   ],
   "metadata": {
    "collapsed": false
   }
  },
  {
   "cell_type": "code",
   "execution_count": 5,
   "metadata": {
    "ExecuteTime": {
     "end_time": "2023-06-01T14:24:59.802165300Z",
     "start_time": "2023-06-01T14:24:59.649952100Z"
    }
   },
   "outputs": [],
   "source": [
    "# Criando uma função para avaliar os modelos\n",
    "def avalia_modelo_cv(model, X_input, y_input, n, resultados_individuais=False):\n",
    "    kf = KFold(n_splits=n)\n",
    "    reports = []\n",
    "    y_true = []\n",
    "    y_pred_list = []\n",
    "    X_array = X_input.values\n",
    "    accuracy_list = []\n",
    "    model_name = type(model).__name__\n",
    "    for fold_idx, (train_index, test_index) in enumerate(kf.split(X_input)):\n",
    "        X_input, X_test = X_array[train_index], X_array[test_index]\n",
    "        y_train, y_test = y_input[train_index], y_input[test_index]\n",
    "        model.fit(X_input, y_train)\n",
    "        y_pred = model.predict(X_test)\n",
    "        y_true.extend(y_test)\n",
    "        y_pred_list.append(y_pred)\n",
    "        report = classification_report(y_test, y_pred, zero_division=0)\n",
    "        reports.append(report)\n",
    "        accuracy_list.append(accuracy_score(y_test, y_pred))\n",
    "        if resultados_individuais:\n",
    "            print(f\"Classification Report for fold {fold_idx + 1}:\\n{report}\\n\")\n",
    "    y_pred_total = np.concatenate(y_pred_list)\n",
    "    print(\"-\" * 45)\n",
    "    print(\"model_name: \", model_name)\n",
    "    print(\"Average Classification Report:\")\n",
    "    avg_report = classification_report(y_true, y_pred_total, zero_division=0)\n",
    "    print(avg_report)\n",
    "    #Retorna a acuracia media\n",
    "    return accuracy_score(y_true, y_pred_total)\n",
    "\n"
   ]
  },
  {
   "cell_type": "code",
   "execution_count": 11,
   "outputs": [],
   "source": [
    "# Função que chama os 4 modelos e retorna o resultado de cada um usando a função avalia_modelo_cv e imprime o resultado de cada um.\n",
    "\n",
    "def avalia_dif_modelos_cv(X_train, y_test, cv):\n",
    "    # Criando os modelos\n",
    "    dummy_av = DummyClassifier(strategy='most_frequent')\n",
    "    rf_av = RandomForestClassifier(n_jobs=-1)\n",
    "    svm_av = SVC(kernel='rbf', gamma='auto', decision_function_shape='ovo')\n",
    "    mlp_av = MLPClassifier(hidden_layer_sizes=(100, 100), max_iter=1000)\n",
    "    xgb_av = XGBClassifier(n_jobs=-1)\n",
    "\n",
    "    # Aplicando a função de avaliação\n",
    "    dummy_fun_av = avalia_modelo_cv(dummy_av, X_train, y_test, cv)\n",
    "    rf_fun_av = avalia_modelo_cv(rf_av, X_train, y_test, cv)\n",
    "    svm_fun_av = avalia_modelo_cv(svm_av, X_train, y_test, cv)\n",
    "    mlp_fun_av = avalia_modelo_cv(mlp_av, X_train, y_test, cv)\n",
    "    xgb_fun_av = avalia_modelo_cv(xgb_av, X_train, y_test, cv)\n",
    "\n",
    "    # Criando o dataframe com os resultados\n",
    "    df_resultado = pd.DataFrame({'Modelo': ['Dummy', 'RF', 'SVM', 'MLP', 'XGB'],\n",
    "                                 'Acurácia': [dummy_fun_av, rf_fun_av, svm_fun_av, mlp_fun_av, xgb_fun_av]})\n",
    "\n",
    "    # Plotando o gráfico de barras\n",
    "    sns.barplot(x='Modelo', y='Acurácia', data=df_resultado)\n",
    "    plt.show(\"Desempenho dos modelos\")\n",
    "    %matplotlib inline\n",
    "\n",
    "    return df_resultado"
   ],
   "metadata": {
    "collapsed": false,
    "ExecuteTime": {
     "end_time": "2023-06-01T14:38:52.646845800Z",
     "start_time": "2023-06-01T14:38:52.646845800Z"
    }
   }
  },
  {
   "cell_type": "markdown",
   "source": [
    "### 2.4 - Aplicando os modelos baseline;"
   ],
   "metadata": {
    "collapsed": false
   }
  },
  {
   "cell_type": "code",
   "execution_count": 7,
   "outputs": [
    {
     "name": "stdout",
     "output_type": "stream",
     "text": [
      "---------------------------------------------\n",
      "model_name:  DummyClassifier\n",
      "Average Classification Report:\n",
      "              precision    recall  f1-score   support\n",
      "\n",
      "           0       0.00      0.00      0.00       107\n",
      "           1       0.00      0.00      0.00       108\n",
      "           2       0.65      1.00      0.79       395\n",
      "\n",
      "    accuracy                           0.65       610\n",
      "   macro avg       0.22      0.33      0.26       610\n",
      "weighted avg       0.42      0.65      0.51       610\n",
      "\n",
      "---------------------------------------------\n",
      "model_name:  RandomForestClassifier\n",
      "Average Classification Report:\n",
      "              precision    recall  f1-score   support\n",
      "\n",
      "           0       0.70      0.45      0.55       107\n",
      "           1       0.81      0.60      0.69       108\n",
      "           2       0.78      0.91      0.84       395\n",
      "\n",
      "    accuracy                           0.77       610\n",
      "   macro avg       0.76      0.65      0.69       610\n",
      "weighted avg       0.77      0.77      0.76       610\n",
      "\n",
      "---------------------------------------------\n",
      "model_name:  SVC\n",
      "Average Classification Report:\n",
      "              precision    recall  f1-score   support\n",
      "\n",
      "           0       0.71      0.27      0.39       107\n",
      "           1       0.79      0.50      0.61       108\n",
      "           2       0.74      0.93      0.82       395\n",
      "\n",
      "    accuracy                           0.74       610\n",
      "   macro avg       0.75      0.57      0.61       610\n",
      "weighted avg       0.74      0.74      0.71       610\n",
      "\n",
      "---------------------------------------------\n",
      "model_name:  MLPClassifier\n",
      "Average Classification Report:\n",
      "              precision    recall  f1-score   support\n",
      "\n",
      "           0       0.45      0.42      0.43       107\n",
      "           1       0.62      0.49      0.55       108\n",
      "           2       0.72      0.77      0.75       395\n",
      "\n",
      "    accuracy                           0.66       610\n",
      "   macro avg       0.60      0.56      0.58       610\n",
      "weighted avg       0.66      0.66      0.66       610\n",
      "\n",
      "---------------------------------------------\n",
      "model_name:  XGBClassifier\n",
      "Average Classification Report:\n",
      "              precision    recall  f1-score   support\n",
      "\n",
      "           0       0.64      0.52      0.58       107\n",
      "           1       0.78      0.68      0.72       108\n",
      "           2       0.80      0.87      0.83       395\n",
      "\n",
      "    accuracy                           0.77       610\n",
      "   macro avg       0.74      0.69      0.71       610\n",
      "weighted avg       0.77      0.77      0.77       610\n",
      "\n"
     ]
    },
    {
     "data": {
      "text/plain": "<Figure size 432x288 with 1 Axes>",
      "image/png": "[encoded data removed]"
     },
     "metadata": {
      "needs_background": "light"
     },
     "output_type": "display_data"
    },
    {
     "data": {
      "text/plain": "  Modelo  Acurácia\n0  Dummy  0.647541\n1     RF  0.773770\n2    SVM  0.740984\n3    MLP  0.662295\n4    XGB  0.773770",
      "text/html": "<div>\n<style scoped>\n    .dataframe tbody tr th:only-of-type {\n        vertical-align: middle;\n    }\n\n    .dataframe tbody tr th {\n        vertical-align: top;\n    }\n\n    .dataframe thead th {\n        text-align: right;\n    }\n</style>\n<table border=\"1\" class=\"dataframe\">\n  <thead>\n    <tr style=\"text-align: right;\">\n      <th></th>\n      <th>Modelo</th>\n      <th>Acurácia</th>\n    </tr>\n  </thead>\n  <tbody>\n    <tr>\n      <th>0</th>\n      <td>Dummy</td>\n      <td>0.647541</td>\n    </tr>\n    <tr>\n      <th>1</th>\n      <td>RF</td>\n      <td>0.773770</td>\n    </tr>\n    <tr>\n      <th>2</th>\n      <td>SVM</td>\n      <td>0.740984</td>\n    </tr>\n    <tr>\n      <th>3</th>\n      <td>MLP</td>\n      <td>0.662295</td>\n    </tr>\n    <tr>\n      <th>4</th>\n      <td>XGB</td>\n      <td>0.773770</td>\n    </tr>\n  </tbody>\n</table>\n</div>"
     },
     "execution_count": 7,
     "metadata": {},
     "output_type": "execute_result"
    }
   ],
   "source": [
    "# Aplicando os modelos baseline\n",
    "avalia_dif_modelos_cv(X_train, y_train, 10)"
   ],
   "metadata": {
    "collapsed": false,
    "ExecuteTime": {
     "end_time": "2023-06-01T14:27:27.254552400Z",
     "start_time": "2023-06-01T14:24:59.723390400Z"
    }
   }
  },
  {
   "cell_type": "markdown",
   "metadata": {},
   "source": [
    "### 2.5 - Aplicando feature selection sem balancear os dados;\n",
    "Vou utilizar o modelo com melhor desempenho para aplicar o feature selection mesmo sem balancear os dados e verificar como o modelo se comporta;\n",
    "\n",
    "O modelo escolhido foi o RF, pois apresentou o melhor resultado dentre os modelos baseline.\n",
    "\n",
    "<b> Deve-se criar um novo modelo para evitar leakage, pois o modelo já foi treinado com todos os dados e se for aplicado o feature selection no modelo já treinado, o resultado será enviesado. </b>"
   ]
  },
  {
   "cell_type": "code",
   "execution_count": null,
   "outputs": [],
   "source": [
    "# # Importando o SFFS (Sequential Floating Forward Selection) e SBFS (Sequential Backward Floating Selection)\n",
    "# from mlxtend.feature_selection import SequentialFeatureSelector as SFS"
   ],
   "metadata": {
    "collapsed": false
   }
  },
  {
   "cell_type": "markdown",
   "metadata": {},
   "source": [
    "#### 2.4.1 - Divisão Treino/Teste e Def. da função de avaliação;\n",
    "A função visa apenas facilitar o processo de teste dos modelos, pois ela já faz o fit do modelo, predição e retorna o classification report. E a matriz de confusão."
   ]
  },
  {
   "cell_type": "code",
   "execution_count": null,
   "metadata": {},
   "outputs": [],
   "source": [
    "# # Dividindo os dados de treino e teste\n",
    "# X_train, X_test, y_train, y_test = train_test_split(X, y, test_size=0.3, random_state=42, shuffle=True)\n",
    "#\n",
    "# # Definindo modelo RF\n",
    "# rf_featSelect_Ub = RandomForestClassifier(n_jobs=-1, random_state=42)"
   ]
  },
  {
   "cell_type": "code",
   "execution_count": null,
   "metadata": {},
   "outputs": [],
   "source": [
    "# # Função para avaliar o comportamento do modelo com o feature selection\n",
    "# def avalia_modelo(model, X_train, y_train, X_test, y_test):\n",
    "#     model.fit(X_train, y_train)\n",
    "#     y_pred = model.predict(X_test)\n",
    "#     print(classification_report(y_test, y_pred, zero_division=0))\n",
    "#     print(confusion_matrix(y_test, y_pred))\n",
    "#     return y_pred"
   ]
  },
  {
   "cell_type": "markdown",
   "metadata": {},
   "source": [
    "#### (1) SFS - Sequential Forward Selection;"
   ]
  },
  {
   "cell_type": "code",
   "execution_count": null,
   "metadata": {},
   "outputs": [],
   "source": [
    "# # Criando o modelo SFS\n",
    "# sfs = SFS(rf_featSelect_Ub, k_features='best', forward=True, floating=False, scoring='accuracy', cv=5, n_jobs=-1)\n",
    "#\n",
    "# # Aplicando o modelo SFFS\n",
    "# sfs.fit(X_train, y_train)\n",
    "#\n",
    "# # Selecionando as colunas do dataframe de treino\n",
    "# X_train_sfs = X_train.iloc[:, list(sfs.k_feature_idx_)]\n",
    "# X_test_sfs = X_test.iloc[:, list(sfs.k_feature_idx_)]\n",
    "#\n",
    "# # Aplicando a função de avaliação\n",
    "# rf_sfs_UB = avalia_modelo(rf_featSelect_Ub, X_train_sfs, y_train, X_test_sfs, y_test)"
   ]
  },
  {
   "cell_type": "markdown",
   "metadata": {},
   "source": [
    "#### (2) SFFS - Sequential Floating Forward Selection;"
   ]
  },
  {
   "cell_type": "code",
   "execution_count": null,
   "metadata": {},
   "outputs": [],
   "source": [
    "# # Criando o modelo SFFS\n",
    "# sffs = SFS(rf_featSelect_Ub, k_features='best', forward=True, floating=True, scoring='accuracy', cv=5, n_jobs=-1)\n",
    "#\n",
    "# # Aplicando o modelo SFFS\n",
    "# sffs.fit(X_train, y_train)\n",
    "#\n",
    "# # Selecionando as colunas do dataframe de treino\n",
    "# X_train_sffs = X_train.iloc[:, list(sffs.k_feature_idx_)]\n",
    "# X_test_sffs = X_test.iloc[:, list(sffs.k_feature_idx_)]\n",
    "#\n",
    "# # Aplicando a função de avaliação\n",
    "# rf_sffs_UB = avalia_modelo(rf_featSelect_Ub, X_train_sffs, y_train, X_test_sffs, y_test)"
   ]
  },
  {
   "cell_type": "markdown",
   "metadata": {},
   "source": [
    "## 3 - Treinamento dos modelos com os dados balanceados;\n",
    "Agora vamos treinar os modelos com os dados balanceados e verificar se o desempenho melhora."
   ]
  },
  {
   "cell_type": "markdown",
   "metadata": {},
   "source": [
    "### 3.0 - Importando as bibliotecas e definindo as funções;"
   ]
  },
  {
   "cell_type": "code",
   "execution_count": 8,
   "metadata": {
    "ExecuteTime": {
     "end_time": "2023-06-01T14:38:17.680724300Z",
     "start_time": "2023-06-01T14:38:17.562900300Z"
    }
   },
   "outputs": [],
   "source": [
    "# Importando as bibliotecas\n",
    "import seaborn as sns\n",
    "import matplotlib.pyplot as plt\n",
    "\n",
    "# Bibliotecas para undersampling\n",
    "from imblearn.under_sampling import RandomUnderSampler\n",
    "from imblearn.under_sampling import NearMiss\n",
    "from imblearn.under_sampling import ClusterCentroids"
   ]
  },
  {
   "cell_type": "code",
   "execution_count": 9,
   "outputs": [],
   "source": [
    "# Dividindo os dados de treino e teste\n",
    "X_train_re, X_test_re, y_train_re, y_test_re = train_test_split(X, y, test_size=0.3, random_state=42, shuffle=True)"
   ],
   "metadata": {
    "collapsed": false,
    "ExecuteTime": {
     "end_time": "2023-06-01T14:38:19.756792900Z",
     "start_time": "2023-06-01T14:38:19.725332300Z"
    }
   }
  },
  {
   "cell_type": "markdown",
   "metadata": {},
   "source": [
    "### 3.1 - Visualizando o balanceamento dos dados;"
   ]
  },
  {
   "cell_type": "code",
   "execution_count": 10,
   "metadata": {
    "ExecuteTime": {
     "end_time": "2023-05-29T17:25:30.410071500Z",
     "start_time": "2023-05-29T17:25:29.794722400Z"
    }
   },
   "outputs": [
    {
     "data": {
      "text/plain": "<Figure size 432x288 with 1 Axes>",
      "image/png": "[encoded data removed]"
     },
     "metadata": {
      "needs_background": "light"
     },
     "output_type": "display_data"
    }
   ],
   "source": [
    "# Plotando o gráfico de barras para verificar o balanceamento dos dados\n",
    "sns.countplot(x='Nivel_MHI', data=base)\n",
    "plt.show(\"Balanceamento dos dados\")\n",
    "%matplotlib inline"
   ]
  },
  {
   "cell_type": "markdown",
   "metadata": {},
   "source": [
    "### 3.2 - Undersampling;\n",
    "Neste caso, vamos aproveitar o tamanho da base de dados que temos e vamos reduzir a quantidade de dados da classe majoritária para o mesmo tamanho da classe minoritária.\n",
    "Tecnicas de undersampling:\n",
    "- (1) - RandomUnderSampling\n",
    "- (2) - NearMiss\n",
    "- (3) - ????\n"
   ]
  },
  {
   "cell_type": "markdown",
   "metadata": {},
   "source": [
    "#### (1) - RandomUnderSampling;"
   ]
  },
  {
   "cell_type": "code",
   "execution_count": 12,
   "metadata": {
    "ExecuteTime": {
     "end_time": "2023-06-01T14:39:13.199832900Z",
     "start_time": "2023-06-01T14:38:59.194162100Z"
    }
   },
   "outputs": [
    {
     "name": "stdout",
     "output_type": "stream",
     "text": [
      "---------------------------------------------\n",
      "model_name:  DummyClassifier\n",
      "Average Classification Report:\n",
      "              precision    recall  f1-score   support\n",
      "\n",
      "           0       0.00      0.00      0.00      98.0\n",
      "           1       0.00      0.00      0.00      98.0\n",
      "           2       0.00      0.00      0.00      98.0\n",
      "\n",
      "    accuracy                           0.00     294.0\n",
      "   macro avg       0.00      0.00      0.00     294.0\n",
      "weighted avg       0.00      0.00      0.00     294.0\n",
      "\n",
      "---------------------------------------------\n",
      "model_name:  RandomForestClassifier\n",
      "Average Classification Report:\n",
      "              precision    recall  f1-score   support\n",
      "\n",
      "           0       0.83      0.82      0.82        98\n",
      "           1       0.83      0.83      0.83        98\n",
      "           2       0.65      0.66      0.66        98\n",
      "\n",
      "    accuracy                           0.77       294\n",
      "   macro avg       0.77      0.77      0.77       294\n",
      "weighted avg       0.77      0.77      0.77       294\n",
      "\n",
      "---------------------------------------------\n",
      "model_name:  SVC\n",
      "Average Classification Report:\n",
      "              precision    recall  f1-score   support\n",
      "\n",
      "           0       0.71      0.67      0.69        98\n",
      "           1       0.81      0.79      0.80        98\n",
      "           2       0.50      0.54      0.52        98\n",
      "\n",
      "    accuracy                           0.67       294\n",
      "   macro avg       0.67      0.67      0.67       294\n",
      "weighted avg       0.67      0.67      0.67       294\n",
      "\n",
      "---------------------------------------------\n",
      "model_name:  MLPClassifier\n",
      "Average Classification Report:\n",
      "              precision    recall  f1-score   support\n",
      "\n",
      "           0       0.76      0.76      0.76        98\n",
      "           1       0.78      0.74      0.76        98\n",
      "           2       0.55      0.58      0.57        98\n",
      "\n",
      "    accuracy                           0.69       294\n",
      "   macro avg       0.70      0.69      0.70       294\n",
      "weighted avg       0.70      0.69      0.70       294\n",
      "\n",
      "---------------------------------------------\n",
      "model_name:  XGBClassifier\n",
      "Average Classification Report:\n",
      "              precision    recall  f1-score   support\n",
      "\n",
      "           0       0.84      0.83      0.83        98\n",
      "           1       0.80      0.82      0.81        98\n",
      "           2       0.64      0.63      0.64        98\n",
      "\n",
      "    accuracy                           0.76       294\n",
      "   macro avg       0.76      0.76      0.76       294\n",
      "weighted avg       0.76      0.76      0.76       294\n",
      "\n"
     ]
    },
    {
     "data": {
      "text/plain": "<Figure size 432x288 with 1 Axes>",
      "image/png": "[encoded data removed]"
     },
     "metadata": {
      "needs_background": "light"
     },
     "output_type": "display_data"
    },
    {
     "data": {
      "text/plain": "  Modelo  Acurácia\n0  Dummy  0.000000\n1     RF  0.768707\n2    SVM  0.666667\n3    MLP  0.693878\n4    XGB  0.758503",
      "text/html": "<div>\n<style scoped>\n    .dataframe tbody tr th:only-of-type {\n        vertical-align: middle;\n    }\n\n    .dataframe tbody tr th {\n        vertical-align: top;\n    }\n\n    .dataframe thead th {\n        text-align: right;\n    }\n</style>\n<table border=\"1\" class=\"dataframe\">\n  <thead>\n    <tr style=\"text-align: right;\">\n      <th></th>\n      <th>Modelo</th>\n      <th>Acurácia</th>\n    </tr>\n  </thead>\n  <tbody>\n    <tr>\n      <th>0</th>\n      <td>Dummy</td>\n      <td>0.000000</td>\n    </tr>\n    <tr>\n      <th>1</th>\n      <td>RF</td>\n      <td>0.768707</td>\n    </tr>\n    <tr>\n      <th>2</th>\n      <td>SVM</td>\n      <td>0.666667</td>\n    </tr>\n    <tr>\n      <th>3</th>\n      <td>MLP</td>\n      <td>0.693878</td>\n    </tr>\n    <tr>\n      <th>4</th>\n      <td>XGB</td>\n      <td>0.758503</td>\n    </tr>\n  </tbody>\n</table>\n</div>"
     },
     "execution_count": 12,
     "metadata": {},
     "output_type": "execute_result"
    }
   ],
   "source": [
    "# Criando o objeto para aplicar o RandomUnderSampling\n",
    "rus = RandomUnderSampler(random_state=42, replacement=True, sampling_strategy='auto')\n",
    "\n",
    "# Aplicando o RandomUnderSampling\n",
    "X_rus, y_rus = rus.fit_resample(X_train_re, y_train_re)\n",
    "\n",
    "# Plotando o gráfico de barras para verificar o balanceamento dos dados\n",
    "#sns.countplot(x=y_rus, data=df_socioeconomico)\n",
    "\n",
    "# Aplicando a função de avaliação cruzada com os dados balanceados\n",
    "avalia_dif_modelos_cv(X_rus, y_rus, 10)"
   ]
  },
  {
   "cell_type": "code",
   "execution_count": 12,
   "outputs": [
    {
     "name": "stdout",
     "output_type": "stream",
     "text": [
      "              precision    recall  f1-score   support\n",
      "\n",
      "           0       0.55      0.58      0.57        48\n",
      "           1       0.67      0.92      0.78        51\n",
      "           2       0.83      0.72      0.77       163\n",
      "\n",
      "    accuracy                           0.73       262\n",
      "   macro avg       0.68      0.74      0.70       262\n",
      "weighted avg       0.75      0.73      0.73       262\n",
      "\n"
     ]
    }
   ],
   "source": [
    "rf = RandomForestClassifier(n_jobs=-1, random_state=42)\n",
    "rf.fit(X_rus, y_rus)\n",
    "y_pred = rf.predict(X_test_re)\n",
    "print(classification_report(y_test_re, y_pred, zero_division=0))"
   ],
   "metadata": {
    "collapsed": false,
    "ExecuteTime": {
     "end_time": "2023-05-29T17:26:34.903450700Z",
     "start_time": "2023-05-29T17:26:34.522620100Z"
    }
   }
  },
  {
   "cell_type": "markdown",
   "metadata": {},
   "source": [
    "#### (2) - NearMiss;"
   ]
  },
  {
   "cell_type": "code",
   "execution_count": null,
   "metadata": {},
   "outputs": [],
   "source": [
    "# Criando o objeto para aplicar o NearMiss\n",
    "nm = NearMiss(version=1)\n",
    "\n",
    "# Aplicando o NearMiss\n",
    "X_nm, y_nm = nm.fit_resample(X_train_re, y_train_re)\n",
    "\n",
    "# Plotando o gráfico de barras para verificar o balanceamento dos dados\n",
    "#sns.countplot(x=y_nm, data=df_socioeconomico)\n",
    "\n",
    "# Aplicando a função de avaliação cruzada com os dados balanceados\n",
    "avalia_dif_modelos_cv(X_nm, y_nm, 10)"
   ]
  },
  {
   "cell_type": "markdown",
   "metadata": {},
   "source": [
    "### 3.3 - Oversampling;\n",
    "Neste caso, vamos aproveitar o tamanho da base de dados que temos e vamos aumentar a quantidade de dados da classe minoritária para o mesmo tamanho da classe majoritária.\n",
    "Tecnicas de oversampling:\n",
    "- (1) - Random Over Sampling\n",
    "- (2) - SMOTE-NC\n",
    "- (3) - ROSE\n",
    "- (4) - ADASYN"
   ]
  },
  {
   "cell_type": "code",
   "execution_count": null,
   "metadata": {},
   "outputs": [],
   "source": [
    "# Criando uma função que verifica quais colunas de um dataframe são categoricas e salva os indices em uma lista. Ela faz isso verificando se a coluna conte apenas 1 ou 0.\n",
    "def verifica_categoricas(df):\n",
    "    # Criando uma lista vazia para salvar os indices das colunas categóricas\n",
    "    categorical_features = []\n",
    "\n",
    "    # Loop para verificar as colunas\n",
    "    for col in df.columns:\n",
    "        # Verificando se a coluna conte apenas 1 ou 0, ou True ou False\n",
    "        if df[col].isin([0, 1]).all() or df[col].isin([True, False]).all():\n",
    "            # Salvando o indice da coluna na lista\n",
    "            categorical_features.append(df.columns.get_loc(col))\n",
    "\n",
    "    # Retornando a lista com os indices das colunas categóricas\n",
    "    return categorical_features"
   ]
  },
  {
   "cell_type": "markdown",
   "metadata": {},
   "source": [
    "#### (1) - SMOTE-NC"
   ]
  },
  {
   "cell_type": "code",
   "execution_count": null,
   "metadata": {},
   "outputs": [],
   "source": [
    "# Importando o SMOTE-NC (Synthetic Minority Oversampling Technique for Nominal and Continuous)\n",
    "from imblearn.over_sampling import SMOTENC\n",
    "\n",
    "# Definindo as colunas categóricas, chamando a função criada anteriormente\n",
    "c_features = verifica_categoricas(X)\n",
    "\n",
    "# Criando o modelo SMOTE\n",
    "smote = SMOTENC(c_features, random_state=42)\n",
    "\n",
    "# Aplicando o SMOTE nos dados de treino\n",
    "X_train_smote, y_train_smote = smote.fit_resample(X_train_re, y_train_re)\n",
    "\n",
    "avalia_dif_modelos_cv(X_train_smote, y_train_smote, 10)"
   ]
  },
  {
   "cell_type": "markdown",
   "metadata": {},
   "source": [
    "#### (2) - ROSE\n",
    "Nesse caso vamos usar 'ROSE', mas é importante ressaltar que teremos dados categoricos e numericos, então vamos usar o rose para dados mistos."
   ]
  },
  {
   "cell_type": "code",
   "execution_count": null,
   "metadata": {},
   "outputs": [],
   "source": [
    "# Importando o ROSE para dados mistos\n",
    "from imblearn.over_sampling import RandomOverSampler\n",
    "# Criando o modelo ROSE\n",
    "rose = RandomOverSampler(random_state=43)\n",
    "\n",
    "# Aplicando o ROSE nos dados de treino\n",
    "X_train_rose, y_train_rose = rose.fit_resample(X_train_re, y_train_re)\n",
    "\n",
    "# Aplicando a função de avaliação cruzada com os dados balanceados\n",
    "avalia_dif_modelos_cv(X_train_rose, y_train_rose, 10)\n"
   ]
  },
  {
   "cell_type": "markdown",
   "metadata": {},
   "source": [
    "## Aplicando Tecnicas de Tuning (Feature Selection e Hyperparameter Tuning);\n",
    "- (1) - Feature Selection: SFFS, SFBS\n",
    "- (2) - Hyperparameter Tuning: GridSearchCV, RandomizedSearchCV"
   ]
  },
  {
   "cell_type": "markdown",
   "source": [
    "### TPOT para encontrar o melhor modelo para o problema;"
   ],
   "metadata": {
    "collapsed": false
   }
  },
  {
   "cell_type": "code",
   "execution_count": 13,
   "outputs": [
    {
     "data": {
      "text/plain": "SequentialFeatureSelector(estimator=RandomForestClassifier(n_jobs=-1),\n                          floating=True, k_features=(1, 84), n_jobs=-1,\n                          scoring='accuracy')",
      "text/html": "<style>#sk-container-id-1 {color: black;background-color: white;}#sk-container-id-1 pre{padding: 0;}#sk-container-id-1 div.sk-toggleable {background-color: white;}#sk-container-id-1 label.sk-toggleable__label {cursor: pointer;display: block;width: 100%;margin-bottom: 0;padding: 0.3em;box-sizing: border-box;text-align: center;}#sk-container-id-1 label.sk-toggleable__label-arrow:before {content: \"▸\";float: left;margin-right: 0.25em;color: #696969;}#sk-container-id-1 label.sk-toggleable__label-arrow:hover:before {color: black;}#sk-container-id-1 div.sk-estimator:hover label.sk-toggleable__label-arrow:before {color: black;}#sk-container-id-1 div.sk-toggleable__content {max-height: 0;max-width: 0;overflow: hidden;text-align: left;background-color: #f0f8ff;}#sk-container-id-1 div.sk-toggleable__content pre {margin: 0.2em;color: black;border-radius: 0.25em;background-color: #f0f8ff;}#sk-container-id-1 input.sk-toggleable__control:checked~div.sk-toggleable__content {max-height: 200px;max-width: 100%;overflow: auto;}#sk-container-id-1 input.sk-toggleable__control:checked~label.sk-toggleable__label-arrow:before {content: \"▾\";}#sk-container-id-1 div.sk-estimator input.sk-toggleable__control:checked~label.sk-toggleable__label {background-color: #d4ebff;}#sk-container-id-1 div.sk-label input.sk-toggleable__control:checked~label.sk-toggleable__label {background-color: #d4ebff;}#sk-container-id-1 input.sk-hidden--visually {border: 0;clip: rect(1px 1px 1px 1px);clip: rect(1px, 1px, 1px, 1px);height: 1px;margin: -1px;overflow: hidden;padding: 0;position: absolute;width: 1px;}#sk-container-id-1 div.sk-estimator {font-family: monospace;background-color: #f0f8ff;border: 1px dotted black;border-radius: 0.25em;box-sizing: border-box;margin-bottom: 0.5em;}#sk-container-id-1 div.sk-estimator:hover {background-color: #d4ebff;}#sk-container-id-1 div.sk-parallel-item::after {content: \"\";width: 100%;border-bottom: 1px solid gray;flex-grow: 1;}#sk-container-id-1 div.sk-label:hover label.sk-toggleable__label {background-color: #d4ebff;}#sk-container-id-1 div.sk-serial::before {content: \"\";position: absolute;border-left: 1px solid gray;box-sizing: border-box;top: 0;bottom: 0;left: 50%;z-index: 0;}#sk-container-id-1 div.sk-serial {display: flex;flex-direction: column;align-items: center;background-color: white;padding-right: 0.2em;padding-left: 0.2em;position: relative;}#sk-container-id-1 div.sk-item {position: relative;z-index: 1;}#sk-container-id-1 div.sk-parallel {display: flex;align-items: stretch;justify-content: center;background-color: white;position: relative;}#sk-container-id-1 div.sk-item::before, #sk-container-id-1 div.sk-parallel-item::before {content: \"\";position: absolute;border-left: 1px solid gray;box-sizing: border-box;top: 0;bottom: 0;left: 50%;z-index: -1;}#sk-container-id-1 div.sk-parallel-item {display: flex;flex-direction: column;z-index: 1;position: relative;background-color: white;}#sk-container-id-1 div.sk-parallel-item:first-child::after {align-self: flex-end;width: 50%;}#sk-container-id-1 div.sk-parallel-item:last-child::after {align-self: flex-start;width: 50%;}#sk-container-id-1 div.sk-parallel-item:only-child::after {width: 0;}#sk-container-id-1 div.sk-dashed-wrapped {border: 1px dashed gray;margin: 0 0.4em 0.5em 0.4em;box-sizing: border-box;padding-bottom: 0.4em;background-color: white;}#sk-container-id-1 div.sk-label label {font-family: monospace;font-weight: bold;display: inline-block;line-height: 1.2em;}#sk-container-id-1 div.sk-label-container {text-align: center;}#sk-container-id-1 div.sk-container {/* jupyter's `normalize.less` sets `[hidden] { display: none; }` but bootstrap.min.css set `[hidden] { display: none !important; }` so we also need the `!important` here to be able to override the default hidden behavior on the sphinx rendered scikit-learn.org. See: https://github.com/scikit-learn/scikit-learn/issues/21755 */display: inline-block !important;position: relative;}#sk-container-id-1 div.sk-text-repr-fallback {display: none;}</style><div id=\"sk-container-id-1\" class=\"sk-top-container\"><div class=\"sk-text-repr-fallback\"><pre>SequentialFeatureSelector(estimator=RandomForestClassifier(n_jobs=-1),\n                          floating=True, k_features=(1, 84), n_jobs=-1,\n                          scoring=&#x27;accuracy&#x27;)</pre><b>In a Jupyter environment, please rerun this cell to show the HTML representation or trust the notebook. <br />On GitHub, the HTML representation is unable to render, please try loading this page with nbviewer.org.</b></div><div class=\"sk-container\" hidden><div class=\"sk-item sk-dashed-wrapped\"><div class=\"sk-label-container\"><div class=\"sk-label sk-toggleable\"><input class=\"sk-toggleable__control sk-hidden--visually\" id=\"sk-estimator-id-1\" type=\"checkbox\" ><label for=\"sk-estimator-id-1\" class=\"sk-toggleable__label sk-toggleable__label-arrow\">SequentialFeatureSelector</label><div class=\"sk-toggleable__content\"><pre>SequentialFeatureSelector(estimator=RandomForestClassifier(n_jobs=-1),\n                          floating=True, k_features=(1, 84), n_jobs=-1,\n                          scoring=&#x27;accuracy&#x27;)</pre></div></div></div><div class=\"sk-parallel\"><div class=\"sk-parallel-item\"><div class=\"sk-item\"><div class=\"sk-label-container\"><div class=\"sk-label sk-toggleable\"><input class=\"sk-toggleable__control sk-hidden--visually\" id=\"sk-estimator-id-2\" type=\"checkbox\" ><label for=\"sk-estimator-id-2\" class=\"sk-toggleable__label sk-toggleable__label-arrow\">estimator: RandomForestClassifier</label><div class=\"sk-toggleable__content\"><pre>RandomForestClassifier(n_jobs=-1)</pre></div></div></div><div class=\"sk-serial\"><div class=\"sk-item\"><div class=\"sk-estimator sk-toggleable\"><input class=\"sk-toggleable__control sk-hidden--visually\" id=\"sk-estimator-id-3\" type=\"checkbox\" ><label for=\"sk-estimator-id-3\" class=\"sk-toggleable__label sk-toggleable__label-arrow\">RandomForestClassifier</label><div class=\"sk-toggleable__content\"><pre>RandomForestClassifier(n_jobs=-1)</pre></div></div></div></div></div></div></div></div></div></div>"
     },
     "execution_count": 13,
     "metadata": {},
     "output_type": "execute_result"
    }
   ],
   "source": [
    "# # Importando as bibliotecas necessárias\n",
    "from mlxtend.feature_selection import SequentialFeatureSelector as SFS\n",
    "\n",
    "# Criando o modelo de classificação MLP\n",
    "rf_SFFS = RandomForestClassifier(n_jobs=-1)\n",
    "# Criando o objeto SFS\n",
    "sffs = SFS(rf_SFFS, k_features=\"best\", forward=True, floating=True, scoring='accuracy', cv=5, n_jobs=-1)\n",
    "# Aplicanod SFFS\n",
    "sffs.fit(X_rus, y_rus)"
   ],
   "metadata": {
    "collapsed": false,
    "ExecuteTime": {
     "end_time": "2023-05-29T19:38:17.310326300Z",
     "start_time": "2023-05-29T17:26:34.903450700Z"
    }
   }
  },
  {
   "cell_type": "code",
   "execution_count": 14,
   "outputs": [
    {
     "data": {
      "text/plain": "SequentialFeatureSelector(estimator=RandomForestClassifier(n_jobs=-1),\n                          floating=True, forward=False, k_features=(1, 84),\n                          n_jobs=-1, scoring='accuracy')",
      "text/html": "<style>#sk-container-id-2 {color: black;background-color: white;}#sk-container-id-2 pre{padding: 0;}#sk-container-id-2 div.sk-toggleable {background-color: white;}#sk-container-id-2 label.sk-toggleable__label {cursor: pointer;display: block;width: 100%;margin-bottom: 0;padding: 0.3em;box-sizing: border-box;text-align: center;}#sk-container-id-2 label.sk-toggleable__label-arrow:before {content: \"▸\";float: left;margin-right: 0.25em;color: #696969;}#sk-container-id-2 label.sk-toggleable__label-arrow:hover:before {color: black;}#sk-container-id-2 div.sk-estimator:hover label.sk-toggleable__label-arrow:before {color: black;}#sk-container-id-2 div.sk-toggleable__content {max-height: 0;max-width: 0;overflow: hidden;text-align: left;background-color: #f0f8ff;}#sk-container-id-2 div.sk-toggleable__content pre {margin: 0.2em;color: black;border-radius: 0.25em;background-color: #f0f8ff;}#sk-container-id-2 input.sk-toggleable__control:checked~div.sk-toggleable__content {max-height: 200px;max-width: 100%;overflow: auto;}#sk-container-id-2 input.sk-toggleable__control:checked~label.sk-toggleable__label-arrow:before {content: \"▾\";}#sk-container-id-2 div.sk-estimator input.sk-toggleable__control:checked~label.sk-toggleable__label {background-color: #d4ebff;}#sk-container-id-2 div.sk-label input.sk-toggleable__control:checked~label.sk-toggleable__label {background-color: #d4ebff;}#sk-container-id-2 input.sk-hidden--visually {border: 0;clip: rect(1px 1px 1px 1px);clip: rect(1px, 1px, 1px, 1px);height: 1px;margin: -1px;overflow: hidden;padding: 0;position: absolute;width: 1px;}#sk-container-id-2 div.sk-estimator {font-family: monospace;background-color: #f0f8ff;border: 1px dotted black;border-radius: 0.25em;box-sizing: border-box;margin-bottom: 0.5em;}#sk-container-id-2 div.sk-estimator:hover {background-color: #d4ebff;}#sk-container-id-2 div.sk-parallel-item::after {content: \"\";width: 100%;border-bottom: 1px solid gray;flex-grow: 1;}#sk-container-id-2 div.sk-label:hover label.sk-toggleable__label {background-color: #d4ebff;}#sk-container-id-2 div.sk-serial::before {content: \"\";position: absolute;border-left: 1px solid gray;box-sizing: border-box;top: 0;bottom: 0;left: 50%;z-index: 0;}#sk-container-id-2 div.sk-serial {display: flex;flex-direction: column;align-items: center;background-color: white;padding-right: 0.2em;padding-left: 0.2em;position: relative;}#sk-container-id-2 div.sk-item {position: relative;z-index: 1;}#sk-container-id-2 div.sk-parallel {display: flex;align-items: stretch;justify-content: center;background-color: white;position: relative;}#sk-container-id-2 div.sk-item::before, #sk-container-id-2 div.sk-parallel-item::before {content: \"\";position: absolute;border-left: 1px solid gray;box-sizing: border-box;top: 0;bottom: 0;left: 50%;z-index: -1;}#sk-container-id-2 div.sk-parallel-item {display: flex;flex-direction: column;z-index: 1;position: relative;background-color: white;}#sk-container-id-2 div.sk-parallel-item:first-child::after {align-self: flex-end;width: 50%;}#sk-container-id-2 div.sk-parallel-item:last-child::after {align-self: flex-start;width: 50%;}#sk-container-id-2 div.sk-parallel-item:only-child::after {width: 0;}#sk-container-id-2 div.sk-dashed-wrapped {border: 1px dashed gray;margin: 0 0.4em 0.5em 0.4em;box-sizing: border-box;padding-bottom: 0.4em;background-color: white;}#sk-container-id-2 div.sk-label label {font-family: monospace;font-weight: bold;display: inline-block;line-height: 1.2em;}#sk-container-id-2 div.sk-label-container {text-align: center;}#sk-container-id-2 div.sk-container {/* jupyter's `normalize.less` sets `[hidden] { display: none; }` but bootstrap.min.css set `[hidden] { display: none !important; }` so we also need the `!important` here to be able to override the default hidden behavior on the sphinx rendered scikit-learn.org. See: https://github.com/scikit-learn/scikit-learn/issues/21755 */display: inline-block !important;position: relative;}#sk-container-id-2 div.sk-text-repr-fallback {display: none;}</style><div id=\"sk-container-id-2\" class=\"sk-top-container\"><div class=\"sk-text-repr-fallback\"><pre>SequentialFeatureSelector(estimator=RandomForestClassifier(n_jobs=-1),\n                          floating=True, forward=False, k_features=(1, 84),\n                          n_jobs=-1, scoring=&#x27;accuracy&#x27;)</pre><b>In a Jupyter environment, please rerun this cell to show the HTML representation or trust the notebook. <br />On GitHub, the HTML representation is unable to render, please try loading this page with nbviewer.org.</b></div><div class=\"sk-container\" hidden><div class=\"sk-item sk-dashed-wrapped\"><div class=\"sk-label-container\"><div class=\"sk-label sk-toggleable\"><input class=\"sk-toggleable__control sk-hidden--visually\" id=\"sk-estimator-id-4\" type=\"checkbox\" ><label for=\"sk-estimator-id-4\" class=\"sk-toggleable__label sk-toggleable__label-arrow\">SequentialFeatureSelector</label><div class=\"sk-toggleable__content\"><pre>SequentialFeatureSelector(estimator=RandomForestClassifier(n_jobs=-1),\n                          floating=True, forward=False, k_features=(1, 84),\n                          n_jobs=-1, scoring=&#x27;accuracy&#x27;)</pre></div></div></div><div class=\"sk-parallel\"><div class=\"sk-parallel-item\"><div class=\"sk-item\"><div class=\"sk-label-container\"><div class=\"sk-label sk-toggleable\"><input class=\"sk-toggleable__control sk-hidden--visually\" id=\"sk-estimator-id-5\" type=\"checkbox\" ><label for=\"sk-estimator-id-5\" class=\"sk-toggleable__label sk-toggleable__label-arrow\">estimator: RandomForestClassifier</label><div class=\"sk-toggleable__content\"><pre>RandomForestClassifier(n_jobs=-1)</pre></div></div></div><div class=\"sk-serial\"><div class=\"sk-item\"><div class=\"sk-estimator sk-toggleable\"><input class=\"sk-toggleable__control sk-hidden--visually\" id=\"sk-estimator-id-6\" type=\"checkbox\" ><label for=\"sk-estimator-id-6\" class=\"sk-toggleable__label sk-toggleable__label-arrow\">RandomForestClassifier</label><div class=\"sk-toggleable__content\"><pre>RandomForestClassifier(n_jobs=-1)</pre></div></div></div></div></div></div></div></div></div></div>"
     },
     "execution_count": 14,
     "metadata": {},
     "output_type": "execute_result"
    }
   ],
   "source": [
    "# Criando o modelo de classificação para o SBFS\n",
    "rf_SBFS = RandomForestClassifier(n_jobs=-1)\n",
    "# Criando o objeto SBFS\n",
    "sbfs = SFS(rf_SBFS, k_features=\"best\", forward=False, floating=True, scoring='accuracy', cv=5, n_jobs=-1)\n",
    "# Aplicanod SBFS\n",
    "sbfs.fit(X_rus, y_rus)"
   ],
   "metadata": {
    "collapsed": false,
    "ExecuteTime": {
     "end_time": "2023-05-29T20:32:25.034722400Z",
     "start_time": "2023-05-29T19:38:17.310326300Z"
    }
   }
  },
  {
   "cell_type": "code",
   "execution_count": 15,
   "outputs": [
    {
     "data": {
      "text/plain": "<Figure size 1080x360 with 2 Axes>",
      "image/png": "[encoded data removed]"
     },
     "metadata": {
      "needs_background": "light"
     },
     "output_type": "display_data"
    }
   ],
   "source": [
    "# Plotando o gráfico com os resultados do SFFS vs SBFS para verificar qual deles é melhor considerando que sffs.get_metrics_dict() retorna um dicionário com as métricas de cada iteração no formato numpy.float() e nao tem um atribulo plot()\n",
    "# Marcar o melhor ponto de cada um no gráfico\n",
    "\n",
    "fig, ax = plt.subplots(1, 2, figsize=(15, 5))\n",
    "pd.DataFrame.from_dict(sffs.get_metric_dict()).T[['avg_score']].plot(ax=ax[0], kind='line')\n",
    "pd.DataFrame.from_dict(sbfs.get_metric_dict()).T[['avg_score']].plot(ax=ax[1], kind='line')\n",
    "ax[0].set_title('SFFS')\n",
    "ax[1].set_title('SBFS')\n",
    "plt.show()"
   ],
   "metadata": {
    "collapsed": false,
    "ExecuteTime": {
     "end_time": "2023-05-29T20:32:25.571803700Z",
     "start_time": "2023-05-29T20:32:25.034722400Z"
    }
   }
  },
  {
   "cell_type": "code",
   "execution_count": 16,
   "outputs": [
    {
     "data": {
      "text/plain": "   avg_score\n14  0.884278\n18  0.880947\n17  0.880888\n15   0.88083\n29  0.877557\n30  0.877499\n16  0.877499\n13  0.877499\n19  0.874167\n26  0.874109",
      "text/html": "<div>\n<style scoped>\n    .dataframe tbody tr th:only-of-type {\n        vertical-align: middle;\n    }\n\n    .dataframe tbody tr th {\n        vertical-align: top;\n    }\n\n    .dataframe thead th {\n        text-align: right;\n    }\n</style>\n<table border=\"1\" class=\"dataframe\">\n  <thead>\n    <tr style=\"text-align: right;\">\n      <th></th>\n      <th>avg_score</th>\n    </tr>\n  </thead>\n  <tbody>\n    <tr>\n      <th>14</th>\n      <td>0.884278</td>\n    </tr>\n    <tr>\n      <th>18</th>\n      <td>0.880947</td>\n    </tr>\n    <tr>\n      <th>17</th>\n      <td>0.880888</td>\n    </tr>\n    <tr>\n      <th>15</th>\n      <td>0.88083</td>\n    </tr>\n    <tr>\n      <th>29</th>\n      <td>0.877557</td>\n    </tr>\n    <tr>\n      <th>30</th>\n      <td>0.877499</td>\n    </tr>\n    <tr>\n      <th>16</th>\n      <td>0.877499</td>\n    </tr>\n    <tr>\n      <th>13</th>\n      <td>0.877499</td>\n    </tr>\n    <tr>\n      <th>19</th>\n      <td>0.874167</td>\n    </tr>\n    <tr>\n      <th>26</th>\n      <td>0.874109</td>\n    </tr>\n  </tbody>\n</table>\n</div>"
     },
     "execution_count": 16,
     "metadata": {},
     "output_type": "execute_result"
    }
   ],
   "source": [
    "# Imprimindo o melhor score de cada um como um df mostrando apenas os 10 melhores, colunas \"Number of Features\" e \"avg_score\"\n",
    "pd.DataFrame.from_dict(sffs.get_metric_dict()).T[['avg_score']].sort_values(by='avg_score', ascending=False).head(10)"
   ],
   "metadata": {
    "collapsed": false,
    "ExecuteTime": {
     "end_time": "2023-05-29T20:32:25.608674300Z",
     "start_time": "2023-05-29T20:32:25.577313Z"
    }
   }
  },
  {
   "cell_type": "code",
   "execution_count": 17,
   "outputs": [
    {
     "data": {
      "text/plain": "   avg_score\n23  0.877499\n13   0.87744\n9   0.877382\n26  0.874167\n25   0.87405\n24  0.870777\n37  0.870777\n36   0.87066\n48   0.87066\n49  0.867387",
      "text/html": "<div>\n<style scoped>\n    .dataframe tbody tr th:only-of-type {\n        vertical-align: middle;\n    }\n\n    .dataframe tbody tr th {\n        vertical-align: top;\n    }\n\n    .dataframe thead th {\n        text-align: right;\n    }\n</style>\n<table border=\"1\" class=\"dataframe\">\n  <thead>\n    <tr style=\"text-align: right;\">\n      <th></th>\n      <th>avg_score</th>\n    </tr>\n  </thead>\n  <tbody>\n    <tr>\n      <th>23</th>\n      <td>0.877499</td>\n    </tr>\n    <tr>\n      <th>13</th>\n      <td>0.87744</td>\n    </tr>\n    <tr>\n      <th>9</th>\n      <td>0.877382</td>\n    </tr>\n    <tr>\n      <th>26</th>\n      <td>0.874167</td>\n    </tr>\n    <tr>\n      <th>25</th>\n      <td>0.87405</td>\n    </tr>\n    <tr>\n      <th>24</th>\n      <td>0.870777</td>\n    </tr>\n    <tr>\n      <th>37</th>\n      <td>0.870777</td>\n    </tr>\n    <tr>\n      <th>36</th>\n      <td>0.87066</td>\n    </tr>\n    <tr>\n      <th>48</th>\n      <td>0.87066</td>\n    </tr>\n    <tr>\n      <th>49</th>\n      <td>0.867387</td>\n    </tr>\n  </tbody>\n</table>\n</div>"
     },
     "execution_count": 17,
     "metadata": {},
     "output_type": "execute_result"
    }
   ],
   "source": [
    "# Imprimindo o melhor score de cada um como um df mostrando apenas os 10 melhores\n",
    "pd.DataFrame.from_dict(sbfs.get_metric_dict()).T[['avg_score']].sort_values(by='avg_score', ascending=False).head(10)\n"
   ],
   "metadata": {
    "collapsed": false,
    "ExecuteTime": {
     "end_time": "2023-05-29T20:32:25.641930200Z",
     "start_time": "2023-05-29T20:32:25.608674300Z"
    }
   }
  },
  {
   "cell_type": "code",
   "execution_count": 18,
   "outputs": [
    {
     "name": "stdout",
     "output_type": "stream",
     "text": [
      "SFFS:  Index(['C', 'H', 'M', 'AN', 'AX', 'AZ', 'D_2.0', 'E_2.0', 'E_3.0', 'I_3.0',\n",
      "       'J_4.0', 'BY', 'CF', 'CS'],\n",
      "      dtype='object')\n",
      "SBFS:  Index(['N', 'U', 'AE', 'AN', 'AO', 'AX', 'D_1.0', 'D_2.0', 'D_4.0', 'J_2.0',\n",
      "       'J_3.0', 'BS', 'BT', 'BW', 'BX', 'BY', 'CD', 'CG', 'CI', 'CJ', 'CO',\n",
      "       'CQ', 'CR'],\n",
      "      dtype='object')\n"
     ]
    }
   ],
   "source": [
    "# Imprimindo as features selecionadas por cada um de acordo com o nome original das colunas\n",
    "print('SFFS: ', X_rus.columns[list(sffs.k_feature_idx_)])\n",
    "print('SBFS: ', X_rus.columns[list(sbfs.k_feature_idx_)])\n"
   ],
   "metadata": {
    "collapsed": false,
    "ExecuteTime": {
     "end_time": "2023-05-29T20:32:25.650505200Z",
     "start_time": "2023-05-29T20:32:25.641930200Z"
    }
   }
  },
  {
   "cell_type": "markdown",
   "source": [
    "### GridSearch para encontrar os melhores parametros para cada modelo;"
   ],
   "metadata": {
    "collapsed": false
   }
  },
  {
   "cell_type": "code",
   "execution_count": 20,
   "outputs": [
    {
     "name": "stderr",
     "output_type": "stream",
     "text": [
      "C:\\Users\\lucas\\anaconda3\\envs\\BIC\\Lib\\site-packages\\sklearn\\ensemble\\_forest.py:424: FutureWarning: `max_features='auto'` has been deprecated in 1.1 and will be removed in 1.3. To keep the past behaviour, explicitly set `max_features='sqrt'` or remove this parameter as it is also the default value for RandomForestClassifiers and ExtraTreesClassifiers.\n",
      "  warn(\n"
     ]
    },
    {
     "name": "stdout",
     "output_type": "stream",
     "text": [
      "Melhores parametros:  {'bootstrap': False, 'criterion': 'gini', 'max_depth': 10, 'max_features': 'auto', 'min_samples_leaf': 1, 'min_samples_split': 2, 'n_estimators': 300, 'random_state': 42}\n",
      "Melhor score:  0.8706604324956165\n"
     ]
    }
   ],
   "source": [
    "#SFFS:  Index(['C', 'H', 'M', 'AN', 'AX', 'AZ', 'D_2.0', 'E_2.0', 'E_3.0', 'I_3.0',\n",
    "#              'J_4.0', 'BY', 'CF', 'CS'],\n",
    "#             dtype='object')\n",
    "#SBFS:  Index(['N', 'U', 'AE', 'AN', 'AO', 'AX', 'D_1.0', 'D_2.0', 'D_4.0', 'J_2.0',\n",
    "#              'J_3.0', 'BS', 'BT', 'BW', 'BX', 'BY', 'CD', 'CG', 'CI', 'CJ', 'CO',\n",
    "#              'CQ', 'CR'],\n",
    "#             dtype='object')\n",
    "\n",
    "\n",
    "# Importando o GridSearch\n",
    "from sklearn.model_selection import GridSearchCV\n",
    "if sffs.get_metric_dict()[list(sffs.get_metric_dict().keys())[-1]]['avg_score'] > sbfs.get_metric_dict()[list(sbfs.get_metric_dict().keys())[-1]]['avg_score']:\n",
    "    # Pegando as colunas selecionadas pelo SFFS\n",
    "    X_train_gs = X_rus.iloc[:, list(sffs.k_feature_idx_)]\n",
    "    X_test_re_gs = X_test_re.iloc[:, list(sffs.k_feature_idx_)]\n",
    "else:\n",
    "    X_train_gs = X_rus.iloc[:, list(sbfs.k_feature_idx_)]\n",
    "    X_test_re_gs = X_test_re.iloc[:, list(sbfs.k_feature_idx_)]\n",
    "\n",
    "# Definindo os parametros para o GridSearch do MLP\n",
    "param_rf = {\n",
    "    'n_estimators': [50, 100, 200, 300],\n",
    "    'criterion': ['gini', 'entropy'],\n",
    "    'max_depth': [None, 5, 10, 20],\n",
    "    'min_samples_split': [2, 5, 10, 20],\n",
    "    'min_samples_leaf': [1, 2, 4, 8],\n",
    "    'max_features': ['auto', 'sqrt', 'log2', None],\n",
    "    'bootstrap': [True, False],\n",
    "    'random_state': [42]\n",
    "}\n",
    "# Criando o modelo de classificação\n",
    "rf_gs = RandomForestClassifier(n_jobs=-1)\n",
    "# Criando o objeto GridSearch\n",
    "gs = GridSearchCV(rf_gs, param_rf, scoring='accuracy', cv=5, n_jobs=-1)\n",
    "# Aplicando o GridSearch\n",
    "gs.fit(X_train_gs, y_rus)\n",
    "# Imprimindo os melhores parametros\n",
    "print('Melhores parametros: ', gs.best_params_)\n",
    "# Imprimindo o melhor score\n",
    "print('Melhor score: ', gs.best_score_)\n"
   ],
   "metadata": {
    "collapsed": false,
    "ExecuteTime": {
     "end_time": "2023-05-29T22:23:02.985821800Z",
     "start_time": "2023-05-29T21:09:56.977626200Z"
    }
   }
  },
  {
   "cell_type": "code",
   "execution_count": 37,
   "outputs": [
    {
     "name": "stderr",
     "output_type": "stream",
     "text": [
      "C:\\Users\\lucas\\anaconda3\\envs\\BIC\\Lib\\site-packages\\sklearn\\ensemble\\_forest.py:424: FutureWarning: `max_features='auto'` has been deprecated in 1.1 and will be removed in 1.3. To keep the past behaviour, explicitly set `max_features='sqrt'` or remove this parameter as it is also the default value for RandomForestClassifiers and ExtraTreesClassifiers.\n",
      "  warn(\n",
      "C:\\Users\\lucas\\anaconda3\\envs\\BIC\\Lib\\site-packages\\sklearn\\ensemble\\_forest.py:424: FutureWarning: `max_features='auto'` has been deprecated in 1.1 and will be removed in 1.3. To keep the past behaviour, explicitly set `max_features='sqrt'` or remove this parameter as it is also the default value for RandomForestClassifiers and ExtraTreesClassifiers.\n",
      "  warn(\n",
      "C:\\Users\\lucas\\anaconda3\\envs\\BIC\\Lib\\site-packages\\sklearn\\ensemble\\_forest.py:424: FutureWarning: `max_features='auto'` has been deprecated in 1.1 and will be removed in 1.3. To keep the past behaviour, explicitly set `max_features='sqrt'` or remove this parameter as it is also the default value for RandomForestClassifiers and ExtraTreesClassifiers.\n",
      "  warn(\n",
      "C:\\Users\\lucas\\anaconda3\\envs\\BIC\\Lib\\site-packages\\sklearn\\ensemble\\_forest.py:424: FutureWarning: `max_features='auto'` has been deprecated in 1.1 and will be removed in 1.3. To keep the past behaviour, explicitly set `max_features='sqrt'` or remove this parameter as it is also the default value for RandomForestClassifiers and ExtraTreesClassifiers.\n",
      "  warn(\n",
      "C:\\Users\\lucas\\anaconda3\\envs\\BIC\\Lib\\site-packages\\sklearn\\ensemble\\_forest.py:424: FutureWarning: `max_features='auto'` has been deprecated in 1.1 and will be removed in 1.3. To keep the past behaviour, explicitly set `max_features='sqrt'` or remove this parameter as it is also the default value for RandomForestClassifiers and ExtraTreesClassifiers.\n",
      "  warn(\n",
      "C:\\Users\\lucas\\anaconda3\\envs\\BIC\\Lib\\site-packages\\sklearn\\ensemble\\_forest.py:424: FutureWarning: `max_features='auto'` has been deprecated in 1.1 and will be removed in 1.3. To keep the past behaviour, explicitly set `max_features='sqrt'` or remove this parameter as it is also the default value for RandomForestClassifiers and ExtraTreesClassifiers.\n",
      "  warn(\n",
      "C:\\Users\\lucas\\anaconda3\\envs\\BIC\\Lib\\site-packages\\sklearn\\ensemble\\_forest.py:424: FutureWarning: `max_features='auto'` has been deprecated in 1.1 and will be removed in 1.3. To keep the past behaviour, explicitly set `max_features='sqrt'` or remove this parameter as it is also the default value for RandomForestClassifiers and ExtraTreesClassifiers.\n",
      "  warn(\n",
      "C:\\Users\\lucas\\anaconda3\\envs\\BIC\\Lib\\site-packages\\sklearn\\ensemble\\_forest.py:424: FutureWarning: `max_features='auto'` has been deprecated in 1.1 and will be removed in 1.3. To keep the past behaviour, explicitly set `max_features='sqrt'` or remove this parameter as it is also the default value for RandomForestClassifiers and ExtraTreesClassifiers.\n",
      "  warn(\n",
      "C:\\Users\\lucas\\anaconda3\\envs\\BIC\\Lib\\site-packages\\sklearn\\ensemble\\_forest.py:424: FutureWarning: `max_features='auto'` has been deprecated in 1.1 and will be removed in 1.3. To keep the past behaviour, explicitly set `max_features='sqrt'` or remove this parameter as it is also the default value for RandomForestClassifiers and ExtraTreesClassifiers.\n",
      "  warn(\n",
      "C:\\Users\\lucas\\anaconda3\\envs\\BIC\\Lib\\site-packages\\sklearn\\ensemble\\_forest.py:424: FutureWarning: `max_features='auto'` has been deprecated in 1.1 and will be removed in 1.3. To keep the past behaviour, explicitly set `max_features='sqrt'` or remove this parameter as it is also the default value for RandomForestClassifiers and ExtraTreesClassifiers.\n",
      "  warn(\n"
     ]
    },
    {
     "data": {
      "text/plain": "   Fold     Score\n0     1  0.900000\n1     2  0.900000\n2     3  0.866667\n3     4  0.833333\n4     5  0.827586\n5     6  0.862069\n6     7  0.862069\n7     8  0.931034\n8     9  0.827586\n9    10  0.862069",
      "text/html": "<div>\n<style scoped>\n    .dataframe tbody tr th:only-of-type {\n        vertical-align: middle;\n    }\n\n    .dataframe tbody tr th {\n        vertical-align: top;\n    }\n\n    .dataframe thead th {\n        text-align: right;\n    }\n</style>\n<table border=\"1\" class=\"dataframe\">\n  <thead>\n    <tr style=\"text-align: right;\">\n      <th></th>\n      <th>Fold</th>\n      <th>Score</th>\n    </tr>\n  </thead>\n  <tbody>\n    <tr>\n      <th>0</th>\n      <td>1</td>\n      <td>0.900000</td>\n    </tr>\n    <tr>\n      <th>1</th>\n      <td>2</td>\n      <td>0.900000</td>\n    </tr>\n    <tr>\n      <th>2</th>\n      <td>3</td>\n      <td>0.866667</td>\n    </tr>\n    <tr>\n      <th>3</th>\n      <td>4</td>\n      <td>0.833333</td>\n    </tr>\n    <tr>\n      <th>4</th>\n      <td>5</td>\n      <td>0.827586</td>\n    </tr>\n    <tr>\n      <th>5</th>\n      <td>6</td>\n      <td>0.862069</td>\n    </tr>\n    <tr>\n      <th>6</th>\n      <td>7</td>\n      <td>0.862069</td>\n    </tr>\n    <tr>\n      <th>7</th>\n      <td>8</td>\n      <td>0.931034</td>\n    </tr>\n    <tr>\n      <th>8</th>\n      <td>9</td>\n      <td>0.827586</td>\n    </tr>\n    <tr>\n      <th>9</th>\n      <td>10</td>\n      <td>0.862069</td>\n    </tr>\n  </tbody>\n</table>\n</div>"
     },
     "execution_count": 37,
     "metadata": {},
     "output_type": "execute_result"
    }
   ],
   "source": [
    "from sklearn.model_selection import cross_val_score\n",
    "# Pegando as colunas selecionadas pelo SFFS e a base balanceada, e utilizanod os dados de teste para testar o modelo com um cross validation de 10 folds\n",
    "features_sffs = ['C', 'H', 'M', 'AN', 'AX', 'AZ', 'D_2.0', 'E_2.0', 'E_3.0', 'I_3.0', 'J_4.0', 'BY', 'CF', 'CS']\n",
    "features_sbfs = ['N', 'U', 'AE', 'AN', 'AO', 'AX', 'D_1.0', 'D_2.0', 'D_4.0', 'J_2.0', 'J_3.0', 'BS', 'BT', 'BW', 'BX', 'BY', 'CD', 'CG', 'CI', 'CJ', 'CO', 'CQ', 'CR']\n",
    "X_train_sffs = X_rus.loc[:, features_sffs]\n",
    "# Definindo modelo MLP com os parametros encontrados pelo GridSearch\n",
    "parametors = {'bootstrap': False, 'criterion': 'gini', 'max_depth': 10, 'max_features': 'auto', 'min_samples_leaf': 1, 'min_samples_split': 2, 'n_estimators': 300, 'random_state': 42}\n",
    "mlp_best = RandomForestClassifier(**parametors)\n",
    "# Aplicando o cross validation\n",
    "scores = cross_val_score(mlp_best, X_train_sffs, y_rus, cv=10, scoring='accuracy')\n",
    "# Imprimindo resutlados do cross validation em uma tabela do pandas para melhor visualização, mostrando o indice do fold e somente no final a media e o desvio padrão\n",
    "pd.DataFrame({'Fold': range(1, len(scores) + 1), 'Score': scores})"
   ],
   "metadata": {
    "collapsed": false,
    "ExecuteTime": {
     "end_time": "2023-06-01T15:04:14.496949500Z",
     "start_time": "2023-06-01T15:04:09.774118100Z"
    }
   }
  },
  {
   "cell_type": "code",
   "execution_count": 21,
   "outputs": [
    {
     "name": "stderr",
     "output_type": "stream",
     "text": [
      "C:\\Users\\lucas\\anaconda3\\envs\\BIC\\Lib\\site-packages\\sklearn\\ensemble\\_forest.py:424: FutureWarning: `max_features='auto'` has been deprecated in 1.1 and will be removed in 1.3. To keep the past behaviour, explicitly set `max_features='sqrt'` or remove this parameter as it is also the default value for RandomForestClassifiers and ExtraTreesClassifiers.\n",
      "  warn(\n"
     ]
    },
    {
     "name": "stdout",
     "output_type": "stream",
     "text": [
      "Acurácia do modelo com tuning:  0.6793893129770993\n",
      "Acurácia do modelo sem tuning:  0.6603053435114504\n"
     ]
    },
    {
     "data": {
      "text/plain": "<Figure size 1080x360 with 2 Axes>",
      "image/png": "[encoded data removed]"
     },
     "metadata": {
      "needs_background": "light"
     },
     "output_type": "display_data"
    }
   ],
   "source": [
    "#Melhores parametros:  {'bootstrap': False, 'criterion': 'gini', 'max_depth': 10, 'max_features': 'auto', 'min_samples_leaf': 1, 'min_samples_split': 2, 'n_estimators': 300, 'random_state': 42}\n",
    "#Melhor score:  0.8706604324956165\n",
    "\n",
    "# Criando Grafico comparando os resultados do Modelo Sem Tuning e com Tuning\n",
    "\n",
    "# Pegando os melhores parametros\n",
    "rf_best = gs.best_estimator_\n",
    "\n",
    "rf_best.fit(X_train_gs, y_rus)\n",
    "rf_best.predict(X_test_re_gs)\n",
    "gs_acu = accuracy_score(y_test_re, rf_best.predict(X_test_re_gs))\n",
    "print('Acurácia do modelo com tuning: ', gs_acu)\n",
    "\n",
    "# Testando modelo sem tuning\n",
    "rf = RandomForestClassifier(n_jobs=-1)\n",
    "rf.fit(X_train_gs, y_rus)\n",
    "rf.predict(X_test_re_gs)\n",
    "rf_noTunning = accuracy_score(y_test_re, rf.predict(X_test_re_gs))\n",
    "print('Acurácia do modelo sem tuning: ', rf_noTunning)\n",
    "# Grafico comparando os resultados\n",
    "fig, ax = plt.subplots(1, 2, figsize=(15, 5))\n",
    "# Plotando de barra gs_acu vs rf_noTunning\n",
    "ax[0].bar(['gs_acu', 'rf_noTunning'], [gs_acu, rf_noTunning])\n",
    "ax[0].set_title('Comparação entre o modelo com e sem tuning')\n",
    "# Plotando de linha gs_acu vs rf_noTunning\n",
    "ax[1].plot(['gs_acu', 'rf_noTunning'], [gs_acu, rf_noTunning])\n",
    "ax[1].set_title('Comparação entre o modelo com e sem tuning')\n",
    "plt.show()"
   ],
   "metadata": {
    "collapsed": false,
    "ExecuteTime": {
     "end_time": "2023-05-29T22:23:08.298604300Z",
     "start_time": "2023-05-29T22:23:08.298604300Z"
    }
   }
  },
  {
   "cell_type": "code",
   "execution_count": 22,
   "outputs": [],
   "source": [
    "# Importando o TPOT\n",
    "#from tpot import TPOTClassifier\n",
    "# Criando o modelo TPOT limitando o tempo de execução em 25 minutos e modelos simples\n",
    "#tpot = TPOTClassifier(verbosity=2, max_time_mins=60)\n",
    "# # Treinando o modelo\n",
    "#tpot.fit(X_rus, y_rus)\n",
    "\n",
    "# Imprimindo os 3 melhores modelos\n",
    "#tpot.fitted_pipeline_\n",
    "\n",
    "# Pegando o melhor modelo\n",
    "#tpot.fitted_pipeline_.steps[-1][1]\n",
    "# Fazendo as previsões\n",
    "#y_pred_tpot = tpot.predict(X_test)"
   ],
   "metadata": {
    "collapsed": false,
    "ExecuteTime": {
     "end_time": "2023-05-29T22:23:13.066208700Z",
     "start_time": "2023-05-29T22:23:13.066208700Z"
    }
   }
  },
  {
   "cell_type": "code",
   "execution_count": 23,
   "outputs": [],
   "source": [
    "# # Fazendo as previsões\n",
    "#y_pred_tpot = tpot.predict(X_test)\n",
    "#\n",
    "# # Avaliando o modelo\n",
    "#print(classification_report(y_test, y_pred_tpot))\n",
    "#print(confusion_matrix(y_test, y_pred_tpot))\n"
   ],
   "metadata": {
    "collapsed": false,
    "ExecuteTime": {
     "end_time": "2023-05-29T22:23:13.066208700Z",
     "start_time": "2023-05-29T22:23:13.066208700Z"
    }
   }
  }
 ],
 "metadata": {
  "kernelspec": {
   "display_name": "Python 3 (ipykernel)",
   "language": "python",
   "name": "python3"
  },
  "language_info": {
   "codemirror_mode": {
    "name": "ipython",
    "version": 3
   },
   "file_extension": ".py",
   "mimetype": "text/x-python",
   "name": "python",
   "nbconvert_exporter": "python",
   "pygments_lexer": "ipython3",
   "version": "3.11.3"
  }
 },
 "nbformat": 4,
 "nbformat_minor": 1
}
