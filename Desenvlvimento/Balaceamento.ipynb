{
 "cells": [
  {
   "cell_type": "code",
   "execution_count": 62,
   "outputs": [],
   "source": [
    "# Importando bibliotecas\n",
    "import pandas as pd\n",
    "import numpy as np\n",
    "import matplotlib.pyplot as plt\n",
    "import seaborn as sns\n",
    "from sklearn.metrics import classification_report\n",
    "\n",
    "#Importando modelos de machine learning\n",
    "from sklearn.model_selection import train_test_split\n",
    "from sklearn.ensemble import RandomForestClassifier\n",
    "from sklearn.svm import SVC\n",
    "from sklearn.neural_network import MLPClassifier\n",
    "from xgboost import XGBClassifier"
   ],
   "metadata": {
    "collapsed": false
   }
  },
  {
   "cell_type": "code",
   "execution_count": 61,
   "outputs": [
    {
     "name": "stdout",
     "output_type": "stream",
     "text": [
      "              precision    recall  f1-score   support\n",
      "\n",
      "           0       0.67      0.05      0.09        44\n",
      "           1       0.39      0.18      0.25        39\n",
      "           2       0.70      0.94      0.80       179\n",
      "\n",
      "    accuracy                           0.68       262\n",
      "   macro avg       0.58      0.39      0.38       262\n",
      "weighted avg       0.65      0.68      0.60       262\n",
      "\n"
     ]
    }
   ],
   "source": [
    "# Criando o modelo de Random Forest\n",
    "rfc = RandomForestClassifier(n_jobs=-1)\n",
    "\n",
    "# Balanciando a base de dados com RandomOverSampler\n",
    "# Importando o ROSE para dados mistos\n",
    "from imblearn.over_sampling import RandomOverSampler\n",
    "# Criando o modelo ROSE\n",
    "rose = RandomOverSampler(random_state=43)\n",
    "\n",
    "# Aplicando o ROSE nos dados de treino\n",
    "X_train_rose, y_train_rose = rose.fit_resample(X_train, y_train)\n",
    "\n",
    "# Treinando o modelo\n",
    "rfc.fit(X_train_rose, y_train_rose)\n",
    "\n",
    "# Avaliando o modelo\n",
    "pred_rfc = rfc.predict(X_test)\n",
    "\n",
    "print(classification_report(y_test, pred_rfc))"
   ],
   "metadata": {
    "collapsed": false,
    "ExecuteTime": {
     "start_time": "2023-05-07T17:12:13.239013Z",
     "end_time": "2023-05-07T17:12:13.495082Z"
    }
   }
  },
  {
   "cell_type": "code",
   "execution_count": 71,
   "outputs": [
    {
     "name": "stdout",
     "output_type": "stream",
     "text": [
      "              precision    recall  f1-score   support\n",
      "\n",
      "           0       0.18      0.14      0.15        44\n",
      "           1       0.36      0.26      0.30        39\n",
      "           2       0.69      0.77      0.73       179\n",
      "\n",
      "    accuracy                           0.59       262\n",
      "   macro avg       0.41      0.39      0.39       262\n",
      "weighted avg       0.55      0.59      0.57       262\n",
      "\n"
     ]
    }
   ],
   "source": [
    "xgb = XGBClassifier(n_jobs=-1, random_state=42)\n",
    "\n",
    "xgb.fit(X_train_rose, y_train_rose)\n",
    "\n",
    "pred_xgb = xgb.predict(X_test)\n",
    "\n",
    "print(classification_report(y_test, pred_xgb))"
   ],
   "metadata": {
    "collapsed": false,
    "ExecuteTime": {
     "start_time": "2023-05-07T17:18:42.792699Z",
     "end_time": "2023-05-07T17:18:43.054663Z"
    }
   }
  },
  {
   "cell_type": "code",
   "execution_count": 66,
   "outputs": [
    {
     "name": "stdout",
     "output_type": "stream",
     "text": [
      "              precision    recall  f1-score   support\n",
      "\n",
      "           0       0.29      0.05      0.08        44\n",
      "           1       0.44      0.10      0.17        39\n",
      "           2       0.70      0.96      0.80       179\n",
      "\n",
      "    accuracy                           0.68       262\n",
      "   macro avg       0.48      0.37      0.35       262\n",
      "weighted avg       0.59      0.68      0.59       262\n",
      "\n",
      "              precision    recall  f1-score   support\n",
      "\n",
      "           0       0.12      0.07      0.09        44\n",
      "           1       0.29      0.15      0.20        39\n",
      "           2       0.68      0.82      0.74       179\n",
      "\n",
      "    accuracy                           0.60       262\n",
      "   macro avg       0.36      0.35      0.34       262\n",
      "weighted avg       0.53      0.60      0.55       262\n",
      "\n"
     ]
    }
   ],
   "source": [
    "# Balanciando a base de dados com SMOTE\n",
    "# Importando o SMOTE para dados mistos\n",
    "\n",
    "from imblearn.over_sampling import SMOTE\n",
    "# Criando o modelo SMOTE\n",
    "smote = SMOTE(random_state=42)\n",
    "\n",
    "# Aplicando o SMOTE nos dados de treino\n",
    "X_train_smote, y_train_smote = smote.fit_resample(X_train, y_train)\n",
    "\n",
    "# Treinando o modelo\n",
    "rfc.fit(X_train_smote, y_train_smote)\n",
    "\n",
    "# Avaliando o modelo\n",
    "pred_rfc = rfc.predict(X_test)\n",
    "print(classification_report(y_test, pred_rfc))\n"
   ],
   "metadata": {
    "collapsed": false,
    "ExecuteTime": {
     "start_time": "2023-05-07T17:16:31.390569Z",
     "end_time": "2023-05-07T17:16:31.895371Z"
    }
   }
  }
 ],
 "metadata": {
  "kernelspec": {
   "display_name": "Python 3",
   "language": "python",
   "name": "python3"
  },
  "language_info": {
   "codemirror_mode": {
    "name": "ipython",
    "version": 2
   },
   "file_extension": ".py",
   "mimetype": "text/x-python",
   "name": "python",
   "nbconvert_exporter": "python",
   "pygments_lexer": "ipython2",
   "version": "2.7.6"
  }
 },
 "nbformat": 4,
 "nbformat_minor": 0
}
