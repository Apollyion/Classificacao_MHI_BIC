{
 "cells": [
  {
   "cell_type": "code",
   "execution_count": 2,
   "metadata": {},
   "outputs": [
    {
     "name": "stdout",
     "output_type": "stream",
     "text": [
      "Requirement already satisfied: autokeras in /home/apo-pc/anaconda3/envs/bic/lib/python3.11/site-packages (1.1.0)\n",
      "Requirement already satisfied: packaging in /home/apo-pc/anaconda3/envs/bic/lib/python3.11/site-packages (from autokeras) (21.3)\n",
      "Requirement already satisfied: tensorflow>=2.8.0 in /home/apo-pc/anaconda3/envs/bic/lib/python3.11/site-packages (from autokeras) (2.14.0)\n",
      "Requirement already satisfied: keras-tuner>=1.1.0 in /home/apo-pc/anaconda3/envs/bic/lib/python3.11/site-packages (from autokeras) (1.4.5)\n",
      "Requirement already satisfied: keras-nlp>=0.4.0 in /home/apo-pc/anaconda3/envs/bic/lib/python3.11/site-packages (from autokeras) (0.6.2)\n",
      "Requirement already satisfied: pandas in /home/apo-pc/anaconda3/envs/bic/lib/python3.11/site-packages (from autokeras) (1.5.3)\n",
      "Requirement already satisfied: keras-core in /home/apo-pc/anaconda3/envs/bic/lib/python3.11/site-packages (from keras-nlp>=0.4.0->autokeras) (0.1.7)\n",
      "Requirement already satisfied: absl-py in /home/apo-pc/anaconda3/envs/bic/lib/python3.11/site-packages (from keras-nlp>=0.4.0->autokeras) (2.0.0)\n",
      "Requirement already satisfied: numpy in /home/apo-pc/anaconda3/envs/bic/lib/python3.11/site-packages (from keras-nlp>=0.4.0->autokeras) (1.23.5)\n",
      "Requirement already satisfied: regex in /home/apo-pc/anaconda3/envs/bic/lib/python3.11/site-packages (from keras-nlp>=0.4.0->autokeras) (2023.10.3)\n",
      "Requirement already satisfied: rich in /home/apo-pc/anaconda3/envs/bic/lib/python3.11/site-packages (from keras-nlp>=0.4.0->autokeras) (13.6.0)\n",
      "Requirement already satisfied: dm-tree in /home/apo-pc/anaconda3/envs/bic/lib/python3.11/site-packages (from keras-nlp>=0.4.0->autokeras) (0.1.8)\n",
      "Requirement already satisfied: tensorflow-text in /home/apo-pc/anaconda3/envs/bic/lib/python3.11/site-packages (from keras-nlp>=0.4.0->autokeras) (2.14.0)\n",
      "Requirement already satisfied: requests in /home/apo-pc/anaconda3/envs/bic/lib/python3.11/site-packages (from keras-tuner>=1.1.0->autokeras) (2.27.1)\n",
      "Requirement already satisfied: kt-legacy in /home/apo-pc/anaconda3/envs/bic/lib/python3.11/site-packages (from keras-tuner>=1.1.0->autokeras) (1.0.5)\n",
      "Requirement already satisfied: astunparse>=1.6.0 in /home/apo-pc/anaconda3/envs/bic/lib/python3.11/site-packages (from tensorflow>=2.8.0->autokeras) (1.6.3)\n",
      "Requirement already satisfied: flatbuffers>=23.5.26 in /home/apo-pc/anaconda3/envs/bic/lib/python3.11/site-packages (from tensorflow>=2.8.0->autokeras) (23.5.26)\n",
      "Requirement already satisfied: gast!=0.5.0,!=0.5.1,!=0.5.2,>=0.2.1 in /home/apo-pc/anaconda3/envs/bic/lib/python3.11/site-packages (from tensorflow>=2.8.0->autokeras) (0.5.4)\n",
      "Requirement already satisfied: google-pasta>=0.1.1 in /home/apo-pc/anaconda3/envs/bic/lib/python3.11/site-packages (from tensorflow>=2.8.0->autokeras) (0.2.0)\n",
      "Requirement already satisfied: h5py>=2.9.0 in /home/apo-pc/anaconda3/envs/bic/lib/python3.11/site-packages (from tensorflow>=2.8.0->autokeras) (3.10.0)\n",
      "Requirement already satisfied: libclang>=13.0.0 in /home/apo-pc/anaconda3/envs/bic/lib/python3.11/site-packages (from tensorflow>=2.8.0->autokeras) (16.0.6)\n",
      "Requirement already satisfied: ml-dtypes==0.2.0 in /home/apo-pc/anaconda3/envs/bic/lib/python3.11/site-packages (from tensorflow>=2.8.0->autokeras) (0.2.0)\n",
      "Requirement already satisfied: opt-einsum>=2.3.2 in /home/apo-pc/anaconda3/envs/bic/lib/python3.11/site-packages (from tensorflow>=2.8.0->autokeras) (3.3.0)\n",
      "Requirement already satisfied: protobuf!=4.21.0,!=4.21.1,!=4.21.2,!=4.21.3,!=4.21.4,!=4.21.5,<5.0.0dev,>=3.20.3 in /home/apo-pc/anaconda3/envs/bic/lib/python3.11/site-packages (from tensorflow>=2.8.0->autokeras) (4.24.4)\n",
      "Requirement already satisfied: setuptools in /home/apo-pc/anaconda3/envs/bic/lib/python3.11/site-packages (from tensorflow>=2.8.0->autokeras) (65.6.3)\n",
      "Requirement already satisfied: six>=1.12.0 in /home/apo-pc/anaconda3/envs/bic/lib/python3.11/site-packages (from tensorflow>=2.8.0->autokeras) (1.16.0)\n",
      "Requirement already satisfied: termcolor>=1.1.0 in /home/apo-pc/anaconda3/envs/bic/lib/python3.11/site-packages (from tensorflow>=2.8.0->autokeras) (2.3.0)\n",
      "Requirement already satisfied: typing-extensions>=3.6.6 in /home/apo-pc/anaconda3/envs/bic/lib/python3.11/site-packages (from tensorflow>=2.8.0->autokeras) (4.1.1)\n",
      "Requirement already satisfied: wrapt<1.15,>=1.11.0 in /home/apo-pc/anaconda3/envs/bic/lib/python3.11/site-packages (from tensorflow>=2.8.0->autokeras) (1.14.1)\n",
      "Requirement already satisfied: tensorflow-io-gcs-filesystem>=0.23.1 in /home/apo-pc/anaconda3/envs/bic/lib/python3.11/site-packages (from tensorflow>=2.8.0->autokeras) (0.34.0)\n",
      "Requirement already satisfied: grpcio<2.0,>=1.24.3 in /home/apo-pc/anaconda3/envs/bic/lib/python3.11/site-packages (from tensorflow>=2.8.0->autokeras) (1.59.0)\n",
      "Requirement already satisfied: tensorboard<2.15,>=2.14 in /home/apo-pc/anaconda3/envs/bic/lib/python3.11/site-packages (from tensorflow>=2.8.0->autokeras) (2.14.1)\n",
      "Requirement already satisfied: tensorflow-estimator<2.15,>=2.14.0 in /home/apo-pc/anaconda3/envs/bic/lib/python3.11/site-packages (from tensorflow>=2.8.0->autokeras) (2.14.0)\n",
      "Requirement already satisfied: keras<2.15,>=2.14.0 in /home/apo-pc/anaconda3/envs/bic/lib/python3.11/site-packages (from tensorflow>=2.8.0->autokeras) (2.14.0)\n",
      "Requirement already satisfied: pyparsing!=3.0.5,>=2.0.2 in /home/apo-pc/anaconda3/envs/bic/lib/python3.11/site-packages (from packaging->autokeras) (3.0.9)\n",
      "Requirement already satisfied: python-dateutil>=2.8.1 in /home/apo-pc/anaconda3/envs/bic/lib/python3.11/site-packages (from pandas->autokeras) (2.8.2)\n",
      "Requirement already satisfied: pytz>=2020.1 in /home/apo-pc/anaconda3/envs/bic/lib/python3.11/site-packages (from pandas->autokeras) (2021.3)\n",
      "Requirement already satisfied: wheel<1.0,>=0.23.0 in /home/apo-pc/anaconda3/envs/bic/lib/python3.11/site-packages (from astunparse>=1.6.0->tensorflow>=2.8.0->autokeras) (0.38.4)\n",
      "Requirement already satisfied: google-auth<3,>=1.6.3 in /home/apo-pc/anaconda3/envs/bic/lib/python3.11/site-packages (from tensorboard<2.15,>=2.14->tensorflow>=2.8.0->autokeras) (2.23.3)\n",
      "Requirement already satisfied: google-auth-oauthlib<1.1,>=0.5 in /home/apo-pc/anaconda3/envs/bic/lib/python3.11/site-packages (from tensorboard<2.15,>=2.14->tensorflow>=2.8.0->autokeras) (1.0.0)\n",
      "Requirement already satisfied: markdown>=2.6.8 in /home/apo-pc/anaconda3/envs/bic/lib/python3.11/site-packages (from tensorboard<2.15,>=2.14->tensorflow>=2.8.0->autokeras) (3.5)\n",
      "Requirement already satisfied: tensorboard-data-server<0.8.0,>=0.7.0 in /home/apo-pc/anaconda3/envs/bic/lib/python3.11/site-packages (from tensorboard<2.15,>=2.14->tensorflow>=2.8.0->autokeras) (0.7.1)\n",
      "Requirement already satisfied: werkzeug>=1.0.1 in /home/apo-pc/anaconda3/envs/bic/lib/python3.11/site-packages (from tensorboard<2.15,>=2.14->tensorflow>=2.8.0->autokeras) (3.0.0)\n",
      "Requirement already satisfied: urllib3<1.27,>=1.21.1 in /home/apo-pc/anaconda3/envs/bic/lib/python3.11/site-packages (from requests->keras-tuner>=1.1.0->autokeras) (1.26.16)\n",
      "Requirement already satisfied: certifi>=2017.4.17 in /home/apo-pc/anaconda3/envs/bic/lib/python3.11/site-packages (from requests->keras-tuner>=1.1.0->autokeras) (2023.7.22)\n",
      "Requirement already satisfied: charset-normalizer~=2.0.0 in /home/apo-pc/anaconda3/envs/bic/lib/python3.11/site-packages (from requests->keras-tuner>=1.1.0->autokeras) (2.0.4)\n",
      "Requirement already satisfied: idna<4,>=2.5 in /home/apo-pc/anaconda3/envs/bic/lib/python3.11/site-packages (from requests->keras-tuner>=1.1.0->autokeras) (3.4)\n",
      "Requirement already satisfied: namex in /home/apo-pc/anaconda3/envs/bic/lib/python3.11/site-packages (from keras-core->keras-nlp>=0.4.0->autokeras) (0.0.7)\n",
      "Requirement already satisfied: markdown-it-py>=2.2.0 in /home/apo-pc/anaconda3/envs/bic/lib/python3.11/site-packages (from rich->keras-nlp>=0.4.0->autokeras) (3.0.0)\n",
      "Requirement already satisfied: pygments<3.0.0,>=2.13.0 in /home/apo-pc/anaconda3/envs/bic/lib/python3.11/site-packages (from rich->keras-nlp>=0.4.0->autokeras) (2.16.1)\n",
      "Requirement already satisfied: tensorflow-hub>=0.13.0 in /home/apo-pc/anaconda3/envs/bic/lib/python3.11/site-packages (from tensorflow-text->keras-nlp>=0.4.0->autokeras) (0.15.0)\n",
      "Requirement already satisfied: cachetools<6.0,>=2.0.0 in /home/apo-pc/anaconda3/envs/bic/lib/python3.11/site-packages (from google-auth<3,>=1.6.3->tensorboard<2.15,>=2.14->tensorflow>=2.8.0->autokeras) (5.3.1)\n",
      "Requirement already satisfied: pyasn1-modules>=0.2.1 in /home/apo-pc/anaconda3/envs/bic/lib/python3.11/site-packages (from google-auth<3,>=1.6.3->tensorboard<2.15,>=2.14->tensorflow>=2.8.0->autokeras) (0.3.0)\n",
      "Requirement already satisfied: rsa<5,>=3.1.4 in /home/apo-pc/anaconda3/envs/bic/lib/python3.11/site-packages (from google-auth<3,>=1.6.3->tensorboard<2.15,>=2.14->tensorflow>=2.8.0->autokeras) (4.9)\n",
      "Requirement already satisfied: requests-oauthlib>=0.7.0 in /home/apo-pc/anaconda3/envs/bic/lib/python3.11/site-packages (from google-auth-oauthlib<1.1,>=0.5->tensorboard<2.15,>=2.14->tensorflow>=2.8.0->autokeras) (1.3.1)\n",
      "Requirement already satisfied: mdurl~=0.1 in /home/apo-pc/anaconda3/envs/bic/lib/python3.11/site-packages (from markdown-it-py>=2.2.0->rich->keras-nlp>=0.4.0->autokeras) (0.1.2)\n",
      "Requirement already satisfied: MarkupSafe>=2.1.1 in /home/apo-pc/anaconda3/envs/bic/lib/python3.11/site-packages (from werkzeug>=1.0.1->tensorboard<2.15,>=2.14->tensorflow>=2.8.0->autokeras) (2.1.1)\n",
      "Requirement already satisfied: pyasn1<0.6.0,>=0.4.6 in /home/apo-pc/anaconda3/envs/bic/lib/python3.11/site-packages (from pyasn1-modules>=0.2.1->google-auth<3,>=1.6.3->tensorboard<2.15,>=2.14->tensorflow>=2.8.0->autokeras) (0.5.0)\n",
      "Requirement already satisfied: oauthlib>=3.0.0 in /home/apo-pc/anaconda3/envs/bic/lib/python3.11/site-packages (from requests-oauthlib>=0.7.0->google-auth-oauthlib<1.1,>=0.5->tensorboard<2.15,>=2.14->tensorflow>=2.8.0->autokeras) (3.2.2)\n"
     ]
    }
   ],
   "source": [
    "!pip install autokeras"
   ]
  },
  {
   "cell_type": "code",
   "execution_count": 3,
   "metadata": {},
   "outputs": [
    {
     "name": "stdout",
     "output_type": "stream",
     "text": [
      "Trial 100 Complete [00h 00m 20s]\n",
      "val_accuracy: 0.7485714554786682\n",
      "\n",
      "Best val_accuracy So Far: 0.7885714173316956\n",
      "Total elapsed time: 00h 57m 59s\n",
      "INFO:tensorflow:Assets written to: ./structured_data_classifier/best_model/assets\n"
     ]
    },
    {
     "name": "stderr",
     "output_type": "stream",
     "text": [
      "INFO:tensorflow:Assets written to: ./structured_data_classifier/best_model/assets\n"
     ]
    },
    {
     "name": "stdout",
     "output_type": "stream",
     "text": [
      "WARNING:tensorflow:Detecting that an object or model or tf.train.Checkpoint is being deleted with unrestored values. See the following logs for the specific values in question. To silence these warnings, use `status.expect_partial()`. See https://www.tensorflow.org/api_docs/python/tf/train/Checkpoint#restorefor details about the status object returned by the restore function.\n"
     ]
    },
    {
     "name": "stderr",
     "output_type": "stream",
     "text": [
      "WARNING:tensorflow:Detecting that an object or model or tf.train.Checkpoint is being deleted with unrestored values. See the following logs for the specific values in question. To silence these warnings, use `status.expect_partial()`. See https://www.tensorflow.org/api_docs/python/tf/train/Checkpoint#restorefor details about the status object returned by the restore function.\n"
     ]
    },
    {
     "name": "stdout",
     "output_type": "stream",
     "text": [
      "WARNING:tensorflow:Value in checkpoint could not be found in the restored object: (root).optimizer._variables.1\n"
     ]
    },
    {
     "name": "stderr",
     "output_type": "stream",
     "text": [
      "WARNING:tensorflow:Value in checkpoint could not be found in the restored object: (root).optimizer._variables.1\n"
     ]
    },
    {
     "name": "stdout",
     "output_type": "stream",
     "text": [
      "WARNING:tensorflow:Value in checkpoint could not be found in the restored object: (root).optimizer._variables.2\n"
     ]
    },
    {
     "name": "stderr",
     "output_type": "stream",
     "text": [
      "WARNING:tensorflow:Value in checkpoint could not be found in the restored object: (root).optimizer._variables.2\n"
     ]
    },
    {
     "name": "stdout",
     "output_type": "stream",
     "text": [
      "WARNING:tensorflow:Value in checkpoint could not be found in the restored object: (root).optimizer._variables.3\n"
     ]
    },
    {
     "name": "stderr",
     "output_type": "stream",
     "text": [
      "WARNING:tensorflow:Value in checkpoint could not be found in the restored object: (root).optimizer._variables.3\n"
     ]
    },
    {
     "name": "stdout",
     "output_type": "stream",
     "text": [
      "WARNING:tensorflow:Value in checkpoint could not be found in the restored object: (root).optimizer._variables.4\n"
     ]
    },
    {
     "name": "stderr",
     "output_type": "stream",
     "text": [
      "WARNING:tensorflow:Value in checkpoint could not be found in the restored object: (root).optimizer._variables.4\n"
     ]
    },
    {
     "name": "stdout",
     "output_type": "stream",
     "text": [
      "WARNING:tensorflow:Value in checkpoint could not be found in the restored object: (root).optimizer._variables.5\n"
     ]
    },
    {
     "name": "stderr",
     "output_type": "stream",
     "text": [
      "WARNING:tensorflow:Value in checkpoint could not be found in the restored object: (root).optimizer._variables.5\n"
     ]
    },
    {
     "name": "stdout",
     "output_type": "stream",
     "text": [
      "WARNING:tensorflow:Value in checkpoint could not be found in the restored object: (root).optimizer._variables.6\n"
     ]
    },
    {
     "name": "stderr",
     "output_type": "stream",
     "text": [
      "WARNING:tensorflow:Value in checkpoint could not be found in the restored object: (root).optimizer._variables.6\n"
     ]
    },
    {
     "name": "stdout",
     "output_type": "stream",
     "text": [
      "WARNING:tensorflow:Value in checkpoint could not be found in the restored object: (root).optimizer._variables.7\n"
     ]
    },
    {
     "name": "stderr",
     "output_type": "stream",
     "text": [
      "WARNING:tensorflow:Value in checkpoint could not be found in the restored object: (root).optimizer._variables.7\n"
     ]
    },
    {
     "name": "stdout",
     "output_type": "stream",
     "text": [
      "WARNING:tensorflow:Value in checkpoint could not be found in the restored object: (root).optimizer._variables.8\n"
     ]
    },
    {
     "name": "stderr",
     "output_type": "stream",
     "text": [
      "WARNING:tensorflow:Value in checkpoint could not be found in the restored object: (root).optimizer._variables.8\n"
     ]
    },
    {
     "name": "stdout",
     "output_type": "stream",
     "text": [
      "WARNING:tensorflow:Value in checkpoint could not be found in the restored object: (root).optimizer._variables.9\n"
     ]
    },
    {
     "name": "stderr",
     "output_type": "stream",
     "text": [
      "WARNING:tensorflow:Value in checkpoint could not be found in the restored object: (root).optimizer._variables.9\n"
     ]
    },
    {
     "name": "stdout",
     "output_type": "stream",
     "text": [
      "WARNING:tensorflow:Value in checkpoint could not be found in the restored object: (root).optimizer._variables.10\n"
     ]
    },
    {
     "name": "stderr",
     "output_type": "stream",
     "text": [
      "WARNING:tensorflow:Value in checkpoint could not be found in the restored object: (root).optimizer._variables.10\n"
     ]
    },
    {
     "name": "stdout",
     "output_type": "stream",
     "text": [
      "WARNING:tensorflow:Value in checkpoint could not be found in the restored object: (root).optimizer._variables.11\n"
     ]
    },
    {
     "name": "stderr",
     "output_type": "stream",
     "text": [
      "WARNING:tensorflow:Value in checkpoint could not be found in the restored object: (root).optimizer._variables.11\n"
     ]
    },
    {
     "name": "stdout",
     "output_type": "stream",
     "text": [
      "WARNING:tensorflow:Value in checkpoint could not be found in the restored object: (root).optimizer._variables.12\n"
     ]
    },
    {
     "name": "stderr",
     "output_type": "stream",
     "text": [
      "WARNING:tensorflow:Value in checkpoint could not be found in the restored object: (root).optimizer._variables.12\n",
      "2023-10-19 19:55:19.168060: W tensorflow/core/framework/op_kernel.cc:1839] OP_REQUIRES failed at lookup_table_op.cc:929 : FAILED_PRECONDITION: Table not initialized.\n",
      "2023-10-19 19:55:19.168103: W tensorflow/core/framework/op_kernel.cc:1839] OP_REQUIRES failed at lookup_table_op.cc:929 : FAILED_PRECONDITION: Table not initialized.\n",
      "2023-10-19 19:55:19.168136: W tensorflow/core/framework/op_kernel.cc:1839] OP_REQUIRES failed at lookup_table_op.cc:929 : FAILED_PRECONDITION: Table not initialized.\n",
      "2023-10-19 19:55:19.168158: W tensorflow/core/framework/op_kernel.cc:1839] OP_REQUIRES failed at lookup_table_op.cc:929 : FAILED_PRECONDITION: Table not initialized.\n",
      "2023-10-19 19:55:19.168174: W tensorflow/core/framework/op_kernel.cc:1839] OP_REQUIRES failed at lookup_table_op.cc:929 : FAILED_PRECONDITION: Table not initialized.\n",
      "2023-10-19 19:55:19.168188: W tensorflow/core/framework/op_kernel.cc:1839] OP_REQUIRES failed at lookup_table_op.cc:929 : FAILED_PRECONDITION: Table not initialized.\n",
      "2023-10-19 19:55:19.168211: W tensorflow/core/framework/op_kernel.cc:1839] OP_REQUIRES failed at lookup_table_op.cc:929 : FAILED_PRECONDITION: Table not initialized.\n",
      "2023-10-19 19:55:19.168238: W tensorflow/core/framework/op_kernel.cc:1839] OP_REQUIRES failed at lookup_table_op.cc:929 : FAILED_PRECONDITION: Table not initialized.\n",
      "2023-10-19 19:55:19.168253: W tensorflow/core/framework/op_kernel.cc:1839] OP_REQUIRES failed at lookup_table_op.cc:929 : FAILED_PRECONDITION: Table not initialized.\n",
      "2023-10-19 19:55:19.168260: W tensorflow/core/framework/op_kernel.cc:1839] OP_REQUIRES failed at lookup_table_op.cc:929 : FAILED_PRECONDITION: Table not initialized.\n",
      "2023-10-19 19:55:19.168274: W tensorflow/core/framework/op_kernel.cc:1839] OP_REQUIRES failed at lookup_table_op.cc:929 : FAILED_PRECONDITION: Table not initialized.\n",
      "2023-10-19 19:55:19.168285: W tensorflow/core/framework/op_kernel.cc:1839] OP_REQUIRES failed at lookup_table_op.cc:929 : FAILED_PRECONDITION: Table not initialized.\n",
      "2023-10-19 19:55:19.168294: W tensorflow/core/framework/op_kernel.cc:1839] OP_REQUIRES failed at lookup_table_op.cc:929 : FAILED_PRECONDITION: Table not initialized.\n",
      "2023-10-19 19:55:19.168334: W tensorflow/core/framework/op_kernel.cc:1839] OP_REQUIRES failed at lookup_table_op.cc:929 : FAILED_PRECONDITION: Table not initialized.\n",
      "2023-10-19 19:55:19.168357: W tensorflow/core/framework/op_kernel.cc:1839] OP_REQUIRES failed at lookup_table_op.cc:929 : FAILED_PRECONDITION: Table not initialized.\n",
      "2023-10-19 19:55:19.168387: W tensorflow/core/framework/op_kernel.cc:1839] OP_REQUIRES failed at lookup_table_op.cc:929 : FAILED_PRECONDITION: Table not initialized.\n",
      "2023-10-19 19:55:19.168400: W tensorflow/core/framework/op_kernel.cc:1839] OP_REQUIRES failed at lookup_table_op.cc:929 : FAILED_PRECONDITION: Table not initialized.\n",
      "2023-10-19 19:55:19.168418: W tensorflow/core/framework/op_kernel.cc:1839] OP_REQUIRES failed at lookup_table_op.cc:929 : FAILED_PRECONDITION: Table not initialized.\n",
      "2023-10-19 19:55:19.168432: W tensorflow/core/framework/op_kernel.cc:1839] OP_REQUIRES failed at lookup_table_op.cc:929 : FAILED_PRECONDITION: Table not initialized.\n",
      "2023-10-19 19:55:19.168452: W tensorflow/core/framework/op_kernel.cc:1839] OP_REQUIRES failed at lookup_table_op.cc:929 : FAILED_PRECONDITION: Table not initialized.\n",
      "2023-10-19 19:55:19.168464: W tensorflow/core/framework/op_kernel.cc:1839] OP_REQUIRES failed at lookup_table_op.cc:929 : FAILED_PRECONDITION: Table not initialized.\n",
      "2023-10-19 19:55:19.168485: W tensorflow/core/framework/op_kernel.cc:1839] OP_REQUIRES failed at lookup_table_op.cc:929 : FAILED_PRECONDITION: Table not initialized.\n",
      "2023-10-19 19:55:19.168499: W tensorflow/core/framework/op_kernel.cc:1839] OP_REQUIRES failed at lookup_table_op.cc:929 : FAILED_PRECONDITION: Table not initialized.\n",
      "2023-10-19 19:55:19.168514: W tensorflow/core/framework/op_kernel.cc:1839] OP_REQUIRES failed at lookup_table_op.cc:929 : FAILED_PRECONDITION: Table not initialized.\n",
      "2023-10-19 19:55:19.168538: W tensorflow/core/framework/op_kernel.cc:1839] OP_REQUIRES failed at lookup_table_op.cc:929 : FAILED_PRECONDITION: Table not initialized.\n",
      "2023-10-19 19:55:19.168555: W tensorflow/core/framework/op_kernel.cc:1839] OP_REQUIRES failed at lookup_table_op.cc:929 : FAILED_PRECONDITION: Table not initialized.\n",
      "2023-10-19 19:55:19.168572: W tensorflow/core/framework/op_kernel.cc:1839] OP_REQUIRES failed at lookup_table_op.cc:929 : FAILED_PRECONDITION: Table not initialized.\n",
      "2023-10-19 19:55:19.168587: W tensorflow/core/framework/op_kernel.cc:1839] OP_REQUIRES failed at lookup_table_op.cc:929 : FAILED_PRECONDITION: Table not initialized.\n",
      "2023-10-19 19:55:19.168630: W tensorflow/core/framework/op_kernel.cc:1839] OP_REQUIRES failed at lookup_table_op.cc:929 : FAILED_PRECONDITION: Table not initialized.\n",
      "2023-10-19 19:55:19.168662: W tensorflow/core/framework/op_kernel.cc:1839] OP_REQUIRES failed at lookup_table_op.cc:929 : FAILED_PRECONDITION: Table not initialized.\n",
      "2023-10-19 19:55:19.168680: W tensorflow/core/framework/op_kernel.cc:1839] OP_REQUIRES failed at lookup_table_op.cc:929 : FAILED_PRECONDITION: Table not initialized.\n",
      "2023-10-19 19:55:19.168697: W tensorflow/core/framework/op_kernel.cc:1839] OP_REQUIRES failed at lookup_table_op.cc:929 : FAILED_PRECONDITION: Table not initialized.\n",
      "2023-10-19 19:55:19.168737: W tensorflow/core/framework/op_kernel.cc:1839] OP_REQUIRES failed at lookup_table_op.cc:929 : FAILED_PRECONDITION: Table not initialized.\n",
      "2023-10-19 19:55:19.168755: W tensorflow/core/framework/op_kernel.cc:1839] OP_REQUIRES failed at lookup_table_op.cc:929 : FAILED_PRECONDITION: Table not initialized.\n",
      "2023-10-19 19:55:19.168774: W tensorflow/core/framework/op_kernel.cc:1839] OP_REQUIRES failed at lookup_table_op.cc:929 : FAILED_PRECONDITION: Table not initialized.\n",
      "2023-10-19 19:55:19.168798: W tensorflow/core/framework/op_kernel.cc:1839] OP_REQUIRES failed at lookup_table_op.cc:929 : FAILED_PRECONDITION: Table not initialized.\n",
      "2023-10-19 19:55:19.168821: W tensorflow/core/framework/op_kernel.cc:1839] OP_REQUIRES failed at lookup_table_op.cc:929 : FAILED_PRECONDITION: Table not initialized.\n",
      "2023-10-19 19:55:19.168838: W tensorflow/core/framework/op_kernel.cc:1839] OP_REQUIRES failed at lookup_table_op.cc:929 : FAILED_PRECONDITION: Table not initialized.\n",
      "2023-10-19 19:55:19.168855: W tensorflow/core/framework/op_kernel.cc:1839] OP_REQUIRES failed at lookup_table_op.cc:929 : FAILED_PRECONDITION: Table not initialized.\n",
      "2023-10-19 19:55:19.168869: W tensorflow/core/framework/op_kernel.cc:1839] OP_REQUIRES failed at lookup_table_op.cc:929 : FAILED_PRECONDITION: Table not initialized.\n",
      "2023-10-19 19:55:19.168910: W tensorflow/core/framework/op_kernel.cc:1839] OP_REQUIRES failed at lookup_table_op.cc:929 : FAILED_PRECONDITION: Table not initialized.\n",
      "2023-10-19 19:55:19.168932: W tensorflow/core/framework/op_kernel.cc:1839] OP_REQUIRES failed at lookup_table_op.cc:929 : FAILED_PRECONDITION: Table not initialized.\n",
      "2023-10-19 19:55:19.168950: W tensorflow/core/framework/op_kernel.cc:1839] OP_REQUIRES failed at lookup_table_op.cc:929 : FAILED_PRECONDITION: Table not initialized.\n",
      "2023-10-19 19:55:19.168970: W tensorflow/core/framework/op_kernel.cc:1839] OP_REQUIRES failed at lookup_table_op.cc:929 : FAILED_PRECONDITION: Table not initialized.\n",
      "2023-10-19 19:55:19.168988: W tensorflow/core/framework/op_kernel.cc:1839] OP_REQUIRES failed at lookup_table_op.cc:929 : FAILED_PRECONDITION: Table not initialized.\n",
      "2023-10-19 19:55:19.168996: W tensorflow/core/framework/op_kernel.cc:1839] OP_REQUIRES failed at lookup_table_op.cc:929 : FAILED_PRECONDITION: Table not initialized.\n",
      "2023-10-19 19:55:19.169018: W tensorflow/core/framework/op_kernel.cc:1839] OP_REQUIRES failed at lookup_table_op.cc:929 : FAILED_PRECONDITION: Table not initialized.\n",
      "2023-10-19 19:55:19.169041: W tensorflow/core/framework/op_kernel.cc:1839] OP_REQUIRES failed at lookup_table_op.cc:929 : FAILED_PRECONDITION: Table not initialized.\n",
      "2023-10-19 19:55:19.169081: W tensorflow/core/framework/op_kernel.cc:1839] OP_REQUIRES failed at lookup_table_op.cc:929 : FAILED_PRECONDITION: Table not initialized.\n",
      "2023-10-19 19:55:19.169102: W tensorflow/core/framework/op_kernel.cc:1839] OP_REQUIRES failed at lookup_table_op.cc:929 : FAILED_PRECONDITION: Table not initialized.\n",
      "2023-10-19 19:55:19.169122: W tensorflow/core/framework/op_kernel.cc:1839] OP_REQUIRES failed at lookup_table_op.cc:929 : FAILED_PRECONDITION: Table not initialized.\n",
      "2023-10-19 19:55:19.169137: W tensorflow/core/framework/op_kernel.cc:1839] OP_REQUIRES failed at lookup_table_op.cc:929 : FAILED_PRECONDITION: Table not initialized.\n",
      "2023-10-19 19:55:19.169149: W tensorflow/core/framework/op_kernel.cc:1839] OP_REQUIRES failed at lookup_table_op.cc:929 : FAILED_PRECONDITION: Table not initialized.\n",
      "2023-10-19 19:55:19.169176: W tensorflow/core/framework/op_kernel.cc:1839] OP_REQUIRES failed at lookup_table_op.cc:929 : FAILED_PRECONDITION: Table not initialized.\n",
      "2023-10-19 19:55:19.169193: W tensorflow/core/framework/op_kernel.cc:1839] OP_REQUIRES failed at lookup_table_op.cc:929 : FAILED_PRECONDITION: Table not initialized.\n",
      "2023-10-19 19:55:19.169212: W tensorflow/core/framework/op_kernel.cc:1839] OP_REQUIRES failed at lookup_table_op.cc:929 : FAILED_PRECONDITION: Table not initialized.\n",
      "2023-10-19 19:55:19.169226: W tensorflow/core/framework/op_kernel.cc:1839] OP_REQUIRES failed at lookup_table_op.cc:929 : FAILED_PRECONDITION: Table not initialized.\n",
      "2023-10-19 19:55:19.169246: W tensorflow/core/framework/op_kernel.cc:1839] OP_REQUIRES failed at lookup_table_op.cc:929 : FAILED_PRECONDITION: Table not initialized.\n",
      "2023-10-19 19:55:19.169277: W tensorflow/core/framework/op_kernel.cc:1839] OP_REQUIRES failed at lookup_table_op.cc:929 : FAILED_PRECONDITION: Table not initialized.\n",
      "2023-10-19 19:55:19.169295: W tensorflow/core/framework/op_kernel.cc:1839] OP_REQUIRES failed at lookup_table_op.cc:929 : FAILED_PRECONDITION: Table not initialized.\n",
      "2023-10-19 19:55:19.169315: W tensorflow/core/framework/op_kernel.cc:1839] OP_REQUIRES failed at lookup_table_op.cc:929 : FAILED_PRECONDITION: Table not initialized.\n",
      "2023-10-19 19:55:19.169332: W tensorflow/core/framework/op_kernel.cc:1839] OP_REQUIRES failed at lookup_table_op.cc:929 : FAILED_PRECONDITION: Table not initialized.\n",
      "2023-10-19 19:55:19.169352: W tensorflow/core/framework/op_kernel.cc:1839] OP_REQUIRES failed at lookup_table_op.cc:929 : FAILED_PRECONDITION: Table not initialized.\n",
      "2023-10-19 19:55:19.169370: W tensorflow/core/framework/op_kernel.cc:1839] OP_REQUIRES failed at lookup_table_op.cc:929 : FAILED_PRECONDITION: Table not initialized.\n",
      "2023-10-19 19:55:19.169384: W tensorflow/core/framework/op_kernel.cc:1839] OP_REQUIRES failed at lookup_table_op.cc:929 : FAILED_PRECONDITION: Table not initialized.\n",
      "2023-10-19 19:55:19.169403: W tensorflow/core/framework/op_kernel.cc:1839] OP_REQUIRES failed at lookup_table_op.cc:929 : FAILED_PRECONDITION: Table not initialized.\n",
      "2023-10-19 19:55:19.169411: W tensorflow/core/framework/op_kernel.cc:1839] OP_REQUIRES failed at lookup_table_op.cc:929 : FAILED_PRECONDITION: Table not initialized.\n",
      "2023-10-19 19:55:19.169428: W tensorflow/core/framework/op_kernel.cc:1839] OP_REQUIRES failed at lookup_table_op.cc:929 : FAILED_PRECONDITION: Table not initialized.\n",
      "2023-10-19 19:55:19.169439: W tensorflow/core/framework/op_kernel.cc:1839] OP_REQUIRES failed at lookup_table_op.cc:929 : FAILED_PRECONDITION: Table not initialized.\n",
      "2023-10-19 19:55:19.169459: W tensorflow/core/framework/op_kernel.cc:1839] OP_REQUIRES failed at lookup_table_op.cc:929 : FAILED_PRECONDITION: Table not initialized.\n",
      "2023-10-19 19:55:19.169469: W tensorflow/core/framework/op_kernel.cc:1839] OP_REQUIRES failed at lookup_table_op.cc:929 : FAILED_PRECONDITION: Table not initialized.\n",
      "2023-10-19 19:55:19.169486: W tensorflow/core/framework/op_kernel.cc:1839] OP_REQUIRES failed at lookup_table_op.cc:929 : FAILED_PRECONDITION: Table not initialized.\n",
      "2023-10-19 19:55:19.169504: W tensorflow/core/framework/op_kernel.cc:1839] OP_REQUIRES failed at lookup_table_op.cc:929 : FAILED_PRECONDITION: Table not initialized.\n",
      "2023-10-19 19:55:19.169524: W tensorflow/core/framework/op_kernel.cc:1839] OP_REQUIRES failed at lookup_table_op.cc:929 : FAILED_PRECONDITION: Table not initialized.\n",
      "2023-10-19 19:55:19.169541: W tensorflow/core/framework/op_kernel.cc:1839] OP_REQUIRES failed at lookup_table_op.cc:929 : FAILED_PRECONDITION: Table not initialized.\n",
      "2023-10-19 19:55:19.169559: W tensorflow/core/framework/op_kernel.cc:1839] OP_REQUIRES failed at lookup_table_op.cc:929 : FAILED_PRECONDITION: Table not initialized.\n",
      "2023-10-19 19:55:19.169577: W tensorflow/core/framework/op_kernel.cc:1839] OP_REQUIRES failed at lookup_table_op.cc:929 : FAILED_PRECONDITION: Table not initialized.\n",
      "2023-10-19 19:55:19.169619: W tensorflow/core/framework/op_kernel.cc:1839] OP_REQUIRES failed at lookup_table_op.cc:929 : FAILED_PRECONDITION: Table not initialized.\n",
      "2023-10-19 19:55:19.169634: W tensorflow/core/framework/op_kernel.cc:1839] OP_REQUIRES failed at lookup_table_op.cc:929 : FAILED_PRECONDITION: Table not initialized.\n",
      "2023-10-19 19:55:19.169651: W tensorflow/core/framework/op_kernel.cc:1839] OP_REQUIRES failed at lookup_table_op.cc:929 : FAILED_PRECONDITION: Table not initialized.\n",
      "2023-10-19 19:55:19.169668: W tensorflow/core/framework/op_kernel.cc:1839] OP_REQUIRES failed at lookup_table_op.cc:929 : FAILED_PRECONDITION: Table not initialized.\n",
      "2023-10-19 19:55:19.169684: W tensorflow/core/framework/op_kernel.cc:1839] OP_REQUIRES failed at lookup_table_op.cc:929 : FAILED_PRECONDITION: Table not initialized.\n",
      "2023-10-19 19:55:19.169701: W tensorflow/core/framework/op_kernel.cc:1839] OP_REQUIRES failed at lookup_table_op.cc:929 : FAILED_PRECONDITION: Table not initialized.\n"
     ]
    },
    {
     "ename": "FailedPreconditionError",
     "evalue": "Graph execution error:\n\nDetected at node model/multi_category_encoding/string_lookup_137/None_Lookup/LookupTableFindV2 defined at (most recent call last):\n  File \"<frozen runpy>\", line 198, in _run_module_as_main\n\n  File \"<frozen runpy>\", line 88, in _run_code\n\n  File \"/home/apo-pc/anaconda3/envs/bic/lib/python3.11/site-packages/ipykernel_launcher.py\", line 17, in <module>\n\n  File \"/home/apo-pc/anaconda3/envs/bic/lib/python3.11/site-packages/traitlets/config/application.py\", line 992, in launch_instance\n\n  File \"/home/apo-pc/anaconda3/envs/bic/lib/python3.11/site-packages/ipykernel/kernelapp.py\", line 711, in start\n\n  File \"/home/apo-pc/anaconda3/envs/bic/lib/python3.11/site-packages/tornado/platform/asyncio.py\", line 195, in start\n\n  File \"/home/apo-pc/anaconda3/envs/bic/lib/python3.11/asyncio/base_events.py\", line 607, in run_forever\n\n  File \"/home/apo-pc/anaconda3/envs/bic/lib/python3.11/asyncio/base_events.py\", line 1922, in _run_once\n\n  File \"/home/apo-pc/anaconda3/envs/bic/lib/python3.11/asyncio/events.py\", line 80, in _run\n\n  File \"/home/apo-pc/anaconda3/envs/bic/lib/python3.11/site-packages/ipykernel/kernelbase.py\", line 510, in dispatch_queue\n\n  File \"/home/apo-pc/anaconda3/envs/bic/lib/python3.11/site-packages/ipykernel/kernelbase.py\", line 499, in process_one\n\n  File \"/home/apo-pc/anaconda3/envs/bic/lib/python3.11/site-packages/ipykernel/kernelbase.py\", line 406, in dispatch_shell\n\n  File \"/home/apo-pc/anaconda3/envs/bic/lib/python3.11/site-packages/ipykernel/kernelbase.py\", line 729, in execute_request\n\n  File \"/home/apo-pc/anaconda3/envs/bic/lib/python3.11/site-packages/ipykernel/ipkernel.py\", line 411, in do_execute\n\n  File \"/home/apo-pc/anaconda3/envs/bic/lib/python3.11/site-packages/ipykernel/zmqshell.py\", line 531, in run_cell\n\n  File \"/home/apo-pc/anaconda3/envs/bic/lib/python3.11/site-packages/IPython/core/interactiveshell.py\", line 2961, in run_cell\n\n  File \"/home/apo-pc/anaconda3/envs/bic/lib/python3.11/site-packages/IPython/core/interactiveshell.py\", line 3016, in _run_cell\n\n  File \"/home/apo-pc/anaconda3/envs/bic/lib/python3.11/site-packages/IPython/core/async_helpers.py\", line 129, in _pseudo_sync_runner\n\n  File \"/home/apo-pc/anaconda3/envs/bic/lib/python3.11/site-packages/IPython/core/interactiveshell.py\", line 3221, in run_cell_async\n\n  File \"/home/apo-pc/anaconda3/envs/bic/lib/python3.11/site-packages/IPython/core/interactiveshell.py\", line 3400, in run_ast_nodes\n\n  File \"/home/apo-pc/anaconda3/envs/bic/lib/python3.11/site-packages/IPython/core/interactiveshell.py\", line 3460, in run_code\n\n  File \"/tmp/ipykernel_103585/3199426167.py\", line 43, in <module>\n\n  File \"/home/apo-pc/anaconda3/envs/bic/lib/python3.11/site-packages/autokeras/tasks/structured_data.py\", line 187, in evaluate\n\n  File \"/home/apo-pc/anaconda3/envs/bic/lib/python3.11/site-packages/autokeras/auto_model.py\", line 492, in evaluate\n\n  File \"/home/apo-pc/anaconda3/envs/bic/lib/python3.11/site-packages/autokeras/utils/utils.py\", line 68, in evaluate_with_adaptive_batch_size\n\n  File \"/home/apo-pc/anaconda3/envs/bic/lib/python3.11/site-packages/autokeras/utils/utils.py\", line 101, in run_with_adaptive_batch_size\n\n  File \"/home/apo-pc/anaconda3/envs/bic/lib/python3.11/site-packages/autokeras/utils/utils.py\", line 70, in <lambda>\n\n  File \"/home/apo-pc/anaconda3/envs/bic/lib/python3.11/site-packages/keras/src/utils/traceback_utils.py\", line 65, in error_handler\n\n  File \"/home/apo-pc/anaconda3/envs/bic/lib/python3.11/site-packages/keras/src/engine/training.py\", line 2272, in evaluate\n\n  File \"/home/apo-pc/anaconda3/envs/bic/lib/python3.11/site-packages/keras/src/engine/training.py\", line 4079, in run_step\n\n  File \"/home/apo-pc/anaconda3/envs/bic/lib/python3.11/site-packages/keras/src/engine/training.py\", line 2042, in test_function\n\n  File \"/home/apo-pc/anaconda3/envs/bic/lib/python3.11/site-packages/keras/src/engine/training.py\", line 2025, in step_function\n\n  File \"/home/apo-pc/anaconda3/envs/bic/lib/python3.11/site-packages/keras/src/engine/training.py\", line 2013, in run_step\n\n  File \"/home/apo-pc/anaconda3/envs/bic/lib/python3.11/site-packages/keras/src/engine/training.py\", line 1893, in test_step\n\n  File \"/home/apo-pc/anaconda3/envs/bic/lib/python3.11/site-packages/keras/src/utils/traceback_utils.py\", line 65, in error_handler\n\n  File \"/home/apo-pc/anaconda3/envs/bic/lib/python3.11/site-packages/keras/src/engine/training.py\", line 589, in __call__\n\n  File \"/home/apo-pc/anaconda3/envs/bic/lib/python3.11/site-packages/keras/src/utils/traceback_utils.py\", line 65, in error_handler\n\n  File \"/home/apo-pc/anaconda3/envs/bic/lib/python3.11/site-packages/keras/src/engine/base_layer.py\", line 1149, in __call__\n\n  File \"/home/apo-pc/anaconda3/envs/bic/lib/python3.11/site-packages/keras/src/utils/traceback_utils.py\", line 96, in error_handler\n\n  File \"/home/apo-pc/anaconda3/envs/bic/lib/python3.11/site-packages/keras/src/engine/functional.py\", line 515, in call\n\n  File \"/home/apo-pc/anaconda3/envs/bic/lib/python3.11/site-packages/keras/src/engine/functional.py\", line 672, in _run_internal_graph\n\n  File \"/home/apo-pc/anaconda3/envs/bic/lib/python3.11/site-packages/keras/src/utils/traceback_utils.py\", line 65, in error_handler\n\n  File \"/home/apo-pc/anaconda3/envs/bic/lib/python3.11/site-packages/keras/src/engine/base_layer.py\", line 1149, in __call__\n\n  File \"/home/apo-pc/anaconda3/envs/bic/lib/python3.11/site-packages/keras/src/utils/traceback_utils.py\", line 96, in error_handler\n\n  File \"/home/apo-pc/anaconda3/envs/bic/lib/python3.11/site-packages/autokeras/keras_layers.py\", line 91, in call\n\n  File \"/home/apo-pc/anaconda3/envs/bic/lib/python3.11/site-packages/autokeras/keras_layers.py\", line 92, in call\n\n  File \"/home/apo-pc/anaconda3/envs/bic/lib/python3.11/site-packages/autokeras/keras_layers.py\", line 100, in call\n\n  File \"/home/apo-pc/anaconda3/envs/bic/lib/python3.11/site-packages/keras/src/utils/traceback_utils.py\", line 65, in error_handler\n\n  File \"/home/apo-pc/anaconda3/envs/bic/lib/python3.11/site-packages/keras/src/engine/base_layer.py\", line 1149, in __call__\n\n  File \"/home/apo-pc/anaconda3/envs/bic/lib/python3.11/site-packages/keras/src/utils/traceback_utils.py\", line 96, in error_handler\n\n  File \"/home/apo-pc/anaconda3/envs/bic/lib/python3.11/site-packages/keras/src/layers/preprocessing/index_lookup.py\", line 756, in call\n\n  File \"/home/apo-pc/anaconda3/envs/bic/lib/python3.11/site-packages/keras/src/layers/preprocessing/index_lookup.py\", line 792, in _lookup_dense\n\nTable not initialized.\n\t [[{{node model/multi_category_encoding/string_lookup_137/None_Lookup/LookupTableFindV2}}]] [Op:__inference_test_function_2445665]",
     "output_type": "error",
     "traceback": [
      "\u001b[0;31m---------------------------------------------------------------------------\u001b[0m",
      "\u001b[0;31mFailedPreconditionError\u001b[0m                   Traceback (most recent call last)",
      "\u001b[1;32m/home/apo-pc/repos/Classificacao_MHI_BIC/Codigos-Desenvolvimento_NoRandomUnderSampling/automatico.ipynb Cell 2\u001b[0m line \u001b[0;36m4\n\u001b[1;32m     <a href='vscode-notebook-cell:/home/apo-pc/repos/Classificacao_MHI_BIC/Codigos-Desenvolvimento_NoRandomUnderSampling/automatico.ipynb#W1sZmlsZQ%3D%3D?line=39'>40</a>\u001b[0m clf\u001b[39m.\u001b[39mfit(X_train, y_train, validation_data\u001b[39m=\u001b[39m(X_val, y_val))\n\u001b[1;32m     <a href='vscode-notebook-cell:/home/apo-pc/repos/Classificacao_MHI_BIC/Codigos-Desenvolvimento_NoRandomUnderSampling/automatico.ipynb#W1sZmlsZQ%3D%3D?line=41'>42</a>\u001b[0m \u001b[39m# Avaliando o modelo\u001b[39;00m\n\u001b[0;32m---> <a href='vscode-notebook-cell:/home/apo-pc/repos/Classificacao_MHI_BIC/Codigos-Desenvolvimento_NoRandomUnderSampling/automatico.ipynb#W1sZmlsZQ%3D%3D?line=42'>43</a>\u001b[0m \u001b[39mprint\u001b[39m(clf\u001b[39m.\u001b[39mevaluate(X_test, y_test))\n",
      "File \u001b[0;32m~/anaconda3/envs/bic/lib/python3.11/site-packages/autokeras/tasks/structured_data.py:187\u001b[0m, in \u001b[0;36mBaseStructuredDataPipeline.evaluate\u001b[0;34m(self, x, y, **kwargs)\u001b[0m\n\u001b[1;32m    185\u001b[0m \u001b[39mif\u001b[39;00m \u001b[39misinstance\u001b[39m(x, \u001b[39mstr\u001b[39m):\n\u001b[1;32m    186\u001b[0m     x, y \u001b[39m=\u001b[39m \u001b[39mself\u001b[39m\u001b[39m.\u001b[39m_read_from_csv(x, y)\n\u001b[0;32m--> 187\u001b[0m \u001b[39mreturn\u001b[39;00m \u001b[39msuper\u001b[39m()\u001b[39m.\u001b[39mevaluate(x\u001b[39m=\u001b[39mx, y\u001b[39m=\u001b[39my, \u001b[39m*\u001b[39m\u001b[39m*\u001b[39mkwargs)\n",
      "File \u001b[0;32m~/anaconda3/envs/bic/lib/python3.11/site-packages/autokeras/auto_model.py:492\u001b[0m, in \u001b[0;36mAutoModel.evaluate\u001b[0;34m(self, x, y, batch_size, verbose, **kwargs)\u001b[0m\n\u001b[1;32m    490\u001b[0m dataset \u001b[39m=\u001b[39m pipeline\u001b[39m.\u001b[39mtransform(dataset)\n\u001b[1;32m    491\u001b[0m model \u001b[39m=\u001b[39m \u001b[39mself\u001b[39m\u001b[39m.\u001b[39mtuner\u001b[39m.\u001b[39mget_best_model()\n\u001b[0;32m--> 492\u001b[0m \u001b[39mreturn\u001b[39;00m utils\u001b[39m.\u001b[39mevaluate_with_adaptive_batch_size(\n\u001b[1;32m    493\u001b[0m     model\u001b[39m=\u001b[39mmodel, batch_size\u001b[39m=\u001b[39mbatch_size, x\u001b[39m=\u001b[39mdataset, verbose\u001b[39m=\u001b[39mverbose, \u001b[39m*\u001b[39m\u001b[39m*\u001b[39mkwargs\n\u001b[1;32m    494\u001b[0m )\n",
      "File \u001b[0;32m~/anaconda3/envs/bic/lib/python3.11/site-packages/autokeras/utils/utils.py:68\u001b[0m, in \u001b[0;36mevaluate_with_adaptive_batch_size\u001b[0;34m(model, batch_size, verbose, **fit_kwargs)\u001b[0m\n\u001b[1;32m     67\u001b[0m \u001b[39mdef\u001b[39;00m \u001b[39mevaluate_with_adaptive_batch_size\u001b[39m(model, batch_size, verbose\u001b[39m=\u001b[39m\u001b[39m1\u001b[39m, \u001b[39m*\u001b[39m\u001b[39m*\u001b[39mfit_kwargs):\n\u001b[0;32m---> 68\u001b[0m     \u001b[39mreturn\u001b[39;00m run_with_adaptive_batch_size(\n\u001b[1;32m     69\u001b[0m         batch_size,\n\u001b[1;32m     70\u001b[0m         \u001b[39mlambda\u001b[39;00m x, validation_data, \u001b[39m*\u001b[39m\u001b[39m*\u001b[39mkwargs: model\u001b[39m.\u001b[39mevaluate(\n\u001b[1;32m     71\u001b[0m             x, verbose\u001b[39m=\u001b[39mverbose, \u001b[39m*\u001b[39m\u001b[39m*\u001b[39mkwargs\n\u001b[1;32m     72\u001b[0m         ),\n\u001b[1;32m     73\u001b[0m         \u001b[39m*\u001b[39m\u001b[39m*\u001b[39mfit_kwargs,\n\u001b[1;32m     74\u001b[0m     )\n",
      "File \u001b[0;32m~/anaconda3/envs/bic/lib/python3.11/site-packages/autokeras/utils/utils.py:101\u001b[0m, in \u001b[0;36mrun_with_adaptive_batch_size\u001b[0;34m(batch_size, func, **fit_kwargs)\u001b[0m\n\u001b[1;32m     99\u001b[0m \u001b[39mwhile\u001b[39;00m batch_size \u001b[39m>\u001b[39m \u001b[39m0\u001b[39m:\n\u001b[1;32m    100\u001b[0m     \u001b[39mtry\u001b[39;00m:\n\u001b[0;32m--> 101\u001b[0m         history \u001b[39m=\u001b[39m func(x\u001b[39m=\u001b[39mx, validation_data\u001b[39m=\u001b[39mvalidation_data, \u001b[39m*\u001b[39m\u001b[39m*\u001b[39mfit_kwargs)\n\u001b[1;32m    102\u001b[0m         \u001b[39mbreak\u001b[39;00m\n\u001b[1;32m    103\u001b[0m     \u001b[39mexcept\u001b[39;00m tf\u001b[39m.\u001b[39merrors\u001b[39m.\u001b[39mResourceExhaustedError \u001b[39mas\u001b[39;00m e:\n",
      "File \u001b[0;32m~/anaconda3/envs/bic/lib/python3.11/site-packages/autokeras/utils/utils.py:70\u001b[0m, in \u001b[0;36mevaluate_with_adaptive_batch_size.<locals>.<lambda>\u001b[0;34m(x, validation_data, **kwargs)\u001b[0m\n\u001b[1;32m     67\u001b[0m \u001b[39mdef\u001b[39;00m \u001b[39mevaluate_with_adaptive_batch_size\u001b[39m(model, batch_size, verbose\u001b[39m=\u001b[39m\u001b[39m1\u001b[39m, \u001b[39m*\u001b[39m\u001b[39m*\u001b[39mfit_kwargs):\n\u001b[1;32m     68\u001b[0m     \u001b[39mreturn\u001b[39;00m run_with_adaptive_batch_size(\n\u001b[1;32m     69\u001b[0m         batch_size,\n\u001b[0;32m---> 70\u001b[0m         \u001b[39mlambda\u001b[39;00m x, validation_data, \u001b[39m*\u001b[39m\u001b[39m*\u001b[39mkwargs: model\u001b[39m.\u001b[39mevaluate(\n\u001b[1;32m     71\u001b[0m             x, verbose\u001b[39m=\u001b[39mverbose, \u001b[39m*\u001b[39m\u001b[39m*\u001b[39mkwargs\n\u001b[1;32m     72\u001b[0m         ),\n\u001b[1;32m     73\u001b[0m         \u001b[39m*\u001b[39m\u001b[39m*\u001b[39mfit_kwargs,\n\u001b[1;32m     74\u001b[0m     )\n",
      "File \u001b[0;32m~/anaconda3/envs/bic/lib/python3.11/site-packages/keras/src/utils/traceback_utils.py:70\u001b[0m, in \u001b[0;36mfilter_traceback.<locals>.error_handler\u001b[0;34m(*args, **kwargs)\u001b[0m\n\u001b[1;32m     67\u001b[0m     filtered_tb \u001b[39m=\u001b[39m _process_traceback_frames(e\u001b[39m.\u001b[39m__traceback__)\n\u001b[1;32m     68\u001b[0m     \u001b[39m# To get the full stack trace, call:\u001b[39;00m\n\u001b[1;32m     69\u001b[0m     \u001b[39m# `tf.debugging.disable_traceback_filtering()`\u001b[39;00m\n\u001b[0;32m---> 70\u001b[0m     \u001b[39mraise\u001b[39;00m e\u001b[39m.\u001b[39mwith_traceback(filtered_tb) \u001b[39mfrom\u001b[39;00m \u001b[39mNone\u001b[39;00m\n\u001b[1;32m     71\u001b[0m \u001b[39mfinally\u001b[39;00m:\n\u001b[1;32m     72\u001b[0m     \u001b[39mdel\u001b[39;00m filtered_tb\n",
      "File \u001b[0;32m~/anaconda3/envs/bic/lib/python3.11/site-packages/tensorflow/python/eager/execute.py:60\u001b[0m, in \u001b[0;36mquick_execute\u001b[0;34m(op_name, num_outputs, inputs, attrs, ctx, name)\u001b[0m\n\u001b[1;32m     53\u001b[0m   \u001b[39m# Convert any objects of type core_types.Tensor to Tensor.\u001b[39;00m\n\u001b[1;32m     54\u001b[0m   inputs \u001b[39m=\u001b[39m [\n\u001b[1;32m     55\u001b[0m       tensor_conversion_registry\u001b[39m.\u001b[39mconvert(t)\n\u001b[1;32m     56\u001b[0m       \u001b[39mif\u001b[39;00m \u001b[39misinstance\u001b[39m(t, core_types\u001b[39m.\u001b[39mTensor)\n\u001b[1;32m     57\u001b[0m       \u001b[39melse\u001b[39;00m t\n\u001b[1;32m     58\u001b[0m       \u001b[39mfor\u001b[39;00m t \u001b[39min\u001b[39;00m inputs\n\u001b[1;32m     59\u001b[0m   ]\n\u001b[0;32m---> 60\u001b[0m   tensors \u001b[39m=\u001b[39m pywrap_tfe\u001b[39m.\u001b[39mTFE_Py_Execute(ctx\u001b[39m.\u001b[39m_handle, device_name, op_name,\n\u001b[1;32m     61\u001b[0m                                       inputs, attrs, num_outputs)\n\u001b[1;32m     62\u001b[0m \u001b[39mexcept\u001b[39;00m core\u001b[39m.\u001b[39m_NotOkStatusException \u001b[39mas\u001b[39;00m e:\n\u001b[1;32m     63\u001b[0m   \u001b[39mif\u001b[39;00m name \u001b[39mis\u001b[39;00m \u001b[39mnot\u001b[39;00m \u001b[39mNone\u001b[39;00m:\n",
      "\u001b[0;31mFailedPreconditionError\u001b[0m: Graph execution error:\n\nDetected at node model/multi_category_encoding/string_lookup_137/None_Lookup/LookupTableFindV2 defined at (most recent call last):\n  File \"<frozen runpy>\", line 198, in _run_module_as_main\n\n  File \"<frozen runpy>\", line 88, in _run_code\n\n  File \"/home/apo-pc/anaconda3/envs/bic/lib/python3.11/site-packages/ipykernel_launcher.py\", line 17, in <module>\n\n  File \"/home/apo-pc/anaconda3/envs/bic/lib/python3.11/site-packages/traitlets/config/application.py\", line 992, in launch_instance\n\n  File \"/home/apo-pc/anaconda3/envs/bic/lib/python3.11/site-packages/ipykernel/kernelapp.py\", line 711, in start\n\n  File \"/home/apo-pc/anaconda3/envs/bic/lib/python3.11/site-packages/tornado/platform/asyncio.py\", line 195, in start\n\n  File \"/home/apo-pc/anaconda3/envs/bic/lib/python3.11/asyncio/base_events.py\", line 607, in run_forever\n\n  File \"/home/apo-pc/anaconda3/envs/bic/lib/python3.11/asyncio/base_events.py\", line 1922, in _run_once\n\n  File \"/home/apo-pc/anaconda3/envs/bic/lib/python3.11/asyncio/events.py\", line 80, in _run\n\n  File \"/home/apo-pc/anaconda3/envs/bic/lib/python3.11/site-packages/ipykernel/kernelbase.py\", line 510, in dispatch_queue\n\n  File \"/home/apo-pc/anaconda3/envs/bic/lib/python3.11/site-packages/ipykernel/kernelbase.py\", line 499, in process_one\n\n  File \"/home/apo-pc/anaconda3/envs/bic/lib/python3.11/site-packages/ipykernel/kernelbase.py\", line 406, in dispatch_shell\n\n  File \"/home/apo-pc/anaconda3/envs/bic/lib/python3.11/site-packages/ipykernel/kernelbase.py\", line 729, in execute_request\n\n  File \"/home/apo-pc/anaconda3/envs/bic/lib/python3.11/site-packages/ipykernel/ipkernel.py\", line 411, in do_execute\n\n  File \"/home/apo-pc/anaconda3/envs/bic/lib/python3.11/site-packages/ipykernel/zmqshell.py\", line 531, in run_cell\n\n  File \"/home/apo-pc/anaconda3/envs/bic/lib/python3.11/site-packages/IPython/core/interactiveshell.py\", line 2961, in run_cell\n\n  File \"/home/apo-pc/anaconda3/envs/bic/lib/python3.11/site-packages/IPython/core/interactiveshell.py\", line 3016, in _run_cell\n\n  File \"/home/apo-pc/anaconda3/envs/bic/lib/python3.11/site-packages/IPython/core/async_helpers.py\", line 129, in _pseudo_sync_runner\n\n  File \"/home/apo-pc/anaconda3/envs/bic/lib/python3.11/site-packages/IPython/core/interactiveshell.py\", line 3221, in run_cell_async\n\n  File \"/home/apo-pc/anaconda3/envs/bic/lib/python3.11/site-packages/IPython/core/interactiveshell.py\", line 3400, in run_ast_nodes\n\n  File \"/home/apo-pc/anaconda3/envs/bic/lib/python3.11/site-packages/IPython/core/interactiveshell.py\", line 3460, in run_code\n\n  File \"/tmp/ipykernel_103585/3199426167.py\", line 43, in <module>\n\n  File \"/home/apo-pc/anaconda3/envs/bic/lib/python3.11/site-packages/autokeras/tasks/structured_data.py\", line 187, in evaluate\n\n  File \"/home/apo-pc/anaconda3/envs/bic/lib/python3.11/site-packages/autokeras/auto_model.py\", line 492, in evaluate\n\n  File \"/home/apo-pc/anaconda3/envs/bic/lib/python3.11/site-packages/autokeras/utils/utils.py\", line 68, in evaluate_with_adaptive_batch_size\n\n  File \"/home/apo-pc/anaconda3/envs/bic/lib/python3.11/site-packages/autokeras/utils/utils.py\", line 101, in run_with_adaptive_batch_size\n\n  File \"/home/apo-pc/anaconda3/envs/bic/lib/python3.11/site-packages/autokeras/utils/utils.py\", line 70, in <lambda>\n\n  File \"/home/apo-pc/anaconda3/envs/bic/lib/python3.11/site-packages/keras/src/utils/traceback_utils.py\", line 65, in error_handler\n\n  File \"/home/apo-pc/anaconda3/envs/bic/lib/python3.11/site-packages/keras/src/engine/training.py\", line 2272, in evaluate\n\n  File \"/home/apo-pc/anaconda3/envs/bic/lib/python3.11/site-packages/keras/src/engine/training.py\", line 4079, in run_step\n\n  File \"/home/apo-pc/anaconda3/envs/bic/lib/python3.11/site-packages/keras/src/engine/training.py\", line 2042, in test_function\n\n  File \"/home/apo-pc/anaconda3/envs/bic/lib/python3.11/site-packages/keras/src/engine/training.py\", line 2025, in step_function\n\n  File \"/home/apo-pc/anaconda3/envs/bic/lib/python3.11/site-packages/keras/src/engine/training.py\", line 2013, in run_step\n\n  File \"/home/apo-pc/anaconda3/envs/bic/lib/python3.11/site-packages/keras/src/engine/training.py\", line 1893, in test_step\n\n  File \"/home/apo-pc/anaconda3/envs/bic/lib/python3.11/site-packages/keras/src/utils/traceback_utils.py\", line 65, in error_handler\n\n  File \"/home/apo-pc/anaconda3/envs/bic/lib/python3.11/site-packages/keras/src/engine/training.py\", line 589, in __call__\n\n  File \"/home/apo-pc/anaconda3/envs/bic/lib/python3.11/site-packages/keras/src/utils/traceback_utils.py\", line 65, in error_handler\n\n  File \"/home/apo-pc/anaconda3/envs/bic/lib/python3.11/site-packages/keras/src/engine/base_layer.py\", line 1149, in __call__\n\n  File \"/home/apo-pc/anaconda3/envs/bic/lib/python3.11/site-packages/keras/src/utils/traceback_utils.py\", line 96, in error_handler\n\n  File \"/home/apo-pc/anaconda3/envs/bic/lib/python3.11/site-packages/keras/src/engine/functional.py\", line 515, in call\n\n  File \"/home/apo-pc/anaconda3/envs/bic/lib/python3.11/site-packages/keras/src/engine/functional.py\", line 672, in _run_internal_graph\n\n  File \"/home/apo-pc/anaconda3/envs/bic/lib/python3.11/site-packages/keras/src/utils/traceback_utils.py\", line 65, in error_handler\n\n  File \"/home/apo-pc/anaconda3/envs/bic/lib/python3.11/site-packages/keras/src/engine/base_layer.py\", line 1149, in __call__\n\n  File \"/home/apo-pc/anaconda3/envs/bic/lib/python3.11/site-packages/keras/src/utils/traceback_utils.py\", line 96, in error_handler\n\n  File \"/home/apo-pc/anaconda3/envs/bic/lib/python3.11/site-packages/autokeras/keras_layers.py\", line 91, in call\n\n  File \"/home/apo-pc/anaconda3/envs/bic/lib/python3.11/site-packages/autokeras/keras_layers.py\", line 92, in call\n\n  File \"/home/apo-pc/anaconda3/envs/bic/lib/python3.11/site-packages/autokeras/keras_layers.py\", line 100, in call\n\n  File \"/home/apo-pc/anaconda3/envs/bic/lib/python3.11/site-packages/keras/src/utils/traceback_utils.py\", line 65, in error_handler\n\n  File \"/home/apo-pc/anaconda3/envs/bic/lib/python3.11/site-packages/keras/src/engine/base_layer.py\", line 1149, in __call__\n\n  File \"/home/apo-pc/anaconda3/envs/bic/lib/python3.11/site-packages/keras/src/utils/traceback_utils.py\", line 96, in error_handler\n\n  File \"/home/apo-pc/anaconda3/envs/bic/lib/python3.11/site-packages/keras/src/layers/preprocessing/index_lookup.py\", line 756, in call\n\n  File \"/home/apo-pc/anaconda3/envs/bic/lib/python3.11/site-packages/keras/src/layers/preprocessing/index_lookup.py\", line 792, in _lookup_dense\n\nTable not initialized.\n\t [[{{node model/multi_category_encoding/string_lookup_137/None_Lookup/LookupTableFindV2}}]] [Op:__inference_test_function_2445665]"
     ]
    }
   ],
   "source": [
    "import autokeras as ak\n",
    "import pandas as pd\n",
    "\n",
    "# Carregando os dados\n",
    "base1 = pd.read_csv('Datasets/dataframe_socioeconomico_Niveis.csv')\n",
    "data1 = base1.drop('Nivel_MHI', axis=1)\n",
    "target1 = base1['Nivel_MHI']\n",
    "\n",
    "base2 = pd.read_csv('Datasets/df_social_whoqol_tratado_1.csv')\n",
    "data2 = base2.drop('Nivel_MHI', axis=1)\n",
    "target2 = base2['Nivel_MHI']\n",
    "\n",
    "\n",
    "\n",
    "from sklearn.model_selection import train_test_split\n",
    "\n",
    "# Dividir a base em treino, teste e validação\n",
    "X_train, X_test, y_train, y_test = train_test_split(data2, target2, test_size=0.2, random_state=42)  # Divisão inicial em treino e teste\n",
    "X_train, X_val, y_train, y_val = train_test_split(X_train, y_train, test_size=0.25, random_state=42)  # Divisão do treino em treino e validação\n",
    "\n",
    "\n",
    "\n",
    "\n",
    "# data3 = pd.concat([data1, base2.loc[:,['CR','CS','CT','CU']]], axis=1)\n",
    "# target3 = base2['Nivel_MHI']\n",
    "\n",
    "# data4 = pd.concat([data1, base2['BR']], axis=1)\n",
    "# target4 = base2['Nivel_MHI']\n",
    "\n",
    "# data5 = pd.concat([data1, base2.loc[:,['BR','BS']].mean(axis=1)], axis=1)\n",
    "# target5 = base2['Nivel_MHI']\n",
    "\n",
    "# data6 = pd.concat([data1, base2.loc[:,['CR','CS','CT','CU']].mean(axis=1)], axis=1)\n",
    "# target6 = base2['Nivel_MHI']\n",
    "\n",
    "# Criando o modelo AutoKeras\n",
    "clf = ak.StructuredDataClassifier()\n",
    "\n",
    "# Treinando o modelo\n",
    "clf.fit(X_train, y_train, validation_data=(X_val, y_val))\n",
    "\n",
    "# Avaliando o modelo\n",
    "print(clf.evaluate(X_test, y_test))"
   ]
  }
 ],
 "metadata": {
  "kernelspec": {
   "display_name": "bic",
   "language": "python",
   "name": "python3"
  },
  "language_info": {
   "codemirror_mode": {
    "name": "ipython",
    "version": 3
   },
   "file_extension": ".py",
   "mimetype": "text/x-python",
   "name": "python",
   "nbconvert_exporter": "python",
   "pygments_lexer": "ipython3",
   "version": "3.11.3"
  }
 },
 "nbformat": 4,
 "nbformat_minor": 2
}
