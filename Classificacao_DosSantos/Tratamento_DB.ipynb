{
 "cells": [
  {
   "cell_type": "markdown",
   "metadata": {
    "collapsed": false
   },
   "source": [
    "## 1 - Preparação dos Dados;"
   ]
  },
  {
   "cell_type": "markdown",
   "metadata": {
    "collapsed": false
   },
   "source": [
    "### 1.1 - Importando as bibliotecas necessárias;"
   ]
  },
  {
   "cell_type": "code",
   "execution_count": 26,
   "metadata": {
    "collapsed": false,
    "ExecuteTime": {
     "end_time": "2023-12-28T23:52:07.157658100Z",
     "start_time": "2023-12-28T23:52:07.150651400Z"
    }
   },
   "outputs": [],
   "source": [
    "#Importando as bibliotecas necessárias para analisar os dados\n",
    "import pandas as pd\n",
    "import numpy as np\n",
    "#import matplotlib.pyplot as plt\n",
    "#import string\n",
    "import openpyxl.utils.cell as cell\n",
    "\n"
   ]
  },
  {
   "cell_type": "code",
   "execution_count": 27,
   "metadata": {
    "collapsed": false,
    "ExecuteTime": {
     "end_time": "2023-12-28T23:52:07.394282300Z",
     "start_time": "2023-12-28T23:52:07.389768400Z"
    }
   },
   "outputs": [
    {
     "data": {
      "text/plain": "                                 Atributo  \\\n0                                    Sexo   \n1        Local de Origem (Mora em Sobral)   \n2                                    Raça   \n3                          Situação Civil   \n4                              Reside com   \n5                     Qual a sua religião   \n6             Reprovou Alguma Disciplina?   \n7          Considera o Curso Estressante?   \n8                Recebe Bolsa ou Auxílio?   \n9         Qual atividade de lazer pratica   \n10       Faz uso contínuo de medicamento?   \n11  Fez uso de uma substância Psicoativa?   \n12        Frequência do uso da substância   \n13              Quantidade de Sono Diária   \n\n                                               Opções  \n0                                 Masculino, Feminino  \n1                  Mora em Sobral, Não mora em Sobral  \n2                                     Preto, Não sabe  \n3                              Solteiro, Não solteiro  \n4                       Sozinho, República Estudantil  \n5                                 Outras/Sem religião  \n6                                            Sim, Não  \n7                                            Sim, Não  \n8                                            Sim, Não  \n9   Ouvir Música, Assistir Filme/Série, Passear/Vi...  \n10                                           Sim, Não  \n11                                           Sim, Não  \n12  Diariamente, Semanalmente, Mensalmente, Raramente  \n13  Menos de 4 horas, Entre 4 e 6 horas, Entre 6 e...  ",
      "text/html": "<div>\n<style scoped>\n    .dataframe tbody tr th:only-of-type {\n        vertical-align: middle;\n    }\n\n    .dataframe tbody tr th {\n        vertical-align: top;\n    }\n\n    .dataframe thead th {\n        text-align: right;\n    }\n</style>\n<table border=\"1\" class=\"dataframe\">\n  <thead>\n    <tr style=\"text-align: right;\">\n      <th></th>\n      <th>Atributo</th>\n      <th>Opções</th>\n    </tr>\n  </thead>\n  <tbody>\n    <tr>\n      <th>0</th>\n      <td>Sexo</td>\n      <td>Masculino, Feminino</td>\n    </tr>\n    <tr>\n      <th>1</th>\n      <td>Local de Origem (Mora em Sobral)</td>\n      <td>Mora em Sobral, Não mora em Sobral</td>\n    </tr>\n    <tr>\n      <th>2</th>\n      <td>Raça</td>\n      <td>Preto, Não sabe</td>\n    </tr>\n    <tr>\n      <th>3</th>\n      <td>Situação Civil</td>\n      <td>Solteiro, Não solteiro</td>\n    </tr>\n    <tr>\n      <th>4</th>\n      <td>Reside com</td>\n      <td>Sozinho, República Estudantil</td>\n    </tr>\n    <tr>\n      <th>5</th>\n      <td>Qual a sua religião</td>\n      <td>Outras/Sem religião</td>\n    </tr>\n    <tr>\n      <th>6</th>\n      <td>Reprovou Alguma Disciplina?</td>\n      <td>Sim, Não</td>\n    </tr>\n    <tr>\n      <th>7</th>\n      <td>Considera o Curso Estressante?</td>\n      <td>Sim, Não</td>\n    </tr>\n    <tr>\n      <th>8</th>\n      <td>Recebe Bolsa ou Auxílio?</td>\n      <td>Sim, Não</td>\n    </tr>\n    <tr>\n      <th>9</th>\n      <td>Qual atividade de lazer pratica</td>\n      <td>Ouvir Música, Assistir Filme/Série, Passear/Vi...</td>\n    </tr>\n    <tr>\n      <th>10</th>\n      <td>Faz uso contínuo de medicamento?</td>\n      <td>Sim, Não</td>\n    </tr>\n    <tr>\n      <th>11</th>\n      <td>Fez uso de uma substância Psicoativa?</td>\n      <td>Sim, Não</td>\n    </tr>\n    <tr>\n      <th>12</th>\n      <td>Frequência do uso da substância</td>\n      <td>Diariamente, Semanalmente, Mensalmente, Raramente</td>\n    </tr>\n    <tr>\n      <th>13</th>\n      <td>Quantidade de Sono Diária</td>\n      <td>Menos de 4 horas, Entre 4 e 6 horas, Entre 6 e...</td>\n    </tr>\n  </tbody>\n</table>\n</div>"
     },
     "execution_count": 27,
     "metadata": {},
     "output_type": "execute_result"
    }
   ],
   "source": [
    "import pandas as pd\n",
    "\n",
    "data = {\n",
    "    'Atributo': ['Sexo', 'Local de Origem (Mora em Sobral)', 'Raça', 'Situação Civil',\n",
    "                 'Reside com', 'Qual a sua religião', 'Reprovou Alguma Disciplina?',\n",
    "                 'Considera o Curso Estressante?', 'Recebe Bolsa ou Auxílio?',\n",
    "                 'Qual atividade de lazer pratica', 'Faz uso contínuo de medicamento?',\n",
    "                 'Fez uso de uma substância Psicoativa?', 'Frequência do uso da substância',\n",
    "                 'Quantidade de Sono Diária'],\n",
    "    'Opções': ['Masculino, Feminino', 'Mora em Sobral, Não mora em Sobral',\n",
    "               'Preto, Não sabe', 'Solteiro, Não solteiro',\n",
    "               'Sozinho, República Estudantil', 'Outras/Sem religião',\n",
    "               'Sim, Não', 'Sim, Não', 'Sim, Não',\n",
    "               'Ouvir Música, Assistir Filme/Série, Passear/Viajar, Outras',\n",
    "               'Sim, Não', 'Sim, Não',\n",
    "               'Diariamente, Semanalmente, Mensalmente, Raramente',\n",
    "               'Menos de 4 horas, Entre 4 e 6 horas, Entre 6 e 8 horas, Mais de 8 horas']\n",
    "}\n",
    "\n",
    "df = pd.DataFrame(data)\n",
    "df"
   ]
  },
  {
   "cell_type": "markdown",
   "metadata": {
    "collapsed": false
   },
   "source": [
    "### 1.2 - Importando os dados e manipulando-os;"
   ]
  },
  {
   "cell_type": "code",
   "execution_count": 28,
   "metadata": {
    "collapsed": false,
    "ExecuteTime": {
     "end_time": "2023-12-28T23:52:08.936865500Z",
     "start_time": "2023-12-28T23:52:07.841483200Z"
    }
   },
   "outputs": [],
   "source": [
    "#Importando os dados\n",
    "data_frame = pd.read_excel(r'Datasets/BANCO DE DADOS - INVERTIDO - 24 de Agosto 2019.xlsx')\n",
    "\n",
    "\n",
    "#Renoemando as colunas para seguir o padrão do Excel\n",
    "def number_to_excel_column(num):\n",
    "    \"\"\"\n",
    "    Converte um número de coluna numa ‘string’ com a representação alfabética.\n",
    "    Exemplo: 1 => 'A', 2 => 'B', ..., 26 => 'Z', 27 => 'AA', 28 => 'AB', ...\n",
    "    \"\"\"\n",
    "    return cell.get_column_letter(num)\n",
    "\n",
    "# Gera uma lista com os nomes das colunas no estilo do Excel\n",
    "col_names = [number_to_excel_column(num) for num in range(1, len(data_frame.columns)+1)]\n",
    "\n",
    "# Cria um dicionário com os nomes atuais e os novos nomes das colunas\n",
    "new_col_names = {old_name: new_name for old_name, new_name in zip(data_frame.columns, col_names)}\n",
    "\n",
    "# Renomeia as colunas\n",
    "data_frame = data_frame.rename(columns=new_col_names)\n",
    "\n",
    "data_frame_r = data_frame.replace('', np.nan)\n"
   ]
  },
  {
   "cell_type": "code",
   "execution_count": 29,
   "metadata": {
    "collapsed": false,
    "ExecuteTime": {
     "end_time": "2023-12-28T23:52:08.942600600Z",
     "start_time": "2023-12-28T23:52:08.937864Z"
    }
   },
   "outputs": [],
   "source": [
    "#Selecionando a parte de dados sociodemograficos;\n",
    "df_socioeconomico = data_frame_r.loc[:, 'B':'BP']\n",
    "\n",
    "# Parte do dataframe que contem o questionário WHOQOL\n",
    "df_whoqol = data_frame_r.loc[:, 'BR':'CU']\n",
    "\n",
    "# Parte do dataframe que contem o questionário de MHI\n",
    "df_mhi = data_frame_r.loc[:, 'CW':'EH']"
   ]
  },
  {
   "cell_type": "code",
   "execution_count": 30,
   "metadata": {
    "collapsed": false,
    "ExecuteTime": {
     "end_time": "2023-12-28T23:52:08.959062500Z",
     "start_time": "2023-12-28T23:52:08.941600800Z"
    }
   },
   "outputs": [
    {
     "name": "stdout",
     "output_type": "stream",
     "text": [
      "     B     C    D    E     F     G    H    I    J    K  ...   BG   BH   BI  \\\n",
      "0  1.0  25.0  1.0  1.0   1.0   1.0  0.0  1.0  1.0  1.0  ...  0.0  0.0  0.0   \n",
      "1  1.0  19.0  1.0  1.0   1.0  83.0  1.0  1.0  1.0  1.0  ...  0.0  0.0  0.0   \n",
      "2  1.0  28.0  5.0  1.0  23.0  23.0  1.0  1.0  1.0  1.0  ...  0.0  0.0  0.0   \n",
      "3  1.0  22.0  1.0  1.0  37.0   1.0  2.0  1.0  1.0  1.0  ...  0.0  0.0  0.0   \n",
      "4  1.0  21.0  1.0  1.0   6.0   1.0  2.0  3.0  5.0  1.0  ...  0.0  0.0  0.0   \n",
      "\n",
      "    BJ   BK   BL   BM   BN   BO   BP  \n",
      "0  0.0  0.0  0.0  0.0  0.0  0.0  8.0  \n",
      "1  0.0  0.0  0.0  0.0  0.0  0.0  7.0  \n",
      "2  0.0  0.0  0.0  0.0  0.0  0.0  7.0  \n",
      "3  0.0  0.0  0.0  0.0  0.0  0.0  6.0  \n",
      "4  0.0  0.0  0.0  0.0  0.0  1.0  7.0  \n",
      "\n",
      "[5 rows x 67 columns]\n",
      "    CW   CX   CY   CZ   DA   DB   DC   DD   DE   DF  ...   DY   DZ   EA   EB  \\\n",
      "0  4.0  4.0  4.0  6.0  4.0  4.0  4.0  5.0  5.0  3.0  ...  5.0  4.0  4.0  4.0   \n",
      "1  5.0  5.0  4.0  4.0  4.0  4.0  2.0  3.0  1.0  4.0  ...  2.0  2.0  4.0  5.0   \n",
      "2  3.0  4.0  1.0  3.0  3.0  2.0  3.0  1.0  2.0  3.0  ...  2.0  2.0  3.0  3.0   \n",
      "3  1.0  1.0  1.0  1.0  1.0  1.0  1.0  1.0  1.0  3.0  ...  1.0  2.0  2.0  3.0   \n",
      "4  3.0  4.0  3.0  3.0  2.0  3.0  3.0  3.0  1.0  4.0  ...  3.0  2.0  3.0  3.0   \n",
      "\n",
      "    EC   ED   EE   EF   EG   EH  \n",
      "0  2.0  4.0  4.0  4.0  5.0  6.0  \n",
      "1  4.0  4.0  5.0  5.0  1.0  2.0  \n",
      "2  1.0  2.0  2.0  4.0  3.0  3.0  \n",
      "3  1.0  1.0  5.0  1.0  1.0  1.0  \n",
      "4  2.0  2.0  2.0  3.0  2.0  2.0  \n",
      "\n",
      "[5 rows x 38 columns]\n"
     ]
    }
   ],
   "source": [
    "print(df_socioeconomico.head())\n",
    "print(df_mhi.head())"
   ]
  },
  {
   "cell_type": "markdown",
   "metadata": {
    "collapsed": false
   },
   "source": [
    "### 1.4 - Aplicando as modificações na base de dados;"
   ]
  },
  {
   "cell_type": "code",
   "execution_count": 31,
   "metadata": {
    "collapsed": false,
    "ExecuteTime": {
     "end_time": "2023-12-28T23:52:09.835657100Z",
     "start_time": "2023-12-28T23:52:09.825952500Z"
    }
   },
   "outputs": [],
   "source": [
    "# Definindo as colunas que serão removidas:\n",
    "rem_col_names = [ # Nome\n",
    "                 'G', # Local de nascimento [Temporariamente] <-\n",
    "                 'K', # Curso de graduação [Temporariamente] <-\n",
    "                 'P', # Indique os princiapis fatores de estresse\n",
    "                 'Q', 'R', 'S','T', # Fatores de estresse\n",
    "                 'V', # Qual o motivo do afastamento\n",
    "                 'W', 'X','Y','Z', # Motivos do afastamento\n",
    "                 'AF', # Caso receba auxilio...\n",
    "                 'AG', 'AH', 'AI', 'AJ', 'AK', 'AL', 'AM', # Auxilio\n",
    "                 'AQ', # Quais atividades de lazer\n",
    "                 'BA', # Faz uso continuo de algum medicamento\n",
    "                 'BB', 'BC', # Medicamentos\n",
    "                 'BE',# Qual substancia psicoativa\n",
    "                 'BF', 'BG', 'BH', 'BI', 'BJ', 'BK', 'BL', 'BM', 'BN' # Substancias psicoativas\n",
    "                 ]\n",
    "\n",
    "\n",
    "# Removendo as colunas\n",
    "df_socioeconomico = df_socioeconomico.drop(columns=rem_col_names, axis=1)"
   ]
  },
  {
   "cell_type": "code",
   "execution_count": 33,
   "metadata": {
    "collapsed": false,
    "ExecuteTime": {
     "end_time": "2023-12-28T23:52:34.093219400Z",
     "start_time": "2023-12-28T23:52:34.083409800Z"
    }
   },
   "outputs": [],
   "source": [
    "# Modificando os dados das colunas:\n",
    "\n",
    "# Coluna 'B' - Sexo; Está no formato 1 e 2, queremos binarizar, ou seja, 0 e 1.\n",
    "df_socioeconomico['B'] = df_socioeconomico['B'].apply(lambda x: 0 if x == 2 else x) # 0 - Masculino | 1 - Feminino\n",
    "\n",
    "# Coluna 'D'- Raça; Vária de 1 a 5 e será aplicado one-hot-encoding, ou seja, será criada uma coluna para cada valor.\n",
    "oh_raca = pd.get_dummies(df_socioeconomico['D'], prefix='D', dtype=int)\n",
    "df_socioeconomico = df_socioeconomico.drop('D', axis=1)\n",
    "df_socioeconomico = df_socioeconomico.join(oh_raca)\n",
    "\n",
    "# Coluna 'E' - Situacao Civil; Aplicando one-hot-encoding\n",
    "oh_situacao_civil = pd.get_dummies(df_socioeconomico['E'], prefix='E', dtype=int)\n",
    "df_socioeconomico = df_socioeconomico.drop('E', axis=1)\n",
    "df_socioeconomico = df_socioeconomico.join(oh_situacao_civil)\n",
    "\n",
    "# Coluna 'F' - Local de Origem; Se o local for diferente de '1' (Sobral) será substituido por '0' (Outro)\n",
    "df_socioeconomico['F'] = df_socioeconomico['F'].apply(lambda x: 0 if x != 1 else x)\n",
    "\n",
    "# Coluna 'I' - Com quem reside; Aplicando one-hot-encoding\n",
    "oh_reside = pd.get_dummies(df_socioeconomico['I'], prefix='I', dtype=int)\n",
    "df_socioeconomico = df_socioeconomico.drop('I', axis=1)\n",
    "df_socioeconomico = df_socioeconomico.join(oh_reside)\n",
    "\n",
    "# Coluna 'J' - Religiao; Aplicando one-hot-encoding\n",
    "oh_religiao = pd.get_dummies(df_socioeconomico['J'], prefix='J', dtype=int)\n",
    "df_socioeconomico = df_socioeconomico.drop('J', axis=1)\n",
    "df_socioeconomico = df_socioeconomico.join(oh_religiao)\n",
    "\n",
    "# Coluna 'AA' - Turno de estudo; Aplicando one-hot-encoding\n",
    "oh_turno = pd.get_dummies(df_socioeconomico['AA'], prefix='AA', dtype=int)\n",
    "df_socioeconomico = df_socioeconomico.drop('AA', axis=1)\n",
    "df_socioeconomico = df_socioeconomico.join(oh_turno)\n",
    "\n",
    "# Coluna 'AB' - Transporte; Aplicando one-hot-encoding\n",
    "oh_transporte = pd.get_dummies(df_socioeconomico['AB'], prefix='AB', dtype=int)\n",
    "df_socioeconomico = df_socioeconomico.drop('AB', axis=1)\n",
    "df_socioeconomico = df_socioeconomico.join(oh_transporte)\n"
   ]
  },
  {
   "cell_type": "code",
   "outputs": [
    {
     "data": {
      "text/plain": "       B     C    F    H     L    M    N    O    U   AC  ...  J_5.0  AA_1.0  \\\n0    1.0  25.0  1.0  0.0   5.0  3.0  1.0  0.0  1.0  0.0  ...      0       0   \n1    1.0  19.0  1.0  1.0   2.0  4.0  1.0  1.0  1.0  0.0  ...      0       0   \n2    1.0  28.0  0.0  1.0   1.0  2.0  0.0  1.0  1.0  0.0  ...      0       0   \n3    1.0  22.0  0.0  2.0   5.0  2.0  1.0  1.0  1.0  0.0  ...      0       0   \n4    1.0  21.0  0.0  2.0   7.0  5.0  0.0  1.0  1.0  0.0  ...      1       0   \n..   ...   ...  ...  ...   ...  ...  ...  ...  ...  ...  ...    ...     ...   \n877  0.0  24.0  0.0  1.0  10.0  5.0  1.0  1.0  0.0  0.0  ...      0       0   \n878  0.0  29.0  1.0  0.0   9.0  4.0  0.0  1.0  0.0  0.0  ...      0       1   \n879  0.0  22.0  0.0  1.0   8.0  3.0  0.0  1.0  0.0  1.0  ...      0       0   \n880  NaN   NaN  0.0  NaN   NaN  NaN  NaN  NaN  NaN  NaN  ...      0       0   \n881  NaN   NaN  0.0  NaN   NaN  NaN  NaN  NaN  NaN  NaN  ...      0       0   \n\n     AA_2.0  AA_3.0  AA_4.0  AB_0.0  AB_1.0  AB_2.0  AB_3.0  AB_4.0  \n0         1       0       0       0       0       0       1       0  \n1         0       0       1       0       0       1       0       0  \n2         1       0       0       0       0       1       0       0  \n3         0       0       1       0       1       0       0       0  \n4         0       0       1       0       0       0       0       1  \n..      ...     ...     ...     ...     ...     ...     ...     ...  \n877       0       1       0       0       0       1       0       0  \n878       0       0       0       0       0       1       0       0  \n879       0       0       1       0       0       1       0       0  \n880       0       0       0       0       0       0       0       0  \n881       0       0       0       0       0       0       0       0  \n\n[882 rows x 54 columns]",
      "text/html": "<div>\n<style scoped>\n    .dataframe tbody tr th:only-of-type {\n        vertical-align: middle;\n    }\n\n    .dataframe tbody tr th {\n        vertical-align: top;\n    }\n\n    .dataframe thead th {\n        text-align: right;\n    }\n</style>\n<table border=\"1\" class=\"dataframe\">\n  <thead>\n    <tr style=\"text-align: right;\">\n      <th></th>\n      <th>B</th>\n      <th>C</th>\n      <th>F</th>\n      <th>H</th>\n      <th>L</th>\n      <th>M</th>\n      <th>N</th>\n      <th>O</th>\n      <th>U</th>\n      <th>AC</th>\n      <th>...</th>\n      <th>J_5.0</th>\n      <th>AA_1.0</th>\n      <th>AA_2.0</th>\n      <th>AA_3.0</th>\n      <th>AA_4.0</th>\n      <th>AB_0.0</th>\n      <th>AB_1.0</th>\n      <th>AB_2.0</th>\n      <th>AB_3.0</th>\n      <th>AB_4.0</th>\n    </tr>\n  </thead>\n  <tbody>\n    <tr>\n      <th>0</th>\n      <td>1.0</td>\n      <td>25.0</td>\n      <td>1.0</td>\n      <td>0.0</td>\n      <td>5.0</td>\n      <td>3.0</td>\n      <td>1.0</td>\n      <td>0.0</td>\n      <td>1.0</td>\n      <td>0.0</td>\n      <td>...</td>\n      <td>0</td>\n      <td>0</td>\n      <td>1</td>\n      <td>0</td>\n      <td>0</td>\n      <td>0</td>\n      <td>0</td>\n      <td>0</td>\n      <td>1</td>\n      <td>0</td>\n    </tr>\n    <tr>\n      <th>1</th>\n      <td>1.0</td>\n      <td>19.0</td>\n      <td>1.0</td>\n      <td>1.0</td>\n      <td>2.0</td>\n      <td>4.0</td>\n      <td>1.0</td>\n      <td>1.0</td>\n      <td>1.0</td>\n      <td>0.0</td>\n      <td>...</td>\n      <td>0</td>\n      <td>0</td>\n      <td>0</td>\n      <td>0</td>\n      <td>1</td>\n      <td>0</td>\n      <td>0</td>\n      <td>1</td>\n      <td>0</td>\n      <td>0</td>\n    </tr>\n    <tr>\n      <th>2</th>\n      <td>1.0</td>\n      <td>28.0</td>\n      <td>0.0</td>\n      <td>1.0</td>\n      <td>1.0</td>\n      <td>2.0</td>\n      <td>0.0</td>\n      <td>1.0</td>\n      <td>1.0</td>\n      <td>0.0</td>\n      <td>...</td>\n      <td>0</td>\n      <td>0</td>\n      <td>1</td>\n      <td>0</td>\n      <td>0</td>\n      <td>0</td>\n      <td>0</td>\n      <td>1</td>\n      <td>0</td>\n      <td>0</td>\n    </tr>\n    <tr>\n      <th>3</th>\n      <td>1.0</td>\n      <td>22.0</td>\n      <td>0.0</td>\n      <td>2.0</td>\n      <td>5.0</td>\n      <td>2.0</td>\n      <td>1.0</td>\n      <td>1.0</td>\n      <td>1.0</td>\n      <td>0.0</td>\n      <td>...</td>\n      <td>0</td>\n      <td>0</td>\n      <td>0</td>\n      <td>0</td>\n      <td>1</td>\n      <td>0</td>\n      <td>1</td>\n      <td>0</td>\n      <td>0</td>\n      <td>0</td>\n    </tr>\n    <tr>\n      <th>4</th>\n      <td>1.0</td>\n      <td>21.0</td>\n      <td>0.0</td>\n      <td>2.0</td>\n      <td>7.0</td>\n      <td>5.0</td>\n      <td>0.0</td>\n      <td>1.0</td>\n      <td>1.0</td>\n      <td>0.0</td>\n      <td>...</td>\n      <td>1</td>\n      <td>0</td>\n      <td>0</td>\n      <td>0</td>\n      <td>1</td>\n      <td>0</td>\n      <td>0</td>\n      <td>0</td>\n      <td>0</td>\n      <td>1</td>\n    </tr>\n    <tr>\n      <th>...</th>\n      <td>...</td>\n      <td>...</td>\n      <td>...</td>\n      <td>...</td>\n      <td>...</td>\n      <td>...</td>\n      <td>...</td>\n      <td>...</td>\n      <td>...</td>\n      <td>...</td>\n      <td>...</td>\n      <td>...</td>\n      <td>...</td>\n      <td>...</td>\n      <td>...</td>\n      <td>...</td>\n      <td>...</td>\n      <td>...</td>\n      <td>...</td>\n      <td>...</td>\n      <td>...</td>\n    </tr>\n    <tr>\n      <th>877</th>\n      <td>0.0</td>\n      <td>24.0</td>\n      <td>0.0</td>\n      <td>1.0</td>\n      <td>10.0</td>\n      <td>5.0</td>\n      <td>1.0</td>\n      <td>1.0</td>\n      <td>0.0</td>\n      <td>0.0</td>\n      <td>...</td>\n      <td>0</td>\n      <td>0</td>\n      <td>0</td>\n      <td>1</td>\n      <td>0</td>\n      <td>0</td>\n      <td>0</td>\n      <td>1</td>\n      <td>0</td>\n      <td>0</td>\n    </tr>\n    <tr>\n      <th>878</th>\n      <td>0.0</td>\n      <td>29.0</td>\n      <td>1.0</td>\n      <td>0.0</td>\n      <td>9.0</td>\n      <td>4.0</td>\n      <td>0.0</td>\n      <td>1.0</td>\n      <td>0.0</td>\n      <td>0.0</td>\n      <td>...</td>\n      <td>0</td>\n      <td>1</td>\n      <td>0</td>\n      <td>0</td>\n      <td>0</td>\n      <td>0</td>\n      <td>0</td>\n      <td>1</td>\n      <td>0</td>\n      <td>0</td>\n    </tr>\n    <tr>\n      <th>879</th>\n      <td>0.0</td>\n      <td>22.0</td>\n      <td>0.0</td>\n      <td>1.0</td>\n      <td>8.0</td>\n      <td>3.0</td>\n      <td>0.0</td>\n      <td>1.0</td>\n      <td>0.0</td>\n      <td>1.0</td>\n      <td>...</td>\n      <td>0</td>\n      <td>0</td>\n      <td>0</td>\n      <td>0</td>\n      <td>1</td>\n      <td>0</td>\n      <td>0</td>\n      <td>1</td>\n      <td>0</td>\n      <td>0</td>\n    </tr>\n    <tr>\n      <th>880</th>\n      <td>NaN</td>\n      <td>NaN</td>\n      <td>0.0</td>\n      <td>NaN</td>\n      <td>NaN</td>\n      <td>NaN</td>\n      <td>NaN</td>\n      <td>NaN</td>\n      <td>NaN</td>\n      <td>NaN</td>\n      <td>...</td>\n      <td>0</td>\n      <td>0</td>\n      <td>0</td>\n      <td>0</td>\n      <td>0</td>\n      <td>0</td>\n      <td>0</td>\n      <td>0</td>\n      <td>0</td>\n      <td>0</td>\n    </tr>\n    <tr>\n      <th>881</th>\n      <td>NaN</td>\n      <td>NaN</td>\n      <td>0.0</td>\n      <td>NaN</td>\n      <td>NaN</td>\n      <td>NaN</td>\n      <td>NaN</td>\n      <td>NaN</td>\n      <td>NaN</td>\n      <td>NaN</td>\n      <td>...</td>\n      <td>0</td>\n      <td>0</td>\n      <td>0</td>\n      <td>0</td>\n      <td>0</td>\n      <td>0</td>\n      <td>0</td>\n      <td>0</td>\n      <td>0</td>\n      <td>0</td>\n    </tr>\n  </tbody>\n</table>\n<p>882 rows × 54 columns</p>\n</div>"
     },
     "execution_count": 35,
     "metadata": {},
     "output_type": "execute_result"
    }
   ],
   "source": [
    "df_socioeconomico"
   ],
   "metadata": {
    "collapsed": false,
    "ExecuteTime": {
     "end_time": "2023-12-28T23:53:03.511362900Z",
     "start_time": "2023-12-28T23:53:03.451497Z"
    }
   },
   "execution_count": 35
  },
  {
   "cell_type": "markdown",
   "metadata": {
    "collapsed": false
   },
   "source": [
    "### 1.5 - Adiconando as colunas do MHI;\n",
    "\n",
    "Preciso pegar o df_socioeconomico e concatenar com os elementos a partir de 61 da BASE2, BASE3 e BASE4.\n",
    "\n",
    "Com isso vou formar 4 dataframes, que vao ser salvos em csv.\n"
   ]
  },
  {
   "cell_type": "markdown",
   "metadata": {
    "collapsed": false
   },
   "source": [
    "#### 1.5.1 - Lendo as classes do WHOQOL;"
   ]
  },
  {
   "cell_type": "code",
   "execution_count": 13,
   "metadata": {
    "collapsed": false,
    "ExecuteTime": {
     "end_time": "2023-12-28T23:46:05.884407700Z",
     "start_time": "2023-12-28T23:46:05.863347500Z"
    }
   },
   "outputs": [
    {
     "data": {
      "text/plain": "     classes_whoqol\n0                 2\n1                 1\n2                 1\n3                 2\n4                 1\n..              ...\n874               3\n875               2\n876               2\n877               2\n878               2\n\n[879 rows x 1 columns]",
      "text/html": "<div>\n<style scoped>\n    .dataframe tbody tr th:only-of-type {\n        vertical-align: middle;\n    }\n\n    .dataframe tbody tr th {\n        vertical-align: top;\n    }\n\n    .dataframe thead th {\n        text-align: right;\n    }\n</style>\n<table border=\"1\" class=\"dataframe\">\n  <thead>\n    <tr style=\"text-align: right;\">\n      <th></th>\n      <th>classes_whoqol</th>\n    </tr>\n  </thead>\n  <tbody>\n    <tr>\n      <th>0</th>\n      <td>2</td>\n    </tr>\n    <tr>\n      <th>1</th>\n      <td>1</td>\n    </tr>\n    <tr>\n      <th>2</th>\n      <td>1</td>\n    </tr>\n    <tr>\n      <th>3</th>\n      <td>2</td>\n    </tr>\n    <tr>\n      <th>4</th>\n      <td>1</td>\n    </tr>\n    <tr>\n      <th>...</th>\n      <td>...</td>\n    </tr>\n    <tr>\n      <th>874</th>\n      <td>3</td>\n    </tr>\n    <tr>\n      <th>875</th>\n      <td>2</td>\n    </tr>\n    <tr>\n      <th>876</th>\n      <td>2</td>\n    </tr>\n    <tr>\n      <th>877</th>\n      <td>2</td>\n    </tr>\n    <tr>\n      <th>878</th>\n      <td>2</td>\n    </tr>\n  </tbody>\n</table>\n<p>879 rows × 1 columns</p>\n</div>"
     },
     "execution_count": 13,
     "metadata": {},
     "output_type": "execute_result"
    }
   ],
   "source": [
    "# Lendo as classes do WHOQOL\n",
    "df_classes_whoqol = pd.read_csv(r'Dados-Lucas-Santos\\Classes_WHOQOL.csv')\n",
    "df_classes_whoqol.columns = [\"classes_whoqol\"]\n",
    "df_classes_whoqol"
   ]
  },
  {
   "cell_type": "markdown",
   "metadata": {
    "collapsed": false
   },
   "source": [
    "#### 1.5.1 - Lendo a bases;\n",
    "BASE2 = [SOCIODEMOGRÁFICO ISM_GLOBAL]\n",
    "BASE3 = [SOCIODEMOGRÁFICO ISM_Ansiedade ISM_Depressao ISM_Emocional ISM_Afeto ISM_Lacos]\n",
    "BASE4 = [SOCIODEMOGRÁFICO ISM]\n"
   ]
  },
  {
   "cell_type": "code",
   "execution_count": 36,
   "metadata": {
    "collapsed": false,
    "ExecuteTime": {
     "end_time": "2023-12-28T23:54:07.429099200Z",
     "start_time": "2023-12-28T23:54:07.420729100Z"
    }
   },
   "outputs": [],
   "source": [
    "df_ism_global = pd.read_csv(r'Dados-Lucas-Santos\\BASE2.csv')\n",
    "\n",
    "df_ism_global = df_ism_global.iloc[:, 60:]\n",
    "df_base2 = df_socioeconomico.join(df_ism_global)\n",
    "df_base2 = df_base2.join(df_classes_whoqol)\n",
    "df_base2 = df_base2.dropna()\n"
   ]
  },
  {
   "cell_type": "code",
   "outputs": [
    {
     "data": {
      "text/plain": "       B     C    F    H     L    M    N    O    U   AC  ...  AA_2.0  AA_3.0  \\\n0    1.0  25.0  1.0  0.0   5.0  3.0  1.0  0.0  1.0  0.0  ...       1       0   \n1    1.0  19.0  1.0  1.0   2.0  4.0  1.0  1.0  1.0  0.0  ...       0       0   \n2    1.0  28.0  0.0  1.0   1.0  2.0  0.0  1.0  1.0  0.0  ...       1       0   \n3    1.0  22.0  0.0  2.0   5.0  2.0  1.0  1.0  1.0  0.0  ...       0       0   \n4    1.0  21.0  0.0  2.0   7.0  5.0  0.0  1.0  1.0  0.0  ...       0       0   \n..   ...   ...  ...  ...   ...  ...  ...  ...  ...  ...  ...     ...     ...   \n874  0.0  24.0  1.0  1.0  10.0  3.0  1.0  1.0  0.0  1.0  ...       0       1   \n875  0.0  20.0  0.0  1.0   3.0  2.0  1.0  1.0  0.0  0.0  ...       0       1   \n876  0.0  20.0  0.0  2.0   6.0  3.0  0.0  1.0  0.0  1.0  ...       0       1   \n877  0.0  24.0  0.0  1.0  10.0  5.0  1.0  1.0  0.0  0.0  ...       0       1   \n878  0.0  29.0  1.0  0.0   9.0  4.0  0.0  1.0  0.0  0.0  ...       0       0   \n\n     AA_4.0  AB_0.0  AB_1.0  AB_2.0  AB_3.0  AB_4.0    171  classes_whoqol  \n0         0       0       0       0       1       0  137.0             2.0  \n1         1       0       0       1       0       0  100.0             1.0  \n2         0       0       0       1       0       0   54.0             1.0  \n3         1       0       1       0       0       0  102.0             2.0  \n4         1       0       0       0       0       1  113.0             1.0  \n..      ...     ...     ...     ...     ...     ...    ...             ...  \n874       0       0       0       1       0       0  186.0             3.0  \n875       0       0       0       1       0       0  141.0             2.0  \n876       0       0       1       0       0       0  139.0             2.0  \n877       0       0       0       1       0       0  114.0             2.0  \n878       0       0       0       1       0       0  117.0             2.0  \n\n[871 rows x 56 columns]",
      "text/html": "<div>\n<style scoped>\n    .dataframe tbody tr th:only-of-type {\n        vertical-align: middle;\n    }\n\n    .dataframe tbody tr th {\n        vertical-align: top;\n    }\n\n    .dataframe thead th {\n        text-align: right;\n    }\n</style>\n<table border=\"1\" class=\"dataframe\">\n  <thead>\n    <tr style=\"text-align: right;\">\n      <th></th>\n      <th>B</th>\n      <th>C</th>\n      <th>F</th>\n      <th>H</th>\n      <th>L</th>\n      <th>M</th>\n      <th>N</th>\n      <th>O</th>\n      <th>U</th>\n      <th>AC</th>\n      <th>...</th>\n      <th>AA_2.0</th>\n      <th>AA_3.0</th>\n      <th>AA_4.0</th>\n      <th>AB_0.0</th>\n      <th>AB_1.0</th>\n      <th>AB_2.0</th>\n      <th>AB_3.0</th>\n      <th>AB_4.0</th>\n      <th>171</th>\n      <th>classes_whoqol</th>\n    </tr>\n  </thead>\n  <tbody>\n    <tr>\n      <th>0</th>\n      <td>1.0</td>\n      <td>25.0</td>\n      <td>1.0</td>\n      <td>0.0</td>\n      <td>5.0</td>\n      <td>3.0</td>\n      <td>1.0</td>\n      <td>0.0</td>\n      <td>1.0</td>\n      <td>0.0</td>\n      <td>...</td>\n      <td>1</td>\n      <td>0</td>\n      <td>0</td>\n      <td>0</td>\n      <td>0</td>\n      <td>0</td>\n      <td>1</td>\n      <td>0</td>\n      <td>137.0</td>\n      <td>2.0</td>\n    </tr>\n    <tr>\n      <th>1</th>\n      <td>1.0</td>\n      <td>19.0</td>\n      <td>1.0</td>\n      <td>1.0</td>\n      <td>2.0</td>\n      <td>4.0</td>\n      <td>1.0</td>\n      <td>1.0</td>\n      <td>1.0</td>\n      <td>0.0</td>\n      <td>...</td>\n      <td>0</td>\n      <td>0</td>\n      <td>1</td>\n      <td>0</td>\n      <td>0</td>\n      <td>1</td>\n      <td>0</td>\n      <td>0</td>\n      <td>100.0</td>\n      <td>1.0</td>\n    </tr>\n    <tr>\n      <th>2</th>\n      <td>1.0</td>\n      <td>28.0</td>\n      <td>0.0</td>\n      <td>1.0</td>\n      <td>1.0</td>\n      <td>2.0</td>\n      <td>0.0</td>\n      <td>1.0</td>\n      <td>1.0</td>\n      <td>0.0</td>\n      <td>...</td>\n      <td>1</td>\n      <td>0</td>\n      <td>0</td>\n      <td>0</td>\n      <td>0</td>\n      <td>1</td>\n      <td>0</td>\n      <td>0</td>\n      <td>54.0</td>\n      <td>1.0</td>\n    </tr>\n    <tr>\n      <th>3</th>\n      <td>1.0</td>\n      <td>22.0</td>\n      <td>0.0</td>\n      <td>2.0</td>\n      <td>5.0</td>\n      <td>2.0</td>\n      <td>1.0</td>\n      <td>1.0</td>\n      <td>1.0</td>\n      <td>0.0</td>\n      <td>...</td>\n      <td>0</td>\n      <td>0</td>\n      <td>1</td>\n      <td>0</td>\n      <td>1</td>\n      <td>0</td>\n      <td>0</td>\n      <td>0</td>\n      <td>102.0</td>\n      <td>2.0</td>\n    </tr>\n    <tr>\n      <th>4</th>\n      <td>1.0</td>\n      <td>21.0</td>\n      <td>0.0</td>\n      <td>2.0</td>\n      <td>7.0</td>\n      <td>5.0</td>\n      <td>0.0</td>\n      <td>1.0</td>\n      <td>1.0</td>\n      <td>0.0</td>\n      <td>...</td>\n      <td>0</td>\n      <td>0</td>\n      <td>1</td>\n      <td>0</td>\n      <td>0</td>\n      <td>0</td>\n      <td>0</td>\n      <td>1</td>\n      <td>113.0</td>\n      <td>1.0</td>\n    </tr>\n    <tr>\n      <th>...</th>\n      <td>...</td>\n      <td>...</td>\n      <td>...</td>\n      <td>...</td>\n      <td>...</td>\n      <td>...</td>\n      <td>...</td>\n      <td>...</td>\n      <td>...</td>\n      <td>...</td>\n      <td>...</td>\n      <td>...</td>\n      <td>...</td>\n      <td>...</td>\n      <td>...</td>\n      <td>...</td>\n      <td>...</td>\n      <td>...</td>\n      <td>...</td>\n      <td>...</td>\n      <td>...</td>\n    </tr>\n    <tr>\n      <th>874</th>\n      <td>0.0</td>\n      <td>24.0</td>\n      <td>1.0</td>\n      <td>1.0</td>\n      <td>10.0</td>\n      <td>3.0</td>\n      <td>1.0</td>\n      <td>1.0</td>\n      <td>0.0</td>\n      <td>1.0</td>\n      <td>...</td>\n      <td>0</td>\n      <td>1</td>\n      <td>0</td>\n      <td>0</td>\n      <td>0</td>\n      <td>1</td>\n      <td>0</td>\n      <td>0</td>\n      <td>186.0</td>\n      <td>3.0</td>\n    </tr>\n    <tr>\n      <th>875</th>\n      <td>0.0</td>\n      <td>20.0</td>\n      <td>0.0</td>\n      <td>1.0</td>\n      <td>3.0</td>\n      <td>2.0</td>\n      <td>1.0</td>\n      <td>1.0</td>\n      <td>0.0</td>\n      <td>0.0</td>\n      <td>...</td>\n      <td>0</td>\n      <td>1</td>\n      <td>0</td>\n      <td>0</td>\n      <td>0</td>\n      <td>1</td>\n      <td>0</td>\n      <td>0</td>\n      <td>141.0</td>\n      <td>2.0</td>\n    </tr>\n    <tr>\n      <th>876</th>\n      <td>0.0</td>\n      <td>20.0</td>\n      <td>0.0</td>\n      <td>2.0</td>\n      <td>6.0</td>\n      <td>3.0</td>\n      <td>0.0</td>\n      <td>1.0</td>\n      <td>0.0</td>\n      <td>1.0</td>\n      <td>...</td>\n      <td>0</td>\n      <td>1</td>\n      <td>0</td>\n      <td>0</td>\n      <td>1</td>\n      <td>0</td>\n      <td>0</td>\n      <td>0</td>\n      <td>139.0</td>\n      <td>2.0</td>\n    </tr>\n    <tr>\n      <th>877</th>\n      <td>0.0</td>\n      <td>24.0</td>\n      <td>0.0</td>\n      <td>1.0</td>\n      <td>10.0</td>\n      <td>5.0</td>\n      <td>1.0</td>\n      <td>1.0</td>\n      <td>0.0</td>\n      <td>0.0</td>\n      <td>...</td>\n      <td>0</td>\n      <td>1</td>\n      <td>0</td>\n      <td>0</td>\n      <td>0</td>\n      <td>1</td>\n      <td>0</td>\n      <td>0</td>\n      <td>114.0</td>\n      <td>2.0</td>\n    </tr>\n    <tr>\n      <th>878</th>\n      <td>0.0</td>\n      <td>29.0</td>\n      <td>1.0</td>\n      <td>0.0</td>\n      <td>9.0</td>\n      <td>4.0</td>\n      <td>0.0</td>\n      <td>1.0</td>\n      <td>0.0</td>\n      <td>0.0</td>\n      <td>...</td>\n      <td>0</td>\n      <td>0</td>\n      <td>0</td>\n      <td>0</td>\n      <td>0</td>\n      <td>1</td>\n      <td>0</td>\n      <td>0</td>\n      <td>117.0</td>\n      <td>2.0</td>\n    </tr>\n  </tbody>\n</table>\n<p>871 rows × 56 columns</p>\n</div>"
     },
     "execution_count": 37,
     "metadata": {},
     "output_type": "execute_result"
    }
   ],
   "source": [
    "df_base2"
   ],
   "metadata": {
    "collapsed": false,
    "ExecuteTime": {
     "end_time": "2023-12-28T23:54:16.133387200Z",
     "start_time": "2023-12-28T23:54:16.113241300Z"
    }
   },
   "execution_count": 37
  },
  {
   "cell_type": "code",
   "outputs": [
    {
     "data": {
      "text/plain": "     1  25  1.1  0  0.1  0.2  0.3  1.2  0.4  0.5  ...  0.33  0.34  0.35  0.36  \\\n0    1  19    1  0    0    0    0    1    0    0  ...     0     0     0     0   \n1    1  28    0  0    0    0    1    1    0    0  ...     0     1     0     0   \n2    1  22    1  0    0    0    0    1    0    0  ...     0     1     0     0   \n3    1  21    1  0    0    0    0    1    0    0  ...     0     0     1     1   \n4    1  24    0  0    1    0    0    1    0    0  ...     0     1     0     0   \n..  ..  ..  ... ..  ...  ...  ...  ...  ...  ...  ...   ...   ...   ...   ...   \n874  0  20    1  0    0    0    0    1    0    0  ...     0     0     0     0   \n875  0  20    1  0    0    0    0    1    0    0  ...     0     0     0     0   \n876  0  24    1  0    0    0    0    1    0    0  ...     0     0     0     0   \n877  0  29    1  0    0    0    0    1    0    0  ...     0     0     0     0   \n878  0  22    1  0    0    0    0    1    0    0  ...     0     0     1     1   \n\n     8  43  24  44  51  9.1  \n0    7  37  14  33  40   12  \n1    7  23  15  25  28    9  \n2    6  18   7  13  12    5  \n3    7  26  11  26  28   11  \n4    9  23  14  34  28   14  \n..  ..  ..  ..  ..  ..  ...  \n874  6  48  24  45  51   17  \n875  4  32  21  38  38   12  \n876  6  37  20  36  33   13  \n877  8  22  15  35  31   13  \n878  6  34  18  27  32    6  \n\n[879 rows x 65 columns]",
      "text/html": "<div>\n<style scoped>\n    .dataframe tbody tr th:only-of-type {\n        vertical-align: middle;\n    }\n\n    .dataframe tbody tr th {\n        vertical-align: top;\n    }\n\n    .dataframe thead th {\n        text-align: right;\n    }\n</style>\n<table border=\"1\" class=\"dataframe\">\n  <thead>\n    <tr style=\"text-align: right;\">\n      <th></th>\n      <th>1</th>\n      <th>25</th>\n      <th>1.1</th>\n      <th>0</th>\n      <th>0.1</th>\n      <th>0.2</th>\n      <th>0.3</th>\n      <th>1.2</th>\n      <th>0.4</th>\n      <th>0.5</th>\n      <th>...</th>\n      <th>0.33</th>\n      <th>0.34</th>\n      <th>0.35</th>\n      <th>0.36</th>\n      <th>8</th>\n      <th>43</th>\n      <th>24</th>\n      <th>44</th>\n      <th>51</th>\n      <th>9.1</th>\n    </tr>\n  </thead>\n  <tbody>\n    <tr>\n      <th>0</th>\n      <td>1</td>\n      <td>19</td>\n      <td>1</td>\n      <td>0</td>\n      <td>0</td>\n      <td>0</td>\n      <td>0</td>\n      <td>1</td>\n      <td>0</td>\n      <td>0</td>\n      <td>...</td>\n      <td>0</td>\n      <td>0</td>\n      <td>0</td>\n      <td>0</td>\n      <td>7</td>\n      <td>37</td>\n      <td>14</td>\n      <td>33</td>\n      <td>40</td>\n      <td>12</td>\n    </tr>\n    <tr>\n      <th>1</th>\n      <td>1</td>\n      <td>28</td>\n      <td>0</td>\n      <td>0</td>\n      <td>0</td>\n      <td>0</td>\n      <td>1</td>\n      <td>1</td>\n      <td>0</td>\n      <td>0</td>\n      <td>...</td>\n      <td>0</td>\n      <td>1</td>\n      <td>0</td>\n      <td>0</td>\n      <td>7</td>\n      <td>23</td>\n      <td>15</td>\n      <td>25</td>\n      <td>28</td>\n      <td>9</td>\n    </tr>\n    <tr>\n      <th>2</th>\n      <td>1</td>\n      <td>22</td>\n      <td>1</td>\n      <td>0</td>\n      <td>0</td>\n      <td>0</td>\n      <td>0</td>\n      <td>1</td>\n      <td>0</td>\n      <td>0</td>\n      <td>...</td>\n      <td>0</td>\n      <td>1</td>\n      <td>0</td>\n      <td>0</td>\n      <td>6</td>\n      <td>18</td>\n      <td>7</td>\n      <td>13</td>\n      <td>12</td>\n      <td>5</td>\n    </tr>\n    <tr>\n      <th>3</th>\n      <td>1</td>\n      <td>21</td>\n      <td>1</td>\n      <td>0</td>\n      <td>0</td>\n      <td>0</td>\n      <td>0</td>\n      <td>1</td>\n      <td>0</td>\n      <td>0</td>\n      <td>...</td>\n      <td>0</td>\n      <td>0</td>\n      <td>1</td>\n      <td>1</td>\n      <td>7</td>\n      <td>26</td>\n      <td>11</td>\n      <td>26</td>\n      <td>28</td>\n      <td>11</td>\n    </tr>\n    <tr>\n      <th>4</th>\n      <td>1</td>\n      <td>24</td>\n      <td>0</td>\n      <td>0</td>\n      <td>1</td>\n      <td>0</td>\n      <td>0</td>\n      <td>1</td>\n      <td>0</td>\n      <td>0</td>\n      <td>...</td>\n      <td>0</td>\n      <td>1</td>\n      <td>0</td>\n      <td>0</td>\n      <td>9</td>\n      <td>23</td>\n      <td>14</td>\n      <td>34</td>\n      <td>28</td>\n      <td>14</td>\n    </tr>\n    <tr>\n      <th>...</th>\n      <td>...</td>\n      <td>...</td>\n      <td>...</td>\n      <td>...</td>\n      <td>...</td>\n      <td>...</td>\n      <td>...</td>\n      <td>...</td>\n      <td>...</td>\n      <td>...</td>\n      <td>...</td>\n      <td>...</td>\n      <td>...</td>\n      <td>...</td>\n      <td>...</td>\n      <td>...</td>\n      <td>...</td>\n      <td>...</td>\n      <td>...</td>\n      <td>...</td>\n      <td>...</td>\n    </tr>\n    <tr>\n      <th>874</th>\n      <td>0</td>\n      <td>20</td>\n      <td>1</td>\n      <td>0</td>\n      <td>0</td>\n      <td>0</td>\n      <td>0</td>\n      <td>1</td>\n      <td>0</td>\n      <td>0</td>\n      <td>...</td>\n      <td>0</td>\n      <td>0</td>\n      <td>0</td>\n      <td>0</td>\n      <td>6</td>\n      <td>48</td>\n      <td>24</td>\n      <td>45</td>\n      <td>51</td>\n      <td>17</td>\n    </tr>\n    <tr>\n      <th>875</th>\n      <td>0</td>\n      <td>20</td>\n      <td>1</td>\n      <td>0</td>\n      <td>0</td>\n      <td>0</td>\n      <td>0</td>\n      <td>1</td>\n      <td>0</td>\n      <td>0</td>\n      <td>...</td>\n      <td>0</td>\n      <td>0</td>\n      <td>0</td>\n      <td>0</td>\n      <td>4</td>\n      <td>32</td>\n      <td>21</td>\n      <td>38</td>\n      <td>38</td>\n      <td>12</td>\n    </tr>\n    <tr>\n      <th>876</th>\n      <td>0</td>\n      <td>24</td>\n      <td>1</td>\n      <td>0</td>\n      <td>0</td>\n      <td>0</td>\n      <td>0</td>\n      <td>1</td>\n      <td>0</td>\n      <td>0</td>\n      <td>...</td>\n      <td>0</td>\n      <td>0</td>\n      <td>0</td>\n      <td>0</td>\n      <td>6</td>\n      <td>37</td>\n      <td>20</td>\n      <td>36</td>\n      <td>33</td>\n      <td>13</td>\n    </tr>\n    <tr>\n      <th>877</th>\n      <td>0</td>\n      <td>29</td>\n      <td>1</td>\n      <td>0</td>\n      <td>0</td>\n      <td>0</td>\n      <td>0</td>\n      <td>1</td>\n      <td>0</td>\n      <td>0</td>\n      <td>...</td>\n      <td>0</td>\n      <td>0</td>\n      <td>0</td>\n      <td>0</td>\n      <td>8</td>\n      <td>22</td>\n      <td>15</td>\n      <td>35</td>\n      <td>31</td>\n      <td>13</td>\n    </tr>\n    <tr>\n      <th>878</th>\n      <td>0</td>\n      <td>22</td>\n      <td>1</td>\n      <td>0</td>\n      <td>0</td>\n      <td>0</td>\n      <td>0</td>\n      <td>1</td>\n      <td>0</td>\n      <td>0</td>\n      <td>...</td>\n      <td>0</td>\n      <td>0</td>\n      <td>1</td>\n      <td>1</td>\n      <td>6</td>\n      <td>34</td>\n      <td>18</td>\n      <td>27</td>\n      <td>32</td>\n      <td>6</td>\n    </tr>\n  </tbody>\n</table>\n<p>879 rows × 65 columns</p>\n</div>"
     },
     "execution_count": 48,
     "metadata": {},
     "output_type": "execute_result"
    }
   ],
   "source": [
    "# [SOCIODEMOGRÁFICO ISM_Ansiedade ISM_Depressao ISM_Emocional ISM_Afeto ISM_Lacos]\n",
    "df_somas_ism = pd.read_csv(r'Dados-Lucas-Santos\\BASE3.csv')\n",
    "df_somas_ism"
   ],
   "metadata": {
    "collapsed": false,
    "ExecuteTime": {
     "end_time": "2023-12-28T23:58:03.390236900Z",
     "start_time": "2023-12-28T23:58:03.372980600Z"
    }
   },
   "execution_count": 48
  },
  {
   "cell_type": "code",
   "outputs": [],
   "source": [
    "df_somas_ism = df_somas_ism.iloc[:,60:]"
   ],
   "metadata": {
    "collapsed": false,
    "ExecuteTime": {
     "end_time": "2023-12-28T23:58:03.794452200Z",
     "start_time": "2023-12-28T23:58:03.774937900Z"
    }
   },
   "execution_count": 49
  },
  {
   "cell_type": "code",
   "outputs": [
    {
     "data": {
      "text/plain": "       B     C    F    H     L    M    N    O    U   AC  ...  AB_1.0  AB_2.0  \\\n0    1.0  25.0  1.0  0.0   5.0  3.0  1.0  0.0  1.0  0.0  ...       0       0   \n1    1.0  19.0  1.0  1.0   2.0  4.0  1.0  1.0  1.0  0.0  ...       0       1   \n2    1.0  28.0  0.0  1.0   1.0  2.0  0.0  1.0  1.0  0.0  ...       0       1   \n3    1.0  22.0  0.0  2.0   5.0  2.0  1.0  1.0  1.0  0.0  ...       1       0   \n4    1.0  21.0  0.0  2.0   7.0  5.0  0.0  1.0  1.0  0.0  ...       0       0   \n..   ...   ...  ...  ...   ...  ...  ...  ...  ...  ...  ...     ...     ...   \n874  0.0  24.0  1.0  1.0  10.0  3.0  1.0  1.0  0.0  1.0  ...       0       1   \n875  0.0  20.0  0.0  1.0   3.0  2.0  1.0  1.0  0.0  0.0  ...       0       1   \n876  0.0  20.0  0.0  2.0   6.0  3.0  0.0  1.0  0.0  1.0  ...       1       0   \n877  0.0  24.0  0.0  1.0  10.0  5.0  1.0  1.0  0.0  0.0  ...       0       1   \n878  0.0  29.0  1.0  0.0   9.0  4.0  0.0  1.0  0.0  0.0  ...       0       1   \n\n     AB_3.0  AB_4.0    43    24    44    51   9.1  classes_whoqol  \n0         1       0  37.0  14.0  33.0  40.0  12.0             2.0  \n1         0       0  23.0  15.0  25.0  28.0   9.0             1.0  \n2         0       0  18.0   7.0  13.0  12.0   5.0             1.0  \n3         0       0  26.0  11.0  26.0  28.0  11.0             2.0  \n4         0       1  23.0  14.0  34.0  28.0  14.0             1.0  \n..      ...     ...   ...   ...   ...   ...   ...             ...  \n874       0       0  48.0  24.0  45.0  51.0  17.0             3.0  \n875       0       0  32.0  21.0  38.0  38.0  12.0             2.0  \n876       0       0  37.0  20.0  36.0  33.0  13.0             2.0  \n877       0       0  22.0  15.0  35.0  31.0  13.0             2.0  \n878       0       0  34.0  18.0  27.0  32.0   6.0             2.0  \n\n[871 rows x 60 columns]",
      "text/html": "<div>\n<style scoped>\n    .dataframe tbody tr th:only-of-type {\n        vertical-align: middle;\n    }\n\n    .dataframe tbody tr th {\n        vertical-align: top;\n    }\n\n    .dataframe thead th {\n        text-align: right;\n    }\n</style>\n<table border=\"1\" class=\"dataframe\">\n  <thead>\n    <tr style=\"text-align: right;\">\n      <th></th>\n      <th>B</th>\n      <th>C</th>\n      <th>F</th>\n      <th>H</th>\n      <th>L</th>\n      <th>M</th>\n      <th>N</th>\n      <th>O</th>\n      <th>U</th>\n      <th>AC</th>\n      <th>...</th>\n      <th>AB_1.0</th>\n      <th>AB_2.0</th>\n      <th>AB_3.0</th>\n      <th>AB_4.0</th>\n      <th>43</th>\n      <th>24</th>\n      <th>44</th>\n      <th>51</th>\n      <th>9.1</th>\n      <th>classes_whoqol</th>\n    </tr>\n  </thead>\n  <tbody>\n    <tr>\n      <th>0</th>\n      <td>1.0</td>\n      <td>25.0</td>\n      <td>1.0</td>\n      <td>0.0</td>\n      <td>5.0</td>\n      <td>3.0</td>\n      <td>1.0</td>\n      <td>0.0</td>\n      <td>1.0</td>\n      <td>0.0</td>\n      <td>...</td>\n      <td>0</td>\n      <td>0</td>\n      <td>1</td>\n      <td>0</td>\n      <td>37.0</td>\n      <td>14.0</td>\n      <td>33.0</td>\n      <td>40.0</td>\n      <td>12.0</td>\n      <td>2.0</td>\n    </tr>\n    <tr>\n      <th>1</th>\n      <td>1.0</td>\n      <td>19.0</td>\n      <td>1.0</td>\n      <td>1.0</td>\n      <td>2.0</td>\n      <td>4.0</td>\n      <td>1.0</td>\n      <td>1.0</td>\n      <td>1.0</td>\n      <td>0.0</td>\n      <td>...</td>\n      <td>0</td>\n      <td>1</td>\n      <td>0</td>\n      <td>0</td>\n      <td>23.0</td>\n      <td>15.0</td>\n      <td>25.0</td>\n      <td>28.0</td>\n      <td>9.0</td>\n      <td>1.0</td>\n    </tr>\n    <tr>\n      <th>2</th>\n      <td>1.0</td>\n      <td>28.0</td>\n      <td>0.0</td>\n      <td>1.0</td>\n      <td>1.0</td>\n      <td>2.0</td>\n      <td>0.0</td>\n      <td>1.0</td>\n      <td>1.0</td>\n      <td>0.0</td>\n      <td>...</td>\n      <td>0</td>\n      <td>1</td>\n      <td>0</td>\n      <td>0</td>\n      <td>18.0</td>\n      <td>7.0</td>\n      <td>13.0</td>\n      <td>12.0</td>\n      <td>5.0</td>\n      <td>1.0</td>\n    </tr>\n    <tr>\n      <th>3</th>\n      <td>1.0</td>\n      <td>22.0</td>\n      <td>0.0</td>\n      <td>2.0</td>\n      <td>5.0</td>\n      <td>2.0</td>\n      <td>1.0</td>\n      <td>1.0</td>\n      <td>1.0</td>\n      <td>0.0</td>\n      <td>...</td>\n      <td>1</td>\n      <td>0</td>\n      <td>0</td>\n      <td>0</td>\n      <td>26.0</td>\n      <td>11.0</td>\n      <td>26.0</td>\n      <td>28.0</td>\n      <td>11.0</td>\n      <td>2.0</td>\n    </tr>\n    <tr>\n      <th>4</th>\n      <td>1.0</td>\n      <td>21.0</td>\n      <td>0.0</td>\n      <td>2.0</td>\n      <td>7.0</td>\n      <td>5.0</td>\n      <td>0.0</td>\n      <td>1.0</td>\n      <td>1.0</td>\n      <td>0.0</td>\n      <td>...</td>\n      <td>0</td>\n      <td>0</td>\n      <td>0</td>\n      <td>1</td>\n      <td>23.0</td>\n      <td>14.0</td>\n      <td>34.0</td>\n      <td>28.0</td>\n      <td>14.0</td>\n      <td>1.0</td>\n    </tr>\n    <tr>\n      <th>...</th>\n      <td>...</td>\n      <td>...</td>\n      <td>...</td>\n      <td>...</td>\n      <td>...</td>\n      <td>...</td>\n      <td>...</td>\n      <td>...</td>\n      <td>...</td>\n      <td>...</td>\n      <td>...</td>\n      <td>...</td>\n      <td>...</td>\n      <td>...</td>\n      <td>...</td>\n      <td>...</td>\n      <td>...</td>\n      <td>...</td>\n      <td>...</td>\n      <td>...</td>\n      <td>...</td>\n    </tr>\n    <tr>\n      <th>874</th>\n      <td>0.0</td>\n      <td>24.0</td>\n      <td>1.0</td>\n      <td>1.0</td>\n      <td>10.0</td>\n      <td>3.0</td>\n      <td>1.0</td>\n      <td>1.0</td>\n      <td>0.0</td>\n      <td>1.0</td>\n      <td>...</td>\n      <td>0</td>\n      <td>1</td>\n      <td>0</td>\n      <td>0</td>\n      <td>48.0</td>\n      <td>24.0</td>\n      <td>45.0</td>\n      <td>51.0</td>\n      <td>17.0</td>\n      <td>3.0</td>\n    </tr>\n    <tr>\n      <th>875</th>\n      <td>0.0</td>\n      <td>20.0</td>\n      <td>0.0</td>\n      <td>1.0</td>\n      <td>3.0</td>\n      <td>2.0</td>\n      <td>1.0</td>\n      <td>1.0</td>\n      <td>0.0</td>\n      <td>0.0</td>\n      <td>...</td>\n      <td>0</td>\n      <td>1</td>\n      <td>0</td>\n      <td>0</td>\n      <td>32.0</td>\n      <td>21.0</td>\n      <td>38.0</td>\n      <td>38.0</td>\n      <td>12.0</td>\n      <td>2.0</td>\n    </tr>\n    <tr>\n      <th>876</th>\n      <td>0.0</td>\n      <td>20.0</td>\n      <td>0.0</td>\n      <td>2.0</td>\n      <td>6.0</td>\n      <td>3.0</td>\n      <td>0.0</td>\n      <td>1.0</td>\n      <td>0.0</td>\n      <td>1.0</td>\n      <td>...</td>\n      <td>1</td>\n      <td>0</td>\n      <td>0</td>\n      <td>0</td>\n      <td>37.0</td>\n      <td>20.0</td>\n      <td>36.0</td>\n      <td>33.0</td>\n      <td>13.0</td>\n      <td>2.0</td>\n    </tr>\n    <tr>\n      <th>877</th>\n      <td>0.0</td>\n      <td>24.0</td>\n      <td>0.0</td>\n      <td>1.0</td>\n      <td>10.0</td>\n      <td>5.0</td>\n      <td>1.0</td>\n      <td>1.0</td>\n      <td>0.0</td>\n      <td>0.0</td>\n      <td>...</td>\n      <td>0</td>\n      <td>1</td>\n      <td>0</td>\n      <td>0</td>\n      <td>22.0</td>\n      <td>15.0</td>\n      <td>35.0</td>\n      <td>31.0</td>\n      <td>13.0</td>\n      <td>2.0</td>\n    </tr>\n    <tr>\n      <th>878</th>\n      <td>0.0</td>\n      <td>29.0</td>\n      <td>1.0</td>\n      <td>0.0</td>\n      <td>9.0</td>\n      <td>4.0</td>\n      <td>0.0</td>\n      <td>1.0</td>\n      <td>0.0</td>\n      <td>0.0</td>\n      <td>...</td>\n      <td>0</td>\n      <td>1</td>\n      <td>0</td>\n      <td>0</td>\n      <td>34.0</td>\n      <td>18.0</td>\n      <td>27.0</td>\n      <td>32.0</td>\n      <td>6.0</td>\n      <td>2.0</td>\n    </tr>\n  </tbody>\n</table>\n<p>871 rows × 60 columns</p>\n</div>"
     },
     "execution_count": 50,
     "metadata": {},
     "output_type": "execute_result"
    }
   ],
   "source": [
    "df_base3 = df_socioeconomico.join(df_somas_ism)\n",
    "df_base3 = df_base3.join(df_classes_whoqol)\n",
    "df_base3 = df_base3.dropna()\n",
    "df_base3"
   ],
   "metadata": {
    "collapsed": false,
    "ExecuteTime": {
     "end_time": "2023-12-28T23:58:04.339934Z",
     "start_time": "2023-12-28T23:58:04.319408900Z"
    }
   },
   "execution_count": 50
  },
  {
   "cell_type": "code",
   "outputs": [
    {
     "data": {
      "text/plain": "       B     C    F    H     L    M    N    O    U   AC  ...  4.9  4.10  4.11  \\\n0    1.0  25.0  1.0  0.0   5.0  3.0  1.0  0.0  1.0  0.0  ...  2.0   4.0   5.0   \n1    1.0  19.0  1.0  1.0   2.0  4.0  1.0  1.0  1.0  0.0  ...  2.0   3.0   3.0   \n2    1.0  28.0  0.0  1.0   1.0  2.0  0.0  1.0  1.0  0.0  ...  2.0   2.0   3.0   \n3    1.0  22.0  0.0  2.0   5.0  2.0  1.0  1.0  1.0  0.0  ...  2.0   3.0   3.0   \n4    1.0  21.0  0.0  2.0   7.0  5.0  0.0  1.0  1.0  0.0  ...  2.0   3.0   3.0   \n..   ...   ...  ...  ...   ...  ...  ...  ...  ...  ...  ...  ...   ...   ...   \n874  0.0  24.0  1.0  1.0  10.0  3.0  1.0  1.0  0.0  1.0  ...  4.0   5.0   5.0   \n875  0.0  20.0  0.0  1.0   3.0  2.0  1.0  1.0  0.0  0.0  ...  4.0   4.0   4.0   \n876  0.0  20.0  0.0  2.0   6.0  3.0  0.0  1.0  0.0  1.0  ...  4.0   2.0   4.0   \n877  0.0  24.0  0.0  1.0  10.0  5.0  1.0  1.0  0.0  0.0  ...  2.0   3.0   2.0   \n878  0.0  29.0  1.0  0.0   9.0  4.0  0.0  1.0  0.0  0.0  ...  4.0   4.0   2.0   \n\n     2.1  4.12  4.13  4.14  5.14  6.5  classes_whoqol  \n0    4.0   4.0   5.0   5.0   1.0  2.0             2.0  \n1    1.0   2.0   2.0   4.0   3.0  3.0             1.0  \n2    1.0   1.0   5.0   1.0   1.0  1.0             1.0  \n3    2.0   2.0   2.0   3.0   2.0  2.0             2.0  \n4    1.0   3.0   2.0   3.0   2.0  1.0             1.0  \n..   ...   ...   ...   ...   ...  ...             ...  \n874  5.0   5.0   5.0   5.0   3.0  5.0             3.0  \n875  2.0   4.0   3.0   4.0   3.0  5.0             2.0  \n876  3.0   3.0   3.0   4.0   3.0  4.0             2.0  \n877  1.0   3.0   3.0   4.0   3.0  3.0             2.0  \n878  4.0   3.0   5.0   3.0   3.0  4.0             2.0  \n\n[871 rows x 93 columns]",
      "text/html": "<div>\n<style scoped>\n    .dataframe tbody tr th:only-of-type {\n        vertical-align: middle;\n    }\n\n    .dataframe tbody tr th {\n        vertical-align: top;\n    }\n\n    .dataframe thead th {\n        text-align: right;\n    }\n</style>\n<table border=\"1\" class=\"dataframe\">\n  <thead>\n    <tr style=\"text-align: right;\">\n      <th></th>\n      <th>B</th>\n      <th>C</th>\n      <th>F</th>\n      <th>H</th>\n      <th>L</th>\n      <th>M</th>\n      <th>N</th>\n      <th>O</th>\n      <th>U</th>\n      <th>AC</th>\n      <th>...</th>\n      <th>4.9</th>\n      <th>4.10</th>\n      <th>4.11</th>\n      <th>2.1</th>\n      <th>4.12</th>\n      <th>4.13</th>\n      <th>4.14</th>\n      <th>5.14</th>\n      <th>6.5</th>\n      <th>classes_whoqol</th>\n    </tr>\n  </thead>\n  <tbody>\n    <tr>\n      <th>0</th>\n      <td>1.0</td>\n      <td>25.0</td>\n      <td>1.0</td>\n      <td>0.0</td>\n      <td>5.0</td>\n      <td>3.0</td>\n      <td>1.0</td>\n      <td>0.0</td>\n      <td>1.0</td>\n      <td>0.0</td>\n      <td>...</td>\n      <td>2.0</td>\n      <td>4.0</td>\n      <td>5.0</td>\n      <td>4.0</td>\n      <td>4.0</td>\n      <td>5.0</td>\n      <td>5.0</td>\n      <td>1.0</td>\n      <td>2.0</td>\n      <td>2.0</td>\n    </tr>\n    <tr>\n      <th>1</th>\n      <td>1.0</td>\n      <td>19.0</td>\n      <td>1.0</td>\n      <td>1.0</td>\n      <td>2.0</td>\n      <td>4.0</td>\n      <td>1.0</td>\n      <td>1.0</td>\n      <td>1.0</td>\n      <td>0.0</td>\n      <td>...</td>\n      <td>2.0</td>\n      <td>3.0</td>\n      <td>3.0</td>\n      <td>1.0</td>\n      <td>2.0</td>\n      <td>2.0</td>\n      <td>4.0</td>\n      <td>3.0</td>\n      <td>3.0</td>\n      <td>1.0</td>\n    </tr>\n    <tr>\n      <th>2</th>\n      <td>1.0</td>\n      <td>28.0</td>\n      <td>0.0</td>\n      <td>1.0</td>\n      <td>1.0</td>\n      <td>2.0</td>\n      <td>0.0</td>\n      <td>1.0</td>\n      <td>1.0</td>\n      <td>0.0</td>\n      <td>...</td>\n      <td>2.0</td>\n      <td>2.0</td>\n      <td>3.0</td>\n      <td>1.0</td>\n      <td>1.0</td>\n      <td>5.0</td>\n      <td>1.0</td>\n      <td>1.0</td>\n      <td>1.0</td>\n      <td>1.0</td>\n    </tr>\n    <tr>\n      <th>3</th>\n      <td>1.0</td>\n      <td>22.0</td>\n      <td>0.0</td>\n      <td>2.0</td>\n      <td>5.0</td>\n      <td>2.0</td>\n      <td>1.0</td>\n      <td>1.0</td>\n      <td>1.0</td>\n      <td>0.0</td>\n      <td>...</td>\n      <td>2.0</td>\n      <td>3.0</td>\n      <td>3.0</td>\n      <td>2.0</td>\n      <td>2.0</td>\n      <td>2.0</td>\n      <td>3.0</td>\n      <td>2.0</td>\n      <td>2.0</td>\n      <td>2.0</td>\n    </tr>\n    <tr>\n      <th>4</th>\n      <td>1.0</td>\n      <td>21.0</td>\n      <td>0.0</td>\n      <td>2.0</td>\n      <td>7.0</td>\n      <td>5.0</td>\n      <td>0.0</td>\n      <td>1.0</td>\n      <td>1.0</td>\n      <td>0.0</td>\n      <td>...</td>\n      <td>2.0</td>\n      <td>3.0</td>\n      <td>3.0</td>\n      <td>1.0</td>\n      <td>3.0</td>\n      <td>2.0</td>\n      <td>3.0</td>\n      <td>2.0</td>\n      <td>1.0</td>\n      <td>1.0</td>\n    </tr>\n    <tr>\n      <th>...</th>\n      <td>...</td>\n      <td>...</td>\n      <td>...</td>\n      <td>...</td>\n      <td>...</td>\n      <td>...</td>\n      <td>...</td>\n      <td>...</td>\n      <td>...</td>\n      <td>...</td>\n      <td>...</td>\n      <td>...</td>\n      <td>...</td>\n      <td>...</td>\n      <td>...</td>\n      <td>...</td>\n      <td>...</td>\n      <td>...</td>\n      <td>...</td>\n      <td>...</td>\n      <td>...</td>\n    </tr>\n    <tr>\n      <th>874</th>\n      <td>0.0</td>\n      <td>24.0</td>\n      <td>1.0</td>\n      <td>1.0</td>\n      <td>10.0</td>\n      <td>3.0</td>\n      <td>1.0</td>\n      <td>1.0</td>\n      <td>0.0</td>\n      <td>1.0</td>\n      <td>...</td>\n      <td>4.0</td>\n      <td>5.0</td>\n      <td>5.0</td>\n      <td>5.0</td>\n      <td>5.0</td>\n      <td>5.0</td>\n      <td>5.0</td>\n      <td>3.0</td>\n      <td>5.0</td>\n      <td>3.0</td>\n    </tr>\n    <tr>\n      <th>875</th>\n      <td>0.0</td>\n      <td>20.0</td>\n      <td>0.0</td>\n      <td>1.0</td>\n      <td>3.0</td>\n      <td>2.0</td>\n      <td>1.0</td>\n      <td>1.0</td>\n      <td>0.0</td>\n      <td>0.0</td>\n      <td>...</td>\n      <td>4.0</td>\n      <td>4.0</td>\n      <td>4.0</td>\n      <td>2.0</td>\n      <td>4.0</td>\n      <td>3.0</td>\n      <td>4.0</td>\n      <td>3.0</td>\n      <td>5.0</td>\n      <td>2.0</td>\n    </tr>\n    <tr>\n      <th>876</th>\n      <td>0.0</td>\n      <td>20.0</td>\n      <td>0.0</td>\n      <td>2.0</td>\n      <td>6.0</td>\n      <td>3.0</td>\n      <td>0.0</td>\n      <td>1.0</td>\n      <td>0.0</td>\n      <td>1.0</td>\n      <td>...</td>\n      <td>4.0</td>\n      <td>2.0</td>\n      <td>4.0</td>\n      <td>3.0</td>\n      <td>3.0</td>\n      <td>3.0</td>\n      <td>4.0</td>\n      <td>3.0</td>\n      <td>4.0</td>\n      <td>2.0</td>\n    </tr>\n    <tr>\n      <th>877</th>\n      <td>0.0</td>\n      <td>24.0</td>\n      <td>0.0</td>\n      <td>1.0</td>\n      <td>10.0</td>\n      <td>5.0</td>\n      <td>1.0</td>\n      <td>1.0</td>\n      <td>0.0</td>\n      <td>0.0</td>\n      <td>...</td>\n      <td>2.0</td>\n      <td>3.0</td>\n      <td>2.0</td>\n      <td>1.0</td>\n      <td>3.0</td>\n      <td>3.0</td>\n      <td>4.0</td>\n      <td>3.0</td>\n      <td>3.0</td>\n      <td>2.0</td>\n    </tr>\n    <tr>\n      <th>878</th>\n      <td>0.0</td>\n      <td>29.0</td>\n      <td>1.0</td>\n      <td>0.0</td>\n      <td>9.0</td>\n      <td>4.0</td>\n      <td>0.0</td>\n      <td>1.0</td>\n      <td>0.0</td>\n      <td>0.0</td>\n      <td>...</td>\n      <td>4.0</td>\n      <td>4.0</td>\n      <td>2.0</td>\n      <td>4.0</td>\n      <td>3.0</td>\n      <td>5.0</td>\n      <td>3.0</td>\n      <td>3.0</td>\n      <td>4.0</td>\n      <td>2.0</td>\n    </tr>\n  </tbody>\n</table>\n<p>871 rows × 93 columns</p>\n</div>"
     },
     "execution_count": 51,
     "metadata": {},
     "output_type": "execute_result"
    }
   ],
   "source": [
    "#BASE4 = [SOCIODEMOGRÁFICO ISM]\n",
    "df_ism_completo = pd.read_csv(r'Dados-Lucas-Santos\\BASE4.csv')\n",
    "df_ism_completo = df_ism_completo.iloc[:,60:]\n",
    "df_base4 = df_socioeconomico.join(df_ism_completo)\n",
    "df_base4 = df_base4.join(df_classes_whoqol)\n",
    "df_base4 = df_base4.dropna()\n",
    "df_base4"
   ],
   "metadata": {
    "collapsed": false,
    "ExecuteTime": {
     "end_time": "2023-12-28T23:58:19.750371400Z",
     "start_time": "2023-12-28T23:58:19.717939300Z"
    }
   },
   "execution_count": 51
  },
  {
   "cell_type": "markdown",
   "metadata": {
    "collapsed": false
   },
   "source": [
    "### 1.6 - Salvando os dados em csv;"
   ]
  },
  {
   "cell_type": "code",
   "execution_count": 52,
   "metadata": {
    "collapsed": false,
    "ExecuteTime": {
     "end_time": "2023-12-28T23:58:32.947752300Z",
     "start_time": "2023-12-28T23:58:32.903559100Z"
    }
   },
   "outputs": [],
   "source": [
    "# Salvando os dados em csv\n",
    "df_base2.to_csv(r'Datasets\\df_base2.csv', index=False)\n",
    "\n",
    "df_base3.to_csv(r'Datasets\\df_base3.csv', index=False)\n",
    "\n",
    "df_base4.to_csv(r'Datasets\\df_base4.csv', index=False)"
   ]
  },
  {
   "cell_type": "code",
   "execution_count": 53,
   "metadata": {
    "collapsed": false,
    "ExecuteTime": {
     "end_time": "2023-12-28T23:58:44.045503600Z",
     "start_time": "2023-12-28T23:58:44.030768600Z"
    }
   },
   "outputs": [],
   "source": [
    "df_base1 = df_socioeconomico.join(df_classes_whoqol)\n",
    "df_base1 = df_base1.dropna()\n",
    "\n",
    "df_base1.to_csv(r'Datasets\\df_base1.csv', index=False)"
   ]
  },
  {
   "cell_type": "code",
   "execution_count": 10,
   "outputs": [
    {
     "data": {
      "text/plain": "2.0    542\n1.0    226\n3.0    103\nName: classes_whoqol, dtype: int64"
     },
     "execution_count": 10,
     "metadata": {},
     "output_type": "execute_result"
    }
   ],
   "source": [
    "import pandas as pd\n",
    "# Read base4 and remove last collum\n",
    "base = pd.read_csv('/home/apo-pc/repos/Classificacao_MHI_BIC/Classificacao_DosSantos/Datasets/df_base4.csv')\n",
    "# Remove a ultima coluna e usa como target\n",
    "df_base4 = base.iloc[:, :-1]\n",
    "target = base['classes_whoqol']\n",
    "\n",
    "# Count number os classes of target\n",
    "target.value_counts()\n"
   ],
   "metadata": {
    "collapsed": false,
    "ExecuteTime": {
     "end_time": "2023-10-16T20:35:39.098470039Z",
     "start_time": "2023-10-16T20:35:39.026571332Z"
    }
   }
  },
  {
   "cell_type": "code",
   "execution_count": 11,
   "outputs": [
    {
     "data": {
      "text/plain": "Medio    574\nBaixo    149\nAlto     149\nName: Nivel_MHI, dtype: int64"
     },
     "execution_count": 11,
     "metadata": {},
     "output_type": "execute_result"
    }
   ],
   "source": [
    "\n",
    "\n",
    "df_base4 = df_base4.iloc[:, :-1]\n",
    "\n",
    "# Read another csv, and remove the 54 first collums, since they are not needed\n",
    "baseW = pd.read_csv('/home/apo-pc/repos/Classificacao_MHI_BIC/Codigos-Desenvolvimento/Datasets/df_social_whoqol_tratado_1.csv')\n",
    "whoqol = baseW.iloc[:, 54:]\n",
    "\n",
    "targetW = baseW['Nivel_MHI']\n",
    "targetW.value_counts()"
   ],
   "metadata": {
    "collapsed": false,
    "ExecuteTime": {
     "end_time": "2023-10-16T20:47:54.245524354Z",
     "start_time": "2023-10-16T20:47:54.204335823Z"
    }
   }
  },
  {
   "cell_type": "code",
   "execution_count": null,
   "outputs": [],
   "source": [
    "\n",
    "whoqol = whoqol.iloc[:, :-1]\n",
    "\n",
    "# Merge base4 and whoqol\n",
    "\n",
    "df_base4 = df_base4.join(whoqol)\n",
    "\n",
    "# Show stats\n",
    "df_base4.head()"
   ],
   "metadata": {
    "collapsed": false
   }
  },
  {
   "cell_type": "code",
   "execution_count": 3,
   "outputs": [
    {
     "data": {
      "text/plain": "(871, 122)"
     },
     "execution_count": 3,
     "metadata": {},
     "output_type": "execute_result"
    }
   ],
   "source": [
    "# Contar quatidade de colunas e linhas\n",
    "df_base4.shape"
   ],
   "metadata": {
    "collapsed": false,
    "ExecuteTime": {
     "end_time": "2023-10-16T20:28:36.920814677Z",
     "start_time": "2023-10-16T20:28:36.868140309Z"
    }
   }
  }
 ],
 "metadata": {
  "kernelspec": {
   "display_name": "Python 3 (ipykernel)",
   "language": "python",
   "name": "python3"
  },
  "language_info": {
   "codemirror_mode": {
    "name": "ipython",
    "version": 3
   },
   "file_extension": ".py",
   "mimetype": "text/x-python",
   "name": "python",
   "nbconvert_exporter": "python",
   "pygments_lexer": "ipython3",
   "version": "3.10.12"
  }
 },
 "nbformat": 4,
 "nbformat_minor": 4
}
