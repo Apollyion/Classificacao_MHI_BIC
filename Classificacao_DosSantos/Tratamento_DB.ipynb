{
 "cells": [
  {
   "cell_type": "markdown",
   "metadata": {
    "collapsed": false
   },
   "source": [
    "## 1 - Preparação dos Dados;"
   ]
  },
  {
   "cell_type": "markdown",
   "metadata": {
    "collapsed": false
   },
   "source": [
    "### 1.1 - Importando as bibliotecas necessárias;"
   ]
  },
  {
   "cell_type": "code",
   "execution_count": 2,
   "metadata": {
    "ExecuteTime": {
     "end_time": "2023-08-29T22:31:22.147359300Z",
     "start_time": "2023-08-29T22:31:21.681305100Z"
    },
    "collapsed": false
   },
   "outputs": [],
   "source": [
    "#Importando as bibliotecas necessárias para analisar os dados\n",
    "import pandas as pd\n",
    "import numpy as np\n",
    "#import matplotlib.pyplot as plt\n",
    "#import string\n",
    "import openpyxl.utils.cell as cell\n",
    "\n"
   ]
  },
  {
   "cell_type": "code",
   "execution_count": 3,
   "metadata": {
    "ExecuteTime": {
     "end_time": "2023-08-29T22:31:22.198777700Z",
     "start_time": "2023-08-29T22:31:22.150366900Z"
    },
    "collapsed": false
   },
   "outputs": [
    {
     "data": {
      "text/html": [
       "<div>\n",
       "<style scoped>\n",
       "    .dataframe tbody tr th:only-of-type {\n",
       "        vertical-align: middle;\n",
       "    }\n",
       "\n",
       "    .dataframe tbody tr th {\n",
       "        vertical-align: top;\n",
       "    }\n",
       "\n",
       "    .dataframe thead th {\n",
       "        text-align: right;\n",
       "    }\n",
       "</style>\n",
       "<table border=\"1\" class=\"dataframe\">\n",
       "  <thead>\n",
       "    <tr style=\"text-align: right;\">\n",
       "      <th></th>\n",
       "      <th>Atributo</th>\n",
       "      <th>Opções</th>\n",
       "    </tr>\n",
       "  </thead>\n",
       "  <tbody>\n",
       "    <tr>\n",
       "      <th>0</th>\n",
       "      <td>Sexo</td>\n",
       "      <td>Masculino, Feminino</td>\n",
       "    </tr>\n",
       "    <tr>\n",
       "      <th>1</th>\n",
       "      <td>Local de Origem (Mora em Sobral)</td>\n",
       "      <td>Mora em Sobral, Não mora em Sobral</td>\n",
       "    </tr>\n",
       "    <tr>\n",
       "      <th>2</th>\n",
       "      <td>Raça</td>\n",
       "      <td>Preto, Não sabe</td>\n",
       "    </tr>\n",
       "    <tr>\n",
       "      <th>3</th>\n",
       "      <td>Situação Civil</td>\n",
       "      <td>Solteiro, Não solteiro</td>\n",
       "    </tr>\n",
       "    <tr>\n",
       "      <th>4</th>\n",
       "      <td>Reside com</td>\n",
       "      <td>Sozinho, República Estudantil</td>\n",
       "    </tr>\n",
       "    <tr>\n",
       "      <th>5</th>\n",
       "      <td>Qual a sua religião</td>\n",
       "      <td>Outras/Sem religião</td>\n",
       "    </tr>\n",
       "    <tr>\n",
       "      <th>6</th>\n",
       "      <td>Reprovou Alguma Disciplina?</td>\n",
       "      <td>Sim, Não</td>\n",
       "    </tr>\n",
       "    <tr>\n",
       "      <th>7</th>\n",
       "      <td>Considera o Curso Estressante?</td>\n",
       "      <td>Sim, Não</td>\n",
       "    </tr>\n",
       "    <tr>\n",
       "      <th>8</th>\n",
       "      <td>Recebe Bolsa ou Auxílio?</td>\n",
       "      <td>Sim, Não</td>\n",
       "    </tr>\n",
       "    <tr>\n",
       "      <th>9</th>\n",
       "      <td>Qual atividade de lazer pratica</td>\n",
       "      <td>Ouvir Música, Assistir Filme/Série, Passear/Vi...</td>\n",
       "    </tr>\n",
       "    <tr>\n",
       "      <th>10</th>\n",
       "      <td>Faz uso contínuo de medicamento?</td>\n",
       "      <td>Sim, Não</td>\n",
       "    </tr>\n",
       "    <tr>\n",
       "      <th>11</th>\n",
       "      <td>Fez uso de uma substância Psicoativa?</td>\n",
       "      <td>Sim, Não</td>\n",
       "    </tr>\n",
       "    <tr>\n",
       "      <th>12</th>\n",
       "      <td>Frequência do uso da substância</td>\n",
       "      <td>Diariamente, Semanalmente, Mensalmente, Raramente</td>\n",
       "    </tr>\n",
       "    <tr>\n",
       "      <th>13</th>\n",
       "      <td>Quantidade de Sono Diária</td>\n",
       "      <td>Menos de 4 horas, Entre 4 e 6 horas, Entre 6 e...</td>\n",
       "    </tr>\n",
       "  </tbody>\n",
       "</table>\n",
       "</div>"
      ],
      "text/plain": [
       "                                 Atributo  \\\n",
       "0                                    Sexo   \n",
       "1        Local de Origem (Mora em Sobral)   \n",
       "2                                    Raça   \n",
       "3                          Situação Civil   \n",
       "4                              Reside com   \n",
       "5                     Qual a sua religião   \n",
       "6             Reprovou Alguma Disciplina?   \n",
       "7          Considera o Curso Estressante?   \n",
       "8                Recebe Bolsa ou Auxílio?   \n",
       "9         Qual atividade de lazer pratica   \n",
       "10       Faz uso contínuo de medicamento?   \n",
       "11  Fez uso de uma substância Psicoativa?   \n",
       "12        Frequência do uso da substância   \n",
       "13              Quantidade de Sono Diária   \n",
       "\n",
       "                                               Opções  \n",
       "0                                 Masculino, Feminino  \n",
       "1                  Mora em Sobral, Não mora em Sobral  \n",
       "2                                     Preto, Não sabe  \n",
       "3                              Solteiro, Não solteiro  \n",
       "4                       Sozinho, República Estudantil  \n",
       "5                                 Outras/Sem religião  \n",
       "6                                            Sim, Não  \n",
       "7                                            Sim, Não  \n",
       "8                                            Sim, Não  \n",
       "9   Ouvir Música, Assistir Filme/Série, Passear/Vi...  \n",
       "10                                           Sim, Não  \n",
       "11                                           Sim, Não  \n",
       "12  Diariamente, Semanalmente, Mensalmente, Raramente  \n",
       "13  Menos de 4 horas, Entre 4 e 6 horas, Entre 6 e...  "
      ]
     },
     "execution_count": 3,
     "metadata": {},
     "output_type": "execute_result"
    }
   ],
   "source": [
    "import pandas as pd\n",
    "\n",
    "data = {\n",
    "    'Atributo': ['Sexo', 'Local de Origem (Mora em Sobral)', 'Raça', 'Situação Civil',\n",
    "                 'Reside com', 'Qual a sua religião', 'Reprovou Alguma Disciplina?',\n",
    "                 'Considera o Curso Estressante?', 'Recebe Bolsa ou Auxílio?',\n",
    "                 'Qual atividade de lazer pratica', 'Faz uso contínuo de medicamento?',\n",
    "                 'Fez uso de uma substância Psicoativa?', 'Frequência do uso da substância',\n",
    "                 'Quantidade de Sono Diária'],\n",
    "    'Opções': ['Masculino, Feminino', 'Mora em Sobral, Não mora em Sobral',\n",
    "               'Preto, Não sabe', 'Solteiro, Não solteiro',\n",
    "               'Sozinho, República Estudantil', 'Outras/Sem religião',\n",
    "               'Sim, Não', 'Sim, Não', 'Sim, Não',\n",
    "               'Ouvir Música, Assistir Filme/Série, Passear/Viajar, Outras',\n",
    "               'Sim, Não', 'Sim, Não',\n",
    "               'Diariamente, Semanalmente, Mensalmente, Raramente',\n",
    "               'Menos de 4 horas, Entre 4 e 6 horas, Entre 6 e 8 horas, Mais de 8 horas']\n",
    "}\n",
    "\n",
    "df = pd.DataFrame(data)\n",
    "df"
   ]
  },
  {
   "cell_type": "markdown",
   "metadata": {
    "collapsed": false
   },
   "source": [
    "### 1.2 - Importando os dados e manipulando-os;"
   ]
  },
  {
   "cell_type": "code",
   "execution_count": 4,
   "metadata": {
    "ExecuteTime": {
     "end_time": "2023-08-29T22:31:25.089898200Z",
     "start_time": "2023-08-29T22:31:22.177065Z"
    },
    "collapsed": false
   },
   "outputs": [],
   "source": [
    "#Importando os dados\n",
    "data_frame = pd.read_excel('C:\\\\Users\\\\apo-pc\\\\Documents\\\\Github\\\\Classificacao_MHI_BIC\\\\Classificacao_WHOQOL\\\\Datasets\\\\BANCO DE DADOS - INVERTIDO - 24 de Agosto 2019.xlsx')\n",
    "\n",
    "\n",
    "#Renoemando as colunas para seguir o padrão do Excel\n",
    "def number_to_excel_column(num):\n",
    "    \"\"\"\n",
    "    Converte um número de coluna numa ‘string’ com a representação alfabética.\n",
    "    Exemplo: 1 => 'A', 2 => 'B', ..., 26 => 'Z', 27 => 'AA', 28 => 'AB', ...\n",
    "    \"\"\"\n",
    "    return cell.get_column_letter(num)\n",
    "\n",
    "# Gera uma lista com os nomes das colunas no estilo do Excel\n",
    "col_names = [number_to_excel_column(num) for num in range(1, len(data_frame.columns)+1)]\n",
    "\n",
    "# Cria um dicionário com os nomes atuais e os novos nomes das colunas\n",
    "new_col_names = {old_name: new_name for old_name, new_name in zip(data_frame.columns, col_names)}\n",
    "\n",
    "# Renomeia as colunas\n",
    "data_frame = data_frame.rename(columns=new_col_names)\n",
    "\n",
    "data_frame_r = data_frame.replace('', np.nan)\n"
   ]
  },
  {
   "cell_type": "code",
   "execution_count": 5,
   "metadata": {
    "ExecuteTime": {
     "end_time": "2023-08-29T22:31:25.092897Z",
     "start_time": "2023-08-29T22:31:25.084646600Z"
    },
    "collapsed": false
   },
   "outputs": [],
   "source": [
    "#Selecionando a parte de dados sociodemograficos;\n",
    "df_socioeconomico = data_frame_r.loc[:, 'B':'BP']\n",
    "\n",
    "# Parte do dataframe que contem o questionário WHOQOL\n",
    "df_whoqol = data_frame_r.loc[:, 'BR':'CU']\n",
    "\n",
    "# Parte do dataframe que contem o questionário de MHI\n",
    "df_mhi = data_frame_r.loc[:, 'CW':'EH']\n"
   ]
  },
  {
   "cell_type": "code",
   "execution_count": 6,
   "metadata": {
    "ExecuteTime": {
     "end_time": "2023-08-29T22:31:25.131898400Z",
     "start_time": "2023-08-29T22:31:25.095893300Z"
    },
    "collapsed": false
   },
   "outputs": [
    {
     "name": "stdout",
     "output_type": "stream",
     "text": [
      "     B     C    D    E     F     G    H    I    J    K  ...   BG   BH   BI  \\\n",
      "0  1.0  25.0  1.0  1.0   1.0   1.0  0.0  1.0  1.0  1.0  ...  0.0  0.0  0.0   \n",
      "1  1.0  19.0  1.0  1.0   1.0  83.0  1.0  1.0  1.0  1.0  ...  0.0  0.0  0.0   \n",
      "2  1.0  28.0  5.0  1.0  23.0  23.0  1.0  1.0  1.0  1.0  ...  0.0  0.0  0.0   \n",
      "3  1.0  22.0  1.0  1.0  37.0   1.0  2.0  1.0  1.0  1.0  ...  0.0  0.0  0.0   \n",
      "4  1.0  21.0  1.0  1.0   6.0   1.0  2.0  3.0  5.0  1.0  ...  0.0  0.0  0.0   \n",
      "\n",
      "    BJ   BK   BL   BM   BN   BO   BP  \n",
      "0  0.0  0.0  0.0  0.0  0.0  0.0  8.0  \n",
      "1  0.0  0.0  0.0  0.0  0.0  0.0  7.0  \n",
      "2  0.0  0.0  0.0  0.0  0.0  0.0  7.0  \n",
      "3  0.0  0.0  0.0  0.0  0.0  0.0  6.0  \n",
      "4  0.0  0.0  0.0  0.0  0.0  1.0  7.0  \n",
      "\n",
      "[5 rows x 67 columns]\n",
      "    CW   CX   CY   CZ   DA   DB   DC   DD   DE   DF  ...   DY   DZ   EA   EB  \\\n",
      "0  4.0  4.0  4.0  6.0  4.0  4.0  4.0  5.0  5.0  3.0  ...  5.0  4.0  4.0  4.0   \n",
      "1  5.0  5.0  4.0  4.0  4.0  4.0  2.0  3.0  1.0  4.0  ...  2.0  2.0  4.0  5.0   \n",
      "2  3.0  4.0  1.0  3.0  3.0  2.0  3.0  1.0  2.0  3.0  ...  2.0  2.0  3.0  3.0   \n",
      "3  1.0  1.0  1.0  1.0  1.0  1.0  1.0  1.0  1.0  3.0  ...  1.0  2.0  2.0  3.0   \n",
      "4  3.0  4.0  3.0  3.0  2.0  3.0  3.0  3.0  1.0  4.0  ...  3.0  2.0  3.0  3.0   \n",
      "\n",
      "    EC   ED   EE   EF   EG   EH  \n",
      "0  2.0  4.0  4.0  4.0  5.0  6.0  \n",
      "1  4.0  4.0  5.0  5.0  1.0  2.0  \n",
      "2  1.0  2.0  2.0  4.0  3.0  3.0  \n",
      "3  1.0  1.0  5.0  1.0  1.0  1.0  \n",
      "4  2.0  2.0  2.0  3.0  2.0  2.0  \n",
      "\n",
      "[5 rows x 38 columns]\n"
     ]
    }
   ],
   "source": [
    "print(df_socioeconomico.head())\n",
    "print(df_mhi.head())"
   ]
  },
  {
   "cell_type": "markdown",
   "metadata": {
    "collapsed": false
   },
   "source": [
    "### 1.4 - Aplicando as modificações na base de dados;"
   ]
  },
  {
   "cell_type": "code",
   "execution_count": 7,
   "metadata": {
    "ExecuteTime": {
     "end_time": "2023-08-29T22:31:25.151898800Z",
     "start_time": "2023-08-29T22:31:25.135895Z"
    },
    "collapsed": false
   },
   "outputs": [],
   "source": [
    "# Definindo as colunas que serão removidas:\n",
    "rem_col_names = [ # Nome\n",
    "                 'G', # Local de nascimento [Temporariamente] <-\n",
    "                 'K', # Curso de graduação [Temporariamente] <-\n",
    "                 'P', # Indique os princiapis fatores de estresse\n",
    "                 'Q', 'R', 'S','T', # Fatores de estresse\n",
    "                 'V', # Qual o motivo do afastamento\n",
    "                 'W', 'X','Y','Z', # Motivos do afastamento\n",
    "                 'AF', # Caso receba auxilio...\n",
    "                 'AG', 'AH', 'AI', 'AJ', 'AK', 'AL', 'AM', # Auxilio\n",
    "                 'AQ', # Quais atividades de lazer\n",
    "                 'BA', # Faz uso continuo de algum medicamento\n",
    "                 'BB', 'BC', # Medicamentos\n",
    "                 'BE',# Qual substancia psicoativa\n",
    "                 'BF', 'BG', 'BH', 'BI', 'BJ', 'BK', 'BL', 'BM', 'BN' # Substancias psicoativas\n",
    "                 ]\n",
    "\n",
    "\n",
    "# Removendo as colunas\n",
    "df_socioeconomico = df_socioeconomico.drop(columns=rem_col_names, axis=1)"
   ]
  },
  {
   "cell_type": "code",
   "execution_count": 8,
   "metadata": {
    "ExecuteTime": {
     "end_time": "2023-08-29T22:31:25.205911300Z",
     "start_time": "2023-08-29T22:31:25.142897300Z"
    },
    "collapsed": false
   },
   "outputs": [],
   "source": [
    "# Modificando os dados das colunas:\n",
    "\n",
    "# Coluna 'B' - Sexo; Está no formato 1 e 2, queremos binarizar, ou seja, 0 e 1.\n",
    "df_socioeconomico['B'] = df_socioeconomico['B'].apply(lambda x: 0 if x == 2 else x) # 0 - Masculino | 1 - Feminino\n",
    "\n",
    "# Coluna 'D'- Raça; Vária de 1 a 5 e será aplicado one-hot-encoding, ou seja, será criada uma coluna para cada valor.\n",
    "oh_raca = pd.get_dummies(df_socioeconomico['D'], prefix='D')\n",
    "df_socioeconomico = df_socioeconomico.drop('D', axis=1)\n",
    "df_socioeconomico = df_socioeconomico.join(oh_raca)\n",
    "\n",
    "# Coluna 'E' - Situacao Civil; Aplicando one-hot-encoding\n",
    "oh_situacao_civil = pd.get_dummies(df_socioeconomico['E'], prefix='E')\n",
    "df_socioeconomico = df_socioeconomico.drop('E', axis=1)\n",
    "df_socioeconomico = df_socioeconomico.join(oh_situacao_civil)\n",
    "\n",
    "# Coluna 'F' - Local de Origem; Se o local for diferente de '1' (Sobral) será substituido por '0' (Outro)\n",
    "df_socioeconomico['F'] = df_socioeconomico['F'].apply(lambda x: 0 if x != 1 else x)\n",
    "\n",
    "# Coluna 'I' - Com quem reside; Aplicando one-hot-encoding\n",
    "oh_reside = pd.get_dummies(df_socioeconomico['I'], prefix='I')\n",
    "df_socioeconomico = df_socioeconomico.drop('I', axis=1)\n",
    "df_socioeconomico = df_socioeconomico.join(oh_reside)\n",
    "\n",
    "# Coluna 'J' - Religiao; Aplicando one-hot-encoding\n",
    "oh_religiao = pd.get_dummies(df_socioeconomico['J'], prefix='J')\n",
    "df_socioeconomico = df_socioeconomico.drop('J', axis=1)\n",
    "df_socioeconomico = df_socioeconomico.join(oh_religiao)\n",
    "\n",
    "# Coluna 'AA' - Turno de estudo; Aplicando one-hot-encoding\n",
    "oh_turno = pd.get_dummies(df_socioeconomico['AA'], prefix='AA')\n",
    "df_socioeconomico = df_socioeconomico.drop('AA', axis=1)\n",
    "df_socioeconomico = df_socioeconomico.join(oh_turno)\n",
    "\n",
    "# Coluna 'AB' - Transporte; Aplicando one-hot-encoding\n",
    "oh_transporte = pd.get_dummies(df_socioeconomico['AB'], prefix='AB')\n",
    "df_socioeconomico = df_socioeconomico.drop('AB', axis=1)\n",
    "df_socioeconomico = df_socioeconomico.join(oh_transporte)\n"
   ]
  },
  {
   "cell_type": "markdown",
   "metadata": {
    "collapsed": false
   },
   "source": [
    "### 1.5 - Adiconando as colunas do MHI;\n",
    "\n",
    "Preciso pegar o df_socioeconomico e concatenar com os elementos a partir de 61 da BASE2, BASE3 e BASE4.\n",
    "\n",
    "Com isso vou formar 4 dataframes, que vao ser salvos em csv.\n"
   ]
  },
  {
   "cell_type": "markdown",
   "metadata": {
    "collapsed": false
   },
   "source": [
    "#### 1.5.1 - Lendo as classes do WHOQOL;"
   ]
  },
  {
   "cell_type": "code",
   "execution_count": 9,
   "metadata": {
    "ExecuteTime": {
     "end_time": "2023-08-29T22:31:25.224921300Z",
     "start_time": "2023-08-29T22:31:25.180345100Z"
    },
    "collapsed": false
   },
   "outputs": [
    {
     "data": {
      "text/html": [
       "<div>\n",
       "<style scoped>\n",
       "    .dataframe tbody tr th:only-of-type {\n",
       "        vertical-align: middle;\n",
       "    }\n",
       "\n",
       "    .dataframe tbody tr th {\n",
       "        vertical-align: top;\n",
       "    }\n",
       "\n",
       "    .dataframe thead th {\n",
       "        text-align: right;\n",
       "    }\n",
       "</style>\n",
       "<table border=\"1\" class=\"dataframe\">\n",
       "  <thead>\n",
       "    <tr style=\"text-align: right;\">\n",
       "      <th></th>\n",
       "      <th>classes_whoqol</th>\n",
       "    </tr>\n",
       "  </thead>\n",
       "  <tbody>\n",
       "    <tr>\n",
       "      <th>0</th>\n",
       "      <td>2</td>\n",
       "    </tr>\n",
       "    <tr>\n",
       "      <th>1</th>\n",
       "      <td>1</td>\n",
       "    </tr>\n",
       "    <tr>\n",
       "      <th>2</th>\n",
       "      <td>1</td>\n",
       "    </tr>\n",
       "    <tr>\n",
       "      <th>3</th>\n",
       "      <td>2</td>\n",
       "    </tr>\n",
       "    <tr>\n",
       "      <th>4</th>\n",
       "      <td>1</td>\n",
       "    </tr>\n",
       "    <tr>\n",
       "      <th>...</th>\n",
       "      <td>...</td>\n",
       "    </tr>\n",
       "    <tr>\n",
       "      <th>874</th>\n",
       "      <td>3</td>\n",
       "    </tr>\n",
       "    <tr>\n",
       "      <th>875</th>\n",
       "      <td>2</td>\n",
       "    </tr>\n",
       "    <tr>\n",
       "      <th>876</th>\n",
       "      <td>2</td>\n",
       "    </tr>\n",
       "    <tr>\n",
       "      <th>877</th>\n",
       "      <td>2</td>\n",
       "    </tr>\n",
       "    <tr>\n",
       "      <th>878</th>\n",
       "      <td>2</td>\n",
       "    </tr>\n",
       "  </tbody>\n",
       "</table>\n",
       "<p>879 rows × 1 columns</p>\n",
       "</div>"
      ],
      "text/plain": [
       "     classes_whoqol\n",
       "0                 2\n",
       "1                 1\n",
       "2                 1\n",
       "3                 2\n",
       "4                 1\n",
       "..              ...\n",
       "874               3\n",
       "875               2\n",
       "876               2\n",
       "877               2\n",
       "878               2\n",
       "\n",
       "[879 rows x 1 columns]"
      ]
     },
     "execution_count": 9,
     "metadata": {},
     "output_type": "execute_result"
    }
   ],
   "source": [
    "# Lendo as classes do WHOQOL\n",
    "df_classes_whoqol = pd.read_csv('C:\\\\Users\\\\apo-pc\\\\Documents\\\\Github\\\\Classificacao_MHI_BIC\\\\Classificacao_WHOQOL\\\\Dados-Lucas-Santos\\\\Classes_WHOQOL.csv')\n",
    "df_classes_whoqol.columns = [\"classes_whoqol\"]\n",
    "df_classes_whoqol"
   ]
  },
  {
   "cell_type": "markdown",
   "metadata": {
    "collapsed": false
   },
   "source": [
    "#### 1.5.1 - Lendo a bases;\n",
    "BASE2 = [SOCIODEMOGRÁFICO ISM_GLOBAL]\n",
    "BASE3 = [SOCIODEMOGRÁFICO ISM_Ansiedade ISM_Depressao ISM_Emocional ISM_Afeto ISM_Lacos]\n",
    "BASE4 = [SOCIODEMOGRÁFICO ISM]\n"
   ]
  },
  {
   "cell_type": "code",
   "execution_count": 10,
   "metadata": {
    "ExecuteTime": {
     "end_time": "2023-08-29T22:31:25.301142200Z",
     "start_time": "2023-08-29T22:31:25.199917700Z"
    },
    "collapsed": false
   },
   "outputs": [],
   "source": [
    "df_ism_global = pd.read_csv('C:\\\\Users\\\\apo-pc\\\\Documents\\\\Github\\\\Classificacao_MHI_BIC\\\\Classificacao_WHOQOL\\\\Dados-Lucas-Santos\\\\BASE2.csv')\n",
    "\n",
    "df_ism_global = df_ism_global.iloc[:, 60:]\n",
    "df_base2 = df_socioeconomico.join(df_ism_global)\n",
    "df_base2 = df_base2.join(df_classes_whoqol)\n",
    "df_base2 = df_base2.dropna()\n",
    "\n",
    "# [SOCIODEMOGRÁFICO ISM_Ansiedade ISM_Depressao ISM_Emocional ISM_Afeto ISM_Lacos]\n",
    "df_somas_ism = pd.read_csv('C:\\\\Users\\\\apo-pc\\\\Documents\\\\Github\\\\Classificacao_MHI_BIC\\\\Classificacao_WHOQOL\\\\Dados-Lucas-Santos\\\\BASE3.csv')\n",
    "df_somas_ism = df_ism_global.iloc[:,60:]\n",
    "df_base3 = df_socioeconomico.join(df_somas_ism)\n",
    "df_base3 = df_base3.join(df_classes_whoqol)\n",
    "df_base3 = df_base3.dropna()\n",
    "\n",
    "\n",
    "#BASE4 = [SOCIODEMOGRÁFICO ISM]\n",
    "df_ism_completo = pd.read_csv('C:\\\\Users\\\\apo-pc\\\\Documents\\\\Github\\\\Classificacao_MHI_BIC\\\\Classificacao_WHOQOL\\\\Dados-Lucas-Santos\\\\BASE4.csv')\n",
    "df_ism_completo = df_ism_completo.iloc[:,60:]\n",
    "df_base4 = df_socioeconomico.join(df_ism_completo)\n",
    "df_base4 = df_base4.join(df_classes_whoqol)\n",
    "df_base4 = df_base4.dropna()\n",
    "\n"
   ]
  },
  {
   "cell_type": "markdown",
   "metadata": {
    "collapsed": false
   },
   "source": [
    "### 1.6 - Salvando os dados em csv;"
   ]
  },
  {
   "cell_type": "code",
   "execution_count": 11,
   "metadata": {
    "ExecuteTime": {
     "end_time": "2023-08-29T22:31:25.426594900Z",
     "start_time": "2023-08-29T22:31:25.251147700Z"
    },
    "collapsed": false
   },
   "outputs": [],
   "source": [
    "# Salvando os dados em csv\n",
    "df_base2.to_csv('C:\\\\Users\\\\apo-pc\\\\Documents\\\\Github\\\\Classificacao_MHI_BIC\\\\Classificacao_WHOQOL\\\\Datasets\\\\df_base2.csv', index=False)\n",
    "\n",
    "df_base3.to_csv('C:\\\\Users\\\\apo-pc\\\\Documents\\\\Github\\\\Classificacao_MHI_BIC\\\\Classificacao_WHOQOL\\\\Datasets\\\\df_base3.csv', index=False)\n",
    "\n",
    "df_base4.to_csv('C:\\\\Users\\\\apo-pc\\\\Documents\\\\Github\\\\Classificacao_MHI_BIC\\\\Classificacao_WHOQOL\\\\Datasets\\\\df_base4.csv', index=False)"
   ]
  },
  {
   "cell_type": "code",
   "execution_count": 13,
   "metadata": {
    "ExecuteTime": {
     "end_time": "2023-08-29T22:32:21.459889900Z",
     "start_time": "2023-08-29T22:32:21.409592500Z"
    },
    "collapsed": false
   },
   "outputs": [],
   "source": [
    "df_base1 = df_socioeconomico.join(df_classes_whoqol)\n",
    "df_base1 = df_base1.dropna()\n",
    "\n",
    "df_base1.to_csv('C:\\\\Users\\\\apo-pc\\\\Documents\\\\Github\\\\Classificacao_MHI_BIC\\\\Classificacao_WHOQOL\\\\Datasets\\\\df_base1.csv', index=False)"
   ]
  },
  {
   "cell_type": "code",
   "execution_count": 10,
   "outputs": [
    {
     "data": {
      "text/plain": "2.0    542\n1.0    226\n3.0    103\nName: classes_whoqol, dtype: int64"
     },
     "execution_count": 10,
     "metadata": {},
     "output_type": "execute_result"
    }
   ],
   "source": [
    "import pandas as pd\n",
    "# Read base4 and remove last collum\n",
    "base = pd.read_csv('/home/apo-pc/repos/Classificacao_MHI_BIC/Classificacao_DosSantos/Datasets/df_base4.csv')\n",
    "# Remove a ultima coluna e usa como target\n",
    "df_base4 = base.iloc[:, :-1]\n",
    "target = base['classes_whoqol']\n",
    "\n",
    "# Count number os classes of target\n",
    "target.value_counts()\n"
   ],
   "metadata": {
    "collapsed": false,
    "ExecuteTime": {
     "end_time": "2023-10-16T20:35:39.098470039Z",
     "start_time": "2023-10-16T20:35:39.026571332Z"
    }
   }
  },
  {
   "cell_type": "code",
   "execution_count": 11,
   "outputs": [
    {
     "data": {
      "text/plain": "Medio    574\nBaixo    149\nAlto     149\nName: Nivel_MHI, dtype: int64"
     },
     "execution_count": 11,
     "metadata": {},
     "output_type": "execute_result"
    }
   ],
   "source": [
    "\n",
    "\n",
    "df_base4 = df_base4.iloc[:, :-1]\n",
    "\n",
    "# Read another csv, and remove the 54 first collums, since they are not needed\n",
    "baseW = pd.read_csv('/home/apo-pc/repos/Classificacao_MHI_BIC/Codigos-Desenvolvimento/Datasets/df_social_whoqol_tratado_1.csv')\n",
    "whoqol = baseW.iloc[:, 54:]\n",
    "\n",
    "targetW = baseW['Nivel_MHI']\n",
    "targetW.value_counts()"
   ],
   "metadata": {
    "collapsed": false,
    "ExecuteTime": {
     "end_time": "2023-10-16T20:47:54.245524354Z",
     "start_time": "2023-10-16T20:47:54.204335823Z"
    }
   }
  },
  {
   "cell_type": "code",
   "execution_count": null,
   "outputs": [],
   "source": [
    "\n",
    "whoqol = whoqol.iloc[:, :-1]\n",
    "\n",
    "# Merge base4 and whoqol\n",
    "\n",
    "df_base4 = df_base4.join(whoqol)\n",
    "\n",
    "# Show stats\n",
    "df_base4.head()"
   ],
   "metadata": {
    "collapsed": false
   }
  },
  {
   "cell_type": "code",
   "execution_count": 3,
   "outputs": [
    {
     "data": {
      "text/plain": "(871, 122)"
     },
     "execution_count": 3,
     "metadata": {},
     "output_type": "execute_result"
    }
   ],
   "source": [
    "# Contar quatidade de colunas e linhas\n",
    "df_base4.shape"
   ],
   "metadata": {
    "collapsed": false,
    "ExecuteTime": {
     "end_time": "2023-10-16T20:28:36.920814677Z",
     "start_time": "2023-10-16T20:28:36.868140309Z"
    }
   }
  }
 ],
 "metadata": {
  "kernelspec": {
   "display_name": "Python 3 (ipykernel)",
   "language": "python",
   "name": "python3"
  },
  "language_info": {
   "codemirror_mode": {
    "name": "ipython",
    "version": 3
   },
   "file_extension": ".py",
   "mimetype": "text/x-python",
   "name": "python",
   "nbconvert_exporter": "python",
   "pygments_lexer": "ipython3",
   "version": "3.10.12"
  }
 },
 "nbformat": 4,
 "nbformat_minor": 4
}
