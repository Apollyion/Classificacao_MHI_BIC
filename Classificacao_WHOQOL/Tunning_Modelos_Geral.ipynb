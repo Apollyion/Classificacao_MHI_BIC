{
 "cells": [
  {
   "cell_type": "markdown",
   "metadata": {},
   "source": [
    "## Tunning dos hiperparâmetros\n",
    "- Será realizado o tunning para os seguintes casos:\n",
    "    1) sem informações do WHOQOL na base\n",
    "    2) com todas as respostas do WHOQOL\n",
    "    3) só com o índice final do WHOQOL\n",
    "    4) só com os índices dos domínios do WHOQOL\n",
    "\n",
    "- Para os seguintes modelos:\n",
    "    1) Random Forest\n",
    "    2) SVM\n",
    "    3) MLP\n",
    "    4) XGBoost"
   ]
  },
  {
   "cell_type": "markdown",
   "metadata": {},
   "source": [
    "#### Workflow:\n",
    "Para cada caso:\n",
    "- Importar dados\n",
    "- Separar em treino e teste ( Preciso\n",
    "- Definir os parâmetros a serem testados\n",
    "- Realizar o tunning\n",
    "- Salvar os resultados graficamente\n",
    "- Salvar o melhor modelo"
   ]
  },
  {
   "cell_type": "markdown",
   "metadata": {},
   "source": [
    "### Importando as bibliotecas"
   ]
  },
  {
   "cell_type": "code",
   "execution_count": 28,
   "metadata": {
    "ExecuteTime": {
     "end_time": "2023-08-30T00:53:19.139736600Z",
     "start_time": "2023-08-30T00:53:19.082511Z"
    }
   },
   "outputs": [],
   "source": [
    "import numpy as np\n",
    "import matplotlib.pyplot as plt\n",
    "import pandas as pd\n",
    "from sklearn.ensemble import RandomForestClassifier\n",
    "from sklearn.svm import SVC\n",
    "from sklearn.neural_network import MLPClassifier\n",
    "from xgboost import XGBClassifier\n",
    "from sklearn.model_selection import train_test_split, GridSearchCV\n",
    "from imblearn.under_sampling import RandomUnderSampler\n",
    "from sklearn.preprocessing import LabelEncoder\n",
    "import os\n",
    "from sklearn.model_selection import KFold\n",
    "from sklearn.metrics import classification_report, accuracy_score\n",
    "import seaborn as sns\n",
    "\n",
    "#Importando modelo Dummy:\n",
    "from sklearn.dummy import DummyClassifier\n",
    "\n",
    "import warnings\n",
    "warnings.filterwarnings('ignore')"
   ]
  },
  {
   "cell_type": "markdown",
   "metadata": {},
   "source": [
    "### Definindo a função"
   ]
  },
  {
   "cell_type": "code",
   "execution_count": 29,
   "metadata": {
    "ExecuteTime": {
     "end_time": "2023-08-30T00:53:19.451815400Z",
     "start_time": "2023-08-30T00:53:19.097051500Z"
    }
   },
   "outputs": [],
   "source": [
    "def perform_model_tuning(data, target, models, param_grids, base_name):\n",
    "    # Dividir os dados em treinamento e teste após o Random Under-Sampling\n",
    "    X_train, X_test, y_train, y_test = train_test_split(data, target, test_size=0.2, random_state=42)\n",
    "\n",
    "    best_models = {}  # Dicionário para armazenar o melhor modelo de cada tipo\n",
    "    model_accuracies = {}  # Dicionário para armazenar as acurácias de cada modelo\n",
    "    current_dir = os.getcwd()\n",
    "    for model_name, model, param_grid_entry in zip(models.keys(), models.values(), param_grids):\n",
    "        print(f\"Tuning do modelo {model_name} iniciado...\")\n",
    "\n",
    "        # Acessar o dicionário de parâmetros correspondente ao modelo atual\n",
    "        param_grid = param_grid_entry['params']\n",
    "\n",
    "        # Realizar a busca em grid para encontrar os melhores parâmetros\n",
    "        grid_search = GridSearchCV(model, param_grid, cv=5, scoring='accuracy')\n",
    "        grid_search.fit(X_train, y_train)\n",
    "\n",
    "        # Melhor modelo encontrado\n",
    "        best_model = grid_search.best_estimator_\n",
    "\n",
    "        # Fazer previsões no conjunto de teste\n",
    "        y_pred = best_model.predict(X_test)\n",
    "\n",
    "        # Calcular a acurácia do modelo\n",
    "        accuracy = accuracy_score(y_test, y_pred)\n",
    "        model_accuracies[model_name] = accuracy\n",
    "\n",
    "        print(f\"Acurácia do modelo {model_name}: {accuracy:.4f}\")\n",
    "\n",
    "        # Salvar o melhor modelo\n",
    "        best_models[model_name] = best_model\n",
    "\n",
    "    # Plotar gráfico de desempenho comparativo\n",
    "    plt.figure(figsize=(10, 6))\n",
    "    plt.bar(model_accuracies.keys(), model_accuracies.values())\n",
    "    plt.xlabel('Modelos')\n",
    "    plt.ylabel('Acurácia')\n",
    "    plt.title('Comparação de desempenho dos modelos')\n",
    "    plt.xticks(rotation=45)\n",
    "    plt.tight_layout()\n",
    "    graph_filename = f\"{base_name}_graph_{model_name}.png\"\n",
    "    graph_path = os.path.join(current_dir, graph_filename)\n",
    "    plt.savefig(graph_path)\n",
    "    plt.close()\n",
    "\n",
    "\n",
    "    #Pickle the single best model, verifying the best and saving from best_models dict, se tiver mais algo salvo com o mesmo nome, adiciona mais um.\n",
    "    best_model = max(model_accuracies, key=model_accuracies.get)\n",
    "    best_model = best_models[best_model]\n",
    "    if os.path.exists(f\"{base_name}_best_model.pkl\"):\n",
    "        i = 1\n",
    "        while os.path.exists(f\"{base_name}_best_model_{i}.pkl\"):\n",
    "            i += 1\n",
    "        pickle.dump(best_model, open(f\"{base_name}_best_model_{i}.pkl\", \"wb\"))\n",
    "    else:\n",
    "        pickle.dump(best_model, open(f\"{base_name}_best_model.pkl\", \"wb\"))\n",
    "    # Salvar tabela com os valores de acurácia\n",
    "    table_filename = f\"{base_name}_table_{model_name}.csv\"\n",
    "    accuracies_df = pd.DataFrame.from_dict(model_accuracies, orient='index', columns=['Acurácia'])\n",
    "    table_path = os.path.join(current_dir, table_filename)\n",
    "    accuracies_df.to_csv(table_path, index=False)\n",
    "\n",
    "    return best_models, best_model"
   ]
  },
  {
   "cell_type": "markdown",
   "metadata": {},
   "source": [
    "### Importando os dados"
   ]
  },
  {
   "cell_type": "code",
   "execution_count": 30,
   "metadata": {
    "ExecuteTime": {
     "end_time": "2023-08-30T00:53:19.466812Z",
     "start_time": "2023-08-30T00:53:19.116741Z"
    }
   },
   "outputs": [],
   "source": [
    "# Somente Sociodemográfico\n",
    "base1 = pd.read_csv('Datasets/df_base1.csv')\n",
    "data1 = base1.drop('classes_whoqol', axis=1)\n",
    "target1 = base1['classes_whoqol']\n",
    "le = LabelEncoder()\n",
    "target1 = le.fit_transform(target1)\n",
    "sampler = RandomUnderSampler()\n",
    "data1_re, target1_re = sampler.fit_resample(data1, target1)\n",
    "\n",
    "# Sociodemográfico + ISM Geral\n",
    "base2 = pd.read_csv('Datasets/df_base2.csv')    \n",
    "data2 = base2.drop('classes_whoqol', axis=1)\n",
    "target2 = base2['classes_whoqol']\n",
    "le = LabelEncoder()\n",
    "target2 = le.fit_transform(target2)\n",
    "sampler = RandomUnderSampler()\n",
    "data2_re, target2_re = sampler.fit_resample(data2, target2)\n",
    "\n",
    "# Sociodemográfico + ISM_Ansiedade ISM_Depressao ISM_Emocional ISM_Afeto ISM_Lacos\n",
    "base3 = pd.read_csv('Datasets/df_base3.csv')\n",
    "data3 = base3.drop('classes_whoqol', axis=1)\n",
    "target3 = base3['classes_whoqol']\n",
    "le = LabelEncoder()\n",
    "target3 = le.fit_transform(target3)\n",
    "sampler = RandomUnderSampler()\n",
    "data3_re, target3_re = sampler.fit_resample(data3, target3)\n",
    "\n",
    "# Sociodemográfico + ISM Completo\n",
    "base4 = pd.read_csv('Datasets/df_base4.csv')\n",
    "data4 = base4.drop('classes_whoqol', axis=1)\n",
    "target4 = base4['classes_whoqol']\n",
    "le = LabelEncoder()\n",
    "target4 = le.fit_transform(target4)\n",
    "sampler = RandomUnderSampler()\n",
    "data4_re, target4_re = sampler.fit_resample(data4, target4)"
   ]
  },
  {
   "cell_type": "code",
   "execution_count": 31,
   "outputs": [],
   "source": [
    "# Dividir os dados em treino e teste\n",
    "X_train1, X_test1, y_train1, y_test1 = train_test_split(data1_re, target1_re, test_size=0.2)\n",
    "X_train2, X_test2, y_train2, y_test2 = train_test_split(data2_re, target2_re, test_size=0.2)\n",
    "X_train3, X_test3, y_train3, y_test3 = train_test_split(data3_re, target3_re, test_size=0.2)\n",
    "X_train4, X_test4, y_train4, y_test4 = train_test_split(data4_re, target4_re, test_size=0.2)\n"
   ],
   "metadata": {
    "collapsed": false,
    "ExecuteTime": {
     "end_time": "2023-08-30T00:53:19.466812Z",
     "start_time": "2023-08-30T00:53:19.208568800Z"
    }
   }
  },
  {
   "cell_type": "code",
   "execution_count": 32,
   "outputs": [],
   "source": [
    "def avalia_modelo_cv(model, X_input, y_input, n, resultados_individuais=False):\n",
    "    kf = KFold(n_splits=n)\n",
    "    reports = []\n",
    "    y_true = []\n",
    "    y_pred_list = []\n",
    "    X_array = X_input.values\n",
    "    accuracy_list = []\n",
    "    model_name = type(model).__name__\n",
    "    for fold_idx, (train_index, test_index) in enumerate(kf.split(X_input)):\n",
    "        X_input, X_test = X_array[train_index], X_array[test_index]\n",
    "        y_train, y_test = y_input[train_index], y_input[test_index]\n",
    "        model.fit(X_input, y_train)\n",
    "        y_pred = model.predict(X_test)\n",
    "        y_true.extend(y_test)\n",
    "        y_pred_list.append(y_pred)\n",
    "        report = classification_report(y_test, y_pred, zero_division=0)\n",
    "        reports.append(report)\n",
    "        accuracy_list.append(accuracy_score(y_test, y_pred))\n",
    "        if resultados_individuais:\n",
    "            print(f\"Classification Report for fold {fold_idx + 1}:\\n{report}\\n\")\n",
    "    y_pred_total = np.concatenate(y_pred_list)\n",
    "    print(\"-\" * 45)\n",
    "    print(\"model_name: \", model_name)\n",
    "    print(\"Average Classification Report:\")\n",
    "    avg_report = classification_report(y_true, y_pred_total, zero_division=0)\n",
    "    print(avg_report)\n",
    "    #Retorna a acuracia media\n",
    "    return accuracy_score(y_true, y_pred_total)\n",
    "\n",
    "\n",
    "# Função que chama os 4 modelos e retorna o resultado de cada um usando a função avalia_modelo_cv e imprime o resultado de cada um.\n",
    "\n",
    "def avalia_dif_modelos_cv(X_train, y_test, cv):\n",
    "    # Criando os modelos\n",
    "    dummy_av = DummyClassifier(strategy='most_frequent')\n",
    "    rf_av = RandomForestClassifier(n_jobs=-1)\n",
    "    svm_av = SVC(kernel='rbf', gamma='auto', decision_function_shape='ovo')\n",
    "    mlp_av = MLPClassifier(hidden_layer_sizes=(100, 100), max_iter=1000)\n",
    "    xgb_av = XGBClassifier(n_jobs=-1)\n",
    "\n",
    "    # Aplicando a função de avaliação\n",
    "    dummy_fun_av = avalia_modelo_cv(dummy_av, X_train, y_test, cv)\n",
    "    rf_fun_av = avalia_modelo_cv(rf_av, X_train, y_test, cv)\n",
    "    svm_fun_av = avalia_modelo_cv(svm_av, X_train, y_test, cv)\n",
    "    mlp_fun_av = avalia_modelo_cv(mlp_av, X_train, y_test, cv)\n",
    "    xgb_fun_av = avalia_modelo_cv(xgb_av, X_train, y_test, cv)\n",
    "\n",
    "    # Criando o dataframe com os resultados\n",
    "    df_resultado = pd.DataFrame({'Modelo': ['Dummy', 'RF', 'SVM', 'MLP', 'XGB'],\n",
    "                                 'Acurácia': [dummy_fun_av, rf_fun_av, svm_fun_av, mlp_fun_av, xgb_fun_av]})\n",
    "\n",
    "    # Plotando o gráfico de barras\n",
    "    sns.barplot(x='Modelo', y='Acurácia', data=df_resultado)\n",
    "    plt.show(\"Desempenho dos modelos\")\n",
    "    %matplotlib inline\n",
    "\n",
    "    return df_resultado"
   ],
   "metadata": {
    "collapsed": false,
    "ExecuteTime": {
     "end_time": "2023-08-30T00:53:19.466812Z",
     "start_time": "2023-08-30T00:53:19.239673500Z"
    }
   }
  },
  {
   "cell_type": "code",
   "execution_count": 33,
   "outputs": [
    {
     "name": "stdout",
     "output_type": "stream",
     "text": [
      "---------------------------------------------\n",
      "model_name:  DummyClassifier\n",
      "Average Classification Report:\n",
      "              precision    recall  f1-score   support\n",
      "\n",
      "           0       0.29      0.17      0.21        82\n",
      "           1       0.25      0.30      0.27        83\n",
      "           2       0.22      0.27      0.24        82\n",
      "\n",
      "    accuracy                           0.25       247\n",
      "   macro avg       0.25      0.25      0.24       247\n",
      "weighted avg       0.25      0.25      0.24       247\n",
      "---------------------------------------------\n",
      "model_name:  RandomForestClassifier\n",
      "Average Classification Report:\n",
      "              precision    recall  f1-score   support\n",
      "\n",
      "           0       0.29      0.28      0.29        82\n",
      "           1       0.35      0.41      0.38        83\n",
      "           2       0.31      0.27      0.29        82\n",
      "\n",
      "    accuracy                           0.32       247\n",
      "   macro avg       0.32      0.32      0.32       247\n",
      "weighted avg       0.32      0.32      0.32       247\n",
      "\n",
      "---------------------------------------------\n",
      "model_name:  SVC\n",
      "Average Classification Report:\n",
      "              precision    recall  f1-score   support\n",
      "\n",
      "           0       0.39      0.29      0.33        82\n",
      "           1       0.32      0.41      0.36        83\n",
      "           2       0.27      0.26      0.26        82\n",
      "\n",
      "    accuracy                           0.32       247\n",
      "   macro avg       0.32      0.32      0.32       247\n",
      "weighted avg       0.32      0.32      0.32       247\n",
      "---------------------------------------------\n",
      "model_name:  MLPClassifier\n",
      "Average Classification Report:\n",
      "              precision    recall  f1-score   support\n",
      "\n",
      "           0       0.43      0.44      0.44        82\n",
      "           1       0.40      0.41      0.40        83\n",
      "           2       0.38      0.37      0.37        82\n",
      "\n",
      "    accuracy                           0.40       247\n",
      "   macro avg       0.40      0.40      0.40       247\n",
      "weighted avg       0.40      0.40      0.40       247\n",
      "---------------------------------------------\n",
      "model_name:  XGBClassifier\n",
      "Average Classification Report:\n",
      "              precision    recall  f1-score   support\n",
      "\n",
      "           0       0.30      0.29      0.29        82\n",
      "           1       0.28      0.25      0.26        83\n",
      "           2       0.32      0.35      0.34        82\n",
      "\n",
      "    accuracy                           0.30       247\n",
      "   macro avg       0.30      0.30      0.30       247\n",
      "weighted avg       0.30      0.30      0.30       247\n"
     ]
    },
    {
     "data": {
      "text/plain": "<Figure size 640x480 with 1 Axes>",
      "image/png": "[encoded data removed]"
     },
     "metadata": {},
     "output_type": "display_data"
    },
    {
     "data": {
      "text/plain": "  Modelo  Acurácia\n0  Dummy  0.246964\n1     RF  0.319838\n2    SVM  0.319838\n3    MLP  0.404858\n4    XGB  0.299595",
      "text/html": "<div>\n<style scoped>\n    .dataframe tbody tr th:only-of-type {\n        vertical-align: middle;\n    }\n\n    .dataframe tbody tr th {\n        vertical-align: top;\n    }\n\n    .dataframe thead th {\n        text-align: right;\n    }\n</style>\n<table border=\"1\" class=\"dataframe\">\n  <thead>\n    <tr style=\"text-align: right;\">\n      <th></th>\n      <th>Modelo</th>\n      <th>Acurácia</th>\n    </tr>\n  </thead>\n  <tbody>\n    <tr>\n      <th>0</th>\n      <td>Dummy</td>\n      <td>0.246964</td>\n    </tr>\n    <tr>\n      <th>1</th>\n      <td>RF</td>\n      <td>0.319838</td>\n    </tr>\n    <tr>\n      <th>2</th>\n      <td>SVM</td>\n      <td>0.319838</td>\n    </tr>\n    <tr>\n      <th>3</th>\n      <td>MLP</td>\n      <td>0.404858</td>\n    </tr>\n    <tr>\n      <th>4</th>\n      <td>XGB</td>\n      <td>0.299595</td>\n    </tr>\n  </tbody>\n</table>\n</div>"
     },
     "execution_count": 33,
     "metadata": {},
     "output_type": "execute_result"
    }
   ],
   "source": [
    "# Avaliando os modelos para cada dado com o treino\n",
    "avalia_dif_modelos_cv(X_train1, y_train1, 5)"
   ],
   "metadata": {
    "collapsed": false,
    "ExecuteTime": {
     "end_time": "2023-08-30T00:53:25.049660Z",
     "start_time": "2023-08-30T00:53:19.248815600Z"
    }
   }
  },
  {
   "cell_type": "code",
   "execution_count": 34,
   "outputs": [
    {
     "name": "stdout",
     "output_type": "stream",
     "text": [
      "---------------------------------------------\n",
      "model_name:  DummyClassifier\n",
      "Average Classification Report:\n",
      "              precision    recall  f1-score   support\n",
      "\n",
      "           0       0.33      0.76      0.46        85\n",
      "           1       0.27      0.15      0.19        85\n",
      "           2       0.00      0.00      0.00        77\n",
      "\n",
      "    accuracy                           0.32       247\n",
      "   macro avg       0.20      0.31      0.22       247\n",
      "weighted avg       0.20      0.32      0.22       247\n",
      "---------------------------------------------\n",
      "model_name:  RandomForestClassifier\n",
      "Average Classification Report:\n",
      "              precision    recall  f1-score   support\n",
      "\n",
      "           0       0.73      0.78      0.75        85\n",
      "           1       0.52      0.47      0.49        85\n",
      "           2       0.71      0.73      0.72        77\n",
      "\n",
      "    accuracy                           0.66       247\n",
      "   macro avg       0.65      0.66      0.65       247\n",
      "weighted avg       0.65      0.66      0.65       247\n",
      "\n",
      "---------------------------------------------\n",
      "model_name:  SVC\n",
      "Average Classification Report:\n",
      "              precision    recall  f1-score   support\n",
      "\n",
      "           0       0.85      0.80      0.82        85\n",
      "           1       0.65      0.65      0.65        85\n",
      "           2       0.76      0.82      0.79        77\n",
      "\n",
      "    accuracy                           0.75       247\n",
      "   macro avg       0.75      0.76      0.75       247\n",
      "weighted avg       0.75      0.75      0.75       247\n",
      "---------------------------------------------\n",
      "model_name:  MLPClassifier\n",
      "Average Classification Report:\n",
      "              precision    recall  f1-score   support\n",
      "\n",
      "           0       0.65      0.73      0.69        85\n",
      "           1       0.34      0.29      0.31        85\n",
      "           2       0.60      0.60      0.60        77\n",
      "\n",
      "    accuracy                           0.54       247\n",
      "   macro avg       0.53      0.54      0.53       247\n",
      "weighted avg       0.52      0.54      0.53       247\n",
      "---------------------------------------------\n",
      "model_name:  XGBClassifier\n",
      "Average Classification Report:\n",
      "              precision    recall  f1-score   support\n",
      "\n",
      "           0       0.76      0.84      0.80        85\n",
      "           1       0.59      0.49      0.54        85\n",
      "           2       0.70      0.75      0.73        77\n",
      "\n",
      "    accuracy                           0.69       247\n",
      "   macro avg       0.68      0.69      0.69       247\n",
      "weighted avg       0.68      0.69      0.69       247\n"
     ]
    },
    {
     "data": {
      "text/plain": "<Figure size 640x480 with 1 Axes>",
      "image/png": "[encoded data removed]"
     },
     "metadata": {},
     "output_type": "display_data"
    },
    {
     "data": {
      "text/plain": "  Modelo  Acurácia\n0  Dummy  0.315789\n1     RF  0.655870\n2    SVM  0.753036\n3    MLP  0.538462\n4    XGB  0.692308",
      "text/html": "<div>\n<style scoped>\n    .dataframe tbody tr th:only-of-type {\n        vertical-align: middle;\n    }\n\n    .dataframe tbody tr th {\n        vertical-align: top;\n    }\n\n    .dataframe thead th {\n        text-align: right;\n    }\n</style>\n<table border=\"1\" class=\"dataframe\">\n  <thead>\n    <tr style=\"text-align: right;\">\n      <th></th>\n      <th>Modelo</th>\n      <th>Acurácia</th>\n    </tr>\n  </thead>\n  <tbody>\n    <tr>\n      <th>0</th>\n      <td>Dummy</td>\n      <td>0.315789</td>\n    </tr>\n    <tr>\n      <th>1</th>\n      <td>RF</td>\n      <td>0.655870</td>\n    </tr>\n    <tr>\n      <th>2</th>\n      <td>SVM</td>\n      <td>0.753036</td>\n    </tr>\n    <tr>\n      <th>3</th>\n      <td>MLP</td>\n      <td>0.538462</td>\n    </tr>\n    <tr>\n      <th>4</th>\n      <td>XGB</td>\n      <td>0.692308</td>\n    </tr>\n  </tbody>\n</table>\n</div>"
     },
     "execution_count": 34,
     "metadata": {},
     "output_type": "execute_result"
    }
   ],
   "source": [
    "avalia_dif_modelos_cv(X_train2, y_train2, 5)"
   ],
   "metadata": {
    "collapsed": false,
    "ExecuteTime": {
     "end_time": "2023-08-30T00:53:34.250174600Z",
     "start_time": "2023-08-30T00:53:25.034648600Z"
    }
   }
  },
  {
   "cell_type": "code",
   "execution_count": 35,
   "outputs": [
    {
     "name": "stdout",
     "output_type": "stream",
     "text": [
      "---------------------------------------------\n",
      "model_name:  DummyClassifier\n",
      "Average Classification Report:\n",
      "              precision    recall  f1-score   support\n",
      "\n",
      "           0       0.00      0.00      0.00        80\n",
      "           1       0.32      0.75      0.45        85\n",
      "           2       0.29      0.17      0.21        82\n",
      "\n",
      "    accuracy                           0.32       247\n",
      "   macro avg       0.20      0.31      0.22       247\n",
      "weighted avg       0.21      0.32      0.23       247\n",
      "---------------------------------------------\n",
      "model_name:  RandomForestClassifier\n",
      "Average Classification Report:\n",
      "              precision    recall  f1-score   support\n",
      "\n",
      "           0       0.35      0.31      0.33        80\n",
      "           1       0.41      0.46      0.43        85\n",
      "           2       0.29      0.28      0.28        82\n",
      "\n",
      "    accuracy                           0.35       247\n",
      "   macro avg       0.35      0.35      0.35       247\n",
      "weighted avg       0.35      0.35      0.35       247\n",
      "\n",
      "---------------------------------------------\n",
      "model_name:  SVC\n",
      "Average Classification Report:\n",
      "              precision    recall  f1-score   support\n",
      "\n",
      "           0       0.39      0.39      0.39        80\n",
      "           1       0.43      0.51      0.46        85\n",
      "           2       0.37      0.30      0.33        82\n",
      "\n",
      "    accuracy                           0.40       247\n",
      "   macro avg       0.40      0.40      0.40       247\n",
      "weighted avg       0.40      0.40      0.40       247\n",
      "---------------------------------------------\n",
      "model_name:  MLPClassifier\n",
      "Average Classification Report:\n",
      "              precision    recall  f1-score   support\n",
      "\n",
      "           0       0.38      0.35      0.37        80\n",
      "           1       0.42      0.48      0.45        85\n",
      "           2       0.38      0.35      0.37        82\n",
      "\n",
      "    accuracy                           0.40       247\n",
      "   macro avg       0.39      0.40      0.39       247\n",
      "weighted avg       0.39      0.40      0.39       247\n",
      "---------------------------------------------\n",
      "model_name:  XGBClassifier\n",
      "Average Classification Report:\n",
      "              precision    recall  f1-score   support\n",
      "\n",
      "           0       0.33      0.28      0.30        80\n",
      "           1       0.36      0.41      0.39        85\n",
      "           2       0.32      0.33      0.32        82\n",
      "\n",
      "    accuracy                           0.34       247\n",
      "   macro avg       0.34      0.34      0.34       247\n",
      "weighted avg       0.34      0.34      0.34       247\n"
     ]
    },
    {
     "data": {
      "text/plain": "<Figure size 640x480 with 1 Axes>",
      "image/png": "[encoded data removed]"
     },
     "metadata": {},
     "output_type": "display_data"
    },
    {
     "data": {
      "text/plain": "  Modelo  Acurácia\n0  Dummy  0.315789\n1     RF  0.352227\n2    SVM  0.400810\n3    MLP  0.396761\n4    XGB  0.340081",
      "text/html": "<div>\n<style scoped>\n    .dataframe tbody tr th:only-of-type {\n        vertical-align: middle;\n    }\n\n    .dataframe tbody tr th {\n        vertical-align: top;\n    }\n\n    .dataframe thead th {\n        text-align: right;\n    }\n</style>\n<table border=\"1\" class=\"dataframe\">\n  <thead>\n    <tr style=\"text-align: right;\">\n      <th></th>\n      <th>Modelo</th>\n      <th>Acurácia</th>\n    </tr>\n  </thead>\n  <tbody>\n    <tr>\n      <th>0</th>\n      <td>Dummy</td>\n      <td>0.315789</td>\n    </tr>\n    <tr>\n      <th>1</th>\n      <td>RF</td>\n      <td>0.352227</td>\n    </tr>\n    <tr>\n      <th>2</th>\n      <td>SVM</td>\n      <td>0.400810</td>\n    </tr>\n    <tr>\n      <th>3</th>\n      <td>MLP</td>\n      <td>0.396761</td>\n    </tr>\n    <tr>\n      <th>4</th>\n      <td>XGB</td>\n      <td>0.340081</td>\n    </tr>\n  </tbody>\n</table>\n</div>"
     },
     "execution_count": 35,
     "metadata": {},
     "output_type": "execute_result"
    }
   ],
   "source": [
    "avalia_dif_modelos_cv(X_train3, y_train3, 5)"
   ],
   "metadata": {
    "collapsed": false,
    "ExecuteTime": {
     "end_time": "2023-08-30T00:53:40.677784600Z",
     "start_time": "2023-08-30T00:53:34.244183700Z"
    }
   }
  },
  {
   "cell_type": "code",
   "execution_count": 36,
   "outputs": [
    {
     "name": "stdout",
     "output_type": "stream",
     "text": [
      "---------------------------------------------\n",
      "model_name:  DummyClassifier\n",
      "Average Classification Report:\n",
      "              precision    recall  f1-score   support\n",
      "\n",
      "           0       0.00      0.00      0.00        81\n",
      "           1       0.00      0.00      0.00        80\n",
      "           2       0.35      1.00      0.52        86\n",
      "\n",
      "    accuracy                           0.35       247\n",
      "   macro avg       0.12      0.33      0.17       247\n",
      "weighted avg       0.12      0.35      0.18       247\n",
      "---------------------------------------------\n",
      "model_name:  RandomForestClassifier\n",
      "Average Classification Report:\n",
      "              precision    recall  f1-score   support\n",
      "\n",
      "           0       0.80      0.80      0.80        81\n",
      "           1       0.66      0.60      0.63        80\n",
      "           2       0.78      0.85      0.82        86\n",
      "\n",
      "    accuracy                           0.75       247\n",
      "   macro avg       0.75      0.75      0.75       247\n",
      "weighted avg       0.75      0.75      0.75       247\n",
      "\n",
      "---------------------------------------------\n",
      "model_name:  SVC\n",
      "Average Classification Report:\n",
      "              precision    recall  f1-score   support\n",
      "\n",
      "           0       0.81      0.79      0.80        81\n",
      "           1       0.56      0.55      0.55        80\n",
      "           2       0.72      0.74      0.73        86\n",
      "\n",
      "    accuracy                           0.70       247\n",
      "   macro avg       0.70      0.69      0.69       247\n",
      "weighted avg       0.70      0.70      0.70       247\n",
      "---------------------------------------------\n",
      "model_name:  MLPClassifier\n",
      "Average Classification Report:\n",
      "              precision    recall  f1-score   support\n",
      "\n",
      "           0       0.77      0.74      0.75        81\n",
      "           1       0.51      0.49      0.50        80\n",
      "           2       0.70      0.74      0.72        86\n",
      "\n",
      "    accuracy                           0.66       247\n",
      "   macro avg       0.66      0.66      0.66       247\n",
      "weighted avg       0.66      0.66      0.66       247\n",
      "---------------------------------------------\n",
      "model_name:  XGBClassifier\n",
      "Average Classification Report:\n",
      "              precision    recall  f1-score   support\n",
      "\n",
      "           0       0.79      0.73      0.76        81\n",
      "           1       0.55      0.59      0.57        80\n",
      "           2       0.77      0.78      0.77        86\n",
      "\n",
      "    accuracy                           0.70       247\n",
      "   macro avg       0.70      0.70      0.70       247\n",
      "weighted avg       0.71      0.70      0.70       247\n"
     ]
    },
    {
     "data": {
      "text/plain": "<Figure size 640x480 with 1 Axes>",
      "image/png": "[encoded data removed]"
     },
     "metadata": {},
     "output_type": "display_data"
    },
    {
     "data": {
      "text/plain": "  Modelo  Acurácia\n0  Dummy  0.348178\n1     RF  0.753036\n2    SVM  0.696356\n3    MLP  0.659919\n4    XGB  0.700405",
      "text/html": "<div>\n<style scoped>\n    .dataframe tbody tr th:only-of-type {\n        vertical-align: middle;\n    }\n\n    .dataframe tbody tr th {\n        vertical-align: top;\n    }\n\n    .dataframe thead th {\n        text-align: right;\n    }\n</style>\n<table border=\"1\" class=\"dataframe\">\n  <thead>\n    <tr style=\"text-align: right;\">\n      <th></th>\n      <th>Modelo</th>\n      <th>Acurácia</th>\n    </tr>\n  </thead>\n  <tbody>\n    <tr>\n      <th>0</th>\n      <td>Dummy</td>\n      <td>0.348178</td>\n    </tr>\n    <tr>\n      <th>1</th>\n      <td>RF</td>\n      <td>0.753036</td>\n    </tr>\n    <tr>\n      <th>2</th>\n      <td>SVM</td>\n      <td>0.696356</td>\n    </tr>\n    <tr>\n      <th>3</th>\n      <td>MLP</td>\n      <td>0.659919</td>\n    </tr>\n    <tr>\n      <th>4</th>\n      <td>XGB</td>\n      <td>0.700405</td>\n    </tr>\n  </tbody>\n</table>\n</div>"
     },
     "execution_count": 36,
     "metadata": {},
     "output_type": "execute_result"
    }
   ],
   "source": [
    "avalia_dif_modelos_cv(X_train4, y_train4, 5)"
   ],
   "metadata": {
    "collapsed": false,
    "ExecuteTime": {
     "end_time": "2023-08-30T00:53:46.574108600Z",
     "start_time": "2023-08-30T00:53:40.679789200Z"
    }
   }
  },
  {
   "cell_type": "code",
   "execution_count": 37,
   "metadata": {
    "ExecuteTime": {
     "end_time": "2023-08-30T00:53:46.578107600Z",
     "start_time": "2023-08-30T00:53:46.570898100Z"
    }
   },
   "outputs": [],
   "source": [
    "# Definindo parametros:\n",
    "# Definir os modelos e os grids de parâmetros\n",
    "models = {\n",
    "    'Random Forest': RandomForestClassifier(),\n",
    "    'SVM': SVC(),\n",
    "    'MLP': MLPClassifier(),\n",
    "    'XGBoost': XGBClassifier()\n",
    "}\n",
    "\n",
    "param_grids = [\n",
    "    {\n",
    "        'model': 'Random Forest',\n",
    "        'params': {\n",
    "            'n_estimators': [50, 100, 200, 300, 400, 500],\n",
    "            'max_depth': [None, 5, 10, 15, 20],\n",
    "            'min_samples_split': [2, 5, 10],\n",
    "            'min_samples_leaf': [1, 2, 4],\n",
    "            'max_features': ['auto', 'sqrt', 'log2']\n",
    "        }\n",
    "    },\n",
    "    {\n",
    "        'model': 'SVM',\n",
    "        'params': {\n",
    "            'C': [0.1, 1, 10, 100],\n",
    "            'kernel': ['linear', 'rbf', 'poly', 'sigmoid'],\n",
    "            'gamma': ['scale', 'auto']\n",
    "        }\n",
    "    },\n",
    "    {\n",
    "        'model': 'MLP',\n",
    "        'params': {\n",
    "            'hidden_layer_sizes': [(10,), (50,), (100,), (150,), (200,)],\n",
    "            'activation': ['logistic', 'tanh', 'relu'],\n",
    "            'alpha': [0.0001, 0.001, 0.01, 0.1, 1],\n",
    "            'learning_rate': ['constant', 'invscaling', 'adaptive']\n",
    "        }\n",
    "    },\n",
    "    {\n",
    "        'model': 'XGBoost',\n",
    "        'params': {\n",
    "            'n_estimators': [50, 100, 200, 300, 400, 500],\n",
    "            'max_depth': [3, 5, 7, 9, 11],\n",
    "            'learning_rate': [0.01, 0.1, 0.2, 0.3],\n",
    "            'subsample': [0.6, 0.8, 1.0],\n",
    "            'colsample_bytree': [0.6, 0.8, 1.0]\n",
    "        }\n",
    "    }\n",
    "]\n",
    "\n",
    "\n",
    "\n"
   ]
  },
  {
   "cell_type": "code",
   "execution_count": 38,
   "outputs": [],
   "source": [
    "# Criando uma função para avaliar os modelos\n",
    "def avalia_modelo_cv(model, X_input, y_input, n, resultados_individuais=False):\n",
    "    kf = KFold(n_splits=n)\n",
    "    reports = []\n",
    "    y_true = []\n",
    "    y_pred_list = []\n",
    "    X_array = X_input.values\n",
    "    accuracy_list = []\n",
    "    model_name = type(model).__name__\n",
    "    for fold_idx, (train_index, test_index) in enumerate(kf.split(X_input)):\n",
    "        X_train, X_test = X_array[train_index], X_array[test_index]\n",
    "        y_train, y_test = y_input[train_index], y_input[test_index]\n",
    "        model.fit(X_train, y_train)\n",
    "        y_pred = model.predict(X_test)\n",
    "        y_true.extend(y_test)\n",
    "        y_pred_list.append(y_pred)\n",
    "        report = classification_report(y_test, y_pred, zero_division=0)\n",
    "        reports.append(report)\n",
    "        accuracy_list.append(accuracy_score(y_test, y_pred))\n",
    "        if resultados_individuais:\n",
    "            print(f\"Classification Report for fold {fold_idx + 1}:\\n{report}\\n\")\n",
    "    y_pred_total = np.concatenate(y_pred_list)\n",
    "    print(\"-\" * 45)\n",
    "    print(\"model_name: \", model_name)\n",
    "    print(\"Average Classification Report:\")\n",
    "    avg_report = classification_report(y_true, y_pred_total, zero_division=0)\n",
    "    print(avg_report)\n",
    "    #Retorna a acuracia media\n",
    "    return accuracy_score(y_true, y_pred_total)"
   ],
   "metadata": {
    "collapsed": false,
    "ExecuteTime": {
     "end_time": "2023-08-30T00:53:46.620951800Z",
     "start_time": "2023-08-30T00:53:46.588055600Z"
    }
   }
  },
  {
   "cell_type": "code",
   "execution_count": 39,
   "outputs": [],
   "source": [
    "from sklearn.metrics import classification_report, accuracy_score\n",
    "from sklearn.model_selection import cross_val_predict\n",
    "import numpy as np\n",
    "\n",
    "\n",
    "def perform_cross_validation(model, X, y, cv, verbose=True):\n",
    "    reports = []\n",
    "    predictions = cross_val_predict(model, X, y, cv=cv)\n",
    "\n",
    "    for fold in range(cv):\n",
    "        start = fold * len(X) // cv\n",
    "        end = (fold + 1) * len(X) // cv\n",
    "        report = classification_report(y[start:end], predictions[start:end], output_dict=True)\n",
    "        reports.append(report)\n",
    "\n",
    "        if verbose:\n",
    "            print(f\"Fold {fold + 1} Classification Report:\")\n",
    "            print(classification_report(y[start:end], predictions[start:end]))\n",
    "            print(\"-\" * 50)\n",
    "\n",
    "    avg_report = {\n",
    "        'precision': np.mean([report['weighted avg']['precision'] for report in reports]),\n",
    "        'recall': np.mean([report['weighted avg']['recall'] for report in reports]),\n",
    "        'f1-score': np.mean([report['weighted avg']['f1-score'] for report in reports]),\n",
    "        'support': np.mean([report['weighted avg']['support'] for report in reports])\n",
    "    }\n",
    "\n",
    "    accuracy = accuracy_score(y, predictions)\n",
    "\n",
    "    if verbose or not verbose:\n",
    "        print(\"Average Classification Report:\")\n",
    "        print(classification_report(y, predictions))\n",
    "        print(\"-\" * 50)\n",
    "        print(f\"Accuracy: {accuracy:.2f}\")\n",
    "\n",
    "    return None\n"
   ],
   "metadata": {
    "collapsed": false,
    "ExecuteTime": {
     "end_time": "2023-08-30T00:53:46.671945800Z",
     "start_time": "2023-08-30T00:53:46.598059900Z"
    }
   }
  },
  {
   "cell_type": "code",
   "execution_count": 40,
   "outputs": [
    {
     "name": "stdout",
     "output_type": "stream",
     "text": [
      "Fold 1 Classification Report:\n",
      "              precision    recall  f1-score   support\n",
      "\n",
      "           0       1.00      0.34      0.51        61\n",
      "           1       0.00      0.00      0.00         0\n",
      "           2       0.00      0.00      0.00         0\n",
      "\n",
      "    accuracy                           0.34        61\n",
      "   macro avg       0.33      0.11      0.17        61\n",
      "weighted avg       1.00      0.34      0.51        61\n",
      "\n",
      "--------------------------------------------------\n",
      "Fold 2 Classification Report:\n",
      "              precision    recall  f1-score   support\n",
      "\n",
      "           0       0.71      0.29      0.41        42\n",
      "           1       0.47      0.40      0.43        20\n",
      "           2       0.00      0.00      0.00         0\n",
      "\n",
      "    accuracy                           0.32        62\n",
      "   macro avg       0.39      0.23      0.28        62\n",
      "weighted avg       0.63      0.32      0.42        62\n",
      "\n",
      "--------------------------------------------------\n",
      "Fold 3 Classification Report:\n",
      "              precision    recall  f1-score   support\n",
      "\n",
      "           0       0.00      0.00      0.00         0\n",
      "           1       1.00      0.31      0.47        62\n",
      "           2       0.00      0.00      0.00         0\n",
      "\n",
      "    accuracy                           0.31        62\n",
      "   macro avg       0.33      0.10      0.16        62\n",
      "weighted avg       1.00      0.31      0.47        62\n",
      "\n",
      "--------------------------------------------------\n",
      "Fold 4 Classification Report:\n",
      "              precision    recall  f1-score   support\n",
      "\n",
      "           0       0.00      0.00      0.00         0\n",
      "           1       0.33      0.33      0.33        21\n",
      "           2       0.50      0.17      0.25        41\n",
      "\n",
      "    accuracy                           0.23        62\n",
      "   macro avg       0.28      0.17      0.20        62\n",
      "weighted avg       0.44      0.23      0.28        62\n",
      "\n",
      "--------------------------------------------------\n",
      "Fold 5 Classification Report:\n",
      "              precision    recall  f1-score   support\n",
      "\n",
      "           0       0.00      0.00      0.00         0\n",
      "           1       0.00      0.00      0.00         0\n",
      "           2       1.00      0.35      0.52        62\n",
      "\n",
      "    accuracy                           0.35        62\n",
      "   macro avg       0.33      0.12      0.17        62\n",
      "weighted avg       1.00      0.35      0.52        62\n",
      "\n",
      "--------------------------------------------------\n",
      "Average Classification Report:\n",
      "              precision    recall  f1-score   support\n",
      "\n",
      "           0       0.32      0.32      0.32       103\n",
      "           1       0.35      0.33      0.34       103\n",
      "           2       0.26      0.28      0.27       103\n",
      "\n",
      "    accuracy                           0.31       309\n",
      "   macro avg       0.31      0.31      0.31       309\n",
      "weighted avg       0.31      0.31      0.31       309\n",
      "\n",
      "--------------------------------------------------\n",
      "Accuracy: 0.31\n"
     ]
    }
   ],
   "source": [
    "# Chamando função para cada uma das bases\n",
    "# Aplicando Random Forest no under-sampling com Cross Validation de 10 folds\n",
    "from sklearn.metrics import classification_report\n",
    "from sklearn.model_selection import cross_val_score\n",
    "model = RandomForestClassifier()\n",
    "modelSVM = SVC()\n",
    "#avalia_modelo_cv(model, data1_re, target1_re, 5, True)\n",
    "\n",
    "perform_cross_validation(model, data1_re, target1_re, 5, True)\n",
    "\n"
   ],
   "metadata": {
    "collapsed": false,
    "ExecuteTime": {
     "end_time": "2023-08-30T00:53:48.440265Z",
     "start_time": "2023-08-30T00:53:46.606958600Z"
    }
   }
  },
  {
   "cell_type": "code",
   "execution_count": 41,
   "outputs": [
    {
     "name": "stdout",
     "output_type": "stream",
     "text": [
      "Fold 1 Classification Report:\n",
      "              precision    recall  f1-score   support\n",
      "\n",
      "           0       1.00      0.74      0.85        61\n",
      "           1       0.00      0.00      0.00         0\n",
      "           2       0.00      0.00      0.00         0\n",
      "\n",
      "    accuracy                           0.74        61\n",
      "   macro avg       0.33      0.25      0.28        61\n",
      "weighted avg       1.00      0.74      0.85        61\n",
      "\n",
      "--------------------------------------------------\n",
      "Fold 2 Classification Report:\n",
      "              precision    recall  f1-score   support\n",
      "\n",
      "           0       0.85      0.83      0.84        42\n",
      "           1       0.62      0.50      0.56        20\n",
      "           2       0.00      0.00      0.00         0\n",
      "\n",
      "    accuracy                           0.73        62\n",
      "   macro avg       0.49      0.44      0.47        62\n",
      "weighted avg       0.78      0.73      0.75        62\n",
      "\n",
      "--------------------------------------------------\n",
      "Fold 3 Classification Report:\n",
      "              precision    recall  f1-score   support\n",
      "\n",
      "           0       0.00      0.00      0.00         0\n",
      "           1       1.00      0.45      0.62        62\n",
      "           2       0.00      0.00      0.00         0\n",
      "\n",
      "    accuracy                           0.45        62\n",
      "   macro avg       0.33      0.15      0.21        62\n",
      "weighted avg       1.00      0.45      0.62        62\n",
      "\n",
      "--------------------------------------------------\n",
      "Fold 4 Classification Report:\n",
      "              precision    recall  f1-score   support\n",
      "\n",
      "           0       0.00      0.00      0.00         0\n",
      "           1       0.41      0.43      0.42        21\n",
      "           2       0.80      0.68      0.74        41\n",
      "\n",
      "    accuracy                           0.60        62\n",
      "   macro avg       0.40      0.37      0.39        62\n",
      "weighted avg       0.67      0.60      0.63        62\n",
      "\n",
      "--------------------------------------------------\n",
      "Fold 5 Classification Report:\n",
      "              precision    recall  f1-score   support\n",
      "\n",
      "           1       0.00      0.00      0.00         0\n",
      "           2       1.00      0.73      0.84        62\n",
      "\n",
      "    accuracy                           0.73        62\n",
      "   macro avg       0.50      0.36      0.42        62\n",
      "weighted avg       1.00      0.73      0.84        62\n",
      "\n",
      "--------------------------------------------------\n",
      "Average Classification Report:\n",
      "              precision    recall  f1-score   support\n",
      "\n",
      "           0       0.76      0.78      0.77       103\n",
      "           1       0.48      0.46      0.47       103\n",
      "           2       0.68      0.71      0.70       103\n",
      "\n",
      "    accuracy                           0.65       309\n",
      "   macro avg       0.64      0.65      0.64       309\n",
      "weighted avg       0.64      0.65      0.64       309\n",
      "\n",
      "--------------------------------------------------\n",
      "Accuracy: 0.65\n"
     ]
    }
   ],
   "source": [
    "perform_cross_validation(model, data2_re, target2_re, 5, True)\n"
   ],
   "metadata": {
    "collapsed": false,
    "ExecuteTime": {
     "end_time": "2023-08-30T00:53:49.954972300Z",
     "start_time": "2023-08-30T00:53:48.427267700Z"
    }
   }
  },
  {
   "cell_type": "code",
   "execution_count": 45,
   "outputs": [
    {
     "name": "stdout",
     "output_type": "stream",
     "text": [
      "Fold 1 Classification Report:\n",
      "              precision    recall  f1-score   support\n",
      "\n",
      "           0       1.00      0.46      0.63        61\n",
      "           1       0.00      0.00      0.00         0\n",
      "           2       0.00      0.00      0.00         0\n",
      "\n",
      "    accuracy                           0.46        61\n",
      "   macro avg       0.33      0.15      0.21        61\n",
      "weighted avg       1.00      0.46      0.63        61\n",
      "\n",
      "--------------------------------------------------\n",
      "Fold 2 Classification Report:\n",
      "              precision    recall  f1-score   support\n",
      "\n",
      "           0       0.81      0.40      0.54        42\n",
      "           1       0.44      0.40      0.42        20\n",
      "           2       0.00      0.00      0.00         0\n",
      "\n",
      "    accuracy                           0.40        62\n",
      "   macro avg       0.42      0.27      0.32        62\n",
      "weighted avg       0.69      0.40      0.50        62\n",
      "\n",
      "--------------------------------------------------\n",
      "Fold 3 Classification Report:\n",
      "              precision    recall  f1-score   support\n",
      "\n",
      "           0       0.00      0.00      0.00         0\n",
      "           1       1.00      0.39      0.56        62\n",
      "           2       0.00      0.00      0.00         0\n",
      "\n",
      "    accuracy                           0.39        62\n",
      "   macro avg       0.33      0.13      0.19        62\n",
      "weighted avg       1.00      0.39      0.56        62\n",
      "\n",
      "--------------------------------------------------\n",
      "Fold 4 Classification Report:\n",
      "              precision    recall  f1-score   support\n",
      "\n",
      "           0       0.00      0.00      0.00         0\n",
      "           1       0.36      0.38      0.37        21\n",
      "           2       0.56      0.24      0.34        41\n",
      "\n",
      "    accuracy                           0.29        62\n",
      "   macro avg       0.31      0.21      0.24        62\n",
      "weighted avg       0.49      0.29      0.35        62\n",
      "\n",
      "--------------------------------------------------\n",
      "Fold 5 Classification Report:\n",
      "              precision    recall  f1-score   support\n",
      "\n",
      "           0       0.00      0.00      0.00         0\n",
      "           1       0.00      0.00      0.00         0\n",
      "           2       1.00      0.32      0.49        62\n",
      "\n",
      "    accuracy                           0.32        62\n",
      "   macro avg       0.33      0.11      0.16        62\n",
      "weighted avg       1.00      0.32      0.49        62\n",
      "\n",
      "--------------------------------------------------\n",
      "Average Classification Report:\n",
      "              precision    recall  f1-score   support\n",
      "\n",
      "           0       0.41      0.44      0.42       103\n",
      "           1       0.38      0.39      0.38       103\n",
      "           2       0.32      0.29      0.31       103\n",
      "\n",
      "    accuracy                           0.37       309\n",
      "   macro avg       0.37      0.37      0.37       309\n",
      "weighted avg       0.37      0.37      0.37       309\n",
      "\n",
      "--------------------------------------------------\n",
      "Accuracy: 0.37\n"
     ]
    }
   ],
   "source": [
    "model_rf = RandomForestClassifier(n_jobs=-1)\n",
    "perform_cross_validation(model_rf, data3_re, target3_re, 5, True)"
   ],
   "metadata": {
    "collapsed": false,
    "ExecuteTime": {
     "end_time": "2023-08-30T00:55:15.028250900Z",
     "start_time": "2023-08-30T00:55:08.826194600Z"
    }
   }
  },
  {
   "cell_type": "code",
   "execution_count": 43,
   "outputs": [
    {
     "name": "stdout",
     "output_type": "stream",
     "text": [
      "Fold 1 Classification Report:\n",
      "              precision    recall  f1-score   support\n",
      "\n",
      "           0       1.00      0.89      0.94        61\n",
      "           1       0.00      0.00      0.00         0\n",
      "           2       0.00      0.00      0.00         0\n",
      "\n",
      "    accuracy                           0.89        61\n",
      "   macro avg       0.33      0.30      0.31        61\n",
      "weighted avg       1.00      0.89      0.94        61\n",
      "\n",
      "--------------------------------------------------\n",
      "Fold 2 Classification Report:\n",
      "              precision    recall  f1-score   support\n",
      "\n",
      "           0       0.94      0.76      0.84        42\n",
      "           1       0.55      0.55      0.55        20\n",
      "           2       0.00      0.00      0.00         0\n",
      "\n",
      "    accuracy                           0.69        62\n",
      "   macro avg       0.50      0.44      0.46        62\n",
      "weighted avg       0.81      0.69      0.75        62\n",
      "\n",
      "--------------------------------------------------\n",
      "Fold 3 Classification Report:\n",
      "              precision    recall  f1-score   support\n",
      "\n",
      "           0       0.00      0.00      0.00         0\n",
      "           1       1.00      0.68      0.81        62\n",
      "           2       0.00      0.00      0.00         0\n",
      "\n",
      "    accuracy                           0.68        62\n",
      "   macro avg       0.33      0.23      0.27        62\n",
      "weighted avg       1.00      0.68      0.81        62\n",
      "\n",
      "--------------------------------------------------\n",
      "Fold 4 Classification Report:\n",
      "              precision    recall  f1-score   support\n",
      "\n",
      "           0       0.00      0.00      0.00         0\n",
      "           1       0.58      0.52      0.55        21\n",
      "           2       0.94      0.80      0.87        41\n",
      "\n",
      "    accuracy                           0.71        62\n",
      "   macro avg       0.51      0.44      0.47        62\n",
      "weighted avg       0.82      0.71      0.76        62\n",
      "\n",
      "--------------------------------------------------\n",
      "Fold 5 Classification Report:\n",
      "              precision    recall  f1-score   support\n",
      "\n",
      "           0       0.00      0.00      0.00         0\n",
      "           1       0.00      0.00      0.00         0\n",
      "           2       1.00      0.84      0.91        62\n",
      "\n",
      "    accuracy                           0.84        62\n",
      "   macro avg       0.33      0.28      0.30        62\n",
      "weighted avg       1.00      0.84      0.91        62\n",
      "\n",
      "--------------------------------------------------\n",
      "Average Classification Report:\n",
      "              precision    recall  f1-score   support\n",
      "\n",
      "           0       0.80      0.83      0.82       103\n",
      "           1       0.67      0.62      0.65       103\n",
      "           2       0.80      0.83      0.81       103\n",
      "\n",
      "    accuracy                           0.76       309\n",
      "   macro avg       0.76      0.76      0.76       309\n",
      "weighted avg       0.76      0.76      0.76       309\n",
      "\n",
      "--------------------------------------------------\n",
      "Accuracy: 0.76\n"
     ]
    }
   ],
   "source": [
    "perform_cross_validation(model, data4_re, target4_re, 5, True)"
   ],
   "metadata": {
    "collapsed": false,
    "ExecuteTime": {
     "end_time": "2023-08-30T00:53:52.145226300Z",
     "start_time": "2023-08-30T00:53:51.080778600Z"
    }
   }
  },
  {
   "cell_type": "code",
   "execution_count": 44,
   "outputs": [
    {
     "name": "stdout",
     "output_type": "stream",
     "text": [
      "========================== Data 1  =================================\n",
      "Tuning do modelo Random Forest iniciado...\n"
     ]
    },
    {
     "ename": "KeyboardInterrupt",
     "evalue": "",
     "output_type": "error",
     "traceback": [
      "\u001B[1;31m---------------------------------------------------------------------------\u001B[0m",
      "\u001B[1;31mKeyboardInterrupt\u001B[0m                         Traceback (most recent call last)",
      "Cell \u001B[1;32mIn[44], line 3\u001B[0m\n\u001B[0;32m      1\u001B[0m \u001B[38;5;66;03m# Chamando função para cada uma das bases\u001B[39;00m\n\u001B[0;32m      2\u001B[0m \u001B[38;5;28mprint\u001B[39m(\u001B[38;5;124m\"\u001B[39m\u001B[38;5;124m========================== Data 1  =================================\u001B[39m\u001B[38;5;124m\"\u001B[39m)\n\u001B[1;32m----> 3\u001B[0m best_models1, modelo1 \u001B[38;5;241m=\u001B[39m perform_model_tuning(data1, target1, models, param_grids, \u001B[38;5;124m\"\u001B[39m\u001B[38;5;124mdata1\u001B[39m\u001B[38;5;124m\"\u001B[39m)\n\u001B[0;32m      4\u001B[0m \u001B[38;5;66;03m#print(\"========================== Data 2  =================================\")\u001B[39;00m\n\u001B[0;32m      5\u001B[0m best_models2, modelo2 \u001B[38;5;241m=\u001B[39m perform_model_tuning(data2, target2, models, param_grids,\u001B[38;5;124m\"\u001B[39m\u001B[38;5;124mdata2\u001B[39m\u001B[38;5;124m\"\u001B[39m)\n",
      "Cell \u001B[1;32mIn[29], line 16\u001B[0m, in \u001B[0;36mperform_model_tuning\u001B[1;34m(data, target, models, param_grids, base_name)\u001B[0m\n\u001B[0;32m     14\u001B[0m \u001B[38;5;66;03m# Realizar a busca em grid para encontrar os melhores parâmetros\u001B[39;00m\n\u001B[0;32m     15\u001B[0m grid_search \u001B[38;5;241m=\u001B[39m GridSearchCV(model, param_grid, cv\u001B[38;5;241m=\u001B[39m\u001B[38;5;241m5\u001B[39m, scoring\u001B[38;5;241m=\u001B[39m\u001B[38;5;124m'\u001B[39m\u001B[38;5;124maccuracy\u001B[39m\u001B[38;5;124m'\u001B[39m)\n\u001B[1;32m---> 16\u001B[0m grid_search\u001B[38;5;241m.\u001B[39mfit(X_train, y_train)\n\u001B[0;32m     18\u001B[0m \u001B[38;5;66;03m# Melhor modelo encontrado\u001B[39;00m\n\u001B[0;32m     19\u001B[0m best_model \u001B[38;5;241m=\u001B[39m grid_search\u001B[38;5;241m.\u001B[39mbest_estimator_\n",
      "File \u001B[1;32m~\\.conda\\envs\\Classificacao_MHI_BIC\\Lib\\site-packages\\sklearn\\model_selection\\_search.py:874\u001B[0m, in \u001B[0;36mBaseSearchCV.fit\u001B[1;34m(self, X, y, groups, **fit_params)\u001B[0m\n\u001B[0;32m    868\u001B[0m     results \u001B[38;5;241m=\u001B[39m \u001B[38;5;28mself\u001B[39m\u001B[38;5;241m.\u001B[39m_format_results(\n\u001B[0;32m    869\u001B[0m         all_candidate_params, n_splits, all_out, all_more_results\n\u001B[0;32m    870\u001B[0m     )\n\u001B[0;32m    872\u001B[0m     \u001B[38;5;28;01mreturn\u001B[39;00m results\n\u001B[1;32m--> 874\u001B[0m \u001B[38;5;28mself\u001B[39m\u001B[38;5;241m.\u001B[39m_run_search(evaluate_candidates)\n\u001B[0;32m    876\u001B[0m \u001B[38;5;66;03m# multimetric is determined here because in the case of a callable\u001B[39;00m\n\u001B[0;32m    877\u001B[0m \u001B[38;5;66;03m# self.scoring the return type is only known after calling\u001B[39;00m\n\u001B[0;32m    878\u001B[0m first_test_score \u001B[38;5;241m=\u001B[39m all_out[\u001B[38;5;241m0\u001B[39m][\u001B[38;5;124m\"\u001B[39m\u001B[38;5;124mtest_scores\u001B[39m\u001B[38;5;124m\"\u001B[39m]\n",
      "File \u001B[1;32m~\\.conda\\envs\\Classificacao_MHI_BIC\\Lib\\site-packages\\sklearn\\model_selection\\_search.py:1388\u001B[0m, in \u001B[0;36mGridSearchCV._run_search\u001B[1;34m(self, evaluate_candidates)\u001B[0m\n\u001B[0;32m   1386\u001B[0m \u001B[38;5;28;01mdef\u001B[39;00m \u001B[38;5;21m_run_search\u001B[39m(\u001B[38;5;28mself\u001B[39m, evaluate_candidates):\n\u001B[0;32m   1387\u001B[0m     \u001B[38;5;124;03m\"\"\"Search all candidates in param_grid\"\"\"\u001B[39;00m\n\u001B[1;32m-> 1388\u001B[0m     evaluate_candidates(ParameterGrid(\u001B[38;5;28mself\u001B[39m\u001B[38;5;241m.\u001B[39mparam_grid))\n",
      "File \u001B[1;32m~\\.conda\\envs\\Classificacao_MHI_BIC\\Lib\\site-packages\\sklearn\\model_selection\\_search.py:821\u001B[0m, in \u001B[0;36mBaseSearchCV.fit.<locals>.evaluate_candidates\u001B[1;34m(candidate_params, cv, more_results)\u001B[0m\n\u001B[0;32m    813\u001B[0m \u001B[38;5;28;01mif\u001B[39;00m \u001B[38;5;28mself\u001B[39m\u001B[38;5;241m.\u001B[39mverbose \u001B[38;5;241m>\u001B[39m \u001B[38;5;241m0\u001B[39m:\n\u001B[0;32m    814\u001B[0m     \u001B[38;5;28mprint\u001B[39m(\n\u001B[0;32m    815\u001B[0m         \u001B[38;5;124m\"\u001B[39m\u001B[38;5;124mFitting \u001B[39m\u001B[38;5;132;01m{0}\u001B[39;00m\u001B[38;5;124m folds for each of \u001B[39m\u001B[38;5;132;01m{1}\u001B[39;00m\u001B[38;5;124m candidates,\u001B[39m\u001B[38;5;124m\"\u001B[39m\n\u001B[0;32m    816\u001B[0m         \u001B[38;5;124m\"\u001B[39m\u001B[38;5;124m totalling \u001B[39m\u001B[38;5;132;01m{2}\u001B[39;00m\u001B[38;5;124m fits\u001B[39m\u001B[38;5;124m\"\u001B[39m\u001B[38;5;241m.\u001B[39mformat(\n\u001B[0;32m    817\u001B[0m             n_splits, n_candidates, n_candidates \u001B[38;5;241m*\u001B[39m n_splits\n\u001B[0;32m    818\u001B[0m         )\n\u001B[0;32m    819\u001B[0m     )\n\u001B[1;32m--> 821\u001B[0m out \u001B[38;5;241m=\u001B[39m parallel(\n\u001B[0;32m    822\u001B[0m     delayed(_fit_and_score)(\n\u001B[0;32m    823\u001B[0m         clone(base_estimator),\n\u001B[0;32m    824\u001B[0m         X,\n\u001B[0;32m    825\u001B[0m         y,\n\u001B[0;32m    826\u001B[0m         train\u001B[38;5;241m=\u001B[39mtrain,\n\u001B[0;32m    827\u001B[0m         test\u001B[38;5;241m=\u001B[39mtest,\n\u001B[0;32m    828\u001B[0m         parameters\u001B[38;5;241m=\u001B[39mparameters,\n\u001B[0;32m    829\u001B[0m         split_progress\u001B[38;5;241m=\u001B[39m(split_idx, n_splits),\n\u001B[0;32m    830\u001B[0m         candidate_progress\u001B[38;5;241m=\u001B[39m(cand_idx, n_candidates),\n\u001B[0;32m    831\u001B[0m         \u001B[38;5;241m*\u001B[39m\u001B[38;5;241m*\u001B[39mfit_and_score_kwargs,\n\u001B[0;32m    832\u001B[0m     )\n\u001B[0;32m    833\u001B[0m     \u001B[38;5;28;01mfor\u001B[39;00m (cand_idx, parameters), (split_idx, (train, test)) \u001B[38;5;129;01min\u001B[39;00m product(\n\u001B[0;32m    834\u001B[0m         \u001B[38;5;28menumerate\u001B[39m(candidate_params), \u001B[38;5;28menumerate\u001B[39m(cv\u001B[38;5;241m.\u001B[39msplit(X, y, groups))\n\u001B[0;32m    835\u001B[0m     )\n\u001B[0;32m    836\u001B[0m )\n\u001B[0;32m    838\u001B[0m \u001B[38;5;28;01mif\u001B[39;00m \u001B[38;5;28mlen\u001B[39m(out) \u001B[38;5;241m<\u001B[39m \u001B[38;5;241m1\u001B[39m:\n\u001B[0;32m    839\u001B[0m     \u001B[38;5;28;01mraise\u001B[39;00m \u001B[38;5;167;01mValueError\u001B[39;00m(\n\u001B[0;32m    840\u001B[0m         \u001B[38;5;124m\"\u001B[39m\u001B[38;5;124mNo fits were performed. \u001B[39m\u001B[38;5;124m\"\u001B[39m\n\u001B[0;32m    841\u001B[0m         \u001B[38;5;124m\"\u001B[39m\u001B[38;5;124mWas the CV iterator empty? \u001B[39m\u001B[38;5;124m\"\u001B[39m\n\u001B[0;32m    842\u001B[0m         \u001B[38;5;124m\"\u001B[39m\u001B[38;5;124mWere there no candidates?\u001B[39m\u001B[38;5;124m\"\u001B[39m\n\u001B[0;32m    843\u001B[0m     )\n",
      "File \u001B[1;32m~\\.conda\\envs\\Classificacao_MHI_BIC\\Lib\\site-packages\\sklearn\\utils\\parallel.py:63\u001B[0m, in \u001B[0;36mParallel.__call__\u001B[1;34m(self, iterable)\u001B[0m\n\u001B[0;32m     58\u001B[0m config \u001B[38;5;241m=\u001B[39m get_config()\n\u001B[0;32m     59\u001B[0m iterable_with_config \u001B[38;5;241m=\u001B[39m (\n\u001B[0;32m     60\u001B[0m     (_with_config(delayed_func, config), args, kwargs)\n\u001B[0;32m     61\u001B[0m     \u001B[38;5;28;01mfor\u001B[39;00m delayed_func, args, kwargs \u001B[38;5;129;01min\u001B[39;00m iterable\n\u001B[0;32m     62\u001B[0m )\n\u001B[1;32m---> 63\u001B[0m \u001B[38;5;28;01mreturn\u001B[39;00m \u001B[38;5;28msuper\u001B[39m()\u001B[38;5;241m.\u001B[39m\u001B[38;5;21m__call__\u001B[39m(iterable_with_config)\n",
      "File \u001B[1;32m~\\.conda\\envs\\Classificacao_MHI_BIC\\Lib\\site-packages\\joblib\\parallel.py:1051\u001B[0m, in \u001B[0;36mParallel.__call__\u001B[1;34m(self, iterable)\u001B[0m\n\u001B[0;32m   1048\u001B[0m \u001B[38;5;28;01mif\u001B[39;00m \u001B[38;5;28mself\u001B[39m\u001B[38;5;241m.\u001B[39mdispatch_one_batch(iterator):\n\u001B[0;32m   1049\u001B[0m     \u001B[38;5;28mself\u001B[39m\u001B[38;5;241m.\u001B[39m_iterating \u001B[38;5;241m=\u001B[39m \u001B[38;5;28mself\u001B[39m\u001B[38;5;241m.\u001B[39m_original_iterator \u001B[38;5;129;01mis\u001B[39;00m \u001B[38;5;129;01mnot\u001B[39;00m \u001B[38;5;28;01mNone\u001B[39;00m\n\u001B[1;32m-> 1051\u001B[0m \u001B[38;5;28;01mwhile\u001B[39;00m \u001B[38;5;28mself\u001B[39m\u001B[38;5;241m.\u001B[39mdispatch_one_batch(iterator):\n\u001B[0;32m   1052\u001B[0m     \u001B[38;5;28;01mpass\u001B[39;00m\n\u001B[0;32m   1054\u001B[0m \u001B[38;5;28;01mif\u001B[39;00m pre_dispatch \u001B[38;5;241m==\u001B[39m \u001B[38;5;124m\"\u001B[39m\u001B[38;5;124mall\u001B[39m\u001B[38;5;124m\"\u001B[39m \u001B[38;5;129;01mor\u001B[39;00m n_jobs \u001B[38;5;241m==\u001B[39m \u001B[38;5;241m1\u001B[39m:\n\u001B[0;32m   1055\u001B[0m     \u001B[38;5;66;03m# The iterable was consumed all at once by the above for loop.\u001B[39;00m\n\u001B[0;32m   1056\u001B[0m     \u001B[38;5;66;03m# No need to wait for async callbacks to trigger to\u001B[39;00m\n\u001B[0;32m   1057\u001B[0m     \u001B[38;5;66;03m# consumption.\u001B[39;00m\n",
      "File \u001B[1;32m~\\.conda\\envs\\Classificacao_MHI_BIC\\Lib\\site-packages\\joblib\\parallel.py:864\u001B[0m, in \u001B[0;36mParallel.dispatch_one_batch\u001B[1;34m(self, iterator)\u001B[0m\n\u001B[0;32m    862\u001B[0m     \u001B[38;5;28;01mreturn\u001B[39;00m \u001B[38;5;28;01mFalse\u001B[39;00m\n\u001B[0;32m    863\u001B[0m \u001B[38;5;28;01melse\u001B[39;00m:\n\u001B[1;32m--> 864\u001B[0m     \u001B[38;5;28mself\u001B[39m\u001B[38;5;241m.\u001B[39m_dispatch(tasks)\n\u001B[0;32m    865\u001B[0m     \u001B[38;5;28;01mreturn\u001B[39;00m \u001B[38;5;28;01mTrue\u001B[39;00m\n",
      "File \u001B[1;32m~\\.conda\\envs\\Classificacao_MHI_BIC\\Lib\\site-packages\\joblib\\parallel.py:782\u001B[0m, in \u001B[0;36mParallel._dispatch\u001B[1;34m(self, batch)\u001B[0m\n\u001B[0;32m    780\u001B[0m \u001B[38;5;28;01mwith\u001B[39;00m \u001B[38;5;28mself\u001B[39m\u001B[38;5;241m.\u001B[39m_lock:\n\u001B[0;32m    781\u001B[0m     job_idx \u001B[38;5;241m=\u001B[39m \u001B[38;5;28mlen\u001B[39m(\u001B[38;5;28mself\u001B[39m\u001B[38;5;241m.\u001B[39m_jobs)\n\u001B[1;32m--> 782\u001B[0m     job \u001B[38;5;241m=\u001B[39m \u001B[38;5;28mself\u001B[39m\u001B[38;5;241m.\u001B[39m_backend\u001B[38;5;241m.\u001B[39mapply_async(batch, callback\u001B[38;5;241m=\u001B[39mcb)\n\u001B[0;32m    783\u001B[0m     \u001B[38;5;66;03m# A job can complete so quickly than its callback is\u001B[39;00m\n\u001B[0;32m    784\u001B[0m     \u001B[38;5;66;03m# called before we get here, causing self._jobs to\u001B[39;00m\n\u001B[0;32m    785\u001B[0m     \u001B[38;5;66;03m# grow. To ensure correct results ordering, .insert is\u001B[39;00m\n\u001B[0;32m    786\u001B[0m     \u001B[38;5;66;03m# used (rather than .append) in the following line\u001B[39;00m\n\u001B[0;32m    787\u001B[0m     \u001B[38;5;28mself\u001B[39m\u001B[38;5;241m.\u001B[39m_jobs\u001B[38;5;241m.\u001B[39minsert(job_idx, job)\n",
      "File \u001B[1;32m~\\.conda\\envs\\Classificacao_MHI_BIC\\Lib\\site-packages\\joblib\\_parallel_backends.py:208\u001B[0m, in \u001B[0;36mSequentialBackend.apply_async\u001B[1;34m(self, func, callback)\u001B[0m\n\u001B[0;32m    206\u001B[0m \u001B[38;5;28;01mdef\u001B[39;00m \u001B[38;5;21mapply_async\u001B[39m(\u001B[38;5;28mself\u001B[39m, func, callback\u001B[38;5;241m=\u001B[39m\u001B[38;5;28;01mNone\u001B[39;00m):\n\u001B[0;32m    207\u001B[0m     \u001B[38;5;124;03m\"\"\"Schedule a func to be run\"\"\"\u001B[39;00m\n\u001B[1;32m--> 208\u001B[0m     result \u001B[38;5;241m=\u001B[39m ImmediateResult(func)\n\u001B[0;32m    209\u001B[0m     \u001B[38;5;28;01mif\u001B[39;00m callback:\n\u001B[0;32m    210\u001B[0m         callback(result)\n",
      "File \u001B[1;32m~\\.conda\\envs\\Classificacao_MHI_BIC\\Lib\\site-packages\\joblib\\_parallel_backends.py:572\u001B[0m, in \u001B[0;36mImmediateResult.__init__\u001B[1;34m(self, batch)\u001B[0m\n\u001B[0;32m    569\u001B[0m \u001B[38;5;28;01mdef\u001B[39;00m \u001B[38;5;21m__init__\u001B[39m(\u001B[38;5;28mself\u001B[39m, batch):\n\u001B[0;32m    570\u001B[0m     \u001B[38;5;66;03m# Don't delay the application, to avoid keeping the input\u001B[39;00m\n\u001B[0;32m    571\u001B[0m     \u001B[38;5;66;03m# arguments in memory\u001B[39;00m\n\u001B[1;32m--> 572\u001B[0m     \u001B[38;5;28mself\u001B[39m\u001B[38;5;241m.\u001B[39mresults \u001B[38;5;241m=\u001B[39m batch()\n",
      "File \u001B[1;32m~\\.conda\\envs\\Classificacao_MHI_BIC\\Lib\\site-packages\\joblib\\parallel.py:263\u001B[0m, in \u001B[0;36mBatchedCalls.__call__\u001B[1;34m(self)\u001B[0m\n\u001B[0;32m    259\u001B[0m \u001B[38;5;28;01mdef\u001B[39;00m \u001B[38;5;21m__call__\u001B[39m(\u001B[38;5;28mself\u001B[39m):\n\u001B[0;32m    260\u001B[0m     \u001B[38;5;66;03m# Set the default nested backend to self._backend but do not set the\u001B[39;00m\n\u001B[0;32m    261\u001B[0m     \u001B[38;5;66;03m# change the default number of processes to -1\u001B[39;00m\n\u001B[0;32m    262\u001B[0m     \u001B[38;5;28;01mwith\u001B[39;00m parallel_backend(\u001B[38;5;28mself\u001B[39m\u001B[38;5;241m.\u001B[39m_backend, n_jobs\u001B[38;5;241m=\u001B[39m\u001B[38;5;28mself\u001B[39m\u001B[38;5;241m.\u001B[39m_n_jobs):\n\u001B[1;32m--> 263\u001B[0m         \u001B[38;5;28;01mreturn\u001B[39;00m [func(\u001B[38;5;241m*\u001B[39margs, \u001B[38;5;241m*\u001B[39m\u001B[38;5;241m*\u001B[39mkwargs)\n\u001B[0;32m    264\u001B[0m                 \u001B[38;5;28;01mfor\u001B[39;00m func, args, kwargs \u001B[38;5;129;01min\u001B[39;00m \u001B[38;5;28mself\u001B[39m\u001B[38;5;241m.\u001B[39mitems]\n",
      "File \u001B[1;32m~\\.conda\\envs\\Classificacao_MHI_BIC\\Lib\\site-packages\\joblib\\parallel.py:263\u001B[0m, in \u001B[0;36m<listcomp>\u001B[1;34m(.0)\u001B[0m\n\u001B[0;32m    259\u001B[0m \u001B[38;5;28;01mdef\u001B[39;00m \u001B[38;5;21m__call__\u001B[39m(\u001B[38;5;28mself\u001B[39m):\n\u001B[0;32m    260\u001B[0m     \u001B[38;5;66;03m# Set the default nested backend to self._backend but do not set the\u001B[39;00m\n\u001B[0;32m    261\u001B[0m     \u001B[38;5;66;03m# change the default number of processes to -1\u001B[39;00m\n\u001B[0;32m    262\u001B[0m     \u001B[38;5;28;01mwith\u001B[39;00m parallel_backend(\u001B[38;5;28mself\u001B[39m\u001B[38;5;241m.\u001B[39m_backend, n_jobs\u001B[38;5;241m=\u001B[39m\u001B[38;5;28mself\u001B[39m\u001B[38;5;241m.\u001B[39m_n_jobs):\n\u001B[1;32m--> 263\u001B[0m         \u001B[38;5;28;01mreturn\u001B[39;00m [func(\u001B[38;5;241m*\u001B[39margs, \u001B[38;5;241m*\u001B[39m\u001B[38;5;241m*\u001B[39mkwargs)\n\u001B[0;32m    264\u001B[0m                 \u001B[38;5;28;01mfor\u001B[39;00m func, args, kwargs \u001B[38;5;129;01min\u001B[39;00m \u001B[38;5;28mself\u001B[39m\u001B[38;5;241m.\u001B[39mitems]\n",
      "File \u001B[1;32m~\\.conda\\envs\\Classificacao_MHI_BIC\\Lib\\site-packages\\sklearn\\utils\\parallel.py:123\u001B[0m, in \u001B[0;36m_FuncWrapper.__call__\u001B[1;34m(self, *args, **kwargs)\u001B[0m\n\u001B[0;32m    121\u001B[0m     config \u001B[38;5;241m=\u001B[39m {}\n\u001B[0;32m    122\u001B[0m \u001B[38;5;28;01mwith\u001B[39;00m config_context(\u001B[38;5;241m*\u001B[39m\u001B[38;5;241m*\u001B[39mconfig):\n\u001B[1;32m--> 123\u001B[0m     \u001B[38;5;28;01mreturn\u001B[39;00m \u001B[38;5;28mself\u001B[39m\u001B[38;5;241m.\u001B[39mfunction(\u001B[38;5;241m*\u001B[39margs, \u001B[38;5;241m*\u001B[39m\u001B[38;5;241m*\u001B[39mkwargs)\n",
      "File \u001B[1;32m~\\.conda\\envs\\Classificacao_MHI_BIC\\Lib\\site-packages\\sklearn\\model_selection\\_validation.py:686\u001B[0m, in \u001B[0;36m_fit_and_score\u001B[1;34m(estimator, X, y, scorer, train, test, verbose, parameters, fit_params, return_train_score, return_parameters, return_n_test_samples, return_times, return_estimator, split_progress, candidate_progress, error_score)\u001B[0m\n\u001B[0;32m    684\u001B[0m         estimator\u001B[38;5;241m.\u001B[39mfit(X_train, \u001B[38;5;241m*\u001B[39m\u001B[38;5;241m*\u001B[39mfit_params)\n\u001B[0;32m    685\u001B[0m     \u001B[38;5;28;01melse\u001B[39;00m:\n\u001B[1;32m--> 686\u001B[0m         estimator\u001B[38;5;241m.\u001B[39mfit(X_train, y_train, \u001B[38;5;241m*\u001B[39m\u001B[38;5;241m*\u001B[39mfit_params)\n\u001B[0;32m    688\u001B[0m \u001B[38;5;28;01mexcept\u001B[39;00m \u001B[38;5;167;01mException\u001B[39;00m:\n\u001B[0;32m    689\u001B[0m     \u001B[38;5;66;03m# Note fit time as time until error\u001B[39;00m\n\u001B[0;32m    690\u001B[0m     fit_time \u001B[38;5;241m=\u001B[39m time\u001B[38;5;241m.\u001B[39mtime() \u001B[38;5;241m-\u001B[39m start_time\n",
      "File \u001B[1;32m~\\.conda\\envs\\Classificacao_MHI_BIC\\Lib\\site-packages\\sklearn\\ensemble\\_forest.py:473\u001B[0m, in \u001B[0;36mBaseForest.fit\u001B[1;34m(self, X, y, sample_weight)\u001B[0m\n\u001B[0;32m    462\u001B[0m trees \u001B[38;5;241m=\u001B[39m [\n\u001B[0;32m    463\u001B[0m     \u001B[38;5;28mself\u001B[39m\u001B[38;5;241m.\u001B[39m_make_estimator(append\u001B[38;5;241m=\u001B[39m\u001B[38;5;28;01mFalse\u001B[39;00m, random_state\u001B[38;5;241m=\u001B[39mrandom_state)\n\u001B[0;32m    464\u001B[0m     \u001B[38;5;28;01mfor\u001B[39;00m i \u001B[38;5;129;01min\u001B[39;00m \u001B[38;5;28mrange\u001B[39m(n_more_estimators)\n\u001B[0;32m    465\u001B[0m ]\n\u001B[0;32m    467\u001B[0m \u001B[38;5;66;03m# Parallel loop: we prefer the threading backend as the Cython code\u001B[39;00m\n\u001B[0;32m    468\u001B[0m \u001B[38;5;66;03m# for fitting the trees is internally releasing the Python GIL\u001B[39;00m\n\u001B[0;32m    469\u001B[0m \u001B[38;5;66;03m# making threading more efficient than multiprocessing in\u001B[39;00m\n\u001B[0;32m    470\u001B[0m \u001B[38;5;66;03m# that case. However, for joblib 0.12+ we respect any\u001B[39;00m\n\u001B[0;32m    471\u001B[0m \u001B[38;5;66;03m# parallel_backend contexts set at a higher level,\u001B[39;00m\n\u001B[0;32m    472\u001B[0m \u001B[38;5;66;03m# since correctness does not rely on using threads.\u001B[39;00m\n\u001B[1;32m--> 473\u001B[0m trees \u001B[38;5;241m=\u001B[39m Parallel(\n\u001B[0;32m    474\u001B[0m     n_jobs\u001B[38;5;241m=\u001B[39m\u001B[38;5;28mself\u001B[39m\u001B[38;5;241m.\u001B[39mn_jobs,\n\u001B[0;32m    475\u001B[0m     verbose\u001B[38;5;241m=\u001B[39m\u001B[38;5;28mself\u001B[39m\u001B[38;5;241m.\u001B[39mverbose,\n\u001B[0;32m    476\u001B[0m     prefer\u001B[38;5;241m=\u001B[39m\u001B[38;5;124m\"\u001B[39m\u001B[38;5;124mthreads\u001B[39m\u001B[38;5;124m\"\u001B[39m,\n\u001B[0;32m    477\u001B[0m )(\n\u001B[0;32m    478\u001B[0m     delayed(_parallel_build_trees)(\n\u001B[0;32m    479\u001B[0m         t,\n\u001B[0;32m    480\u001B[0m         \u001B[38;5;28mself\u001B[39m\u001B[38;5;241m.\u001B[39mbootstrap,\n\u001B[0;32m    481\u001B[0m         X,\n\u001B[0;32m    482\u001B[0m         y,\n\u001B[0;32m    483\u001B[0m         sample_weight,\n\u001B[0;32m    484\u001B[0m         i,\n\u001B[0;32m    485\u001B[0m         \u001B[38;5;28mlen\u001B[39m(trees),\n\u001B[0;32m    486\u001B[0m         verbose\u001B[38;5;241m=\u001B[39m\u001B[38;5;28mself\u001B[39m\u001B[38;5;241m.\u001B[39mverbose,\n\u001B[0;32m    487\u001B[0m         class_weight\u001B[38;5;241m=\u001B[39m\u001B[38;5;28mself\u001B[39m\u001B[38;5;241m.\u001B[39mclass_weight,\n\u001B[0;32m    488\u001B[0m         n_samples_bootstrap\u001B[38;5;241m=\u001B[39mn_samples_bootstrap,\n\u001B[0;32m    489\u001B[0m     )\n\u001B[0;32m    490\u001B[0m     \u001B[38;5;28;01mfor\u001B[39;00m i, t \u001B[38;5;129;01min\u001B[39;00m \u001B[38;5;28menumerate\u001B[39m(trees)\n\u001B[0;32m    491\u001B[0m )\n\u001B[0;32m    493\u001B[0m \u001B[38;5;66;03m# Collect newly grown trees\u001B[39;00m\n\u001B[0;32m    494\u001B[0m \u001B[38;5;28mself\u001B[39m\u001B[38;5;241m.\u001B[39mestimators_\u001B[38;5;241m.\u001B[39mextend(trees)\n",
      "File \u001B[1;32m~\\.conda\\envs\\Classificacao_MHI_BIC\\Lib\\site-packages\\sklearn\\utils\\parallel.py:63\u001B[0m, in \u001B[0;36mParallel.__call__\u001B[1;34m(self, iterable)\u001B[0m\n\u001B[0;32m     58\u001B[0m config \u001B[38;5;241m=\u001B[39m get_config()\n\u001B[0;32m     59\u001B[0m iterable_with_config \u001B[38;5;241m=\u001B[39m (\n\u001B[0;32m     60\u001B[0m     (_with_config(delayed_func, config), args, kwargs)\n\u001B[0;32m     61\u001B[0m     \u001B[38;5;28;01mfor\u001B[39;00m delayed_func, args, kwargs \u001B[38;5;129;01min\u001B[39;00m iterable\n\u001B[0;32m     62\u001B[0m )\n\u001B[1;32m---> 63\u001B[0m \u001B[38;5;28;01mreturn\u001B[39;00m \u001B[38;5;28msuper\u001B[39m()\u001B[38;5;241m.\u001B[39m\u001B[38;5;21m__call__\u001B[39m(iterable_with_config)\n",
      "File \u001B[1;32m~\\.conda\\envs\\Classificacao_MHI_BIC\\Lib\\site-packages\\joblib\\parallel.py:1051\u001B[0m, in \u001B[0;36mParallel.__call__\u001B[1;34m(self, iterable)\u001B[0m\n\u001B[0;32m   1048\u001B[0m \u001B[38;5;28;01mif\u001B[39;00m \u001B[38;5;28mself\u001B[39m\u001B[38;5;241m.\u001B[39mdispatch_one_batch(iterator):\n\u001B[0;32m   1049\u001B[0m     \u001B[38;5;28mself\u001B[39m\u001B[38;5;241m.\u001B[39m_iterating \u001B[38;5;241m=\u001B[39m \u001B[38;5;28mself\u001B[39m\u001B[38;5;241m.\u001B[39m_original_iterator \u001B[38;5;129;01mis\u001B[39;00m \u001B[38;5;129;01mnot\u001B[39;00m \u001B[38;5;28;01mNone\u001B[39;00m\n\u001B[1;32m-> 1051\u001B[0m \u001B[38;5;28;01mwhile\u001B[39;00m \u001B[38;5;28mself\u001B[39m\u001B[38;5;241m.\u001B[39mdispatch_one_batch(iterator):\n\u001B[0;32m   1052\u001B[0m     \u001B[38;5;28;01mpass\u001B[39;00m\n\u001B[0;32m   1054\u001B[0m \u001B[38;5;28;01mif\u001B[39;00m pre_dispatch \u001B[38;5;241m==\u001B[39m \u001B[38;5;124m\"\u001B[39m\u001B[38;5;124mall\u001B[39m\u001B[38;5;124m\"\u001B[39m \u001B[38;5;129;01mor\u001B[39;00m n_jobs \u001B[38;5;241m==\u001B[39m \u001B[38;5;241m1\u001B[39m:\n\u001B[0;32m   1055\u001B[0m     \u001B[38;5;66;03m# The iterable was consumed all at once by the above for loop.\u001B[39;00m\n\u001B[0;32m   1056\u001B[0m     \u001B[38;5;66;03m# No need to wait for async callbacks to trigger to\u001B[39;00m\n\u001B[0;32m   1057\u001B[0m     \u001B[38;5;66;03m# consumption.\u001B[39;00m\n",
      "File \u001B[1;32m~\\.conda\\envs\\Classificacao_MHI_BIC\\Lib\\site-packages\\joblib\\parallel.py:864\u001B[0m, in \u001B[0;36mParallel.dispatch_one_batch\u001B[1;34m(self, iterator)\u001B[0m\n\u001B[0;32m    862\u001B[0m     \u001B[38;5;28;01mreturn\u001B[39;00m \u001B[38;5;28;01mFalse\u001B[39;00m\n\u001B[0;32m    863\u001B[0m \u001B[38;5;28;01melse\u001B[39;00m:\n\u001B[1;32m--> 864\u001B[0m     \u001B[38;5;28mself\u001B[39m\u001B[38;5;241m.\u001B[39m_dispatch(tasks)\n\u001B[0;32m    865\u001B[0m     \u001B[38;5;28;01mreturn\u001B[39;00m \u001B[38;5;28;01mTrue\u001B[39;00m\n",
      "File \u001B[1;32m~\\.conda\\envs\\Classificacao_MHI_BIC\\Lib\\site-packages\\joblib\\parallel.py:782\u001B[0m, in \u001B[0;36mParallel._dispatch\u001B[1;34m(self, batch)\u001B[0m\n\u001B[0;32m    780\u001B[0m \u001B[38;5;28;01mwith\u001B[39;00m \u001B[38;5;28mself\u001B[39m\u001B[38;5;241m.\u001B[39m_lock:\n\u001B[0;32m    781\u001B[0m     job_idx \u001B[38;5;241m=\u001B[39m \u001B[38;5;28mlen\u001B[39m(\u001B[38;5;28mself\u001B[39m\u001B[38;5;241m.\u001B[39m_jobs)\n\u001B[1;32m--> 782\u001B[0m     job \u001B[38;5;241m=\u001B[39m \u001B[38;5;28mself\u001B[39m\u001B[38;5;241m.\u001B[39m_backend\u001B[38;5;241m.\u001B[39mapply_async(batch, callback\u001B[38;5;241m=\u001B[39mcb)\n\u001B[0;32m    783\u001B[0m     \u001B[38;5;66;03m# A job can complete so quickly than its callback is\u001B[39;00m\n\u001B[0;32m    784\u001B[0m     \u001B[38;5;66;03m# called before we get here, causing self._jobs to\u001B[39;00m\n\u001B[0;32m    785\u001B[0m     \u001B[38;5;66;03m# grow. To ensure correct results ordering, .insert is\u001B[39;00m\n\u001B[0;32m    786\u001B[0m     \u001B[38;5;66;03m# used (rather than .append) in the following line\u001B[39;00m\n\u001B[0;32m    787\u001B[0m     \u001B[38;5;28mself\u001B[39m\u001B[38;5;241m.\u001B[39m_jobs\u001B[38;5;241m.\u001B[39minsert(job_idx, job)\n",
      "File \u001B[1;32m~\\.conda\\envs\\Classificacao_MHI_BIC\\Lib\\site-packages\\joblib\\_parallel_backends.py:208\u001B[0m, in \u001B[0;36mSequentialBackend.apply_async\u001B[1;34m(self, func, callback)\u001B[0m\n\u001B[0;32m    206\u001B[0m \u001B[38;5;28;01mdef\u001B[39;00m \u001B[38;5;21mapply_async\u001B[39m(\u001B[38;5;28mself\u001B[39m, func, callback\u001B[38;5;241m=\u001B[39m\u001B[38;5;28;01mNone\u001B[39;00m):\n\u001B[0;32m    207\u001B[0m     \u001B[38;5;124;03m\"\"\"Schedule a func to be run\"\"\"\u001B[39;00m\n\u001B[1;32m--> 208\u001B[0m     result \u001B[38;5;241m=\u001B[39m ImmediateResult(func)\n\u001B[0;32m    209\u001B[0m     \u001B[38;5;28;01mif\u001B[39;00m callback:\n\u001B[0;32m    210\u001B[0m         callback(result)\n",
      "File \u001B[1;32m~\\.conda\\envs\\Classificacao_MHI_BIC\\Lib\\site-packages\\joblib\\_parallel_backends.py:572\u001B[0m, in \u001B[0;36mImmediateResult.__init__\u001B[1;34m(self, batch)\u001B[0m\n\u001B[0;32m    569\u001B[0m \u001B[38;5;28;01mdef\u001B[39;00m \u001B[38;5;21m__init__\u001B[39m(\u001B[38;5;28mself\u001B[39m, batch):\n\u001B[0;32m    570\u001B[0m     \u001B[38;5;66;03m# Don't delay the application, to avoid keeping the input\u001B[39;00m\n\u001B[0;32m    571\u001B[0m     \u001B[38;5;66;03m# arguments in memory\u001B[39;00m\n\u001B[1;32m--> 572\u001B[0m     \u001B[38;5;28mself\u001B[39m\u001B[38;5;241m.\u001B[39mresults \u001B[38;5;241m=\u001B[39m batch()\n",
      "File \u001B[1;32m~\\.conda\\envs\\Classificacao_MHI_BIC\\Lib\\site-packages\\joblib\\parallel.py:263\u001B[0m, in \u001B[0;36mBatchedCalls.__call__\u001B[1;34m(self)\u001B[0m\n\u001B[0;32m    259\u001B[0m \u001B[38;5;28;01mdef\u001B[39;00m \u001B[38;5;21m__call__\u001B[39m(\u001B[38;5;28mself\u001B[39m):\n\u001B[0;32m    260\u001B[0m     \u001B[38;5;66;03m# Set the default nested backend to self._backend but do not set the\u001B[39;00m\n\u001B[0;32m    261\u001B[0m     \u001B[38;5;66;03m# change the default number of processes to -1\u001B[39;00m\n\u001B[0;32m    262\u001B[0m     \u001B[38;5;28;01mwith\u001B[39;00m parallel_backend(\u001B[38;5;28mself\u001B[39m\u001B[38;5;241m.\u001B[39m_backend, n_jobs\u001B[38;5;241m=\u001B[39m\u001B[38;5;28mself\u001B[39m\u001B[38;5;241m.\u001B[39m_n_jobs):\n\u001B[1;32m--> 263\u001B[0m         \u001B[38;5;28;01mreturn\u001B[39;00m [func(\u001B[38;5;241m*\u001B[39margs, \u001B[38;5;241m*\u001B[39m\u001B[38;5;241m*\u001B[39mkwargs)\n\u001B[0;32m    264\u001B[0m                 \u001B[38;5;28;01mfor\u001B[39;00m func, args, kwargs \u001B[38;5;129;01min\u001B[39;00m \u001B[38;5;28mself\u001B[39m\u001B[38;5;241m.\u001B[39mitems]\n",
      "File \u001B[1;32m~\\.conda\\envs\\Classificacao_MHI_BIC\\Lib\\site-packages\\joblib\\parallel.py:263\u001B[0m, in \u001B[0;36m<listcomp>\u001B[1;34m(.0)\u001B[0m\n\u001B[0;32m    259\u001B[0m \u001B[38;5;28;01mdef\u001B[39;00m \u001B[38;5;21m__call__\u001B[39m(\u001B[38;5;28mself\u001B[39m):\n\u001B[0;32m    260\u001B[0m     \u001B[38;5;66;03m# Set the default nested backend to self._backend but do not set the\u001B[39;00m\n\u001B[0;32m    261\u001B[0m     \u001B[38;5;66;03m# change the default number of processes to -1\u001B[39;00m\n\u001B[0;32m    262\u001B[0m     \u001B[38;5;28;01mwith\u001B[39;00m parallel_backend(\u001B[38;5;28mself\u001B[39m\u001B[38;5;241m.\u001B[39m_backend, n_jobs\u001B[38;5;241m=\u001B[39m\u001B[38;5;28mself\u001B[39m\u001B[38;5;241m.\u001B[39m_n_jobs):\n\u001B[1;32m--> 263\u001B[0m         \u001B[38;5;28;01mreturn\u001B[39;00m [func(\u001B[38;5;241m*\u001B[39margs, \u001B[38;5;241m*\u001B[39m\u001B[38;5;241m*\u001B[39mkwargs)\n\u001B[0;32m    264\u001B[0m                 \u001B[38;5;28;01mfor\u001B[39;00m func, args, kwargs \u001B[38;5;129;01min\u001B[39;00m \u001B[38;5;28mself\u001B[39m\u001B[38;5;241m.\u001B[39mitems]\n",
      "File \u001B[1;32m~\\.conda\\envs\\Classificacao_MHI_BIC\\Lib\\site-packages\\sklearn\\utils\\parallel.py:123\u001B[0m, in \u001B[0;36m_FuncWrapper.__call__\u001B[1;34m(self, *args, **kwargs)\u001B[0m\n\u001B[0;32m    121\u001B[0m     config \u001B[38;5;241m=\u001B[39m {}\n\u001B[0;32m    122\u001B[0m \u001B[38;5;28;01mwith\u001B[39;00m config_context(\u001B[38;5;241m*\u001B[39m\u001B[38;5;241m*\u001B[39mconfig):\n\u001B[1;32m--> 123\u001B[0m     \u001B[38;5;28;01mreturn\u001B[39;00m \u001B[38;5;28mself\u001B[39m\u001B[38;5;241m.\u001B[39mfunction(\u001B[38;5;241m*\u001B[39margs, \u001B[38;5;241m*\u001B[39m\u001B[38;5;241m*\u001B[39mkwargs)\n",
      "File \u001B[1;32m~\\.conda\\envs\\Classificacao_MHI_BIC\\Lib\\site-packages\\sklearn\\ensemble\\_forest.py:184\u001B[0m, in \u001B[0;36m_parallel_build_trees\u001B[1;34m(tree, bootstrap, X, y, sample_weight, tree_idx, n_trees, verbose, class_weight, n_samples_bootstrap)\u001B[0m\n\u001B[0;32m    181\u001B[0m     \u001B[38;5;28;01melif\u001B[39;00m class_weight \u001B[38;5;241m==\u001B[39m \u001B[38;5;124m\"\u001B[39m\u001B[38;5;124mbalanced_subsample\u001B[39m\u001B[38;5;124m\"\u001B[39m:\n\u001B[0;32m    182\u001B[0m         curr_sample_weight \u001B[38;5;241m*\u001B[39m\u001B[38;5;241m=\u001B[39m compute_sample_weight(\u001B[38;5;124m\"\u001B[39m\u001B[38;5;124mbalanced\u001B[39m\u001B[38;5;124m\"\u001B[39m, y, indices\u001B[38;5;241m=\u001B[39mindices)\n\u001B[1;32m--> 184\u001B[0m     tree\u001B[38;5;241m.\u001B[39mfit(X, y, sample_weight\u001B[38;5;241m=\u001B[39mcurr_sample_weight, check_input\u001B[38;5;241m=\u001B[39m\u001B[38;5;28;01mFalse\u001B[39;00m)\n\u001B[0;32m    185\u001B[0m \u001B[38;5;28;01melse\u001B[39;00m:\n\u001B[0;32m    186\u001B[0m     tree\u001B[38;5;241m.\u001B[39mfit(X, y, sample_weight\u001B[38;5;241m=\u001B[39msample_weight, check_input\u001B[38;5;241m=\u001B[39m\u001B[38;5;28;01mFalse\u001B[39;00m)\n",
      "File \u001B[1;32m~\\.conda\\envs\\Classificacao_MHI_BIC\\Lib\\site-packages\\sklearn\\tree\\_classes.py:889\u001B[0m, in \u001B[0;36mDecisionTreeClassifier.fit\u001B[1;34m(self, X, y, sample_weight, check_input)\u001B[0m\n\u001B[0;32m    859\u001B[0m \u001B[38;5;28;01mdef\u001B[39;00m \u001B[38;5;21mfit\u001B[39m(\u001B[38;5;28mself\u001B[39m, X, y, sample_weight\u001B[38;5;241m=\u001B[39m\u001B[38;5;28;01mNone\u001B[39;00m, check_input\u001B[38;5;241m=\u001B[39m\u001B[38;5;28;01mTrue\u001B[39;00m):\n\u001B[0;32m    860\u001B[0m     \u001B[38;5;124;03m\"\"\"Build a decision tree classifier from the training set (X, y).\u001B[39;00m\n\u001B[0;32m    861\u001B[0m \n\u001B[0;32m    862\u001B[0m \u001B[38;5;124;03m    Parameters\u001B[39;00m\n\u001B[1;32m   (...)\u001B[0m\n\u001B[0;32m    886\u001B[0m \u001B[38;5;124;03m        Fitted estimator.\u001B[39;00m\n\u001B[0;32m    887\u001B[0m \u001B[38;5;124;03m    \"\"\"\u001B[39;00m\n\u001B[1;32m--> 889\u001B[0m     \u001B[38;5;28msuper\u001B[39m()\u001B[38;5;241m.\u001B[39mfit(\n\u001B[0;32m    890\u001B[0m         X,\n\u001B[0;32m    891\u001B[0m         y,\n\u001B[0;32m    892\u001B[0m         sample_weight\u001B[38;5;241m=\u001B[39msample_weight,\n\u001B[0;32m    893\u001B[0m         check_input\u001B[38;5;241m=\u001B[39mcheck_input,\n\u001B[0;32m    894\u001B[0m     )\n\u001B[0;32m    895\u001B[0m     \u001B[38;5;28;01mreturn\u001B[39;00m \u001B[38;5;28mself\u001B[39m\n",
      "File \u001B[1;32m~\\.conda\\envs\\Classificacao_MHI_BIC\\Lib\\site-packages\\sklearn\\tree\\_classes.py:224\u001B[0m, in \u001B[0;36mBaseDecisionTree.fit\u001B[1;34m(self, X, y, sample_weight, check_input)\u001B[0m\n\u001B[0;32m    221\u001B[0m \u001B[38;5;28mself\u001B[39m\u001B[38;5;241m.\u001B[39mn_outputs_ \u001B[38;5;241m=\u001B[39m y\u001B[38;5;241m.\u001B[39mshape[\u001B[38;5;241m1\u001B[39m]\n\u001B[0;32m    223\u001B[0m \u001B[38;5;28;01mif\u001B[39;00m is_classification:\n\u001B[1;32m--> 224\u001B[0m     check_classification_targets(y)\n\u001B[0;32m    225\u001B[0m     y \u001B[38;5;241m=\u001B[39m np\u001B[38;5;241m.\u001B[39mcopy(y)\n\u001B[0;32m    227\u001B[0m     \u001B[38;5;28mself\u001B[39m\u001B[38;5;241m.\u001B[39mclasses_ \u001B[38;5;241m=\u001B[39m []\n",
      "File \u001B[1;32m~\\.conda\\envs\\Classificacao_MHI_BIC\\Lib\\site-packages\\sklearn\\utils\\multiclass.py:210\u001B[0m, in \u001B[0;36mcheck_classification_targets\u001B[1;34m(y)\u001B[0m\n\u001B[0;32m    198\u001B[0m \u001B[38;5;28;01mdef\u001B[39;00m \u001B[38;5;21mcheck_classification_targets\u001B[39m(y):\n\u001B[0;32m    199\u001B[0m     \u001B[38;5;124;03m\"\"\"Ensure that target y is of a non-regression type.\u001B[39;00m\n\u001B[0;32m    200\u001B[0m \n\u001B[0;32m    201\u001B[0m \u001B[38;5;124;03m    Only the following target types (as defined in type_of_target) are allowed:\u001B[39;00m\n\u001B[1;32m   (...)\u001B[0m\n\u001B[0;32m    208\u001B[0m \u001B[38;5;124;03m        Target values.\u001B[39;00m\n\u001B[0;32m    209\u001B[0m \u001B[38;5;124;03m    \"\"\"\u001B[39;00m\n\u001B[1;32m--> 210\u001B[0m     y_type \u001B[38;5;241m=\u001B[39m type_of_target(y, input_name\u001B[38;5;241m=\u001B[39m\u001B[38;5;124m\"\u001B[39m\u001B[38;5;124my\u001B[39m\u001B[38;5;124m\"\u001B[39m)\n\u001B[0;32m    211\u001B[0m     \u001B[38;5;28;01mif\u001B[39;00m y_type \u001B[38;5;129;01mnot\u001B[39;00m \u001B[38;5;129;01min\u001B[39;00m [\n\u001B[0;32m    212\u001B[0m         \u001B[38;5;124m\"\u001B[39m\u001B[38;5;124mbinary\u001B[39m\u001B[38;5;124m\"\u001B[39m,\n\u001B[0;32m    213\u001B[0m         \u001B[38;5;124m\"\u001B[39m\u001B[38;5;124mmulticlass\u001B[39m\u001B[38;5;124m\"\u001B[39m,\n\u001B[1;32m   (...)\u001B[0m\n\u001B[0;32m    216\u001B[0m         \u001B[38;5;124m\"\u001B[39m\u001B[38;5;124mmultilabel-sequences\u001B[39m\u001B[38;5;124m\"\u001B[39m,\n\u001B[0;32m    217\u001B[0m     ]:\n\u001B[0;32m    218\u001B[0m         \u001B[38;5;28;01mraise\u001B[39;00m \u001B[38;5;167;01mValueError\u001B[39;00m(\u001B[38;5;124m\"\u001B[39m\u001B[38;5;124mUnknown label type: \u001B[39m\u001B[38;5;132;01m%r\u001B[39;00m\u001B[38;5;124m\"\u001B[39m \u001B[38;5;241m%\u001B[39m y_type)\n",
      "File \u001B[1;32m~\\.conda\\envs\\Classificacao_MHI_BIC\\Lib\\site-packages\\sklearn\\utils\\multiclass.py:386\u001B[0m, in \u001B[0;36mtype_of_target\u001B[1;34m(y, input_name)\u001B[0m\n\u001B[0;32m    384\u001B[0m \u001B[38;5;66;03m# Check multiclass\u001B[39;00m\n\u001B[0;32m    385\u001B[0m first_row \u001B[38;5;241m=\u001B[39m y[\u001B[38;5;241m0\u001B[39m] \u001B[38;5;28;01mif\u001B[39;00m \u001B[38;5;129;01mnot\u001B[39;00m issparse(y) \u001B[38;5;28;01melse\u001B[39;00m y\u001B[38;5;241m.\u001B[39mgetrow(\u001B[38;5;241m0\u001B[39m)\u001B[38;5;241m.\u001B[39mdata\n\u001B[1;32m--> 386\u001B[0m \u001B[38;5;28;01mif\u001B[39;00m xp\u001B[38;5;241m.\u001B[39munique_values(y)\u001B[38;5;241m.\u001B[39mshape[\u001B[38;5;241m0\u001B[39m] \u001B[38;5;241m>\u001B[39m \u001B[38;5;241m2\u001B[39m \u001B[38;5;129;01mor\u001B[39;00m (y\u001B[38;5;241m.\u001B[39mndim \u001B[38;5;241m==\u001B[39m \u001B[38;5;241m2\u001B[39m \u001B[38;5;129;01mand\u001B[39;00m \u001B[38;5;28mlen\u001B[39m(first_row) \u001B[38;5;241m>\u001B[39m \u001B[38;5;241m1\u001B[39m):\n\u001B[0;32m    387\u001B[0m     \u001B[38;5;66;03m# [1, 2, 3] or [[1., 2., 3]] or [[1, 2]]\u001B[39;00m\n\u001B[0;32m    388\u001B[0m     \u001B[38;5;28;01mreturn\u001B[39;00m \u001B[38;5;124m\"\u001B[39m\u001B[38;5;124mmulticlass\u001B[39m\u001B[38;5;124m\"\u001B[39m \u001B[38;5;241m+\u001B[39m suffix\n\u001B[0;32m    389\u001B[0m \u001B[38;5;28;01melse\u001B[39;00m:\n",
      "File \u001B[1;32m~\\.conda\\envs\\Classificacao_MHI_BIC\\Lib\\site-packages\\sklearn\\utils\\_array_api.py:84\u001B[0m, in \u001B[0;36m_NumPyApiWrapper.unique_values\u001B[1;34m(self, x)\u001B[0m\n\u001B[0;32m     83\u001B[0m \u001B[38;5;28;01mdef\u001B[39;00m \u001B[38;5;21munique_values\u001B[39m(\u001B[38;5;28mself\u001B[39m, x):\n\u001B[1;32m---> 84\u001B[0m     \u001B[38;5;28;01mreturn\u001B[39;00m numpy\u001B[38;5;241m.\u001B[39munique(x)\n",
      "File \u001B[1;32m<__array_function__ internals>:180\u001B[0m, in \u001B[0;36munique\u001B[1;34m(*args, **kwargs)\u001B[0m\n",
      "File \u001B[1;32m~\\.conda\\envs\\Classificacao_MHI_BIC\\Lib\\site-packages\\numpy\\lib\\arraysetops.py:274\u001B[0m, in \u001B[0;36munique\u001B[1;34m(ar, return_index, return_inverse, return_counts, axis, equal_nan)\u001B[0m\n\u001B[0;32m    272\u001B[0m ar \u001B[38;5;241m=\u001B[39m np\u001B[38;5;241m.\u001B[39masanyarray(ar)\n\u001B[0;32m    273\u001B[0m \u001B[38;5;28;01mif\u001B[39;00m axis \u001B[38;5;129;01mis\u001B[39;00m \u001B[38;5;28;01mNone\u001B[39;00m:\n\u001B[1;32m--> 274\u001B[0m     ret \u001B[38;5;241m=\u001B[39m _unique1d(ar, return_index, return_inverse, return_counts, \n\u001B[0;32m    275\u001B[0m                     equal_nan\u001B[38;5;241m=\u001B[39mequal_nan)\n\u001B[0;32m    276\u001B[0m     \u001B[38;5;28;01mreturn\u001B[39;00m _unpack_tuple(ret)\n\u001B[0;32m    278\u001B[0m \u001B[38;5;66;03m# axis was specified and not None\u001B[39;00m\n",
      "File \u001B[1;32m~\\.conda\\envs\\Classificacao_MHI_BIC\\Lib\\site-packages\\numpy\\lib\\arraysetops.py:336\u001B[0m, in \u001B[0;36m_unique1d\u001B[1;34m(ar, return_index, return_inverse, return_counts, equal_nan)\u001B[0m\n\u001B[0;32m    334\u001B[0m     aux \u001B[38;5;241m=\u001B[39m ar[perm]\n\u001B[0;32m    335\u001B[0m \u001B[38;5;28;01melse\u001B[39;00m:\n\u001B[1;32m--> 336\u001B[0m     ar\u001B[38;5;241m.\u001B[39msort()\n\u001B[0;32m    337\u001B[0m     aux \u001B[38;5;241m=\u001B[39m ar\n\u001B[0;32m    338\u001B[0m mask \u001B[38;5;241m=\u001B[39m np\u001B[38;5;241m.\u001B[39mempty(aux\u001B[38;5;241m.\u001B[39mshape, dtype\u001B[38;5;241m=\u001B[39mnp\u001B[38;5;241m.\u001B[39mbool_)\n",
      "\u001B[1;31mKeyboardInterrupt\u001B[0m: "
     ]
    }
   ],
   "source": [
    "# Chamando função para cada uma das bases\n",
    "print(\"========================== Data 1  =================================\")\n",
    "best_models1, modelo1 = perform_model_tuning(data1, target1, models, param_grids, \"data1\")\n",
    "#print(\"========================== Data 2  =================================\")\n",
    "best_models2, modelo2 = perform_model_tuning(data2, target2, models, param_grids,\"data2\")\n",
    "#print(\"========================== Data 3  =================================\")\n",
    "best_models3, modelo3 = perform_model_tuning(data3, target3, models, param_grids, \"data3\")\n",
    "print(\"========================== Data 4  =================================\")\n",
    "best_models4, modelo4 = perform_model_tuning(data4, target4, models, param_grids, \"data4\")"
   ],
   "metadata": {
    "collapsed": false,
    "ExecuteTime": {
     "end_time": "2023-08-30T00:54:34.494649400Z",
     "start_time": "2023-08-30T00:53:52.149228300Z"
    }
   }
  },
  {
   "cell_type": "markdown",
   "source": [],
   "metadata": {
    "collapsed": false
   }
  },
  {
   "cell_type": "code",
   "execution_count": null,
   "outputs": [],
   "source": [
    "# Pegar o melhor modelo de cada base, usando max, para em seguida aplicar SBFS e SFFS com cross validation\n",
    "# para cada um dos modelos\n",
    "#best_model1 = max(best_models1, key=best_models1.get)\n",
    "#modelo1 = best_models1['Random Forest']\n",
    "\n",
    "#best_model2 = max(best_models2, key=best_models2.get)\n",
    "#modelo2 = best_models2['Random Forest']\n",
    "\n",
    "#best_model3 = max(best_models3, key=best_models3.get)\n",
    "#modelo3 = best_models3['Random Forest']\n",
    "\n",
    "#best_model4 = max(best_models4, key=best_models4.get)\n",
    "#modelo4 = best_models4['Random Forest']\n",
    "\n",
    "print(modelo1)\n",
    "print(modelo2)\n",
    "print(modelo3)\n",
    "print(modelo4)"
   ],
   "metadata": {
    "collapsed": false,
    "ExecuteTime": {
     "end_time": "2023-08-30T00:54:34.496649200Z",
     "start_time": "2023-08-30T00:54:34.494649400Z"
    }
   }
  },
  {
   "cell_type": "code",
   "execution_count": null,
   "outputs": [],
   "source": [
    "# Salvando modelo1 à 4 em pickle\n",
    "import pickle\n",
    "with open('modelo1.pkl', 'wb') as f:\n",
    "    pickle.dump(modelo1, f)\n",
    "with open('modelo2.pkl', 'wb') as f:\n",
    "    pickle.dump(modelo2, f)\n",
    "with open('modelo3.pkl', 'wb') as f:\n",
    "    pickle.dump(modelo3, f)\n",
    "with open('modelo4.pkl', 'wb') as f:\n",
    "    pickle.dump(modelo4, f)"
   ],
   "metadata": {
    "collapsed": false,
    "ExecuteTime": {
     "end_time": "2023-08-30T00:54:34.499651Z",
     "start_time": "2023-08-30T00:54:34.498649200Z"
    }
   }
  },
  {
   "cell_type": "code",
   "execution_count": null,
   "outputs": [],
   "source": [
    "# # Importando modelos pickl\n",
    "# import pickle\n",
    "# with open('modelo1.pkl', 'rb') as file:\n",
    "#     modelo1 = pickle.load(file)\n",
    "#     print(f'Modelo1 = \\n{modelo1}')\n",
    "# with open('modelo2.pkl', 'rb') as file:\n",
    "#     modelo2 = pickle.load(file)\n",
    "#     print(f'Modelo2 = \\n{modelo2}')\n",
    "# with open('modelo3.pkl', 'rb') as file:\n",
    "#     modelo3 = pickle.load(file)\n",
    "#     print(f'Modelo3 = \\n{modelo3}')\n",
    "# with open('modelo4.pkl', 'rb') as file:\n",
    "#     modelo4 = pickle.load(file)\n",
    "#     print(f'Modelo4 = \\n{modelo4}')\n",
    "# with open('modelo5.pkl', 'rb') as file:\n",
    "#     modelo5 = pickle.load(file)\n",
    "#     print(f'Modelo5 = \\n{modelo5}')\n",
    "# with open('modelo6.pkl', 'rb') as file:\n",
    "#     modelo6 = pickle.load(file)\n",
    "#     print(f'Modelo6 = \\n{modelo6}')\n"
   ],
   "metadata": {
    "collapsed": false,
    "ExecuteTime": {
     "start_time": "2023-08-30T00:54:34.501653700Z"
    }
   }
  },
  {
   "cell_type": "code",
   "execution_count": null,
   "outputs": [],
   "source": [
    "#Analisar cross validation para cada um dos modelos\n",
    "print(\"========================== Data 1  =================================\")\n",
    "c1 = cross_val_score(modelo1, data1_re, target1_re , cv=5)\n",
    "print(c1)\n",
    "print(c1.mean())\n",
    "\n",
    "perform_cross_validation(modelo1, data1_re, target1_re, 5, True)"
   ],
   "metadata": {
    "collapsed": false,
    "ExecuteTime": {
     "start_time": "2023-08-30T00:54:34.504649800Z"
    }
   }
  },
  {
   "cell_type": "code",
   "execution_count": null,
   "outputs": [],
   "source": [
    "print(\"========================== Data 2  =================================\")\n",
    "c2 = cross_val_score(modelo2, data2_re, target2_re, cv=5)\n",
    "print(c2)\n",
    "print(c2.mean())\n",
    "\n",
    "perform_cross_validation(modelo2, data2_re, target2_re, 5, True)"
   ],
   "metadata": {
    "collapsed": false,
    "ExecuteTime": {
     "start_time": "2023-08-30T00:54:34.508648400Z"
    }
   }
  },
  {
   "cell_type": "code",
   "execution_count": null,
   "outputs": [],
   "source": [
    "print(\"========================== Data 3  =================================\")\n",
    "c3 = cross_val_score(modelo3, data3_re, target3_re, cv=5)\n",
    "print(c3)\n",
    "print(c3.mean())\n",
    "\n",
    "perform_cross_validation(modelo3, data3_re, target3_re, 5, True)\n"
   ],
   "metadata": {
    "collapsed": false,
    "ExecuteTime": {
     "end_time": "2023-08-30T00:54:34.517652Z",
     "start_time": "2023-08-30T00:54:34.511643Z"
    }
   }
  },
  {
   "cell_type": "code",
   "execution_count": null,
   "outputs": [],
   "source": [
    "print(\"========================== Data 4  =================================\")\n",
    "c4 = cross_val_score(modelo4, data4_re, target4_re, cv=5)\n",
    "print(c4)\n",
    "print(c4.mean())\n",
    "\n",
    "perform_cross_validation(modelo4, data4_re, target4_re, 5, True)"
   ],
   "metadata": {
    "collapsed": false,
    "ExecuteTime": {
     "start_time": "2023-08-30T00:54:34.514653200Z"
    }
   }
  },
  {
   "cell_type": "code",
   "execution_count": null,
   "outputs": [],
   "source": [
    "import matplotlib.pyplot as plt\n",
    "\n",
    "from mlxtend.feature_selection import SequentialFeatureSelector as SFS\n",
    "\n",
    "# Função para aplicar SBFS e SFFS com cross validation e salvar tabela com resultado.\n",
    "def perform_feature_selection(data, target, model, best_model, method, cv):\n",
    "    # Criando o objeto de seleção de features\n",
    "    if method == 'SBFS':\n",
    "        sfs = SFS(model,\n",
    "                  k_features=\"best\",\n",
    "                  forward=False,\n",
    "                  floating=True,\n",
    "                  verbose=2,\n",
    "                  scoring='accuracy',\n",
    "                  cv=cv,\n",
    "                  n_jobs=-1)\n",
    "    elif method == 'SFFS':\n",
    "        sfs = SFS(model,\n",
    "                  k_features=\"best\",\n",
    "                  forward=True,\n",
    "                  floating=True,\n",
    "                  verbose=2,\n",
    "                  scoring='accuracy',\n",
    "                  cv=cv,\n",
    "                  n_jobs=-1)\n",
    "    # Aplicando o método de seleção de features\n",
    "    sfs = sfs.fit(data, target)\n",
    "    # Salvando o resultado em um dataframe\n",
    "    df = pd.DataFrame.from_dict(sfs.get_metric_dict()).T\n",
    "\n",
    "    # Definindo nome do arquivo para salvar as features selecionadas em formato CSV\n",
    "    if os.path.exists(f\"results/{method}_{best_model}.csv\"):\n",
    "        i = 1\n",
    "        while os.path.exists(f\"results/{method}_{best_model}_{i}.csv\"):\n",
    "            i += 1\n",
    "        file_name_csv = f\"results/{method}_{best_model}_{i}.csv\"\n",
    "    else:\n",
    "        file_name_csv = f\"results/{method}_{best_model}.csv\"\n",
    "\n",
    "    # Salvando o dataframe em um arquivo CSV\n",
    "    df.to_csv(file_name_csv, index=False)\n",
    "\n",
    "    # Definindo nome do arquivo para salvar as features selecionadas em formato TXT\n",
    "    if os.path.exists(f\"results/{method}_{best_model}.txt\"):\n",
    "        i = 1\n",
    "        while os.path.exists(f\"results/{method}_{best_model}_{i}.txt\"):\n",
    "            i += 1\n",
    "        file_name_txt = f\"results/{method}_{best_model}_{i}.txt\"\n",
    "    else:\n",
    "        file_name_txt = f\"results/{method}_{best_model}.txt\"\n",
    "\n",
    "    # Salvando as features selecionadas e o score em um arquivo TXT\n",
    "    with open(file_name_txt, 'w') as file:\n",
    "        file.write(f\"Selected Features: {', '.join(sfs.k_feature_names_)}\\n\")\n",
    "        file.write(f\"Score: {sfs.k_score_}\")\n",
    "\n",
    "    # Plotando o desempenho do modelo para cada combinação de atributos\n",
    "    fig, ax = plt.subplots()\n",
    "    ax.plot(range(1, len(df) + 1), df['avg_score'], marker='o')\n",
    "    ax.set_xlabel('Number of Features')\n",
    "    ax.set_ylabel('Average Score')\n",
    "    ax.set_title('Performance of Model with Feature Selection')\n",
    "    plt.xticks(range(1, len(df) + 1))\n",
    "    plt.grid(True)\n",
    "\n",
    "    # Definindo nome do arquivo para salvar o gráfico\n",
    "    if os.path.exists(f\"results/{method}_{best_model}.png\"):\n",
    "        i = 1\n",
    "        while os.path.exists(f\"results/{method}_{best_model}_{i}.png\"):\n",
    "            i += 1\n",
    "        file_name_plot = f\"results/{method}_{best_model}_{i}.png\"\n",
    "    else:\n",
    "        file_name_plot = f\"results/{method}_{best_model}.png\"\n",
    "\n",
    "    # Salvando o gráfico em um arquivo PNG\n",
    "    plt.savefig(file_name_plot)\n",
    "\n",
    "    # Retornando as features selecionadas e o score\n",
    "    return sfs.k_feature_names_, sfs.k_score_"
   ],
   "metadata": {
    "collapsed": false,
    "ExecuteTime": {
     "start_time": "2023-08-30T00:54:34.517652Z"
    }
   }
  },
  {
   "cell_type": "code",
   "execution_count": null,
   "outputs": [],
   "source": [
    "#Função que muda max_features de auto p sqrt se tiver definido para evitar erro de versão\n",
    "def updt_maxfeature(modelo):\n",
    "    try:\n",
    "        if modelo.get_params()['max_features'] == 'auto':\n",
    "            modelo.max_features = 'sqrt'\n",
    "            print(modelo)\n",
    "    except:\n",
    "        pass\n",
    "\n",
    "\n",
    "updt_maxfeature(modelo1)\n",
    "updt_maxfeature(modelo2)\n",
    "updt_maxfeature(modelo3)\n",
    "updt_maxfeature(modelo4)"
   ],
   "metadata": {
    "collapsed": false,
    "ExecuteTime": {
     "start_time": "2023-08-30T00:54:34.519652Z"
    }
   }
  },
  {
   "cell_type": "code",
   "execution_count": null,
   "outputs": [],
   "source": [
    "# Chamando a função de feature selection para cada um dos \"modelos*\"\n",
    "print(\"========================== Data 1  =================================\")\n",
    "slt_sbfs_features1, score1_sbfs = perform_feature_selection(data1, target1, modelo1, \"data1\", 'SBFS', 5)\n",
    "slt_sffs_features1, score1_sffs = perform_feature_selection(data1, target1, modelo1, \"data1\", 'SFFS', 5)\n",
    "print(\"========================== Data 2  =================================\")\n",
    "slt_sbfs_features2, score2_sbfs = perform_feature_selection(data2, target2, modelo2, \"data2\", 'SBFS', 5)\n",
    "slt_sffs_features2, score2_sffs = perform_feature_selection(data2, target2, modelo2,\"data2\", 'SFFS', 5)\n",
    "print(\"========================== Data 3  =================================\")\n",
    "slt_sbfs_features3, score3_sbfs = perform_feature_selection(data3, target3, modelo3, \"data3\", 'SBFS', 5)\n",
    "slt_sffs_features3, score3_sffs = perform_feature_selection(data3, target3, modelo3, \"data3\", 'SFFS', 5)\n",
    "print(\"========================== Data 4  =================================\")\n",
    "slt_sbfs_features4, score4_sbfs = perform_feature_selection(data4, target4, modelo4,\"data4\", 'SBFS', 5)\n",
    "slt_sffs_features4, score4_sffs = perform_feature_selection(data4, target4, modelo4, \"data4\", 'SFFS', 5)"
   ],
   "metadata": {
    "collapsed": false,
    "ExecuteTime": {
     "start_time": "2023-08-30T00:54:34.521648200Z"
    }
   }
  },
  {
   "cell_type": "code",
   "execution_count": null,
   "outputs": [],
   "source": [
    "# Criando um arquivo txt com a feature selecionadas\n",
    "with open(f\"results/SBFS_data1.txt\", \"w\") as f:\n",
    "    f.write(str(slt_sbfs_features1))\n",
    "with open(f\"results/SFFS_data1.txt\", \"w\") as f:\n",
    "    f.write(str(slt_sffs_features1))\n",
    "with open(f\"results/SBFS_data2.txt\", \"w\") as f:\n",
    "    f.write(str(slt_sbfs_features2))\n",
    "with open(f\"results/SFFS_data2.txt\", \"w\") as f:\n",
    "    f.write(str(slt_sffs_features2))\n",
    "with open(f\"results/SBFS_data3.txt\", \"w\") as f:\n",
    "    f.write(str(slt_sbfs_features3))\n",
    "with open(f\"results/SFFS_data3.txt\", \"w\") as f:\n",
    "    f.write(str(slt_sffs_features3))\n",
    "with open(f\"results/SBFS_data4.txt\", \"w\") as f:\n",
    "    f.write(str(slt_sbfs_features4))\n",
    "with open(f\"results/SFFS_data4.txt\", \"w\") as f:\n",
    "    f.write(str(slt_sffs_features4))"
   ],
   "metadata": {
    "collapsed": false,
    "ExecuteTime": {
     "start_time": "2023-08-30T00:54:34.523647800Z"
    }
   }
  },
  {
   "cell_type": "code",
   "execution_count": null,
   "outputs": [],
   "source": [
    "# Testando os modelos com as features selecionadas\n",
    "print(\"========================== Data 1  - SBFS =================================\")\n",
    "perform_cross_validation(modelo1, data1_re.loc[:,slt_sbfs_features1], target1_re, 5, False)\n",
    "\n",
    "print(\"========================== Data 1  - SFFS =================================\")\n",
    "perform_cross_validation(modelo1, data1_re.loc[:,slt_sffs_features1], target1_re, 5, False)\n",
    "\n",
    "print(\"========================== Data 2  - SBFS =================================\")\n",
    "perform_cross_validation(modelo2, data2_re.loc[:,slt_sbfs_features2], target2_re, 5, False)\n",
    "\n",
    "print(\"========================== Data 2  - SFFS =================================\")\n",
    "perform_cross_validation(modelo2, data2_re.loc[:,slt_sffs_features2], target2_re, 5, False)\n",
    "\n",
    "print(\"========================== Data 3  - SBFS =================================\")\n",
    "perform_cross_validation(modelo3, data3_re.loc[:,slt_sbfs_features3], target3_re, 5, False)\n",
    "\n",
    "print(\"========================== Data 3  - SFFS =================================\")\n",
    "perform_cross_validation(modelo3, data3_re.loc[:,slt_sffs_features3], target3_re, 5, False)\n",
    "\n",
    "print(\"========================== Data 4  - SBFS =================================\")\n",
    "perform_cross_validation(modelo4, data4_re.loc[:,slt_sbfs_features4], target4_re, 5, False)\n",
    "\n",
    "print(\"========================== Data 4  - SFFS =================================\")\n",
    "perform_cross_validation(modelo4, data4_re.loc[:,slt_sffs_features4], target4_re, 5, False)"
   ],
   "metadata": {
    "collapsed": false,
    "ExecuteTime": {
     "start_time": "2023-08-30T00:54:34.525649100Z"
    }
   }
  },
  {
   "cell_type": "markdown",
   "source": [],
   "metadata": {
    "collapsed": false
   }
  },
  {
   "cell_type": "code",
   "execution_count": null,
   "outputs": [],
   "source": [
    "\n",
    "#print(\"========================== Data 1  =================================\")\n",
    "#X_train, X_test, y_train, y_test = train_test_split(data1, target1, test_size=0.2)\n",
    "#tpot = TPOTClassifier(verbosity=2, config_dict='TPOT light')\n",
    "#tpot.fit(X_train, y_train)\n",
    "#accuracy = tpot.score(X_test, y_test)\n",
    "#print(f\"Acurácia do melhor modelo encontrado: {accuracy}\")\n",
    "#tpot.export('tpot_best_model1.py')\n",
    "#print(\"========================== Data 2  =================================\")\n",
    "#X_train, X_test, y_train, y_test = train_test_split(data2, target2, test_size=0.2)\n",
    "#tpot2 = TPOTClassifier(verbosity=2, config_dict='TPOT light')\n",
    "#tpot2.fit(X_train, y_train)\n",
    "#accuracy = tpot2.score(X_test, y_test)\n",
    "#print(f\"Acurácia do melhor modelo encontrado: {accuracy}\")\n",
    "##tpot2.export('tpot_best_model2.py')\n",
    "#print(\"========================== Data 3  =================================\")\n",
    "#X_train, X_test, y_train, y_test = train_test_split(data3, target3, test_size=0.2)\n",
    "#tpot3 = TPOTClassifier(verbosity=2, config_dict='TPOT light')\n",
    "#tpot3.fit(X_train, y_train)\n",
    "#accuracy = tpot3.score(X_test, y_test)\n",
    "#print(f\"Acurácia do melhor modelo encontrado: {accuracy}\")\n",
    "#tpot3.export('tpot_best_model3.py')\n",
    "#print(\"========================== Data 4  =================================\")\n",
    "#X_train, X_test, y_train, y_test = train_test_split(data4, target4, test_size=0.2)\n",
    "#$tpot4 = TPOTClassifier(verbosity=2,config_dict='TPOT light')\n",
    "#tpot4.fit(X_train, y_train)\n",
    "#accuracy = tpot4.score(X_test, y_test)\n",
    "#print(f\"Acurácia do melhor modelo encontrado: {accuracy}\")\n",
    "#tpot4.export('tpot_best_model4.py')"
   ],
   "metadata": {
    "collapsed": false,
    "ExecuteTime": {
     "start_time": "2023-08-30T00:54:34.526651200Z"
    }
   }
  }
 ],
 "metadata": {
  "kernelspec": {
   "display_name": "Python 3 (ipykernel)",
   "language": "python",
   "name": "python3"
  },
  "language_info": {
   "codemirror_mode": {
    "name": "ipython",
    "version": 3
   },
   "file_extension": ".py",
   "mimetype": "text/x-python",
   "name": "python",
   "nbconvert_exporter": "python",
   "pygments_lexer": "ipython3",
   "version": "3.11.2"
  }
 },
 "nbformat": 4,
 "nbformat_minor": 1
}
